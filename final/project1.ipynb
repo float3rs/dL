{
 "cells": [
  {
   "cell_type": "code",
   "execution_count": 1,
   "metadata": {},
   "outputs": [],
   "source": [
    "import sys\n",
    "import pandas\n",
    "\n",
    "import numpy\n",
    "\n",
    "from matplotlib import pyplot\n",
    "from matplotlib import dates\n",
    "from matplotlib import ticker\n",
    "\n",
    "from scipy import stats"
   ]
  },
  {
   "cell_type": "code",
   "execution_count": 2,
   "metadata": {},
   "outputs": [],
   "source": [
    "%matplotlib inline"
   ]
  },
  {
   "cell_type": "markdown",
   "metadata": {},
   "source": [
    "# data input\n",
    "[NOAIG](http://www.gein.noa.gr/services/full_catalogue.php)"
   ]
  },
  {
   "cell_type": "code",
   "execution_count": 3,
   "metadata": {},
   "outputs": [],
   "source": [
    "df = pandas.read_csv(\n",
    "    'full_catalogue.php', header=None, skiprows=2, sep='\\s+', \n",
    "    names=['year', 'month', 'day', 'hour', 'minute', 'second', 'latitude', 'longitude', 'depth', 'magnitude']\n",
    ")"
   ]
  },
  {
   "cell_type": "code",
   "execution_count": 4,
   "metadata": {},
   "outputs": [
    {
     "data": {
      "text/html": "<div>\n<style scoped>\n    .dataframe tbody tr th:only-of-type {\n        vertical-align: middle;\n    }\n\n    .dataframe tbody tr th {\n        vertical-align: top;\n    }\n\n    .dataframe thead th {\n        text-align: right;\n    }\n</style>\n<table border=\"1\" class=\"dataframe\">\n  <thead>\n    <tr style=\"text-align: right;\">\n      <th></th>\n      <th>year</th>\n      <th>month</th>\n      <th>day</th>\n      <th>hour</th>\n      <th>minute</th>\n      <th>second</th>\n      <th>latitude</th>\n      <th>longitude</th>\n      <th>depth</th>\n      <th>magnitude</th>\n    </tr>\n  </thead>\n  <tbody>\n    <tr>\n      <th>0</th>\n      <td>1964</td>\n      <td>FEB</td>\n      <td>24</td>\n      <td>23</td>\n      <td>30</td>\n      <td>25.0</td>\n      <td>38.9000</td>\n      <td>23.9000</td>\n      <td>10</td>\n      <td>5.3</td>\n    </tr>\n    <tr>\n      <th>1</th>\n      <td>1964</td>\n      <td>APR</td>\n      <td>11</td>\n      <td>16</td>\n      <td>0</td>\n      <td>0.0</td>\n      <td>39.7500</td>\n      <td>25.2500</td>\n      <td>10</td>\n      <td>5.7</td>\n    </tr>\n    <tr>\n      <th>2</th>\n      <td>1964</td>\n      <td>APR</td>\n      <td>21</td>\n      <td>8</td>\n      <td>14</td>\n      <td>40.0</td>\n      <td>38.5000</td>\n      <td>22.2500</td>\n      <td>10</td>\n      <td>4.5</td>\n    </tr>\n    <tr>\n      <th>3</th>\n      <td>1964</td>\n      <td>APR</td>\n      <td>24</td>\n      <td>3</td>\n      <td>49</td>\n      <td>58.0</td>\n      <td>38.0000</td>\n      <td>21.8000</td>\n      <td>10</td>\n      <td>5.0</td>\n    </tr>\n    <tr>\n      <th>4</th>\n      <td>1964</td>\n      <td>APR</td>\n      <td>29</td>\n      <td>4</td>\n      <td>21</td>\n      <td>0.0</td>\n      <td>39.2500</td>\n      <td>23.7500</td>\n      <td>10</td>\n      <td>5.8</td>\n    </tr>\n    <tr>\n      <th>...</th>\n      <td>...</td>\n      <td>...</td>\n      <td>...</td>\n      <td>...</td>\n      <td>...</td>\n      <td>...</td>\n      <td>...</td>\n      <td>...</td>\n      <td>...</td>\n      <td>...</td>\n    </tr>\n    <tr>\n      <th>313611</th>\n      <td>2021</td>\n      <td>APR</td>\n      <td>11</td>\n      <td>19</td>\n      <td>46</td>\n      <td>24.0</td>\n      <td>39.7495</td>\n      <td>23.4970</td>\n      <td>16</td>\n      <td>2.1</td>\n    </tr>\n    <tr>\n      <th>313612</th>\n      <td>2021</td>\n      <td>APR</td>\n      <td>11</td>\n      <td>21</td>\n      <td>42</td>\n      <td>29.2</td>\n      <td>38.1189</td>\n      <td>23.3313</td>\n      <td>13</td>\n      <td>2.1</td>\n    </tr>\n    <tr>\n      <th>313613</th>\n      <td>2021</td>\n      <td>APR</td>\n      <td>11</td>\n      <td>21</td>\n      <td>59</td>\n      <td>54.8</td>\n      <td>37.6053</td>\n      <td>20.4922</td>\n      <td>18</td>\n      <td>2.0</td>\n    </tr>\n    <tr>\n      <th>313614</th>\n      <td>2021</td>\n      <td>APR</td>\n      <td>11</td>\n      <td>22</td>\n      <td>13</td>\n      <td>39.7</td>\n      <td>39.7774</td>\n      <td>22.0326</td>\n      <td>6</td>\n      <td>1.5</td>\n    </tr>\n    <tr>\n      <th>313615</th>\n      <td>2021</td>\n      <td>APR</td>\n      <td>11</td>\n      <td>23</td>\n      <td>12</td>\n      <td>58.3</td>\n      <td>37.0894</td>\n      <td>22.0399</td>\n      <td>12</td>\n      <td>1.6</td>\n    </tr>\n  </tbody>\n</table>\n<p>313616 rows × 10 columns</p>\n</div>",
      "text/plain": "        year month  day  hour  minute  second  latitude  longitude  depth  \\\n0       1964   FEB   24    23      30    25.0   38.9000    23.9000     10   \n1       1964   APR   11    16       0     0.0   39.7500    25.2500     10   \n2       1964   APR   21     8      14    40.0   38.5000    22.2500     10   \n3       1964   APR   24     3      49    58.0   38.0000    21.8000     10   \n4       1964   APR   29     4      21     0.0   39.2500    23.7500     10   \n...      ...   ...  ...   ...     ...     ...       ...        ...    ...   \n313611  2021   APR   11    19      46    24.0   39.7495    23.4970     16   \n313612  2021   APR   11    21      42    29.2   38.1189    23.3313     13   \n313613  2021   APR   11    21      59    54.8   37.6053    20.4922     18   \n313614  2021   APR   11    22      13    39.7   39.7774    22.0326      6   \n313615  2021   APR   11    23      12    58.3   37.0894    22.0399     12   \n\n        magnitude  \n0             5.3  \n1             5.7  \n2             4.5  \n3             5.0  \n4             5.8  \n...           ...  \n313611        2.1  \n313612        2.1  \n313613        2.0  \n313614        1.5  \n313615        1.6  \n\n[313616 rows x 10 columns]"
     },
     "execution_count": 4,
     "metadata": {},
     "output_type": "execute_result"
    }
   ],
   "source": [
    "df"
   ]
  },
  {
   "cell_type": "markdown",
   "metadata": {},
   "source": [
    "## data conversions"
   ]
  },
  {
   "cell_type": "code",
   "execution_count": 5,
   "metadata": {},
   "outputs": [],
   "source": [
    "df.index.name = 'id'"
   ]
  },
  {
   "cell_type": "markdown",
   "metadata": {},
   "source": [
    "### datetime"
   ]
  },
  {
   "cell_type": "markdown",
   "metadata": {},
   "source": [
    "month abbreviations to integers:"
   ]
  },
  {
   "cell_type": "code",
   "execution_count": 6,
   "metadata": {},
   "outputs": [
    {
     "data": {
      "text/plain": "{'': 0,\n 'Jan': 1,\n 'Feb': 2,\n 'Mar': 3,\n 'Apr': 4,\n 'May': 5,\n 'Jun': 6,\n 'Jul': 7,\n 'Aug': 8,\n 'Sep': 9,\n 'Oct': 10,\n 'Nov': 11,\n 'Dec': 12}"
     },
     "execution_count": 6,
     "metadata": {},
     "output_type": "execute_result"
    }
   ],
   "source": [
    "import calendar\n",
    "\n",
    "month_abbr_as_ints = dict((x,y) for (y,x) in enumerate(calendar.month_abbr))\n",
    "month_abbr_as_ints"
   ]
  },
  {
   "cell_type": "code",
   "execution_count": 7,
   "metadata": {},
   "outputs": [],
   "source": [
    "df['month'] = df['month'].str.title()"
   ]
  },
  {
   "cell_type": "code",
   "execution_count": 8,
   "metadata": {},
   "outputs": [
    {
     "data": {
      "text/html": "<div>\n<style scoped>\n    .dataframe tbody tr th:only-of-type {\n        vertical-align: middle;\n    }\n\n    .dataframe tbody tr th {\n        vertical-align: top;\n    }\n\n    .dataframe thead th {\n        text-align: right;\n    }\n</style>\n<table border=\"1\" class=\"dataframe\">\n  <thead>\n    <tr style=\"text-align: right;\">\n      <th></th>\n      <th>year</th>\n      <th>month</th>\n      <th>day</th>\n      <th>hour</th>\n      <th>minute</th>\n      <th>second</th>\n      <th>latitude</th>\n      <th>longitude</th>\n      <th>depth</th>\n      <th>magnitude</th>\n    </tr>\n    <tr>\n      <th>id</th>\n      <th></th>\n      <th></th>\n      <th></th>\n      <th></th>\n      <th></th>\n      <th></th>\n      <th></th>\n      <th></th>\n      <th></th>\n      <th></th>\n    </tr>\n  </thead>\n  <tbody>\n    <tr>\n      <th>0</th>\n      <td>1964</td>\n      <td>Feb</td>\n      <td>24</td>\n      <td>23</td>\n      <td>30</td>\n      <td>25.0</td>\n      <td>38.9000</td>\n      <td>23.9000</td>\n      <td>10</td>\n      <td>5.3</td>\n    </tr>\n    <tr>\n      <th>1</th>\n      <td>1964</td>\n      <td>Apr</td>\n      <td>11</td>\n      <td>16</td>\n      <td>0</td>\n      <td>0.0</td>\n      <td>39.7500</td>\n      <td>25.2500</td>\n      <td>10</td>\n      <td>5.7</td>\n    </tr>\n    <tr>\n      <th>2</th>\n      <td>1964</td>\n      <td>Apr</td>\n      <td>21</td>\n      <td>8</td>\n      <td>14</td>\n      <td>40.0</td>\n      <td>38.5000</td>\n      <td>22.2500</td>\n      <td>10</td>\n      <td>4.5</td>\n    </tr>\n    <tr>\n      <th>3</th>\n      <td>1964</td>\n      <td>Apr</td>\n      <td>24</td>\n      <td>3</td>\n      <td>49</td>\n      <td>58.0</td>\n      <td>38.0000</td>\n      <td>21.8000</td>\n      <td>10</td>\n      <td>5.0</td>\n    </tr>\n    <tr>\n      <th>4</th>\n      <td>1964</td>\n      <td>Apr</td>\n      <td>29</td>\n      <td>4</td>\n      <td>21</td>\n      <td>0.0</td>\n      <td>39.2500</td>\n      <td>23.7500</td>\n      <td>10</td>\n      <td>5.8</td>\n    </tr>\n    <tr>\n      <th>...</th>\n      <td>...</td>\n      <td>...</td>\n      <td>...</td>\n      <td>...</td>\n      <td>...</td>\n      <td>...</td>\n      <td>...</td>\n      <td>...</td>\n      <td>...</td>\n      <td>...</td>\n    </tr>\n    <tr>\n      <th>313611</th>\n      <td>2021</td>\n      <td>Apr</td>\n      <td>11</td>\n      <td>19</td>\n      <td>46</td>\n      <td>24.0</td>\n      <td>39.7495</td>\n      <td>23.4970</td>\n      <td>16</td>\n      <td>2.1</td>\n    </tr>\n    <tr>\n      <th>313612</th>\n      <td>2021</td>\n      <td>Apr</td>\n      <td>11</td>\n      <td>21</td>\n      <td>42</td>\n      <td>29.2</td>\n      <td>38.1189</td>\n      <td>23.3313</td>\n      <td>13</td>\n      <td>2.1</td>\n    </tr>\n    <tr>\n      <th>313613</th>\n      <td>2021</td>\n      <td>Apr</td>\n      <td>11</td>\n      <td>21</td>\n      <td>59</td>\n      <td>54.8</td>\n      <td>37.6053</td>\n      <td>20.4922</td>\n      <td>18</td>\n      <td>2.0</td>\n    </tr>\n    <tr>\n      <th>313614</th>\n      <td>2021</td>\n      <td>Apr</td>\n      <td>11</td>\n      <td>22</td>\n      <td>13</td>\n      <td>39.7</td>\n      <td>39.7774</td>\n      <td>22.0326</td>\n      <td>6</td>\n      <td>1.5</td>\n    </tr>\n    <tr>\n      <th>313615</th>\n      <td>2021</td>\n      <td>Apr</td>\n      <td>11</td>\n      <td>23</td>\n      <td>12</td>\n      <td>58.3</td>\n      <td>37.0894</td>\n      <td>22.0399</td>\n      <td>12</td>\n      <td>1.6</td>\n    </tr>\n  </tbody>\n</table>\n<p>313616 rows × 10 columns</p>\n</div>",
      "text/plain": "        year month  day  hour  minute  second  latitude  longitude  depth  \\\nid                                                                          \n0       1964   Feb   24    23      30    25.0   38.9000    23.9000     10   \n1       1964   Apr   11    16       0     0.0   39.7500    25.2500     10   \n2       1964   Apr   21     8      14    40.0   38.5000    22.2500     10   \n3       1964   Apr   24     3      49    58.0   38.0000    21.8000     10   \n4       1964   Apr   29     4      21     0.0   39.2500    23.7500     10   \n...      ...   ...  ...   ...     ...     ...       ...        ...    ...   \n313611  2021   Apr   11    19      46    24.0   39.7495    23.4970     16   \n313612  2021   Apr   11    21      42    29.2   38.1189    23.3313     13   \n313613  2021   Apr   11    21      59    54.8   37.6053    20.4922     18   \n313614  2021   Apr   11    22      13    39.7   39.7774    22.0326      6   \n313615  2021   Apr   11    23      12    58.3   37.0894    22.0399     12   \n\n        magnitude  \nid                 \n0             5.3  \n1             5.7  \n2             4.5  \n3             5.0  \n4             5.8  \n...           ...  \n313611        2.1  \n313612        2.1  \n313613        2.0  \n313614        1.5  \n313615        1.6  \n\n[313616 rows x 10 columns]"
     },
     "execution_count": 8,
     "metadata": {},
     "output_type": "execute_result"
    }
   ],
   "source": [
    "df"
   ]
  },
  {
   "cell_type": "code",
   "execution_count": 9,
   "metadata": {},
   "outputs": [],
   "source": [
    "df['month'].replace(month_abbr_as_ints, inplace=True)"
   ]
  },
  {
   "cell_type": "code",
   "execution_count": 10,
   "metadata": {},
   "outputs": [
    {
     "data": {
      "text/html": "<div>\n<style scoped>\n    .dataframe tbody tr th:only-of-type {\n        vertical-align: middle;\n    }\n\n    .dataframe tbody tr th {\n        vertical-align: top;\n    }\n\n    .dataframe thead th {\n        text-align: right;\n    }\n</style>\n<table border=\"1\" class=\"dataframe\">\n  <thead>\n    <tr style=\"text-align: right;\">\n      <th></th>\n      <th>year</th>\n      <th>month</th>\n      <th>day</th>\n      <th>hour</th>\n      <th>minute</th>\n      <th>second</th>\n      <th>latitude</th>\n      <th>longitude</th>\n      <th>depth</th>\n      <th>magnitude</th>\n    </tr>\n    <tr>\n      <th>id</th>\n      <th></th>\n      <th></th>\n      <th></th>\n      <th></th>\n      <th></th>\n      <th></th>\n      <th></th>\n      <th></th>\n      <th></th>\n      <th></th>\n    </tr>\n  </thead>\n  <tbody>\n    <tr>\n      <th>0</th>\n      <td>1964</td>\n      <td>2</td>\n      <td>24</td>\n      <td>23</td>\n      <td>30</td>\n      <td>25.0</td>\n      <td>38.9000</td>\n      <td>23.9000</td>\n      <td>10</td>\n      <td>5.3</td>\n    </tr>\n    <tr>\n      <th>1</th>\n      <td>1964</td>\n      <td>4</td>\n      <td>11</td>\n      <td>16</td>\n      <td>0</td>\n      <td>0.0</td>\n      <td>39.7500</td>\n      <td>25.2500</td>\n      <td>10</td>\n      <td>5.7</td>\n    </tr>\n    <tr>\n      <th>2</th>\n      <td>1964</td>\n      <td>4</td>\n      <td>21</td>\n      <td>8</td>\n      <td>14</td>\n      <td>40.0</td>\n      <td>38.5000</td>\n      <td>22.2500</td>\n      <td>10</td>\n      <td>4.5</td>\n    </tr>\n    <tr>\n      <th>3</th>\n      <td>1964</td>\n      <td>4</td>\n      <td>24</td>\n      <td>3</td>\n      <td>49</td>\n      <td>58.0</td>\n      <td>38.0000</td>\n      <td>21.8000</td>\n      <td>10</td>\n      <td>5.0</td>\n    </tr>\n    <tr>\n      <th>4</th>\n      <td>1964</td>\n      <td>4</td>\n      <td>29</td>\n      <td>4</td>\n      <td>21</td>\n      <td>0.0</td>\n      <td>39.2500</td>\n      <td>23.7500</td>\n      <td>10</td>\n      <td>5.8</td>\n    </tr>\n    <tr>\n      <th>...</th>\n      <td>...</td>\n      <td>...</td>\n      <td>...</td>\n      <td>...</td>\n      <td>...</td>\n      <td>...</td>\n      <td>...</td>\n      <td>...</td>\n      <td>...</td>\n      <td>...</td>\n    </tr>\n    <tr>\n      <th>313611</th>\n      <td>2021</td>\n      <td>4</td>\n      <td>11</td>\n      <td>19</td>\n      <td>46</td>\n      <td>24.0</td>\n      <td>39.7495</td>\n      <td>23.4970</td>\n      <td>16</td>\n      <td>2.1</td>\n    </tr>\n    <tr>\n      <th>313612</th>\n      <td>2021</td>\n      <td>4</td>\n      <td>11</td>\n      <td>21</td>\n      <td>42</td>\n      <td>29.2</td>\n      <td>38.1189</td>\n      <td>23.3313</td>\n      <td>13</td>\n      <td>2.1</td>\n    </tr>\n    <tr>\n      <th>313613</th>\n      <td>2021</td>\n      <td>4</td>\n      <td>11</td>\n      <td>21</td>\n      <td>59</td>\n      <td>54.8</td>\n      <td>37.6053</td>\n      <td>20.4922</td>\n      <td>18</td>\n      <td>2.0</td>\n    </tr>\n    <tr>\n      <th>313614</th>\n      <td>2021</td>\n      <td>4</td>\n      <td>11</td>\n      <td>22</td>\n      <td>13</td>\n      <td>39.7</td>\n      <td>39.7774</td>\n      <td>22.0326</td>\n      <td>6</td>\n      <td>1.5</td>\n    </tr>\n    <tr>\n      <th>313615</th>\n      <td>2021</td>\n      <td>4</td>\n      <td>11</td>\n      <td>23</td>\n      <td>12</td>\n      <td>58.3</td>\n      <td>37.0894</td>\n      <td>22.0399</td>\n      <td>12</td>\n      <td>1.6</td>\n    </tr>\n  </tbody>\n</table>\n<p>313616 rows × 10 columns</p>\n</div>",
      "text/plain": "        year  month  day  hour  minute  second  latitude  longitude  depth  \\\nid                                                                           \n0       1964      2   24    23      30    25.0   38.9000    23.9000     10   \n1       1964      4   11    16       0     0.0   39.7500    25.2500     10   \n2       1964      4   21     8      14    40.0   38.5000    22.2500     10   \n3       1964      4   24     3      49    58.0   38.0000    21.8000     10   \n4       1964      4   29     4      21     0.0   39.2500    23.7500     10   \n...      ...    ...  ...   ...     ...     ...       ...        ...    ...   \n313611  2021      4   11    19      46    24.0   39.7495    23.4970     16   \n313612  2021      4   11    21      42    29.2   38.1189    23.3313     13   \n313613  2021      4   11    21      59    54.8   37.6053    20.4922     18   \n313614  2021      4   11    22      13    39.7   39.7774    22.0326      6   \n313615  2021      4   11    23      12    58.3   37.0894    22.0399     12   \n\n        magnitude  \nid                 \n0             5.3  \n1             5.7  \n2             4.5  \n3             5.0  \n4             5.8  \n...           ...  \n313611        2.1  \n313612        2.1  \n313613        2.0  \n313614        1.5  \n313615        1.6  \n\n[313616 rows x 10 columns]"
     },
     "execution_count": 10,
     "metadata": {},
     "output_type": "execute_result"
    }
   ],
   "source": [
    "df"
   ]
  },
  {
   "cell_type": "markdown",
   "metadata": {},
   "source": [
    "create datetime strings:"
   ]
  },
  {
   "cell_type": "code",
   "execution_count": 11,
   "metadata": {},
   "outputs": [],
   "source": [
    "df['datetime'] = (\n",
    "    df['year'].astype(str) + '-' + \n",
    "    df['month'].astype(str) + '-' +\n",
    "    df['day'].astype(str) + ' ' +\n",
    "    df['hour'].astype(str) + ':' +\n",
    "    df['minute'].astype(str) + ':' +\n",
    "    df['second'].astype(str)\n",
    ")"
   ]
  },
  {
   "cell_type": "code",
   "execution_count": 12,
   "metadata": {},
   "outputs": [
    {
     "data": {
      "text/html": "<div>\n<style scoped>\n    .dataframe tbody tr th:only-of-type {\n        vertical-align: middle;\n    }\n\n    .dataframe tbody tr th {\n        vertical-align: top;\n    }\n\n    .dataframe thead th {\n        text-align: right;\n    }\n</style>\n<table border=\"1\" class=\"dataframe\">\n  <thead>\n    <tr style=\"text-align: right;\">\n      <th></th>\n      <th>year</th>\n      <th>month</th>\n      <th>day</th>\n      <th>hour</th>\n      <th>minute</th>\n      <th>second</th>\n      <th>latitude</th>\n      <th>longitude</th>\n      <th>depth</th>\n      <th>magnitude</th>\n      <th>datetime</th>\n    </tr>\n    <tr>\n      <th>id</th>\n      <th></th>\n      <th></th>\n      <th></th>\n      <th></th>\n      <th></th>\n      <th></th>\n      <th></th>\n      <th></th>\n      <th></th>\n      <th></th>\n      <th></th>\n    </tr>\n  </thead>\n  <tbody>\n    <tr>\n      <th>0</th>\n      <td>1964</td>\n      <td>2</td>\n      <td>24</td>\n      <td>23</td>\n      <td>30</td>\n      <td>25.0</td>\n      <td>38.9000</td>\n      <td>23.9000</td>\n      <td>10</td>\n      <td>5.3</td>\n      <td>1964-2-24 23:30:25.0</td>\n    </tr>\n    <tr>\n      <th>1</th>\n      <td>1964</td>\n      <td>4</td>\n      <td>11</td>\n      <td>16</td>\n      <td>0</td>\n      <td>0.0</td>\n      <td>39.7500</td>\n      <td>25.2500</td>\n      <td>10</td>\n      <td>5.7</td>\n      <td>1964-4-11 16:0:0.0</td>\n    </tr>\n    <tr>\n      <th>2</th>\n      <td>1964</td>\n      <td>4</td>\n      <td>21</td>\n      <td>8</td>\n      <td>14</td>\n      <td>40.0</td>\n      <td>38.5000</td>\n      <td>22.2500</td>\n      <td>10</td>\n      <td>4.5</td>\n      <td>1964-4-21 8:14:40.0</td>\n    </tr>\n    <tr>\n      <th>3</th>\n      <td>1964</td>\n      <td>4</td>\n      <td>24</td>\n      <td>3</td>\n      <td>49</td>\n      <td>58.0</td>\n      <td>38.0000</td>\n      <td>21.8000</td>\n      <td>10</td>\n      <td>5.0</td>\n      <td>1964-4-24 3:49:58.0</td>\n    </tr>\n    <tr>\n      <th>4</th>\n      <td>1964</td>\n      <td>4</td>\n      <td>29</td>\n      <td>4</td>\n      <td>21</td>\n      <td>0.0</td>\n      <td>39.2500</td>\n      <td>23.7500</td>\n      <td>10</td>\n      <td>5.8</td>\n      <td>1964-4-29 4:21:0.0</td>\n    </tr>\n    <tr>\n      <th>...</th>\n      <td>...</td>\n      <td>...</td>\n      <td>...</td>\n      <td>...</td>\n      <td>...</td>\n      <td>...</td>\n      <td>...</td>\n      <td>...</td>\n      <td>...</td>\n      <td>...</td>\n      <td>...</td>\n    </tr>\n    <tr>\n      <th>313611</th>\n      <td>2021</td>\n      <td>4</td>\n      <td>11</td>\n      <td>19</td>\n      <td>46</td>\n      <td>24.0</td>\n      <td>39.7495</td>\n      <td>23.4970</td>\n      <td>16</td>\n      <td>2.1</td>\n      <td>2021-4-11 19:46:24.0</td>\n    </tr>\n    <tr>\n      <th>313612</th>\n      <td>2021</td>\n      <td>4</td>\n      <td>11</td>\n      <td>21</td>\n      <td>42</td>\n      <td>29.2</td>\n      <td>38.1189</td>\n      <td>23.3313</td>\n      <td>13</td>\n      <td>2.1</td>\n      <td>2021-4-11 21:42:29.2</td>\n    </tr>\n    <tr>\n      <th>313613</th>\n      <td>2021</td>\n      <td>4</td>\n      <td>11</td>\n      <td>21</td>\n      <td>59</td>\n      <td>54.8</td>\n      <td>37.6053</td>\n      <td>20.4922</td>\n      <td>18</td>\n      <td>2.0</td>\n      <td>2021-4-11 21:59:54.8</td>\n    </tr>\n    <tr>\n      <th>313614</th>\n      <td>2021</td>\n      <td>4</td>\n      <td>11</td>\n      <td>22</td>\n      <td>13</td>\n      <td>39.7</td>\n      <td>39.7774</td>\n      <td>22.0326</td>\n      <td>6</td>\n      <td>1.5</td>\n      <td>2021-4-11 22:13:39.7</td>\n    </tr>\n    <tr>\n      <th>313615</th>\n      <td>2021</td>\n      <td>4</td>\n      <td>11</td>\n      <td>23</td>\n      <td>12</td>\n      <td>58.3</td>\n      <td>37.0894</td>\n      <td>22.0399</td>\n      <td>12</td>\n      <td>1.6</td>\n      <td>2021-4-11 23:12:58.3</td>\n    </tr>\n  </tbody>\n</table>\n<p>313616 rows × 11 columns</p>\n</div>",
      "text/plain": "        year  month  day  hour  minute  second  latitude  longitude  depth  \\\nid                                                                           \n0       1964      2   24    23      30    25.0   38.9000    23.9000     10   \n1       1964      4   11    16       0     0.0   39.7500    25.2500     10   \n2       1964      4   21     8      14    40.0   38.5000    22.2500     10   \n3       1964      4   24     3      49    58.0   38.0000    21.8000     10   \n4       1964      4   29     4      21     0.0   39.2500    23.7500     10   \n...      ...    ...  ...   ...     ...     ...       ...        ...    ...   \n313611  2021      4   11    19      46    24.0   39.7495    23.4970     16   \n313612  2021      4   11    21      42    29.2   38.1189    23.3313     13   \n313613  2021      4   11    21      59    54.8   37.6053    20.4922     18   \n313614  2021      4   11    22      13    39.7   39.7774    22.0326      6   \n313615  2021      4   11    23      12    58.3   37.0894    22.0399     12   \n\n        magnitude              datetime  \nid                                       \n0             5.3  1964-2-24 23:30:25.0  \n1             5.7    1964-4-11 16:0:0.0  \n2             4.5   1964-4-21 8:14:40.0  \n3             5.0   1964-4-24 3:49:58.0  \n4             5.8    1964-4-29 4:21:0.0  \n...           ...                   ...  \n313611        2.1  2021-4-11 19:46:24.0  \n313612        2.1  2021-4-11 21:42:29.2  \n313613        2.0  2021-4-11 21:59:54.8  \n313614        1.5  2021-4-11 22:13:39.7  \n313615        1.6  2021-4-11 23:12:58.3  \n\n[313616 rows x 11 columns]"
     },
     "execution_count": 12,
     "metadata": {},
     "output_type": "execute_result"
    }
   ],
   "source": [
    "df"
   ]
  },
  {
   "cell_type": "markdown",
   "metadata": {},
   "source": [
    "drop unnecessary columns:"
   ]
  },
  {
   "cell_type": "code",
   "execution_count": 13,
   "metadata": {},
   "outputs": [],
   "source": [
    "df.drop(columns = ['year', 'month', 'day', 'hour', 'minute', 'second'], inplace = True)"
   ]
  },
  {
   "cell_type": "code",
   "execution_count": 14,
   "metadata": {},
   "outputs": [
    {
     "data": {
      "text/html": "<div>\n<style scoped>\n    .dataframe tbody tr th:only-of-type {\n        vertical-align: middle;\n    }\n\n    .dataframe tbody tr th {\n        vertical-align: top;\n    }\n\n    .dataframe thead th {\n        text-align: right;\n    }\n</style>\n<table border=\"1\" class=\"dataframe\">\n  <thead>\n    <tr style=\"text-align: right;\">\n      <th></th>\n      <th>latitude</th>\n      <th>longitude</th>\n      <th>depth</th>\n      <th>magnitude</th>\n      <th>datetime</th>\n    </tr>\n    <tr>\n      <th>id</th>\n      <th></th>\n      <th></th>\n      <th></th>\n      <th></th>\n      <th></th>\n    </tr>\n  </thead>\n  <tbody>\n    <tr>\n      <th>0</th>\n      <td>38.9000</td>\n      <td>23.9000</td>\n      <td>10</td>\n      <td>5.3</td>\n      <td>1964-2-24 23:30:25.0</td>\n    </tr>\n    <tr>\n      <th>1</th>\n      <td>39.7500</td>\n      <td>25.2500</td>\n      <td>10</td>\n      <td>5.7</td>\n      <td>1964-4-11 16:0:0.0</td>\n    </tr>\n    <tr>\n      <th>2</th>\n      <td>38.5000</td>\n      <td>22.2500</td>\n      <td>10</td>\n      <td>4.5</td>\n      <td>1964-4-21 8:14:40.0</td>\n    </tr>\n    <tr>\n      <th>3</th>\n      <td>38.0000</td>\n      <td>21.8000</td>\n      <td>10</td>\n      <td>5.0</td>\n      <td>1964-4-24 3:49:58.0</td>\n    </tr>\n    <tr>\n      <th>4</th>\n      <td>39.2500</td>\n      <td>23.7500</td>\n      <td>10</td>\n      <td>5.8</td>\n      <td>1964-4-29 4:21:0.0</td>\n    </tr>\n    <tr>\n      <th>...</th>\n      <td>...</td>\n      <td>...</td>\n      <td>...</td>\n      <td>...</td>\n      <td>...</td>\n    </tr>\n    <tr>\n      <th>313611</th>\n      <td>39.7495</td>\n      <td>23.4970</td>\n      <td>16</td>\n      <td>2.1</td>\n      <td>2021-4-11 19:46:24.0</td>\n    </tr>\n    <tr>\n      <th>313612</th>\n      <td>38.1189</td>\n      <td>23.3313</td>\n      <td>13</td>\n      <td>2.1</td>\n      <td>2021-4-11 21:42:29.2</td>\n    </tr>\n    <tr>\n      <th>313613</th>\n      <td>37.6053</td>\n      <td>20.4922</td>\n      <td>18</td>\n      <td>2.0</td>\n      <td>2021-4-11 21:59:54.8</td>\n    </tr>\n    <tr>\n      <th>313614</th>\n      <td>39.7774</td>\n      <td>22.0326</td>\n      <td>6</td>\n      <td>1.5</td>\n      <td>2021-4-11 22:13:39.7</td>\n    </tr>\n    <tr>\n      <th>313615</th>\n      <td>37.0894</td>\n      <td>22.0399</td>\n      <td>12</td>\n      <td>1.6</td>\n      <td>2021-4-11 23:12:58.3</td>\n    </tr>\n  </tbody>\n</table>\n<p>313616 rows × 5 columns</p>\n</div>",
      "text/plain": "        latitude  longitude  depth  magnitude              datetime\nid                                                                 \n0        38.9000    23.9000     10        5.3  1964-2-24 23:30:25.0\n1        39.7500    25.2500     10        5.7    1964-4-11 16:0:0.0\n2        38.5000    22.2500     10        4.5   1964-4-21 8:14:40.0\n3        38.0000    21.8000     10        5.0   1964-4-24 3:49:58.0\n4        39.2500    23.7500     10        5.8    1964-4-29 4:21:0.0\n...          ...        ...    ...        ...                   ...\n313611   39.7495    23.4970     16        2.1  2021-4-11 19:46:24.0\n313612   38.1189    23.3313     13        2.1  2021-4-11 21:42:29.2\n313613   37.6053    20.4922     18        2.0  2021-4-11 21:59:54.8\n313614   39.7774    22.0326      6        1.5  2021-4-11 22:13:39.7\n313615   37.0894    22.0399     12        1.6  2021-4-11 23:12:58.3\n\n[313616 rows x 5 columns]"
     },
     "execution_count": 14,
     "metadata": {},
     "output_type": "execute_result"
    }
   ],
   "source": [
    "df"
   ]
  },
  {
   "cell_type": "code",
   "execution_count": 15,
   "metadata": {},
   "outputs": [
    {
     "data": {
      "text/plain": "latitude     float64\nlongitude    float64\ndepth          int64\nmagnitude    float64\ndatetime      object\ndtype: object"
     },
     "execution_count": 15,
     "metadata": {},
     "output_type": "execute_result"
    }
   ],
   "source": [
    "df.dtypes"
   ]
  },
  {
   "cell_type": "markdown",
   "metadata": {},
   "source": [
    "datetime strings to datetime64 objects:"
   ]
  },
  {
   "cell_type": "code",
   "execution_count": 16,
   "metadata": {},
   "outputs": [],
   "source": [
    "df['datetime'] = pandas.to_datetime(df['datetime'])"
   ]
  },
  {
   "cell_type": "code",
   "execution_count": 17,
   "metadata": {},
   "outputs": [
    {
     "data": {
      "text/html": "<div>\n<style scoped>\n    .dataframe tbody tr th:only-of-type {\n        vertical-align: middle;\n    }\n\n    .dataframe tbody tr th {\n        vertical-align: top;\n    }\n\n    .dataframe thead th {\n        text-align: right;\n    }\n</style>\n<table border=\"1\" class=\"dataframe\">\n  <thead>\n    <tr style=\"text-align: right;\">\n      <th></th>\n      <th>latitude</th>\n      <th>longitude</th>\n      <th>depth</th>\n      <th>magnitude</th>\n      <th>datetime</th>\n    </tr>\n    <tr>\n      <th>id</th>\n      <th></th>\n      <th></th>\n      <th></th>\n      <th></th>\n      <th></th>\n    </tr>\n  </thead>\n  <tbody>\n    <tr>\n      <th>0</th>\n      <td>38.9000</td>\n      <td>23.9000</td>\n      <td>10</td>\n      <td>5.3</td>\n      <td>1964-02-24 23:30:25.000</td>\n    </tr>\n    <tr>\n      <th>1</th>\n      <td>39.7500</td>\n      <td>25.2500</td>\n      <td>10</td>\n      <td>5.7</td>\n      <td>1964-04-11 16:00:00.000</td>\n    </tr>\n    <tr>\n      <th>2</th>\n      <td>38.5000</td>\n      <td>22.2500</td>\n      <td>10</td>\n      <td>4.5</td>\n      <td>1964-04-21 08:14:40.000</td>\n    </tr>\n    <tr>\n      <th>3</th>\n      <td>38.0000</td>\n      <td>21.8000</td>\n      <td>10</td>\n      <td>5.0</td>\n      <td>1964-04-24 03:49:58.000</td>\n    </tr>\n    <tr>\n      <th>4</th>\n      <td>39.2500</td>\n      <td>23.7500</td>\n      <td>10</td>\n      <td>5.8</td>\n      <td>1964-04-29 04:21:00.000</td>\n    </tr>\n    <tr>\n      <th>...</th>\n      <td>...</td>\n      <td>...</td>\n      <td>...</td>\n      <td>...</td>\n      <td>...</td>\n    </tr>\n    <tr>\n      <th>313611</th>\n      <td>39.7495</td>\n      <td>23.4970</td>\n      <td>16</td>\n      <td>2.1</td>\n      <td>2021-04-11 19:46:24.000</td>\n    </tr>\n    <tr>\n      <th>313612</th>\n      <td>38.1189</td>\n      <td>23.3313</td>\n      <td>13</td>\n      <td>2.1</td>\n      <td>2021-04-11 21:42:29.200</td>\n    </tr>\n    <tr>\n      <th>313613</th>\n      <td>37.6053</td>\n      <td>20.4922</td>\n      <td>18</td>\n      <td>2.0</td>\n      <td>2021-04-11 21:59:54.800</td>\n    </tr>\n    <tr>\n      <th>313614</th>\n      <td>39.7774</td>\n      <td>22.0326</td>\n      <td>6</td>\n      <td>1.5</td>\n      <td>2021-04-11 22:13:39.700</td>\n    </tr>\n    <tr>\n      <th>313615</th>\n      <td>37.0894</td>\n      <td>22.0399</td>\n      <td>12</td>\n      <td>1.6</td>\n      <td>2021-04-11 23:12:58.300</td>\n    </tr>\n  </tbody>\n</table>\n<p>313616 rows × 5 columns</p>\n</div>",
      "text/plain": "        latitude  longitude  depth  magnitude                datetime\nid                                                                   \n0        38.9000    23.9000     10        5.3 1964-02-24 23:30:25.000\n1        39.7500    25.2500     10        5.7 1964-04-11 16:00:00.000\n2        38.5000    22.2500     10        4.5 1964-04-21 08:14:40.000\n3        38.0000    21.8000     10        5.0 1964-04-24 03:49:58.000\n4        39.2500    23.7500     10        5.8 1964-04-29 04:21:00.000\n...          ...        ...    ...        ...                     ...\n313611   39.7495    23.4970     16        2.1 2021-04-11 19:46:24.000\n313612   38.1189    23.3313     13        2.1 2021-04-11 21:42:29.200\n313613   37.6053    20.4922     18        2.0 2021-04-11 21:59:54.800\n313614   39.7774    22.0326      6        1.5 2021-04-11 22:13:39.700\n313615   37.0894    22.0399     12        1.6 2021-04-11 23:12:58.300\n\n[313616 rows x 5 columns]"
     },
     "execution_count": 17,
     "metadata": {},
     "output_type": "execute_result"
    }
   ],
   "source": [
    "df"
   ]
  },
  {
   "cell_type": "code",
   "execution_count": 18,
   "metadata": {},
   "outputs": [
    {
     "data": {
      "text/plain": "latitude            float64\nlongitude           float64\ndepth                 int64\nmagnitude           float64\ndatetime     datetime64[ns]\ndtype: object"
     },
     "execution_count": 18,
     "metadata": {},
     "output_type": "execute_result"
    }
   ],
   "source": [
    "df.dtypes"
   ]
  },
  {
   "cell_type": "markdown",
   "metadata": {},
   "source": [
    "### index\n",
    "datetime becomes dataframe's new index:"
   ]
  },
  {
   "cell_type": "code",
   "execution_count": 19,
   "metadata": {},
   "outputs": [],
   "source": [
    "df = df.reset_index().set_index('datetime')"
   ]
  },
  {
   "cell_type": "code",
   "execution_count": 20,
   "metadata": {},
   "outputs": [
    {
     "data": {
      "text/html": "<div>\n<style scoped>\n    .dataframe tbody tr th:only-of-type {\n        vertical-align: middle;\n    }\n\n    .dataframe tbody tr th {\n        vertical-align: top;\n    }\n\n    .dataframe thead th {\n        text-align: right;\n    }\n</style>\n<table border=\"1\" class=\"dataframe\">\n  <thead>\n    <tr style=\"text-align: right;\">\n      <th></th>\n      <th>id</th>\n      <th>latitude</th>\n      <th>longitude</th>\n      <th>depth</th>\n      <th>magnitude</th>\n    </tr>\n    <tr>\n      <th>datetime</th>\n      <th></th>\n      <th></th>\n      <th></th>\n      <th></th>\n      <th></th>\n    </tr>\n  </thead>\n  <tbody>\n    <tr>\n      <th>1964-02-24 23:30:25.000</th>\n      <td>0</td>\n      <td>38.9000</td>\n      <td>23.9000</td>\n      <td>10</td>\n      <td>5.3</td>\n    </tr>\n    <tr>\n      <th>1964-04-11 16:00:00.000</th>\n      <td>1</td>\n      <td>39.7500</td>\n      <td>25.2500</td>\n      <td>10</td>\n      <td>5.7</td>\n    </tr>\n    <tr>\n      <th>1964-04-21 08:14:40.000</th>\n      <td>2</td>\n      <td>38.5000</td>\n      <td>22.2500</td>\n      <td>10</td>\n      <td>4.5</td>\n    </tr>\n    <tr>\n      <th>1964-04-24 03:49:58.000</th>\n      <td>3</td>\n      <td>38.0000</td>\n      <td>21.8000</td>\n      <td>10</td>\n      <td>5.0</td>\n    </tr>\n    <tr>\n      <th>1964-04-29 04:21:00.000</th>\n      <td>4</td>\n      <td>39.2500</td>\n      <td>23.7500</td>\n      <td>10</td>\n      <td>5.8</td>\n    </tr>\n    <tr>\n      <th>...</th>\n      <td>...</td>\n      <td>...</td>\n      <td>...</td>\n      <td>...</td>\n      <td>...</td>\n    </tr>\n    <tr>\n      <th>2021-04-11 19:46:24.000</th>\n      <td>313611</td>\n      <td>39.7495</td>\n      <td>23.4970</td>\n      <td>16</td>\n      <td>2.1</td>\n    </tr>\n    <tr>\n      <th>2021-04-11 21:42:29.200</th>\n      <td>313612</td>\n      <td>38.1189</td>\n      <td>23.3313</td>\n      <td>13</td>\n      <td>2.1</td>\n    </tr>\n    <tr>\n      <th>2021-04-11 21:59:54.800</th>\n      <td>313613</td>\n      <td>37.6053</td>\n      <td>20.4922</td>\n      <td>18</td>\n      <td>2.0</td>\n    </tr>\n    <tr>\n      <th>2021-04-11 22:13:39.700</th>\n      <td>313614</td>\n      <td>39.7774</td>\n      <td>22.0326</td>\n      <td>6</td>\n      <td>1.5</td>\n    </tr>\n    <tr>\n      <th>2021-04-11 23:12:58.300</th>\n      <td>313615</td>\n      <td>37.0894</td>\n      <td>22.0399</td>\n      <td>12</td>\n      <td>1.6</td>\n    </tr>\n  </tbody>\n</table>\n<p>313616 rows × 5 columns</p>\n</div>",
      "text/plain": "                             id  latitude  longitude  depth  magnitude\ndatetime                                                              \n1964-02-24 23:30:25.000       0   38.9000    23.9000     10        5.3\n1964-04-11 16:00:00.000       1   39.7500    25.2500     10        5.7\n1964-04-21 08:14:40.000       2   38.5000    22.2500     10        4.5\n1964-04-24 03:49:58.000       3   38.0000    21.8000     10        5.0\n1964-04-29 04:21:00.000       4   39.2500    23.7500     10        5.8\n...                         ...       ...        ...    ...        ...\n2021-04-11 19:46:24.000  313611   39.7495    23.4970     16        2.1\n2021-04-11 21:42:29.200  313612   38.1189    23.3313     13        2.1\n2021-04-11 21:59:54.800  313613   37.6053    20.4922     18        2.0\n2021-04-11 22:13:39.700  313614   39.7774    22.0326      6        1.5\n2021-04-11 23:12:58.300  313615   37.0894    22.0399     12        1.6\n\n[313616 rows x 5 columns]"
     },
     "execution_count": 20,
     "metadata": {},
     "output_type": "execute_result"
    }
   ],
   "source": [
    "df"
   ]
  },
  {
   "cell_type": "markdown",
   "metadata": {},
   "source": [
    "### cumulative events"
   ]
  },
  {
   "cell_type": "code",
   "execution_count": 21,
   "metadata": {},
   "outputs": [],
   "source": [
    "df['event'] = 1\n",
    "df['event'] = df['event'].cumsum()"
   ]
  },
  {
   "cell_type": "code",
   "execution_count": 22,
   "metadata": {},
   "outputs": [
    {
     "data": {
      "text/html": "<div>\n<style scoped>\n    .dataframe tbody tr th:only-of-type {\n        vertical-align: middle;\n    }\n\n    .dataframe tbody tr th {\n        vertical-align: top;\n    }\n\n    .dataframe thead th {\n        text-align: right;\n    }\n</style>\n<table border=\"1\" class=\"dataframe\">\n  <thead>\n    <tr style=\"text-align: right;\">\n      <th></th>\n      <th>id</th>\n      <th>latitude</th>\n      <th>longitude</th>\n      <th>depth</th>\n      <th>magnitude</th>\n      <th>event</th>\n    </tr>\n    <tr>\n      <th>datetime</th>\n      <th></th>\n      <th></th>\n      <th></th>\n      <th></th>\n      <th></th>\n      <th></th>\n    </tr>\n  </thead>\n  <tbody>\n    <tr>\n      <th>1964-02-24 23:30:25.000</th>\n      <td>0</td>\n      <td>38.9000</td>\n      <td>23.9000</td>\n      <td>10</td>\n      <td>5.3</td>\n      <td>1</td>\n    </tr>\n    <tr>\n      <th>1964-04-11 16:00:00.000</th>\n      <td>1</td>\n      <td>39.7500</td>\n      <td>25.2500</td>\n      <td>10</td>\n      <td>5.7</td>\n      <td>2</td>\n    </tr>\n    <tr>\n      <th>1964-04-21 08:14:40.000</th>\n      <td>2</td>\n      <td>38.5000</td>\n      <td>22.2500</td>\n      <td>10</td>\n      <td>4.5</td>\n      <td>3</td>\n    </tr>\n    <tr>\n      <th>1964-04-24 03:49:58.000</th>\n      <td>3</td>\n      <td>38.0000</td>\n      <td>21.8000</td>\n      <td>10</td>\n      <td>5.0</td>\n      <td>4</td>\n    </tr>\n    <tr>\n      <th>1964-04-29 04:21:00.000</th>\n      <td>4</td>\n      <td>39.2500</td>\n      <td>23.7500</td>\n      <td>10</td>\n      <td>5.8</td>\n      <td>5</td>\n    </tr>\n    <tr>\n      <th>...</th>\n      <td>...</td>\n      <td>...</td>\n      <td>...</td>\n      <td>...</td>\n      <td>...</td>\n      <td>...</td>\n    </tr>\n    <tr>\n      <th>2021-04-11 19:46:24.000</th>\n      <td>313611</td>\n      <td>39.7495</td>\n      <td>23.4970</td>\n      <td>16</td>\n      <td>2.1</td>\n      <td>313612</td>\n    </tr>\n    <tr>\n      <th>2021-04-11 21:42:29.200</th>\n      <td>313612</td>\n      <td>38.1189</td>\n      <td>23.3313</td>\n      <td>13</td>\n      <td>2.1</td>\n      <td>313613</td>\n    </tr>\n    <tr>\n      <th>2021-04-11 21:59:54.800</th>\n      <td>313613</td>\n      <td>37.6053</td>\n      <td>20.4922</td>\n      <td>18</td>\n      <td>2.0</td>\n      <td>313614</td>\n    </tr>\n    <tr>\n      <th>2021-04-11 22:13:39.700</th>\n      <td>313614</td>\n      <td>39.7774</td>\n      <td>22.0326</td>\n      <td>6</td>\n      <td>1.5</td>\n      <td>313615</td>\n    </tr>\n    <tr>\n      <th>2021-04-11 23:12:58.300</th>\n      <td>313615</td>\n      <td>37.0894</td>\n      <td>22.0399</td>\n      <td>12</td>\n      <td>1.6</td>\n      <td>313616</td>\n    </tr>\n  </tbody>\n</table>\n<p>313616 rows × 6 columns</p>\n</div>",
      "text/plain": "                             id  latitude  longitude  depth  magnitude   event\ndatetime                                                                      \n1964-02-24 23:30:25.000       0   38.9000    23.9000     10        5.3       1\n1964-04-11 16:00:00.000       1   39.7500    25.2500     10        5.7       2\n1964-04-21 08:14:40.000       2   38.5000    22.2500     10        4.5       3\n1964-04-24 03:49:58.000       3   38.0000    21.8000     10        5.0       4\n1964-04-29 04:21:00.000       4   39.2500    23.7500     10        5.8       5\n...                         ...       ...        ...    ...        ...     ...\n2021-04-11 19:46:24.000  313611   39.7495    23.4970     16        2.1  313612\n2021-04-11 21:42:29.200  313612   38.1189    23.3313     13        2.1  313613\n2021-04-11 21:59:54.800  313613   37.6053    20.4922     18        2.0  313614\n2021-04-11 22:13:39.700  313614   39.7774    22.0326      6        1.5  313615\n2021-04-11 23:12:58.300  313615   37.0894    22.0399     12        1.6  313616\n\n[313616 rows x 6 columns]"
     },
     "execution_count": 22,
     "metadata": {},
     "output_type": "execute_result"
    }
   ],
   "source": [
    "df"
   ]
  },
  {
   "cell_type": "markdown",
   "metadata": {},
   "source": [
    "## data range"
   ]
  },
  {
   "cell_type": "markdown",
   "metadata": {},
   "source": [
    "*As data source on seismicity, we used the Greek SI-NOA (Seismolo-gical Institute, National Observatory of Athens) catalog for 15 years from 1982 to 1996. Thespace window 20–25°E and 36–40°N was applied, and, because some 98% of earthquakes wereof shallow depth of less than 50 km, no lower limit on hypocenter depths was set on. To use a surface wave magnitude (M_s) as usually defined, we added 0.5 to the local magnitudes (M_L) reportedby SI-NOA (Geller, 1996b).*"
   ]
  },
  {
   "cell_type": "code",
   "execution_count": 23,
   "metadata": {},
   "outputs": [],
   "source": [
    "df_papr = df['1982-01-01 00:00:00':'1996-12-31 23:59:59'].copy()"
   ]
  },
  {
   "cell_type": "code",
   "execution_count": 24,
   "metadata": {},
   "outputs": [
    {
     "data": {
      "text/html": "<div>\n<style scoped>\n    .dataframe tbody tr th:only-of-type {\n        vertical-align: middle;\n    }\n\n    .dataframe tbody tr th {\n        vertical-align: top;\n    }\n\n    .dataframe thead th {\n        text-align: right;\n    }\n</style>\n<table border=\"1\" class=\"dataframe\">\n  <thead>\n    <tr style=\"text-align: right;\">\n      <th></th>\n      <th>id</th>\n      <th>latitude</th>\n      <th>longitude</th>\n      <th>depth</th>\n      <th>magnitude</th>\n      <th>event</th>\n    </tr>\n    <tr>\n      <th>datetime</th>\n      <th></th>\n      <th></th>\n      <th></th>\n      <th></th>\n      <th></th>\n      <th></th>\n    </tr>\n  </thead>\n  <tbody>\n    <tr>\n      <th>1982-01-01 00:44:01.000</th>\n      <td>9999</td>\n      <td>38.80</td>\n      <td>25.10</td>\n      <td>10</td>\n      <td>3.4</td>\n      <td>10000</td>\n    </tr>\n    <tr>\n      <th>1982-01-01 03:08:17.000</th>\n      <td>10000</td>\n      <td>38.70</td>\n      <td>22.40</td>\n      <td>10</td>\n      <td>3.3</td>\n      <td>10001</td>\n    </tr>\n    <tr>\n      <th>1982-01-01 04:05:20.000</th>\n      <td>10001</td>\n      <td>38.60</td>\n      <td>22.40</td>\n      <td>10</td>\n      <td>3.0</td>\n      <td>10002</td>\n    </tr>\n    <tr>\n      <th>1982-01-02 19:02:12.000</th>\n      <td>10002</td>\n      <td>38.80</td>\n      <td>25.10</td>\n      <td>10</td>\n      <td>3.5</td>\n      <td>10003</td>\n    </tr>\n    <tr>\n      <th>1982-01-03 19:35:11.000</th>\n      <td>10003</td>\n      <td>38.80</td>\n      <td>24.90</td>\n      <td>10</td>\n      <td>3.6</td>\n      <td>10004</td>\n    </tr>\n    <tr>\n      <th>...</th>\n      <td>...</td>\n      <td>...</td>\n      <td>...</td>\n      <td>...</td>\n      <td>...</td>\n      <td>...</td>\n    </tr>\n    <tr>\n      <th>1996-12-30 13:17:39.500</th>\n      <td>28320</td>\n      <td>38.21</td>\n      <td>26.12</td>\n      <td>10</td>\n      <td>3.5</td>\n      <td>28321</td>\n    </tr>\n    <tr>\n      <th>1996-12-30 16:50:20.700</th>\n      <td>28321</td>\n      <td>38.19</td>\n      <td>22.56</td>\n      <td>10</td>\n      <td>2.5</td>\n      <td>28322</td>\n    </tr>\n    <tr>\n      <th>1996-12-30 17:44:48.300</th>\n      <td>28322</td>\n      <td>37.07</td>\n      <td>20.64</td>\n      <td>10</td>\n      <td>2.9</td>\n      <td>28323</td>\n    </tr>\n    <tr>\n      <th>1996-12-30 21:29:42.500</th>\n      <td>28323</td>\n      <td>37.06</td>\n      <td>20.45</td>\n      <td>10</td>\n      <td>2.8</td>\n      <td>28324</td>\n    </tr>\n    <tr>\n      <th>1996-12-31 15:44:01.700</th>\n      <td>28324</td>\n      <td>39.74</td>\n      <td>27.96</td>\n      <td>1</td>\n      <td>4.0</td>\n      <td>28325</td>\n    </tr>\n  </tbody>\n</table>\n<p>18326 rows × 6 columns</p>\n</div>",
      "text/plain": "                            id  latitude  longitude  depth  magnitude  event\ndatetime                                                                    \n1982-01-01 00:44:01.000   9999     38.80      25.10     10        3.4  10000\n1982-01-01 03:08:17.000  10000     38.70      22.40     10        3.3  10001\n1982-01-01 04:05:20.000  10001     38.60      22.40     10        3.0  10002\n1982-01-02 19:02:12.000  10002     38.80      25.10     10        3.5  10003\n1982-01-03 19:35:11.000  10003     38.80      24.90     10        3.6  10004\n...                        ...       ...        ...    ...        ...    ...\n1996-12-30 13:17:39.500  28320     38.21      26.12     10        3.5  28321\n1996-12-30 16:50:20.700  28321     38.19      22.56     10        2.5  28322\n1996-12-30 17:44:48.300  28322     37.07      20.64     10        2.9  28323\n1996-12-30 21:29:42.500  28323     37.06      20.45     10        2.8  28324\n1996-12-31 15:44:01.700  28324     39.74      27.96      1        4.0  28325\n\n[18326 rows x 6 columns]"
     },
     "execution_count": 24,
     "metadata": {},
     "output_type": "execute_result"
    }
   ],
   "source": [
    "df_papr"
   ]
  },
  {
   "cell_type": "code",
   "execution_count": 25,
   "metadata": {},
   "outputs": [
    {
     "data": {
      "text/html": "<div>\n<style scoped>\n    .dataframe tbody tr th:only-of-type {\n        vertical-align: middle;\n    }\n\n    .dataframe tbody tr th {\n        vertical-align: top;\n    }\n\n    .dataframe thead th {\n        text-align: right;\n    }\n</style>\n<table border=\"1\" class=\"dataframe\">\n  <thead>\n    <tr style=\"text-align: right;\">\n      <th></th>\n      <th>id</th>\n      <th>latitude</th>\n      <th>longitude</th>\n      <th>depth</th>\n      <th>magnitude</th>\n      <th>event</th>\n    </tr>\n    <tr>\n      <th>datetime</th>\n      <th></th>\n      <th></th>\n      <th></th>\n      <th></th>\n      <th></th>\n      <th></th>\n    </tr>\n  </thead>\n  <tbody>\n    <tr>\n      <th>1982-01-01 00:44:01.000</th>\n      <td>9999</td>\n      <td>38.80</td>\n      <td>25.10</td>\n      <td>10</td>\n      <td>3.4</td>\n      <td>10000</td>\n    </tr>\n    <tr>\n      <th>1982-01-01 03:08:17.000</th>\n      <td>10000</td>\n      <td>38.70</td>\n      <td>22.40</td>\n      <td>10</td>\n      <td>3.3</td>\n      <td>10001</td>\n    </tr>\n    <tr>\n      <th>1982-01-01 04:05:20.000</th>\n      <td>10001</td>\n      <td>38.60</td>\n      <td>22.40</td>\n      <td>10</td>\n      <td>3.0</td>\n      <td>10002</td>\n    </tr>\n    <tr>\n      <th>1982-01-02 19:02:12.000</th>\n      <td>10002</td>\n      <td>38.80</td>\n      <td>25.10</td>\n      <td>10</td>\n      <td>3.5</td>\n      <td>10003</td>\n    </tr>\n    <tr>\n      <th>1982-01-03 19:35:11.000</th>\n      <td>10003</td>\n      <td>38.80</td>\n      <td>24.90</td>\n      <td>10</td>\n      <td>3.6</td>\n      <td>10004</td>\n    </tr>\n    <tr>\n      <th>...</th>\n      <td>...</td>\n      <td>...</td>\n      <td>...</td>\n      <td>...</td>\n      <td>...</td>\n      <td>...</td>\n    </tr>\n    <tr>\n      <th>1996-12-30 13:17:39.500</th>\n      <td>28320</td>\n      <td>38.21</td>\n      <td>26.12</td>\n      <td>10</td>\n      <td>3.5</td>\n      <td>28321</td>\n    </tr>\n    <tr>\n      <th>1996-12-30 16:50:20.700</th>\n      <td>28321</td>\n      <td>38.19</td>\n      <td>22.56</td>\n      <td>10</td>\n      <td>2.5</td>\n      <td>28322</td>\n    </tr>\n    <tr>\n      <th>1996-12-30 17:44:48.300</th>\n      <td>28322</td>\n      <td>37.07</td>\n      <td>20.64</td>\n      <td>10</td>\n      <td>2.9</td>\n      <td>28323</td>\n    </tr>\n    <tr>\n      <th>1996-12-30 21:29:42.500</th>\n      <td>28323</td>\n      <td>37.06</td>\n      <td>20.45</td>\n      <td>10</td>\n      <td>2.8</td>\n      <td>28324</td>\n    </tr>\n    <tr>\n      <th>1996-12-31 15:44:01.700</th>\n      <td>28324</td>\n      <td>39.74</td>\n      <td>27.96</td>\n      <td>1</td>\n      <td>4.0</td>\n      <td>28325</td>\n    </tr>\n  </tbody>\n</table>\n<p>18326 rows × 6 columns</p>\n</div>",
      "text/plain": "                            id  latitude  longitude  depth  magnitude  event\ndatetime                                                                    \n1982-01-01 00:44:01.000   9999     38.80      25.10     10        3.4  10000\n1982-01-01 03:08:17.000  10000     38.70      22.40     10        3.3  10001\n1982-01-01 04:05:20.000  10001     38.60      22.40     10        3.0  10002\n1982-01-02 19:02:12.000  10002     38.80      25.10     10        3.5  10003\n1982-01-03 19:35:11.000  10003     38.80      24.90     10        3.6  10004\n...                        ...       ...        ...    ...        ...    ...\n1996-12-30 13:17:39.500  28320     38.21      26.12     10        3.5  28321\n1996-12-30 16:50:20.700  28321     38.19      22.56     10        2.5  28322\n1996-12-30 17:44:48.300  28322     37.07      20.64     10        2.9  28323\n1996-12-30 21:29:42.500  28323     37.06      20.45     10        2.8  28324\n1996-12-31 15:44:01.700  28324     39.74      27.96      1        4.0  28325\n\n[18326 rows x 6 columns]"
     },
     "execution_count": 25,
     "metadata": {},
     "output_type": "execute_result"
    }
   ],
   "source": [
    "df_papr"
   ]
  },
  {
   "cell_type": "code",
   "execution_count": 26,
   "metadata": {},
   "outputs": [],
   "source": [
    "filtr = (df_papr['longitude'] >= 20.0) & (df['longitude'] <= 25.0 )\n",
    "df_papr = df_papr.loc[filtr]\n",
    "filtr = (df_papr['latitude'] >= 36.0) & (df['latitude'] <= 40.0 )\n",
    "df_papr = df_papr.loc[filtr]"
   ]
  },
  {
   "cell_type": "code",
   "execution_count": 27,
   "metadata": {},
   "outputs": [
    {
     "data": {
      "text/html": "<div>\n<style scoped>\n    .dataframe tbody tr th:only-of-type {\n        vertical-align: middle;\n    }\n\n    .dataframe tbody tr th {\n        vertical-align: top;\n    }\n\n    .dataframe thead th {\n        text-align: right;\n    }\n</style>\n<table border=\"1\" class=\"dataframe\">\n  <thead>\n    <tr style=\"text-align: right;\">\n      <th></th>\n      <th>id</th>\n      <th>latitude</th>\n      <th>longitude</th>\n      <th>depth</th>\n      <th>magnitude</th>\n      <th>event</th>\n    </tr>\n    <tr>\n      <th>datetime</th>\n      <th></th>\n      <th></th>\n      <th></th>\n      <th></th>\n      <th></th>\n      <th></th>\n    </tr>\n  </thead>\n  <tbody>\n    <tr>\n      <th>1982-01-01 03:08:17.000</th>\n      <td>10000</td>\n      <td>38.70</td>\n      <td>22.40</td>\n      <td>10</td>\n      <td>3.3</td>\n      <td>10001</td>\n    </tr>\n    <tr>\n      <th>1982-01-01 04:05:20.000</th>\n      <td>10001</td>\n      <td>38.60</td>\n      <td>22.40</td>\n      <td>10</td>\n      <td>3.0</td>\n      <td>10002</td>\n    </tr>\n    <tr>\n      <th>1982-01-03 19:35:11.000</th>\n      <td>10003</td>\n      <td>38.80</td>\n      <td>24.90</td>\n      <td>10</td>\n      <td>3.6</td>\n      <td>10004</td>\n    </tr>\n    <tr>\n      <th>1982-01-03 19:49:22.000</th>\n      <td>10004</td>\n      <td>38.80</td>\n      <td>24.90</td>\n      <td>10</td>\n      <td>3.3</td>\n      <td>10005</td>\n    </tr>\n    <tr>\n      <th>1982-01-03 23:29:48.000</th>\n      <td>10005</td>\n      <td>38.60</td>\n      <td>20.70</td>\n      <td>10</td>\n      <td>3.4</td>\n      <td>10006</td>\n    </tr>\n    <tr>\n      <th>...</th>\n      <td>...</td>\n      <td>...</td>\n      <td>...</td>\n      <td>...</td>\n      <td>...</td>\n      <td>...</td>\n    </tr>\n    <tr>\n      <th>1996-12-29 03:19:32.300</th>\n      <td>28313</td>\n      <td>36.28</td>\n      <td>21.79</td>\n      <td>39</td>\n      <td>3.2</td>\n      <td>28314</td>\n    </tr>\n    <tr>\n      <th>1996-12-30 08:42:30.700</th>\n      <td>28318</td>\n      <td>37.45</td>\n      <td>20.79</td>\n      <td>1</td>\n      <td>4.0</td>\n      <td>28319</td>\n    </tr>\n    <tr>\n      <th>1996-12-30 16:50:20.700</th>\n      <td>28321</td>\n      <td>38.19</td>\n      <td>22.56</td>\n      <td>10</td>\n      <td>2.5</td>\n      <td>28322</td>\n    </tr>\n    <tr>\n      <th>1996-12-30 17:44:48.300</th>\n      <td>28322</td>\n      <td>37.07</td>\n      <td>20.64</td>\n      <td>10</td>\n      <td>2.9</td>\n      <td>28323</td>\n    </tr>\n    <tr>\n      <th>1996-12-30 21:29:42.500</th>\n      <td>28323</td>\n      <td>37.06</td>\n      <td>20.45</td>\n      <td>10</td>\n      <td>2.8</td>\n      <td>28324</td>\n    </tr>\n  </tbody>\n</table>\n<p>11320 rows × 6 columns</p>\n</div>",
      "text/plain": "                            id  latitude  longitude  depth  magnitude  event\ndatetime                                                                    \n1982-01-01 03:08:17.000  10000     38.70      22.40     10        3.3  10001\n1982-01-01 04:05:20.000  10001     38.60      22.40     10        3.0  10002\n1982-01-03 19:35:11.000  10003     38.80      24.90     10        3.6  10004\n1982-01-03 19:49:22.000  10004     38.80      24.90     10        3.3  10005\n1982-01-03 23:29:48.000  10005     38.60      20.70     10        3.4  10006\n...                        ...       ...        ...    ...        ...    ...\n1996-12-29 03:19:32.300  28313     36.28      21.79     39        3.2  28314\n1996-12-30 08:42:30.700  28318     37.45      20.79      1        4.0  28319\n1996-12-30 16:50:20.700  28321     38.19      22.56     10        2.5  28322\n1996-12-30 17:44:48.300  28322     37.07      20.64     10        2.9  28323\n1996-12-30 21:29:42.500  28323     37.06      20.45     10        2.8  28324\n\n[11320 rows x 6 columns]"
     },
     "execution_count": 27,
     "metadata": {},
     "output_type": "execute_result"
    }
   ],
   "source": [
    "df_papr"
   ]
  },
  {
   "cell_type": "code",
   "execution_count": 28,
   "metadata": {},
   "outputs": [],
   "source": [
    "df_papr['magnitude'] = df_papr['magnitude'].map(lambda x: x + 0.5)"
   ]
  },
  {
   "cell_type": "code",
   "execution_count": 29,
   "metadata": {},
   "outputs": [
    {
     "data": {
      "text/html": "<div>\n<style scoped>\n    .dataframe tbody tr th:only-of-type {\n        vertical-align: middle;\n    }\n\n    .dataframe tbody tr th {\n        vertical-align: top;\n    }\n\n    .dataframe thead th {\n        text-align: right;\n    }\n</style>\n<table border=\"1\" class=\"dataframe\">\n  <thead>\n    <tr style=\"text-align: right;\">\n      <th></th>\n      <th>id</th>\n      <th>latitude</th>\n      <th>longitude</th>\n      <th>depth</th>\n      <th>magnitude</th>\n      <th>event</th>\n    </tr>\n    <tr>\n      <th>datetime</th>\n      <th></th>\n      <th></th>\n      <th></th>\n      <th></th>\n      <th></th>\n      <th></th>\n    </tr>\n  </thead>\n  <tbody>\n    <tr>\n      <th>1982-01-01 03:08:17.000</th>\n      <td>10000</td>\n      <td>38.70</td>\n      <td>22.40</td>\n      <td>10</td>\n      <td>3.8</td>\n      <td>10001</td>\n    </tr>\n    <tr>\n      <th>1982-01-01 04:05:20.000</th>\n      <td>10001</td>\n      <td>38.60</td>\n      <td>22.40</td>\n      <td>10</td>\n      <td>3.5</td>\n      <td>10002</td>\n    </tr>\n    <tr>\n      <th>1982-01-03 19:35:11.000</th>\n      <td>10003</td>\n      <td>38.80</td>\n      <td>24.90</td>\n      <td>10</td>\n      <td>4.1</td>\n      <td>10004</td>\n    </tr>\n    <tr>\n      <th>1982-01-03 19:49:22.000</th>\n      <td>10004</td>\n      <td>38.80</td>\n      <td>24.90</td>\n      <td>10</td>\n      <td>3.8</td>\n      <td>10005</td>\n    </tr>\n    <tr>\n      <th>1982-01-03 23:29:48.000</th>\n      <td>10005</td>\n      <td>38.60</td>\n      <td>20.70</td>\n      <td>10</td>\n      <td>3.9</td>\n      <td>10006</td>\n    </tr>\n    <tr>\n      <th>...</th>\n      <td>...</td>\n      <td>...</td>\n      <td>...</td>\n      <td>...</td>\n      <td>...</td>\n      <td>...</td>\n    </tr>\n    <tr>\n      <th>1996-12-29 03:19:32.300</th>\n      <td>28313</td>\n      <td>36.28</td>\n      <td>21.79</td>\n      <td>39</td>\n      <td>3.7</td>\n      <td>28314</td>\n    </tr>\n    <tr>\n      <th>1996-12-30 08:42:30.700</th>\n      <td>28318</td>\n      <td>37.45</td>\n      <td>20.79</td>\n      <td>1</td>\n      <td>4.5</td>\n      <td>28319</td>\n    </tr>\n    <tr>\n      <th>1996-12-30 16:50:20.700</th>\n      <td>28321</td>\n      <td>38.19</td>\n      <td>22.56</td>\n      <td>10</td>\n      <td>3.0</td>\n      <td>28322</td>\n    </tr>\n    <tr>\n      <th>1996-12-30 17:44:48.300</th>\n      <td>28322</td>\n      <td>37.07</td>\n      <td>20.64</td>\n      <td>10</td>\n      <td>3.4</td>\n      <td>28323</td>\n    </tr>\n    <tr>\n      <th>1996-12-30 21:29:42.500</th>\n      <td>28323</td>\n      <td>37.06</td>\n      <td>20.45</td>\n      <td>10</td>\n      <td>3.3</td>\n      <td>28324</td>\n    </tr>\n  </tbody>\n</table>\n<p>11320 rows × 6 columns</p>\n</div>",
      "text/plain": "                            id  latitude  longitude  depth  magnitude  event\ndatetime                                                                    \n1982-01-01 03:08:17.000  10000     38.70      22.40     10        3.8  10001\n1982-01-01 04:05:20.000  10001     38.60      22.40     10        3.5  10002\n1982-01-03 19:35:11.000  10003     38.80      24.90     10        4.1  10004\n1982-01-03 19:49:22.000  10004     38.80      24.90     10        3.8  10005\n1982-01-03 23:29:48.000  10005     38.60      20.70     10        3.9  10006\n...                        ...       ...        ...    ...        ...    ...\n1996-12-29 03:19:32.300  28313     36.28      21.79     39        3.7  28314\n1996-12-30 08:42:30.700  28318     37.45      20.79      1        4.5  28319\n1996-12-30 16:50:20.700  28321     38.19      22.56     10        3.0  28322\n1996-12-30 17:44:48.300  28322     37.07      20.64     10        3.4  28323\n1996-12-30 21:29:42.500  28323     37.06      20.45     10        3.3  28324\n\n[11320 rows x 6 columns]"
     },
     "execution_count": 29,
     "metadata": {},
     "output_type": "execute_result"
    }
   ],
   "source": [
    "df_papr"
   ]
  },
  {
   "cell_type": "code",
   "execution_count": 30,
   "metadata": {},
   "outputs": [],
   "source": [
    "df_papr['event'] = 1\n",
    "df_papr['event'] = df_papr['event'].cumsum()"
   ]
  },
  {
   "cell_type": "code",
   "execution_count": 31,
   "metadata": {},
   "outputs": [
    {
     "data": {
      "text/html": "<div>\n<style scoped>\n    .dataframe tbody tr th:only-of-type {\n        vertical-align: middle;\n    }\n\n    .dataframe tbody tr th {\n        vertical-align: top;\n    }\n\n    .dataframe thead th {\n        text-align: right;\n    }\n</style>\n<table border=\"1\" class=\"dataframe\">\n  <thead>\n    <tr style=\"text-align: right;\">\n      <th></th>\n      <th>id</th>\n      <th>latitude</th>\n      <th>longitude</th>\n      <th>depth</th>\n      <th>magnitude</th>\n      <th>event</th>\n    </tr>\n    <tr>\n      <th>datetime</th>\n      <th></th>\n      <th></th>\n      <th></th>\n      <th></th>\n      <th></th>\n      <th></th>\n    </tr>\n  </thead>\n  <tbody>\n    <tr>\n      <th>1982-01-01 03:08:17.000</th>\n      <td>10000</td>\n      <td>38.70</td>\n      <td>22.40</td>\n      <td>10</td>\n      <td>3.8</td>\n      <td>1</td>\n    </tr>\n    <tr>\n      <th>1982-01-01 04:05:20.000</th>\n      <td>10001</td>\n      <td>38.60</td>\n      <td>22.40</td>\n      <td>10</td>\n      <td>3.5</td>\n      <td>2</td>\n    </tr>\n    <tr>\n      <th>1982-01-03 19:35:11.000</th>\n      <td>10003</td>\n      <td>38.80</td>\n      <td>24.90</td>\n      <td>10</td>\n      <td>4.1</td>\n      <td>3</td>\n    </tr>\n    <tr>\n      <th>1982-01-03 19:49:22.000</th>\n      <td>10004</td>\n      <td>38.80</td>\n      <td>24.90</td>\n      <td>10</td>\n      <td>3.8</td>\n      <td>4</td>\n    </tr>\n    <tr>\n      <th>1982-01-03 23:29:48.000</th>\n      <td>10005</td>\n      <td>38.60</td>\n      <td>20.70</td>\n      <td>10</td>\n      <td>3.9</td>\n      <td>5</td>\n    </tr>\n    <tr>\n      <th>...</th>\n      <td>...</td>\n      <td>...</td>\n      <td>...</td>\n      <td>...</td>\n      <td>...</td>\n      <td>...</td>\n    </tr>\n    <tr>\n      <th>1996-12-29 03:19:32.300</th>\n      <td>28313</td>\n      <td>36.28</td>\n      <td>21.79</td>\n      <td>39</td>\n      <td>3.7</td>\n      <td>11316</td>\n    </tr>\n    <tr>\n      <th>1996-12-30 08:42:30.700</th>\n      <td>28318</td>\n      <td>37.45</td>\n      <td>20.79</td>\n      <td>1</td>\n      <td>4.5</td>\n      <td>11317</td>\n    </tr>\n    <tr>\n      <th>1996-12-30 16:50:20.700</th>\n      <td>28321</td>\n      <td>38.19</td>\n      <td>22.56</td>\n      <td>10</td>\n      <td>3.0</td>\n      <td>11318</td>\n    </tr>\n    <tr>\n      <th>1996-12-30 17:44:48.300</th>\n      <td>28322</td>\n      <td>37.07</td>\n      <td>20.64</td>\n      <td>10</td>\n      <td>3.4</td>\n      <td>11319</td>\n    </tr>\n    <tr>\n      <th>1996-12-30 21:29:42.500</th>\n      <td>28323</td>\n      <td>37.06</td>\n      <td>20.45</td>\n      <td>10</td>\n      <td>3.3</td>\n      <td>11320</td>\n    </tr>\n  </tbody>\n</table>\n<p>11320 rows × 6 columns</p>\n</div>",
      "text/plain": "                            id  latitude  longitude  depth  magnitude  event\ndatetime                                                                    \n1982-01-01 03:08:17.000  10000     38.70      22.40     10        3.8      1\n1982-01-01 04:05:20.000  10001     38.60      22.40     10        3.5      2\n1982-01-03 19:35:11.000  10003     38.80      24.90     10        4.1      3\n1982-01-03 19:49:22.000  10004     38.80      24.90     10        3.8      4\n1982-01-03 23:29:48.000  10005     38.60      20.70     10        3.9      5\n...                        ...       ...        ...    ...        ...    ...\n1996-12-29 03:19:32.300  28313     36.28      21.79     39        3.7  11316\n1996-12-30 08:42:30.700  28318     37.45      20.79      1        4.5  11317\n1996-12-30 16:50:20.700  28321     38.19      22.56     10        3.0  11318\n1996-12-30 17:44:48.300  28322     37.07      20.64     10        3.4  11319\n1996-12-30 21:29:42.500  28323     37.06      20.45     10        3.3  11320\n\n[11320 rows x 6 columns]"
     },
     "execution_count": 31,
     "metadata": {},
     "output_type": "execute_result"
    }
   ],
   "source": [
    "df_papr"
   ]
  },
  {
   "cell_type": "markdown",
   "metadata": {},
   "source": [
    "# paper reproduction"
   ]
  },
  {
   "cell_type": "markdown",
   "metadata": {},
   "source": [
    "## figure 3"
   ]
  },
  {
   "cell_type": "markdown",
   "metadata": {},
   "source": [
    "*Variation of the monthly number of all reported earthquakes with known magnitudes in the Peloponnesos–Aegean region for the interval of 15 years of 1982–1996. <br> Dashed line: regression line fitted to data, its slope: 1.8±0.7.*"
   ]
  },
  {
   "cell_type": "code",
   "execution_count": 32,
   "metadata": {},
   "outputs": [],
   "source": [
    "assert df_papr['id'].count() == df_papr['event'].max()"
   ]
  },
  {
   "cell_type": "markdown",
   "metadata": {},
   "source": [
    "number of events per year:"
   ]
  },
  {
   "cell_type": "code",
   "execution_count": 33,
   "metadata": {},
   "outputs": [],
   "source": [
    "df_papr_fig3 = df_papr['id'].resample('M').count()"
   ]
  },
  {
   "cell_type": "markdown",
   "metadata": {},
   "source": [
    "plot creation:"
   ]
  },
  {
   "cell_type": "code",
   "execution_count": 34,
   "metadata": {},
   "outputs": [
    {
     "data": {
      "text/plain": "datetime\n1982-01-31    182\n1982-02-28     75\n1982-03-31     59\n1982-04-30     98\n1982-05-31     81\n             ... \n1996-08-31    140\n1996-09-30     74\n1996-10-31    133\n1996-11-30     71\n1996-12-31     97\nFreq: M, Name: id, Length: 180, dtype: int64"
     },
     "execution_count": 34,
     "metadata": {},
     "output_type": "execute_result"
    }
   ],
   "source": [
    "df_papr_fig3"
   ]
  },
  {
   "cell_type": "markdown",
   "metadata": {},
   "source": [
    "use ‘linregress’ function from SciPy statistics package for the linear regression"
   ]
  },
  {
   "cell_type": "code",
   "execution_count": 35,
   "metadata": {},
   "outputs": [
    {
     "data": {
      "text/plain": "[<matplotlib.lines.Line2D at 0x7fc1d92731c0>]"
     },
     "execution_count": 35,
     "metadata": {},
     "output_type": "execute_result"
    },
    {
     "data": {
      "image/png": "[encoded data removed]",
      "text/plain": "<Figure size 432x288 with 1 Axes>"
     },
     "metadata": {
      "needs_background": "light"
     },
     "output_type": "display_data"
    }
   ],
   "source": [
    "(fig3, ax3) = pyplot.subplots()\n",
    "\n",
    "x_fig3 = df_papr_fig3.index\n",
    "y_fig3 = df_papr_fig3\n",
    "\n",
    "date_major_formatter_fig3 = dates.DateFormatter('%Y')\n",
    "date_minor_formatter_fig3 = dates.DateFormatter('%M')\n",
    "\n",
    "ax3.plot_date(x_fig3, y_fig3, linestyle='solid', markersize=0)\n",
    "\n",
    "ax3.set_title('monthly variation of seismicity')\n",
    "ax3.set_xlabel('occurence time, yr.')\n",
    "ax3.set_ylabel('number of events')\n",
    "\n",
    "ax3.xaxis.set_major_formatter(date_major_formatter_fig3)\n",
    "ax3.xaxis.set_minor_formatter(date_minor_formatter_fig3)\n",
    "\n",
    "fig3.autofmt_xdate()\n",
    "\n",
    "ax3.tick_params(which='minor', color='r')\n",
    "\n",
    "ax3.grid(False)\n",
    "\n",
    "# SciPy statistics *linregress()* for linear regression\n",
    "\n",
    "y_fig3_nparray = numpy.array(y_fig3.values, dtype=float)\n",
    "x_fig3_nparray = numpy.array(x_fig3.values, dtype=float)\n",
    "\n",
    "(slope_fig3, intercept_fig3, r_value_fig3, p_value_fig3, std_error_fig3) = stats.linregress(x_fig3_nparray, y_fig3_nparray)\n",
    "\n",
    "xf_fig3 = numpy.linspace(min(x_fig3_nparray), max(x_fig3_nparray), 100)\n",
    "xf_fig3_copy = xf_fig3.copy()\n",
    "xf_fig3_copy = pandas.to_datetime(xf_fig3_copy)\n",
    "yf_fig3 = (slope_fig3 * xf_fig3) + intercept_fig3\n",
    "\n",
    "ax3.plot(xf_fig3_copy, yf_fig3, linestyle='--')"
   ]
  },
  {
   "cell_type": "code",
   "execution_count": 36,
   "metadata": {},
   "outputs": [
    {
     "data": {
      "text/plain": "(6.943365440606146e-17,\n 20.08097460199687,\n 0.20454669328633385,\n 0.005880947223241363,\n 2.4905010255798637e-17)"
     },
     "execution_count": 36,
     "metadata": {},
     "output_type": "execute_result"
    }
   ],
   "source": [
    "(slope_fig3, intercept_fig3, r_value_fig3, p_value_fig3, std_error_fig3)"
   ]
  },
  {
   "cell_type": "markdown",
   "metadata": {},
   "source": [
    "## figure 5"
   ]
  },
  {
   "cell_type": "markdown",
   "metadata": {},
   "source": [
    "*Variations of the cumulative number of events versus time, in six magnitude bands in the Peloponnesos-Aegean area. <br> Dots indicate occurrences of large (M≥6.0) earthquakes.*"
   ]
  },
  {
   "cell_type": "markdown",
   "metadata": {},
   "source": [
    "### dataframe slicing"
   ]
  },
  {
   "cell_type": "code",
   "execution_count": 37,
   "metadata": {},
   "outputs": [
    {
     "data": {
      "text/html": "<div>\n<style scoped>\n    .dataframe tbody tr th:only-of-type {\n        vertical-align: middle;\n    }\n\n    .dataframe tbody tr th {\n        vertical-align: top;\n    }\n\n    .dataframe thead th {\n        text-align: right;\n    }\n</style>\n<table border=\"1\" class=\"dataframe\">\n  <thead>\n    <tr style=\"text-align: right;\">\n      <th></th>\n      <th>id</th>\n      <th>latitude</th>\n      <th>longitude</th>\n      <th>depth</th>\n      <th>magnitude</th>\n      <th>event</th>\n    </tr>\n    <tr>\n      <th>datetime</th>\n      <th></th>\n      <th></th>\n      <th></th>\n      <th></th>\n      <th></th>\n      <th></th>\n    </tr>\n  </thead>\n  <tbody>\n    <tr>\n      <th>1982-01-01 03:08:17.000</th>\n      <td>10000</td>\n      <td>38.70</td>\n      <td>22.40</td>\n      <td>10</td>\n      <td>3.8</td>\n      <td>1</td>\n    </tr>\n    <tr>\n      <th>1982-01-01 04:05:20.000</th>\n      <td>10001</td>\n      <td>38.60</td>\n      <td>22.40</td>\n      <td>10</td>\n      <td>3.5</td>\n      <td>2</td>\n    </tr>\n    <tr>\n      <th>1982-01-03 19:35:11.000</th>\n      <td>10003</td>\n      <td>38.80</td>\n      <td>24.90</td>\n      <td>10</td>\n      <td>4.1</td>\n      <td>3</td>\n    </tr>\n    <tr>\n      <th>1982-01-03 19:49:22.000</th>\n      <td>10004</td>\n      <td>38.80</td>\n      <td>24.90</td>\n      <td>10</td>\n      <td>3.8</td>\n      <td>4</td>\n    </tr>\n    <tr>\n      <th>1982-01-03 23:29:48.000</th>\n      <td>10005</td>\n      <td>38.60</td>\n      <td>20.70</td>\n      <td>10</td>\n      <td>3.9</td>\n      <td>5</td>\n    </tr>\n    <tr>\n      <th>...</th>\n      <td>...</td>\n      <td>...</td>\n      <td>...</td>\n      <td>...</td>\n      <td>...</td>\n      <td>...</td>\n    </tr>\n    <tr>\n      <th>1996-12-29 03:19:32.300</th>\n      <td>28313</td>\n      <td>36.28</td>\n      <td>21.79</td>\n      <td>39</td>\n      <td>3.7</td>\n      <td>11316</td>\n    </tr>\n    <tr>\n      <th>1996-12-30 08:42:30.700</th>\n      <td>28318</td>\n      <td>37.45</td>\n      <td>20.79</td>\n      <td>1</td>\n      <td>4.5</td>\n      <td>11317</td>\n    </tr>\n    <tr>\n      <th>1996-12-30 16:50:20.700</th>\n      <td>28321</td>\n      <td>38.19</td>\n      <td>22.56</td>\n      <td>10</td>\n      <td>3.0</td>\n      <td>11318</td>\n    </tr>\n    <tr>\n      <th>1996-12-30 17:44:48.300</th>\n      <td>28322</td>\n      <td>37.07</td>\n      <td>20.64</td>\n      <td>10</td>\n      <td>3.4</td>\n      <td>11319</td>\n    </tr>\n    <tr>\n      <th>1996-12-30 21:29:42.500</th>\n      <td>28323</td>\n      <td>37.06</td>\n      <td>20.45</td>\n      <td>10</td>\n      <td>3.3</td>\n      <td>11320</td>\n    </tr>\n  </tbody>\n</table>\n<p>11320 rows × 6 columns</p>\n</div>",
      "text/plain": "                            id  latitude  longitude  depth  magnitude  event\ndatetime                                                                    \n1982-01-01 03:08:17.000  10000     38.70      22.40     10        3.8      1\n1982-01-01 04:05:20.000  10001     38.60      22.40     10        3.5      2\n1982-01-03 19:35:11.000  10003     38.80      24.90     10        4.1      3\n1982-01-03 19:49:22.000  10004     38.80      24.90     10        3.8      4\n1982-01-03 23:29:48.000  10005     38.60      20.70     10        3.9      5\n...                        ...       ...        ...    ...        ...    ...\n1996-12-29 03:19:32.300  28313     36.28      21.79     39        3.7  11316\n1996-12-30 08:42:30.700  28318     37.45      20.79      1        4.5  11317\n1996-12-30 16:50:20.700  28321     38.19      22.56     10        3.0  11318\n1996-12-30 17:44:48.300  28322     37.07      20.64     10        3.4  11319\n1996-12-30 21:29:42.500  28323     37.06      20.45     10        3.3  11320\n\n[11320 rows x 6 columns]"
     },
     "execution_count": 37,
     "metadata": {},
     "output_type": "execute_result"
    }
   ],
   "source": [
    "df_papr"
   ]
  },
  {
   "cell_type": "code",
   "execution_count": 40,
   "metadata": {},
   "outputs": [
    {
     "data": {
      "text/plain": "id             int64\nlatitude     float64\nlongitude    float64\ndepth          int64\nmagnitude    float64\nevent          int64\ndtype: object"
     },
     "execution_count": 40,
     "metadata": {},
     "output_type": "execute_result"
    }
   ],
   "source": [
    "df_papr.dtypes"
   ]
  },
  {
   "cell_type": "markdown",
   "metadata": {},
   "source": [
    "0.0 < magnitude ≤ 3.6"
   ]
  },
  {
   "cell_type": "code",
   "execution_count": 47,
   "metadata": {},
   "outputs": [],
   "source": [
    "filtr = (df_papr['magnitude'] > 0) & (df_papr['magnitude'] <= 3.4)\n",
    "df_papr_fig5a = df_papr[filtr].copy()"
   ]
  },
  {
   "cell_type": "code",
   "execution_count": 50,
   "metadata": {},
   "outputs": [
    {
     "data": {
      "text/html": "<div>\n<style scoped>\n    .dataframe tbody tr th:only-of-type {\n        vertical-align: middle;\n    }\n\n    .dataframe tbody tr th {\n        vertical-align: top;\n    }\n\n    .dataframe thead th {\n        text-align: right;\n    }\n</style>\n<table border=\"1\" class=\"dataframe\">\n  <thead>\n    <tr style=\"text-align: right;\">\n      <th></th>\n      <th>id</th>\n      <th>latitude</th>\n      <th>longitude</th>\n      <th>depth</th>\n      <th>magnitude</th>\n      <th>event</th>\n    </tr>\n    <tr>\n      <th>datetime</th>\n      <th></th>\n      <th></th>\n      <th></th>\n      <th></th>\n      <th></th>\n      <th></th>\n    </tr>\n  </thead>\n  <tbody>\n    <tr>\n      <th>1982-01-12 08:32:41.000</th>\n      <td>10039</td>\n      <td>38.40</td>\n      <td>23.20</td>\n      <td>10</td>\n      <td>3.4</td>\n      <td>6545</td>\n    </tr>\n    <tr>\n      <th>1982-01-22 09:12:01.000</th>\n      <td>10166</td>\n      <td>38.60</td>\n      <td>24.90</td>\n      <td>10</td>\n      <td>3.4</td>\n      <td>529396</td>\n    </tr>\n    <tr>\n      <th>1982-01-27 04:17:07.000</th>\n      <td>10189</td>\n      <td>38.60</td>\n      <td>24.80</td>\n      <td>10</td>\n      <td>3.4</td>\n      <td>790244</td>\n    </tr>\n    <tr>\n      <th>1982-01-27 19:22:57.000</th>\n      <td>10192</td>\n      <td>38.20</td>\n      <td>23.10</td>\n      <td>10</td>\n      <td>3.4</td>\n      <td>833340</td>\n    </tr>\n    <tr>\n      <th>1982-01-31 02:44:32.000</th>\n      <td>10203</td>\n      <td>38.60</td>\n      <td>24.40</td>\n      <td>10</td>\n      <td>3.4</td>\n      <td>955860</td>\n    </tr>\n    <tr>\n      <th>...</th>\n      <td>...</td>\n      <td>...</td>\n      <td>...</td>\n      <td>...</td>\n      <td>...</td>\n      <td>...</td>\n    </tr>\n    <tr>\n      <th>1996-12-24 11:00:26.500</th>\n      <td>28293</td>\n      <td>38.08</td>\n      <td>23.14</td>\n      <td>14</td>\n      <td>2.8</td>\n      <td>240993953134</td>\n    </tr>\n    <tr>\n      <th>1996-12-24 19:50:44.400</th>\n      <td>28294</td>\n      <td>38.63</td>\n      <td>22.07</td>\n      <td>8</td>\n      <td>3.2</td>\n      <td>241057894220</td>\n    </tr>\n    <tr>\n      <th>1996-12-30 16:50:20.700</th>\n      <td>28321</td>\n      <td>38.19</td>\n      <td>22.56</td>\n      <td>10</td>\n      <td>3.0</td>\n      <td>241697927240</td>\n    </tr>\n    <tr>\n      <th>1996-12-30 17:44:48.300</th>\n      <td>28322</td>\n      <td>37.07</td>\n      <td>20.64</td>\n      <td>10</td>\n      <td>3.4</td>\n      <td>241761992780</td>\n    </tr>\n    <tr>\n      <th>1996-12-30 21:29:42.500</th>\n      <td>28323</td>\n      <td>37.06</td>\n      <td>20.45</td>\n      <td>10</td>\n      <td>3.3</td>\n      <td>241826069640</td>\n    </tr>\n  </tbody>\n</table>\n<p>3352 rows × 6 columns</p>\n</div>",
      "text/plain": "                            id  latitude  longitude  depth  magnitude  \\\ndatetime                                                                \n1982-01-12 08:32:41.000  10039     38.40      23.20     10        3.4   \n1982-01-22 09:12:01.000  10166     38.60      24.90     10        3.4   \n1982-01-27 04:17:07.000  10189     38.60      24.80     10        3.4   \n1982-01-27 19:22:57.000  10192     38.20      23.10     10        3.4   \n1982-01-31 02:44:32.000  10203     38.60      24.40     10        3.4   \n...                        ...       ...        ...    ...        ...   \n1996-12-24 11:00:26.500  28293     38.08      23.14     14        2.8   \n1996-12-24 19:50:44.400  28294     38.63      22.07      8        3.2   \n1996-12-30 16:50:20.700  28321     38.19      22.56     10        3.0   \n1996-12-30 17:44:48.300  28322     37.07      20.64     10        3.4   \n1996-12-30 21:29:42.500  28323     37.06      20.45     10        3.3   \n\n                                event  \ndatetime                               \n1982-01-12 08:32:41.000          6545  \n1982-01-22 09:12:01.000        529396  \n1982-01-27 04:17:07.000        790244  \n1982-01-27 19:22:57.000        833340  \n1982-01-31 02:44:32.000        955860  \n...                               ...  \n1996-12-24 11:00:26.500  240993953134  \n1996-12-24 19:50:44.400  241057894220  \n1996-12-30 16:50:20.700  241697927240  \n1996-12-30 17:44:48.300  241761992780  \n1996-12-30 21:29:42.500  241826069640  \n\n[3352 rows x 6 columns]"
     },
     "execution_count": 50,
     "metadata": {},
     "output_type": "execute_result"
    }
   ],
   "source": [
    "df_papr_fig5a"
   ]
  },
  {
   "cell_type": "code",
   "execution_count": 51,
   "metadata": {},
   "outputs": [],
   "source": [
    "df_papr_fig5a['event'] = 1\n",
    "df_papr_fig5a['event'] = df_papr_fig5a['event'].cumsum()"
   ]
  },
  {
   "cell_type": "code",
   "execution_count": 52,
   "metadata": {},
   "outputs": [
    {
     "data": {
      "text/html": "<div>\n<style scoped>\n    .dataframe tbody tr th:only-of-type {\n        vertical-align: middle;\n    }\n\n    .dataframe tbody tr th {\n        vertical-align: top;\n    }\n\n    .dataframe thead th {\n        text-align: right;\n    }\n</style>\n<table border=\"1\" class=\"dataframe\">\n  <thead>\n    <tr style=\"text-align: right;\">\n      <th></th>\n      <th>id</th>\n      <th>latitude</th>\n      <th>longitude</th>\n      <th>depth</th>\n      <th>magnitude</th>\n      <th>event</th>\n    </tr>\n    <tr>\n      <th>datetime</th>\n      <th></th>\n      <th></th>\n      <th></th>\n      <th></th>\n      <th></th>\n      <th></th>\n    </tr>\n  </thead>\n  <tbody>\n    <tr>\n      <th>1982-01-12 08:32:41.000</th>\n      <td>10039</td>\n      <td>38.40</td>\n      <td>23.20</td>\n      <td>10</td>\n      <td>3.4</td>\n      <td>1</td>\n    </tr>\n    <tr>\n      <th>1982-01-22 09:12:01.000</th>\n      <td>10166</td>\n      <td>38.60</td>\n      <td>24.90</td>\n      <td>10</td>\n      <td>3.4</td>\n      <td>2</td>\n    </tr>\n    <tr>\n      <th>1982-01-27 04:17:07.000</th>\n      <td>10189</td>\n      <td>38.60</td>\n      <td>24.80</td>\n      <td>10</td>\n      <td>3.4</td>\n      <td>3</td>\n    </tr>\n    <tr>\n      <th>1982-01-27 19:22:57.000</th>\n      <td>10192</td>\n      <td>38.20</td>\n      <td>23.10</td>\n      <td>10</td>\n      <td>3.4</td>\n      <td>4</td>\n    </tr>\n    <tr>\n      <th>1982-01-31 02:44:32.000</th>\n      <td>10203</td>\n      <td>38.60</td>\n      <td>24.40</td>\n      <td>10</td>\n      <td>3.4</td>\n      <td>5</td>\n    </tr>\n    <tr>\n      <th>...</th>\n      <td>...</td>\n      <td>...</td>\n      <td>...</td>\n      <td>...</td>\n      <td>...</td>\n      <td>...</td>\n    </tr>\n    <tr>\n      <th>1996-12-24 11:00:26.500</th>\n      <td>28293</td>\n      <td>38.08</td>\n      <td>23.14</td>\n      <td>14</td>\n      <td>2.8</td>\n      <td>3348</td>\n    </tr>\n    <tr>\n      <th>1996-12-24 19:50:44.400</th>\n      <td>28294</td>\n      <td>38.63</td>\n      <td>22.07</td>\n      <td>8</td>\n      <td>3.2</td>\n      <td>3349</td>\n    </tr>\n    <tr>\n      <th>1996-12-30 16:50:20.700</th>\n      <td>28321</td>\n      <td>38.19</td>\n      <td>22.56</td>\n      <td>10</td>\n      <td>3.0</td>\n      <td>3350</td>\n    </tr>\n    <tr>\n      <th>1996-12-30 17:44:48.300</th>\n      <td>28322</td>\n      <td>37.07</td>\n      <td>20.64</td>\n      <td>10</td>\n      <td>3.4</td>\n      <td>3351</td>\n    </tr>\n    <tr>\n      <th>1996-12-30 21:29:42.500</th>\n      <td>28323</td>\n      <td>37.06</td>\n      <td>20.45</td>\n      <td>10</td>\n      <td>3.3</td>\n      <td>3352</td>\n    </tr>\n  </tbody>\n</table>\n<p>3352 rows × 6 columns</p>\n</div>",
      "text/plain": "                            id  latitude  longitude  depth  magnitude  event\ndatetime                                                                    \n1982-01-12 08:32:41.000  10039     38.40      23.20     10        3.4      1\n1982-01-22 09:12:01.000  10166     38.60      24.90     10        3.4      2\n1982-01-27 04:17:07.000  10189     38.60      24.80     10        3.4      3\n1982-01-27 19:22:57.000  10192     38.20      23.10     10        3.4      4\n1982-01-31 02:44:32.000  10203     38.60      24.40     10        3.4      5\n...                        ...       ...        ...    ...        ...    ...\n1996-12-24 11:00:26.500  28293     38.08      23.14     14        2.8   3348\n1996-12-24 19:50:44.400  28294     38.63      22.07      8        3.2   3349\n1996-12-30 16:50:20.700  28321     38.19      22.56     10        3.0   3350\n1996-12-30 17:44:48.300  28322     37.07      20.64     10        3.4   3351\n1996-12-30 21:29:42.500  28323     37.06      20.45     10        3.3   3352\n\n[3352 rows x 6 columns]"
     },
     "execution_count": 52,
     "metadata": {},
     "output_type": "execute_result"
    }
   ],
   "source": [
    "df_papr_fig5a"
   ]
  },
  {
   "cell_type": "markdown",
   "metadata": {},
   "source": [
    "3.5 < magnitude ≤ 3.9"
   ]
  },
  {
   "cell_type": "code",
   "execution_count": 56,
   "metadata": {},
   "outputs": [],
   "source": [
    "filtr = (df_papr['magnitude'] >= 3.5) & (df_papr['magnitude'] <= 3.9)\n",
    "df_papr_fig5b = df_papr[filtr].copy()"
   ]
  },
  {
   "cell_type": "code",
   "execution_count": 57,
   "metadata": {},
   "outputs": [],
   "source": [
    "df_papr_fig5b['event'] = 1\n",
    "df_papr_fig5b['event'] = df_papr_fig5b['event'].cumsum()"
   ]
  },
  {
   "cell_type": "code",
   "execution_count": 58,
   "metadata": {},
   "outputs": [
    {
     "data": {
      "text/html": "<div>\n<style scoped>\n    .dataframe tbody tr th:only-of-type {\n        vertical-align: middle;\n    }\n\n    .dataframe tbody tr th {\n        vertical-align: top;\n    }\n\n    .dataframe thead th {\n        text-align: right;\n    }\n</style>\n<table border=\"1\" class=\"dataframe\">\n  <thead>\n    <tr style=\"text-align: right;\">\n      <th></th>\n      <th>id</th>\n      <th>latitude</th>\n      <th>longitude</th>\n      <th>depth</th>\n      <th>magnitude</th>\n      <th>event</th>\n    </tr>\n    <tr>\n      <th>datetime</th>\n      <th></th>\n      <th></th>\n      <th></th>\n      <th></th>\n      <th></th>\n      <th></th>\n    </tr>\n  </thead>\n  <tbody>\n    <tr>\n      <th>1982-01-01 03:08:17.000</th>\n      <td>10000</td>\n      <td>38.70</td>\n      <td>22.40</td>\n      <td>10</td>\n      <td>3.8</td>\n      <td>1</td>\n    </tr>\n    <tr>\n      <th>1982-01-01 04:05:20.000</th>\n      <td>10001</td>\n      <td>38.60</td>\n      <td>22.40</td>\n      <td>10</td>\n      <td>3.5</td>\n      <td>2</td>\n    </tr>\n    <tr>\n      <th>1982-01-03 19:49:22.000</th>\n      <td>10004</td>\n      <td>38.80</td>\n      <td>24.90</td>\n      <td>10</td>\n      <td>3.8</td>\n      <td>3</td>\n    </tr>\n    <tr>\n      <th>1982-01-03 23:29:48.000</th>\n      <td>10005</td>\n      <td>38.60</td>\n      <td>20.70</td>\n      <td>10</td>\n      <td>3.9</td>\n      <td>4</td>\n    </tr>\n    <tr>\n      <th>1982-01-04 04:01:26.000</th>\n      <td>10006</td>\n      <td>38.90</td>\n      <td>25.00</td>\n      <td>10</td>\n      <td>3.7</td>\n      <td>5</td>\n    </tr>\n    <tr>\n      <th>...</th>\n      <td>...</td>\n      <td>...</td>\n      <td>...</td>\n      <td>...</td>\n      <td>...</td>\n      <td>...</td>\n    </tr>\n    <tr>\n      <th>1996-12-26 21:23:55.700</th>\n      <td>28303</td>\n      <td>38.76</td>\n      <td>21.70</td>\n      <td>1</td>\n      <td>3.8</td>\n      <td>5180</td>\n    </tr>\n    <tr>\n      <th>1996-12-27 02:29:06.800</th>\n      <td>28304</td>\n      <td>39.21</td>\n      <td>22.04</td>\n      <td>1</td>\n      <td>3.9</td>\n      <td>5181</td>\n    </tr>\n    <tr>\n      <th>1996-12-28 11:49:31.200</th>\n      <td>28308</td>\n      <td>38.73</td>\n      <td>20.68</td>\n      <td>1</td>\n      <td>3.7</td>\n      <td>5182</td>\n    </tr>\n    <tr>\n      <th>1996-12-28 23:38:24.200</th>\n      <td>28312</td>\n      <td>38.99</td>\n      <td>21.55</td>\n      <td>1</td>\n      <td>3.5</td>\n      <td>5183</td>\n    </tr>\n    <tr>\n      <th>1996-12-29 03:19:32.300</th>\n      <td>28313</td>\n      <td>36.28</td>\n      <td>21.79</td>\n      <td>39</td>\n      <td>3.7</td>\n      <td>5184</td>\n    </tr>\n  </tbody>\n</table>\n<p>5184 rows × 6 columns</p>\n</div>",
      "text/plain": "                            id  latitude  longitude  depth  magnitude  event\ndatetime                                                                    \n1982-01-01 03:08:17.000  10000     38.70      22.40     10        3.8      1\n1982-01-01 04:05:20.000  10001     38.60      22.40     10        3.5      2\n1982-01-03 19:49:22.000  10004     38.80      24.90     10        3.8      3\n1982-01-03 23:29:48.000  10005     38.60      20.70     10        3.9      4\n1982-01-04 04:01:26.000  10006     38.90      25.00     10        3.7      5\n...                        ...       ...        ...    ...        ...    ...\n1996-12-26 21:23:55.700  28303     38.76      21.70      1        3.8   5180\n1996-12-27 02:29:06.800  28304     39.21      22.04      1        3.9   5181\n1996-12-28 11:49:31.200  28308     38.73      20.68      1        3.7   5182\n1996-12-28 23:38:24.200  28312     38.99      21.55      1        3.5   5183\n1996-12-29 03:19:32.300  28313     36.28      21.79     39        3.7   5184\n\n[5184 rows x 6 columns]"
     },
     "execution_count": 58,
     "metadata": {},
     "output_type": "execute_result"
    }
   ],
   "source": [
    "df_papr_fig5b"
   ]
  },
  {
   "cell_type": "markdown",
   "metadata": {},
   "source": [
    "4.0 < magnitude ≤ 4.4"
   ]
  },
  {
   "cell_type": "code",
   "execution_count": 60,
   "metadata": {},
   "outputs": [],
   "source": [
    "filtr = (df_papr['magnitude'] >= 4.0) & (df_papr['magnitude'] <= 4.4)\n",
    "df_papr_fig5c = df_papr[filtr].copy()"
   ]
  },
  {
   "cell_type": "code",
   "execution_count": 61,
   "metadata": {},
   "outputs": [],
   "source": [
    "df_papr_fig5c['event'] = 1\n",
    "df_papr_fig5c['event'] = df_papr_fig5c['event'].cumsum()"
   ]
  },
  {
   "cell_type": "code",
   "execution_count": 62,
   "metadata": {},
   "outputs": [
    {
     "data": {
      "text/html": "<div>\n<style scoped>\n    .dataframe tbody tr th:only-of-type {\n        vertical-align: middle;\n    }\n\n    .dataframe tbody tr th {\n        vertical-align: top;\n    }\n\n    .dataframe thead th {\n        text-align: right;\n    }\n</style>\n<table border=\"1\" class=\"dataframe\">\n  <thead>\n    <tr style=\"text-align: right;\">\n      <th></th>\n      <th>id</th>\n      <th>latitude</th>\n      <th>longitude</th>\n      <th>depth</th>\n      <th>magnitude</th>\n      <th>event</th>\n    </tr>\n    <tr>\n      <th>datetime</th>\n      <th></th>\n      <th></th>\n      <th></th>\n      <th></th>\n      <th></th>\n      <th></th>\n    </tr>\n  </thead>\n  <tbody>\n    <tr>\n      <th>1982-01-03 19:35:11.000</th>\n      <td>10003</td>\n      <td>38.80</td>\n      <td>24.90</td>\n      <td>10</td>\n      <td>4.1</td>\n      <td>1</td>\n    </tr>\n    <tr>\n      <th>1982-01-04 09:56:37.000</th>\n      <td>10008</td>\n      <td>38.90</td>\n      <td>24.80</td>\n      <td>10</td>\n      <td>4.2</td>\n      <td>2</td>\n    </tr>\n    <tr>\n      <th>1982-01-05 08:29:27.000</th>\n      <td>10014</td>\n      <td>38.90</td>\n      <td>24.90</td>\n      <td>10</td>\n      <td>4.2</td>\n      <td>3</td>\n    </tr>\n    <tr>\n      <th>1982-01-06 00:30:51.000</th>\n      <td>10016</td>\n      <td>38.90</td>\n      <td>24.80</td>\n      <td>10</td>\n      <td>4.0</td>\n      <td>4</td>\n    </tr>\n    <tr>\n      <th>1982-01-06 16:44:53.000</th>\n      <td>10020</td>\n      <td>38.80</td>\n      <td>20.80</td>\n      <td>10</td>\n      <td>4.0</td>\n      <td>5</td>\n    </tr>\n    <tr>\n      <th>...</th>\n      <td>...</td>\n      <td>...</td>\n      <td>...</td>\n      <td>...</td>\n      <td>...</td>\n      <td>...</td>\n    </tr>\n    <tr>\n      <th>1996-12-17 11:49:00.700</th>\n      <td>28251</td>\n      <td>36.80</td>\n      <td>24.18</td>\n      <td>24</td>\n      <td>4.1</td>\n      <td>2187</td>\n    </tr>\n    <tr>\n      <th>1996-12-17 13:24:45.600</th>\n      <td>28252</td>\n      <td>39.00</td>\n      <td>22.21</td>\n      <td>84</td>\n      <td>4.0</td>\n      <td>2188</td>\n    </tr>\n    <tr>\n      <th>1996-12-20 02:14:47.200</th>\n      <td>28267</td>\n      <td>36.88</td>\n      <td>22.75</td>\n      <td>13</td>\n      <td>4.2</td>\n      <td>2189</td>\n    </tr>\n    <tr>\n      <th>1996-12-22 01:21:28.700</th>\n      <td>28275</td>\n      <td>38.19</td>\n      <td>24.06</td>\n      <td>1</td>\n      <td>4.2</td>\n      <td>2190</td>\n    </tr>\n    <tr>\n      <th>1996-12-25 21:54:37.100</th>\n      <td>28298</td>\n      <td>36.32</td>\n      <td>22.07</td>\n      <td>1</td>\n      <td>4.1</td>\n      <td>2191</td>\n    </tr>\n  </tbody>\n</table>\n<p>2191 rows × 6 columns</p>\n</div>",
      "text/plain": "                            id  latitude  longitude  depth  magnitude  event\ndatetime                                                                    \n1982-01-03 19:35:11.000  10003     38.80      24.90     10        4.1      1\n1982-01-04 09:56:37.000  10008     38.90      24.80     10        4.2      2\n1982-01-05 08:29:27.000  10014     38.90      24.90     10        4.2      3\n1982-01-06 00:30:51.000  10016     38.90      24.80     10        4.0      4\n1982-01-06 16:44:53.000  10020     38.80      20.80     10        4.0      5\n...                        ...       ...        ...    ...        ...    ...\n1996-12-17 11:49:00.700  28251     36.80      24.18     24        4.1   2187\n1996-12-17 13:24:45.600  28252     39.00      22.21     84        4.0   2188\n1996-12-20 02:14:47.200  28267     36.88      22.75     13        4.2   2189\n1996-12-22 01:21:28.700  28275     38.19      24.06      1        4.2   2190\n1996-12-25 21:54:37.100  28298     36.32      22.07      1        4.1   2191\n\n[2191 rows x 6 columns]"
     },
     "execution_count": 62,
     "metadata": {},
     "output_type": "execute_result"
    }
   ],
   "source": [
    "df_papr_fig5c"
   ]
  },
  {
   "cell_type": "markdown",
   "metadata": {},
   "source": [
    "4.5 < magnitude ≤ 4.9"
   ]
  },
  {
   "cell_type": "code",
   "execution_count": 63,
   "metadata": {},
   "outputs": [],
   "source": [
    "filtr = (df_papr['magnitude'] >= 4.5) & (df_papr['magnitude'] <= 4.9)\n",
    "df_papr_fig5d = df_papr[filtr].copy()"
   ]
  },
  {
   "cell_type": "code",
   "execution_count": 64,
   "metadata": {},
   "outputs": [],
   "source": [
    "df_papr_fig5d['event'] = 1\n",
    "df_papr_fig5d['event'] = df_papr_fig5d['event'].cumsum()"
   ]
  },
  {
   "cell_type": "code",
   "execution_count": 65,
   "metadata": {},
   "outputs": [
    {
     "data": {
      "text/html": "<div>\n<style scoped>\n    .dataframe tbody tr th:only-of-type {\n        vertical-align: middle;\n    }\n\n    .dataframe tbody tr th {\n        vertical-align: top;\n    }\n\n    .dataframe thead th {\n        text-align: right;\n    }\n</style>\n<table border=\"1\" class=\"dataframe\">\n  <thead>\n    <tr style=\"text-align: right;\">\n      <th></th>\n      <th>id</th>\n      <th>latitude</th>\n      <th>longitude</th>\n      <th>depth</th>\n      <th>magnitude</th>\n      <th>event</th>\n    </tr>\n    <tr>\n      <th>datetime</th>\n      <th></th>\n      <th></th>\n      <th></th>\n      <th></th>\n      <th></th>\n      <th></th>\n    </tr>\n  </thead>\n  <tbody>\n    <tr>\n      <th>1982-01-05 00:21:10.000</th>\n      <td>10012</td>\n      <td>38.80</td>\n      <td>24.90</td>\n      <td>10</td>\n      <td>4.6</td>\n      <td>1</td>\n    </tr>\n    <tr>\n      <th>1982-01-05 00:30:33.000</th>\n      <td>10013</td>\n      <td>38.90</td>\n      <td>24.90</td>\n      <td>10</td>\n      <td>4.9</td>\n      <td>2</td>\n    </tr>\n    <tr>\n      <th>1982-01-08 22:20:18.000</th>\n      <td>10028</td>\n      <td>38.90</td>\n      <td>24.70</td>\n      <td>10</td>\n      <td>4.6</td>\n      <td>3</td>\n    </tr>\n    <tr>\n      <th>1982-01-09 07:59:41.000</th>\n      <td>10029</td>\n      <td>38.50</td>\n      <td>21.90</td>\n      <td>10</td>\n      <td>4.5</td>\n      <td>4</td>\n    </tr>\n    <tr>\n      <th>1982-01-09 08:16:31.000</th>\n      <td>10030</td>\n      <td>38.50</td>\n      <td>21.90</td>\n      <td>10</td>\n      <td>4.7</td>\n      <td>5</td>\n    </tr>\n    <tr>\n      <th>...</th>\n      <td>...</td>\n      <td>...</td>\n      <td>...</td>\n      <td>...</td>\n      <td>...</td>\n      <td>...</td>\n    </tr>\n    <tr>\n      <th>1996-11-22 21:05:47.200</th>\n      <td>28100</td>\n      <td>40.00</td>\n      <td>20.80</td>\n      <td>1</td>\n      <td>4.5</td>\n      <td>452</td>\n    </tr>\n    <tr>\n      <th>1996-12-03 18:05:10.900</th>\n      <td>28160</td>\n      <td>39.88</td>\n      <td>20.22</td>\n      <td>8</td>\n      <td>4.9</td>\n      <td>453</td>\n    </tr>\n    <tr>\n      <th>1996-12-13 16:52:34.600</th>\n      <td>28202</td>\n      <td>37.02</td>\n      <td>23.76</td>\n      <td>2</td>\n      <td>4.5</td>\n      <td>454</td>\n    </tr>\n    <tr>\n      <th>1996-12-27 21:33:27.300</th>\n      <td>28306</td>\n      <td>37.31</td>\n      <td>20.77</td>\n      <td>17</td>\n      <td>4.6</td>\n      <td>455</td>\n    </tr>\n    <tr>\n      <th>1996-12-30 08:42:30.700</th>\n      <td>28318</td>\n      <td>37.45</td>\n      <td>20.79</td>\n      <td>1</td>\n      <td>4.5</td>\n      <td>456</td>\n    </tr>\n  </tbody>\n</table>\n<p>456 rows × 6 columns</p>\n</div>",
      "text/plain": "                            id  latitude  longitude  depth  magnitude  event\ndatetime                                                                    \n1982-01-05 00:21:10.000  10012     38.80      24.90     10        4.6      1\n1982-01-05 00:30:33.000  10013     38.90      24.90     10        4.9      2\n1982-01-08 22:20:18.000  10028     38.90      24.70     10        4.6      3\n1982-01-09 07:59:41.000  10029     38.50      21.90     10        4.5      4\n1982-01-09 08:16:31.000  10030     38.50      21.90     10        4.7      5\n...                        ...       ...        ...    ...        ...    ...\n1996-11-22 21:05:47.200  28100     40.00      20.80      1        4.5    452\n1996-12-03 18:05:10.900  28160     39.88      20.22      8        4.9    453\n1996-12-13 16:52:34.600  28202     37.02      23.76      2        4.5    454\n1996-12-27 21:33:27.300  28306     37.31      20.77     17        4.6    455\n1996-12-30 08:42:30.700  28318     37.45      20.79      1        4.5    456\n\n[456 rows x 6 columns]"
     },
     "execution_count": 65,
     "metadata": {},
     "output_type": "execute_result"
    }
   ],
   "source": [
    "df_papr_fig5d"
   ]
  },
  {
   "cell_type": "markdown",
   "metadata": {},
   "source": [
    "magnitude ≥ 5.0"
   ]
  },
  {
   "cell_type": "code",
   "execution_count": 66,
   "metadata": {},
   "outputs": [],
   "source": [
    "filtr = (df_papr['magnitude'] >= 5.0)\n",
    "df_papr_fig5e = df_papr[filtr].copy()"
   ]
  },
  {
   "cell_type": "code",
   "execution_count": 67,
   "metadata": {},
   "outputs": [],
   "source": [
    "df_papr_fig5e['event'] = 1\n",
    "df_papr_fig5e['event'] = df_papr_fig5e['event'].cumsum()"
   ]
  },
  {
   "cell_type": "code",
   "execution_count": 68,
   "metadata": {},
   "outputs": [
    {
     "data": {
      "text/html": "<div>\n<style scoped>\n    .dataframe tbody tr th:only-of-type {\n        vertical-align: middle;\n    }\n\n    .dataframe tbody tr th {\n        vertical-align: top;\n    }\n\n    .dataframe thead th {\n        text-align: right;\n    }\n</style>\n<table border=\"1\" class=\"dataframe\">\n  <thead>\n    <tr style=\"text-align: right;\">\n      <th></th>\n      <th>id</th>\n      <th>latitude</th>\n      <th>longitude</th>\n      <th>depth</th>\n      <th>magnitude</th>\n      <th>event</th>\n    </tr>\n    <tr>\n      <th>datetime</th>\n      <th></th>\n      <th></th>\n      <th></th>\n      <th></th>\n      <th></th>\n      <th></th>\n    </tr>\n  </thead>\n  <tbody>\n    <tr>\n      <th>1982-01-18 19:27:23.000</th>\n      <td>10059</td>\n      <td>39.90</td>\n      <td>24.50</td>\n      <td>10</td>\n      <td>6.9</td>\n      <td>1</td>\n    </tr>\n    <tr>\n      <th>1982-01-18 19:31:14.000</th>\n      <td>10060</td>\n      <td>39.80</td>\n      <td>24.20</td>\n      <td>10</td>\n      <td>5.7</td>\n      <td>2</td>\n    </tr>\n    <tr>\n      <th>1982-01-18 20:00:04.000</th>\n      <td>10066</td>\n      <td>39.70</td>\n      <td>24.30</td>\n      <td>10</td>\n      <td>5.3</td>\n      <td>3</td>\n    </tr>\n    <tr>\n      <th>1982-01-18 20:00:52.000</th>\n      <td>10067</td>\n      <td>39.80</td>\n      <td>24.30</td>\n      <td>10</td>\n      <td>5.4</td>\n      <td>4</td>\n    </tr>\n    <tr>\n      <th>1982-01-19 12:18:15.000</th>\n      <td>10119</td>\n      <td>39.90</td>\n      <td>24.40</td>\n      <td>10</td>\n      <td>5.3</td>\n      <td>5</td>\n    </tr>\n    <tr>\n      <th>...</th>\n      <td>...</td>\n      <td>...</td>\n      <td>...</td>\n      <td>...</td>\n      <td>...</td>\n      <td>...</td>\n    </tr>\n    <tr>\n      <th>1995-10-01 06:22:39.900</th>\n      <td>25264</td>\n      <td>36.88</td>\n      <td>21.40</td>\n      <td>30</td>\n      <td>5.1</td>\n      <td>133</td>\n    </tr>\n    <tr>\n      <th>1996-06-06 16:25:35.800</th>\n      <td>26667</td>\n      <td>37.55</td>\n      <td>21.11</td>\n      <td>2</td>\n      <td>5.4</td>\n      <td>134</td>\n    </tr>\n    <tr>\n      <th>1996-10-09 09:46:33.700</th>\n      <td>27841</td>\n      <td>36.78</td>\n      <td>21.46</td>\n      <td>33</td>\n      <td>5.2</td>\n      <td>135</td>\n    </tr>\n    <tr>\n      <th>1996-10-24 03:19:01.500</th>\n      <td>27966</td>\n      <td>36.74</td>\n      <td>21.35</td>\n      <td>1</td>\n      <td>5.0</td>\n      <td>136</td>\n    </tr>\n    <tr>\n      <th>1996-11-13 09:31:31.900</th>\n      <td>28042</td>\n      <td>37.40</td>\n      <td>20.07</td>\n      <td>1</td>\n      <td>5.0</td>\n      <td>137</td>\n    </tr>\n  </tbody>\n</table>\n<p>137 rows × 6 columns</p>\n</div>",
      "text/plain": "                            id  latitude  longitude  depth  magnitude  event\ndatetime                                                                    \n1982-01-18 19:27:23.000  10059     39.90      24.50     10        6.9      1\n1982-01-18 19:31:14.000  10060     39.80      24.20     10        5.7      2\n1982-01-18 20:00:04.000  10066     39.70      24.30     10        5.3      3\n1982-01-18 20:00:52.000  10067     39.80      24.30     10        5.4      4\n1982-01-19 12:18:15.000  10119     39.90      24.40     10        5.3      5\n...                        ...       ...        ...    ...        ...    ...\n1995-10-01 06:22:39.900  25264     36.88      21.40     30        5.1    133\n1996-06-06 16:25:35.800  26667     37.55      21.11      2        5.4    134\n1996-10-09 09:46:33.700  27841     36.78      21.46     33        5.2    135\n1996-10-24 03:19:01.500  27966     36.74      21.35      1        5.0    136\n1996-11-13 09:31:31.900  28042     37.40      20.07      1        5.0    137\n\n[137 rows x 6 columns]"
     },
     "execution_count": 68,
     "metadata": {},
     "output_type": "execute_result"
    }
   ],
   "source": [
    "df_papr_fig5e"
   ]
  },
  {
   "cell_type": "markdown",
   "metadata": {},
   "source": [
    "all data"
   ]
  },
  {
   "cell_type": "code",
   "execution_count": 69,
   "metadata": {},
   "outputs": [
    {
     "data": {
      "text/html": "<div>\n<style scoped>\n    .dataframe tbody tr th:only-of-type {\n        vertical-align: middle;\n    }\n\n    .dataframe tbody tr th {\n        vertical-align: top;\n    }\n\n    .dataframe thead th {\n        text-align: right;\n    }\n</style>\n<table border=\"1\" class=\"dataframe\">\n  <thead>\n    <tr style=\"text-align: right;\">\n      <th></th>\n      <th>id</th>\n      <th>latitude</th>\n      <th>longitude</th>\n      <th>depth</th>\n      <th>magnitude</th>\n      <th>event</th>\n    </tr>\n    <tr>\n      <th>datetime</th>\n      <th></th>\n      <th></th>\n      <th></th>\n      <th></th>\n      <th></th>\n      <th></th>\n    </tr>\n  </thead>\n  <tbody>\n    <tr>\n      <th>1982-01-01 03:08:17.000</th>\n      <td>10000</td>\n      <td>38.70</td>\n      <td>22.40</td>\n      <td>10</td>\n      <td>3.8</td>\n      <td>1</td>\n    </tr>\n    <tr>\n      <th>1982-01-01 04:05:20.000</th>\n      <td>10001</td>\n      <td>38.60</td>\n      <td>22.40</td>\n      <td>10</td>\n      <td>3.5</td>\n      <td>3</td>\n    </tr>\n    <tr>\n      <th>1982-01-03 19:35:11.000</th>\n      <td>10003</td>\n      <td>38.80</td>\n      <td>24.90</td>\n      <td>10</td>\n      <td>4.1</td>\n      <td>6</td>\n    </tr>\n    <tr>\n      <th>1982-01-03 19:49:22.000</th>\n      <td>10004</td>\n      <td>38.80</td>\n      <td>24.90</td>\n      <td>10</td>\n      <td>3.8</td>\n      <td>10</td>\n    </tr>\n    <tr>\n      <th>1982-01-03 23:29:48.000</th>\n      <td>10005</td>\n      <td>38.60</td>\n      <td>20.70</td>\n      <td>10</td>\n      <td>3.9</td>\n      <td>15</td>\n    </tr>\n    <tr>\n      <th>...</th>\n      <td>...</td>\n      <td>...</td>\n      <td>...</td>\n      <td>...</td>\n      <td>...</td>\n      <td>...</td>\n    </tr>\n    <tr>\n      <th>1996-12-29 03:19:32.300</th>\n      <td>28313</td>\n      <td>36.28</td>\n      <td>21.79</td>\n      <td>39</td>\n      <td>3.7</td>\n      <td>64031586</td>\n    </tr>\n    <tr>\n      <th>1996-12-30 08:42:30.700</th>\n      <td>28318</td>\n      <td>37.45</td>\n      <td>20.79</td>\n      <td>1</td>\n      <td>4.5</td>\n      <td>64042903</td>\n    </tr>\n    <tr>\n      <th>1996-12-30 16:50:20.700</th>\n      <td>28321</td>\n      <td>38.19</td>\n      <td>22.56</td>\n      <td>10</td>\n      <td>3.0</td>\n      <td>64054221</td>\n    </tr>\n    <tr>\n      <th>1996-12-30 17:44:48.300</th>\n      <td>28322</td>\n      <td>37.07</td>\n      <td>20.64</td>\n      <td>10</td>\n      <td>3.4</td>\n      <td>64065540</td>\n    </tr>\n    <tr>\n      <th>1996-12-30 21:29:42.500</th>\n      <td>28323</td>\n      <td>37.06</td>\n      <td>20.45</td>\n      <td>10</td>\n      <td>3.3</td>\n      <td>64076860</td>\n    </tr>\n  </tbody>\n</table>\n<p>11320 rows × 6 columns</p>\n</div>",
      "text/plain": "                            id  latitude  longitude  depth  magnitude  \\\ndatetime                                                                \n1982-01-01 03:08:17.000  10000     38.70      22.40     10        3.8   \n1982-01-01 04:05:20.000  10001     38.60      22.40     10        3.5   \n1982-01-03 19:35:11.000  10003     38.80      24.90     10        4.1   \n1982-01-03 19:49:22.000  10004     38.80      24.90     10        3.8   \n1982-01-03 23:29:48.000  10005     38.60      20.70     10        3.9   \n...                        ...       ...        ...    ...        ...   \n1996-12-29 03:19:32.300  28313     36.28      21.79     39        3.7   \n1996-12-30 08:42:30.700  28318     37.45      20.79      1        4.5   \n1996-12-30 16:50:20.700  28321     38.19      22.56     10        3.0   \n1996-12-30 17:44:48.300  28322     37.07      20.64     10        3.4   \n1996-12-30 21:29:42.500  28323     37.06      20.45     10        3.3   \n\n                            event  \ndatetime                           \n1982-01-01 03:08:17.000         1  \n1982-01-01 04:05:20.000         3  \n1982-01-03 19:35:11.000         6  \n1982-01-03 19:49:22.000        10  \n1982-01-03 23:29:48.000        15  \n...                           ...  \n1996-12-29 03:19:32.300  64031586  \n1996-12-30 08:42:30.700  64042903  \n1996-12-30 16:50:20.700  64054221  \n1996-12-30 17:44:48.300  64065540  \n1996-12-30 21:29:42.500  64076860  \n\n[11320 rows x 6 columns]"
     },
     "execution_count": 69,
     "metadata": {},
     "output_type": "execute_result"
    }
   ],
   "source": [
    "df_papr_fig5f = df_papr.copy()\n",
    "df_papr_fig5f"
   ]
  },
  {
   "cell_type": "markdown",
   "metadata": {},
   "source": [
    "### plot creation"
   ]
  },
  {
   "cell_type": "code",
   "execution_count": null,
   "metadata": {},
   "outputs": [],
   "source": []
  }
 ],
 "metadata": {
  "kernelspec": {
   "display_name": "Python 3.8.8 64-bit ('base': conda)",
   "name": "python388jvsc74a57bd07bde47dc5818e7c9243e9681c7d57df13ebb56129c733f06b1a7e8c00938d1ab"
  },
  "language_info": {
   "codemirror_mode": {
    "name": "ipython",
    "version": 3
   },
   "file_extension": ".py",
   "mimetype": "text/x-python",
   "name": "python",
   "nbconvert_exporter": "python",
   "pygments_lexer": "ipython3",
   "version": "3.8.8"
  },
  "metadata": {
   "interpreter": {
    "hash": "7bde47dc5818e7c9243e9681c7d57df13ebb56129c733f06b1a7e8c00938d1ab"
   }
  },
  "orig_nbformat": 2
 },
 "nbformat": 4,
 "nbformat_minor": 2
}