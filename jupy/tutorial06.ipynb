{
 "metadata": {
  "language_info": {
   "codemirror_mode": {
    "name": "ipython",
    "version": 3
   },
   "file_extension": ".py",
   "mimetype": "text/x-python",
   "name": "python",
   "nbconvert_exporter": "python",
   "pygments_lexer": "ipython3",
   "version": "3.8.5-final"
  },
  "orig_nbformat": 2,
  "kernelspec": {
   "name": "python385jvsc74a57bd0dca0ade3e726a953b501b15e8e990130d2b7799f14cfd9f4271676035ebe5511",
   "display_name": "Python 3.8.5 64-bit ('base': conda)"
  }
 },
 "nbformat": 4,
 "nbformat_minor": 2,
 "cells": [
  {
   "cell_type": "code",
   "execution_count": 3,
   "metadata": {},
   "outputs": [],
   "source": [
    "import pandas"
   ]
  },
  {
   "cell_type": "code",
   "execution_count": 4,
   "metadata": {},
   "outputs": [],
   "source": [
    "df = pandas.read_csv('quakes.csv')\n",
    "df_schema = pandas.read_csv('schema.csv')"
   ]
  },
  {
   "source": [
    "# MEAN MAGNITUDE\n",
    "median for example is an aggregiate function"
   ],
   "cell_type": "markdown",
   "metadata": {}
  },
  {
   "cell_type": "code",
   "execution_count": 5,
   "metadata": {},
   "outputs": [
    {
     "output_type": "execute_result",
     "data": {
      "text/plain": [
       "0         5.3\n",
       "1         5.7\n",
       "2         4.5\n",
       "3         5.0\n",
       "4         5.8\n",
       "         ... \n",
       "313395    0.6\n",
       "313396    1.5\n",
       "313397    1.0\n",
       "313398    1.0\n",
       "313399    1.2\n",
       "Name: MAGNITUDE, Length: 313400, dtype: float64"
      ]
     },
     "metadata": {},
     "execution_count": 5
    }
   ],
   "source": [
    "df['MAGNITUDE']"
   ]
  },
  {
   "cell_type": "code",
   "execution_count": 6,
   "metadata": {},
   "outputs": [
    {
     "output_type": "execute_result",
     "data": {
      "text/plain": [
       "0     5.3\n",
       "1     5.7\n",
       "2     4.5\n",
       "3     5.0\n",
       "4     5.8\n",
       "5     5.2\n",
       "6     4.9\n",
       "7     4.2\n",
       "8     4.4\n",
       "9     5.8\n",
       "10    5.4\n",
       "11    3.9\n",
       "12    5.3\n",
       "13    7.0\n",
       "14    4.3\n",
       "Name: MAGNITUDE, dtype: float64"
      ]
     },
     "metadata": {},
     "execution_count": 6
    }
   ],
   "source": [
    "df['MAGNITUDE'].head(15)"
   ]
  },
  {
   "cell_type": "code",
   "execution_count": 7,
   "metadata": {},
   "outputs": [
    {
     "output_type": "execute_result",
     "data": {
      "text/plain": [
       "2.3"
      ]
     },
     "metadata": {},
     "execution_count": 7
    }
   ],
   "source": [
    "df['MAGNITUDE'].median() # ignores NaN"
   ]
  },
  {
   "source": [
    "# GROUPING\n",
    "median magnitude by year"
   ],
   "cell_type": "markdown",
   "metadata": {}
  },
  {
   "cell_type": "code",
   "execution_count": 8,
   "metadata": {},
   "outputs": [
    {
     "output_type": "execute_result",
     "data": {
      "text/plain": [
       "YEAR         2013.00\n",
       "DAY            16.00\n",
       "HOUR           12.00\n",
       "MINUTE         29.00\n",
       "SECOND         29.90\n",
       "LATITUDE       38.20\n",
       "LONGITUDE      22.16\n",
       "DEPTH          13.00\n",
       "MAGNITUDE       2.30\n",
       "dtype: float64"
      ]
     },
     "metadata": {},
     "execution_count": 8
    }
   ],
   "source": [
    "df.median() # check out, no months (of course, no sense)"
   ]
  },
  {
   "source": [
    "general feel, broad overview"
   ],
   "cell_type": "markdown",
   "metadata": {}
  },
  {
   "cell_type": "code",
   "execution_count": 9,
   "metadata": {},
   "outputs": [
    {
     "output_type": "execute_result",
     "data": {
      "text/plain": [
       "                YEAR            DAY           HOUR         MINUTE  \\\n",
       "count  313400.000000  313400.000000  313400.000000  313400.000000   \n",
       "mean     2010.345603      15.796264      11.658440      29.436490   \n",
       "std         9.831270       8.725064       7.421301      17.285351   \n",
       "min      1964.000000       1.000000       0.000000       0.000000   \n",
       "25%      2009.000000       8.000000       5.000000      14.000000   \n",
       "50%      2013.000000      16.000000      12.000000      29.000000   \n",
       "75%      2016.000000      23.000000      18.000000      44.000000   \n",
       "max      2021.000000      31.000000      23.000000      59.000000   \n",
       "\n",
       "              SECOND       LATITUDE      LONGITUDE          DEPTH  \\\n",
       "count  313400.000000  313400.000000  313400.000000  313400.000000   \n",
       "mean       29.889154      37.949128      22.807047      16.377189   \n",
       "std        17.318065       1.502103       2.053178      12.302358   \n",
       "min         0.000000      33.100000      14.655700       0.000000   \n",
       "25%        14.900000      37.270000      21.260000      10.000000   \n",
       "50%        29.900000      38.200000      22.160000      13.000000   \n",
       "75%        44.900000      38.730000      23.840000      21.000000   \n",
       "max        59.900000      43.680000      35.030000     244.000000   \n",
       "\n",
       "           MAGNITUDE  \n",
       "count  313400.000000  \n",
       "mean        2.351584  \n",
       "std         0.844349  \n",
       "min         0.000000  \n",
       "25%         1.700000  \n",
       "50%         2.300000  \n",
       "75%         3.000000  \n",
       "max         7.000000  "
      ],
      "text/html": "<div>\n<style scoped>\n    .dataframe tbody tr th:only-of-type {\n        vertical-align: middle;\n    }\n\n    .dataframe tbody tr th {\n        vertical-align: top;\n    }\n\n    .dataframe thead th {\n        text-align: right;\n    }\n</style>\n<table border=\"1\" class=\"dataframe\">\n  <thead>\n    <tr style=\"text-align: right;\">\n      <th></th>\n      <th>YEAR</th>\n      <th>DAY</th>\n      <th>HOUR</th>\n      <th>MINUTE</th>\n      <th>SECOND</th>\n      <th>LATITUDE</th>\n      <th>LONGITUDE</th>\n      <th>DEPTH</th>\n      <th>MAGNITUDE</th>\n    </tr>\n  </thead>\n  <tbody>\n    <tr>\n      <th>count</th>\n      <td>313400.000000</td>\n      <td>313400.000000</td>\n      <td>313400.000000</td>\n      <td>313400.000000</td>\n      <td>313400.000000</td>\n      <td>313400.000000</td>\n      <td>313400.000000</td>\n      <td>313400.000000</td>\n      <td>313400.000000</td>\n    </tr>\n    <tr>\n      <th>mean</th>\n      <td>2010.345603</td>\n      <td>15.796264</td>\n      <td>11.658440</td>\n      <td>29.436490</td>\n      <td>29.889154</td>\n      <td>37.949128</td>\n      <td>22.807047</td>\n      <td>16.377189</td>\n      <td>2.351584</td>\n    </tr>\n    <tr>\n      <th>std</th>\n      <td>9.831270</td>\n      <td>8.725064</td>\n      <td>7.421301</td>\n      <td>17.285351</td>\n      <td>17.318065</td>\n      <td>1.502103</td>\n      <td>2.053178</td>\n      <td>12.302358</td>\n      <td>0.844349</td>\n    </tr>\n    <tr>\n      <th>min</th>\n      <td>1964.000000</td>\n      <td>1.000000</td>\n      <td>0.000000</td>\n      <td>0.000000</td>\n      <td>0.000000</td>\n      <td>33.100000</td>\n      <td>14.655700</td>\n      <td>0.000000</td>\n      <td>0.000000</td>\n    </tr>\n    <tr>\n      <th>25%</th>\n      <td>2009.000000</td>\n      <td>8.000000</td>\n      <td>5.000000</td>\n      <td>14.000000</td>\n      <td>14.900000</td>\n      <td>37.270000</td>\n      <td>21.260000</td>\n      <td>10.000000</td>\n      <td>1.700000</td>\n    </tr>\n    <tr>\n      <th>50%</th>\n      <td>2013.000000</td>\n      <td>16.000000</td>\n      <td>12.000000</td>\n      <td>29.000000</td>\n      <td>29.900000</td>\n      <td>38.200000</td>\n      <td>22.160000</td>\n      <td>13.000000</td>\n      <td>2.300000</td>\n    </tr>\n    <tr>\n      <th>75%</th>\n      <td>2016.000000</td>\n      <td>23.000000</td>\n      <td>18.000000</td>\n      <td>44.000000</td>\n      <td>44.900000</td>\n      <td>38.730000</td>\n      <td>23.840000</td>\n      <td>21.000000</td>\n      <td>3.000000</td>\n    </tr>\n    <tr>\n      <th>max</th>\n      <td>2021.000000</td>\n      <td>31.000000</td>\n      <td>23.000000</td>\n      <td>59.000000</td>\n      <td>59.900000</td>\n      <td>43.680000</td>\n      <td>35.030000</td>\n      <td>244.000000</td>\n      <td>7.000000</td>\n    </tr>\n  </tbody>\n</table>\n</div>"
     },
     "metadata": {},
     "execution_count": 9
    }
   ],
   "source": [
    "df.describe() # again, no month, non-numerical"
   ]
  },
  {
   "source": [
    "main is very much affected by outliers, that's why median"
   ],
   "cell_type": "markdown",
   "metadata": {}
  },
  {
   "cell_type": "code",
   "execution_count": 10,
   "metadata": {},
   "outputs": [
    {
     "output_type": "execute_result",
     "data": {
      "text/plain": [
       "count    313400.000000\n",
       "mean          2.351584\n",
       "std           0.844349\n",
       "min           0.000000\n",
       "25%           1.700000\n",
       "50%           2.300000\n",
       "75%           3.000000\n",
       "max           7.000000\n",
       "Name: MAGNITUDE, dtype: float64"
      ]
     },
     "metadata": {},
     "execution_count": 10
    }
   ],
   "source": [
    "df['MAGNITUDE'].describe()"
   ]
  },
  {
   "cell_type": "code",
   "execution_count": 11,
   "metadata": {},
   "outputs": [
    {
     "output_type": "execute_result",
     "data": {
      "text/plain": [
       "YEAR         313400\n",
       "MONTH        313400\n",
       "DAY          313400\n",
       "HOUR         313400\n",
       "MINUTE       313400\n",
       "SECOND       313400\n",
       "LATITUDE     313400\n",
       "LONGITUDE    313400\n",
       "DEPTH        313400\n",
       "MAGNITUDE    313400\n",
       "dtype: int64"
      ]
     },
     "metadata": {},
     "execution_count": 11
    }
   ],
   "source": [
    "df.count()"
   ]
  },
  {
   "cell_type": "code",
   "execution_count": 12,
   "metadata": {},
   "outputs": [
    {
     "output_type": "execute_result",
     "data": {
      "text/plain": [
       "10     36504\n",
       "5      20438\n",
       "12     16806\n",
       "11     15948\n",
       "13     14889\n",
       "       ...  \n",
       "178        1\n",
       "174        1\n",
       "173        1\n",
       "168        1\n",
       "244        1\n",
       "Name: DEPTH, Length: 202, dtype: int64"
      ]
     },
     "metadata": {},
     "execution_count": 12
    }
   ],
   "source": [
    "df['DEPTH'].value_counts()"
   ]
  },
  {
   "source": [
    "very interesting, many quakes reported in 10m depth"
   ],
   "cell_type": "markdown",
   "metadata": {}
  },
  {
   "cell_type": "code",
   "execution_count": 13,
   "metadata": {},
   "outputs": [
    {
     "output_type": "execute_result",
     "data": {
      "text/plain": [
       "0         10\n",
       "1         10\n",
       "2         10\n",
       "3         10\n",
       "4         10\n",
       "          ..\n",
       "313395     5\n",
       "313396     5\n",
       "313397     8\n",
       "313398     6\n",
       "313399     7\n",
       "Name: DEPTH, Length: 313400, dtype: int64"
      ]
     },
     "metadata": {},
     "execution_count": 13
    }
   ],
   "source": [
    "df['DEPTH']"
   ]
  },
  {
   "cell_type": "code",
   "execution_count": 54,
   "metadata": {},
   "outputs": [
    {
     "output_type": "execute_result",
     "data": {
      "text/plain": [
       "      COLUMN                   ATTRIBUTE\n",
       "0       YEAR       event Date: Year XXXX\n",
       "1      MONTH      event Date: Month abbr\n",
       "2        DAY             event Date: Day\n",
       "3       HOUR  event Time (GMT): Hour 24h\n",
       "4     MINUTE    event Time (GMT): Minute\n",
       "5     SECOND    event Time (GMT): Second\n",
       "6   LATITUDE          event Latitude (N)\n",
       "7  LONGITUDE         event Longitude (E)\n",
       "8      DEPTH            event Depth (km)\n",
       "9  MAGNITUDE          event Magnitude Mr"
      ],
      "text/html": "<div>\n<style scoped>\n    .dataframe tbody tr th:only-of-type {\n        vertical-align: middle;\n    }\n\n    .dataframe tbody tr th {\n        vertical-align: top;\n    }\n\n    .dataframe thead th {\n        text-align: right;\n    }\n</style>\n<table border=\"1\" class=\"dataframe\">\n  <thead>\n    <tr style=\"text-align: right;\">\n      <th></th>\n      <th>COLUMN</th>\n      <th>ATTRIBUTE</th>\n    </tr>\n  </thead>\n  <tbody>\n    <tr>\n      <th>0</th>\n      <td>YEAR</td>\n      <td>event Date: Year XXXX</td>\n    </tr>\n    <tr>\n      <th>1</th>\n      <td>MONTH</td>\n      <td>event Date: Month abbr</td>\n    </tr>\n    <tr>\n      <th>2</th>\n      <td>DAY</td>\n      <td>event Date: Day</td>\n    </tr>\n    <tr>\n      <th>3</th>\n      <td>HOUR</td>\n      <td>event Time (GMT): Hour 24h</td>\n    </tr>\n    <tr>\n      <th>4</th>\n      <td>MINUTE</td>\n      <td>event Time (GMT): Minute</td>\n    </tr>\n    <tr>\n      <th>5</th>\n      <td>SECOND</td>\n      <td>event Time (GMT): Second</td>\n    </tr>\n    <tr>\n      <th>6</th>\n      <td>LATITUDE</td>\n      <td>event Latitude (N)</td>\n    </tr>\n    <tr>\n      <th>7</th>\n      <td>LONGITUDE</td>\n      <td>event Longitude (E)</td>\n    </tr>\n    <tr>\n      <th>8</th>\n      <td>DEPTH</td>\n      <td>event Depth (km)</td>\n    </tr>\n    <tr>\n      <th>9</th>\n      <td>MAGNITUDE</td>\n      <td>event Magnitude Mr</td>\n    </tr>\n  </tbody>\n</table>\n</div>"
     },
     "metadata": {},
     "execution_count": 54
    }
   ],
   "source": [
    "df_schema"
   ]
  },
  {
   "cell_type": "code",
   "execution_count": 63,
   "metadata": {},
   "outputs": [],
   "source": [
    "df_schema.set_index('COLUMN', inplace=True)"
   ]
  },
  {
   "cell_type": "code",
   "execution_count": 64,
   "metadata": {},
   "outputs": [
    {
     "output_type": "execute_result",
     "data": {
      "text/plain": [
       "ATTRIBUTE    event Depth (km)\n",
       "Name: DEPTH, dtype: object"
      ]
     },
     "metadata": {},
     "execution_count": 64
    }
   ],
   "source": [
    "df_schema.loc['DEPTH'] # .loc takes a filter of an index"
   ]
  },
  {
   "cell_type": "code",
   "execution_count": 65,
   "metadata": {},
   "outputs": [
    {
     "output_type": "execute_result",
     "data": {
      "text/plain": [
       "YEAR  MONTH  DAY  HOUR  MINUTE  SECOND  LATITUDE  LONGITUDE  DEPTH  MAGNITUDE\n",
       "2021  MAR    31   23    52      38.9    39.7096   22.1828    6      2.5          1\n",
       "2011  APR    7    19    8       52.9    38.3900   21.9200    8      1.2          1\n",
       "                  14    7       1.7     38.5000   22.2700    11     1.1          1\n",
       "                  15    28      10.6    35.6000   21.9100    6      3.4          1\n",
       "                        39      23.1    34.9400   23.3100    8      2.9          1\n",
       "                                                                                ..\n",
       "2015  JUL    12   9     13      33.2    38.1400   20.5100    7      1.9          1\n",
       "                  10    7       15.6    38.9800   23.4000    11     1.7          1\n",
       "                        33      10.5    38.2900   20.4500    12     1.7          1\n",
       "                        55      8.1     39.0100   26.2100    28     2.0          1\n",
       "1964  APR    11   16    0       0.0     39.7500   25.2500    10     5.7          1\n",
       "Length: 313400, dtype: int64"
      ]
     },
     "metadata": {},
     "execution_count": 65
    }
   ],
   "source": [
    "df.value_counts()"
   ]
  },
  {
   "cell_type": "code",
   "execution_count": 66,
   "metadata": {},
   "outputs": [
    {
     "output_type": "execute_result",
     "data": {
      "text/plain": [
       "10     36504\n",
       "5      20438\n",
       "12     16806\n",
       "11     15948\n",
       "13     14889\n",
       "       ...  \n",
       "178        1\n",
       "174        1\n",
       "173        1\n",
       "168        1\n",
       "244        1\n",
       "Name: DEPTH, Length: 202, dtype: int64"
      ]
     },
     "metadata": {},
     "execution_count": 66
    }
   ],
   "source": [
    "df['DEPTH'].value_counts()"
   ]
  },
  {
   "source": [
    "# NORMALIZE"
   ],
   "cell_type": "markdown",
   "metadata": {}
  },
  {
   "cell_type": "code",
   "execution_count": 67,
   "metadata": {},
   "outputs": [
    {
     "output_type": "execute_result",
     "data": {
      "text/plain": [
       "10     0.116477\n",
       "5      0.065214\n",
       "12     0.053625\n",
       "11     0.050887\n",
       "13     0.047508\n",
       "         ...   \n",
       "178    0.000003\n",
       "174    0.000003\n",
       "173    0.000003\n",
       "168    0.000003\n",
       "244    0.000003\n",
       "Name: DEPTH, Length: 202, dtype: float64"
      ]
     },
     "metadata": {},
     "execution_count": 67
    }
   ],
   "source": [
    "df['DEPTH'].value_counts(normalize=True)"
   ]
  },
  {
   "cell_type": "code",
   "execution_count": 68,
   "metadata": {},
   "outputs": [
    {
     "output_type": "execute_result",
     "data": {
      "text/plain": [
       "        YEAR MONTH  DAY  HOUR  MINUTE  SECOND  LATITUDE  LONGITUDE  DEPTH  \\\n",
       "0       1964   FEB   24    23      30    25.0   38.9000    23.9000     10   \n",
       "1       1964   APR   11    16       0     0.0   39.7500    25.2500     10   \n",
       "2       1964   APR   21     8      14    40.0   38.5000    22.2500     10   \n",
       "3       1964   APR   24     3      49    58.0   38.0000    21.8000     10   \n",
       "4       1964   APR   29     4      21     0.0   39.2500    23.7500     10   \n",
       "...      ...   ...  ...   ...     ...     ...       ...        ...    ...   \n",
       "313395  2021   APR    9     5       0     7.4   39.7856    21.9081      5   \n",
       "313396  2021   APR    9     5       0    21.9   39.7920    21.9328      5   \n",
       "313397  2021   APR    9     5       1     6.5   39.7160    22.1947      8   \n",
       "313398  2021   APR    9     5       2     5.6   39.7929    21.9154      6   \n",
       "313399  2021   APR    9     5      15     5.0   39.8007    21.8948      7   \n",
       "\n",
       "        MAGNITUDE  \n",
       "0             5.3  \n",
       "1             5.7  \n",
       "2             4.5  \n",
       "3             5.0  \n",
       "4             5.8  \n",
       "...           ...  \n",
       "313395        0.6  \n",
       "313396        1.5  \n",
       "313397        1.0  \n",
       "313398        1.0  \n",
       "313399        1.2  \n",
       "\n",
       "[313400 rows x 10 columns]"
      ],
      "text/html": "<div>\n<style scoped>\n    .dataframe tbody tr th:only-of-type {\n        vertical-align: middle;\n    }\n\n    .dataframe tbody tr th {\n        vertical-align: top;\n    }\n\n    .dataframe thead th {\n        text-align: right;\n    }\n</style>\n<table border=\"1\" class=\"dataframe\">\n  <thead>\n    <tr style=\"text-align: right;\">\n      <th></th>\n      <th>YEAR</th>\n      <th>MONTH</th>\n      <th>DAY</th>\n      <th>HOUR</th>\n      <th>MINUTE</th>\n      <th>SECOND</th>\n      <th>LATITUDE</th>\n      <th>LONGITUDE</th>\n      <th>DEPTH</th>\n      <th>MAGNITUDE</th>\n    </tr>\n  </thead>\n  <tbody>\n    <tr>\n      <th>0</th>\n      <td>1964</td>\n      <td>FEB</td>\n      <td>24</td>\n      <td>23</td>\n      <td>30</td>\n      <td>25.0</td>\n      <td>38.9000</td>\n      <td>23.9000</td>\n      <td>10</td>\n      <td>5.3</td>\n    </tr>\n    <tr>\n      <th>1</th>\n      <td>1964</td>\n      <td>APR</td>\n      <td>11</td>\n      <td>16</td>\n      <td>0</td>\n      <td>0.0</td>\n      <td>39.7500</td>\n      <td>25.2500</td>\n      <td>10</td>\n      <td>5.7</td>\n    </tr>\n    <tr>\n      <th>2</th>\n      <td>1964</td>\n      <td>APR</td>\n      <td>21</td>\n      <td>8</td>\n      <td>14</td>\n      <td>40.0</td>\n      <td>38.5000</td>\n      <td>22.2500</td>\n      <td>10</td>\n      <td>4.5</td>\n    </tr>\n    <tr>\n      <th>3</th>\n      <td>1964</td>\n      <td>APR</td>\n      <td>24</td>\n      <td>3</td>\n      <td>49</td>\n      <td>58.0</td>\n      <td>38.0000</td>\n      <td>21.8000</td>\n      <td>10</td>\n      <td>5.0</td>\n    </tr>\n    <tr>\n      <th>4</th>\n      <td>1964</td>\n      <td>APR</td>\n      <td>29</td>\n      <td>4</td>\n      <td>21</td>\n      <td>0.0</td>\n      <td>39.2500</td>\n      <td>23.7500</td>\n      <td>10</td>\n      <td>5.8</td>\n    </tr>\n    <tr>\n      <th>...</th>\n      <td>...</td>\n      <td>...</td>\n      <td>...</td>\n      <td>...</td>\n      <td>...</td>\n      <td>...</td>\n      <td>...</td>\n      <td>...</td>\n      <td>...</td>\n      <td>...</td>\n    </tr>\n    <tr>\n      <th>313395</th>\n      <td>2021</td>\n      <td>APR</td>\n      <td>9</td>\n      <td>5</td>\n      <td>0</td>\n      <td>7.4</td>\n      <td>39.7856</td>\n      <td>21.9081</td>\n      <td>5</td>\n      <td>0.6</td>\n    </tr>\n    <tr>\n      <th>313396</th>\n      <td>2021</td>\n      <td>APR</td>\n      <td>9</td>\n      <td>5</td>\n      <td>0</td>\n      <td>21.9</td>\n      <td>39.7920</td>\n      <td>21.9328</td>\n      <td>5</td>\n      <td>1.5</td>\n    </tr>\n    <tr>\n      <th>313397</th>\n      <td>2021</td>\n      <td>APR</td>\n      <td>9</td>\n      <td>5</td>\n      <td>1</td>\n      <td>6.5</td>\n      <td>39.7160</td>\n      <td>22.1947</td>\n      <td>8</td>\n      <td>1.0</td>\n    </tr>\n    <tr>\n      <th>313398</th>\n      <td>2021</td>\n      <td>APR</td>\n      <td>9</td>\n      <td>5</td>\n      <td>2</td>\n      <td>5.6</td>\n      <td>39.7929</td>\n      <td>21.9154</td>\n      <td>6</td>\n      <td>1.0</td>\n    </tr>\n    <tr>\n      <th>313399</th>\n      <td>2021</td>\n      <td>APR</td>\n      <td>9</td>\n      <td>5</td>\n      <td>15</td>\n      <td>5.0</td>\n      <td>39.8007</td>\n      <td>21.8948</td>\n      <td>7</td>\n      <td>1.2</td>\n    </tr>\n  </tbody>\n</table>\n<p>313400 rows × 10 columns</p>\n</div>"
     },
     "metadata": {},
     "execution_count": 68
    }
   ],
   "source": [
    "df"
   ]
  },
  {
   "source": [
    "## GROUP BY FUNCTION\n",
    "### split -> apply function -> combine results"
   ],
   "cell_type": "markdown",
   "metadata": {}
  },
  {
   "cell_type": "code",
   "execution_count": 69,
   "metadata": {},
   "outputs": [
    {
     "output_type": "execute_result",
     "data": {
      "text/plain": [
       "0         1964\n",
       "1         1964\n",
       "2         1964\n",
       "3         1964\n",
       "4         1964\n",
       "          ... \n",
       "313395    2021\n",
       "313396    2021\n",
       "313397    2021\n",
       "313398    2021\n",
       "313399    2021\n",
       "Name: YEAR, Length: 313400, dtype: int64"
      ]
     },
     "metadata": {},
     "execution_count": 69
    }
   ],
   "source": [
    "df['YEAR']"
   ]
  },
  {
   "cell_type": "code",
   "execution_count": 70,
   "metadata": {},
   "outputs": [
    {
     "output_type": "execute_result",
     "data": {
      "text/plain": [
       "2014    29333\n",
       "2013    23916\n",
       "2012    23375\n",
       "2015    22336\n",
       "2019    20538\n",
       "2011    18893\n",
       "2016    16822\n",
       "2017    16201\n",
       "2020    15937\n",
       "2010    15807\n",
       "2018    14899\n",
       "2009    12471\n",
       "2008     9148\n",
       "2021     6990\n",
       "2007     5907\n",
       "2005     5566\n",
       "2006     5410\n",
       "2004     3439\n",
       "2003     2977\n",
       "1997     2798\n",
       "1995     2782\n",
       "2001     2668\n",
       "1996     2625\n",
       "1999     2490\n",
       "1998     2483\n",
       "2002     2390\n",
       "2000     2281\n",
       "1990     1697\n",
       "1981     1505\n",
       "1983     1380\n",
       "1993     1266\n",
       "1982     1158\n",
       "1991     1016\n",
       "1994     1002\n",
       "1992      984\n",
       "1986      937\n",
       "1984      888\n",
       "1980      821\n",
       "1989      811\n",
       "1975      786\n",
       "1974      738\n",
       "1968      683\n",
       "1972      672\n",
       "1988      668\n",
       "1976      643\n",
       "1985      597\n",
       "1977      553\n",
       "1970      541\n",
       "1969      522\n",
       "1987      515\n",
       "1979      515\n",
       "1973      507\n",
       "1978      477\n",
       "1971      413\n",
       "1967      322\n",
       "1966      190\n",
       "1965       91\n",
       "1964       20\n",
       "Name: YEAR, dtype: int64"
      ]
     },
     "metadata": {},
     "execution_count": 70
    }
   ],
   "source": [
    "df['YEAR'].value_counts()"
   ]
  },
  {
   "source": [
    "the majority of the measurements are from 2014"
   ],
   "cell_type": "markdown",
   "metadata": {}
  },
  {
   "cell_type": "code",
   "execution_count": 71,
   "metadata": {},
   "outputs": [
    {
     "output_type": "execute_result",
     "data": {
      "text/plain": [
       "ATTRIBUTE    event Date: Year XXXX\n",
       "Name: YEAR, dtype: object"
      ]
     },
     "metadata": {},
     "execution_count": 71
    }
   ],
   "source": [
    "df_schema.loc['YEAR']"
   ]
  },
  {
   "source": [
    "### split the object\n",
    "group all the results by year"
   ],
   "cell_type": "markdown",
   "metadata": {}
  },
  {
   "cell_type": "code",
   "execution_count": 73,
   "metadata": {},
   "outputs": [
    {
     "output_type": "execute_result",
     "data": {
      "text/plain": [
       "<pandas.core.groupby.generic.DataFrameGroupBy object at 0x7ffd6bd8d0a0>"
      ]
     },
     "metadata": {},
     "execution_count": 73
    }
   ],
   "source": [
    "df.groupby(['YEAR'])"
   ]
  },
  {
   "source": [
    "so, we get back a DataFrame object"
   ],
   "cell_type": "markdown",
   "metadata": {}
  },
  {
   "cell_type": "code",
   "execution_count": 78,
   "metadata": {},
   "outputs": [],
   "source": [
    "year_grp = df.groupby(['YEAR'])"
   ]
  },
  {
   "cell_type": "code",
   "execution_count": 81,
   "metadata": {},
   "outputs": [
    {
     "output_type": "execute_result",
     "data": {
      "text/plain": [
       "       YEAR MONTH  DAY  HOUR  MINUTE  SECOND  LATITUDE  LONGITUDE  DEPTH  \\\n",
       "11157  1983   JAN    2     1      18    51.5     38.58      25.40     40   \n",
       "11158  1983   JAN    2     6      20     2.4     37.32      20.56      5   \n",
       "11159  1983   JAN    3     0      12    32.4     34.91      24.53     93   \n",
       "11160  1983   JAN    3    14      20    43.7     36.05      21.75     10   \n",
       "11161  1983   JAN    4     3      58    35.9     36.30      21.67     10   \n",
       "...     ...   ...  ...   ...     ...     ...       ...        ...    ...   \n",
       "12532  1983   DEC   28     8      27    28.7     40.87      20.93      5   \n",
       "12533  1983   DEC   29     4      28    16.7     37.26      20.86      5   \n",
       "12534  1983   DEC   29    10      39    52.9     37.70      20.05      5   \n",
       "12535  1983   DEC   31     6      36     2.2     35.34      26.40      5   \n",
       "12536  1983   DEC   31    14      30    31.9     38.24      21.86     26   \n",
       "\n",
       "       MAGNITUDE  \n",
       "11157        3.2  \n",
       "11158        4.3  \n",
       "11159        4.8  \n",
       "11160        3.7  \n",
       "11161        3.6  \n",
       "...          ...  \n",
       "12532        4.3  \n",
       "12533        3.5  \n",
       "12534        3.9  \n",
       "12535        4.1  \n",
       "12536        3.1  \n",
       "\n",
       "[1380 rows x 10 columns]"
      ],
      "text/html": "<div>\n<style scoped>\n    .dataframe tbody tr th:only-of-type {\n        vertical-align: middle;\n    }\n\n    .dataframe tbody tr th {\n        vertical-align: top;\n    }\n\n    .dataframe thead th {\n        text-align: right;\n    }\n</style>\n<table border=\"1\" class=\"dataframe\">\n  <thead>\n    <tr style=\"text-align: right;\">\n      <th></th>\n      <th>YEAR</th>\n      <th>MONTH</th>\n      <th>DAY</th>\n      <th>HOUR</th>\n      <th>MINUTE</th>\n      <th>SECOND</th>\n      <th>LATITUDE</th>\n      <th>LONGITUDE</th>\n      <th>DEPTH</th>\n      <th>MAGNITUDE</th>\n    </tr>\n  </thead>\n  <tbody>\n    <tr>\n      <th>11157</th>\n      <td>1983</td>\n      <td>JAN</td>\n      <td>2</td>\n      <td>1</td>\n      <td>18</td>\n      <td>51.5</td>\n      <td>38.58</td>\n      <td>25.40</td>\n      <td>40</td>\n      <td>3.2</td>\n    </tr>\n    <tr>\n      <th>11158</th>\n      <td>1983</td>\n      <td>JAN</td>\n      <td>2</td>\n      <td>6</td>\n      <td>20</td>\n      <td>2.4</td>\n      <td>37.32</td>\n      <td>20.56</td>\n      <td>5</td>\n      <td>4.3</td>\n    </tr>\n    <tr>\n      <th>11159</th>\n      <td>1983</td>\n      <td>JAN</td>\n      <td>3</td>\n      <td>0</td>\n      <td>12</td>\n      <td>32.4</td>\n      <td>34.91</td>\n      <td>24.53</td>\n      <td>93</td>\n      <td>4.8</td>\n    </tr>\n    <tr>\n      <th>11160</th>\n      <td>1983</td>\n      <td>JAN</td>\n      <td>3</td>\n      <td>14</td>\n      <td>20</td>\n      <td>43.7</td>\n      <td>36.05</td>\n      <td>21.75</td>\n      <td>10</td>\n      <td>3.7</td>\n    </tr>\n    <tr>\n      <th>11161</th>\n      <td>1983</td>\n      <td>JAN</td>\n      <td>4</td>\n      <td>3</td>\n      <td>58</td>\n      <td>35.9</td>\n      <td>36.30</td>\n      <td>21.67</td>\n      <td>10</td>\n      <td>3.6</td>\n    </tr>\n    <tr>\n      <th>...</th>\n      <td>...</td>\n      <td>...</td>\n      <td>...</td>\n      <td>...</td>\n      <td>...</td>\n      <td>...</td>\n      <td>...</td>\n      <td>...</td>\n      <td>...</td>\n      <td>...</td>\n    </tr>\n    <tr>\n      <th>12532</th>\n      <td>1983</td>\n      <td>DEC</td>\n      <td>28</td>\n      <td>8</td>\n      <td>27</td>\n      <td>28.7</td>\n      <td>40.87</td>\n      <td>20.93</td>\n      <td>5</td>\n      <td>4.3</td>\n    </tr>\n    <tr>\n      <th>12533</th>\n      <td>1983</td>\n      <td>DEC</td>\n      <td>29</td>\n      <td>4</td>\n      <td>28</td>\n      <td>16.7</td>\n      <td>37.26</td>\n      <td>20.86</td>\n      <td>5</td>\n      <td>3.5</td>\n    </tr>\n    <tr>\n      <th>12534</th>\n      <td>1983</td>\n      <td>DEC</td>\n      <td>29</td>\n      <td>10</td>\n      <td>39</td>\n      <td>52.9</td>\n      <td>37.70</td>\n      <td>20.05</td>\n      <td>5</td>\n      <td>3.9</td>\n    </tr>\n    <tr>\n      <th>12535</th>\n      <td>1983</td>\n      <td>DEC</td>\n      <td>31</td>\n      <td>6</td>\n      <td>36</td>\n      <td>2.2</td>\n      <td>35.34</td>\n      <td>26.40</td>\n      <td>5</td>\n      <td>4.1</td>\n    </tr>\n    <tr>\n      <th>12536</th>\n      <td>1983</td>\n      <td>DEC</td>\n      <td>31</td>\n      <td>14</td>\n      <td>30</td>\n      <td>31.9</td>\n      <td>38.24</td>\n      <td>21.86</td>\n      <td>26</td>\n      <td>3.1</td>\n    </tr>\n  </tbody>\n</table>\n<p>1380 rows × 10 columns</p>\n</div>"
     },
     "metadata": {},
     "execution_count": 81
    }
   ],
   "source": [
    "year_grp.get_group(1983)"
   ]
  },
  {
   "source": [
    "the same as creating filter and using .loc"
   ],
   "cell_type": "markdown",
   "metadata": {}
  },
  {
   "cell_type": "code",
   "execution_count": 83,
   "metadata": {},
   "outputs": [
    {
     "output_type": "execute_result",
     "data": {
      "text/plain": [
       "       YEAR MONTH  DAY  HOUR  MINUTE  SECOND  LATITUDE  LONGITUDE  DEPTH  \\\n",
       "11157  1983   JAN    2     1      18    51.5     38.58      25.40     40   \n",
       "11158  1983   JAN    2     6      20     2.4     37.32      20.56      5   \n",
       "11159  1983   JAN    3     0      12    32.4     34.91      24.53     93   \n",
       "11160  1983   JAN    3    14      20    43.7     36.05      21.75     10   \n",
       "11161  1983   JAN    4     3      58    35.9     36.30      21.67     10   \n",
       "...     ...   ...  ...   ...     ...     ...       ...        ...    ...   \n",
       "12532  1983   DEC   28     8      27    28.7     40.87      20.93      5   \n",
       "12533  1983   DEC   29     4      28    16.7     37.26      20.86      5   \n",
       "12534  1983   DEC   29    10      39    52.9     37.70      20.05      5   \n",
       "12535  1983   DEC   31     6      36     2.2     35.34      26.40      5   \n",
       "12536  1983   DEC   31    14      30    31.9     38.24      21.86     26   \n",
       "\n",
       "       MAGNITUDE  \n",
       "11157        3.2  \n",
       "11158        4.3  \n",
       "11159        4.8  \n",
       "11160        3.7  \n",
       "11161        3.6  \n",
       "...          ...  \n",
       "12532        4.3  \n",
       "12533        3.5  \n",
       "12534        3.9  \n",
       "12535        4.1  \n",
       "12536        3.1  \n",
       "\n",
       "[1380 rows x 10 columns]"
      ],
      "text/html": "<div>\n<style scoped>\n    .dataframe tbody tr th:only-of-type {\n        vertical-align: middle;\n    }\n\n    .dataframe tbody tr th {\n        vertical-align: top;\n    }\n\n    .dataframe thead th {\n        text-align: right;\n    }\n</style>\n<table border=\"1\" class=\"dataframe\">\n  <thead>\n    <tr style=\"text-align: right;\">\n      <th></th>\n      <th>YEAR</th>\n      <th>MONTH</th>\n      <th>DAY</th>\n      <th>HOUR</th>\n      <th>MINUTE</th>\n      <th>SECOND</th>\n      <th>LATITUDE</th>\n      <th>LONGITUDE</th>\n      <th>DEPTH</th>\n      <th>MAGNITUDE</th>\n    </tr>\n  </thead>\n  <tbody>\n    <tr>\n      <th>11157</th>\n      <td>1983</td>\n      <td>JAN</td>\n      <td>2</td>\n      <td>1</td>\n      <td>18</td>\n      <td>51.5</td>\n      <td>38.58</td>\n      <td>25.40</td>\n      <td>40</td>\n      <td>3.2</td>\n    </tr>\n    <tr>\n      <th>11158</th>\n      <td>1983</td>\n      <td>JAN</td>\n      <td>2</td>\n      <td>6</td>\n      <td>20</td>\n      <td>2.4</td>\n      <td>37.32</td>\n      <td>20.56</td>\n      <td>5</td>\n      <td>4.3</td>\n    </tr>\n    <tr>\n      <th>11159</th>\n      <td>1983</td>\n      <td>JAN</td>\n      <td>3</td>\n      <td>0</td>\n      <td>12</td>\n      <td>32.4</td>\n      <td>34.91</td>\n      <td>24.53</td>\n      <td>93</td>\n      <td>4.8</td>\n    </tr>\n    <tr>\n      <th>11160</th>\n      <td>1983</td>\n      <td>JAN</td>\n      <td>3</td>\n      <td>14</td>\n      <td>20</td>\n      <td>43.7</td>\n      <td>36.05</td>\n      <td>21.75</td>\n      <td>10</td>\n      <td>3.7</td>\n    </tr>\n    <tr>\n      <th>11161</th>\n      <td>1983</td>\n      <td>JAN</td>\n      <td>4</td>\n      <td>3</td>\n      <td>58</td>\n      <td>35.9</td>\n      <td>36.30</td>\n      <td>21.67</td>\n      <td>10</td>\n      <td>3.6</td>\n    </tr>\n    <tr>\n      <th>...</th>\n      <td>...</td>\n      <td>...</td>\n      <td>...</td>\n      <td>...</td>\n      <td>...</td>\n      <td>...</td>\n      <td>...</td>\n      <td>...</td>\n      <td>...</td>\n      <td>...</td>\n    </tr>\n    <tr>\n      <th>12532</th>\n      <td>1983</td>\n      <td>DEC</td>\n      <td>28</td>\n      <td>8</td>\n      <td>27</td>\n      <td>28.7</td>\n      <td>40.87</td>\n      <td>20.93</td>\n      <td>5</td>\n      <td>4.3</td>\n    </tr>\n    <tr>\n      <th>12533</th>\n      <td>1983</td>\n      <td>DEC</td>\n      <td>29</td>\n      <td>4</td>\n      <td>28</td>\n      <td>16.7</td>\n      <td>37.26</td>\n      <td>20.86</td>\n      <td>5</td>\n      <td>3.5</td>\n    </tr>\n    <tr>\n      <th>12534</th>\n      <td>1983</td>\n      <td>DEC</td>\n      <td>29</td>\n      <td>10</td>\n      <td>39</td>\n      <td>52.9</td>\n      <td>37.70</td>\n      <td>20.05</td>\n      <td>5</td>\n      <td>3.9</td>\n    </tr>\n    <tr>\n      <th>12535</th>\n      <td>1983</td>\n      <td>DEC</td>\n      <td>31</td>\n      <td>6</td>\n      <td>36</td>\n      <td>2.2</td>\n      <td>35.34</td>\n      <td>26.40</td>\n      <td>5</td>\n      <td>4.1</td>\n    </tr>\n    <tr>\n      <th>12536</th>\n      <td>1983</td>\n      <td>DEC</td>\n      <td>31</td>\n      <td>14</td>\n      <td>30</td>\n      <td>31.9</td>\n      <td>38.24</td>\n      <td>21.86</td>\n      <td>26</td>\n      <td>3.1</td>\n    </tr>\n  </tbody>\n</table>\n<p>1380 rows × 10 columns</p>\n</div>"
     },
     "metadata": {},
     "execution_count": 83
    }
   ],
   "source": [
    "filt = df['YEAR'] == 1983\n",
    "df.loc[filt]"
   ]
  },
  {
   "source": [
    "but we have split everything, we can apply function\n",
    "\n",
    "so let's find the number of earthquakes by year"
   ],
   "cell_type": "markdown",
   "metadata": {}
  },
  {
   "cell_type": "code",
   "execution_count": 85,
   "metadata": {},
   "outputs": [
    {
     "output_type": "execute_result",
     "data": {
      "text/plain": [
       "YEAR\n",
       "1964       20\n",
       "1965       91\n",
       "1966      190\n",
       "1967      322\n",
       "1968      683\n",
       "1969      522\n",
       "1970      541\n",
       "1971      413\n",
       "1972      672\n",
       "1973      507\n",
       "1974      738\n",
       "1975      786\n",
       "1976      643\n",
       "1977      553\n",
       "1978      477\n",
       "1979      515\n",
       "1980      821\n",
       "1981     1505\n",
       "1982     1158\n",
       "1983     1380\n",
       "1984      888\n",
       "1985      597\n",
       "1986      937\n",
       "1987      515\n",
       "1988      668\n",
       "1989      811\n",
       "1990     1697\n",
       "1991     1016\n",
       "1992      984\n",
       "1993     1266\n",
       "1994     1002\n",
       "1995     2782\n",
       "1996     2625\n",
       "1997     2798\n",
       "1998     2483\n",
       "1999     2490\n",
       "2000     2281\n",
       "2001     2668\n",
       "2002     2390\n",
       "2003     2977\n",
       "2004     3439\n",
       "2005     5566\n",
       "2006     5410\n",
       "2007     5907\n",
       "2008     9148\n",
       "2009    12471\n",
       "2010    15807\n",
       "2011    18893\n",
       "2012    23375\n",
       "2013    23916\n",
       "2014    29333\n",
       "2015    22336\n",
       "2016    16822\n",
       "2017    16201\n",
       "2018    14899\n",
       "2019    20538\n",
       "2020    15937\n",
       "2021     6990\n",
       "dtype: int64"
      ]
     },
     "metadata": {},
     "execution_count": 85
    }
   ],
   "source": [
    "year_grp.size()"
   ]
  },
  {
   "cell_type": "code",
   "execution_count": 90,
   "metadata": {},
   "outputs": [
    {
     "output_type": "execute_result",
     "data": {
      "text/plain": [
       "2014    29333\n",
       "2013    23916\n",
       "2012    23375\n",
       "2015    22336\n",
       "2019    20538\n",
       "2011    18893\n",
       "2016    16822\n",
       "2017    16201\n",
       "2020    15937\n",
       "2010    15807\n",
       "2018    14899\n",
       "2009    12471\n",
       "2008     9148\n",
       "2021     6990\n",
       "2007     5907\n",
       "2005     5566\n",
       "2006     5410\n",
       "2004     3439\n",
       "2003     2977\n",
       "1997     2798\n",
       "1995     2782\n",
       "2001     2668\n",
       "1996     2625\n",
       "1999     2490\n",
       "1998     2483\n",
       "2002     2390\n",
       "2000     2281\n",
       "1990     1697\n",
       "1981     1505\n",
       "1983     1380\n",
       "1993     1266\n",
       "1982     1158\n",
       "1991     1016\n",
       "1994     1002\n",
       "1992      984\n",
       "1986      937\n",
       "1984      888\n",
       "1980      821\n",
       "1989      811\n",
       "1975      786\n",
       "1974      738\n",
       "1968      683\n",
       "1972      672\n",
       "1988      668\n",
       "1976      643\n",
       "1985      597\n",
       "1977      553\n",
       "1970      541\n",
       "1969      522\n",
       "1987      515\n",
       "1979      515\n",
       "1973      507\n",
       "1978      477\n",
       "1971      413\n",
       "1967      322\n",
       "1966      190\n",
       "1965       91\n",
       "1964       20\n",
       "Name: YEAR, dtype: int64"
      ]
     },
     "metadata": {},
     "execution_count": 90
    }
   ],
   "source": [
    "df['YEAR'].value_counts()"
   ]
  },
  {
   "source": [
    "what is the most popular month by year?"
   ],
   "cell_type": "markdown",
   "metadata": {}
  },
  {
   "cell_type": "code",
   "execution_count": 96,
   "metadata": {},
   "outputs": [
    {
     "output_type": "execute_result",
     "data": {
      "text/plain": [
       "JAN    258\n",
       "MAR    203\n",
       "AUG    177\n",
       "FEB    138\n",
       "APR    136\n",
       "SEP    106\n",
       "MAY    103\n",
       "NOV     54\n",
       "JUL     54\n",
       "OCT     51\n",
       "JUN     50\n",
       "DEC     50\n",
       "Name: MONTH, dtype: int64"
      ]
     },
     "metadata": {},
     "execution_count": 96
    }
   ],
   "source": [
    "filt = (df['YEAR'] == 1983)\n",
    "df.loc[filt]['MONTH'].value_counts()"
   ]
  },
  {
   "source": [
    "so the most quakes in 1983 happened in JAN\n",
    "\n",
    "now I want the results for EVERY year"
   ],
   "cell_type": "markdown",
   "metadata": {}
  },
  {
   "cell_type": "code",
   "execution_count": 98,
   "metadata": {},
   "outputs": [
    {
     "output_type": "execute_result",
     "data": {
      "text/plain": [
       "YEAR  MONTH\n",
       "1964  APR        6\n",
       "      OCT        5\n",
       "      JUL        3\n",
       "      NOV        2\n",
       "      AUG        1\n",
       "      DEC        1\n",
       "      FEB        1\n",
       "      MAY        1\n",
       "1965  DEC       22\n",
       "      OCT       18\n",
       "      NOV       15\n",
       "      SEP       15\n",
       "      MAR        6\n",
       "      JAN        4\n",
       "      AUG        3\n",
       "      JUL        3\n",
       "      FEB        2\n",
       "      MAY        2\n",
       "      APR        1\n",
       "1966  JUN       25\n",
       "      JUL       24\n",
       "      FEB       23\n",
       "      MAY       22\n",
       "      SEP       20\n",
       "      MAR       19\n",
       "      APR       17\n",
       "      JAN       16\n",
       "      AUG       15\n",
       "      OCT        6\n",
       "      DEC        2\n",
       "      NOV        1\n",
       "1967  MAR       47\n",
       "      JUN       42\n",
       "      MAY       41\n",
       "      DEC       33\n",
       "      JUL       29\n",
       "      SEP       29\n",
       "      NOV       25\n",
       "      OCT       25\n",
       "      APR       22\n",
       "      AUG       21\n",
       "      JAN        5\n",
       "      FEB        3\n",
       "1968  FEB      133\n",
       "      MAR       93\n",
       "      JUL       92\n",
       "      OCT       60\n",
       "      APR       54\n",
       "      MAY       45\n",
       "      SEP       41\n",
       "Name: MONTH, dtype: int64"
      ]
     },
     "metadata": {},
     "execution_count": 98
    }
   ],
   "source": [
    "year_grp['MONTH'].value_counts().head(50)"
   ]
  },
  {
   "source": [
    "this returns a series with multiple indices\n",
    "\n",
    "so what is in 1983 the results?"
   ],
   "cell_type": "markdown",
   "metadata": {}
  },
  {
   "cell_type": "code",
   "execution_count": 108,
   "metadata": {},
   "outputs": [
    {
     "output_type": "execute_result",
     "data": {
      "text/plain": [
       "MONTH\n",
       "JAN    258\n",
       "MAR    203\n",
       "AUG    177\n",
       "FEB    138\n",
       "APR    136\n",
       "SEP    106\n",
       "MAY    103\n",
       "JUL     54\n",
       "NOV     54\n",
       "OCT     51\n",
       "DEC     50\n",
       "JUN     50\n",
       "Name: MONTH, dtype: int64"
      ]
     },
     "metadata": {},
     "execution_count": 108
    }
   ],
   "source": [
    "year_grp['MONTH'].value_counts().loc[1983]"
   ]
  },
  {
   "cell_type": "code",
   "execution_count": 109,
   "metadata": {},
   "outputs": [
    {
     "output_type": "execute_result",
     "data": {
      "text/plain": [
       "MONTH\n",
       "JAN    0.186957\n",
       "MAR    0.147101\n",
       "AUG    0.128261\n",
       "FEB    0.100000\n",
       "APR    0.098551\n",
       "SEP    0.076812\n",
       "MAY    0.074638\n",
       "JUL    0.039130\n",
       "NOV    0.039130\n",
       "OCT    0.036957\n",
       "DEC    0.036232\n",
       "JUN    0.036232\n",
       "Name: MONTH, dtype: float64"
      ]
     },
     "metadata": {},
     "execution_count": 109
    }
   ],
   "source": [
    "year_grp['MONTH'].value_counts(normalize=True).loc[1983]"
   ]
  },
  {
   "source": [
    "more traditional aggregation functions"
   ],
   "cell_type": "markdown",
   "metadata": {}
  },
  {
   "source": [
    "find the median magnitude of earthquakes by year"
   ],
   "cell_type": "markdown",
   "metadata": {}
  },
  {
   "cell_type": "code",
   "execution_count": 122,
   "metadata": {},
   "outputs": [
    {
     "output_type": "execute_result",
     "data": {
      "text/plain": [
       "YEAR\n",
       "1964    4.95\n",
       "1965    4.00\n",
       "1966    3.90\n",
       "1967    3.70\n",
       "1968    3.60\n",
       "1969    3.70\n",
       "1970    3.60\n",
       "1971    3.50\n",
       "1972    3.60\n",
       "1973    3.40\n",
       "1974    3.30\n",
       "1975    3.30\n",
       "1976    3.40\n",
       "1977    3.30\n",
       "1978    3.60\n",
       "1979    3.50\n",
       "1980    3.40\n",
       "1981    3.50\n",
       "1982    3.30\n",
       "1983    3.60\n",
       "1984    3.30\n",
       "1985    3.40\n",
       "1986    3.30\n",
       "1987    3.40\n",
       "1988    3.50\n",
       "1989    3.20\n",
       "1990    3.20\n",
       "1991    3.20\n",
       "1992    3.20\n",
       "1993    3.20\n",
       "1994    3.40\n",
       "1995    3.10\n",
       "1996    3.40\n",
       "1997    3.30\n",
       "1998    3.20\n",
       "1999    3.20\n",
       "2000    3.30\n",
       "2001    3.30\n",
       "2002    3.20\n",
       "2003    3.30\n",
       "2004    3.10\n",
       "2005    3.10\n",
       "2006    3.20\n",
       "2007    3.20\n",
       "2008    3.10\n",
       "2009    3.00\n",
       "2010    2.80\n",
       "2011    1.80\n",
       "2012    1.60\n",
       "2013    1.80\n",
       "2014    1.80\n",
       "2015    1.80\n",
       "2016    1.90\n",
       "2017    1.90\n",
       "2018    2.20\n",
       "2019    2.00\n",
       "2020    2.00\n",
       "2021    1.90\n",
       "Name: MAGNITUDE, dtype: float64"
      ]
     },
     "metadata": {},
     "execution_count": 122
    }
   ],
   "source": [
    "year_grp['MAGNITUDE'].median()"
   ]
  },
  {
   "source": [
    "now find the median magnitude by month"
   ],
   "cell_type": "markdown",
   "metadata": {}
  },
  {
   "cell_type": "code",
   "execution_count": 123,
   "metadata": {},
   "outputs": [],
   "source": [
    "month_grp = df.groupby('MONTH')"
   ]
  },
  {
   "cell_type": "code",
   "execution_count": 131,
   "metadata": {},
   "outputs": [
    {
     "output_type": "execute_result",
     "data": {
      "text/plain": [
       "MONTH\n",
       "APR    2.2\n",
       "AUG    2.4\n",
       "DEC    2.3\n",
       "FEB    2.3\n",
       "JAN    2.5\n",
       "JUL    2.3\n",
       "JUN    2.3\n",
       "MAR    2.2\n",
       "MAY    2.3\n",
       "NOV    2.4\n",
       "OCT    2.3\n",
       "SEP    2.2\n",
       "Name: MAGNITUDE, dtype: float64"
      ]
     },
     "metadata": {},
     "execution_count": 131
    }
   ],
   "source": [
    "month_grp['MAGNITUDE'].median()"
   ]
  },
  {
   "source": [
    "### multiple aggregate functions"
   ],
   "cell_type": "markdown",
   "metadata": {}
  },
  {
   "cell_type": "code",
   "execution_count": 133,
   "metadata": {},
   "outputs": [
    {
     "output_type": "execute_result",
     "data": {
      "text/plain": [
       "      median      mean\n",
       "YEAR                  \n",
       "1964    4.95  5.055000\n",
       "1965    4.00  4.043956\n",
       "1966    3.90  3.955789\n",
       "1967    3.70  3.678261\n",
       "1968    3.60  3.622108\n",
       "1969    3.70  3.716475\n",
       "1970    3.60  3.543808\n",
       "1971    3.50  3.514770\n",
       "1972    3.60  3.525595\n",
       "1973    3.40  3.470809\n",
       "1974    3.30  3.360840\n",
       "1975    3.30  3.369720\n",
       "1976    3.40  3.441369\n",
       "1977    3.30  3.382640\n",
       "1978    3.60  3.620335\n",
       "1979    3.50  3.617864\n",
       "1980    3.40  3.454202\n",
       "1981    3.50  3.615415\n",
       "1982    3.30  3.386097\n",
       "1983    3.60  3.557754\n",
       "1984    3.30  3.430743\n",
       "1985    3.40  3.438023\n",
       "1986    3.30  3.355496\n",
       "1987    3.40  3.467767\n",
       "1988    3.50  3.519461\n",
       "1989    3.20  3.339334\n",
       "1990    3.20  3.258633\n",
       "1991    3.20  3.247441\n",
       "1992    3.20  3.336992\n",
       "1993    3.20  3.326303\n",
       "1994    3.40  3.446806\n",
       "1995    3.10  3.178145\n",
       "1996    3.40  3.407886\n",
       "1997    3.30  3.344996\n",
       "1998    3.20  3.308176\n",
       "1999    3.20  3.261847\n",
       "2000    3.30  3.295134\n",
       "2001    3.30  3.328486\n",
       "2002    3.20  3.283180\n",
       "2003    3.30  3.306046\n",
       "2004    3.10  3.117621\n",
       "2005    3.10  3.157007\n",
       "2006    3.20  3.200351\n",
       "2007    3.20  3.228610\n",
       "2008    3.10  3.096251\n",
       "2009    3.00  2.928923\n",
       "2010    2.80  2.825628\n",
       "2011    1.80  1.881406\n",
       "2012    1.60  1.725181\n",
       "2013    1.80  1.830260\n",
       "2014    1.80  1.897491\n",
       "2015    1.80  1.887876\n",
       "2016    1.90  1.928130\n",
       "2017    1.90  2.014715\n",
       "2018    2.20  2.262776\n",
       "2019    2.00  2.067197\n",
       "2020    2.00  2.109374\n",
       "2021    1.90  1.973991"
      ],
      "text/html": "<div>\n<style scoped>\n    .dataframe tbody tr th:only-of-type {\n        vertical-align: middle;\n    }\n\n    .dataframe tbody tr th {\n        vertical-align: top;\n    }\n\n    .dataframe thead th {\n        text-align: right;\n    }\n</style>\n<table border=\"1\" class=\"dataframe\">\n  <thead>\n    <tr style=\"text-align: right;\">\n      <th></th>\n      <th>median</th>\n      <th>mean</th>\n    </tr>\n    <tr>\n      <th>YEAR</th>\n      <th></th>\n      <th></th>\n    </tr>\n  </thead>\n  <tbody>\n    <tr>\n      <th>1964</th>\n      <td>4.95</td>\n      <td>5.055000</td>\n    </tr>\n    <tr>\n      <th>1965</th>\n      <td>4.00</td>\n      <td>4.043956</td>\n    </tr>\n    <tr>\n      <th>1966</th>\n      <td>3.90</td>\n      <td>3.955789</td>\n    </tr>\n    <tr>\n      <th>1967</th>\n      <td>3.70</td>\n      <td>3.678261</td>\n    </tr>\n    <tr>\n      <th>1968</th>\n      <td>3.60</td>\n      <td>3.622108</td>\n    </tr>\n    <tr>\n      <th>1969</th>\n      <td>3.70</td>\n      <td>3.716475</td>\n    </tr>\n    <tr>\n      <th>1970</th>\n      <td>3.60</td>\n      <td>3.543808</td>\n    </tr>\n    <tr>\n      <th>1971</th>\n      <td>3.50</td>\n      <td>3.514770</td>\n    </tr>\n    <tr>\n      <th>1972</th>\n      <td>3.60</td>\n      <td>3.525595</td>\n    </tr>\n    <tr>\n      <th>1973</th>\n      <td>3.40</td>\n      <td>3.470809</td>\n    </tr>\n    <tr>\n      <th>1974</th>\n      <td>3.30</td>\n      <td>3.360840</td>\n    </tr>\n    <tr>\n      <th>1975</th>\n      <td>3.30</td>\n      <td>3.369720</td>\n    </tr>\n    <tr>\n      <th>1976</th>\n      <td>3.40</td>\n      <td>3.441369</td>\n    </tr>\n    <tr>\n      <th>1977</th>\n      <td>3.30</td>\n      <td>3.382640</td>\n    </tr>\n    <tr>\n      <th>1978</th>\n      <td>3.60</td>\n      <td>3.620335</td>\n    </tr>\n    <tr>\n      <th>1979</th>\n      <td>3.50</td>\n      <td>3.617864</td>\n    </tr>\n    <tr>\n      <th>1980</th>\n      <td>3.40</td>\n      <td>3.454202</td>\n    </tr>\n    <tr>\n      <th>1981</th>\n      <td>3.50</td>\n      <td>3.615415</td>\n    </tr>\n    <tr>\n      <th>1982</th>\n      <td>3.30</td>\n      <td>3.386097</td>\n    </tr>\n    <tr>\n      <th>1983</th>\n      <td>3.60</td>\n      <td>3.557754</td>\n    </tr>\n    <tr>\n      <th>1984</th>\n      <td>3.30</td>\n      <td>3.430743</td>\n    </tr>\n    <tr>\n      <th>1985</th>\n      <td>3.40</td>\n      <td>3.438023</td>\n    </tr>\n    <tr>\n      <th>1986</th>\n      <td>3.30</td>\n      <td>3.355496</td>\n    </tr>\n    <tr>\n      <th>1987</th>\n      <td>3.40</td>\n      <td>3.467767</td>\n    </tr>\n    <tr>\n      <th>1988</th>\n      <td>3.50</td>\n      <td>3.519461</td>\n    </tr>\n    <tr>\n      <th>1989</th>\n      <td>3.20</td>\n      <td>3.339334</td>\n    </tr>\n    <tr>\n      <th>1990</th>\n      <td>3.20</td>\n      <td>3.258633</td>\n    </tr>\n    <tr>\n      <th>1991</th>\n      <td>3.20</td>\n      <td>3.247441</td>\n    </tr>\n    <tr>\n      <th>1992</th>\n      <td>3.20</td>\n      <td>3.336992</td>\n    </tr>\n    <tr>\n      <th>1993</th>\n      <td>3.20</td>\n      <td>3.326303</td>\n    </tr>\n    <tr>\n      <th>1994</th>\n      <td>3.40</td>\n      <td>3.446806</td>\n    </tr>\n    <tr>\n      <th>1995</th>\n      <td>3.10</td>\n      <td>3.178145</td>\n    </tr>\n    <tr>\n      <th>1996</th>\n      <td>3.40</td>\n      <td>3.407886</td>\n    </tr>\n    <tr>\n      <th>1997</th>\n      <td>3.30</td>\n      <td>3.344996</td>\n    </tr>\n    <tr>\n      <th>1998</th>\n      <td>3.20</td>\n      <td>3.308176</td>\n    </tr>\n    <tr>\n      <th>1999</th>\n      <td>3.20</td>\n      <td>3.261847</td>\n    </tr>\n    <tr>\n      <th>2000</th>\n      <td>3.30</td>\n      <td>3.295134</td>\n    </tr>\n    <tr>\n      <th>2001</th>\n      <td>3.30</td>\n      <td>3.328486</td>\n    </tr>\n    <tr>\n      <th>2002</th>\n      <td>3.20</td>\n      <td>3.283180</td>\n    </tr>\n    <tr>\n      <th>2003</th>\n      <td>3.30</td>\n      <td>3.306046</td>\n    </tr>\n    <tr>\n      <th>2004</th>\n      <td>3.10</td>\n      <td>3.117621</td>\n    </tr>\n    <tr>\n      <th>2005</th>\n      <td>3.10</td>\n      <td>3.157007</td>\n    </tr>\n    <tr>\n      <th>2006</th>\n      <td>3.20</td>\n      <td>3.200351</td>\n    </tr>\n    <tr>\n      <th>2007</th>\n      <td>3.20</td>\n      <td>3.228610</td>\n    </tr>\n    <tr>\n      <th>2008</th>\n      <td>3.10</td>\n      <td>3.096251</td>\n    </tr>\n    <tr>\n      <th>2009</th>\n      <td>3.00</td>\n      <td>2.928923</td>\n    </tr>\n    <tr>\n      <th>2010</th>\n      <td>2.80</td>\n      <td>2.825628</td>\n    </tr>\n    <tr>\n      <th>2011</th>\n      <td>1.80</td>\n      <td>1.881406</td>\n    </tr>\n    <tr>\n      <th>2012</th>\n      <td>1.60</td>\n      <td>1.725181</td>\n    </tr>\n    <tr>\n      <th>2013</th>\n      <td>1.80</td>\n      <td>1.830260</td>\n    </tr>\n    <tr>\n      <th>2014</th>\n      <td>1.80</td>\n      <td>1.897491</td>\n    </tr>\n    <tr>\n      <th>2015</th>\n      <td>1.80</td>\n      <td>1.887876</td>\n    </tr>\n    <tr>\n      <th>2016</th>\n      <td>1.90</td>\n      <td>1.928130</td>\n    </tr>\n    <tr>\n      <th>2017</th>\n      <td>1.90</td>\n      <td>2.014715</td>\n    </tr>\n    <tr>\n      <th>2018</th>\n      <td>2.20</td>\n      <td>2.262776</td>\n    </tr>\n    <tr>\n      <th>2019</th>\n      <td>2.00</td>\n      <td>2.067197</td>\n    </tr>\n    <tr>\n      <th>2020</th>\n      <td>2.00</td>\n      <td>2.109374</td>\n    </tr>\n    <tr>\n      <th>2021</th>\n      <td>1.90</td>\n      <td>1.973991</td>\n    </tr>\n  </tbody>\n</table>\n</div>"
     },
     "metadata": {},
     "execution_count": 133
    }
   ],
   "source": [
    "year_grp['MAGNITUDE'].agg(['median', 'mean'])"
   ]
  },
  {
   "source": [
    "what percentage of earthquakes have magnitude > 5 by each year?"
   ],
   "cell_type": "markdown",
   "metadata": {}
  },
  {
   "source": [
    "step 1: group dataframe by year:"
   ],
   "cell_type": "markdown",
   "metadata": {}
  },
  {
   "cell_type": "code",
   "execution_count": 135,
   "metadata": {},
   "outputs": [],
   "source": [
    "year_grp = df.groupby(['YEAR'])"
   ]
  },
  {
   "source": [
    "step 2: see the earthquakes by year:"
   ],
   "cell_type": "markdown",
   "metadata": {}
  },
  {
   "cell_type": "code",
   "execution_count": 137,
   "metadata": {},
   "outputs": [
    {
     "output_type": "execute_result",
     "data": {
      "text/plain": [
       "YEAR  MAGNITUDE\n",
       "1964  4.4          2\n",
       "      4.5          2\n",
       "      4.9          2\n",
       "      5.3          2\n",
       "      5.8          2\n",
       "                  ..\n",
       "2021  5.2          2\n",
       "      0.1          1\n",
       "      5.0          1\n",
       "      5.9          1\n",
       "      6.0          1\n",
       "Name: MAGNITUDE, Length: 2207, dtype: int64"
      ]
     },
     "metadata": {},
     "execution_count": 137
    }
   ],
   "source": [
    "year_grp['MAGNITUDE'].value_counts()"
   ]
  },
  {
   "source": [
    "step 3: now use .apply and do the math"
   ],
   "cell_type": "markdown",
   "metadata": {}
  },
  {
   "cell_type": "code",
   "execution_count": 175,
   "metadata": {},
   "outputs": [
    {
     "output_type": "execute_result",
     "data": {
      "text/plain": [
       "YEAR\n",
       "1964    50.000000\n",
       "1965     7.692308\n",
       "1966     4.210526\n",
       "1967     1.552795\n",
       "1968     1.903367\n",
       "1969     3.256705\n",
       "1970     0.924214\n",
       "1971     0.242131\n",
       "1972     1.041667\n",
       "1973     0.788955\n",
       "1974     0.271003\n",
       "1975     1.653944\n",
       "1976     0.933126\n",
       "1977     0.904159\n",
       "1978     1.048218\n",
       "1979     1.747573\n",
       "1980     0.730816\n",
       "1981     1.395349\n",
       "1982     0.431779\n",
       "1983     1.376812\n",
       "1984     0.563063\n",
       "1985     1.340034\n",
       "1986     0.426894\n",
       "1987     0.776699\n",
       "1988     0.898204\n",
       "1989     0.616523\n",
       "1990     0.176783\n",
       "1991     0.196850\n",
       "1992     0.609756\n",
       "1993     0.473934\n",
       "1994     0.798403\n",
       "1995     0.215672\n",
       "1996     0.190476\n",
       "1997     0.285919\n",
       "1998     0.281917\n",
       "1999     0.160643\n",
       "2000     0.219202\n",
       "2001     0.299850\n",
       "2002     0.251046\n",
       "2003     0.369499\n",
       "2004     0.261704\n",
       "2005     0.125764\n",
       "2006     0.129390\n",
       "2007     0.118503\n",
       "2008     0.229558\n",
       "2009     0.080186\n",
       "2010     0.056940\n",
       "2011     0.021172\n",
       "2012     0.042781\n",
       "2013     0.033450\n",
       "2014     0.044319\n",
       "2015     0.035818\n",
       "2016     0.047557\n",
       "2017     0.092587\n",
       "2018     0.060407\n",
       "2019     0.048690\n",
       "2020     0.112945\n",
       "2021     0.100143\n",
       "Name: MAGNITUDE, dtype: float64"
      ]
     },
     "metadata": {},
     "execution_count": 175
    }
   ],
   "source": [
    "year_grp['MAGNITUDE'].apply(lambda x: (((x > 0.0).sum() - (x < 5.0).sum())/((x > 0.0).sum()))*100)"
   ]
  },
  {
   "cell_type": "code",
   "execution_count": 174,
   "metadata": {},
   "outputs": [
    {
     "output_type": "execute_result",
     "data": {
      "text/plain": [
       "YEAR\n",
       "2011     0.021172\n",
       "2013     0.033450\n",
       "2015     0.035818\n",
       "2012     0.042781\n",
       "2014     0.044319\n",
       "2016     0.047557\n",
       "2019     0.048690\n",
       "2010     0.056940\n",
       "2018     0.060407\n",
       "2009     0.080186\n",
       "2017     0.092587\n",
       "2021     0.100143\n",
       "2020     0.112945\n",
       "2007     0.118503\n",
       "2005     0.125764\n",
       "2006     0.129390\n",
       "1999     0.160643\n",
       "1990     0.176783\n",
       "1996     0.190476\n",
       "1991     0.196850\n",
       "1995     0.215672\n",
       "2000     0.219202\n",
       "2008     0.229558\n",
       "1971     0.242131\n",
       "2002     0.251046\n",
       "2004     0.261704\n",
       "1974     0.271003\n",
       "1998     0.281917\n",
       "1997     0.285919\n",
       "2001     0.299850\n",
       "2003     0.369499\n",
       "1986     0.426894\n",
       "1982     0.431779\n",
       "1993     0.473934\n",
       "1984     0.563063\n",
       "1992     0.609756\n",
       "1989     0.616523\n",
       "1980     0.730816\n",
       "1987     0.776699\n",
       "1973     0.788955\n",
       "1994     0.798403\n",
       "1988     0.898204\n",
       "1977     0.904159\n",
       "1970     0.924214\n",
       "1976     0.933126\n",
       "1972     1.041667\n",
       "1978     1.048218\n",
       "1985     1.340034\n",
       "1983     1.376812\n",
       "1981     1.395349\n",
       "1967     1.552795\n",
       "1975     1.653944\n",
       "1979     1.747573\n",
       "1968     1.903367\n",
       "1969     3.256705\n",
       "1966     4.210526\n",
       "1965     7.692308\n",
       "1964    50.000000\n",
       "Name: MAGNITUDE, dtype: float64"
      ]
     },
     "metadata": {},
     "execution_count": 174
    }
   ],
   "source": [
    "year_grp['MAGNITUDE'].apply(lambda x: (((x > 0.0).sum() - (x < 5.0).sum())/((x > 0.0).sum()))*100).sort_values()"
   ]
  },
  {
   "source": [
    "## check .concat on how to create new dataframes"
   ],
   "cell_type": "markdown",
   "metadata": {}
  },
  {
   "cell_type": "code",
   "execution_count": 171,
   "metadata": {},
   "outputs": [
    {
     "output_type": "error",
     "ename": "TypeError",
     "evalue": "rename() got an unexpected keyword argument 'columns'",
     "traceback": [
      "\u001b[0;31m---------------------------------------------------------------------------\u001b[0m",
      "\u001b[0;31mTypeError\u001b[0m                                 Traceback (most recent call last)",
      "\u001b[0;32m<ipython-input-171-7667f777a87e>\u001b[0m in \u001b[0;36m<module>\u001b[0;34m\u001b[0m\n\u001b[0;32m----> 1\u001b[0;31m \u001b[0manswer_df\u001b[0m\u001b[0;34m.\u001b[0m\u001b[0mrename\u001b[0m\u001b[0;34m(\u001b[0m\u001b[0mcolumns\u001b[0m\u001b[0;34m=\u001b[0m\u001b[0;34m{\u001b[0m\u001b[0;34m'YEAR'\u001b[0m\u001b[0;34m:\u001b[0m \u001b[0;34m'ERA'\u001b[0m\u001b[0;34m}\u001b[0m\u001b[0;34m)\u001b[0m\u001b[0;34m\u001b[0m\u001b[0;34m\u001b[0m\u001b[0m\n\u001b[0m",
      "\u001b[0;31mTypeError\u001b[0m: rename() got an unexpected keyword argument 'columns'"
     ]
    }
   ],
   "source": []
  }
 ]
}