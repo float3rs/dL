{
 "metadata": {
  "language_info": {
   "codemirror_mode": {
    "name": "ipython",
    "version": 3
   },
   "file_extension": ".py",
   "mimetype": "text/x-python",
   "name": "python",
   "nbconvert_exporter": "python",
   "pygments_lexer": "ipython3",
   "version": "3.8.5-final"
  },
  "orig_nbformat": 2,
  "kernelspec": {
   "name": "python385jvsc74a57bd0dca0ade3e726a953b501b15e8e990130d2b7799f14cfd9f4271676035ebe5511",
   "display_name": "Python 3.8.5 64-bit ('base': conda)"
  }
 },
 "nbformat": 4,
 "nbformat_minor": 2,
 "cells": [
  {
   "cell_type": "code",
   "execution_count": 1,
   "metadata": {},
   "outputs": [],
   "source": [
    "import pandas"
   ]
  },
  {
   "cell_type": "code",
   "execution_count": 3,
   "metadata": {},
   "outputs": [],
   "source": [
    "df = pandas.read_csv('quakes.csv')"
   ]
  },
  {
   "cell_type": "code",
   "execution_count": 7,
   "metadata": {},
   "outputs": [],
   "source": [
    "df_schema = pandas.read_csv('schema.csv')"
   ]
  },
  {
   "cell_type": "code",
   "execution_count": 5,
   "metadata": {},
   "outputs": [
    {
     "output_type": "execute_result",
     "data": {
      "text/plain": [
       "        YEAR MONTH  DAY  HOUR  MINUTE  SECOND  LATITUDE  LONGITUDE  DEPTH  \\\n",
       "0       1964   FEB   24    23      30    25.0   38.9000    23.9000     10   \n",
       "1       1964   APR   11    16       0     0.0   39.7500    25.2500     10   \n",
       "2       1964   APR   21     8      14    40.0   38.5000    22.2500     10   \n",
       "3       1964   APR   24     3      49    58.0   38.0000    21.8000     10   \n",
       "4       1964   APR   29     4      21     0.0   39.2500    23.7500     10   \n",
       "...      ...   ...  ...   ...     ...     ...       ...        ...    ...   \n",
       "313395  2021   APR    9     5       0     7.4   39.7856    21.9081      5   \n",
       "313396  2021   APR    9     5       0    21.9   39.7920    21.9328      5   \n",
       "313397  2021   APR    9     5       1     6.5   39.7160    22.1947      8   \n",
       "313398  2021   APR    9     5       2     5.6   39.7929    21.9154      6   \n",
       "313399  2021   APR    9     5      15     5.0   39.8007    21.8948      7   \n",
       "\n",
       "        MAGNITUDE  \n",
       "0             5.3  \n",
       "1             5.7  \n",
       "2             4.5  \n",
       "3             5.0  \n",
       "4             5.8  \n",
       "...           ...  \n",
       "313395        0.6  \n",
       "313396        1.5  \n",
       "313397        1.0  \n",
       "313398        1.0  \n",
       "313399        1.2  \n",
       "\n",
       "[313400 rows x 10 columns]"
      ],
      "text/html": "<div>\n<style scoped>\n    .dataframe tbody tr th:only-of-type {\n        vertical-align: middle;\n    }\n\n    .dataframe tbody tr th {\n        vertical-align: top;\n    }\n\n    .dataframe thead th {\n        text-align: right;\n    }\n</style>\n<table border=\"1\" class=\"dataframe\">\n  <thead>\n    <tr style=\"text-align: right;\">\n      <th></th>\n      <th>YEAR</th>\n      <th>MONTH</th>\n      <th>DAY</th>\n      <th>HOUR</th>\n      <th>MINUTE</th>\n      <th>SECOND</th>\n      <th>LATITUDE</th>\n      <th>LONGITUDE</th>\n      <th>DEPTH</th>\n      <th>MAGNITUDE</th>\n    </tr>\n  </thead>\n  <tbody>\n    <tr>\n      <th>0</th>\n      <td>1964</td>\n      <td>FEB</td>\n      <td>24</td>\n      <td>23</td>\n      <td>30</td>\n      <td>25.0</td>\n      <td>38.9000</td>\n      <td>23.9000</td>\n      <td>10</td>\n      <td>5.3</td>\n    </tr>\n    <tr>\n      <th>1</th>\n      <td>1964</td>\n      <td>APR</td>\n      <td>11</td>\n      <td>16</td>\n      <td>0</td>\n      <td>0.0</td>\n      <td>39.7500</td>\n      <td>25.2500</td>\n      <td>10</td>\n      <td>5.7</td>\n    </tr>\n    <tr>\n      <th>2</th>\n      <td>1964</td>\n      <td>APR</td>\n      <td>21</td>\n      <td>8</td>\n      <td>14</td>\n      <td>40.0</td>\n      <td>38.5000</td>\n      <td>22.2500</td>\n      <td>10</td>\n      <td>4.5</td>\n    </tr>\n    <tr>\n      <th>3</th>\n      <td>1964</td>\n      <td>APR</td>\n      <td>24</td>\n      <td>3</td>\n      <td>49</td>\n      <td>58.0</td>\n      <td>38.0000</td>\n      <td>21.8000</td>\n      <td>10</td>\n      <td>5.0</td>\n    </tr>\n    <tr>\n      <th>4</th>\n      <td>1964</td>\n      <td>APR</td>\n      <td>29</td>\n      <td>4</td>\n      <td>21</td>\n      <td>0.0</td>\n      <td>39.2500</td>\n      <td>23.7500</td>\n      <td>10</td>\n      <td>5.8</td>\n    </tr>\n    <tr>\n      <th>...</th>\n      <td>...</td>\n      <td>...</td>\n      <td>...</td>\n      <td>...</td>\n      <td>...</td>\n      <td>...</td>\n      <td>...</td>\n      <td>...</td>\n      <td>...</td>\n      <td>...</td>\n    </tr>\n    <tr>\n      <th>313395</th>\n      <td>2021</td>\n      <td>APR</td>\n      <td>9</td>\n      <td>5</td>\n      <td>0</td>\n      <td>7.4</td>\n      <td>39.7856</td>\n      <td>21.9081</td>\n      <td>5</td>\n      <td>0.6</td>\n    </tr>\n    <tr>\n      <th>313396</th>\n      <td>2021</td>\n      <td>APR</td>\n      <td>9</td>\n      <td>5</td>\n      <td>0</td>\n      <td>21.9</td>\n      <td>39.7920</td>\n      <td>21.9328</td>\n      <td>5</td>\n      <td>1.5</td>\n    </tr>\n    <tr>\n      <th>313397</th>\n      <td>2021</td>\n      <td>APR</td>\n      <td>9</td>\n      <td>5</td>\n      <td>1</td>\n      <td>6.5</td>\n      <td>39.7160</td>\n      <td>22.1947</td>\n      <td>8</td>\n      <td>1.0</td>\n    </tr>\n    <tr>\n      <th>313398</th>\n      <td>2021</td>\n      <td>APR</td>\n      <td>9</td>\n      <td>5</td>\n      <td>2</td>\n      <td>5.6</td>\n      <td>39.7929</td>\n      <td>21.9154</td>\n      <td>6</td>\n      <td>1.0</td>\n    </tr>\n    <tr>\n      <th>313399</th>\n      <td>2021</td>\n      <td>APR</td>\n      <td>9</td>\n      <td>5</td>\n      <td>15</td>\n      <td>5.0</td>\n      <td>39.8007</td>\n      <td>21.8948</td>\n      <td>7</td>\n      <td>1.2</td>\n    </tr>\n  </tbody>\n</table>\n<p>313400 rows × 10 columns</p>\n</div>"
     },
     "metadata": {},
     "execution_count": 5
    }
   ],
   "source": [
    "df"
   ]
  },
  {
   "cell_type": "code",
   "execution_count": 8,
   "metadata": {},
   "outputs": [
    {
     "output_type": "execute_result",
     "data": {
      "text/plain": [
       "      COLUMN                   ATTRIBUTE\n",
       "0       YEAR       event Date: Year XXXX\n",
       "1      MONTH      event Date: Month abbr\n",
       "2        DAY             event Date: Day\n",
       "3       HOUR  event Time (GMT): Hour 24h\n",
       "4     MINUTE    event Time (GMT): Minute\n",
       "5     SECOND    event Time (GMT): Second\n",
       "6   LATITUDE          event Latitude (N)\n",
       "7  LONGITUDE         event Longitude (E)\n",
       "8      DEPTH            event Depth (km)\n",
       "9  MAGNITUDE          event Magnitude Mr"
      ],
      "text/html": "<div>\n<style scoped>\n    .dataframe tbody tr th:only-of-type {\n        vertical-align: middle;\n    }\n\n    .dataframe tbody tr th {\n        vertical-align: top;\n    }\n\n    .dataframe thead th {\n        text-align: right;\n    }\n</style>\n<table border=\"1\" class=\"dataframe\">\n  <thead>\n    <tr style=\"text-align: right;\">\n      <th></th>\n      <th>COLUMN</th>\n      <th>ATTRIBUTE</th>\n    </tr>\n  </thead>\n  <tbody>\n    <tr>\n      <th>0</th>\n      <td>YEAR</td>\n      <td>event Date: Year XXXX</td>\n    </tr>\n    <tr>\n      <th>1</th>\n      <td>MONTH</td>\n      <td>event Date: Month abbr</td>\n    </tr>\n    <tr>\n      <th>2</th>\n      <td>DAY</td>\n      <td>event Date: Day</td>\n    </tr>\n    <tr>\n      <th>3</th>\n      <td>HOUR</td>\n      <td>event Time (GMT): Hour 24h</td>\n    </tr>\n    <tr>\n      <th>4</th>\n      <td>MINUTE</td>\n      <td>event Time (GMT): Minute</td>\n    </tr>\n    <tr>\n      <th>5</th>\n      <td>SECOND</td>\n      <td>event Time (GMT): Second</td>\n    </tr>\n    <tr>\n      <th>6</th>\n      <td>LATITUDE</td>\n      <td>event Latitude (N)</td>\n    </tr>\n    <tr>\n      <th>7</th>\n      <td>LONGITUDE</td>\n      <td>event Longitude (E)</td>\n    </tr>\n    <tr>\n      <th>8</th>\n      <td>DEPTH</td>\n      <td>event Depth (km)</td>\n    </tr>\n    <tr>\n      <th>9</th>\n      <td>MAGNITUDE</td>\n      <td>event Magnitude Mr</td>\n    </tr>\n  </tbody>\n</table>\n</div>"
     },
     "metadata": {},
     "execution_count": 8
    }
   ],
   "source": [
    "df_schema"
   ]
  },
  {
   "source": [
    "# SORTING\n",
    "we will sort by magnitude"
   ],
   "cell_type": "markdown",
   "metadata": {}
  },
  {
   "cell_type": "code",
   "execution_count": 9,
   "metadata": {},
   "outputs": [
    {
     "output_type": "execute_result",
     "data": {
      "text/plain": [
       "        YEAR MONTH  DAY  HOUR  MINUTE  SECOND  LATITUDE  LONGITUDE  DEPTH  \\\n",
       "100614  2010   SEP   29     2       9    47.2   37.8600    23.0900     93   \n",
       "212820  2015   JUL   25     1      26    10.6   38.3800    21.9400     10   \n",
       "307732  2021   JAN   21     6       1    50.6   38.3748    22.0290      6   \n",
       "169539  2013   DEC   16     1      35    32.3   38.3500    22.1400     10   \n",
       "299585  2020   JUL   30     0      33    13.3   38.4023    21.9987      7   \n",
       "...      ...   ...  ...   ...     ...     ...       ...        ...    ...   \n",
       "264559  2018   OCT   25    22      54    50.5   37.3516    20.4922     13   \n",
       "303157  2020   OCT   30    11      51    24.4   37.9001    26.8167     12   \n",
       "656     1968   FEB   19    22      45    39.0   39.5000    24.8000     10   \n",
       "7279    1979   APR   15     6      19    42.0   42.0000    19.0000     10   \n",
       "13      1964   OCT    6    14      31    22.0   39.7500    28.0000     10   \n",
       "\n",
       "        MAGNITUDE  \n",
       "100614        0.0  \n",
       "212820        0.0  \n",
       "307732        0.1  \n",
       "169539        0.1  \n",
       "299585        0.1  \n",
       "...           ...  \n",
       "264559        6.6  \n",
       "303157        6.7  \n",
       "656           6.7  \n",
       "7279          6.8  \n",
       "13            7.0  \n",
       "\n",
       "[313400 rows x 10 columns]"
      ],
      "text/html": "<div>\n<style scoped>\n    .dataframe tbody tr th:only-of-type {\n        vertical-align: middle;\n    }\n\n    .dataframe tbody tr th {\n        vertical-align: top;\n    }\n\n    .dataframe thead th {\n        text-align: right;\n    }\n</style>\n<table border=\"1\" class=\"dataframe\">\n  <thead>\n    <tr style=\"text-align: right;\">\n      <th></th>\n      <th>YEAR</th>\n      <th>MONTH</th>\n      <th>DAY</th>\n      <th>HOUR</th>\n      <th>MINUTE</th>\n      <th>SECOND</th>\n      <th>LATITUDE</th>\n      <th>LONGITUDE</th>\n      <th>DEPTH</th>\n      <th>MAGNITUDE</th>\n    </tr>\n  </thead>\n  <tbody>\n    <tr>\n      <th>100614</th>\n      <td>2010</td>\n      <td>SEP</td>\n      <td>29</td>\n      <td>2</td>\n      <td>9</td>\n      <td>47.2</td>\n      <td>37.8600</td>\n      <td>23.0900</td>\n      <td>93</td>\n      <td>0.0</td>\n    </tr>\n    <tr>\n      <th>212820</th>\n      <td>2015</td>\n      <td>JUL</td>\n      <td>25</td>\n      <td>1</td>\n      <td>26</td>\n      <td>10.6</td>\n      <td>38.3800</td>\n      <td>21.9400</td>\n      <td>10</td>\n      <td>0.0</td>\n    </tr>\n    <tr>\n      <th>307732</th>\n      <td>2021</td>\n      <td>JAN</td>\n      <td>21</td>\n      <td>6</td>\n      <td>1</td>\n      <td>50.6</td>\n      <td>38.3748</td>\n      <td>22.0290</td>\n      <td>6</td>\n      <td>0.1</td>\n    </tr>\n    <tr>\n      <th>169539</th>\n      <td>2013</td>\n      <td>DEC</td>\n      <td>16</td>\n      <td>1</td>\n      <td>35</td>\n      <td>32.3</td>\n      <td>38.3500</td>\n      <td>22.1400</td>\n      <td>10</td>\n      <td>0.1</td>\n    </tr>\n    <tr>\n      <th>299585</th>\n      <td>2020</td>\n      <td>JUL</td>\n      <td>30</td>\n      <td>0</td>\n      <td>33</td>\n      <td>13.3</td>\n      <td>38.4023</td>\n      <td>21.9987</td>\n      <td>7</td>\n      <td>0.1</td>\n    </tr>\n    <tr>\n      <th>...</th>\n      <td>...</td>\n      <td>...</td>\n      <td>...</td>\n      <td>...</td>\n      <td>...</td>\n      <td>...</td>\n      <td>...</td>\n      <td>...</td>\n      <td>...</td>\n      <td>...</td>\n    </tr>\n    <tr>\n      <th>264559</th>\n      <td>2018</td>\n      <td>OCT</td>\n      <td>25</td>\n      <td>22</td>\n      <td>54</td>\n      <td>50.5</td>\n      <td>37.3516</td>\n      <td>20.4922</td>\n      <td>13</td>\n      <td>6.6</td>\n    </tr>\n    <tr>\n      <th>303157</th>\n      <td>2020</td>\n      <td>OCT</td>\n      <td>30</td>\n      <td>11</td>\n      <td>51</td>\n      <td>24.4</td>\n      <td>37.9001</td>\n      <td>26.8167</td>\n      <td>12</td>\n      <td>6.7</td>\n    </tr>\n    <tr>\n      <th>656</th>\n      <td>1968</td>\n      <td>FEB</td>\n      <td>19</td>\n      <td>22</td>\n      <td>45</td>\n      <td>39.0</td>\n      <td>39.5000</td>\n      <td>24.8000</td>\n      <td>10</td>\n      <td>6.7</td>\n    </tr>\n    <tr>\n      <th>7279</th>\n      <td>1979</td>\n      <td>APR</td>\n      <td>15</td>\n      <td>6</td>\n      <td>19</td>\n      <td>42.0</td>\n      <td>42.0000</td>\n      <td>19.0000</td>\n      <td>10</td>\n      <td>6.8</td>\n    </tr>\n    <tr>\n      <th>13</th>\n      <td>1964</td>\n      <td>OCT</td>\n      <td>6</td>\n      <td>14</td>\n      <td>31</td>\n      <td>22.0</td>\n      <td>39.7500</td>\n      <td>28.0000</td>\n      <td>10</td>\n      <td>7.0</td>\n    </tr>\n  </tbody>\n</table>\n<p>313400 rows × 10 columns</p>\n</div>"
     },
     "metadata": {},
     "execution_count": 9
    }
   ],
   "source": [
    "df.sort_values(by='MAGNITUDE')"
   ]
  },
  {
   "cell_type": "code",
   "execution_count": 10,
   "metadata": {},
   "outputs": [
    {
     "output_type": "execute_result",
     "data": {
      "text/plain": [
       "        YEAR MONTH  DAY  HOUR  MINUTE  SECOND  LATITUDE  LONGITUDE  DEPTH  \\\n",
       "13      1964   OCT    6    14      31    22.0   39.7500    28.0000     10   \n",
       "7279    1979   APR   15     6      19    42.0   42.0000    19.0000     10   \n",
       "303157  2020   OCT   30    11      51    24.4   37.9001    26.8167     12   \n",
       "656     1968   FEB   19    22      45    39.0   39.5000    24.8000     10   \n",
       "12112   1983   AUG    6    15      43    53.3   40.0800    24.8100     22   \n",
       "...      ...   ...  ...   ...     ...     ...       ...        ...    ...   \n",
       "226630  2016   APR    2    11      41    36.6   38.7200    20.5800      7   \n",
       "244909  2017   APR   26    20      52    48.8   38.3400    21.9960     11   \n",
       "140364  2012   SEP   19     2      13    44.9   38.3000    22.0600     10   \n",
       "212820  2015   JUL   25     1      26    10.6   38.3800    21.9400     10   \n",
       "100614  2010   SEP   29     2       9    47.2   37.8600    23.0900     93   \n",
       "\n",
       "        MAGNITUDE  \n",
       "13            7.0  \n",
       "7279          6.8  \n",
       "303157        6.7  \n",
       "656           6.7  \n",
       "12112         6.6  \n",
       "...           ...  \n",
       "226630        0.1  \n",
       "244909        0.1  \n",
       "140364        0.1  \n",
       "212820        0.0  \n",
       "100614        0.0  \n",
       "\n",
       "[313400 rows x 10 columns]"
      ],
      "text/html": "<div>\n<style scoped>\n    .dataframe tbody tr th:only-of-type {\n        vertical-align: middle;\n    }\n\n    .dataframe tbody tr th {\n        vertical-align: top;\n    }\n\n    .dataframe thead th {\n        text-align: right;\n    }\n</style>\n<table border=\"1\" class=\"dataframe\">\n  <thead>\n    <tr style=\"text-align: right;\">\n      <th></th>\n      <th>YEAR</th>\n      <th>MONTH</th>\n      <th>DAY</th>\n      <th>HOUR</th>\n      <th>MINUTE</th>\n      <th>SECOND</th>\n      <th>LATITUDE</th>\n      <th>LONGITUDE</th>\n      <th>DEPTH</th>\n      <th>MAGNITUDE</th>\n    </tr>\n  </thead>\n  <tbody>\n    <tr>\n      <th>13</th>\n      <td>1964</td>\n      <td>OCT</td>\n      <td>6</td>\n      <td>14</td>\n      <td>31</td>\n      <td>22.0</td>\n      <td>39.7500</td>\n      <td>28.0000</td>\n      <td>10</td>\n      <td>7.0</td>\n    </tr>\n    <tr>\n      <th>7279</th>\n      <td>1979</td>\n      <td>APR</td>\n      <td>15</td>\n      <td>6</td>\n      <td>19</td>\n      <td>42.0</td>\n      <td>42.0000</td>\n      <td>19.0000</td>\n      <td>10</td>\n      <td>6.8</td>\n    </tr>\n    <tr>\n      <th>303157</th>\n      <td>2020</td>\n      <td>OCT</td>\n      <td>30</td>\n      <td>11</td>\n      <td>51</td>\n      <td>24.4</td>\n      <td>37.9001</td>\n      <td>26.8167</td>\n      <td>12</td>\n      <td>6.7</td>\n    </tr>\n    <tr>\n      <th>656</th>\n      <td>1968</td>\n      <td>FEB</td>\n      <td>19</td>\n      <td>22</td>\n      <td>45</td>\n      <td>39.0</td>\n      <td>39.5000</td>\n      <td>24.8000</td>\n      <td>10</td>\n      <td>6.7</td>\n    </tr>\n    <tr>\n      <th>12112</th>\n      <td>1983</td>\n      <td>AUG</td>\n      <td>6</td>\n      <td>15</td>\n      <td>43</td>\n      <td>53.3</td>\n      <td>40.0800</td>\n      <td>24.8100</td>\n      <td>22</td>\n      <td>6.6</td>\n    </tr>\n    <tr>\n      <th>...</th>\n      <td>...</td>\n      <td>...</td>\n      <td>...</td>\n      <td>...</td>\n      <td>...</td>\n      <td>...</td>\n      <td>...</td>\n      <td>...</td>\n      <td>...</td>\n      <td>...</td>\n    </tr>\n    <tr>\n      <th>226630</th>\n      <td>2016</td>\n      <td>APR</td>\n      <td>2</td>\n      <td>11</td>\n      <td>41</td>\n      <td>36.6</td>\n      <td>38.7200</td>\n      <td>20.5800</td>\n      <td>7</td>\n      <td>0.1</td>\n    </tr>\n    <tr>\n      <th>244909</th>\n      <td>2017</td>\n      <td>APR</td>\n      <td>26</td>\n      <td>20</td>\n      <td>52</td>\n      <td>48.8</td>\n      <td>38.3400</td>\n      <td>21.9960</td>\n      <td>11</td>\n      <td>0.1</td>\n    </tr>\n    <tr>\n      <th>140364</th>\n      <td>2012</td>\n      <td>SEP</td>\n      <td>19</td>\n      <td>2</td>\n      <td>13</td>\n      <td>44.9</td>\n      <td>38.3000</td>\n      <td>22.0600</td>\n      <td>10</td>\n      <td>0.1</td>\n    </tr>\n    <tr>\n      <th>212820</th>\n      <td>2015</td>\n      <td>JUL</td>\n      <td>25</td>\n      <td>1</td>\n      <td>26</td>\n      <td>10.6</td>\n      <td>38.3800</td>\n      <td>21.9400</td>\n      <td>10</td>\n      <td>0.0</td>\n    </tr>\n    <tr>\n      <th>100614</th>\n      <td>2010</td>\n      <td>SEP</td>\n      <td>29</td>\n      <td>2</td>\n      <td>9</td>\n      <td>47.2</td>\n      <td>37.8600</td>\n      <td>23.0900</td>\n      <td>93</td>\n      <td>0.0</td>\n    </tr>\n  </tbody>\n</table>\n<p>313400 rows × 10 columns</p>\n</div>"
     },
     "metadata": {},
     "execution_count": 10
    }
   ],
   "source": [
    "df.sort_values(by='MAGNITUDE', ascending=False)"
   ]
  },
  {
   "source": [
    "first by magnitude descending and then by depth ascending (the biggest quakes first)"
   ],
   "cell_type": "markdown",
   "metadata": {}
  },
  {
   "cell_type": "code",
   "execution_count": 12,
   "metadata": {},
   "outputs": [
    {
     "output_type": "execute_result",
     "data": {
      "text/plain": [
       "        YEAR MONTH  DAY  HOUR  MINUTE  SECOND  LATITUDE  LONGITUDE  DEPTH  \\\n",
       "13      1964   OCT    6    14      31    22.0   39.7500    28.0000     10   \n",
       "7279    1979   APR   15     6      19    42.0   42.0000    19.0000     10   \n",
       "656     1968   FEB   19    22      45    39.0   39.5000    24.8000     10   \n",
       "303157  2020   OCT   30    11      51    24.4   37.9001    26.8167     12   \n",
       "587     1967   NOV   30     7      23    49.0   41.4000    20.5000     10   \n",
       "...      ...   ...  ...   ...     ...     ...       ...        ...    ...   \n",
       "265309  2018   NOV    1     2      38    56.1   41.0893    23.9815     10   \n",
       "244909  2017   APR   26    20      52    48.8   38.3400    21.9960     11   \n",
       "128884  2012   MAR   24    16      19     4.2   38.3200    22.0200     14   \n",
       "212820  2015   JUL   25     1      26    10.6   38.3800    21.9400     10   \n",
       "100614  2010   SEP   29     2       9    47.2   37.8600    23.0900     93   \n",
       "\n",
       "        MAGNITUDE  \n",
       "13            7.0  \n",
       "7279          6.8  \n",
       "656           6.7  \n",
       "303157        6.7  \n",
       "587           6.6  \n",
       "...           ...  \n",
       "265309        0.1  \n",
       "244909        0.1  \n",
       "128884        0.1  \n",
       "212820        0.0  \n",
       "100614        0.0  \n",
       "\n",
       "[313400 rows x 10 columns]"
      ],
      "text/html": "<div>\n<style scoped>\n    .dataframe tbody tr th:only-of-type {\n        vertical-align: middle;\n    }\n\n    .dataframe tbody tr th {\n        vertical-align: top;\n    }\n\n    .dataframe thead th {\n        text-align: right;\n    }\n</style>\n<table border=\"1\" class=\"dataframe\">\n  <thead>\n    <tr style=\"text-align: right;\">\n      <th></th>\n      <th>YEAR</th>\n      <th>MONTH</th>\n      <th>DAY</th>\n      <th>HOUR</th>\n      <th>MINUTE</th>\n      <th>SECOND</th>\n      <th>LATITUDE</th>\n      <th>LONGITUDE</th>\n      <th>DEPTH</th>\n      <th>MAGNITUDE</th>\n    </tr>\n  </thead>\n  <tbody>\n    <tr>\n      <th>13</th>\n      <td>1964</td>\n      <td>OCT</td>\n      <td>6</td>\n      <td>14</td>\n      <td>31</td>\n      <td>22.0</td>\n      <td>39.7500</td>\n      <td>28.0000</td>\n      <td>10</td>\n      <td>7.0</td>\n    </tr>\n    <tr>\n      <th>7279</th>\n      <td>1979</td>\n      <td>APR</td>\n      <td>15</td>\n      <td>6</td>\n      <td>19</td>\n      <td>42.0</td>\n      <td>42.0000</td>\n      <td>19.0000</td>\n      <td>10</td>\n      <td>6.8</td>\n    </tr>\n    <tr>\n      <th>656</th>\n      <td>1968</td>\n      <td>FEB</td>\n      <td>19</td>\n      <td>22</td>\n      <td>45</td>\n      <td>39.0</td>\n      <td>39.5000</td>\n      <td>24.8000</td>\n      <td>10</td>\n      <td>6.7</td>\n    </tr>\n    <tr>\n      <th>303157</th>\n      <td>2020</td>\n      <td>OCT</td>\n      <td>30</td>\n      <td>11</td>\n      <td>51</td>\n      <td>24.4</td>\n      <td>37.9001</td>\n      <td>26.8167</td>\n      <td>12</td>\n      <td>6.7</td>\n    </tr>\n    <tr>\n      <th>587</th>\n      <td>1967</td>\n      <td>NOV</td>\n      <td>30</td>\n      <td>7</td>\n      <td>23</td>\n      <td>49.0</td>\n      <td>41.4000</td>\n      <td>20.5000</td>\n      <td>10</td>\n      <td>6.6</td>\n    </tr>\n    <tr>\n      <th>...</th>\n      <td>...</td>\n      <td>...</td>\n      <td>...</td>\n      <td>...</td>\n      <td>...</td>\n      <td>...</td>\n      <td>...</td>\n      <td>...</td>\n      <td>...</td>\n      <td>...</td>\n    </tr>\n    <tr>\n      <th>265309</th>\n      <td>2018</td>\n      <td>NOV</td>\n      <td>1</td>\n      <td>2</td>\n      <td>38</td>\n      <td>56.1</td>\n      <td>41.0893</td>\n      <td>23.9815</td>\n      <td>10</td>\n      <td>0.1</td>\n    </tr>\n    <tr>\n      <th>244909</th>\n      <td>2017</td>\n      <td>APR</td>\n      <td>26</td>\n      <td>20</td>\n      <td>52</td>\n      <td>48.8</td>\n      <td>38.3400</td>\n      <td>21.9960</td>\n      <td>11</td>\n      <td>0.1</td>\n    </tr>\n    <tr>\n      <th>128884</th>\n      <td>2012</td>\n      <td>MAR</td>\n      <td>24</td>\n      <td>16</td>\n      <td>19</td>\n      <td>4.2</td>\n      <td>38.3200</td>\n      <td>22.0200</td>\n      <td>14</td>\n      <td>0.1</td>\n    </tr>\n    <tr>\n      <th>212820</th>\n      <td>2015</td>\n      <td>JUL</td>\n      <td>25</td>\n      <td>1</td>\n      <td>26</td>\n      <td>10.6</td>\n      <td>38.3800</td>\n      <td>21.9400</td>\n      <td>10</td>\n      <td>0.0</td>\n    </tr>\n    <tr>\n      <th>100614</th>\n      <td>2010</td>\n      <td>SEP</td>\n      <td>29</td>\n      <td>2</td>\n      <td>9</td>\n      <td>47.2</td>\n      <td>37.8600</td>\n      <td>23.0900</td>\n      <td>93</td>\n      <td>0.0</td>\n    </tr>\n  </tbody>\n</table>\n<p>313400 rows × 10 columns</p>\n</div>"
     },
     "metadata": {},
     "execution_count": 12
    }
   ],
   "source": [
    "df.sort_values(by=['MAGNITUDE', 'DEPTH'], ascending=[False, True])"
   ]
  },
  {
   "cell_type": "code",
   "execution_count": 34,
   "metadata": {},
   "outputs": [],
   "source": [
    "df.sort_values(by='MAGNITUDE', ascending=False, inplace=True)"
   ]
  },
  {
   "cell_type": "code",
   "execution_count": 35,
   "metadata": {},
   "outputs": [
    {
     "output_type": "execute_result",
     "data": {
      "text/plain": [
       "        YEAR MONTH  DAY  HOUR  MINUTE  SECOND  LATITUDE  LONGITUDE  DEPTH  \\\n",
       "13      1964   OCT    6    14      31    22.0   39.7500    28.0000     10   \n",
       "7279    1979   APR   15     6      19    42.0   42.0000    19.0000     10   \n",
       "303157  2020   OCT   30    11      51    24.4   37.9001    26.8167     12   \n",
       "656     1968   FEB   19    22      45    39.0   39.5000    24.8000     10   \n",
       "12112   1983   AUG    6    15      43    53.3   40.0800    24.8100     22   \n",
       "\n",
       "        MAGNITUDE  \n",
       "13            7.0  \n",
       "7279          6.8  \n",
       "303157        6.7  \n",
       "656           6.7  \n",
       "12112         6.6  "
      ],
      "text/html": "<div>\n<style scoped>\n    .dataframe tbody tr th:only-of-type {\n        vertical-align: middle;\n    }\n\n    .dataframe tbody tr th {\n        vertical-align: top;\n    }\n\n    .dataframe thead th {\n        text-align: right;\n    }\n</style>\n<table border=\"1\" class=\"dataframe\">\n  <thead>\n    <tr style=\"text-align: right;\">\n      <th></th>\n      <th>YEAR</th>\n      <th>MONTH</th>\n      <th>DAY</th>\n      <th>HOUR</th>\n      <th>MINUTE</th>\n      <th>SECOND</th>\n      <th>LATITUDE</th>\n      <th>LONGITUDE</th>\n      <th>DEPTH</th>\n      <th>MAGNITUDE</th>\n    </tr>\n  </thead>\n  <tbody>\n    <tr>\n      <th>13</th>\n      <td>1964</td>\n      <td>OCT</td>\n      <td>6</td>\n      <td>14</td>\n      <td>31</td>\n      <td>22.0</td>\n      <td>39.7500</td>\n      <td>28.0000</td>\n      <td>10</td>\n      <td>7.0</td>\n    </tr>\n    <tr>\n      <th>7279</th>\n      <td>1979</td>\n      <td>APR</td>\n      <td>15</td>\n      <td>6</td>\n      <td>19</td>\n      <td>42.0</td>\n      <td>42.0000</td>\n      <td>19.0000</td>\n      <td>10</td>\n      <td>6.8</td>\n    </tr>\n    <tr>\n      <th>303157</th>\n      <td>2020</td>\n      <td>OCT</td>\n      <td>30</td>\n      <td>11</td>\n      <td>51</td>\n      <td>24.4</td>\n      <td>37.9001</td>\n      <td>26.8167</td>\n      <td>12</td>\n      <td>6.7</td>\n    </tr>\n    <tr>\n      <th>656</th>\n      <td>1968</td>\n      <td>FEB</td>\n      <td>19</td>\n      <td>22</td>\n      <td>45</td>\n      <td>39.0</td>\n      <td>39.5000</td>\n      <td>24.8000</td>\n      <td>10</td>\n      <td>6.7</td>\n    </tr>\n    <tr>\n      <th>12112</th>\n      <td>1983</td>\n      <td>AUG</td>\n      <td>6</td>\n      <td>15</td>\n      <td>43</td>\n      <td>53.3</td>\n      <td>40.0800</td>\n      <td>24.8100</td>\n      <td>22</td>\n      <td>6.6</td>\n    </tr>\n  </tbody>\n</table>\n</div>"
     },
     "metadata": {},
     "execution_count": 35
    }
   ],
   "source": [
    "df.head()"
   ]
  },
  {
   "cell_type": "code",
   "execution_count": 36,
   "metadata": {},
   "outputs": [
    {
     "output_type": "execute_result",
     "data": {
      "text/plain": [
       "        DEPTH  MAGNITUDE\n",
       "13         10        7.0\n",
       "7279       10        6.8\n",
       "303157     12        6.7\n",
       "656        10        6.7\n",
       "12112      22        6.6\n",
       "...       ...        ...\n",
       "226630      7        0.1\n",
       "244909     11        0.1\n",
       "140364     10        0.1\n",
       "212820     10        0.0\n",
       "100614     93        0.0\n",
       "\n",
       "[313400 rows x 2 columns]"
      ],
      "text/html": "<div>\n<style scoped>\n    .dataframe tbody tr th:only-of-type {\n        vertical-align: middle;\n    }\n\n    .dataframe tbody tr th {\n        vertical-align: top;\n    }\n\n    .dataframe thead th {\n        text-align: right;\n    }\n</style>\n<table border=\"1\" class=\"dataframe\">\n  <thead>\n    <tr style=\"text-align: right;\">\n      <th></th>\n      <th>DEPTH</th>\n      <th>MAGNITUDE</th>\n    </tr>\n  </thead>\n  <tbody>\n    <tr>\n      <th>13</th>\n      <td>10</td>\n      <td>7.0</td>\n    </tr>\n    <tr>\n      <th>7279</th>\n      <td>10</td>\n      <td>6.8</td>\n    </tr>\n    <tr>\n      <th>303157</th>\n      <td>12</td>\n      <td>6.7</td>\n    </tr>\n    <tr>\n      <th>656</th>\n      <td>10</td>\n      <td>6.7</td>\n    </tr>\n    <tr>\n      <th>12112</th>\n      <td>22</td>\n      <td>6.6</td>\n    </tr>\n    <tr>\n      <th>...</th>\n      <td>...</td>\n      <td>...</td>\n    </tr>\n    <tr>\n      <th>226630</th>\n      <td>7</td>\n      <td>0.1</td>\n    </tr>\n    <tr>\n      <th>244909</th>\n      <td>11</td>\n      <td>0.1</td>\n    </tr>\n    <tr>\n      <th>140364</th>\n      <td>10</td>\n      <td>0.1</td>\n    </tr>\n    <tr>\n      <th>212820</th>\n      <td>10</td>\n      <td>0.0</td>\n    </tr>\n    <tr>\n      <th>100614</th>\n      <td>93</td>\n      <td>0.0</td>\n    </tr>\n  </tbody>\n</table>\n<p>313400 rows × 2 columns</p>\n</div>"
     },
     "metadata": {},
     "execution_count": 36
    }
   ],
   "source": [
    "df[['DEPTH', 'MAGNITUDE']]"
   ]
  },
  {
   "cell_type": "code",
   "execution_count": 39,
   "metadata": {},
   "outputs": [],
   "source": [
    "df.sort_values(by=['MAGNITUDE','DEPTH'], ascending=[False,True], inplace=True)"
   ]
  },
  {
   "cell_type": "code",
   "execution_count": 40,
   "metadata": {},
   "outputs": [
    {
     "output_type": "execute_result",
     "data": {
      "text/plain": [
       "        YEAR MONTH  DAY  HOUR  MINUTE  SECOND  LATITUDE  LONGITUDE  DEPTH  \\\n",
       "13      1964   OCT    6    14      31    22.0   39.7500    28.0000     10   \n",
       "7279    1979   APR   15     6      19    42.0   42.0000    19.0000     10   \n",
       "656     1968   FEB   19    22      45    39.0   39.5000    24.8000     10   \n",
       "303157  2020   OCT   30    11      51    24.4   37.9001    26.8167     12   \n",
       "1434    1969   MAR   28     1      48    28.0   38.6000    28.5000     10   \n",
       "587     1967   NOV   30     7      23    49.0   41.4000    20.5000     10   \n",
       "264559  2018   OCT   25    22      54    50.5   37.3516    20.4922     13   \n",
       "12112   1983   AUG    6    15      43    53.3   40.0800    24.8100     22   \n",
       "70357   2008   JUN    8    12      25    27.9   37.9800    21.5100     25   \n",
       "10059   1982   JAN   18    19      27    23.0   39.9000    24.5000     10   \n",
       "55505   2006   JAN    8    11      34    54.0   36.2100    23.4100     69   \n",
       "8566    1981   FEB   24    20      53    36.0   38.1400    23.0000     10   \n",
       "9798    1981   DEC   19    14      10    49.0   39.2000    25.3000     10   \n",
       "183047  2014   MAY   24     9      25     1.0   40.2900    25.4000     28   \n",
       "11187   1983   JAN   17    12      41    30.9   37.9700    20.2500      9   \n",
       "248511  2017   JUL   20    22      31    11.7   36.9643    27.4332     10   \n",
       "67244   2008   FEB   14    10       9    23.4   36.5000    21.7800     41   \n",
       "71499   2008   JUL   15     3      26    34.5   35.8500    27.9200     56   \n",
       "108086  2011   APR    1    13      29    10.5   35.6400    26.5600     63   \n",
       "165455  2013   OCT   12    13      11    53.0   35.5000    23.2800     65   \n",
       "30005   1997   NOV   18    13       7    36.9   37.2600    20.4900      5   \n",
       "1276    1968   DEC    5     7      52     5.0   36.6000    27.1000     10   \n",
       "246613  2017   JUN   12    12      28    38.2   38.8388    26.3623     12   \n",
       "205228  2015   APR   16    18       7    44.9   35.2300    26.8200     37   \n",
       "67271   2008   FEB   14    12       8    55.2   36.2200    21.7500     38   \n",
       "26896   1996   JUL   20     0       0    39.8   36.1100    27.5200     38   \n",
       "23470   1995   MAY   13     8      47    17.0   40.1800    21.7100     39   \n",
       "2978    1972   MAY    4    21      40     5.0   35.3000    23.6000     50   \n",
       "289059  2019   NOV   27     7      23    42.7   35.6854    23.2599     71   \n",
       "66776   2008   JAN    6     5      14    19.3   37.1100    22.7800     86   \n",
       "41186   2002   JAN   22     4      53    54.3   35.5600    26.7300    104   \n",
       "309901  2021   MAR    3    10      16     8.3   39.7591    22.2102      8   \n",
       "295087  2020   MAY    2    12      51     9.2   34.4366    25.6915      9   \n",
       "1323    1969   JAN   14    23      12     9.0   36.2000    28.9000     10   \n",
       "274     1966   SEP    1    14      22    57.0   37.5000    22.3000     10   \n",
       "7959    1980   JUL    9     2      11    54.0   39.2000    23.9000     10   \n",
       "9948    1981   DEC   27    17      39    12.0   38.9000    24.9000     10   \n",
       "297     1966   OCT   29     2      39    25.8   38.8000    21.0000     10   \n",
       "218527  2015   NOV   17     7      10     7.3   38.6700    20.6000     11   \n",
       "46880   2004   MAR   17     5      20    58.2   34.4600    23.2600     24   \n",
       "67461   2008   FEB   20    18      27     4.9   36.1800    21.7200     25   \n",
       "6905    1978   JUN   20    20       3    21.0   40.8000    23.3000     33   \n",
       "22568   1994   SEP    1    16      12    41.6   41.1500    21.2600      5   \n",
       "310145  2021   MAR    4    18      38    19.1   39.7993    22.1260      5   \n",
       "101     1965   DEC   20     0       8    11.6   40.1000    24.8000     10   \n",
       "129     1966   FEB    5     2       1    42.8   39.1000    21.6000     10   \n",
       "6501    1977   SEP   11    23      19    22.0   35.0000    23.1000     10   \n",
       "286109  2019   SEP   21    14       4    24.7   41.4375    19.4087     10   \n",
       "16      1964   OCT   17     9      50    27.0   35.0000    25.5000     10   \n",
       "8610    1981   FEB   25     2      35    50.0   38.2000    23.0000     10   \n",
       "\n",
       "        MAGNITUDE  \n",
       "13            7.0  \n",
       "7279          6.8  \n",
       "656           6.7  \n",
       "303157        6.7  \n",
       "1434          6.6  \n",
       "587           6.6  \n",
       "264559        6.6  \n",
       "12112         6.6  \n",
       "70357         6.5  \n",
       "10059         6.4  \n",
       "55505         6.4  \n",
       "8566          6.3  \n",
       "9798          6.3  \n",
       "183047        6.3  \n",
       "11187         6.2  \n",
       "248511        6.2  \n",
       "67244         6.2  \n",
       "71499         6.2  \n",
       "108086        6.2  \n",
       "165455        6.2  \n",
       "30005         6.1  \n",
       "1276          6.1  \n",
       "246613        6.1  \n",
       "205228        6.1  \n",
       "67271         6.1  \n",
       "26896         6.1  \n",
       "23470         6.1  \n",
       "2978          6.1  \n",
       "289059        6.1  \n",
       "66776         6.1  \n",
       "41186         6.1  \n",
       "309901        6.0  \n",
       "295087        6.0  \n",
       "1323          6.0  \n",
       "274           6.0  \n",
       "7959          6.0  \n",
       "9948          6.0  \n",
       "297           6.0  \n",
       "218527        6.0  \n",
       "46880         6.0  \n",
       "67461         6.0  \n",
       "6905          6.0  \n",
       "22568         5.9  \n",
       "310145        5.9  \n",
       "101           5.9  \n",
       "129           5.9  \n",
       "6501          5.9  \n",
       "286109        5.9  \n",
       "16            5.9  \n",
       "8610          5.9  "
      ],
      "text/html": "<div>\n<style scoped>\n    .dataframe tbody tr th:only-of-type {\n        vertical-align: middle;\n    }\n\n    .dataframe tbody tr th {\n        vertical-align: top;\n    }\n\n    .dataframe thead th {\n        text-align: right;\n    }\n</style>\n<table border=\"1\" class=\"dataframe\">\n  <thead>\n    <tr style=\"text-align: right;\">\n      <th></th>\n      <th>YEAR</th>\n      <th>MONTH</th>\n      <th>DAY</th>\n      <th>HOUR</th>\n      <th>MINUTE</th>\n      <th>SECOND</th>\n      <th>LATITUDE</th>\n      <th>LONGITUDE</th>\n      <th>DEPTH</th>\n      <th>MAGNITUDE</th>\n    </tr>\n  </thead>\n  <tbody>\n    <tr>\n      <th>13</th>\n      <td>1964</td>\n      <td>OCT</td>\n      <td>6</td>\n      <td>14</td>\n      <td>31</td>\n      <td>22.0</td>\n      <td>39.7500</td>\n      <td>28.0000</td>\n      <td>10</td>\n      <td>7.0</td>\n    </tr>\n    <tr>\n      <th>7279</th>\n      <td>1979</td>\n      <td>APR</td>\n      <td>15</td>\n      <td>6</td>\n      <td>19</td>\n      <td>42.0</td>\n      <td>42.0000</td>\n      <td>19.0000</td>\n      <td>10</td>\n      <td>6.8</td>\n    </tr>\n    <tr>\n      <th>656</th>\n      <td>1968</td>\n      <td>FEB</td>\n      <td>19</td>\n      <td>22</td>\n      <td>45</td>\n      <td>39.0</td>\n      <td>39.5000</td>\n      <td>24.8000</td>\n      <td>10</td>\n      <td>6.7</td>\n    </tr>\n    <tr>\n      <th>303157</th>\n      <td>2020</td>\n      <td>OCT</td>\n      <td>30</td>\n      <td>11</td>\n      <td>51</td>\n      <td>24.4</td>\n      <td>37.9001</td>\n      <td>26.8167</td>\n      <td>12</td>\n      <td>6.7</td>\n    </tr>\n    <tr>\n      <th>1434</th>\n      <td>1969</td>\n      <td>MAR</td>\n      <td>28</td>\n      <td>1</td>\n      <td>48</td>\n      <td>28.0</td>\n      <td>38.6000</td>\n      <td>28.5000</td>\n      <td>10</td>\n      <td>6.6</td>\n    </tr>\n    <tr>\n      <th>587</th>\n      <td>1967</td>\n      <td>NOV</td>\n      <td>30</td>\n      <td>7</td>\n      <td>23</td>\n      <td>49.0</td>\n      <td>41.4000</td>\n      <td>20.5000</td>\n      <td>10</td>\n      <td>6.6</td>\n    </tr>\n    <tr>\n      <th>264559</th>\n      <td>2018</td>\n      <td>OCT</td>\n      <td>25</td>\n      <td>22</td>\n      <td>54</td>\n      <td>50.5</td>\n      <td>37.3516</td>\n      <td>20.4922</td>\n      <td>13</td>\n      <td>6.6</td>\n    </tr>\n    <tr>\n      <th>12112</th>\n      <td>1983</td>\n      <td>AUG</td>\n      <td>6</td>\n      <td>15</td>\n      <td>43</td>\n      <td>53.3</td>\n      <td>40.0800</td>\n      <td>24.8100</td>\n      <td>22</td>\n      <td>6.6</td>\n    </tr>\n    <tr>\n      <th>70357</th>\n      <td>2008</td>\n      <td>JUN</td>\n      <td>8</td>\n      <td>12</td>\n      <td>25</td>\n      <td>27.9</td>\n      <td>37.9800</td>\n      <td>21.5100</td>\n      <td>25</td>\n      <td>6.5</td>\n    </tr>\n    <tr>\n      <th>10059</th>\n      <td>1982</td>\n      <td>JAN</td>\n      <td>18</td>\n      <td>19</td>\n      <td>27</td>\n      <td>23.0</td>\n      <td>39.9000</td>\n      <td>24.5000</td>\n      <td>10</td>\n      <td>6.4</td>\n    </tr>\n    <tr>\n      <th>55505</th>\n      <td>2006</td>\n      <td>JAN</td>\n      <td>8</td>\n      <td>11</td>\n      <td>34</td>\n      <td>54.0</td>\n      <td>36.2100</td>\n      <td>23.4100</td>\n      <td>69</td>\n      <td>6.4</td>\n    </tr>\n    <tr>\n      <th>8566</th>\n      <td>1981</td>\n      <td>FEB</td>\n      <td>24</td>\n      <td>20</td>\n      <td>53</td>\n      <td>36.0</td>\n      <td>38.1400</td>\n      <td>23.0000</td>\n      <td>10</td>\n      <td>6.3</td>\n    </tr>\n    <tr>\n      <th>9798</th>\n      <td>1981</td>\n      <td>DEC</td>\n      <td>19</td>\n      <td>14</td>\n      <td>10</td>\n      <td>49.0</td>\n      <td>39.2000</td>\n      <td>25.3000</td>\n      <td>10</td>\n      <td>6.3</td>\n    </tr>\n    <tr>\n      <th>183047</th>\n      <td>2014</td>\n      <td>MAY</td>\n      <td>24</td>\n      <td>9</td>\n      <td>25</td>\n      <td>1.0</td>\n      <td>40.2900</td>\n      <td>25.4000</td>\n      <td>28</td>\n      <td>6.3</td>\n    </tr>\n    <tr>\n      <th>11187</th>\n      <td>1983</td>\n      <td>JAN</td>\n      <td>17</td>\n      <td>12</td>\n      <td>41</td>\n      <td>30.9</td>\n      <td>37.9700</td>\n      <td>20.2500</td>\n      <td>9</td>\n      <td>6.2</td>\n    </tr>\n    <tr>\n      <th>248511</th>\n      <td>2017</td>\n      <td>JUL</td>\n      <td>20</td>\n      <td>22</td>\n      <td>31</td>\n      <td>11.7</td>\n      <td>36.9643</td>\n      <td>27.4332</td>\n      <td>10</td>\n      <td>6.2</td>\n    </tr>\n    <tr>\n      <th>67244</th>\n      <td>2008</td>\n      <td>FEB</td>\n      <td>14</td>\n      <td>10</td>\n      <td>9</td>\n      <td>23.4</td>\n      <td>36.5000</td>\n      <td>21.7800</td>\n      <td>41</td>\n      <td>6.2</td>\n    </tr>\n    <tr>\n      <th>71499</th>\n      <td>2008</td>\n      <td>JUL</td>\n      <td>15</td>\n      <td>3</td>\n      <td>26</td>\n      <td>34.5</td>\n      <td>35.8500</td>\n      <td>27.9200</td>\n      <td>56</td>\n      <td>6.2</td>\n    </tr>\n    <tr>\n      <th>108086</th>\n      <td>2011</td>\n      <td>APR</td>\n      <td>1</td>\n      <td>13</td>\n      <td>29</td>\n      <td>10.5</td>\n      <td>35.6400</td>\n      <td>26.5600</td>\n      <td>63</td>\n      <td>6.2</td>\n    </tr>\n    <tr>\n      <th>165455</th>\n      <td>2013</td>\n      <td>OCT</td>\n      <td>12</td>\n      <td>13</td>\n      <td>11</td>\n      <td>53.0</td>\n      <td>35.5000</td>\n      <td>23.2800</td>\n      <td>65</td>\n      <td>6.2</td>\n    </tr>\n    <tr>\n      <th>30005</th>\n      <td>1997</td>\n      <td>NOV</td>\n      <td>18</td>\n      <td>13</td>\n      <td>7</td>\n      <td>36.9</td>\n      <td>37.2600</td>\n      <td>20.4900</td>\n      <td>5</td>\n      <td>6.1</td>\n    </tr>\n    <tr>\n      <th>1276</th>\n      <td>1968</td>\n      <td>DEC</td>\n      <td>5</td>\n      <td>7</td>\n      <td>52</td>\n      <td>5.0</td>\n      <td>36.6000</td>\n      <td>27.1000</td>\n      <td>10</td>\n      <td>6.1</td>\n    </tr>\n    <tr>\n      <th>246613</th>\n      <td>2017</td>\n      <td>JUN</td>\n      <td>12</td>\n      <td>12</td>\n      <td>28</td>\n      <td>38.2</td>\n      <td>38.8388</td>\n      <td>26.3623</td>\n      <td>12</td>\n      <td>6.1</td>\n    </tr>\n    <tr>\n      <th>205228</th>\n      <td>2015</td>\n      <td>APR</td>\n      <td>16</td>\n      <td>18</td>\n      <td>7</td>\n      <td>44.9</td>\n      <td>35.2300</td>\n      <td>26.8200</td>\n      <td>37</td>\n      <td>6.1</td>\n    </tr>\n    <tr>\n      <th>67271</th>\n      <td>2008</td>\n      <td>FEB</td>\n      <td>14</td>\n      <td>12</td>\n      <td>8</td>\n      <td>55.2</td>\n      <td>36.2200</td>\n      <td>21.7500</td>\n      <td>38</td>\n      <td>6.1</td>\n    </tr>\n    <tr>\n      <th>26896</th>\n      <td>1996</td>\n      <td>JUL</td>\n      <td>20</td>\n      <td>0</td>\n      <td>0</td>\n      <td>39.8</td>\n      <td>36.1100</td>\n      <td>27.5200</td>\n      <td>38</td>\n      <td>6.1</td>\n    </tr>\n    <tr>\n      <th>23470</th>\n      <td>1995</td>\n      <td>MAY</td>\n      <td>13</td>\n      <td>8</td>\n      <td>47</td>\n      <td>17.0</td>\n      <td>40.1800</td>\n      <td>21.7100</td>\n      <td>39</td>\n      <td>6.1</td>\n    </tr>\n    <tr>\n      <th>2978</th>\n      <td>1972</td>\n      <td>MAY</td>\n      <td>4</td>\n      <td>21</td>\n      <td>40</td>\n      <td>5.0</td>\n      <td>35.3000</td>\n      <td>23.6000</td>\n      <td>50</td>\n      <td>6.1</td>\n    </tr>\n    <tr>\n      <th>289059</th>\n      <td>2019</td>\n      <td>NOV</td>\n      <td>27</td>\n      <td>7</td>\n      <td>23</td>\n      <td>42.7</td>\n      <td>35.6854</td>\n      <td>23.2599</td>\n      <td>71</td>\n      <td>6.1</td>\n    </tr>\n    <tr>\n      <th>66776</th>\n      <td>2008</td>\n      <td>JAN</td>\n      <td>6</td>\n      <td>5</td>\n      <td>14</td>\n      <td>19.3</td>\n      <td>37.1100</td>\n      <td>22.7800</td>\n      <td>86</td>\n      <td>6.1</td>\n    </tr>\n    <tr>\n      <th>41186</th>\n      <td>2002</td>\n      <td>JAN</td>\n      <td>22</td>\n      <td>4</td>\n      <td>53</td>\n      <td>54.3</td>\n      <td>35.5600</td>\n      <td>26.7300</td>\n      <td>104</td>\n      <td>6.1</td>\n    </tr>\n    <tr>\n      <th>309901</th>\n      <td>2021</td>\n      <td>MAR</td>\n      <td>3</td>\n      <td>10</td>\n      <td>16</td>\n      <td>8.3</td>\n      <td>39.7591</td>\n      <td>22.2102</td>\n      <td>8</td>\n      <td>6.0</td>\n    </tr>\n    <tr>\n      <th>295087</th>\n      <td>2020</td>\n      <td>MAY</td>\n      <td>2</td>\n      <td>12</td>\n      <td>51</td>\n      <td>9.2</td>\n      <td>34.4366</td>\n      <td>25.6915</td>\n      <td>9</td>\n      <td>6.0</td>\n    </tr>\n    <tr>\n      <th>1323</th>\n      <td>1969</td>\n      <td>JAN</td>\n      <td>14</td>\n      <td>23</td>\n      <td>12</td>\n      <td>9.0</td>\n      <td>36.2000</td>\n      <td>28.9000</td>\n      <td>10</td>\n      <td>6.0</td>\n    </tr>\n    <tr>\n      <th>274</th>\n      <td>1966</td>\n      <td>SEP</td>\n      <td>1</td>\n      <td>14</td>\n      <td>22</td>\n      <td>57.0</td>\n      <td>37.5000</td>\n      <td>22.3000</td>\n      <td>10</td>\n      <td>6.0</td>\n    </tr>\n    <tr>\n      <th>7959</th>\n      <td>1980</td>\n      <td>JUL</td>\n      <td>9</td>\n      <td>2</td>\n      <td>11</td>\n      <td>54.0</td>\n      <td>39.2000</td>\n      <td>23.9000</td>\n      <td>10</td>\n      <td>6.0</td>\n    </tr>\n    <tr>\n      <th>9948</th>\n      <td>1981</td>\n      <td>DEC</td>\n      <td>27</td>\n      <td>17</td>\n      <td>39</td>\n      <td>12.0</td>\n      <td>38.9000</td>\n      <td>24.9000</td>\n      <td>10</td>\n      <td>6.0</td>\n    </tr>\n    <tr>\n      <th>297</th>\n      <td>1966</td>\n      <td>OCT</td>\n      <td>29</td>\n      <td>2</td>\n      <td>39</td>\n      <td>25.8</td>\n      <td>38.8000</td>\n      <td>21.0000</td>\n      <td>10</td>\n      <td>6.0</td>\n    </tr>\n    <tr>\n      <th>218527</th>\n      <td>2015</td>\n      <td>NOV</td>\n      <td>17</td>\n      <td>7</td>\n      <td>10</td>\n      <td>7.3</td>\n      <td>38.6700</td>\n      <td>20.6000</td>\n      <td>11</td>\n      <td>6.0</td>\n    </tr>\n    <tr>\n      <th>46880</th>\n      <td>2004</td>\n      <td>MAR</td>\n      <td>17</td>\n      <td>5</td>\n      <td>20</td>\n      <td>58.2</td>\n      <td>34.4600</td>\n      <td>23.2600</td>\n      <td>24</td>\n      <td>6.0</td>\n    </tr>\n    <tr>\n      <th>67461</th>\n      <td>2008</td>\n      <td>FEB</td>\n      <td>20</td>\n      <td>18</td>\n      <td>27</td>\n      <td>4.9</td>\n      <td>36.1800</td>\n      <td>21.7200</td>\n      <td>25</td>\n      <td>6.0</td>\n    </tr>\n    <tr>\n      <th>6905</th>\n      <td>1978</td>\n      <td>JUN</td>\n      <td>20</td>\n      <td>20</td>\n      <td>3</td>\n      <td>21.0</td>\n      <td>40.8000</td>\n      <td>23.3000</td>\n      <td>33</td>\n      <td>6.0</td>\n    </tr>\n    <tr>\n      <th>22568</th>\n      <td>1994</td>\n      <td>SEP</td>\n      <td>1</td>\n      <td>16</td>\n      <td>12</td>\n      <td>41.6</td>\n      <td>41.1500</td>\n      <td>21.2600</td>\n      <td>5</td>\n      <td>5.9</td>\n    </tr>\n    <tr>\n      <th>310145</th>\n      <td>2021</td>\n      <td>MAR</td>\n      <td>4</td>\n      <td>18</td>\n      <td>38</td>\n      <td>19.1</td>\n      <td>39.7993</td>\n      <td>22.1260</td>\n      <td>5</td>\n      <td>5.9</td>\n    </tr>\n    <tr>\n      <th>101</th>\n      <td>1965</td>\n      <td>DEC</td>\n      <td>20</td>\n      <td>0</td>\n      <td>8</td>\n      <td>11.6</td>\n      <td>40.1000</td>\n      <td>24.8000</td>\n      <td>10</td>\n      <td>5.9</td>\n    </tr>\n    <tr>\n      <th>129</th>\n      <td>1966</td>\n      <td>FEB</td>\n      <td>5</td>\n      <td>2</td>\n      <td>1</td>\n      <td>42.8</td>\n      <td>39.1000</td>\n      <td>21.6000</td>\n      <td>10</td>\n      <td>5.9</td>\n    </tr>\n    <tr>\n      <th>6501</th>\n      <td>1977</td>\n      <td>SEP</td>\n      <td>11</td>\n      <td>23</td>\n      <td>19</td>\n      <td>22.0</td>\n      <td>35.0000</td>\n      <td>23.1000</td>\n      <td>10</td>\n      <td>5.9</td>\n    </tr>\n    <tr>\n      <th>286109</th>\n      <td>2019</td>\n      <td>SEP</td>\n      <td>21</td>\n      <td>14</td>\n      <td>4</td>\n      <td>24.7</td>\n      <td>41.4375</td>\n      <td>19.4087</td>\n      <td>10</td>\n      <td>5.9</td>\n    </tr>\n    <tr>\n      <th>16</th>\n      <td>1964</td>\n      <td>OCT</td>\n      <td>17</td>\n      <td>9</td>\n      <td>50</td>\n      <td>27.0</td>\n      <td>35.0000</td>\n      <td>25.5000</td>\n      <td>10</td>\n      <td>5.9</td>\n    </tr>\n    <tr>\n      <th>8610</th>\n      <td>1981</td>\n      <td>FEB</td>\n      <td>25</td>\n      <td>2</td>\n      <td>35</td>\n      <td>50.0</td>\n      <td>38.2000</td>\n      <td>23.0000</td>\n      <td>10</td>\n      <td>5.9</td>\n    </tr>\n  </tbody>\n</table>\n</div>"
     },
     "metadata": {},
     "execution_count": 40
    }
   ],
   "source": [
    "df.head(50)"
   ]
  },
  {
   "source": [
    "how to see largest and smallest values:"
   ],
   "cell_type": "markdown",
   "metadata": {}
  },
  {
   "cell_type": "code",
   "execution_count": 46,
   "metadata": {},
   "outputs": [
    {
     "output_type": "execute_result",
     "data": {
      "text/plain": [
       "13        7.0\n",
       "7279      6.8\n",
       "656       6.7\n",
       "303157    6.7\n",
       "1434      6.6\n",
       "587       6.6\n",
       "264559    6.6\n",
       "12112     6.6\n",
       "70357     6.5\n",
       "10059     6.4\n",
       "Name: MAGNITUDE, dtype: float64"
      ]
     },
     "metadata": {},
     "execution_count": 46
    }
   ],
   "source": [
    "df['MAGNITUDE'].nlargest(10)"
   ]
  },
  {
   "cell_type": "code",
   "execution_count": 47,
   "metadata": {},
   "outputs": [
    {
     "output_type": "execute_result",
     "data": {
      "text/plain": [
       "        YEAR MONTH  DAY  HOUR  MINUTE  SECOND  LATITUDE  LONGITUDE  DEPTH  \\\n",
       "13      1964   OCT    6    14      31    22.0   39.7500    28.0000     10   \n",
       "7279    1979   APR   15     6      19    42.0   42.0000    19.0000     10   \n",
       "656     1968   FEB   19    22      45    39.0   39.5000    24.8000     10   \n",
       "303157  2020   OCT   30    11      51    24.4   37.9001    26.8167     12   \n",
       "1434    1969   MAR   28     1      48    28.0   38.6000    28.5000     10   \n",
       "587     1967   NOV   30     7      23    49.0   41.4000    20.5000     10   \n",
       "264559  2018   OCT   25    22      54    50.5   37.3516    20.4922     13   \n",
       "12112   1983   AUG    6    15      43    53.3   40.0800    24.8100     22   \n",
       "70357   2008   JUN    8    12      25    27.9   37.9800    21.5100     25   \n",
       "10059   1982   JAN   18    19      27    23.0   39.9000    24.5000     10   \n",
       "\n",
       "        MAGNITUDE  \n",
       "13            7.0  \n",
       "7279          6.8  \n",
       "656           6.7  \n",
       "303157        6.7  \n",
       "1434          6.6  \n",
       "587           6.6  \n",
       "264559        6.6  \n",
       "12112         6.6  \n",
       "70357         6.5  \n",
       "10059         6.4  "
      ],
      "text/html": "<div>\n<style scoped>\n    .dataframe tbody tr th:only-of-type {\n        vertical-align: middle;\n    }\n\n    .dataframe tbody tr th {\n        vertical-align: top;\n    }\n\n    .dataframe thead th {\n        text-align: right;\n    }\n</style>\n<table border=\"1\" class=\"dataframe\">\n  <thead>\n    <tr style=\"text-align: right;\">\n      <th></th>\n      <th>YEAR</th>\n      <th>MONTH</th>\n      <th>DAY</th>\n      <th>HOUR</th>\n      <th>MINUTE</th>\n      <th>SECOND</th>\n      <th>LATITUDE</th>\n      <th>LONGITUDE</th>\n      <th>DEPTH</th>\n      <th>MAGNITUDE</th>\n    </tr>\n  </thead>\n  <tbody>\n    <tr>\n      <th>13</th>\n      <td>1964</td>\n      <td>OCT</td>\n      <td>6</td>\n      <td>14</td>\n      <td>31</td>\n      <td>22.0</td>\n      <td>39.7500</td>\n      <td>28.0000</td>\n      <td>10</td>\n      <td>7.0</td>\n    </tr>\n    <tr>\n      <th>7279</th>\n      <td>1979</td>\n      <td>APR</td>\n      <td>15</td>\n      <td>6</td>\n      <td>19</td>\n      <td>42.0</td>\n      <td>42.0000</td>\n      <td>19.0000</td>\n      <td>10</td>\n      <td>6.8</td>\n    </tr>\n    <tr>\n      <th>656</th>\n      <td>1968</td>\n      <td>FEB</td>\n      <td>19</td>\n      <td>22</td>\n      <td>45</td>\n      <td>39.0</td>\n      <td>39.5000</td>\n      <td>24.8000</td>\n      <td>10</td>\n      <td>6.7</td>\n    </tr>\n    <tr>\n      <th>303157</th>\n      <td>2020</td>\n      <td>OCT</td>\n      <td>30</td>\n      <td>11</td>\n      <td>51</td>\n      <td>24.4</td>\n      <td>37.9001</td>\n      <td>26.8167</td>\n      <td>12</td>\n      <td>6.7</td>\n    </tr>\n    <tr>\n      <th>1434</th>\n      <td>1969</td>\n      <td>MAR</td>\n      <td>28</td>\n      <td>1</td>\n      <td>48</td>\n      <td>28.0</td>\n      <td>38.6000</td>\n      <td>28.5000</td>\n      <td>10</td>\n      <td>6.6</td>\n    </tr>\n    <tr>\n      <th>587</th>\n      <td>1967</td>\n      <td>NOV</td>\n      <td>30</td>\n      <td>7</td>\n      <td>23</td>\n      <td>49.0</td>\n      <td>41.4000</td>\n      <td>20.5000</td>\n      <td>10</td>\n      <td>6.6</td>\n    </tr>\n    <tr>\n      <th>264559</th>\n      <td>2018</td>\n      <td>OCT</td>\n      <td>25</td>\n      <td>22</td>\n      <td>54</td>\n      <td>50.5</td>\n      <td>37.3516</td>\n      <td>20.4922</td>\n      <td>13</td>\n      <td>6.6</td>\n    </tr>\n    <tr>\n      <th>12112</th>\n      <td>1983</td>\n      <td>AUG</td>\n      <td>6</td>\n      <td>15</td>\n      <td>43</td>\n      <td>53.3</td>\n      <td>40.0800</td>\n      <td>24.8100</td>\n      <td>22</td>\n      <td>6.6</td>\n    </tr>\n    <tr>\n      <th>70357</th>\n      <td>2008</td>\n      <td>JUN</td>\n      <td>8</td>\n      <td>12</td>\n      <td>25</td>\n      <td>27.9</td>\n      <td>37.9800</td>\n      <td>21.5100</td>\n      <td>25</td>\n      <td>6.5</td>\n    </tr>\n    <tr>\n      <th>10059</th>\n      <td>1982</td>\n      <td>JAN</td>\n      <td>18</td>\n      <td>19</td>\n      <td>27</td>\n      <td>23.0</td>\n      <td>39.9000</td>\n      <td>24.5000</td>\n      <td>10</td>\n      <td>6.4</td>\n    </tr>\n  </tbody>\n</table>\n</div>"
     },
     "metadata": {},
     "execution_count": 47
    }
   ],
   "source": [
    "df.nlargest(10, 'MAGNITUDE')"
   ]
  },
  {
   "cell_type": "code",
   "execution_count": 48,
   "metadata": {},
   "outputs": [
    {
     "output_type": "execute_result",
     "data": {
      "text/plain": [
       "       MONTH  DAY\n",
       "13       OCT    6\n",
       "7279     APR   15\n",
       "656      FEB   19\n",
       "303157   OCT   30\n",
       "1434     MAR   28\n",
       "587      NOV   30\n",
       "264559   OCT   25\n",
       "12112    AUG    6\n",
       "70357    JUN    8\n",
       "10059    JAN   18"
      ],
      "text/html": "<div>\n<style scoped>\n    .dataframe tbody tr th:only-of-type {\n        vertical-align: middle;\n    }\n\n    .dataframe tbody tr th {\n        vertical-align: top;\n    }\n\n    .dataframe thead th {\n        text-align: right;\n    }\n</style>\n<table border=\"1\" class=\"dataframe\">\n  <thead>\n    <tr style=\"text-align: right;\">\n      <th></th>\n      <th>MONTH</th>\n      <th>DAY</th>\n    </tr>\n  </thead>\n  <tbody>\n    <tr>\n      <th>13</th>\n      <td>OCT</td>\n      <td>6</td>\n    </tr>\n    <tr>\n      <th>7279</th>\n      <td>APR</td>\n      <td>15</td>\n    </tr>\n    <tr>\n      <th>656</th>\n      <td>FEB</td>\n      <td>19</td>\n    </tr>\n    <tr>\n      <th>303157</th>\n      <td>OCT</td>\n      <td>30</td>\n    </tr>\n    <tr>\n      <th>1434</th>\n      <td>MAR</td>\n      <td>28</td>\n    </tr>\n    <tr>\n      <th>587</th>\n      <td>NOV</td>\n      <td>30</td>\n    </tr>\n    <tr>\n      <th>264559</th>\n      <td>OCT</td>\n      <td>25</td>\n    </tr>\n    <tr>\n      <th>12112</th>\n      <td>AUG</td>\n      <td>6</td>\n    </tr>\n    <tr>\n      <th>70357</th>\n      <td>JUN</td>\n      <td>8</td>\n    </tr>\n    <tr>\n      <th>10059</th>\n      <td>JAN</td>\n      <td>18</td>\n    </tr>\n  </tbody>\n</table>\n</div>"
     },
     "metadata": {},
     "execution_count": 48
    }
   ],
   "source": [
    "df.nlargest(10, 'MAGNITUDE')[['MONTH', 'DAY']]"
   ]
  },
  {
   "cell_type": "code",
   "execution_count": null,
   "metadata": {},
   "outputs": [],
   "source": []
  }
 ]
}