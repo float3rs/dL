{
 "metadata": {
  "language_info": {
   "codemirror_mode": {
    "name": "ipython",
    "version": 3
   },
   "file_extension": ".py",
   "mimetype": "text/x-python",
   "name": "python",
   "nbconvert_exporter": "python",
   "pygments_lexer": "ipython3",
   "version": "3.8.5-final"
  },
  "orig_nbformat": 2,
  "kernelspec": {
   "name": "python385jvsc74a57bd0dca0ade3e726a953b501b15e8e990130d2b7799f14cfd9f4271676035ebe5511",
   "display_name": "Python 3.8.5 64-bit ('base': conda)"
  }
 },
 "nbformat": 4,
 "nbformat_minor": 2,
 "cells": [
  {
   "cell_type": "code",
   "execution_count": 1,
   "metadata": {},
   "outputs": [],
   "source": [
    "import pandas\n",
    "df = pandas.read_csv('full.csv')\n",
    "df_schema = pandas.read_csv('schema.csv')"
   ]
  },
  {
   "cell_type": "code",
   "execution_count": 2,
   "metadata": {},
   "outputs": [
    {
     "output_type": "execute_result",
     "data": {
      "text/plain": [
       "        YEAR MONTH  DAY  HOUR  ...  LATITUDE  LONGITUDE  DEPTH  MAGNITUDE\n",
       "0       1964   FEB   24    23  ...   38.9000    23.9000     10        5.3\n",
       "1       1964   APR   11    16  ...   39.7500    25.2500     10        5.7\n",
       "2       1964   APR   21     8  ...   38.5000    22.2500     10        4.5\n",
       "3       1964   APR   24     3  ...   38.0000    21.8000     10        5.0\n",
       "4       1964   APR   29     4  ...   39.2500    23.7500     10        5.8\n",
       "...      ...   ...  ...   ...  ...       ...        ...    ...        ...\n",
       "313395  2021   APR    9     5  ...   39.7856    21.9081      5        0.6\n",
       "313396  2021   APR    9     5  ...   39.7920    21.9328      5        1.5\n",
       "313397  2021   APR    9     5  ...   39.7160    22.1947      8        1.0\n",
       "313398  2021   APR    9     5  ...   39.7929    21.9154      6        1.0\n",
       "313399  2021   APR    9     5  ...   39.8007    21.8948      7        1.2\n",
       "\n",
       "[313400 rows x 10 columns]"
      ],
      "text/html": "<div>\n<style scoped>\n    .dataframe tbody tr th:only-of-type {\n        vertical-align: middle;\n    }\n\n    .dataframe tbody tr th {\n        vertical-align: top;\n    }\n\n    .dataframe thead th {\n        text-align: right;\n    }\n</style>\n<table border=\"1\" class=\"dataframe\">\n  <thead>\n    <tr style=\"text-align: right;\">\n      <th></th>\n      <th>YEAR</th>\n      <th>MONTH</th>\n      <th>DAY</th>\n      <th>HOUR</th>\n      <th>MINUTE</th>\n      <th>SECOND</th>\n      <th>LATITUDE</th>\n      <th>LONGITUDE</th>\n      <th>DEPTH</th>\n      <th>MAGNITUDE</th>\n    </tr>\n  </thead>\n  <tbody>\n    <tr>\n      <th>0</th>\n      <td>1964</td>\n      <td>FEB</td>\n      <td>24</td>\n      <td>23</td>\n      <td>30</td>\n      <td>25.0</td>\n      <td>38.9000</td>\n      <td>23.9000</td>\n      <td>10</td>\n      <td>5.3</td>\n    </tr>\n    <tr>\n      <th>1</th>\n      <td>1964</td>\n      <td>APR</td>\n      <td>11</td>\n      <td>16</td>\n      <td>0</td>\n      <td>0.0</td>\n      <td>39.7500</td>\n      <td>25.2500</td>\n      <td>10</td>\n      <td>5.7</td>\n    </tr>\n    <tr>\n      <th>2</th>\n      <td>1964</td>\n      <td>APR</td>\n      <td>21</td>\n      <td>8</td>\n      <td>14</td>\n      <td>40.0</td>\n      <td>38.5000</td>\n      <td>22.2500</td>\n      <td>10</td>\n      <td>4.5</td>\n    </tr>\n    <tr>\n      <th>3</th>\n      <td>1964</td>\n      <td>APR</td>\n      <td>24</td>\n      <td>3</td>\n      <td>49</td>\n      <td>58.0</td>\n      <td>38.0000</td>\n      <td>21.8000</td>\n      <td>10</td>\n      <td>5.0</td>\n    </tr>\n    <tr>\n      <th>4</th>\n      <td>1964</td>\n      <td>APR</td>\n      <td>29</td>\n      <td>4</td>\n      <td>21</td>\n      <td>0.0</td>\n      <td>39.2500</td>\n      <td>23.7500</td>\n      <td>10</td>\n      <td>5.8</td>\n    </tr>\n    <tr>\n      <th>...</th>\n      <td>...</td>\n      <td>...</td>\n      <td>...</td>\n      <td>...</td>\n      <td>...</td>\n      <td>...</td>\n      <td>...</td>\n      <td>...</td>\n      <td>...</td>\n      <td>...</td>\n    </tr>\n    <tr>\n      <th>313395</th>\n      <td>2021</td>\n      <td>APR</td>\n      <td>9</td>\n      <td>5</td>\n      <td>0</td>\n      <td>7.4</td>\n      <td>39.7856</td>\n      <td>21.9081</td>\n      <td>5</td>\n      <td>0.6</td>\n    </tr>\n    <tr>\n      <th>313396</th>\n      <td>2021</td>\n      <td>APR</td>\n      <td>9</td>\n      <td>5</td>\n      <td>0</td>\n      <td>21.9</td>\n      <td>39.7920</td>\n      <td>21.9328</td>\n      <td>5</td>\n      <td>1.5</td>\n    </tr>\n    <tr>\n      <th>313397</th>\n      <td>2021</td>\n      <td>APR</td>\n      <td>9</td>\n      <td>5</td>\n      <td>1</td>\n      <td>6.5</td>\n      <td>39.7160</td>\n      <td>22.1947</td>\n      <td>8</td>\n      <td>1.0</td>\n    </tr>\n    <tr>\n      <th>313398</th>\n      <td>2021</td>\n      <td>APR</td>\n      <td>9</td>\n      <td>5</td>\n      <td>2</td>\n      <td>5.6</td>\n      <td>39.7929</td>\n      <td>21.9154</td>\n      <td>6</td>\n      <td>1.0</td>\n    </tr>\n    <tr>\n      <th>313399</th>\n      <td>2021</td>\n      <td>APR</td>\n      <td>9</td>\n      <td>5</td>\n      <td>15</td>\n      <td>5.0</td>\n      <td>39.8007</td>\n      <td>21.8948</td>\n      <td>7</td>\n      <td>1.2</td>\n    </tr>\n  </tbody>\n</table>\n<p>313400 rows × 10 columns</p>\n</div>"
     },
     "metadata": {},
     "execution_count": 2
    }
   ],
   "source": [
    "df"
   ]
  },
  {
   "cell_type": "code",
   "execution_count": 3,
   "metadata": {},
   "outputs": [
    {
     "output_type": "execute_result",
     "data": {
      "text/plain": [
       "      COLUMN                   ATTRIBUTE\n",
       "0       YEAR       event Date: Year XXXX\n",
       "1      MONTH      event Date: Month abbr\n",
       "2        DAY             event Date: Day\n",
       "3       HOUR  event Time (GMT): Hour 24h\n",
       "4     MINUTE    event Time (GMT): Minute\n",
       "5     SECOND    event Time (GMT): Second\n",
       "6   LATITUDE          event Latitude (N)\n",
       "7  LONGITUDE         event Longitude (E)\n",
       "8      DEPTH            event Depth (km)\n",
       "9  MAGNITUDE          event Magnitude Mr"
      ],
      "text/html": "<div>\n<style scoped>\n    .dataframe tbody tr th:only-of-type {\n        vertical-align: middle;\n    }\n\n    .dataframe tbody tr th {\n        vertical-align: top;\n    }\n\n    .dataframe thead th {\n        text-align: right;\n    }\n</style>\n<table border=\"1\" class=\"dataframe\">\n  <thead>\n    <tr style=\"text-align: right;\">\n      <th></th>\n      <th>COLUMN</th>\n      <th>ATTRIBUTE</th>\n    </tr>\n  </thead>\n  <tbody>\n    <tr>\n      <th>0</th>\n      <td>YEAR</td>\n      <td>event Date: Year XXXX</td>\n    </tr>\n    <tr>\n      <th>1</th>\n      <td>MONTH</td>\n      <td>event Date: Month abbr</td>\n    </tr>\n    <tr>\n      <th>2</th>\n      <td>DAY</td>\n      <td>event Date: Day</td>\n    </tr>\n    <tr>\n      <th>3</th>\n      <td>HOUR</td>\n      <td>event Time (GMT): Hour 24h</td>\n    </tr>\n    <tr>\n      <th>4</th>\n      <td>MINUTE</td>\n      <td>event Time (GMT): Minute</td>\n    </tr>\n    <tr>\n      <th>5</th>\n      <td>SECOND</td>\n      <td>event Time (GMT): Second</td>\n    </tr>\n    <tr>\n      <th>6</th>\n      <td>LATITUDE</td>\n      <td>event Latitude (N)</td>\n    </tr>\n    <tr>\n      <th>7</th>\n      <td>LONGITUDE</td>\n      <td>event Longitude (E)</td>\n    </tr>\n    <tr>\n      <th>8</th>\n      <td>DEPTH</td>\n      <td>event Depth (km)</td>\n    </tr>\n    <tr>\n      <th>9</th>\n      <td>MAGNITUDE</td>\n      <td>event Magnitude Mr</td>\n    </tr>\n  </tbody>\n</table>\n</div>"
     },
     "metadata": {},
     "execution_count": 3
    }
   ],
   "source": [
    "df_schema"
   ]
  },
  {
   "source": [
    "basic comparison, see quakes of 1983"
   ],
   "cell_type": "markdown",
   "metadata": {}
  },
  {
   "cell_type": "code",
   "execution_count": 4,
   "metadata": {},
   "outputs": [
    {
     "output_type": "execute_result",
     "data": {
      "text/plain": [
       "0         False\n",
       "1         False\n",
       "2         False\n",
       "3         False\n",
       "4         False\n",
       "          ...  \n",
       "313395    False\n",
       "313396    False\n",
       "313397    False\n",
       "313398    False\n",
       "313399    False\n",
       "Name: YEAR, Length: 313400, dtype: bool"
      ]
     },
     "metadata": {},
     "execution_count": 4
    }
   ],
   "source": [
    "df['YEAR'] == 1983"
   ]
  },
  {
   "source": [
    "this is a mask, every row false does not match the filter criteria, true the opposite"
   ],
   "cell_type": "markdown",
   "metadata": {}
  },
  {
   "source": [
    "# FILTERS"
   ],
   "cell_type": "markdown",
   "metadata": {}
  },
  {
   "cell_type": "code",
   "execution_count": 5,
   "metadata": {},
   "outputs": [],
   "source": [
    "filt = (df['YEAR'] == 1983)"
   ]
  },
  {
   "source": [
    "apply our filter to our dataframe"
   ],
   "cell_type": "markdown",
   "metadata": {}
  },
  {
   "source": [
    "df[filt]"
   ],
   "cell_type": "code",
   "metadata": {},
   "execution_count": 6,
   "outputs": [
    {
     "output_type": "execute_result",
     "data": {
      "text/plain": [
       "       YEAR MONTH  DAY  HOUR  ...  LATITUDE  LONGITUDE  DEPTH  MAGNITUDE\n",
       "11157  1983   JAN    2     1  ...     38.58      25.40     40        3.2\n",
       "11158  1983   JAN    2     6  ...     37.32      20.56      5        4.3\n",
       "11159  1983   JAN    3     0  ...     34.91      24.53     93        4.8\n",
       "11160  1983   JAN    3    14  ...     36.05      21.75     10        3.7\n",
       "11161  1983   JAN    4     3  ...     36.30      21.67     10        3.6\n",
       "...     ...   ...  ...   ...  ...       ...        ...    ...        ...\n",
       "12532  1983   DEC   28     8  ...     40.87      20.93      5        4.3\n",
       "12533  1983   DEC   29     4  ...     37.26      20.86      5        3.5\n",
       "12534  1983   DEC   29    10  ...     37.70      20.05      5        3.9\n",
       "12535  1983   DEC   31     6  ...     35.34      26.40      5        4.1\n",
       "12536  1983   DEC   31    14  ...     38.24      21.86     26        3.1\n",
       "\n",
       "[1380 rows x 10 columns]"
      ],
      "text/html": "<div>\n<style scoped>\n    .dataframe tbody tr th:only-of-type {\n        vertical-align: middle;\n    }\n\n    .dataframe tbody tr th {\n        vertical-align: top;\n    }\n\n    .dataframe thead th {\n        text-align: right;\n    }\n</style>\n<table border=\"1\" class=\"dataframe\">\n  <thead>\n    <tr style=\"text-align: right;\">\n      <th></th>\n      <th>YEAR</th>\n      <th>MONTH</th>\n      <th>DAY</th>\n      <th>HOUR</th>\n      <th>MINUTE</th>\n      <th>SECOND</th>\n      <th>LATITUDE</th>\n      <th>LONGITUDE</th>\n      <th>DEPTH</th>\n      <th>MAGNITUDE</th>\n    </tr>\n  </thead>\n  <tbody>\n    <tr>\n      <th>11157</th>\n      <td>1983</td>\n      <td>JAN</td>\n      <td>2</td>\n      <td>1</td>\n      <td>18</td>\n      <td>51.5</td>\n      <td>38.58</td>\n      <td>25.40</td>\n      <td>40</td>\n      <td>3.2</td>\n    </tr>\n    <tr>\n      <th>11158</th>\n      <td>1983</td>\n      <td>JAN</td>\n      <td>2</td>\n      <td>6</td>\n      <td>20</td>\n      <td>2.4</td>\n      <td>37.32</td>\n      <td>20.56</td>\n      <td>5</td>\n      <td>4.3</td>\n    </tr>\n    <tr>\n      <th>11159</th>\n      <td>1983</td>\n      <td>JAN</td>\n      <td>3</td>\n      <td>0</td>\n      <td>12</td>\n      <td>32.4</td>\n      <td>34.91</td>\n      <td>24.53</td>\n      <td>93</td>\n      <td>4.8</td>\n    </tr>\n    <tr>\n      <th>11160</th>\n      <td>1983</td>\n      <td>JAN</td>\n      <td>3</td>\n      <td>14</td>\n      <td>20</td>\n      <td>43.7</td>\n      <td>36.05</td>\n      <td>21.75</td>\n      <td>10</td>\n      <td>3.7</td>\n    </tr>\n    <tr>\n      <th>11161</th>\n      <td>1983</td>\n      <td>JAN</td>\n      <td>4</td>\n      <td>3</td>\n      <td>58</td>\n      <td>35.9</td>\n      <td>36.30</td>\n      <td>21.67</td>\n      <td>10</td>\n      <td>3.6</td>\n    </tr>\n    <tr>\n      <th>...</th>\n      <td>...</td>\n      <td>...</td>\n      <td>...</td>\n      <td>...</td>\n      <td>...</td>\n      <td>...</td>\n      <td>...</td>\n      <td>...</td>\n      <td>...</td>\n      <td>...</td>\n    </tr>\n    <tr>\n      <th>12532</th>\n      <td>1983</td>\n      <td>DEC</td>\n      <td>28</td>\n      <td>8</td>\n      <td>27</td>\n      <td>28.7</td>\n      <td>40.87</td>\n      <td>20.93</td>\n      <td>5</td>\n      <td>4.3</td>\n    </tr>\n    <tr>\n      <th>12533</th>\n      <td>1983</td>\n      <td>DEC</td>\n      <td>29</td>\n      <td>4</td>\n      <td>28</td>\n      <td>16.7</td>\n      <td>37.26</td>\n      <td>20.86</td>\n      <td>5</td>\n      <td>3.5</td>\n    </tr>\n    <tr>\n      <th>12534</th>\n      <td>1983</td>\n      <td>DEC</td>\n      <td>29</td>\n      <td>10</td>\n      <td>39</td>\n      <td>52.9</td>\n      <td>37.70</td>\n      <td>20.05</td>\n      <td>5</td>\n      <td>3.9</td>\n    </tr>\n    <tr>\n      <th>12535</th>\n      <td>1983</td>\n      <td>DEC</td>\n      <td>31</td>\n      <td>6</td>\n      <td>36</td>\n      <td>2.2</td>\n      <td>35.34</td>\n      <td>26.40</td>\n      <td>5</td>\n      <td>4.1</td>\n    </tr>\n    <tr>\n      <th>12536</th>\n      <td>1983</td>\n      <td>DEC</td>\n      <td>31</td>\n      <td>14</td>\n      <td>30</td>\n      <td>31.9</td>\n      <td>38.24</td>\n      <td>21.86</td>\n      <td>26</td>\n      <td>3.1</td>\n    </tr>\n  </tbody>\n</table>\n<p>1380 rows × 10 columns</p>\n</div>"
     },
     "metadata": {},
     "execution_count": 6
    }
   ]
  },
  {
   "source": [
    "we can put comparisons directly in"
   ],
   "cell_type": "markdown",
   "metadata": {}
  },
  {
   "cell_type": "code",
   "execution_count": 9,
   "metadata": {},
   "outputs": [
    {
     "output_type": "execute_result",
     "data": {
      "text/plain": [
       "       YEAR MONTH  DAY  HOUR  ...  LATITUDE  LONGITUDE  DEPTH  MAGNITUDE\n",
       "11157  1983   JAN    2     1  ...     38.58      25.40     40        3.2\n",
       "11158  1983   JAN    2     6  ...     37.32      20.56      5        4.3\n",
       "11159  1983   JAN    3     0  ...     34.91      24.53     93        4.8\n",
       "11160  1983   JAN    3    14  ...     36.05      21.75     10        3.7\n",
       "11161  1983   JAN    4     3  ...     36.30      21.67     10        3.6\n",
       "...     ...   ...  ...   ...  ...       ...        ...    ...        ...\n",
       "12532  1983   DEC   28     8  ...     40.87      20.93      5        4.3\n",
       "12533  1983   DEC   29     4  ...     37.26      20.86      5        3.5\n",
       "12534  1983   DEC   29    10  ...     37.70      20.05      5        3.9\n",
       "12535  1983   DEC   31     6  ...     35.34      26.40      5        4.1\n",
       "12536  1983   DEC   31    14  ...     38.24      21.86     26        3.1\n",
       "\n",
       "[1380 rows x 10 columns]"
      ],
      "text/html": "<div>\n<style scoped>\n    .dataframe tbody tr th:only-of-type {\n        vertical-align: middle;\n    }\n\n    .dataframe tbody tr th {\n        vertical-align: top;\n    }\n\n    .dataframe thead th {\n        text-align: right;\n    }\n</style>\n<table border=\"1\" class=\"dataframe\">\n  <thead>\n    <tr style=\"text-align: right;\">\n      <th></th>\n      <th>YEAR</th>\n      <th>MONTH</th>\n      <th>DAY</th>\n      <th>HOUR</th>\n      <th>MINUTE</th>\n      <th>SECOND</th>\n      <th>LATITUDE</th>\n      <th>LONGITUDE</th>\n      <th>DEPTH</th>\n      <th>MAGNITUDE</th>\n    </tr>\n  </thead>\n  <tbody>\n    <tr>\n      <th>11157</th>\n      <td>1983</td>\n      <td>JAN</td>\n      <td>2</td>\n      <td>1</td>\n      <td>18</td>\n      <td>51.5</td>\n      <td>38.58</td>\n      <td>25.40</td>\n      <td>40</td>\n      <td>3.2</td>\n    </tr>\n    <tr>\n      <th>11158</th>\n      <td>1983</td>\n      <td>JAN</td>\n      <td>2</td>\n      <td>6</td>\n      <td>20</td>\n      <td>2.4</td>\n      <td>37.32</td>\n      <td>20.56</td>\n      <td>5</td>\n      <td>4.3</td>\n    </tr>\n    <tr>\n      <th>11159</th>\n      <td>1983</td>\n      <td>JAN</td>\n      <td>3</td>\n      <td>0</td>\n      <td>12</td>\n      <td>32.4</td>\n      <td>34.91</td>\n      <td>24.53</td>\n      <td>93</td>\n      <td>4.8</td>\n    </tr>\n    <tr>\n      <th>11160</th>\n      <td>1983</td>\n      <td>JAN</td>\n      <td>3</td>\n      <td>14</td>\n      <td>20</td>\n      <td>43.7</td>\n      <td>36.05</td>\n      <td>21.75</td>\n      <td>10</td>\n      <td>3.7</td>\n    </tr>\n    <tr>\n      <th>11161</th>\n      <td>1983</td>\n      <td>JAN</td>\n      <td>4</td>\n      <td>3</td>\n      <td>58</td>\n      <td>35.9</td>\n      <td>36.30</td>\n      <td>21.67</td>\n      <td>10</td>\n      <td>3.6</td>\n    </tr>\n    <tr>\n      <th>...</th>\n      <td>...</td>\n      <td>...</td>\n      <td>...</td>\n      <td>...</td>\n      <td>...</td>\n      <td>...</td>\n      <td>...</td>\n      <td>...</td>\n      <td>...</td>\n      <td>...</td>\n    </tr>\n    <tr>\n      <th>12532</th>\n      <td>1983</td>\n      <td>DEC</td>\n      <td>28</td>\n      <td>8</td>\n      <td>27</td>\n      <td>28.7</td>\n      <td>40.87</td>\n      <td>20.93</td>\n      <td>5</td>\n      <td>4.3</td>\n    </tr>\n    <tr>\n      <th>12533</th>\n      <td>1983</td>\n      <td>DEC</td>\n      <td>29</td>\n      <td>4</td>\n      <td>28</td>\n      <td>16.7</td>\n      <td>37.26</td>\n      <td>20.86</td>\n      <td>5</td>\n      <td>3.5</td>\n    </tr>\n    <tr>\n      <th>12534</th>\n      <td>1983</td>\n      <td>DEC</td>\n      <td>29</td>\n      <td>10</td>\n      <td>39</td>\n      <td>52.9</td>\n      <td>37.70</td>\n      <td>20.05</td>\n      <td>5</td>\n      <td>3.9</td>\n    </tr>\n    <tr>\n      <th>12535</th>\n      <td>1983</td>\n      <td>DEC</td>\n      <td>31</td>\n      <td>6</td>\n      <td>36</td>\n      <td>2.2</td>\n      <td>35.34</td>\n      <td>26.40</td>\n      <td>5</td>\n      <td>4.1</td>\n    </tr>\n    <tr>\n      <th>12536</th>\n      <td>1983</td>\n      <td>DEC</td>\n      <td>31</td>\n      <td>14</td>\n      <td>30</td>\n      <td>31.9</td>\n      <td>38.24</td>\n      <td>21.86</td>\n      <td>26</td>\n      <td>3.1</td>\n    </tr>\n  </tbody>\n</table>\n<p>1380 rows × 10 columns</p>\n</div>"
     },
     "metadata": {},
     "execution_count": 9
    }
   ],
   "source": [
    "df[df['YEAR'] == 1983]"
   ]
  },
  {
   "source": [
    "another way, with .loc"
   ],
   "cell_type": "markdown",
   "metadata": {}
  },
  {
   "cell_type": "code",
   "execution_count": 10,
   "metadata": {},
   "outputs": [
    {
     "output_type": "execute_result",
     "data": {
      "text/plain": [
       "       YEAR MONTH  DAY  HOUR  ...  LATITUDE  LONGITUDE  DEPTH  MAGNITUDE\n",
       "11157  1983   JAN    2     1  ...     38.58      25.40     40        3.2\n",
       "11158  1983   JAN    2     6  ...     37.32      20.56      5        4.3\n",
       "11159  1983   JAN    3     0  ...     34.91      24.53     93        4.8\n",
       "11160  1983   JAN    3    14  ...     36.05      21.75     10        3.7\n",
       "11161  1983   JAN    4     3  ...     36.30      21.67     10        3.6\n",
       "...     ...   ...  ...   ...  ...       ...        ...    ...        ...\n",
       "12532  1983   DEC   28     8  ...     40.87      20.93      5        4.3\n",
       "12533  1983   DEC   29     4  ...     37.26      20.86      5        3.5\n",
       "12534  1983   DEC   29    10  ...     37.70      20.05      5        3.9\n",
       "12535  1983   DEC   31     6  ...     35.34      26.40      5        4.1\n",
       "12536  1983   DEC   31    14  ...     38.24      21.86     26        3.1\n",
       "\n",
       "[1380 rows x 10 columns]"
      ],
      "text/html": "<div>\n<style scoped>\n    .dataframe tbody tr th:only-of-type {\n        vertical-align: middle;\n    }\n\n    .dataframe tbody tr th {\n        vertical-align: top;\n    }\n\n    .dataframe thead th {\n        text-align: right;\n    }\n</style>\n<table border=\"1\" class=\"dataframe\">\n  <thead>\n    <tr style=\"text-align: right;\">\n      <th></th>\n      <th>YEAR</th>\n      <th>MONTH</th>\n      <th>DAY</th>\n      <th>HOUR</th>\n      <th>MINUTE</th>\n      <th>SECOND</th>\n      <th>LATITUDE</th>\n      <th>LONGITUDE</th>\n      <th>DEPTH</th>\n      <th>MAGNITUDE</th>\n    </tr>\n  </thead>\n  <tbody>\n    <tr>\n      <th>11157</th>\n      <td>1983</td>\n      <td>JAN</td>\n      <td>2</td>\n      <td>1</td>\n      <td>18</td>\n      <td>51.5</td>\n      <td>38.58</td>\n      <td>25.40</td>\n      <td>40</td>\n      <td>3.2</td>\n    </tr>\n    <tr>\n      <th>11158</th>\n      <td>1983</td>\n      <td>JAN</td>\n      <td>2</td>\n      <td>6</td>\n      <td>20</td>\n      <td>2.4</td>\n      <td>37.32</td>\n      <td>20.56</td>\n      <td>5</td>\n      <td>4.3</td>\n    </tr>\n    <tr>\n      <th>11159</th>\n      <td>1983</td>\n      <td>JAN</td>\n      <td>3</td>\n      <td>0</td>\n      <td>12</td>\n      <td>32.4</td>\n      <td>34.91</td>\n      <td>24.53</td>\n      <td>93</td>\n      <td>4.8</td>\n    </tr>\n    <tr>\n      <th>11160</th>\n      <td>1983</td>\n      <td>JAN</td>\n      <td>3</td>\n      <td>14</td>\n      <td>20</td>\n      <td>43.7</td>\n      <td>36.05</td>\n      <td>21.75</td>\n      <td>10</td>\n      <td>3.7</td>\n    </tr>\n    <tr>\n      <th>11161</th>\n      <td>1983</td>\n      <td>JAN</td>\n      <td>4</td>\n      <td>3</td>\n      <td>58</td>\n      <td>35.9</td>\n      <td>36.30</td>\n      <td>21.67</td>\n      <td>10</td>\n      <td>3.6</td>\n    </tr>\n    <tr>\n      <th>...</th>\n      <td>...</td>\n      <td>...</td>\n      <td>...</td>\n      <td>...</td>\n      <td>...</td>\n      <td>...</td>\n      <td>...</td>\n      <td>...</td>\n      <td>...</td>\n      <td>...</td>\n    </tr>\n    <tr>\n      <th>12532</th>\n      <td>1983</td>\n      <td>DEC</td>\n      <td>28</td>\n      <td>8</td>\n      <td>27</td>\n      <td>28.7</td>\n      <td>40.87</td>\n      <td>20.93</td>\n      <td>5</td>\n      <td>4.3</td>\n    </tr>\n    <tr>\n      <th>12533</th>\n      <td>1983</td>\n      <td>DEC</td>\n      <td>29</td>\n      <td>4</td>\n      <td>28</td>\n      <td>16.7</td>\n      <td>37.26</td>\n      <td>20.86</td>\n      <td>5</td>\n      <td>3.5</td>\n    </tr>\n    <tr>\n      <th>12534</th>\n      <td>1983</td>\n      <td>DEC</td>\n      <td>29</td>\n      <td>10</td>\n      <td>39</td>\n      <td>52.9</td>\n      <td>37.70</td>\n      <td>20.05</td>\n      <td>5</td>\n      <td>3.9</td>\n    </tr>\n    <tr>\n      <th>12535</th>\n      <td>1983</td>\n      <td>DEC</td>\n      <td>31</td>\n      <td>6</td>\n      <td>36</td>\n      <td>2.2</td>\n      <td>35.34</td>\n      <td>26.40</td>\n      <td>5</td>\n      <td>4.1</td>\n    </tr>\n    <tr>\n      <th>12536</th>\n      <td>1983</td>\n      <td>DEC</td>\n      <td>31</td>\n      <td>14</td>\n      <td>30</td>\n      <td>31.9</td>\n      <td>38.24</td>\n      <td>21.86</td>\n      <td>26</td>\n      <td>3.1</td>\n    </tr>\n  </tbody>\n</table>\n<p>1380 rows × 10 columns</p>\n</div>"
     },
     "metadata": {},
     "execution_count": 10
    }
   ],
   "source": [
    "df.loc[filt]"
   ]
  },
  {
   "source": [
    "because we can still grab the columns"
   ],
   "cell_type": "markdown",
   "metadata": {}
  },
  {
   "cell_type": "code",
   "execution_count": 14,
   "metadata": {},
   "outputs": [
    {
     "output_type": "execute_result",
     "data": {
      "text/plain": [
       "       YEAR  MAGNITUDE\n",
       "11157  1983        3.2\n",
       "11158  1983        4.3\n",
       "11159  1983        4.8\n",
       "11160  1983        3.7\n",
       "11161  1983        3.6\n",
       "...     ...        ...\n",
       "12532  1983        4.3\n",
       "12533  1983        3.5\n",
       "12534  1983        3.9\n",
       "12535  1983        4.1\n",
       "12536  1983        3.1\n",
       "\n",
       "[1380 rows x 2 columns]"
      ],
      "text/html": "<div>\n<style scoped>\n    .dataframe tbody tr th:only-of-type {\n        vertical-align: middle;\n    }\n\n    .dataframe tbody tr th {\n        vertical-align: top;\n    }\n\n    .dataframe thead th {\n        text-align: right;\n    }\n</style>\n<table border=\"1\" class=\"dataframe\">\n  <thead>\n    <tr style=\"text-align: right;\">\n      <th></th>\n      <th>YEAR</th>\n      <th>MAGNITUDE</th>\n    </tr>\n  </thead>\n  <tbody>\n    <tr>\n      <th>11157</th>\n      <td>1983</td>\n      <td>3.2</td>\n    </tr>\n    <tr>\n      <th>11158</th>\n      <td>1983</td>\n      <td>4.3</td>\n    </tr>\n    <tr>\n      <th>11159</th>\n      <td>1983</td>\n      <td>4.8</td>\n    </tr>\n    <tr>\n      <th>11160</th>\n      <td>1983</td>\n      <td>3.7</td>\n    </tr>\n    <tr>\n      <th>11161</th>\n      <td>1983</td>\n      <td>3.6</td>\n    </tr>\n    <tr>\n      <th>...</th>\n      <td>...</td>\n      <td>...</td>\n    </tr>\n    <tr>\n      <th>12532</th>\n      <td>1983</td>\n      <td>4.3</td>\n    </tr>\n    <tr>\n      <th>12533</th>\n      <td>1983</td>\n      <td>3.5</td>\n    </tr>\n    <tr>\n      <th>12534</th>\n      <td>1983</td>\n      <td>3.9</td>\n    </tr>\n    <tr>\n      <th>12535</th>\n      <td>1983</td>\n      <td>4.1</td>\n    </tr>\n    <tr>\n      <th>12536</th>\n      <td>1983</td>\n      <td>3.1</td>\n    </tr>\n  </tbody>\n</table>\n<p>1380 rows × 2 columns</p>\n</div>"
     },
     "metadata": {},
     "execution_count": 14
    }
   ],
   "source": [
    "df.loc[(df['YEAR'] == 1983), ['YEAR', 'MAGNITUDE']]"
   ]
  },
  {
   "cell_type": "code",
   "execution_count": 15,
   "metadata": {},
   "outputs": [
    {
     "output_type": "execute_result",
     "data": {
      "text/plain": [
       "       YEAR  MAGNITUDE\n",
       "11157  1983        3.2\n",
       "11158  1983        4.3\n",
       "11159  1983        4.8\n",
       "11160  1983        3.7\n",
       "11161  1983        3.6\n",
       "...     ...        ...\n",
       "12532  1983        4.3\n",
       "12533  1983        3.5\n",
       "12534  1983        3.9\n",
       "12535  1983        4.1\n",
       "12536  1983        3.1\n",
       "\n",
       "[1380 rows x 2 columns]"
      ],
      "text/html": "<div>\n<style scoped>\n    .dataframe tbody tr th:only-of-type {\n        vertical-align: middle;\n    }\n\n    .dataframe tbody tr th {\n        vertical-align: top;\n    }\n\n    .dataframe thead th {\n        text-align: right;\n    }\n</style>\n<table border=\"1\" class=\"dataframe\">\n  <thead>\n    <tr style=\"text-align: right;\">\n      <th></th>\n      <th>YEAR</th>\n      <th>MAGNITUDE</th>\n    </tr>\n  </thead>\n  <tbody>\n    <tr>\n      <th>11157</th>\n      <td>1983</td>\n      <td>3.2</td>\n    </tr>\n    <tr>\n      <th>11158</th>\n      <td>1983</td>\n      <td>4.3</td>\n    </tr>\n    <tr>\n      <th>11159</th>\n      <td>1983</td>\n      <td>4.8</td>\n    </tr>\n    <tr>\n      <th>11160</th>\n      <td>1983</td>\n      <td>3.7</td>\n    </tr>\n    <tr>\n      <th>11161</th>\n      <td>1983</td>\n      <td>3.6</td>\n    </tr>\n    <tr>\n      <th>...</th>\n      <td>...</td>\n      <td>...</td>\n    </tr>\n    <tr>\n      <th>12532</th>\n      <td>1983</td>\n      <td>4.3</td>\n    </tr>\n    <tr>\n      <th>12533</th>\n      <td>1983</td>\n      <td>3.5</td>\n    </tr>\n    <tr>\n      <th>12534</th>\n      <td>1983</td>\n      <td>3.9</td>\n    </tr>\n    <tr>\n      <th>12535</th>\n      <td>1983</td>\n      <td>4.1</td>\n    </tr>\n    <tr>\n      <th>12536</th>\n      <td>1983</td>\n      <td>3.1</td>\n    </tr>\n  </tbody>\n</table>\n<p>1380 rows × 2 columns</p>\n</div>"
     },
     "metadata": {},
     "execution_count": 15
    }
   ],
   "source": [
    "df.loc[filt, ['YEAR', 'MAGNITUDE']]"
   ]
  },
  {
   "cell_type": "code",
   "execution_count": 19,
   "metadata": {},
   "outputs": [],
   "source": [
    "filt = (df['YEAR'] == 1983) & (df['MAGNITUDE'] > 6.0)"
   ]
  },
  {
   "cell_type": "code",
   "execution_count": 20,
   "metadata": {},
   "outputs": [
    {
     "output_type": "execute_result",
     "data": {
      "text/plain": [
       "       YEAR MONTH  DAY  HOUR  ...  LATITUDE  LONGITUDE  DEPTH  MAGNITUDE\n",
       "11187  1983   JAN   17    12  ...     37.97      20.25      9        6.2\n",
       "12112  1983   AUG    6    15  ...     40.08      24.81     22        6.6\n",
       "\n",
       "[2 rows x 10 columns]"
      ],
      "text/html": "<div>\n<style scoped>\n    .dataframe tbody tr th:only-of-type {\n        vertical-align: middle;\n    }\n\n    .dataframe tbody tr th {\n        vertical-align: top;\n    }\n\n    .dataframe thead th {\n        text-align: right;\n    }\n</style>\n<table border=\"1\" class=\"dataframe\">\n  <thead>\n    <tr style=\"text-align: right;\">\n      <th></th>\n      <th>YEAR</th>\n      <th>MONTH</th>\n      <th>DAY</th>\n      <th>HOUR</th>\n      <th>MINUTE</th>\n      <th>SECOND</th>\n      <th>LATITUDE</th>\n      <th>LONGITUDE</th>\n      <th>DEPTH</th>\n      <th>MAGNITUDE</th>\n    </tr>\n  </thead>\n  <tbody>\n    <tr>\n      <th>11187</th>\n      <td>1983</td>\n      <td>JAN</td>\n      <td>17</td>\n      <td>12</td>\n      <td>41</td>\n      <td>30.9</td>\n      <td>37.97</td>\n      <td>20.25</td>\n      <td>9</td>\n      <td>6.2</td>\n    </tr>\n    <tr>\n      <th>12112</th>\n      <td>1983</td>\n      <td>AUG</td>\n      <td>6</td>\n      <td>15</td>\n      <td>43</td>\n      <td>53.3</td>\n      <td>40.08</td>\n      <td>24.81</td>\n      <td>22</td>\n      <td>6.6</td>\n    </tr>\n  </tbody>\n</table>\n</div>"
     },
     "metadata": {},
     "execution_count": 20
    }
   ],
   "source": [
    "df[filt]"
   ]
  },
  {
   "cell_type": "code",
   "execution_count": 21,
   "metadata": {},
   "outputs": [
    {
     "output_type": "execute_result",
     "data": {
      "text/plain": [
       "       YEAR MONTH  DAY  HOUR  ...  LATITUDE  LONGITUDE  DEPTH  MAGNITUDE\n",
       "11187  1983   JAN   17    12  ...     37.97      20.25      9        6.2\n",
       "12112  1983   AUG    6    15  ...     40.08      24.81     22        6.6\n",
       "\n",
       "[2 rows x 10 columns]"
      ],
      "text/html": "<div>\n<style scoped>\n    .dataframe tbody tr th:only-of-type {\n        vertical-align: middle;\n    }\n\n    .dataframe tbody tr th {\n        vertical-align: top;\n    }\n\n    .dataframe thead th {\n        text-align: right;\n    }\n</style>\n<table border=\"1\" class=\"dataframe\">\n  <thead>\n    <tr style=\"text-align: right;\">\n      <th></th>\n      <th>YEAR</th>\n      <th>MONTH</th>\n      <th>DAY</th>\n      <th>HOUR</th>\n      <th>MINUTE</th>\n      <th>SECOND</th>\n      <th>LATITUDE</th>\n      <th>LONGITUDE</th>\n      <th>DEPTH</th>\n      <th>MAGNITUDE</th>\n    </tr>\n  </thead>\n  <tbody>\n    <tr>\n      <th>11187</th>\n      <td>1983</td>\n      <td>JAN</td>\n      <td>17</td>\n      <td>12</td>\n      <td>41</td>\n      <td>30.9</td>\n      <td>37.97</td>\n      <td>20.25</td>\n      <td>9</td>\n      <td>6.2</td>\n    </tr>\n    <tr>\n      <th>12112</th>\n      <td>1983</td>\n      <td>AUG</td>\n      <td>6</td>\n      <td>15</td>\n      <td>43</td>\n      <td>53.3</td>\n      <td>40.08</td>\n      <td>24.81</td>\n      <td>22</td>\n      <td>6.6</td>\n    </tr>\n  </tbody>\n</table>\n</div>"
     },
     "metadata": {},
     "execution_count": 21
    }
   ],
   "source": [
    "df.loc[filt]"
   ]
  },
  {
   "source": [
    "every quake happened in 1983 with magnitude more than 6, now show where they did happen"
   ],
   "cell_type": "markdown",
   "metadata": {}
  },
  {
   "cell_type": "code",
   "execution_count": 22,
   "metadata": {},
   "outputs": [
    {
     "output_type": "execute_result",
     "data": {
      "text/plain": [
       "       LATITUDE  LONGITUDE\n",
       "11187     37.97      20.25\n",
       "12112     40.08      24.81"
      ],
      "text/html": "<div>\n<style scoped>\n    .dataframe tbody tr th:only-of-type {\n        vertical-align: middle;\n    }\n\n    .dataframe tbody tr th {\n        vertical-align: top;\n    }\n\n    .dataframe thead th {\n        text-align: right;\n    }\n</style>\n<table border=\"1\" class=\"dataframe\">\n  <thead>\n    <tr style=\"text-align: right;\">\n      <th></th>\n      <th>LATITUDE</th>\n      <th>LONGITUDE</th>\n    </tr>\n  </thead>\n  <tbody>\n    <tr>\n      <th>11187</th>\n      <td>37.97</td>\n      <td>20.25</td>\n    </tr>\n    <tr>\n      <th>12112</th>\n      <td>40.08</td>\n      <td>24.81</td>\n    </tr>\n  </tbody>\n</table>\n</div>"
     },
     "metadata": {},
     "execution_count": 22
    }
   ],
   "source": [
    "df.loc[filt, ['LATITUDE', 'LONGITUDE']]"
   ]
  },
  {
   "source": [
    "display the years that an earthquake more than 6.0 magnitude occured"
   ],
   "cell_type": "markdown",
   "metadata": {}
  },
  {
   "cell_type": "code",
   "execution_count": 24,
   "metadata": {},
   "outputs": [
    {
     "output_type": "execute_result",
     "data": {
      "text/plain": [
       "13        1964\n",
       "587       1967\n",
       "656       1968\n",
       "1276      1968\n",
       "1434      1969\n",
       "2978      1972\n",
       "7279      1979\n",
       "8566      1981\n",
       "9798      1981\n",
       "10059     1982\n",
       "11187     1983\n",
       "12112     1983\n",
       "23470     1995\n",
       "26896     1996\n",
       "30005     1997\n",
       "41186     2002\n",
       "55505     2006\n",
       "66776     2008\n",
       "67244     2008\n",
       "67271     2008\n",
       "70357     2008\n",
       "71499     2008\n",
       "108086    2011\n",
       "165455    2013\n",
       "183047    2014\n",
       "205228    2015\n",
       "246613    2017\n",
       "248511    2017\n",
       "264559    2018\n",
       "289059    2019\n",
       "303157    2020\n",
       "Name: YEAR, dtype: int64"
      ]
     },
     "metadata": {},
     "execution_count": 24
    }
   ],
   "source": [
    "fltr = (df['MAGNITUDE'] > 6.0)\n",
    "df.loc[fltr, 'YEAR']"
   ]
  },
  {
   "source": [
    "where did they occure?"
   ],
   "cell_type": "markdown",
   "metadata": {}
  },
  {
   "cell_type": "code",
   "execution_count": 25,
   "metadata": {},
   "outputs": [
    {
     "output_type": "execute_result",
     "data": {
      "text/plain": [
       "        YEAR  LATITUDE  LONGITUDE\n",
       "13      1964   39.7500    28.0000\n",
       "587     1967   41.4000    20.5000\n",
       "656     1968   39.5000    24.8000\n",
       "1276    1968   36.6000    27.1000\n",
       "1434    1969   38.6000    28.5000\n",
       "2978    1972   35.3000    23.6000\n",
       "7279    1979   42.0000    19.0000\n",
       "8566    1981   38.1400    23.0000\n",
       "9798    1981   39.2000    25.3000\n",
       "10059   1982   39.9000    24.5000\n",
       "11187   1983   37.9700    20.2500\n",
       "12112   1983   40.0800    24.8100\n",
       "23470   1995   40.1800    21.7100\n",
       "26896   1996   36.1100    27.5200\n",
       "30005   1997   37.2600    20.4900\n",
       "41186   2002   35.5600    26.7300\n",
       "55505   2006   36.2100    23.4100\n",
       "66776   2008   37.1100    22.7800\n",
       "67244   2008   36.5000    21.7800\n",
       "67271   2008   36.2200    21.7500\n",
       "70357   2008   37.9800    21.5100\n",
       "71499   2008   35.8500    27.9200\n",
       "108086  2011   35.6400    26.5600\n",
       "165455  2013   35.5000    23.2800\n",
       "183047  2014   40.2900    25.4000\n",
       "205228  2015   35.2300    26.8200\n",
       "246613  2017   38.8388    26.3623\n",
       "248511  2017   36.9643    27.4332\n",
       "264559  2018   37.3516    20.4922\n",
       "289059  2019   35.6854    23.2599\n",
       "303157  2020   37.9001    26.8167"
      ],
      "text/html": "<div>\n<style scoped>\n    .dataframe tbody tr th:only-of-type {\n        vertical-align: middle;\n    }\n\n    .dataframe tbody tr th {\n        vertical-align: top;\n    }\n\n    .dataframe thead th {\n        text-align: right;\n    }\n</style>\n<table border=\"1\" class=\"dataframe\">\n  <thead>\n    <tr style=\"text-align: right;\">\n      <th></th>\n      <th>YEAR</th>\n      <th>LATITUDE</th>\n      <th>LONGITUDE</th>\n    </tr>\n  </thead>\n  <tbody>\n    <tr>\n      <th>13</th>\n      <td>1964</td>\n      <td>39.7500</td>\n      <td>28.0000</td>\n    </tr>\n    <tr>\n      <th>587</th>\n      <td>1967</td>\n      <td>41.4000</td>\n      <td>20.5000</td>\n    </tr>\n    <tr>\n      <th>656</th>\n      <td>1968</td>\n      <td>39.5000</td>\n      <td>24.8000</td>\n    </tr>\n    <tr>\n      <th>1276</th>\n      <td>1968</td>\n      <td>36.6000</td>\n      <td>27.1000</td>\n    </tr>\n    <tr>\n      <th>1434</th>\n      <td>1969</td>\n      <td>38.6000</td>\n      <td>28.5000</td>\n    </tr>\n    <tr>\n      <th>2978</th>\n      <td>1972</td>\n      <td>35.3000</td>\n      <td>23.6000</td>\n    </tr>\n    <tr>\n      <th>7279</th>\n      <td>1979</td>\n      <td>42.0000</td>\n      <td>19.0000</td>\n    </tr>\n    <tr>\n      <th>8566</th>\n      <td>1981</td>\n      <td>38.1400</td>\n      <td>23.0000</td>\n    </tr>\n    <tr>\n      <th>9798</th>\n      <td>1981</td>\n      <td>39.2000</td>\n      <td>25.3000</td>\n    </tr>\n    <tr>\n      <th>10059</th>\n      <td>1982</td>\n      <td>39.9000</td>\n      <td>24.5000</td>\n    </tr>\n    <tr>\n      <th>11187</th>\n      <td>1983</td>\n      <td>37.9700</td>\n      <td>20.2500</td>\n    </tr>\n    <tr>\n      <th>12112</th>\n      <td>1983</td>\n      <td>40.0800</td>\n      <td>24.8100</td>\n    </tr>\n    <tr>\n      <th>23470</th>\n      <td>1995</td>\n      <td>40.1800</td>\n      <td>21.7100</td>\n    </tr>\n    <tr>\n      <th>26896</th>\n      <td>1996</td>\n      <td>36.1100</td>\n      <td>27.5200</td>\n    </tr>\n    <tr>\n      <th>30005</th>\n      <td>1997</td>\n      <td>37.2600</td>\n      <td>20.4900</td>\n    </tr>\n    <tr>\n      <th>41186</th>\n      <td>2002</td>\n      <td>35.5600</td>\n      <td>26.7300</td>\n    </tr>\n    <tr>\n      <th>55505</th>\n      <td>2006</td>\n      <td>36.2100</td>\n      <td>23.4100</td>\n    </tr>\n    <tr>\n      <th>66776</th>\n      <td>2008</td>\n      <td>37.1100</td>\n      <td>22.7800</td>\n    </tr>\n    <tr>\n      <th>67244</th>\n      <td>2008</td>\n      <td>36.5000</td>\n      <td>21.7800</td>\n    </tr>\n    <tr>\n      <th>67271</th>\n      <td>2008</td>\n      <td>36.2200</td>\n      <td>21.7500</td>\n    </tr>\n    <tr>\n      <th>70357</th>\n      <td>2008</td>\n      <td>37.9800</td>\n      <td>21.5100</td>\n    </tr>\n    <tr>\n      <th>71499</th>\n      <td>2008</td>\n      <td>35.8500</td>\n      <td>27.9200</td>\n    </tr>\n    <tr>\n      <th>108086</th>\n      <td>2011</td>\n      <td>35.6400</td>\n      <td>26.5600</td>\n    </tr>\n    <tr>\n      <th>165455</th>\n      <td>2013</td>\n      <td>35.5000</td>\n      <td>23.2800</td>\n    </tr>\n    <tr>\n      <th>183047</th>\n      <td>2014</td>\n      <td>40.2900</td>\n      <td>25.4000</td>\n    </tr>\n    <tr>\n      <th>205228</th>\n      <td>2015</td>\n      <td>35.2300</td>\n      <td>26.8200</td>\n    </tr>\n    <tr>\n      <th>246613</th>\n      <td>2017</td>\n      <td>38.8388</td>\n      <td>26.3623</td>\n    </tr>\n    <tr>\n      <th>248511</th>\n      <td>2017</td>\n      <td>36.9643</td>\n      <td>27.4332</td>\n    </tr>\n    <tr>\n      <th>264559</th>\n      <td>2018</td>\n      <td>37.3516</td>\n      <td>20.4922</td>\n    </tr>\n    <tr>\n      <th>289059</th>\n      <td>2019</td>\n      <td>35.6854</td>\n      <td>23.2599</td>\n    </tr>\n    <tr>\n      <th>303157</th>\n      <td>2020</td>\n      <td>37.9001</td>\n      <td>26.8167</td>\n    </tr>\n  </tbody>\n</table>\n</div>"
     },
     "metadata": {},
     "execution_count": 25
    }
   ],
   "source": [
    "df.loc[fltr, ['YEAR', 'LATITUDE', 'LONGITUDE']]"
   ]
  },
  {
   "source": [
    "but also after noon, so hour > 12"
   ],
   "cell_type": "markdown",
   "metadata": {}
  },
  {
   "cell_type": "code",
   "execution_count": 28,
   "metadata": {},
   "outputs": [],
   "source": [
    "acceptable_hours = [lambda x: x in range(13,24)]"
   ]
  },
  {
   "cell_type": "code",
   "execution_count": 29,
   "metadata": {},
   "outputs": [
    {
     "output_type": "execute_result",
     "data": {
      "text/plain": [
       "[<function __main__.<lambda>(x)>]"
      ]
     },
     "metadata": {},
     "execution_count": 29
    }
   ],
   "source": [
    "acceptable_hours"
   ]
  },
  {
   "cell_type": "code",
   "execution_count": 30,
   "metadata": {},
   "outputs": [],
   "source": [
    "acceptable_hours = list(range(13,24))"
   ]
  },
  {
   "cell_type": "code",
   "execution_count": 31,
   "metadata": {},
   "outputs": [
    {
     "output_type": "execute_result",
     "data": {
      "text/plain": [
       "[13, 14, 15, 16, 17, 18, 19, 20, 21, 22, 23]"
      ]
     },
     "metadata": {},
     "execution_count": 31
    }
   ],
   "source": [
    "acceptable_hours"
   ]
  },
  {
   "cell_type": "code",
   "execution_count": 32,
   "metadata": {},
   "outputs": [
    {
     "output_type": "execute_result",
     "data": {
      "text/plain": [
       "13        1964\n",
       "587       1967\n",
       "656       1968\n",
       "1276      1968\n",
       "1434      1969\n",
       "2978      1972\n",
       "7279      1979\n",
       "8566      1981\n",
       "9798      1981\n",
       "10059     1982\n",
       "11187     1983\n",
       "12112     1983\n",
       "23470     1995\n",
       "26896     1996\n",
       "30005     1997\n",
       "41186     2002\n",
       "55505     2006\n",
       "66776     2008\n",
       "67244     2008\n",
       "67271     2008\n",
       "70357     2008\n",
       "71499     2008\n",
       "108086    2011\n",
       "165455    2013\n",
       "183047    2014\n",
       "205228    2015\n",
       "246613    2017\n",
       "248511    2017\n",
       "264559    2018\n",
       "289059    2019\n",
       "303157    2020\n",
       "Name: YEAR, dtype: int64"
      ]
     },
     "metadata": {},
     "execution_count": 32
    }
   ],
   "source": [
    "df.loc[fltr, 'YEAR']"
   ]
  },
  {
   "cell_type": "code",
   "execution_count": 36,
   "metadata": {},
   "outputs": [],
   "source": [
    "fltr2 = (df['MAGNITUDE'] > 6.0) & (df['HOUR'].isin(acceptable_hours))"
   ]
  },
  {
   "cell_type": "code",
   "execution_count": 39,
   "metadata": {},
   "outputs": [
    {
     "output_type": "execute_result",
     "data": {
      "text/plain": [
       "13        1964\n",
       "656       1968\n",
       "2978      1972\n",
       "8566      1981\n",
       "9798      1981\n",
       "10059     1982\n",
       "12112     1983\n",
       "30005     1997\n",
       "108086    2011\n",
       "165455    2013\n",
       "205228    2015\n",
       "248511    2017\n",
       "264559    2018\n",
       "Name: YEAR, dtype: int64"
      ]
     },
     "metadata": {},
     "execution_count": 39
    }
   ],
   "source": [
    "df.loc[fltr2, 'YEAR']"
   ]
  },
  {
   "source": [
    "string methods for alterations or conditionals in dataframe"
   ],
   "cell_type": "markdown",
   "metadata": {}
  },
  {
   "source": [
    "lets say we are looking for APR quakes"
   ],
   "cell_type": "markdown",
   "metadata": {}
  },
  {
   "cell_type": "code",
   "execution_count": 40,
   "metadata": {},
   "outputs": [
    {
     "output_type": "execute_result",
     "data": {
      "text/plain": [
       "        YEAR MONTH  DAY  HOUR  ...  LATITUDE  LONGITUDE  DEPTH  MAGNITUDE\n",
       "1       1964   APR   11    16  ...   39.7500    25.2500     10        5.7\n",
       "2       1964   APR   21     8  ...   38.5000    22.2500     10        4.5\n",
       "3       1964   APR   24     3  ...   38.0000    21.8000     10        5.0\n",
       "4       1964   APR   29     4  ...   39.2500    23.7500     10        5.8\n",
       "5       1964   APR   29    17  ...   39.2500    23.7500     10        5.2\n",
       "...      ...   ...  ...   ...  ...       ...        ...    ...        ...\n",
       "313395  2021   APR    9     5  ...   39.7856    21.9081      5        0.6\n",
       "313396  2021   APR    9     5  ...   39.7920    21.9328      5        1.5\n",
       "313397  2021   APR    9     5  ...   39.7160    22.1947      8        1.0\n",
       "313398  2021   APR    9     5  ...   39.7929    21.9154      6        1.0\n",
       "313399  2021   APR    9     5  ...   39.8007    21.8948      7        1.2\n",
       "\n",
       "[26833 rows x 10 columns]"
      ],
      "text/html": "<div>\n<style scoped>\n    .dataframe tbody tr th:only-of-type {\n        vertical-align: middle;\n    }\n\n    .dataframe tbody tr th {\n        vertical-align: top;\n    }\n\n    .dataframe thead th {\n        text-align: right;\n    }\n</style>\n<table border=\"1\" class=\"dataframe\">\n  <thead>\n    <tr style=\"text-align: right;\">\n      <th></th>\n      <th>YEAR</th>\n      <th>MONTH</th>\n      <th>DAY</th>\n      <th>HOUR</th>\n      <th>MINUTE</th>\n      <th>SECOND</th>\n      <th>LATITUDE</th>\n      <th>LONGITUDE</th>\n      <th>DEPTH</th>\n      <th>MAGNITUDE</th>\n    </tr>\n  </thead>\n  <tbody>\n    <tr>\n      <th>1</th>\n      <td>1964</td>\n      <td>APR</td>\n      <td>11</td>\n      <td>16</td>\n      <td>0</td>\n      <td>0.0</td>\n      <td>39.7500</td>\n      <td>25.2500</td>\n      <td>10</td>\n      <td>5.7</td>\n    </tr>\n    <tr>\n      <th>2</th>\n      <td>1964</td>\n      <td>APR</td>\n      <td>21</td>\n      <td>8</td>\n      <td>14</td>\n      <td>40.0</td>\n      <td>38.5000</td>\n      <td>22.2500</td>\n      <td>10</td>\n      <td>4.5</td>\n    </tr>\n    <tr>\n      <th>3</th>\n      <td>1964</td>\n      <td>APR</td>\n      <td>24</td>\n      <td>3</td>\n      <td>49</td>\n      <td>58.0</td>\n      <td>38.0000</td>\n      <td>21.8000</td>\n      <td>10</td>\n      <td>5.0</td>\n    </tr>\n    <tr>\n      <th>4</th>\n      <td>1964</td>\n      <td>APR</td>\n      <td>29</td>\n      <td>4</td>\n      <td>21</td>\n      <td>0.0</td>\n      <td>39.2500</td>\n      <td>23.7500</td>\n      <td>10</td>\n      <td>5.8</td>\n    </tr>\n    <tr>\n      <th>5</th>\n      <td>1964</td>\n      <td>APR</td>\n      <td>29</td>\n      <td>17</td>\n      <td>0</td>\n      <td>3.0</td>\n      <td>39.2500</td>\n      <td>23.7500</td>\n      <td>10</td>\n      <td>5.2</td>\n    </tr>\n    <tr>\n      <th>...</th>\n      <td>...</td>\n      <td>...</td>\n      <td>...</td>\n      <td>...</td>\n      <td>...</td>\n      <td>...</td>\n      <td>...</td>\n      <td>...</td>\n      <td>...</td>\n      <td>...</td>\n    </tr>\n    <tr>\n      <th>313395</th>\n      <td>2021</td>\n      <td>APR</td>\n      <td>9</td>\n      <td>5</td>\n      <td>0</td>\n      <td>7.4</td>\n      <td>39.7856</td>\n      <td>21.9081</td>\n      <td>5</td>\n      <td>0.6</td>\n    </tr>\n    <tr>\n      <th>313396</th>\n      <td>2021</td>\n      <td>APR</td>\n      <td>9</td>\n      <td>5</td>\n      <td>0</td>\n      <td>21.9</td>\n      <td>39.7920</td>\n      <td>21.9328</td>\n      <td>5</td>\n      <td>1.5</td>\n    </tr>\n    <tr>\n      <th>313397</th>\n      <td>2021</td>\n      <td>APR</td>\n      <td>9</td>\n      <td>5</td>\n      <td>1</td>\n      <td>6.5</td>\n      <td>39.7160</td>\n      <td>22.1947</td>\n      <td>8</td>\n      <td>1.0</td>\n    </tr>\n    <tr>\n      <th>313398</th>\n      <td>2021</td>\n      <td>APR</td>\n      <td>9</td>\n      <td>5</td>\n      <td>2</td>\n      <td>5.6</td>\n      <td>39.7929</td>\n      <td>21.9154</td>\n      <td>6</td>\n      <td>1.0</td>\n    </tr>\n    <tr>\n      <th>313399</th>\n      <td>2021</td>\n      <td>APR</td>\n      <td>9</td>\n      <td>5</td>\n      <td>15</td>\n      <td>5.0</td>\n      <td>39.8007</td>\n      <td>21.8948</td>\n      <td>7</td>\n      <td>1.2</td>\n    </tr>\n  </tbody>\n</table>\n<p>26833 rows × 10 columns</p>\n</div>"
     },
     "metadata": {},
     "execution_count": 40
    }
   ],
   "source": [
    "df[df['MONTH'] == 'APR']"
   ]
  },
  {
   "cell_type": "code",
   "execution_count": 44,
   "metadata": {},
   "outputs": [
    {
     "output_type": "execute_result",
     "data": {
      "text/plain": [
       "        YEAR MONTH  DAY  HOUR  ...  LATITUDE  LONGITUDE  DEPTH  MAGNITUDE\n",
       "1       1964   APR   11    16  ...   39.7500    25.2500     10        5.7\n",
       "2       1964   APR   21     8  ...   38.5000    22.2500     10        4.5\n",
       "3       1964   APR   24     3  ...   38.0000    21.8000     10        5.0\n",
       "4       1964   APR   29     4  ...   39.2500    23.7500     10        5.8\n",
       "5       1964   APR   29    17  ...   39.2500    23.7500     10        5.2\n",
       "...      ...   ...  ...   ...  ...       ...        ...    ...        ...\n",
       "313395  2021   APR    9     5  ...   39.7856    21.9081      5        0.6\n",
       "313396  2021   APR    9     5  ...   39.7920    21.9328      5        1.5\n",
       "313397  2021   APR    9     5  ...   39.7160    22.1947      8        1.0\n",
       "313398  2021   APR    9     5  ...   39.7929    21.9154      6        1.0\n",
       "313399  2021   APR    9     5  ...   39.8007    21.8948      7        1.2\n",
       "\n",
       "[26833 rows x 10 columns]"
      ],
      "text/html": "<div>\n<style scoped>\n    .dataframe tbody tr th:only-of-type {\n        vertical-align: middle;\n    }\n\n    .dataframe tbody tr th {\n        vertical-align: top;\n    }\n\n    .dataframe thead th {\n        text-align: right;\n    }\n</style>\n<table border=\"1\" class=\"dataframe\">\n  <thead>\n    <tr style=\"text-align: right;\">\n      <th></th>\n      <th>YEAR</th>\n      <th>MONTH</th>\n      <th>DAY</th>\n      <th>HOUR</th>\n      <th>MINUTE</th>\n      <th>SECOND</th>\n      <th>LATITUDE</th>\n      <th>LONGITUDE</th>\n      <th>DEPTH</th>\n      <th>MAGNITUDE</th>\n    </tr>\n  </thead>\n  <tbody>\n    <tr>\n      <th>1</th>\n      <td>1964</td>\n      <td>APR</td>\n      <td>11</td>\n      <td>16</td>\n      <td>0</td>\n      <td>0.0</td>\n      <td>39.7500</td>\n      <td>25.2500</td>\n      <td>10</td>\n      <td>5.7</td>\n    </tr>\n    <tr>\n      <th>2</th>\n      <td>1964</td>\n      <td>APR</td>\n      <td>21</td>\n      <td>8</td>\n      <td>14</td>\n      <td>40.0</td>\n      <td>38.5000</td>\n      <td>22.2500</td>\n      <td>10</td>\n      <td>4.5</td>\n    </tr>\n    <tr>\n      <th>3</th>\n      <td>1964</td>\n      <td>APR</td>\n      <td>24</td>\n      <td>3</td>\n      <td>49</td>\n      <td>58.0</td>\n      <td>38.0000</td>\n      <td>21.8000</td>\n      <td>10</td>\n      <td>5.0</td>\n    </tr>\n    <tr>\n      <th>4</th>\n      <td>1964</td>\n      <td>APR</td>\n      <td>29</td>\n      <td>4</td>\n      <td>21</td>\n      <td>0.0</td>\n      <td>39.2500</td>\n      <td>23.7500</td>\n      <td>10</td>\n      <td>5.8</td>\n    </tr>\n    <tr>\n      <th>5</th>\n      <td>1964</td>\n      <td>APR</td>\n      <td>29</td>\n      <td>17</td>\n      <td>0</td>\n      <td>3.0</td>\n      <td>39.2500</td>\n      <td>23.7500</td>\n      <td>10</td>\n      <td>5.2</td>\n    </tr>\n    <tr>\n      <th>...</th>\n      <td>...</td>\n      <td>...</td>\n      <td>...</td>\n      <td>...</td>\n      <td>...</td>\n      <td>...</td>\n      <td>...</td>\n      <td>...</td>\n      <td>...</td>\n      <td>...</td>\n    </tr>\n    <tr>\n      <th>313395</th>\n      <td>2021</td>\n      <td>APR</td>\n      <td>9</td>\n      <td>5</td>\n      <td>0</td>\n      <td>7.4</td>\n      <td>39.7856</td>\n      <td>21.9081</td>\n      <td>5</td>\n      <td>0.6</td>\n    </tr>\n    <tr>\n      <th>313396</th>\n      <td>2021</td>\n      <td>APR</td>\n      <td>9</td>\n      <td>5</td>\n      <td>0</td>\n      <td>21.9</td>\n      <td>39.7920</td>\n      <td>21.9328</td>\n      <td>5</td>\n      <td>1.5</td>\n    </tr>\n    <tr>\n      <th>313397</th>\n      <td>2021</td>\n      <td>APR</td>\n      <td>9</td>\n      <td>5</td>\n      <td>1</td>\n      <td>6.5</td>\n      <td>39.7160</td>\n      <td>22.1947</td>\n      <td>8</td>\n      <td>1.0</td>\n    </tr>\n    <tr>\n      <th>313398</th>\n      <td>2021</td>\n      <td>APR</td>\n      <td>9</td>\n      <td>5</td>\n      <td>2</td>\n      <td>5.6</td>\n      <td>39.7929</td>\n      <td>21.9154</td>\n      <td>6</td>\n      <td>1.0</td>\n    </tr>\n    <tr>\n      <th>313399</th>\n      <td>2021</td>\n      <td>APR</td>\n      <td>9</td>\n      <td>5</td>\n      <td>15</td>\n      <td>5.0</td>\n      <td>39.8007</td>\n      <td>21.8948</td>\n      <td>7</td>\n      <td>1.2</td>\n    </tr>\n  </tbody>\n</table>\n<p>26833 rows × 10 columns</p>\n</div>"
     },
     "metadata": {},
     "execution_count": 44
    }
   ],
   "source": [
    "df[df['MONTH'].str.contains('APR', na=False)]"
   ]
  },
  {
   "source": [
    "again, remember about masking"
   ],
   "cell_type": "markdown",
   "metadata": {}
  },
  {
   "cell_type": "code",
   "execution_count": 45,
   "metadata": {},
   "outputs": [
    {
     "output_type": "execute_result",
     "data": {
      "text/plain": [
       "0         False\n",
       "1         False\n",
       "2         False\n",
       "3         False\n",
       "4         False\n",
       "          ...  \n",
       "313395    False\n",
       "313396    False\n",
       "313397    False\n",
       "313398    False\n",
       "313399    False\n",
       "Name: MAGNITUDE, Length: 313400, dtype: bool"
      ]
     },
     "metadata": {},
     "execution_count": 45
    }
   ],
   "source": [
    "fltr"
   ]
  },
  {
   "cell_type": "code",
   "execution_count": 46,
   "metadata": {},
   "outputs": [
    {
     "output_type": "execute_result",
     "data": {
      "text/plain": [
       "0         False\n",
       "1          True\n",
       "2          True\n",
       "3          True\n",
       "4          True\n",
       "          ...  \n",
       "313395     True\n",
       "313396     True\n",
       "313397     True\n",
       "313398     True\n",
       "313399     True\n",
       "Name: MONTH, Length: 313400, dtype: bool"
      ]
     },
     "metadata": {},
     "execution_count": 46
    }
   ],
   "source": [
    "df['MONTH'].str.contains('APR')"
   ]
  },
  {
   "cell_type": "code",
   "execution_count": null,
   "metadata": {},
   "outputs": [],
   "source": []
  }
 ]
}