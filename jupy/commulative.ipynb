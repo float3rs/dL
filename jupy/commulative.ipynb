{
 "metadata": {
  "language_info": {
   "codemirror_mode": {
    "name": "ipython",
    "version": 3
   },
   "file_extension": ".py",
   "mimetype": "text/x-python",
   "name": "python",
   "nbconvert_exporter": "python",
   "pygments_lexer": "ipython3",
   "version": "3.8.5-final"
  },
  "orig_nbformat": 2,
  "kernelspec": {
   "name": "python385jvsc74a57bd0dca0ade3e726a953b501b15e8e990130d2b7799f14cfd9f4271676035ebe5511",
   "display_name": "Python 3.8.5 64-bit ('base': conda)"
  }
 },
 "nbformat": 4,
 "nbformat_minor": 2,
 "cells": [
  {
   "cell_type": "code",
   "execution_count": 27,
   "metadata": {},
   "outputs": [],
   "source": [
    "import pandas\n",
    "import datetime"
   ]
  },
  {
   "cell_type": "code",
   "execution_count": 2,
   "metadata": {},
   "outputs": [],
   "source": [
    "df = pandas.read_csv('quakesT.csv')"
   ]
  },
  {
   "cell_type": "code",
   "execution_count": 3,
   "metadata": {},
   "outputs": [
    {
     "output_type": "execute_result",
     "data": {
      "text/plain": [
       "        YEAR MONTH  DAY  HOUR  MINUTE  SECOND  LATITUDE  LONGITUDE  DEPTH  \\\n",
       "0       1964   FEB   24    23      30    25.0   38.9000    23.9000     10   \n",
       "1       1964   APR   11    16       0     0.0   39.7500    25.2500     10   \n",
       "2       1964   APR   21     8      14    40.0   38.5000    22.2500     10   \n",
       "3       1964   APR   24     3      49    58.0   38.0000    21.8000     10   \n",
       "4       1964   APR   29     4      21     0.0   39.2500    23.7500     10   \n",
       "...      ...   ...  ...   ...     ...     ...       ...        ...    ...   \n",
       "313395  2021   APR    9     5       0     7.4   39.7856    21.9081      5   \n",
       "313396  2021   APR    9     5       0    21.9   39.7920    21.9328      5   \n",
       "313397  2021   APR    9     5       1     6.5   39.7160    22.1947      8   \n",
       "313398  2021   APR    9     5       2     5.6   39.7929    21.9154      6   \n",
       "313399  2021   APR    9     5      15     5.0   39.8007    21.8948      7   \n",
       "\n",
       "        MAGNITUDE                       T  \n",
       "0             5.3  1964-02-24T23:30:25.0Z  \n",
       "1             5.7  1964-04-11T16:00:00.0Z  \n",
       "2             4.5  1964-04-21T08:14:40.0Z  \n",
       "3             5.0  1964-04-24T03:49:58.0Z  \n",
       "4             5.8  1964-04-29T04:21:00.0Z  \n",
       "...           ...                     ...  \n",
       "313395        0.6  2021-04-09T05:00:07.4Z  \n",
       "313396        1.5  2021-04-09T05:00:21.9Z  \n",
       "313397        1.0  2021-04-09T05:01:06.5Z  \n",
       "313398        1.0  2021-04-09T05:02:05.6Z  \n",
       "313399        1.2  2021-04-09T05:15:05.0Z  \n",
       "\n",
       "[313400 rows x 11 columns]"
      ],
      "text/html": "<div>\n<style scoped>\n    .dataframe tbody tr th:only-of-type {\n        vertical-align: middle;\n    }\n\n    .dataframe tbody tr th {\n        vertical-align: top;\n    }\n\n    .dataframe thead th {\n        text-align: right;\n    }\n</style>\n<table border=\"1\" class=\"dataframe\">\n  <thead>\n    <tr style=\"text-align: right;\">\n      <th></th>\n      <th>YEAR</th>\n      <th>MONTH</th>\n      <th>DAY</th>\n      <th>HOUR</th>\n      <th>MINUTE</th>\n      <th>SECOND</th>\n      <th>LATITUDE</th>\n      <th>LONGITUDE</th>\n      <th>DEPTH</th>\n      <th>MAGNITUDE</th>\n      <th>T</th>\n    </tr>\n  </thead>\n  <tbody>\n    <tr>\n      <th>0</th>\n      <td>1964</td>\n      <td>FEB</td>\n      <td>24</td>\n      <td>23</td>\n      <td>30</td>\n      <td>25.0</td>\n      <td>38.9000</td>\n      <td>23.9000</td>\n      <td>10</td>\n      <td>5.3</td>\n      <td>1964-02-24T23:30:25.0Z</td>\n    </tr>\n    <tr>\n      <th>1</th>\n      <td>1964</td>\n      <td>APR</td>\n      <td>11</td>\n      <td>16</td>\n      <td>0</td>\n      <td>0.0</td>\n      <td>39.7500</td>\n      <td>25.2500</td>\n      <td>10</td>\n      <td>5.7</td>\n      <td>1964-04-11T16:00:00.0Z</td>\n    </tr>\n    <tr>\n      <th>2</th>\n      <td>1964</td>\n      <td>APR</td>\n      <td>21</td>\n      <td>8</td>\n      <td>14</td>\n      <td>40.0</td>\n      <td>38.5000</td>\n      <td>22.2500</td>\n      <td>10</td>\n      <td>4.5</td>\n      <td>1964-04-21T08:14:40.0Z</td>\n    </tr>\n    <tr>\n      <th>3</th>\n      <td>1964</td>\n      <td>APR</td>\n      <td>24</td>\n      <td>3</td>\n      <td>49</td>\n      <td>58.0</td>\n      <td>38.0000</td>\n      <td>21.8000</td>\n      <td>10</td>\n      <td>5.0</td>\n      <td>1964-04-24T03:49:58.0Z</td>\n    </tr>\n    <tr>\n      <th>4</th>\n      <td>1964</td>\n      <td>APR</td>\n      <td>29</td>\n      <td>4</td>\n      <td>21</td>\n      <td>0.0</td>\n      <td>39.2500</td>\n      <td>23.7500</td>\n      <td>10</td>\n      <td>5.8</td>\n      <td>1964-04-29T04:21:00.0Z</td>\n    </tr>\n    <tr>\n      <th>...</th>\n      <td>...</td>\n      <td>...</td>\n      <td>...</td>\n      <td>...</td>\n      <td>...</td>\n      <td>...</td>\n      <td>...</td>\n      <td>...</td>\n      <td>...</td>\n      <td>...</td>\n      <td>...</td>\n    </tr>\n    <tr>\n      <th>313395</th>\n      <td>2021</td>\n      <td>APR</td>\n      <td>9</td>\n      <td>5</td>\n      <td>0</td>\n      <td>7.4</td>\n      <td>39.7856</td>\n      <td>21.9081</td>\n      <td>5</td>\n      <td>0.6</td>\n      <td>2021-04-09T05:00:07.4Z</td>\n    </tr>\n    <tr>\n      <th>313396</th>\n      <td>2021</td>\n      <td>APR</td>\n      <td>9</td>\n      <td>5</td>\n      <td>0</td>\n      <td>21.9</td>\n      <td>39.7920</td>\n      <td>21.9328</td>\n      <td>5</td>\n      <td>1.5</td>\n      <td>2021-04-09T05:00:21.9Z</td>\n    </tr>\n    <tr>\n      <th>313397</th>\n      <td>2021</td>\n      <td>APR</td>\n      <td>9</td>\n      <td>5</td>\n      <td>1</td>\n      <td>6.5</td>\n      <td>39.7160</td>\n      <td>22.1947</td>\n      <td>8</td>\n      <td>1.0</td>\n      <td>2021-04-09T05:01:06.5Z</td>\n    </tr>\n    <tr>\n      <th>313398</th>\n      <td>2021</td>\n      <td>APR</td>\n      <td>9</td>\n      <td>5</td>\n      <td>2</td>\n      <td>5.6</td>\n      <td>39.7929</td>\n      <td>21.9154</td>\n      <td>6</td>\n      <td>1.0</td>\n      <td>2021-04-09T05:02:05.6Z</td>\n    </tr>\n    <tr>\n      <th>313399</th>\n      <td>2021</td>\n      <td>APR</td>\n      <td>9</td>\n      <td>5</td>\n      <td>15</td>\n      <td>5.0</td>\n      <td>39.8007</td>\n      <td>21.8948</td>\n      <td>7</td>\n      <td>1.2</td>\n      <td>2021-04-09T05:15:05.0Z</td>\n    </tr>\n  </tbody>\n</table>\n<p>313400 rows × 11 columns</p>\n</div>"
     },
     "metadata": {},
     "execution_count": 3
    }
   ],
   "source": [
    "df"
   ]
  },
  {
   "cell_type": "code",
   "execution_count": 4,
   "metadata": {},
   "outputs": [
    {
     "output_type": "execute_result",
     "data": {
      "text/plain": [
       "YEAR           int64\n",
       "MONTH         object\n",
       "DAY            int64\n",
       "HOUR           int64\n",
       "MINUTE         int64\n",
       "SECOND       float64\n",
       "LATITUDE     float64\n",
       "LONGITUDE    float64\n",
       "DEPTH          int64\n",
       "MAGNITUDE    float64\n",
       "T             object\n",
       "dtype: object"
      ]
     },
     "metadata": {},
     "execution_count": 4
    }
   ],
   "source": [
    "df.dtypes"
   ]
  },
  {
   "cell_type": "code",
   "execution_count": 5,
   "metadata": {},
   "outputs": [
    {
     "output_type": "execute_result",
     "data": {
      "text/plain": [
       "(313400, 11)"
      ]
     },
     "metadata": {},
     "execution_count": 5
    }
   ],
   "source": [
    "df.shape"
   ]
  },
  {
   "cell_type": "code",
   "execution_count": 6,
   "metadata": {},
   "outputs": [],
   "source": [
    "fltr = (df['YEAR'] < 2000) | (df['YEAR'] > 2009)"
   ]
  },
  {
   "cell_type": "code",
   "execution_count": 7,
   "metadata": {},
   "outputs": [],
   "source": [
    "df.drop(df[fltr].index, inplace=True)"
   ]
  },
  {
   "cell_type": "code",
   "execution_count": 8,
   "metadata": {},
   "outputs": [
    {
     "output_type": "execute_result",
     "data": {
      "text/plain": [
       "       YEAR MONTH  DAY  HOUR  MINUTE  SECOND  LATITUDE  LONGITUDE  DEPTH  \\\n",
       "36096  2000   JAN    1     1      19    28.3     41.95      20.63      5   \n",
       "36097  2000   JAN    1     4       2    28.4     35.54      22.76     22   \n",
       "36098  2000   JAN    1     5      13    59.1     38.97      26.10     35   \n",
       "36099  2000   JAN    1     5      17    12.9     38.89      25.85     22   \n",
       "36100  2000   JAN    1     5      56     7.3     39.21      27.30     10   \n",
       "...     ...   ...  ...   ...     ...     ...       ...        ...    ...   \n",
       "88348  2009   DEC   31    14      24     1.2     37.47      21.83     21   \n",
       "88349  2009   DEC   31    14      50    29.6     34.67      24.42     15   \n",
       "88350  2009   DEC   31    17      27    45.8     35.68      23.47      5   \n",
       "88351  2009   DEC   31    20      43    12.9     36.37      21.61     11   \n",
       "88352  2009   DEC   31    20      58    40.8     39.70      20.76     18   \n",
       "\n",
       "       MAGNITUDE                       T  \n",
       "36096        4.8  2000-01-01T01:19:28.3Z  \n",
       "36097        3.7  2000-01-01T04:02:28.4Z  \n",
       "36098        3.3  2000-01-01T05:13:59.1Z  \n",
       "36099        3.3  2000-01-01T05:17:12.9Z  \n",
       "36100        3.6  2000-01-01T05:56:07.3Z  \n",
       "...          ...                     ...  \n",
       "88348        2.8  2009-12-31T14:24:01.2Z  \n",
       "88349        3.4  2009-12-31T14:50:29.6Z  \n",
       "88350        2.9  2009-12-31T17:27:45.8Z  \n",
       "88351        3.2  2009-12-31T20:43:12.9Z  \n",
       "88352        2.8  2009-12-31T20:58:40.8Z  \n",
       "\n",
       "[52257 rows x 11 columns]"
      ],
      "text/html": "<div>\n<style scoped>\n    .dataframe tbody tr th:only-of-type {\n        vertical-align: middle;\n    }\n\n    .dataframe tbody tr th {\n        vertical-align: top;\n    }\n\n    .dataframe thead th {\n        text-align: right;\n    }\n</style>\n<table border=\"1\" class=\"dataframe\">\n  <thead>\n    <tr style=\"text-align: right;\">\n      <th></th>\n      <th>YEAR</th>\n      <th>MONTH</th>\n      <th>DAY</th>\n      <th>HOUR</th>\n      <th>MINUTE</th>\n      <th>SECOND</th>\n      <th>LATITUDE</th>\n      <th>LONGITUDE</th>\n      <th>DEPTH</th>\n      <th>MAGNITUDE</th>\n      <th>T</th>\n    </tr>\n  </thead>\n  <tbody>\n    <tr>\n      <th>36096</th>\n      <td>2000</td>\n      <td>JAN</td>\n      <td>1</td>\n      <td>1</td>\n      <td>19</td>\n      <td>28.3</td>\n      <td>41.95</td>\n      <td>20.63</td>\n      <td>5</td>\n      <td>4.8</td>\n      <td>2000-01-01T01:19:28.3Z</td>\n    </tr>\n    <tr>\n      <th>36097</th>\n      <td>2000</td>\n      <td>JAN</td>\n      <td>1</td>\n      <td>4</td>\n      <td>2</td>\n      <td>28.4</td>\n      <td>35.54</td>\n      <td>22.76</td>\n      <td>22</td>\n      <td>3.7</td>\n      <td>2000-01-01T04:02:28.4Z</td>\n    </tr>\n    <tr>\n      <th>36098</th>\n      <td>2000</td>\n      <td>JAN</td>\n      <td>1</td>\n      <td>5</td>\n      <td>13</td>\n      <td>59.1</td>\n      <td>38.97</td>\n      <td>26.10</td>\n      <td>35</td>\n      <td>3.3</td>\n      <td>2000-01-01T05:13:59.1Z</td>\n    </tr>\n    <tr>\n      <th>36099</th>\n      <td>2000</td>\n      <td>JAN</td>\n      <td>1</td>\n      <td>5</td>\n      <td>17</td>\n      <td>12.9</td>\n      <td>38.89</td>\n      <td>25.85</td>\n      <td>22</td>\n      <td>3.3</td>\n      <td>2000-01-01T05:17:12.9Z</td>\n    </tr>\n    <tr>\n      <th>36100</th>\n      <td>2000</td>\n      <td>JAN</td>\n      <td>1</td>\n      <td>5</td>\n      <td>56</td>\n      <td>7.3</td>\n      <td>39.21</td>\n      <td>27.30</td>\n      <td>10</td>\n      <td>3.6</td>\n      <td>2000-01-01T05:56:07.3Z</td>\n    </tr>\n    <tr>\n      <th>...</th>\n      <td>...</td>\n      <td>...</td>\n      <td>...</td>\n      <td>...</td>\n      <td>...</td>\n      <td>...</td>\n      <td>...</td>\n      <td>...</td>\n      <td>...</td>\n      <td>...</td>\n      <td>...</td>\n    </tr>\n    <tr>\n      <th>88348</th>\n      <td>2009</td>\n      <td>DEC</td>\n      <td>31</td>\n      <td>14</td>\n      <td>24</td>\n      <td>1.2</td>\n      <td>37.47</td>\n      <td>21.83</td>\n      <td>21</td>\n      <td>2.8</td>\n      <td>2009-12-31T14:24:01.2Z</td>\n    </tr>\n    <tr>\n      <th>88349</th>\n      <td>2009</td>\n      <td>DEC</td>\n      <td>31</td>\n      <td>14</td>\n      <td>50</td>\n      <td>29.6</td>\n      <td>34.67</td>\n      <td>24.42</td>\n      <td>15</td>\n      <td>3.4</td>\n      <td>2009-12-31T14:50:29.6Z</td>\n    </tr>\n    <tr>\n      <th>88350</th>\n      <td>2009</td>\n      <td>DEC</td>\n      <td>31</td>\n      <td>17</td>\n      <td>27</td>\n      <td>45.8</td>\n      <td>35.68</td>\n      <td>23.47</td>\n      <td>5</td>\n      <td>2.9</td>\n      <td>2009-12-31T17:27:45.8Z</td>\n    </tr>\n    <tr>\n      <th>88351</th>\n      <td>2009</td>\n      <td>DEC</td>\n      <td>31</td>\n      <td>20</td>\n      <td>43</td>\n      <td>12.9</td>\n      <td>36.37</td>\n      <td>21.61</td>\n      <td>11</td>\n      <td>3.2</td>\n      <td>2009-12-31T20:43:12.9Z</td>\n    </tr>\n    <tr>\n      <th>88352</th>\n      <td>2009</td>\n      <td>DEC</td>\n      <td>31</td>\n      <td>20</td>\n      <td>58</td>\n      <td>40.8</td>\n      <td>39.70</td>\n      <td>20.76</td>\n      <td>18</td>\n      <td>2.8</td>\n      <td>2009-12-31T20:58:40.8Z</td>\n    </tr>\n  </tbody>\n</table>\n<p>52257 rows × 11 columns</p>\n</div>"
     },
     "metadata": {},
     "execution_count": 8
    }
   ],
   "source": [
    "df"
   ]
  },
  {
   "cell_type": "code",
   "execution_count": 9,
   "metadata": {},
   "outputs": [],
   "source": [
    "df.reset_index(inplace=True)"
   ]
  },
  {
   "cell_type": "code",
   "execution_count": 12,
   "metadata": {},
   "outputs": [],
   "source": [
    "df.drop(columns='index', inplace=True)"
   ]
  },
  {
   "cell_type": "code",
   "execution_count": 13,
   "metadata": {},
   "outputs": [
    {
     "output_type": "execute_result",
     "data": {
      "text/plain": [
       "       YEAR MONTH  DAY  HOUR  MINUTE  SECOND  LATITUDE  LONGITUDE  DEPTH  \\\n",
       "0      2000   JAN    1     1      19    28.3     41.95      20.63      5   \n",
       "1      2000   JAN    1     4       2    28.4     35.54      22.76     22   \n",
       "2      2000   JAN    1     5      13    59.1     38.97      26.10     35   \n",
       "3      2000   JAN    1     5      17    12.9     38.89      25.85     22   \n",
       "4      2000   JAN    1     5      56     7.3     39.21      27.30     10   \n",
       "...     ...   ...  ...   ...     ...     ...       ...        ...    ...   \n",
       "52252  2009   DEC   31    14      24     1.2     37.47      21.83     21   \n",
       "52253  2009   DEC   31    14      50    29.6     34.67      24.42     15   \n",
       "52254  2009   DEC   31    17      27    45.8     35.68      23.47      5   \n",
       "52255  2009   DEC   31    20      43    12.9     36.37      21.61     11   \n",
       "52256  2009   DEC   31    20      58    40.8     39.70      20.76     18   \n",
       "\n",
       "       MAGNITUDE                       T  \n",
       "0            4.8  2000-01-01T01:19:28.3Z  \n",
       "1            3.7  2000-01-01T04:02:28.4Z  \n",
       "2            3.3  2000-01-01T05:13:59.1Z  \n",
       "3            3.3  2000-01-01T05:17:12.9Z  \n",
       "4            3.6  2000-01-01T05:56:07.3Z  \n",
       "...          ...                     ...  \n",
       "52252        2.8  2009-12-31T14:24:01.2Z  \n",
       "52253        3.4  2009-12-31T14:50:29.6Z  \n",
       "52254        2.9  2009-12-31T17:27:45.8Z  \n",
       "52255        3.2  2009-12-31T20:43:12.9Z  \n",
       "52256        2.8  2009-12-31T20:58:40.8Z  \n",
       "\n",
       "[52257 rows x 11 columns]"
      ],
      "text/html": "<div>\n<style scoped>\n    .dataframe tbody tr th:only-of-type {\n        vertical-align: middle;\n    }\n\n    .dataframe tbody tr th {\n        vertical-align: top;\n    }\n\n    .dataframe thead th {\n        text-align: right;\n    }\n</style>\n<table border=\"1\" class=\"dataframe\">\n  <thead>\n    <tr style=\"text-align: right;\">\n      <th></th>\n      <th>YEAR</th>\n      <th>MONTH</th>\n      <th>DAY</th>\n      <th>HOUR</th>\n      <th>MINUTE</th>\n      <th>SECOND</th>\n      <th>LATITUDE</th>\n      <th>LONGITUDE</th>\n      <th>DEPTH</th>\n      <th>MAGNITUDE</th>\n      <th>T</th>\n    </tr>\n  </thead>\n  <tbody>\n    <tr>\n      <th>0</th>\n      <td>2000</td>\n      <td>JAN</td>\n      <td>1</td>\n      <td>1</td>\n      <td>19</td>\n      <td>28.3</td>\n      <td>41.95</td>\n      <td>20.63</td>\n      <td>5</td>\n      <td>4.8</td>\n      <td>2000-01-01T01:19:28.3Z</td>\n    </tr>\n    <tr>\n      <th>1</th>\n      <td>2000</td>\n      <td>JAN</td>\n      <td>1</td>\n      <td>4</td>\n      <td>2</td>\n      <td>28.4</td>\n      <td>35.54</td>\n      <td>22.76</td>\n      <td>22</td>\n      <td>3.7</td>\n      <td>2000-01-01T04:02:28.4Z</td>\n    </tr>\n    <tr>\n      <th>2</th>\n      <td>2000</td>\n      <td>JAN</td>\n      <td>1</td>\n      <td>5</td>\n      <td>13</td>\n      <td>59.1</td>\n      <td>38.97</td>\n      <td>26.10</td>\n      <td>35</td>\n      <td>3.3</td>\n      <td>2000-01-01T05:13:59.1Z</td>\n    </tr>\n    <tr>\n      <th>3</th>\n      <td>2000</td>\n      <td>JAN</td>\n      <td>1</td>\n      <td>5</td>\n      <td>17</td>\n      <td>12.9</td>\n      <td>38.89</td>\n      <td>25.85</td>\n      <td>22</td>\n      <td>3.3</td>\n      <td>2000-01-01T05:17:12.9Z</td>\n    </tr>\n    <tr>\n      <th>4</th>\n      <td>2000</td>\n      <td>JAN</td>\n      <td>1</td>\n      <td>5</td>\n      <td>56</td>\n      <td>7.3</td>\n      <td>39.21</td>\n      <td>27.30</td>\n      <td>10</td>\n      <td>3.6</td>\n      <td>2000-01-01T05:56:07.3Z</td>\n    </tr>\n    <tr>\n      <th>...</th>\n      <td>...</td>\n      <td>...</td>\n      <td>...</td>\n      <td>...</td>\n      <td>...</td>\n      <td>...</td>\n      <td>...</td>\n      <td>...</td>\n      <td>...</td>\n      <td>...</td>\n      <td>...</td>\n    </tr>\n    <tr>\n      <th>52252</th>\n      <td>2009</td>\n      <td>DEC</td>\n      <td>31</td>\n      <td>14</td>\n      <td>24</td>\n      <td>1.2</td>\n      <td>37.47</td>\n      <td>21.83</td>\n      <td>21</td>\n      <td>2.8</td>\n      <td>2009-12-31T14:24:01.2Z</td>\n    </tr>\n    <tr>\n      <th>52253</th>\n      <td>2009</td>\n      <td>DEC</td>\n      <td>31</td>\n      <td>14</td>\n      <td>50</td>\n      <td>29.6</td>\n      <td>34.67</td>\n      <td>24.42</td>\n      <td>15</td>\n      <td>3.4</td>\n      <td>2009-12-31T14:50:29.6Z</td>\n    </tr>\n    <tr>\n      <th>52254</th>\n      <td>2009</td>\n      <td>DEC</td>\n      <td>31</td>\n      <td>17</td>\n      <td>27</td>\n      <td>45.8</td>\n      <td>35.68</td>\n      <td>23.47</td>\n      <td>5</td>\n      <td>2.9</td>\n      <td>2009-12-31T17:27:45.8Z</td>\n    </tr>\n    <tr>\n      <th>52255</th>\n      <td>2009</td>\n      <td>DEC</td>\n      <td>31</td>\n      <td>20</td>\n      <td>43</td>\n      <td>12.9</td>\n      <td>36.37</td>\n      <td>21.61</td>\n      <td>11</td>\n      <td>3.2</td>\n      <td>2009-12-31T20:43:12.9Z</td>\n    </tr>\n    <tr>\n      <th>52256</th>\n      <td>2009</td>\n      <td>DEC</td>\n      <td>31</td>\n      <td>20</td>\n      <td>58</td>\n      <td>40.8</td>\n      <td>39.70</td>\n      <td>20.76</td>\n      <td>18</td>\n      <td>2.8</td>\n      <td>2009-12-31T20:58:40.8Z</td>\n    </tr>\n  </tbody>\n</table>\n<p>52257 rows × 11 columns</p>\n</div>"
     },
     "metadata": {},
     "execution_count": 13
    }
   ],
   "source": [
    "df"
   ]
  },
  {
   "source": [
    "currently we are reading it as a string"
   ],
   "cell_type": "markdown",
   "metadata": {}
  },
  {
   "cell_type": "code",
   "execution_count": 14,
   "metadata": {},
   "outputs": [],
   "source": [
    "df['DATETIME'] = pandas.to_datetime(df['T'])"
   ]
  },
  {
   "cell_type": "code",
   "execution_count": 16,
   "metadata": {},
   "outputs": [
    {
     "output_type": "execute_result",
     "data": {
      "text/plain": [
       "0       2000-01-01 01:19:28.300000+00:00\n",
       "1       2000-01-01 04:02:28.400000+00:00\n",
       "2       2000-01-01 05:13:59.100000+00:00\n",
       "3       2000-01-01 05:17:12.900000+00:00\n",
       "4       2000-01-01 05:56:07.300000+00:00\n",
       "                      ...               \n",
       "52252   2009-12-31 14:24:01.200000+00:00\n",
       "52253   2009-12-31 14:50:29.600000+00:00\n",
       "52254   2009-12-31 17:27:45.800000+00:00\n",
       "52255   2009-12-31 20:43:12.900000+00:00\n",
       "52256   2009-12-31 20:58:40.800000+00:00\n",
       "Name: DATETIME, Length: 52257, dtype: datetime64[ns, UTC]"
      ]
     },
     "metadata": {},
     "execution_count": 16
    }
   ],
   "source": [
    "df['DATETIME']"
   ]
  },
  {
   "cell_type": "code",
   "execution_count": 18,
   "metadata": {},
   "outputs": [
    {
     "output_type": "execute_result",
     "data": {
      "text/plain": [
       "'Saturday'"
      ]
     },
     "metadata": {},
     "execution_count": 18
    }
   ],
   "source": [
    "df.loc[0, 'DATETIME'].day_name()"
   ]
  },
  {
   "cell_type": "code",
   "execution_count": 19,
   "metadata": {},
   "outputs": [],
   "source": [
    "df_full = pandas.read_csv('quakesT.csv', parse_dates=['T'])"
   ]
  },
  {
   "cell_type": "code",
   "execution_count": 20,
   "metadata": {},
   "outputs": [
    {
     "output_type": "execute_result",
     "data": {
      "text/plain": [
       "        YEAR MONTH  DAY  HOUR  MINUTE  SECOND  LATITUDE  LONGITUDE  DEPTH  \\\n",
       "0       1964   FEB   24    23      30    25.0   38.9000    23.9000     10   \n",
       "1       1964   APR   11    16       0     0.0   39.7500    25.2500     10   \n",
       "2       1964   APR   21     8      14    40.0   38.5000    22.2500     10   \n",
       "3       1964   APR   24     3      49    58.0   38.0000    21.8000     10   \n",
       "4       1964   APR   29     4      21     0.0   39.2500    23.7500     10   \n",
       "...      ...   ...  ...   ...     ...     ...       ...        ...    ...   \n",
       "313395  2021   APR    9     5       0     7.4   39.7856    21.9081      5   \n",
       "313396  2021   APR    9     5       0    21.9   39.7920    21.9328      5   \n",
       "313397  2021   APR    9     5       1     6.5   39.7160    22.1947      8   \n",
       "313398  2021   APR    9     5       2     5.6   39.7929    21.9154      6   \n",
       "313399  2021   APR    9     5      15     5.0   39.8007    21.8948      7   \n",
       "\n",
       "        MAGNITUDE                                T  \n",
       "0             5.3        1964-02-24 23:30:25+00:00  \n",
       "1             5.7        1964-04-11 16:00:00+00:00  \n",
       "2             4.5        1964-04-21 08:14:40+00:00  \n",
       "3             5.0        1964-04-24 03:49:58+00:00  \n",
       "4             5.8        1964-04-29 04:21:00+00:00  \n",
       "...           ...                              ...  \n",
       "313395        0.6 2021-04-09 05:00:07.400000+00:00  \n",
       "313396        1.5 2021-04-09 05:00:21.900000+00:00  \n",
       "313397        1.0 2021-04-09 05:01:06.500000+00:00  \n",
       "313398        1.0 2021-04-09 05:02:05.600000+00:00  \n",
       "313399        1.2        2021-04-09 05:15:05+00:00  \n",
       "\n",
       "[313400 rows x 11 columns]"
      ],
      "text/html": "<div>\n<style scoped>\n    .dataframe tbody tr th:only-of-type {\n        vertical-align: middle;\n    }\n\n    .dataframe tbody tr th {\n        vertical-align: top;\n    }\n\n    .dataframe thead th {\n        text-align: right;\n    }\n</style>\n<table border=\"1\" class=\"dataframe\">\n  <thead>\n    <tr style=\"text-align: right;\">\n      <th></th>\n      <th>YEAR</th>\n      <th>MONTH</th>\n      <th>DAY</th>\n      <th>HOUR</th>\n      <th>MINUTE</th>\n      <th>SECOND</th>\n      <th>LATITUDE</th>\n      <th>LONGITUDE</th>\n      <th>DEPTH</th>\n      <th>MAGNITUDE</th>\n      <th>T</th>\n    </tr>\n  </thead>\n  <tbody>\n    <tr>\n      <th>0</th>\n      <td>1964</td>\n      <td>FEB</td>\n      <td>24</td>\n      <td>23</td>\n      <td>30</td>\n      <td>25.0</td>\n      <td>38.9000</td>\n      <td>23.9000</td>\n      <td>10</td>\n      <td>5.3</td>\n      <td>1964-02-24 23:30:25+00:00</td>\n    </tr>\n    <tr>\n      <th>1</th>\n      <td>1964</td>\n      <td>APR</td>\n      <td>11</td>\n      <td>16</td>\n      <td>0</td>\n      <td>0.0</td>\n      <td>39.7500</td>\n      <td>25.2500</td>\n      <td>10</td>\n      <td>5.7</td>\n      <td>1964-04-11 16:00:00+00:00</td>\n    </tr>\n    <tr>\n      <th>2</th>\n      <td>1964</td>\n      <td>APR</td>\n      <td>21</td>\n      <td>8</td>\n      <td>14</td>\n      <td>40.0</td>\n      <td>38.5000</td>\n      <td>22.2500</td>\n      <td>10</td>\n      <td>4.5</td>\n      <td>1964-04-21 08:14:40+00:00</td>\n    </tr>\n    <tr>\n      <th>3</th>\n      <td>1964</td>\n      <td>APR</td>\n      <td>24</td>\n      <td>3</td>\n      <td>49</td>\n      <td>58.0</td>\n      <td>38.0000</td>\n      <td>21.8000</td>\n      <td>10</td>\n      <td>5.0</td>\n      <td>1964-04-24 03:49:58+00:00</td>\n    </tr>\n    <tr>\n      <th>4</th>\n      <td>1964</td>\n      <td>APR</td>\n      <td>29</td>\n      <td>4</td>\n      <td>21</td>\n      <td>0.0</td>\n      <td>39.2500</td>\n      <td>23.7500</td>\n      <td>10</td>\n      <td>5.8</td>\n      <td>1964-04-29 04:21:00+00:00</td>\n    </tr>\n    <tr>\n      <th>...</th>\n      <td>...</td>\n      <td>...</td>\n      <td>...</td>\n      <td>...</td>\n      <td>...</td>\n      <td>...</td>\n      <td>...</td>\n      <td>...</td>\n      <td>...</td>\n      <td>...</td>\n      <td>...</td>\n    </tr>\n    <tr>\n      <th>313395</th>\n      <td>2021</td>\n      <td>APR</td>\n      <td>9</td>\n      <td>5</td>\n      <td>0</td>\n      <td>7.4</td>\n      <td>39.7856</td>\n      <td>21.9081</td>\n      <td>5</td>\n      <td>0.6</td>\n      <td>2021-04-09 05:00:07.400000+00:00</td>\n    </tr>\n    <tr>\n      <th>313396</th>\n      <td>2021</td>\n      <td>APR</td>\n      <td>9</td>\n      <td>5</td>\n      <td>0</td>\n      <td>21.9</td>\n      <td>39.7920</td>\n      <td>21.9328</td>\n      <td>5</td>\n      <td>1.5</td>\n      <td>2021-04-09 05:00:21.900000+00:00</td>\n    </tr>\n    <tr>\n      <th>313397</th>\n      <td>2021</td>\n      <td>APR</td>\n      <td>9</td>\n      <td>5</td>\n      <td>1</td>\n      <td>6.5</td>\n      <td>39.7160</td>\n      <td>22.1947</td>\n      <td>8</td>\n      <td>1.0</td>\n      <td>2021-04-09 05:01:06.500000+00:00</td>\n    </tr>\n    <tr>\n      <th>313398</th>\n      <td>2021</td>\n      <td>APR</td>\n      <td>9</td>\n      <td>5</td>\n      <td>2</td>\n      <td>5.6</td>\n      <td>39.7929</td>\n      <td>21.9154</td>\n      <td>6</td>\n      <td>1.0</td>\n      <td>2021-04-09 05:02:05.600000+00:00</td>\n    </tr>\n    <tr>\n      <th>313399</th>\n      <td>2021</td>\n      <td>APR</td>\n      <td>9</td>\n      <td>5</td>\n      <td>15</td>\n      <td>5.0</td>\n      <td>39.8007</td>\n      <td>21.8948</td>\n      <td>7</td>\n      <td>1.2</td>\n      <td>2021-04-09 05:15:05+00:00</td>\n    </tr>\n  </tbody>\n</table>\n<p>313400 rows × 11 columns</p>\n</div>"
     },
     "metadata": {},
     "execution_count": 20
    }
   ],
   "source": [
    "df_full"
   ]
  },
  {
   "cell_type": "code",
   "execution_count": 22,
   "metadata": {},
   "outputs": [
    {
     "output_type": "execute_result",
     "data": {
      "text/plain": [
       "       YEAR MONTH  DAY  HOUR  MINUTE  SECOND  LATITUDE  LONGITUDE  DEPTH  \\\n",
       "0      2000   JAN    1     1      19    28.3     41.95      20.63      5   \n",
       "1      2000   JAN    1     4       2    28.4     35.54      22.76     22   \n",
       "2      2000   JAN    1     5      13    59.1     38.97      26.10     35   \n",
       "3      2000   JAN    1     5      17    12.9     38.89      25.85     22   \n",
       "4      2000   JAN    1     5      56     7.3     39.21      27.30     10   \n",
       "...     ...   ...  ...   ...     ...     ...       ...        ...    ...   \n",
       "52252  2009   DEC   31    14      24     1.2     37.47      21.83     21   \n",
       "52253  2009   DEC   31    14      50    29.6     34.67      24.42     15   \n",
       "52254  2009   DEC   31    17      27    45.8     35.68      23.47      5   \n",
       "52255  2009   DEC   31    20      43    12.9     36.37      21.61     11   \n",
       "52256  2009   DEC   31    20      58    40.8     39.70      20.76     18   \n",
       "\n",
       "       MAGNITUDE                       T                         DATETIME  \n",
       "0            4.8  2000-01-01T01:19:28.3Z 2000-01-01 01:19:28.300000+00:00  \n",
       "1            3.7  2000-01-01T04:02:28.4Z 2000-01-01 04:02:28.400000+00:00  \n",
       "2            3.3  2000-01-01T05:13:59.1Z 2000-01-01 05:13:59.100000+00:00  \n",
       "3            3.3  2000-01-01T05:17:12.9Z 2000-01-01 05:17:12.900000+00:00  \n",
       "4            3.6  2000-01-01T05:56:07.3Z 2000-01-01 05:56:07.300000+00:00  \n",
       "...          ...                     ...                              ...  \n",
       "52252        2.8  2009-12-31T14:24:01.2Z 2009-12-31 14:24:01.200000+00:00  \n",
       "52253        3.4  2009-12-31T14:50:29.6Z 2009-12-31 14:50:29.600000+00:00  \n",
       "52254        2.9  2009-12-31T17:27:45.8Z 2009-12-31 17:27:45.800000+00:00  \n",
       "52255        3.2  2009-12-31T20:43:12.9Z 2009-12-31 20:43:12.900000+00:00  \n",
       "52256        2.8  2009-12-31T20:58:40.8Z 2009-12-31 20:58:40.800000+00:00  \n",
       "\n",
       "[52257 rows x 12 columns]"
      ],
      "text/html": "<div>\n<style scoped>\n    .dataframe tbody tr th:only-of-type {\n        vertical-align: middle;\n    }\n\n    .dataframe tbody tr th {\n        vertical-align: top;\n    }\n\n    .dataframe thead th {\n        text-align: right;\n    }\n</style>\n<table border=\"1\" class=\"dataframe\">\n  <thead>\n    <tr style=\"text-align: right;\">\n      <th></th>\n      <th>YEAR</th>\n      <th>MONTH</th>\n      <th>DAY</th>\n      <th>HOUR</th>\n      <th>MINUTE</th>\n      <th>SECOND</th>\n      <th>LATITUDE</th>\n      <th>LONGITUDE</th>\n      <th>DEPTH</th>\n      <th>MAGNITUDE</th>\n      <th>T</th>\n      <th>DATETIME</th>\n    </tr>\n  </thead>\n  <tbody>\n    <tr>\n      <th>0</th>\n      <td>2000</td>\n      <td>JAN</td>\n      <td>1</td>\n      <td>1</td>\n      <td>19</td>\n      <td>28.3</td>\n      <td>41.95</td>\n      <td>20.63</td>\n      <td>5</td>\n      <td>4.8</td>\n      <td>2000-01-01T01:19:28.3Z</td>\n      <td>2000-01-01 01:19:28.300000+00:00</td>\n    </tr>\n    <tr>\n      <th>1</th>\n      <td>2000</td>\n      <td>JAN</td>\n      <td>1</td>\n      <td>4</td>\n      <td>2</td>\n      <td>28.4</td>\n      <td>35.54</td>\n      <td>22.76</td>\n      <td>22</td>\n      <td>3.7</td>\n      <td>2000-01-01T04:02:28.4Z</td>\n      <td>2000-01-01 04:02:28.400000+00:00</td>\n    </tr>\n    <tr>\n      <th>2</th>\n      <td>2000</td>\n      <td>JAN</td>\n      <td>1</td>\n      <td>5</td>\n      <td>13</td>\n      <td>59.1</td>\n      <td>38.97</td>\n      <td>26.10</td>\n      <td>35</td>\n      <td>3.3</td>\n      <td>2000-01-01T05:13:59.1Z</td>\n      <td>2000-01-01 05:13:59.100000+00:00</td>\n    </tr>\n    <tr>\n      <th>3</th>\n      <td>2000</td>\n      <td>JAN</td>\n      <td>1</td>\n      <td>5</td>\n      <td>17</td>\n      <td>12.9</td>\n      <td>38.89</td>\n      <td>25.85</td>\n      <td>22</td>\n      <td>3.3</td>\n      <td>2000-01-01T05:17:12.9Z</td>\n      <td>2000-01-01 05:17:12.900000+00:00</td>\n    </tr>\n    <tr>\n      <th>4</th>\n      <td>2000</td>\n      <td>JAN</td>\n      <td>1</td>\n      <td>5</td>\n      <td>56</td>\n      <td>7.3</td>\n      <td>39.21</td>\n      <td>27.30</td>\n      <td>10</td>\n      <td>3.6</td>\n      <td>2000-01-01T05:56:07.3Z</td>\n      <td>2000-01-01 05:56:07.300000+00:00</td>\n    </tr>\n    <tr>\n      <th>...</th>\n      <td>...</td>\n      <td>...</td>\n      <td>...</td>\n      <td>...</td>\n      <td>...</td>\n      <td>...</td>\n      <td>...</td>\n      <td>...</td>\n      <td>...</td>\n      <td>...</td>\n      <td>...</td>\n      <td>...</td>\n    </tr>\n    <tr>\n      <th>52252</th>\n      <td>2009</td>\n      <td>DEC</td>\n      <td>31</td>\n      <td>14</td>\n      <td>24</td>\n      <td>1.2</td>\n      <td>37.47</td>\n      <td>21.83</td>\n      <td>21</td>\n      <td>2.8</td>\n      <td>2009-12-31T14:24:01.2Z</td>\n      <td>2009-12-31 14:24:01.200000+00:00</td>\n    </tr>\n    <tr>\n      <th>52253</th>\n      <td>2009</td>\n      <td>DEC</td>\n      <td>31</td>\n      <td>14</td>\n      <td>50</td>\n      <td>29.6</td>\n      <td>34.67</td>\n      <td>24.42</td>\n      <td>15</td>\n      <td>3.4</td>\n      <td>2009-12-31T14:50:29.6Z</td>\n      <td>2009-12-31 14:50:29.600000+00:00</td>\n    </tr>\n    <tr>\n      <th>52254</th>\n      <td>2009</td>\n      <td>DEC</td>\n      <td>31</td>\n      <td>17</td>\n      <td>27</td>\n      <td>45.8</td>\n      <td>35.68</td>\n      <td>23.47</td>\n      <td>5</td>\n      <td>2.9</td>\n      <td>2009-12-31T17:27:45.8Z</td>\n      <td>2009-12-31 17:27:45.800000+00:00</td>\n    </tr>\n    <tr>\n      <th>52255</th>\n      <td>2009</td>\n      <td>DEC</td>\n      <td>31</td>\n      <td>20</td>\n      <td>43</td>\n      <td>12.9</td>\n      <td>36.37</td>\n      <td>21.61</td>\n      <td>11</td>\n      <td>3.2</td>\n      <td>2009-12-31T20:43:12.9Z</td>\n      <td>2009-12-31 20:43:12.900000+00:00</td>\n    </tr>\n    <tr>\n      <th>52256</th>\n      <td>2009</td>\n      <td>DEC</td>\n      <td>31</td>\n      <td>20</td>\n      <td>58</td>\n      <td>40.8</td>\n      <td>39.70</td>\n      <td>20.76</td>\n      <td>18</td>\n      <td>2.8</td>\n      <td>2009-12-31T20:58:40.8Z</td>\n      <td>2009-12-31 20:58:40.800000+00:00</td>\n    </tr>\n  </tbody>\n</table>\n<p>52257 rows × 12 columns</p>\n</div>"
     },
     "metadata": {},
     "execution_count": 22
    }
   ],
   "source": [
    "df"
   ]
  },
  {
   "cell_type": "code",
   "execution_count": 32,
   "metadata": {},
   "outputs": [
    {
     "output_type": "execute_result",
     "data": {
      "text/plain": [
       "0        Saturday\n",
       "1        Saturday\n",
       "2        Saturday\n",
       "3        Saturday\n",
       "4        Saturday\n",
       "           ...   \n",
       "52252    Thursday\n",
       "52253    Thursday\n",
       "52254    Thursday\n",
       "52255    Thursday\n",
       "52256    Thursday\n",
       "Name: DATETIME, Length: 52257, dtype: object"
      ]
     },
     "metadata": {},
     "execution_count": 32
    }
   ],
   "source": [
    "df['DATETIME'].dt.day_name()"
   ]
  },
  {
   "cell_type": "code",
   "execution_count": 33,
   "metadata": {},
   "outputs": [],
   "source": [
    "df['DAY_NAME'] = df['DATETIME'].dt.day_name() "
   ]
  },
  {
   "cell_type": "code",
   "execution_count": 34,
   "metadata": {},
   "outputs": [
    {
     "output_type": "execute_result",
     "data": {
      "text/plain": [
       "       YEAR MONTH  DAY  HOUR  MINUTE  SECOND  LATITUDE  LONGITUDE  DEPTH  \\\n",
       "0      2000   JAN    1     1      19    28.3     41.95      20.63      5   \n",
       "1      2000   JAN    1     4       2    28.4     35.54      22.76     22   \n",
       "2      2000   JAN    1     5      13    59.1     38.97      26.10     35   \n",
       "3      2000   JAN    1     5      17    12.9     38.89      25.85     22   \n",
       "4      2000   JAN    1     5      56     7.3     39.21      27.30     10   \n",
       "...     ...   ...  ...   ...     ...     ...       ...        ...    ...   \n",
       "52252  2009   DEC   31    14      24     1.2     37.47      21.83     21   \n",
       "52253  2009   DEC   31    14      50    29.6     34.67      24.42     15   \n",
       "52254  2009   DEC   31    17      27    45.8     35.68      23.47      5   \n",
       "52255  2009   DEC   31    20      43    12.9     36.37      21.61     11   \n",
       "52256  2009   DEC   31    20      58    40.8     39.70      20.76     18   \n",
       "\n",
       "       MAGNITUDE                       T                         DATETIME  \\\n",
       "0            4.8  2000-01-01T01:19:28.3Z 2000-01-01 01:19:28.300000+00:00   \n",
       "1            3.7  2000-01-01T04:02:28.4Z 2000-01-01 04:02:28.400000+00:00   \n",
       "2            3.3  2000-01-01T05:13:59.1Z 2000-01-01 05:13:59.100000+00:00   \n",
       "3            3.3  2000-01-01T05:17:12.9Z 2000-01-01 05:17:12.900000+00:00   \n",
       "4            3.6  2000-01-01T05:56:07.3Z 2000-01-01 05:56:07.300000+00:00   \n",
       "...          ...                     ...                              ...   \n",
       "52252        2.8  2009-12-31T14:24:01.2Z 2009-12-31 14:24:01.200000+00:00   \n",
       "52253        3.4  2009-12-31T14:50:29.6Z 2009-12-31 14:50:29.600000+00:00   \n",
       "52254        2.9  2009-12-31T17:27:45.8Z 2009-12-31 17:27:45.800000+00:00   \n",
       "52255        3.2  2009-12-31T20:43:12.9Z 2009-12-31 20:43:12.900000+00:00   \n",
       "52256        2.8  2009-12-31T20:58:40.8Z 2009-12-31 20:58:40.800000+00:00   \n",
       "\n",
       "       DAY_NAME  \n",
       "0      Saturday  \n",
       "1      Saturday  \n",
       "2      Saturday  \n",
       "3      Saturday  \n",
       "4      Saturday  \n",
       "...         ...  \n",
       "52252  Thursday  \n",
       "52253  Thursday  \n",
       "52254  Thursday  \n",
       "52255  Thursday  \n",
       "52256  Thursday  \n",
       "\n",
       "[52257 rows x 13 columns]"
      ],
      "text/html": "<div>\n<style scoped>\n    .dataframe tbody tr th:only-of-type {\n        vertical-align: middle;\n    }\n\n    .dataframe tbody tr th {\n        vertical-align: top;\n    }\n\n    .dataframe thead th {\n        text-align: right;\n    }\n</style>\n<table border=\"1\" class=\"dataframe\">\n  <thead>\n    <tr style=\"text-align: right;\">\n      <th></th>\n      <th>YEAR</th>\n      <th>MONTH</th>\n      <th>DAY</th>\n      <th>HOUR</th>\n      <th>MINUTE</th>\n      <th>SECOND</th>\n      <th>LATITUDE</th>\n      <th>LONGITUDE</th>\n      <th>DEPTH</th>\n      <th>MAGNITUDE</th>\n      <th>T</th>\n      <th>DATETIME</th>\n      <th>DAY_NAME</th>\n    </tr>\n  </thead>\n  <tbody>\n    <tr>\n      <th>0</th>\n      <td>2000</td>\n      <td>JAN</td>\n      <td>1</td>\n      <td>1</td>\n      <td>19</td>\n      <td>28.3</td>\n      <td>41.95</td>\n      <td>20.63</td>\n      <td>5</td>\n      <td>4.8</td>\n      <td>2000-01-01T01:19:28.3Z</td>\n      <td>2000-01-01 01:19:28.300000+00:00</td>\n      <td>Saturday</td>\n    </tr>\n    <tr>\n      <th>1</th>\n      <td>2000</td>\n      <td>JAN</td>\n      <td>1</td>\n      <td>4</td>\n      <td>2</td>\n      <td>28.4</td>\n      <td>35.54</td>\n      <td>22.76</td>\n      <td>22</td>\n      <td>3.7</td>\n      <td>2000-01-01T04:02:28.4Z</td>\n      <td>2000-01-01 04:02:28.400000+00:00</td>\n      <td>Saturday</td>\n    </tr>\n    <tr>\n      <th>2</th>\n      <td>2000</td>\n      <td>JAN</td>\n      <td>1</td>\n      <td>5</td>\n      <td>13</td>\n      <td>59.1</td>\n      <td>38.97</td>\n      <td>26.10</td>\n      <td>35</td>\n      <td>3.3</td>\n      <td>2000-01-01T05:13:59.1Z</td>\n      <td>2000-01-01 05:13:59.100000+00:00</td>\n      <td>Saturday</td>\n    </tr>\n    <tr>\n      <th>3</th>\n      <td>2000</td>\n      <td>JAN</td>\n      <td>1</td>\n      <td>5</td>\n      <td>17</td>\n      <td>12.9</td>\n      <td>38.89</td>\n      <td>25.85</td>\n      <td>22</td>\n      <td>3.3</td>\n      <td>2000-01-01T05:17:12.9Z</td>\n      <td>2000-01-01 05:17:12.900000+00:00</td>\n      <td>Saturday</td>\n    </tr>\n    <tr>\n      <th>4</th>\n      <td>2000</td>\n      <td>JAN</td>\n      <td>1</td>\n      <td>5</td>\n      <td>56</td>\n      <td>7.3</td>\n      <td>39.21</td>\n      <td>27.30</td>\n      <td>10</td>\n      <td>3.6</td>\n      <td>2000-01-01T05:56:07.3Z</td>\n      <td>2000-01-01 05:56:07.300000+00:00</td>\n      <td>Saturday</td>\n    </tr>\n    <tr>\n      <th>...</th>\n      <td>...</td>\n      <td>...</td>\n      <td>...</td>\n      <td>...</td>\n      <td>...</td>\n      <td>...</td>\n      <td>...</td>\n      <td>...</td>\n      <td>...</td>\n      <td>...</td>\n      <td>...</td>\n      <td>...</td>\n      <td>...</td>\n    </tr>\n    <tr>\n      <th>52252</th>\n      <td>2009</td>\n      <td>DEC</td>\n      <td>31</td>\n      <td>14</td>\n      <td>24</td>\n      <td>1.2</td>\n      <td>37.47</td>\n      <td>21.83</td>\n      <td>21</td>\n      <td>2.8</td>\n      <td>2009-12-31T14:24:01.2Z</td>\n      <td>2009-12-31 14:24:01.200000+00:00</td>\n      <td>Thursday</td>\n    </tr>\n    <tr>\n      <th>52253</th>\n      <td>2009</td>\n      <td>DEC</td>\n      <td>31</td>\n      <td>14</td>\n      <td>50</td>\n      <td>29.6</td>\n      <td>34.67</td>\n      <td>24.42</td>\n      <td>15</td>\n      <td>3.4</td>\n      <td>2009-12-31T14:50:29.6Z</td>\n      <td>2009-12-31 14:50:29.600000+00:00</td>\n      <td>Thursday</td>\n    </tr>\n    <tr>\n      <th>52254</th>\n      <td>2009</td>\n      <td>DEC</td>\n      <td>31</td>\n      <td>17</td>\n      <td>27</td>\n      <td>45.8</td>\n      <td>35.68</td>\n      <td>23.47</td>\n      <td>5</td>\n      <td>2.9</td>\n      <td>2009-12-31T17:27:45.8Z</td>\n      <td>2009-12-31 17:27:45.800000+00:00</td>\n      <td>Thursday</td>\n    </tr>\n    <tr>\n      <th>52255</th>\n      <td>2009</td>\n      <td>DEC</td>\n      <td>31</td>\n      <td>20</td>\n      <td>43</td>\n      <td>12.9</td>\n      <td>36.37</td>\n      <td>21.61</td>\n      <td>11</td>\n      <td>3.2</td>\n      <td>2009-12-31T20:43:12.9Z</td>\n      <td>2009-12-31 20:43:12.900000+00:00</td>\n      <td>Thursday</td>\n    </tr>\n    <tr>\n      <th>52256</th>\n      <td>2009</td>\n      <td>DEC</td>\n      <td>31</td>\n      <td>20</td>\n      <td>58</td>\n      <td>40.8</td>\n      <td>39.70</td>\n      <td>20.76</td>\n      <td>18</td>\n      <td>2.8</td>\n      <td>2009-12-31T20:58:40.8Z</td>\n      <td>2009-12-31 20:58:40.800000+00:00</td>\n      <td>Thursday</td>\n    </tr>\n  </tbody>\n</table>\n<p>52257 rows × 13 columns</p>\n</div>"
     },
     "metadata": {},
     "execution_count": 34
    }
   ],
   "source": [
    "df"
   ]
  },
  {
   "cell_type": "code",
   "execution_count": 35,
   "metadata": {},
   "outputs": [
    {
     "output_type": "execute_result",
     "data": {
      "text/plain": [
       "YEAR                       int64\n",
       "MONTH                     object\n",
       "DAY                        int64\n",
       "HOUR                       int64\n",
       "MINUTE                     int64\n",
       "SECOND                   float64\n",
       "LATITUDE                 float64\n",
       "LONGITUDE                float64\n",
       "DEPTH                      int64\n",
       "MAGNITUDE                float64\n",
       "T                         object\n",
       "DATETIME     datetime64[ns, UTC]\n",
       "DAY_NAME                  object\n",
       "dtype: object"
      ]
     },
     "metadata": {},
     "execution_count": 35
    }
   ],
   "source": [
    "df.dtypes"
   ]
  },
  {
   "cell_type": "code",
   "execution_count": 40,
   "metadata": {},
   "outputs": [
    {
     "output_type": "execute_result",
     "data": {
      "text/plain": [
       "       YEAR MONTH  DAY  HOUR  MINUTE  SECOND  LATITUDE  LONGITUDE  DEPTH  \\\n",
       "0      2000   JAN    1     1      19    28.3     41.95      20.63      5   \n",
       "1      2000   JAN    1     4       2    28.4     35.54      22.76     22   \n",
       "2      2000   JAN    1     5      13    59.1     38.97      26.10     35   \n",
       "3      2000   JAN    1     5      17    12.9     38.89      25.85     22   \n",
       "4      2000   JAN    1     5      56     7.3     39.21      27.30     10   \n",
       "...     ...   ...  ...   ...     ...     ...       ...        ...    ...   \n",
       "52252  2009   DEC   31    14      24     1.2     37.47      21.83     21   \n",
       "52253  2009   DEC   31    14      50    29.6     34.67      24.42     15   \n",
       "52254  2009   DEC   31    17      27    45.8     35.68      23.47      5   \n",
       "52255  2009   DEC   31    20      43    12.9     36.37      21.61     11   \n",
       "52256  2009   DEC   31    20      58    40.8     39.70      20.76     18   \n",
       "\n",
       "       MAGNITUDE                       T                         DATETIME  \\\n",
       "0            4.8  2000-01-01T01:19:28.3Z 2000-01-01 01:19:28.300000+00:00   \n",
       "1            3.7  2000-01-01T04:02:28.4Z 2000-01-01 04:02:28.400000+00:00   \n",
       "2            3.3  2000-01-01T05:13:59.1Z 2000-01-01 05:13:59.100000+00:00   \n",
       "3            3.3  2000-01-01T05:17:12.9Z 2000-01-01 05:17:12.900000+00:00   \n",
       "4            3.6  2000-01-01T05:56:07.3Z 2000-01-01 05:56:07.300000+00:00   \n",
       "...          ...                     ...                              ...   \n",
       "52252        2.8  2009-12-31T14:24:01.2Z 2009-12-31 14:24:01.200000+00:00   \n",
       "52253        3.4  2009-12-31T14:50:29.6Z 2009-12-31 14:50:29.600000+00:00   \n",
       "52254        2.9  2009-12-31T17:27:45.8Z 2009-12-31 17:27:45.800000+00:00   \n",
       "52255        3.2  2009-12-31T20:43:12.9Z 2009-12-31 20:43:12.900000+00:00   \n",
       "52256        2.8  2009-12-31T20:58:40.8Z 2009-12-31 20:58:40.800000+00:00   \n",
       "\n",
       "       DAY_NAME  \n",
       "0      Saturday  \n",
       "1      Saturday  \n",
       "2      Saturday  \n",
       "3      Saturday  \n",
       "4      Saturday  \n",
       "...         ...  \n",
       "52252  Thursday  \n",
       "52253  Thursday  \n",
       "52254  Thursday  \n",
       "52255  Thursday  \n",
       "52256  Thursday  \n",
       "\n",
       "[52257 rows x 13 columns]"
      ],
      "text/html": "<div>\n<style scoped>\n    .dataframe tbody tr th:only-of-type {\n        vertical-align: middle;\n    }\n\n    .dataframe tbody tr th {\n        vertical-align: top;\n    }\n\n    .dataframe thead th {\n        text-align: right;\n    }\n</style>\n<table border=\"1\" class=\"dataframe\">\n  <thead>\n    <tr style=\"text-align: right;\">\n      <th></th>\n      <th>YEAR</th>\n      <th>MONTH</th>\n      <th>DAY</th>\n      <th>HOUR</th>\n      <th>MINUTE</th>\n      <th>SECOND</th>\n      <th>LATITUDE</th>\n      <th>LONGITUDE</th>\n      <th>DEPTH</th>\n      <th>MAGNITUDE</th>\n      <th>T</th>\n      <th>DATETIME</th>\n      <th>DAY_NAME</th>\n    </tr>\n  </thead>\n  <tbody>\n    <tr>\n      <th>0</th>\n      <td>2000</td>\n      <td>JAN</td>\n      <td>1</td>\n      <td>1</td>\n      <td>19</td>\n      <td>28.3</td>\n      <td>41.95</td>\n      <td>20.63</td>\n      <td>5</td>\n      <td>4.8</td>\n      <td>2000-01-01T01:19:28.3Z</td>\n      <td>2000-01-01 01:19:28.300000+00:00</td>\n      <td>Saturday</td>\n    </tr>\n    <tr>\n      <th>1</th>\n      <td>2000</td>\n      <td>JAN</td>\n      <td>1</td>\n      <td>4</td>\n      <td>2</td>\n      <td>28.4</td>\n      <td>35.54</td>\n      <td>22.76</td>\n      <td>22</td>\n      <td>3.7</td>\n      <td>2000-01-01T04:02:28.4Z</td>\n      <td>2000-01-01 04:02:28.400000+00:00</td>\n      <td>Saturday</td>\n    </tr>\n    <tr>\n      <th>2</th>\n      <td>2000</td>\n      <td>JAN</td>\n      <td>1</td>\n      <td>5</td>\n      <td>13</td>\n      <td>59.1</td>\n      <td>38.97</td>\n      <td>26.10</td>\n      <td>35</td>\n      <td>3.3</td>\n      <td>2000-01-01T05:13:59.1Z</td>\n      <td>2000-01-01 05:13:59.100000+00:00</td>\n      <td>Saturday</td>\n    </tr>\n    <tr>\n      <th>3</th>\n      <td>2000</td>\n      <td>JAN</td>\n      <td>1</td>\n      <td>5</td>\n      <td>17</td>\n      <td>12.9</td>\n      <td>38.89</td>\n      <td>25.85</td>\n      <td>22</td>\n      <td>3.3</td>\n      <td>2000-01-01T05:17:12.9Z</td>\n      <td>2000-01-01 05:17:12.900000+00:00</td>\n      <td>Saturday</td>\n    </tr>\n    <tr>\n      <th>4</th>\n      <td>2000</td>\n      <td>JAN</td>\n      <td>1</td>\n      <td>5</td>\n      <td>56</td>\n      <td>7.3</td>\n      <td>39.21</td>\n      <td>27.30</td>\n      <td>10</td>\n      <td>3.6</td>\n      <td>2000-01-01T05:56:07.3Z</td>\n      <td>2000-01-01 05:56:07.300000+00:00</td>\n      <td>Saturday</td>\n    </tr>\n    <tr>\n      <th>...</th>\n      <td>...</td>\n      <td>...</td>\n      <td>...</td>\n      <td>...</td>\n      <td>...</td>\n      <td>...</td>\n      <td>...</td>\n      <td>...</td>\n      <td>...</td>\n      <td>...</td>\n      <td>...</td>\n      <td>...</td>\n      <td>...</td>\n    </tr>\n    <tr>\n      <th>52252</th>\n      <td>2009</td>\n      <td>DEC</td>\n      <td>31</td>\n      <td>14</td>\n      <td>24</td>\n      <td>1.2</td>\n      <td>37.47</td>\n      <td>21.83</td>\n      <td>21</td>\n      <td>2.8</td>\n      <td>2009-12-31T14:24:01.2Z</td>\n      <td>2009-12-31 14:24:01.200000+00:00</td>\n      <td>Thursday</td>\n    </tr>\n    <tr>\n      <th>52253</th>\n      <td>2009</td>\n      <td>DEC</td>\n      <td>31</td>\n      <td>14</td>\n      <td>50</td>\n      <td>29.6</td>\n      <td>34.67</td>\n      <td>24.42</td>\n      <td>15</td>\n      <td>3.4</td>\n      <td>2009-12-31T14:50:29.6Z</td>\n      <td>2009-12-31 14:50:29.600000+00:00</td>\n      <td>Thursday</td>\n    </tr>\n    <tr>\n      <th>52254</th>\n      <td>2009</td>\n      <td>DEC</td>\n      <td>31</td>\n      <td>17</td>\n      <td>27</td>\n      <td>45.8</td>\n      <td>35.68</td>\n      <td>23.47</td>\n      <td>5</td>\n      <td>2.9</td>\n      <td>2009-12-31T17:27:45.8Z</td>\n      <td>2009-12-31 17:27:45.800000+00:00</td>\n      <td>Thursday</td>\n    </tr>\n    <tr>\n      <th>52255</th>\n      <td>2009</td>\n      <td>DEC</td>\n      <td>31</td>\n      <td>20</td>\n      <td>43</td>\n      <td>12.9</td>\n      <td>36.37</td>\n      <td>21.61</td>\n      <td>11</td>\n      <td>3.2</td>\n      <td>2009-12-31T20:43:12.9Z</td>\n      <td>2009-12-31 20:43:12.900000+00:00</td>\n      <td>Thursday</td>\n    </tr>\n    <tr>\n      <th>52256</th>\n      <td>2009</td>\n      <td>DEC</td>\n      <td>31</td>\n      <td>20</td>\n      <td>58</td>\n      <td>40.8</td>\n      <td>39.70</td>\n      <td>20.76</td>\n      <td>18</td>\n      <td>2.8</td>\n      <td>2009-12-31T20:58:40.8Z</td>\n      <td>2009-12-31 20:58:40.800000+00:00</td>\n      <td>Thursday</td>\n    </tr>\n  </tbody>\n</table>\n<p>52257 rows × 13 columns</p>\n</div>"
     },
     "metadata": {},
     "execution_count": 40
    }
   ],
   "source": [
    "df"
   ]
  },
  {
   "cell_type": "code",
   "execution_count": 38,
   "metadata": {},
   "outputs": [
    {
     "output_type": "execute_result",
     "data": {
      "text/plain": [
       "YEAR                       int64\n",
       "MONTH                     object\n",
       "DAY                        int64\n",
       "HOUR                       int64\n",
       "MINUTE                     int64\n",
       "SECOND                   float64\n",
       "LATITUDE                 float64\n",
       "LONGITUDE                float64\n",
       "DEPTH                      int64\n",
       "MAGNITUDE                float64\n",
       "T                         object\n",
       "DATETIME     datetime64[ns, UTC]\n",
       "DAY_NAME                  object\n",
       "dtype: object"
      ]
     },
     "metadata": {},
     "execution_count": 38
    }
   ],
   "source": [
    "df.dtypes"
   ]
  },
  {
   "source": [
    "how to see the earliest and latest dates"
   ],
   "cell_type": "markdown",
   "metadata": {}
  },
  {
   "cell_type": "code",
   "execution_count": 41,
   "metadata": {},
   "outputs": [
    {
     "output_type": "execute_result",
     "data": {
      "text/plain": [
       "Timestamp('2000-01-01 01:19:28.300000+0000', tz='UTC')"
      ]
     },
     "metadata": {},
     "execution_count": 41
    }
   ],
   "source": [
    "df['DATETIME'].min()"
   ]
  },
  {
   "cell_type": "code",
   "execution_count": 42,
   "metadata": {},
   "outputs": [
    {
     "output_type": "execute_result",
     "data": {
      "text/plain": [
       "Timestamp('2009-12-31 20:58:40.800000+0000', tz='UTC')"
      ]
     },
     "metadata": {},
     "execution_count": 42
    }
   ],
   "source": [
    "df['DATETIME'].max()"
   ]
  },
  {
   "cell_type": "code",
   "execution_count": 44,
   "metadata": {},
   "outputs": [
    {
     "output_type": "execute_result",
     "data": {
      "text/plain": [
       "Timedelta('3652 days 19:39:12.500000')"
      ]
     },
     "metadata": {},
     "execution_count": 44
    }
   ],
   "source": [
    "df['DATETIME'].max() - df['DATETIME'].min()"
   ]
  },
  {
   "source": [
    "now we can create groups"
   ],
   "cell_type": "markdown",
   "metadata": {}
  },
  {
   "cell_type": "code",
   "execution_count": 50,
   "metadata": {},
   "outputs": [
    {
     "output_type": "execute_result",
     "data": {
      "text/plain": [
       "       YEAR MONTH  DAY  HOUR  MINUTE  SECOND  LATITUDE  LONGITUDE  DEPTH  \\\n",
       "10316  2004   JAN    1     0      32     1.3     37.76      21.07      5   \n",
       "10317  2004   JAN    1     1      43    44.0     38.38      21.54     42   \n",
       "10318  2004   JAN    1     3      14    36.4     38.54      20.64      5   \n",
       "10319  2004   JAN    1     7       7     4.8     34.35      25.47     24   \n",
       "10320  2004   JAN    1     9       7    47.8     38.39      21.89      5   \n",
       "...     ...   ...  ...   ...     ...     ...       ...        ...    ...   \n",
       "13750  2004   DEC   31    13      59    59.9     37.11      28.24     18   \n",
       "13751  2004   DEC   31    14      29    28.3     40.49      22.38     32   \n",
       "13752  2004   DEC   31    16       3    25.1     38.44      19.75     12   \n",
       "13753  2004   DEC   31    20      43    25.8     37.32      20.19      8   \n",
       "13754  2004   DEC   31    20      50    54.1     38.92      21.08     10   \n",
       "\n",
       "       MAGNITUDE                       T                         DATETIME  \\\n",
       "10316        3.4  2004-01-01T00:32:01.3Z 2004-01-01 00:32:01.300000+00:00   \n",
       "10317        3.1  2004-01-01T01:43:44.0Z        2004-01-01 01:43:44+00:00   \n",
       "10318        3.3  2004-01-01T03:14:36.4Z 2004-01-01 03:14:36.400000+00:00   \n",
       "10319        3.9  2004-01-01T07:07:04.8Z 2004-01-01 07:07:04.800000+00:00   \n",
       "10320        3.0  2004-01-01T09:07:47.8Z 2004-01-01 09:07:47.800000+00:00   \n",
       "...          ...                     ...                              ...   \n",
       "13750        3.6  2004-12-31T13:59:59.9Z 2004-12-31 13:59:59.900000+00:00   \n",
       "13751        3.3  2004-12-31T14:29:28.3Z 2004-12-31 14:29:28.300000+00:00   \n",
       "13752        3.4  2004-12-31T16:03:25.1Z 2004-12-31 16:03:25.100000+00:00   \n",
       "13753        3.6  2004-12-31T20:43:25.8Z 2004-12-31 20:43:25.800000+00:00   \n",
       "13754        2.7  2004-12-31T20:50:54.1Z 2004-12-31 20:50:54.100000+00:00   \n",
       "\n",
       "       DAY_NAME  \n",
       "10316  Thursday  \n",
       "10317  Thursday  \n",
       "10318  Thursday  \n",
       "10319  Thursday  \n",
       "10320  Thursday  \n",
       "...         ...  \n",
       "13750    Friday  \n",
       "13751    Friday  \n",
       "13752    Friday  \n",
       "13753    Friday  \n",
       "13754    Friday  \n",
       "\n",
       "[3439 rows x 13 columns]"
      ],
      "text/html": "<div>\n<style scoped>\n    .dataframe tbody tr th:only-of-type {\n        vertical-align: middle;\n    }\n\n    .dataframe tbody tr th {\n        vertical-align: top;\n    }\n\n    .dataframe thead th {\n        text-align: right;\n    }\n</style>\n<table border=\"1\" class=\"dataframe\">\n  <thead>\n    <tr style=\"text-align: right;\">\n      <th></th>\n      <th>YEAR</th>\n      <th>MONTH</th>\n      <th>DAY</th>\n      <th>HOUR</th>\n      <th>MINUTE</th>\n      <th>SECOND</th>\n      <th>LATITUDE</th>\n      <th>LONGITUDE</th>\n      <th>DEPTH</th>\n      <th>MAGNITUDE</th>\n      <th>T</th>\n      <th>DATETIME</th>\n      <th>DAY_NAME</th>\n    </tr>\n  </thead>\n  <tbody>\n    <tr>\n      <th>10316</th>\n      <td>2004</td>\n      <td>JAN</td>\n      <td>1</td>\n      <td>0</td>\n      <td>32</td>\n      <td>1.3</td>\n      <td>37.76</td>\n      <td>21.07</td>\n      <td>5</td>\n      <td>3.4</td>\n      <td>2004-01-01T00:32:01.3Z</td>\n      <td>2004-01-01 00:32:01.300000+00:00</td>\n      <td>Thursday</td>\n    </tr>\n    <tr>\n      <th>10317</th>\n      <td>2004</td>\n      <td>JAN</td>\n      <td>1</td>\n      <td>1</td>\n      <td>43</td>\n      <td>44.0</td>\n      <td>38.38</td>\n      <td>21.54</td>\n      <td>42</td>\n      <td>3.1</td>\n      <td>2004-01-01T01:43:44.0Z</td>\n      <td>2004-01-01 01:43:44+00:00</td>\n      <td>Thursday</td>\n    </tr>\n    <tr>\n      <th>10318</th>\n      <td>2004</td>\n      <td>JAN</td>\n      <td>1</td>\n      <td>3</td>\n      <td>14</td>\n      <td>36.4</td>\n      <td>38.54</td>\n      <td>20.64</td>\n      <td>5</td>\n      <td>3.3</td>\n      <td>2004-01-01T03:14:36.4Z</td>\n      <td>2004-01-01 03:14:36.400000+00:00</td>\n      <td>Thursday</td>\n    </tr>\n    <tr>\n      <th>10319</th>\n      <td>2004</td>\n      <td>JAN</td>\n      <td>1</td>\n      <td>7</td>\n      <td>7</td>\n      <td>4.8</td>\n      <td>34.35</td>\n      <td>25.47</td>\n      <td>24</td>\n      <td>3.9</td>\n      <td>2004-01-01T07:07:04.8Z</td>\n      <td>2004-01-01 07:07:04.800000+00:00</td>\n      <td>Thursday</td>\n    </tr>\n    <tr>\n      <th>10320</th>\n      <td>2004</td>\n      <td>JAN</td>\n      <td>1</td>\n      <td>9</td>\n      <td>7</td>\n      <td>47.8</td>\n      <td>38.39</td>\n      <td>21.89</td>\n      <td>5</td>\n      <td>3.0</td>\n      <td>2004-01-01T09:07:47.8Z</td>\n      <td>2004-01-01 09:07:47.800000+00:00</td>\n      <td>Thursday</td>\n    </tr>\n    <tr>\n      <th>...</th>\n      <td>...</td>\n      <td>...</td>\n      <td>...</td>\n      <td>...</td>\n      <td>...</td>\n      <td>...</td>\n      <td>...</td>\n      <td>...</td>\n      <td>...</td>\n      <td>...</td>\n      <td>...</td>\n      <td>...</td>\n      <td>...</td>\n    </tr>\n    <tr>\n      <th>13750</th>\n      <td>2004</td>\n      <td>DEC</td>\n      <td>31</td>\n      <td>13</td>\n      <td>59</td>\n      <td>59.9</td>\n      <td>37.11</td>\n      <td>28.24</td>\n      <td>18</td>\n      <td>3.6</td>\n      <td>2004-12-31T13:59:59.9Z</td>\n      <td>2004-12-31 13:59:59.900000+00:00</td>\n      <td>Friday</td>\n    </tr>\n    <tr>\n      <th>13751</th>\n      <td>2004</td>\n      <td>DEC</td>\n      <td>31</td>\n      <td>14</td>\n      <td>29</td>\n      <td>28.3</td>\n      <td>40.49</td>\n      <td>22.38</td>\n      <td>32</td>\n      <td>3.3</td>\n      <td>2004-12-31T14:29:28.3Z</td>\n      <td>2004-12-31 14:29:28.300000+00:00</td>\n      <td>Friday</td>\n    </tr>\n    <tr>\n      <th>13752</th>\n      <td>2004</td>\n      <td>DEC</td>\n      <td>31</td>\n      <td>16</td>\n      <td>3</td>\n      <td>25.1</td>\n      <td>38.44</td>\n      <td>19.75</td>\n      <td>12</td>\n      <td>3.4</td>\n      <td>2004-12-31T16:03:25.1Z</td>\n      <td>2004-12-31 16:03:25.100000+00:00</td>\n      <td>Friday</td>\n    </tr>\n    <tr>\n      <th>13753</th>\n      <td>2004</td>\n      <td>DEC</td>\n      <td>31</td>\n      <td>20</td>\n      <td>43</td>\n      <td>25.8</td>\n      <td>37.32</td>\n      <td>20.19</td>\n      <td>8</td>\n      <td>3.6</td>\n      <td>2004-12-31T20:43:25.8Z</td>\n      <td>2004-12-31 20:43:25.800000+00:00</td>\n      <td>Friday</td>\n    </tr>\n    <tr>\n      <th>13754</th>\n      <td>2004</td>\n      <td>DEC</td>\n      <td>31</td>\n      <td>20</td>\n      <td>50</td>\n      <td>54.1</td>\n      <td>38.92</td>\n      <td>21.08</td>\n      <td>10</td>\n      <td>2.7</td>\n      <td>2004-12-31T20:50:54.1Z</td>\n      <td>2004-12-31 20:50:54.100000+00:00</td>\n      <td>Friday</td>\n    </tr>\n  </tbody>\n</table>\n<p>3439 rows × 13 columns</p>\n</div>"
     },
     "metadata": {},
     "execution_count": 50
    }
   ],
   "source": [
    "filt = (df['DATETIME'] >= '2004') & (df['DATETIME'] < '2005')\n",
    "df.loc[filt]"
   ]
  },
  {
   "cell_type": "code",
   "execution_count": 66,
   "metadata": {},
   "outputs": [
    {
     "output_type": "execute_result",
     "data": {
      "text/plain": [
       "       YEAR MONTH  DAY  HOUR  MINUTE  SECOND  LATITUDE  LONGITUDE  DEPTH  \\\n",
       "10316  2004   JAN    1     0      32     1.3     37.76      21.07      5   \n",
       "10317  2004   JAN    1     1      43    44.0     38.38      21.54     42   \n",
       "10318  2004   JAN    1     3      14    36.4     38.54      20.64      5   \n",
       "10319  2004   JAN    1     7       7     4.8     34.35      25.47     24   \n",
       "10320  2004   JAN    1     9       7    47.8     38.39      21.89      5   \n",
       "...     ...   ...  ...   ...     ...     ...       ...        ...    ...   \n",
       "13750  2004   DEC   31    13      59    59.9     37.11      28.24     18   \n",
       "13751  2004   DEC   31    14      29    28.3     40.49      22.38     32   \n",
       "13752  2004   DEC   31    16       3    25.1     38.44      19.75     12   \n",
       "13753  2004   DEC   31    20      43    25.8     37.32      20.19      8   \n",
       "13754  2004   DEC   31    20      50    54.1     38.92      21.08     10   \n",
       "\n",
       "       MAGNITUDE                       T                         DATETIME  \\\n",
       "10316        3.4  2004-01-01T00:32:01.3Z 2004-01-01 00:32:01.300000+00:00   \n",
       "10317        3.1  2004-01-01T01:43:44.0Z        2004-01-01 01:43:44+00:00   \n",
       "10318        3.3  2004-01-01T03:14:36.4Z 2004-01-01 03:14:36.400000+00:00   \n",
       "10319        3.9  2004-01-01T07:07:04.8Z 2004-01-01 07:07:04.800000+00:00   \n",
       "10320        3.0  2004-01-01T09:07:47.8Z 2004-01-01 09:07:47.800000+00:00   \n",
       "...          ...                     ...                              ...   \n",
       "13750        3.6  2004-12-31T13:59:59.9Z 2004-12-31 13:59:59.900000+00:00   \n",
       "13751        3.3  2004-12-31T14:29:28.3Z 2004-12-31 14:29:28.300000+00:00   \n",
       "13752        3.4  2004-12-31T16:03:25.1Z 2004-12-31 16:03:25.100000+00:00   \n",
       "13753        3.6  2004-12-31T20:43:25.8Z 2004-12-31 20:43:25.800000+00:00   \n",
       "13754        2.7  2004-12-31T20:50:54.1Z 2004-12-31 20:50:54.100000+00:00   \n",
       "\n",
       "       DAY_NAME  \n",
       "10316  Thursday  \n",
       "10317  Thursday  \n",
       "10318  Thursday  \n",
       "10319  Thursday  \n",
       "10320  Thursday  \n",
       "...         ...  \n",
       "13750    Friday  \n",
       "13751    Friday  \n",
       "13752    Friday  \n",
       "13753    Friday  \n",
       "13754    Friday  \n",
       "\n",
       "[3439 rows x 13 columns]"
      ],
      "text/html": "<div>\n<style scoped>\n    .dataframe tbody tr th:only-of-type {\n        vertical-align: middle;\n    }\n\n    .dataframe tbody tr th {\n        vertical-align: top;\n    }\n\n    .dataframe thead th {\n        text-align: right;\n    }\n</style>\n<table border=\"1\" class=\"dataframe\">\n  <thead>\n    <tr style=\"text-align: right;\">\n      <th></th>\n      <th>YEAR</th>\n      <th>MONTH</th>\n      <th>DAY</th>\n      <th>HOUR</th>\n      <th>MINUTE</th>\n      <th>SECOND</th>\n      <th>LATITUDE</th>\n      <th>LONGITUDE</th>\n      <th>DEPTH</th>\n      <th>MAGNITUDE</th>\n      <th>T</th>\n      <th>DATETIME</th>\n      <th>DAY_NAME</th>\n    </tr>\n  </thead>\n  <tbody>\n    <tr>\n      <th>10316</th>\n      <td>2004</td>\n      <td>JAN</td>\n      <td>1</td>\n      <td>0</td>\n      <td>32</td>\n      <td>1.3</td>\n      <td>37.76</td>\n      <td>21.07</td>\n      <td>5</td>\n      <td>3.4</td>\n      <td>2004-01-01T00:32:01.3Z</td>\n      <td>2004-01-01 00:32:01.300000+00:00</td>\n      <td>Thursday</td>\n    </tr>\n    <tr>\n      <th>10317</th>\n      <td>2004</td>\n      <td>JAN</td>\n      <td>1</td>\n      <td>1</td>\n      <td>43</td>\n      <td>44.0</td>\n      <td>38.38</td>\n      <td>21.54</td>\n      <td>42</td>\n      <td>3.1</td>\n      <td>2004-01-01T01:43:44.0Z</td>\n      <td>2004-01-01 01:43:44+00:00</td>\n      <td>Thursday</td>\n    </tr>\n    <tr>\n      <th>10318</th>\n      <td>2004</td>\n      <td>JAN</td>\n      <td>1</td>\n      <td>3</td>\n      <td>14</td>\n      <td>36.4</td>\n      <td>38.54</td>\n      <td>20.64</td>\n      <td>5</td>\n      <td>3.3</td>\n      <td>2004-01-01T03:14:36.4Z</td>\n      <td>2004-01-01 03:14:36.400000+00:00</td>\n      <td>Thursday</td>\n    </tr>\n    <tr>\n      <th>10319</th>\n      <td>2004</td>\n      <td>JAN</td>\n      <td>1</td>\n      <td>7</td>\n      <td>7</td>\n      <td>4.8</td>\n      <td>34.35</td>\n      <td>25.47</td>\n      <td>24</td>\n      <td>3.9</td>\n      <td>2004-01-01T07:07:04.8Z</td>\n      <td>2004-01-01 07:07:04.800000+00:00</td>\n      <td>Thursday</td>\n    </tr>\n    <tr>\n      <th>10320</th>\n      <td>2004</td>\n      <td>JAN</td>\n      <td>1</td>\n      <td>9</td>\n      <td>7</td>\n      <td>47.8</td>\n      <td>38.39</td>\n      <td>21.89</td>\n      <td>5</td>\n      <td>3.0</td>\n      <td>2004-01-01T09:07:47.8Z</td>\n      <td>2004-01-01 09:07:47.800000+00:00</td>\n      <td>Thursday</td>\n    </tr>\n    <tr>\n      <th>...</th>\n      <td>...</td>\n      <td>...</td>\n      <td>...</td>\n      <td>...</td>\n      <td>...</td>\n      <td>...</td>\n      <td>...</td>\n      <td>...</td>\n      <td>...</td>\n      <td>...</td>\n      <td>...</td>\n      <td>...</td>\n      <td>...</td>\n    </tr>\n    <tr>\n      <th>13750</th>\n      <td>2004</td>\n      <td>DEC</td>\n      <td>31</td>\n      <td>13</td>\n      <td>59</td>\n      <td>59.9</td>\n      <td>37.11</td>\n      <td>28.24</td>\n      <td>18</td>\n      <td>3.6</td>\n      <td>2004-12-31T13:59:59.9Z</td>\n      <td>2004-12-31 13:59:59.900000+00:00</td>\n      <td>Friday</td>\n    </tr>\n    <tr>\n      <th>13751</th>\n      <td>2004</td>\n      <td>DEC</td>\n      <td>31</td>\n      <td>14</td>\n      <td>29</td>\n      <td>28.3</td>\n      <td>40.49</td>\n      <td>22.38</td>\n      <td>32</td>\n      <td>3.3</td>\n      <td>2004-12-31T14:29:28.3Z</td>\n      <td>2004-12-31 14:29:28.300000+00:00</td>\n      <td>Friday</td>\n    </tr>\n    <tr>\n      <th>13752</th>\n      <td>2004</td>\n      <td>DEC</td>\n      <td>31</td>\n      <td>16</td>\n      <td>3</td>\n      <td>25.1</td>\n      <td>38.44</td>\n      <td>19.75</td>\n      <td>12</td>\n      <td>3.4</td>\n      <td>2004-12-31T16:03:25.1Z</td>\n      <td>2004-12-31 16:03:25.100000+00:00</td>\n      <td>Friday</td>\n    </tr>\n    <tr>\n      <th>13753</th>\n      <td>2004</td>\n      <td>DEC</td>\n      <td>31</td>\n      <td>20</td>\n      <td>43</td>\n      <td>25.8</td>\n      <td>37.32</td>\n      <td>20.19</td>\n      <td>8</td>\n      <td>3.6</td>\n      <td>2004-12-31T20:43:25.8Z</td>\n      <td>2004-12-31 20:43:25.800000+00:00</td>\n      <td>Friday</td>\n    </tr>\n    <tr>\n      <th>13754</th>\n      <td>2004</td>\n      <td>DEC</td>\n      <td>31</td>\n      <td>20</td>\n      <td>50</td>\n      <td>54.1</td>\n      <td>38.92</td>\n      <td>21.08</td>\n      <td>10</td>\n      <td>2.7</td>\n      <td>2004-12-31T20:50:54.1Z</td>\n      <td>2004-12-31 20:50:54.100000+00:00</td>\n      <td>Friday</td>\n    </tr>\n  </tbody>\n</table>\n<p>3439 rows × 13 columns</p>\n</div>"
     },
     "metadata": {},
     "execution_count": 66
    }
   ],
   "source": [
    "filt = (df['DATETIME'] >= pandas.to_datetime('2004-01-01T00:00:00Z')) & (df['DATETIME'] < pandas.to_datetime('2005-01-01T00:00:00Z'))\n",
    "df[filt]"
   ]
  },
  {
   "source": [
    "## REMOVE TIMEZONE"
   ],
   "cell_type": "markdown",
   "metadata": {}
  },
  {
   "cell_type": "code",
   "execution_count": 74,
   "metadata": {},
   "outputs": [],
   "source": [
    "df['DATETIME'] = df['DATETIME'].dt.tz_convert(None)"
   ]
  },
  {
   "cell_type": "code",
   "execution_count": 75,
   "metadata": {},
   "outputs": [
    {
     "output_type": "execute_result",
     "data": {
      "text/plain": [
       "       YEAR MONTH  DAY  HOUR  MINUTE  SECOND  LATITUDE  LONGITUDE  DEPTH  \\\n",
       "0      2000   JAN    1     1      19    28.3     41.95      20.63      5   \n",
       "1      2000   JAN    1     4       2    28.4     35.54      22.76     22   \n",
       "2      2000   JAN    1     5      13    59.1     38.97      26.10     35   \n",
       "3      2000   JAN    1     5      17    12.9     38.89      25.85     22   \n",
       "4      2000   JAN    1     5      56     7.3     39.21      27.30     10   \n",
       "...     ...   ...  ...   ...     ...     ...       ...        ...    ...   \n",
       "52252  2009   DEC   31    14      24     1.2     37.47      21.83     21   \n",
       "52253  2009   DEC   31    14      50    29.6     34.67      24.42     15   \n",
       "52254  2009   DEC   31    17      27    45.8     35.68      23.47      5   \n",
       "52255  2009   DEC   31    20      43    12.9     36.37      21.61     11   \n",
       "52256  2009   DEC   31    20      58    40.8     39.70      20.76     18   \n",
       "\n",
       "       MAGNITUDE                       T                DATETIME  DAY_NAME  \n",
       "0            4.8  2000-01-01T01:19:28.3Z 2000-01-01 01:19:28.300  Saturday  \n",
       "1            3.7  2000-01-01T04:02:28.4Z 2000-01-01 04:02:28.400  Saturday  \n",
       "2            3.3  2000-01-01T05:13:59.1Z 2000-01-01 05:13:59.100  Saturday  \n",
       "3            3.3  2000-01-01T05:17:12.9Z 2000-01-01 05:17:12.900  Saturday  \n",
       "4            3.6  2000-01-01T05:56:07.3Z 2000-01-01 05:56:07.300  Saturday  \n",
       "...          ...                     ...                     ...       ...  \n",
       "52252        2.8  2009-12-31T14:24:01.2Z 2009-12-31 14:24:01.200  Thursday  \n",
       "52253        3.4  2009-12-31T14:50:29.6Z 2009-12-31 14:50:29.600  Thursday  \n",
       "52254        2.9  2009-12-31T17:27:45.8Z 2009-12-31 17:27:45.800  Thursday  \n",
       "52255        3.2  2009-12-31T20:43:12.9Z 2009-12-31 20:43:12.900  Thursday  \n",
       "52256        2.8  2009-12-31T20:58:40.8Z 2009-12-31 20:58:40.800  Thursday  \n",
       "\n",
       "[52257 rows x 13 columns]"
      ],
      "text/html": "<div>\n<style scoped>\n    .dataframe tbody tr th:only-of-type {\n        vertical-align: middle;\n    }\n\n    .dataframe tbody tr th {\n        vertical-align: top;\n    }\n\n    .dataframe thead th {\n        text-align: right;\n    }\n</style>\n<table border=\"1\" class=\"dataframe\">\n  <thead>\n    <tr style=\"text-align: right;\">\n      <th></th>\n      <th>YEAR</th>\n      <th>MONTH</th>\n      <th>DAY</th>\n      <th>HOUR</th>\n      <th>MINUTE</th>\n      <th>SECOND</th>\n      <th>LATITUDE</th>\n      <th>LONGITUDE</th>\n      <th>DEPTH</th>\n      <th>MAGNITUDE</th>\n      <th>T</th>\n      <th>DATETIME</th>\n      <th>DAY_NAME</th>\n    </tr>\n  </thead>\n  <tbody>\n    <tr>\n      <th>0</th>\n      <td>2000</td>\n      <td>JAN</td>\n      <td>1</td>\n      <td>1</td>\n      <td>19</td>\n      <td>28.3</td>\n      <td>41.95</td>\n      <td>20.63</td>\n      <td>5</td>\n      <td>4.8</td>\n      <td>2000-01-01T01:19:28.3Z</td>\n      <td>2000-01-01 01:19:28.300</td>\n      <td>Saturday</td>\n    </tr>\n    <tr>\n      <th>1</th>\n      <td>2000</td>\n      <td>JAN</td>\n      <td>1</td>\n      <td>4</td>\n      <td>2</td>\n      <td>28.4</td>\n      <td>35.54</td>\n      <td>22.76</td>\n      <td>22</td>\n      <td>3.7</td>\n      <td>2000-01-01T04:02:28.4Z</td>\n      <td>2000-01-01 04:02:28.400</td>\n      <td>Saturday</td>\n    </tr>\n    <tr>\n      <th>2</th>\n      <td>2000</td>\n      <td>JAN</td>\n      <td>1</td>\n      <td>5</td>\n      <td>13</td>\n      <td>59.1</td>\n      <td>38.97</td>\n      <td>26.10</td>\n      <td>35</td>\n      <td>3.3</td>\n      <td>2000-01-01T05:13:59.1Z</td>\n      <td>2000-01-01 05:13:59.100</td>\n      <td>Saturday</td>\n    </tr>\n    <tr>\n      <th>3</th>\n      <td>2000</td>\n      <td>JAN</td>\n      <td>1</td>\n      <td>5</td>\n      <td>17</td>\n      <td>12.9</td>\n      <td>38.89</td>\n      <td>25.85</td>\n      <td>22</td>\n      <td>3.3</td>\n      <td>2000-01-01T05:17:12.9Z</td>\n      <td>2000-01-01 05:17:12.900</td>\n      <td>Saturday</td>\n    </tr>\n    <tr>\n      <th>4</th>\n      <td>2000</td>\n      <td>JAN</td>\n      <td>1</td>\n      <td>5</td>\n      <td>56</td>\n      <td>7.3</td>\n      <td>39.21</td>\n      <td>27.30</td>\n      <td>10</td>\n      <td>3.6</td>\n      <td>2000-01-01T05:56:07.3Z</td>\n      <td>2000-01-01 05:56:07.300</td>\n      <td>Saturday</td>\n    </tr>\n    <tr>\n      <th>...</th>\n      <td>...</td>\n      <td>...</td>\n      <td>...</td>\n      <td>...</td>\n      <td>...</td>\n      <td>...</td>\n      <td>...</td>\n      <td>...</td>\n      <td>...</td>\n      <td>...</td>\n      <td>...</td>\n      <td>...</td>\n      <td>...</td>\n    </tr>\n    <tr>\n      <th>52252</th>\n      <td>2009</td>\n      <td>DEC</td>\n      <td>31</td>\n      <td>14</td>\n      <td>24</td>\n      <td>1.2</td>\n      <td>37.47</td>\n      <td>21.83</td>\n      <td>21</td>\n      <td>2.8</td>\n      <td>2009-12-31T14:24:01.2Z</td>\n      <td>2009-12-31 14:24:01.200</td>\n      <td>Thursday</td>\n    </tr>\n    <tr>\n      <th>52253</th>\n      <td>2009</td>\n      <td>DEC</td>\n      <td>31</td>\n      <td>14</td>\n      <td>50</td>\n      <td>29.6</td>\n      <td>34.67</td>\n      <td>24.42</td>\n      <td>15</td>\n      <td>3.4</td>\n      <td>2009-12-31T14:50:29.6Z</td>\n      <td>2009-12-31 14:50:29.600</td>\n      <td>Thursday</td>\n    </tr>\n    <tr>\n      <th>52254</th>\n      <td>2009</td>\n      <td>DEC</td>\n      <td>31</td>\n      <td>17</td>\n      <td>27</td>\n      <td>45.8</td>\n      <td>35.68</td>\n      <td>23.47</td>\n      <td>5</td>\n      <td>2.9</td>\n      <td>2009-12-31T17:27:45.8Z</td>\n      <td>2009-12-31 17:27:45.800</td>\n      <td>Thursday</td>\n    </tr>\n    <tr>\n      <th>52255</th>\n      <td>2009</td>\n      <td>DEC</td>\n      <td>31</td>\n      <td>20</td>\n      <td>43</td>\n      <td>12.9</td>\n      <td>36.37</td>\n      <td>21.61</td>\n      <td>11</td>\n      <td>3.2</td>\n      <td>2009-12-31T20:43:12.9Z</td>\n      <td>2009-12-31 20:43:12.900</td>\n      <td>Thursday</td>\n    </tr>\n    <tr>\n      <th>52256</th>\n      <td>2009</td>\n      <td>DEC</td>\n      <td>31</td>\n      <td>20</td>\n      <td>58</td>\n      <td>40.8</td>\n      <td>39.70</td>\n      <td>20.76</td>\n      <td>18</td>\n      <td>2.8</td>\n      <td>2009-12-31T20:58:40.8Z</td>\n      <td>2009-12-31 20:58:40.800</td>\n      <td>Thursday</td>\n    </tr>\n  </tbody>\n</table>\n<p>52257 rows × 13 columns</p>\n</div>"
     },
     "metadata": {},
     "execution_count": 75
    }
   ],
   "source": [
    "df"
   ]
  },
  {
   "source": [
    "set index to datetime"
   ],
   "cell_type": "markdown",
   "metadata": {}
  },
  {
   "cell_type": "code",
   "execution_count": 77,
   "metadata": {},
   "outputs": [],
   "source": [
    "df.set_index('DATETIME', inplace=True)"
   ]
  },
  {
   "cell_type": "code",
   "execution_count": 78,
   "metadata": {},
   "outputs": [
    {
     "output_type": "execute_result",
     "data": {
      "text/plain": [
       "                         YEAR MONTH  DAY  HOUR  MINUTE  SECOND  LATITUDE  \\\n",
       "DATETIME                                                                   \n",
       "2000-01-01 01:19:28.300  2000   JAN    1     1      19    28.3     41.95   \n",
       "2000-01-01 04:02:28.400  2000   JAN    1     4       2    28.4     35.54   \n",
       "2000-01-01 05:13:59.100  2000   JAN    1     5      13    59.1     38.97   \n",
       "2000-01-01 05:17:12.900  2000   JAN    1     5      17    12.9     38.89   \n",
       "2000-01-01 05:56:07.300  2000   JAN    1     5      56     7.3     39.21   \n",
       "...                       ...   ...  ...   ...     ...     ...       ...   \n",
       "2009-12-31 14:24:01.200  2009   DEC   31    14      24     1.2     37.47   \n",
       "2009-12-31 14:50:29.600  2009   DEC   31    14      50    29.6     34.67   \n",
       "2009-12-31 17:27:45.800  2009   DEC   31    17      27    45.8     35.68   \n",
       "2009-12-31 20:43:12.900  2009   DEC   31    20      43    12.9     36.37   \n",
       "2009-12-31 20:58:40.800  2009   DEC   31    20      58    40.8     39.70   \n",
       "\n",
       "                         LONGITUDE  DEPTH  MAGNITUDE                       T  \\\n",
       "DATETIME                                                                       \n",
       "2000-01-01 01:19:28.300      20.63      5        4.8  2000-01-01T01:19:28.3Z   \n",
       "2000-01-01 04:02:28.400      22.76     22        3.7  2000-01-01T04:02:28.4Z   \n",
       "2000-01-01 05:13:59.100      26.10     35        3.3  2000-01-01T05:13:59.1Z   \n",
       "2000-01-01 05:17:12.900      25.85     22        3.3  2000-01-01T05:17:12.9Z   \n",
       "2000-01-01 05:56:07.300      27.30     10        3.6  2000-01-01T05:56:07.3Z   \n",
       "...                            ...    ...        ...                     ...   \n",
       "2009-12-31 14:24:01.200      21.83     21        2.8  2009-12-31T14:24:01.2Z   \n",
       "2009-12-31 14:50:29.600      24.42     15        3.4  2009-12-31T14:50:29.6Z   \n",
       "2009-12-31 17:27:45.800      23.47      5        2.9  2009-12-31T17:27:45.8Z   \n",
       "2009-12-31 20:43:12.900      21.61     11        3.2  2009-12-31T20:43:12.9Z   \n",
       "2009-12-31 20:58:40.800      20.76     18        2.8  2009-12-31T20:58:40.8Z   \n",
       "\n",
       "                         DAY_NAME  \n",
       "DATETIME                           \n",
       "2000-01-01 01:19:28.300  Saturday  \n",
       "2000-01-01 04:02:28.400  Saturday  \n",
       "2000-01-01 05:13:59.100  Saturday  \n",
       "2000-01-01 05:17:12.900  Saturday  \n",
       "2000-01-01 05:56:07.300  Saturday  \n",
       "...                           ...  \n",
       "2009-12-31 14:24:01.200  Thursday  \n",
       "2009-12-31 14:50:29.600  Thursday  \n",
       "2009-12-31 17:27:45.800  Thursday  \n",
       "2009-12-31 20:43:12.900  Thursday  \n",
       "2009-12-31 20:58:40.800  Thursday  \n",
       "\n",
       "[52257 rows x 12 columns]"
      ],
      "text/html": "<div>\n<style scoped>\n    .dataframe tbody tr th:only-of-type {\n        vertical-align: middle;\n    }\n\n    .dataframe tbody tr th {\n        vertical-align: top;\n    }\n\n    .dataframe thead th {\n        text-align: right;\n    }\n</style>\n<table border=\"1\" class=\"dataframe\">\n  <thead>\n    <tr style=\"text-align: right;\">\n      <th></th>\n      <th>YEAR</th>\n      <th>MONTH</th>\n      <th>DAY</th>\n      <th>HOUR</th>\n      <th>MINUTE</th>\n      <th>SECOND</th>\n      <th>LATITUDE</th>\n      <th>LONGITUDE</th>\n      <th>DEPTH</th>\n      <th>MAGNITUDE</th>\n      <th>T</th>\n      <th>DAY_NAME</th>\n    </tr>\n    <tr>\n      <th>DATETIME</th>\n      <th></th>\n      <th></th>\n      <th></th>\n      <th></th>\n      <th></th>\n      <th></th>\n      <th></th>\n      <th></th>\n      <th></th>\n      <th></th>\n      <th></th>\n      <th></th>\n    </tr>\n  </thead>\n  <tbody>\n    <tr>\n      <th>2000-01-01 01:19:28.300</th>\n      <td>2000</td>\n      <td>JAN</td>\n      <td>1</td>\n      <td>1</td>\n      <td>19</td>\n      <td>28.3</td>\n      <td>41.95</td>\n      <td>20.63</td>\n      <td>5</td>\n      <td>4.8</td>\n      <td>2000-01-01T01:19:28.3Z</td>\n      <td>Saturday</td>\n    </tr>\n    <tr>\n      <th>2000-01-01 04:02:28.400</th>\n      <td>2000</td>\n      <td>JAN</td>\n      <td>1</td>\n      <td>4</td>\n      <td>2</td>\n      <td>28.4</td>\n      <td>35.54</td>\n      <td>22.76</td>\n      <td>22</td>\n      <td>3.7</td>\n      <td>2000-01-01T04:02:28.4Z</td>\n      <td>Saturday</td>\n    </tr>\n    <tr>\n      <th>2000-01-01 05:13:59.100</th>\n      <td>2000</td>\n      <td>JAN</td>\n      <td>1</td>\n      <td>5</td>\n      <td>13</td>\n      <td>59.1</td>\n      <td>38.97</td>\n      <td>26.10</td>\n      <td>35</td>\n      <td>3.3</td>\n      <td>2000-01-01T05:13:59.1Z</td>\n      <td>Saturday</td>\n    </tr>\n    <tr>\n      <th>2000-01-01 05:17:12.900</th>\n      <td>2000</td>\n      <td>JAN</td>\n      <td>1</td>\n      <td>5</td>\n      <td>17</td>\n      <td>12.9</td>\n      <td>38.89</td>\n      <td>25.85</td>\n      <td>22</td>\n      <td>3.3</td>\n      <td>2000-01-01T05:17:12.9Z</td>\n      <td>Saturday</td>\n    </tr>\n    <tr>\n      <th>2000-01-01 05:56:07.300</th>\n      <td>2000</td>\n      <td>JAN</td>\n      <td>1</td>\n      <td>5</td>\n      <td>56</td>\n      <td>7.3</td>\n      <td>39.21</td>\n      <td>27.30</td>\n      <td>10</td>\n      <td>3.6</td>\n      <td>2000-01-01T05:56:07.3Z</td>\n      <td>Saturday</td>\n    </tr>\n    <tr>\n      <th>...</th>\n      <td>...</td>\n      <td>...</td>\n      <td>...</td>\n      <td>...</td>\n      <td>...</td>\n      <td>...</td>\n      <td>...</td>\n      <td>...</td>\n      <td>...</td>\n      <td>...</td>\n      <td>...</td>\n      <td>...</td>\n    </tr>\n    <tr>\n      <th>2009-12-31 14:24:01.200</th>\n      <td>2009</td>\n      <td>DEC</td>\n      <td>31</td>\n      <td>14</td>\n      <td>24</td>\n      <td>1.2</td>\n      <td>37.47</td>\n      <td>21.83</td>\n      <td>21</td>\n      <td>2.8</td>\n      <td>2009-12-31T14:24:01.2Z</td>\n      <td>Thursday</td>\n    </tr>\n    <tr>\n      <th>2009-12-31 14:50:29.600</th>\n      <td>2009</td>\n      <td>DEC</td>\n      <td>31</td>\n      <td>14</td>\n      <td>50</td>\n      <td>29.6</td>\n      <td>34.67</td>\n      <td>24.42</td>\n      <td>15</td>\n      <td>3.4</td>\n      <td>2009-12-31T14:50:29.6Z</td>\n      <td>Thursday</td>\n    </tr>\n    <tr>\n      <th>2009-12-31 17:27:45.800</th>\n      <td>2009</td>\n      <td>DEC</td>\n      <td>31</td>\n      <td>17</td>\n      <td>27</td>\n      <td>45.8</td>\n      <td>35.68</td>\n      <td>23.47</td>\n      <td>5</td>\n      <td>2.9</td>\n      <td>2009-12-31T17:27:45.8Z</td>\n      <td>Thursday</td>\n    </tr>\n    <tr>\n      <th>2009-12-31 20:43:12.900</th>\n      <td>2009</td>\n      <td>DEC</td>\n      <td>31</td>\n      <td>20</td>\n      <td>43</td>\n      <td>12.9</td>\n      <td>36.37</td>\n      <td>21.61</td>\n      <td>11</td>\n      <td>3.2</td>\n      <td>2009-12-31T20:43:12.9Z</td>\n      <td>Thursday</td>\n    </tr>\n    <tr>\n      <th>2009-12-31 20:58:40.800</th>\n      <td>2009</td>\n      <td>DEC</td>\n      <td>31</td>\n      <td>20</td>\n      <td>58</td>\n      <td>40.8</td>\n      <td>39.70</td>\n      <td>20.76</td>\n      <td>18</td>\n      <td>2.8</td>\n      <td>2009-12-31T20:58:40.8Z</td>\n      <td>Thursday</td>\n    </tr>\n  </tbody>\n</table>\n<p>52257 rows × 12 columns</p>\n</div>"
     },
     "metadata": {},
     "execution_count": 78
    }
   ],
   "source": [
    "df"
   ]
  },
  {
   "cell_type": "code",
   "execution_count": 87,
   "metadata": {},
   "outputs": [
    {
     "output_type": "execute_result",
     "data": {
      "text/plain": [
       "                         YEAR MONTH  DAY  HOUR  MINUTE  SECOND  LATITUDE  \\\n",
       "DATETIME                                                                   \n",
       "2004-01-01 00:32:01.300  2004   JAN    1     0      32     1.3     37.76   \n",
       "2004-01-01 01:43:44.000  2004   JAN    1     1      43    44.0     38.38   \n",
       "2004-01-01 03:14:36.400  2004   JAN    1     3      14    36.4     38.54   \n",
       "2004-01-01 07:07:04.800  2004   JAN    1     7       7     4.8     34.35   \n",
       "2004-01-01 09:07:47.800  2004   JAN    1     9       7    47.8     38.39   \n",
       "...                       ...   ...  ...   ...     ...     ...       ...   \n",
       "2004-12-31 13:59:59.900  2004   DEC   31    13      59    59.9     37.11   \n",
       "2004-12-31 14:29:28.300  2004   DEC   31    14      29    28.3     40.49   \n",
       "2004-12-31 16:03:25.100  2004   DEC   31    16       3    25.1     38.44   \n",
       "2004-12-31 20:43:25.800  2004   DEC   31    20      43    25.8     37.32   \n",
       "2004-12-31 20:50:54.100  2004   DEC   31    20      50    54.1     38.92   \n",
       "\n",
       "                         LONGITUDE  DEPTH  MAGNITUDE                       T  \\\n",
       "DATETIME                                                                       \n",
       "2004-01-01 00:32:01.300      21.07      5        3.4  2004-01-01T00:32:01.3Z   \n",
       "2004-01-01 01:43:44.000      21.54     42        3.1  2004-01-01T01:43:44.0Z   \n",
       "2004-01-01 03:14:36.400      20.64      5        3.3  2004-01-01T03:14:36.4Z   \n",
       "2004-01-01 07:07:04.800      25.47     24        3.9  2004-01-01T07:07:04.8Z   \n",
       "2004-01-01 09:07:47.800      21.89      5        3.0  2004-01-01T09:07:47.8Z   \n",
       "...                            ...    ...        ...                     ...   \n",
       "2004-12-31 13:59:59.900      28.24     18        3.6  2004-12-31T13:59:59.9Z   \n",
       "2004-12-31 14:29:28.300      22.38     32        3.3  2004-12-31T14:29:28.3Z   \n",
       "2004-12-31 16:03:25.100      19.75     12        3.4  2004-12-31T16:03:25.1Z   \n",
       "2004-12-31 20:43:25.800      20.19      8        3.6  2004-12-31T20:43:25.8Z   \n",
       "2004-12-31 20:50:54.100      21.08     10        2.7  2004-12-31T20:50:54.1Z   \n",
       "\n",
       "                         DAY_NAME  \n",
       "DATETIME                           \n",
       "2004-01-01 00:32:01.300  Thursday  \n",
       "2004-01-01 01:43:44.000  Thursday  \n",
       "2004-01-01 03:14:36.400  Thursday  \n",
       "2004-01-01 07:07:04.800  Thursday  \n",
       "2004-01-01 09:07:47.800  Thursday  \n",
       "...                           ...  \n",
       "2004-12-31 13:59:59.900    Friday  \n",
       "2004-12-31 14:29:28.300    Friday  \n",
       "2004-12-31 16:03:25.100    Friday  \n",
       "2004-12-31 20:43:25.800    Friday  \n",
       "2004-12-31 20:50:54.100    Friday  \n",
       "\n",
       "[3439 rows x 12 columns]"
      ],
      "text/html": "<div>\n<style scoped>\n    .dataframe tbody tr th:only-of-type {\n        vertical-align: middle;\n    }\n\n    .dataframe tbody tr th {\n        vertical-align: top;\n    }\n\n    .dataframe thead th {\n        text-align: right;\n    }\n</style>\n<table border=\"1\" class=\"dataframe\">\n  <thead>\n    <tr style=\"text-align: right;\">\n      <th></th>\n      <th>YEAR</th>\n      <th>MONTH</th>\n      <th>DAY</th>\n      <th>HOUR</th>\n      <th>MINUTE</th>\n      <th>SECOND</th>\n      <th>LATITUDE</th>\n      <th>LONGITUDE</th>\n      <th>DEPTH</th>\n      <th>MAGNITUDE</th>\n      <th>T</th>\n      <th>DAY_NAME</th>\n    </tr>\n    <tr>\n      <th>DATETIME</th>\n      <th></th>\n      <th></th>\n      <th></th>\n      <th></th>\n      <th></th>\n      <th></th>\n      <th></th>\n      <th></th>\n      <th></th>\n      <th></th>\n      <th></th>\n      <th></th>\n    </tr>\n  </thead>\n  <tbody>\n    <tr>\n      <th>2004-01-01 00:32:01.300</th>\n      <td>2004</td>\n      <td>JAN</td>\n      <td>1</td>\n      <td>0</td>\n      <td>32</td>\n      <td>1.3</td>\n      <td>37.76</td>\n      <td>21.07</td>\n      <td>5</td>\n      <td>3.4</td>\n      <td>2004-01-01T00:32:01.3Z</td>\n      <td>Thursday</td>\n    </tr>\n    <tr>\n      <th>2004-01-01 01:43:44.000</th>\n      <td>2004</td>\n      <td>JAN</td>\n      <td>1</td>\n      <td>1</td>\n      <td>43</td>\n      <td>44.0</td>\n      <td>38.38</td>\n      <td>21.54</td>\n      <td>42</td>\n      <td>3.1</td>\n      <td>2004-01-01T01:43:44.0Z</td>\n      <td>Thursday</td>\n    </tr>\n    <tr>\n      <th>2004-01-01 03:14:36.400</th>\n      <td>2004</td>\n      <td>JAN</td>\n      <td>1</td>\n      <td>3</td>\n      <td>14</td>\n      <td>36.4</td>\n      <td>38.54</td>\n      <td>20.64</td>\n      <td>5</td>\n      <td>3.3</td>\n      <td>2004-01-01T03:14:36.4Z</td>\n      <td>Thursday</td>\n    </tr>\n    <tr>\n      <th>2004-01-01 07:07:04.800</th>\n      <td>2004</td>\n      <td>JAN</td>\n      <td>1</td>\n      <td>7</td>\n      <td>7</td>\n      <td>4.8</td>\n      <td>34.35</td>\n      <td>25.47</td>\n      <td>24</td>\n      <td>3.9</td>\n      <td>2004-01-01T07:07:04.8Z</td>\n      <td>Thursday</td>\n    </tr>\n    <tr>\n      <th>2004-01-01 09:07:47.800</th>\n      <td>2004</td>\n      <td>JAN</td>\n      <td>1</td>\n      <td>9</td>\n      <td>7</td>\n      <td>47.8</td>\n      <td>38.39</td>\n      <td>21.89</td>\n      <td>5</td>\n      <td>3.0</td>\n      <td>2004-01-01T09:07:47.8Z</td>\n      <td>Thursday</td>\n    </tr>\n    <tr>\n      <th>...</th>\n      <td>...</td>\n      <td>...</td>\n      <td>...</td>\n      <td>...</td>\n      <td>...</td>\n      <td>...</td>\n      <td>...</td>\n      <td>...</td>\n      <td>...</td>\n      <td>...</td>\n      <td>...</td>\n      <td>...</td>\n    </tr>\n    <tr>\n      <th>2004-12-31 13:59:59.900</th>\n      <td>2004</td>\n      <td>DEC</td>\n      <td>31</td>\n      <td>13</td>\n      <td>59</td>\n      <td>59.9</td>\n      <td>37.11</td>\n      <td>28.24</td>\n      <td>18</td>\n      <td>3.6</td>\n      <td>2004-12-31T13:59:59.9Z</td>\n      <td>Friday</td>\n    </tr>\n    <tr>\n      <th>2004-12-31 14:29:28.300</th>\n      <td>2004</td>\n      <td>DEC</td>\n      <td>31</td>\n      <td>14</td>\n      <td>29</td>\n      <td>28.3</td>\n      <td>40.49</td>\n      <td>22.38</td>\n      <td>32</td>\n      <td>3.3</td>\n      <td>2004-12-31T14:29:28.3Z</td>\n      <td>Friday</td>\n    </tr>\n    <tr>\n      <th>2004-12-31 16:03:25.100</th>\n      <td>2004</td>\n      <td>DEC</td>\n      <td>31</td>\n      <td>16</td>\n      <td>3</td>\n      <td>25.1</td>\n      <td>38.44</td>\n      <td>19.75</td>\n      <td>12</td>\n      <td>3.4</td>\n      <td>2004-12-31T16:03:25.1Z</td>\n      <td>Friday</td>\n    </tr>\n    <tr>\n      <th>2004-12-31 20:43:25.800</th>\n      <td>2004</td>\n      <td>DEC</td>\n      <td>31</td>\n      <td>20</td>\n      <td>43</td>\n      <td>25.8</td>\n      <td>37.32</td>\n      <td>20.19</td>\n      <td>8</td>\n      <td>3.6</td>\n      <td>2004-12-31T20:43:25.8Z</td>\n      <td>Friday</td>\n    </tr>\n    <tr>\n      <th>2004-12-31 20:50:54.100</th>\n      <td>2004</td>\n      <td>DEC</td>\n      <td>31</td>\n      <td>20</td>\n      <td>50</td>\n      <td>54.1</td>\n      <td>38.92</td>\n      <td>21.08</td>\n      <td>10</td>\n      <td>2.7</td>\n      <td>2004-12-31T20:50:54.1Z</td>\n      <td>Friday</td>\n    </tr>\n  </tbody>\n</table>\n<p>3439 rows × 12 columns</p>\n</div>"
     },
     "metadata": {},
     "execution_count": 87
    }
   ],
   "source": [
    "df.loc['2004']"
   ]
  },
  {
   "cell_type": "code",
   "execution_count": 88,
   "metadata": {},
   "outputs": [
    {
     "output_type": "execute_result",
     "data": {
      "text/plain": [
       "                         YEAR MONTH  DAY  HOUR  MINUTE  SECOND  LATITUDE  \\\n",
       "DATETIME                                                                   \n",
       "2004-01-01 00:32:01.300  2004   JAN    1     0      32     1.3     37.76   \n",
       "2004-01-01 01:43:44.000  2004   JAN    1     1      43    44.0     38.38   \n",
       "2004-01-01 03:14:36.400  2004   JAN    1     3      14    36.4     38.54   \n",
       "2004-01-01 07:07:04.800  2004   JAN    1     7       7     4.8     34.35   \n",
       "2004-01-01 09:07:47.800  2004   JAN    1     9       7    47.8     38.39   \n",
       "...                       ...   ...  ...   ...     ...     ...       ...   \n",
       "2004-12-31 13:59:59.900  2004   DEC   31    13      59    59.9     37.11   \n",
       "2004-12-31 14:29:28.300  2004   DEC   31    14      29    28.3     40.49   \n",
       "2004-12-31 16:03:25.100  2004   DEC   31    16       3    25.1     38.44   \n",
       "2004-12-31 20:43:25.800  2004   DEC   31    20      43    25.8     37.32   \n",
       "2004-12-31 20:50:54.100  2004   DEC   31    20      50    54.1     38.92   \n",
       "\n",
       "                         LONGITUDE  DEPTH  MAGNITUDE                       T  \\\n",
       "DATETIME                                                                       \n",
       "2004-01-01 00:32:01.300      21.07      5        3.4  2004-01-01T00:32:01.3Z   \n",
       "2004-01-01 01:43:44.000      21.54     42        3.1  2004-01-01T01:43:44.0Z   \n",
       "2004-01-01 03:14:36.400      20.64      5        3.3  2004-01-01T03:14:36.4Z   \n",
       "2004-01-01 07:07:04.800      25.47     24        3.9  2004-01-01T07:07:04.8Z   \n",
       "2004-01-01 09:07:47.800      21.89      5        3.0  2004-01-01T09:07:47.8Z   \n",
       "...                            ...    ...        ...                     ...   \n",
       "2004-12-31 13:59:59.900      28.24     18        3.6  2004-12-31T13:59:59.9Z   \n",
       "2004-12-31 14:29:28.300      22.38     32        3.3  2004-12-31T14:29:28.3Z   \n",
       "2004-12-31 16:03:25.100      19.75     12        3.4  2004-12-31T16:03:25.1Z   \n",
       "2004-12-31 20:43:25.800      20.19      8        3.6  2004-12-31T20:43:25.8Z   \n",
       "2004-12-31 20:50:54.100      21.08     10        2.7  2004-12-31T20:50:54.1Z   \n",
       "\n",
       "                         DAY_NAME  \n",
       "DATETIME                           \n",
       "2004-01-01 00:32:01.300  Thursday  \n",
       "2004-01-01 01:43:44.000  Thursday  \n",
       "2004-01-01 03:14:36.400  Thursday  \n",
       "2004-01-01 07:07:04.800  Thursday  \n",
       "2004-01-01 09:07:47.800  Thursday  \n",
       "...                           ...  \n",
       "2004-12-31 13:59:59.900    Friday  \n",
       "2004-12-31 14:29:28.300    Friday  \n",
       "2004-12-31 16:03:25.100    Friday  \n",
       "2004-12-31 20:43:25.800    Friday  \n",
       "2004-12-31 20:50:54.100    Friday  \n",
       "\n",
       "[3439 rows x 12 columns]"
      ],
      "text/html": "<div>\n<style scoped>\n    .dataframe tbody tr th:only-of-type {\n        vertical-align: middle;\n    }\n\n    .dataframe tbody tr th {\n        vertical-align: top;\n    }\n\n    .dataframe thead th {\n        text-align: right;\n    }\n</style>\n<table border=\"1\" class=\"dataframe\">\n  <thead>\n    <tr style=\"text-align: right;\">\n      <th></th>\n      <th>YEAR</th>\n      <th>MONTH</th>\n      <th>DAY</th>\n      <th>HOUR</th>\n      <th>MINUTE</th>\n      <th>SECOND</th>\n      <th>LATITUDE</th>\n      <th>LONGITUDE</th>\n      <th>DEPTH</th>\n      <th>MAGNITUDE</th>\n      <th>T</th>\n      <th>DAY_NAME</th>\n    </tr>\n    <tr>\n      <th>DATETIME</th>\n      <th></th>\n      <th></th>\n      <th></th>\n      <th></th>\n      <th></th>\n      <th></th>\n      <th></th>\n      <th></th>\n      <th></th>\n      <th></th>\n      <th></th>\n      <th></th>\n    </tr>\n  </thead>\n  <tbody>\n    <tr>\n      <th>2004-01-01 00:32:01.300</th>\n      <td>2004</td>\n      <td>JAN</td>\n      <td>1</td>\n      <td>0</td>\n      <td>32</td>\n      <td>1.3</td>\n      <td>37.76</td>\n      <td>21.07</td>\n      <td>5</td>\n      <td>3.4</td>\n      <td>2004-01-01T00:32:01.3Z</td>\n      <td>Thursday</td>\n    </tr>\n    <tr>\n      <th>2004-01-01 01:43:44.000</th>\n      <td>2004</td>\n      <td>JAN</td>\n      <td>1</td>\n      <td>1</td>\n      <td>43</td>\n      <td>44.0</td>\n      <td>38.38</td>\n      <td>21.54</td>\n      <td>42</td>\n      <td>3.1</td>\n      <td>2004-01-01T01:43:44.0Z</td>\n      <td>Thursday</td>\n    </tr>\n    <tr>\n      <th>2004-01-01 03:14:36.400</th>\n      <td>2004</td>\n      <td>JAN</td>\n      <td>1</td>\n      <td>3</td>\n      <td>14</td>\n      <td>36.4</td>\n      <td>38.54</td>\n      <td>20.64</td>\n      <td>5</td>\n      <td>3.3</td>\n      <td>2004-01-01T03:14:36.4Z</td>\n      <td>Thursday</td>\n    </tr>\n    <tr>\n      <th>2004-01-01 07:07:04.800</th>\n      <td>2004</td>\n      <td>JAN</td>\n      <td>1</td>\n      <td>7</td>\n      <td>7</td>\n      <td>4.8</td>\n      <td>34.35</td>\n      <td>25.47</td>\n      <td>24</td>\n      <td>3.9</td>\n      <td>2004-01-01T07:07:04.8Z</td>\n      <td>Thursday</td>\n    </tr>\n    <tr>\n      <th>2004-01-01 09:07:47.800</th>\n      <td>2004</td>\n      <td>JAN</td>\n      <td>1</td>\n      <td>9</td>\n      <td>7</td>\n      <td>47.8</td>\n      <td>38.39</td>\n      <td>21.89</td>\n      <td>5</td>\n      <td>3.0</td>\n      <td>2004-01-01T09:07:47.8Z</td>\n      <td>Thursday</td>\n    </tr>\n    <tr>\n      <th>...</th>\n      <td>...</td>\n      <td>...</td>\n      <td>...</td>\n      <td>...</td>\n      <td>...</td>\n      <td>...</td>\n      <td>...</td>\n      <td>...</td>\n      <td>...</td>\n      <td>...</td>\n      <td>...</td>\n      <td>...</td>\n    </tr>\n    <tr>\n      <th>2004-12-31 13:59:59.900</th>\n      <td>2004</td>\n      <td>DEC</td>\n      <td>31</td>\n      <td>13</td>\n      <td>59</td>\n      <td>59.9</td>\n      <td>37.11</td>\n      <td>28.24</td>\n      <td>18</td>\n      <td>3.6</td>\n      <td>2004-12-31T13:59:59.9Z</td>\n      <td>Friday</td>\n    </tr>\n    <tr>\n      <th>2004-12-31 14:29:28.300</th>\n      <td>2004</td>\n      <td>DEC</td>\n      <td>31</td>\n      <td>14</td>\n      <td>29</td>\n      <td>28.3</td>\n      <td>40.49</td>\n      <td>22.38</td>\n      <td>32</td>\n      <td>3.3</td>\n      <td>2004-12-31T14:29:28.3Z</td>\n      <td>Friday</td>\n    </tr>\n    <tr>\n      <th>2004-12-31 16:03:25.100</th>\n      <td>2004</td>\n      <td>DEC</td>\n      <td>31</td>\n      <td>16</td>\n      <td>3</td>\n      <td>25.1</td>\n      <td>38.44</td>\n      <td>19.75</td>\n      <td>12</td>\n      <td>3.4</td>\n      <td>2004-12-31T16:03:25.1Z</td>\n      <td>Friday</td>\n    </tr>\n    <tr>\n      <th>2004-12-31 20:43:25.800</th>\n      <td>2004</td>\n      <td>DEC</td>\n      <td>31</td>\n      <td>20</td>\n      <td>43</td>\n      <td>25.8</td>\n      <td>37.32</td>\n      <td>20.19</td>\n      <td>8</td>\n      <td>3.6</td>\n      <td>2004-12-31T20:43:25.8Z</td>\n      <td>Friday</td>\n    </tr>\n    <tr>\n      <th>2004-12-31 20:50:54.100</th>\n      <td>2004</td>\n      <td>DEC</td>\n      <td>31</td>\n      <td>20</td>\n      <td>50</td>\n      <td>54.1</td>\n      <td>38.92</td>\n      <td>21.08</td>\n      <td>10</td>\n      <td>2.7</td>\n      <td>2004-12-31T20:50:54.1Z</td>\n      <td>Friday</td>\n    </tr>\n  </tbody>\n</table>\n<p>3439 rows × 12 columns</p>\n</div>"
     },
     "metadata": {},
     "execution_count": 88
    }
   ],
   "source": [
    "df['2004']"
   ]
  },
  {
   "source": [
    "specific range: with slice"
   ],
   "cell_type": "markdown",
   "metadata": {}
  },
  {
   "cell_type": "code",
   "execution_count": 89,
   "metadata": {},
   "outputs": [
    {
     "output_type": "execute_result",
     "data": {
      "text/plain": [
       "                         YEAR MONTH  DAY  HOUR  MINUTE  SECOND  LATITUDE  \\\n",
       "DATETIME                                                                   \n",
       "2004-07-01 05:35:36.300  2004   JUL    1     5      35    36.3     36.32   \n",
       "2004-07-01 06:33:10.800  2004   JUL    1     6      33    10.8     34.80   \n",
       "2004-07-01 07:13:28.000  2004   JUL    1     7      13    28.0     36.05   \n",
       "2004-07-01 08:41:04.800  2004   JUL    1     8      41     4.8     34.95   \n",
       "2004-07-01 10:49:59.800  2004   JUL    1    10      49    59.8     40.89   \n",
       "...                       ...   ...  ...   ...     ...     ...       ...   \n",
       "2004-08-31 09:51:48.800  2004   AUG   31     9      51    48.8     38.91   \n",
       "2004-08-31 12:04:37.300  2004   AUG   31    12       4    37.3     35.02   \n",
       "2004-08-31 13:38:22.400  2004   AUG   31    13      38    22.4     36.37   \n",
       "2004-08-31 20:23:09.000  2004   AUG   31    20      23     9.0     38.56   \n",
       "2004-08-31 21:26:45.900  2004   AUG   31    21      26    45.9     36.83   \n",
       "\n",
       "                         LONGITUDE  DEPTH  MAGNITUDE                       T  \\\n",
       "DATETIME                                                                       \n",
       "2004-07-01 05:35:36.300      22.80     10        3.2  2004-07-01T05:35:36.3Z   \n",
       "2004-07-01 06:33:10.800      24.75     38        3.1  2004-07-01T06:33:10.8Z   \n",
       "2004-07-01 07:13:28.000      27.38     13        2.8  2004-07-01T07:13:28.0Z   \n",
       "2004-07-01 08:41:04.800      25.69     11        2.8  2004-07-01T08:41:04.8Z   \n",
       "2004-07-01 10:49:59.800      26.03      5        3.7  2004-07-01T10:49:59.8Z   \n",
       "...                            ...    ...        ...                     ...   \n",
       "2004-08-31 09:51:48.800      22.14     18        3.3  2004-08-31T09:51:48.8Z   \n",
       "2004-08-31 12:04:37.300      25.82     13        3.0  2004-08-31T12:04:37.3Z   \n",
       "2004-08-31 13:38:22.400      21.70     10        3.4  2004-08-31T13:38:22.4Z   \n",
       "2004-08-31 20:23:09.000      23.49      4        2.6  2004-08-31T20:23:09.0Z   \n",
       "2004-08-31 21:26:45.900      22.01      5        3.1  2004-08-31T21:26:45.9Z   \n",
       "\n",
       "                         DAY_NAME  \n",
       "DATETIME                           \n",
       "2004-07-01 05:35:36.300  Thursday  \n",
       "2004-07-01 06:33:10.800  Thursday  \n",
       "2004-07-01 07:13:28.000  Thursday  \n",
       "2004-07-01 08:41:04.800  Thursday  \n",
       "2004-07-01 10:49:59.800  Thursday  \n",
       "...                           ...  \n",
       "2004-08-31 09:51:48.800   Tuesday  \n",
       "2004-08-31 12:04:37.300   Tuesday  \n",
       "2004-08-31 13:38:22.400   Tuesday  \n",
       "2004-08-31 20:23:09.000   Tuesday  \n",
       "2004-08-31 21:26:45.900   Tuesday  \n",
       "\n",
       "[802 rows x 12 columns]"
      ],
      "text/html": "<div>\n<style scoped>\n    .dataframe tbody tr th:only-of-type {\n        vertical-align: middle;\n    }\n\n    .dataframe tbody tr th {\n        vertical-align: top;\n    }\n\n    .dataframe thead th {\n        text-align: right;\n    }\n</style>\n<table border=\"1\" class=\"dataframe\">\n  <thead>\n    <tr style=\"text-align: right;\">\n      <th></th>\n      <th>YEAR</th>\n      <th>MONTH</th>\n      <th>DAY</th>\n      <th>HOUR</th>\n      <th>MINUTE</th>\n      <th>SECOND</th>\n      <th>LATITUDE</th>\n      <th>LONGITUDE</th>\n      <th>DEPTH</th>\n      <th>MAGNITUDE</th>\n      <th>T</th>\n      <th>DAY_NAME</th>\n    </tr>\n    <tr>\n      <th>DATETIME</th>\n      <th></th>\n      <th></th>\n      <th></th>\n      <th></th>\n      <th></th>\n      <th></th>\n      <th></th>\n      <th></th>\n      <th></th>\n      <th></th>\n      <th></th>\n      <th></th>\n    </tr>\n  </thead>\n  <tbody>\n    <tr>\n      <th>2004-07-01 05:35:36.300</th>\n      <td>2004</td>\n      <td>JUL</td>\n      <td>1</td>\n      <td>5</td>\n      <td>35</td>\n      <td>36.3</td>\n      <td>36.32</td>\n      <td>22.80</td>\n      <td>10</td>\n      <td>3.2</td>\n      <td>2004-07-01T05:35:36.3Z</td>\n      <td>Thursday</td>\n    </tr>\n    <tr>\n      <th>2004-07-01 06:33:10.800</th>\n      <td>2004</td>\n      <td>JUL</td>\n      <td>1</td>\n      <td>6</td>\n      <td>33</td>\n      <td>10.8</td>\n      <td>34.80</td>\n      <td>24.75</td>\n      <td>38</td>\n      <td>3.1</td>\n      <td>2004-07-01T06:33:10.8Z</td>\n      <td>Thursday</td>\n    </tr>\n    <tr>\n      <th>2004-07-01 07:13:28.000</th>\n      <td>2004</td>\n      <td>JUL</td>\n      <td>1</td>\n      <td>7</td>\n      <td>13</td>\n      <td>28.0</td>\n      <td>36.05</td>\n      <td>27.38</td>\n      <td>13</td>\n      <td>2.8</td>\n      <td>2004-07-01T07:13:28.0Z</td>\n      <td>Thursday</td>\n    </tr>\n    <tr>\n      <th>2004-07-01 08:41:04.800</th>\n      <td>2004</td>\n      <td>JUL</td>\n      <td>1</td>\n      <td>8</td>\n      <td>41</td>\n      <td>4.8</td>\n      <td>34.95</td>\n      <td>25.69</td>\n      <td>11</td>\n      <td>2.8</td>\n      <td>2004-07-01T08:41:04.8Z</td>\n      <td>Thursday</td>\n    </tr>\n    <tr>\n      <th>2004-07-01 10:49:59.800</th>\n      <td>2004</td>\n      <td>JUL</td>\n      <td>1</td>\n      <td>10</td>\n      <td>49</td>\n      <td>59.8</td>\n      <td>40.89</td>\n      <td>26.03</td>\n      <td>5</td>\n      <td>3.7</td>\n      <td>2004-07-01T10:49:59.8Z</td>\n      <td>Thursday</td>\n    </tr>\n    <tr>\n      <th>...</th>\n      <td>...</td>\n      <td>...</td>\n      <td>...</td>\n      <td>...</td>\n      <td>...</td>\n      <td>...</td>\n      <td>...</td>\n      <td>...</td>\n      <td>...</td>\n      <td>...</td>\n      <td>...</td>\n      <td>...</td>\n    </tr>\n    <tr>\n      <th>2004-08-31 09:51:48.800</th>\n      <td>2004</td>\n      <td>AUG</td>\n      <td>31</td>\n      <td>9</td>\n      <td>51</td>\n      <td>48.8</td>\n      <td>38.91</td>\n      <td>22.14</td>\n      <td>18</td>\n      <td>3.3</td>\n      <td>2004-08-31T09:51:48.8Z</td>\n      <td>Tuesday</td>\n    </tr>\n    <tr>\n      <th>2004-08-31 12:04:37.300</th>\n      <td>2004</td>\n      <td>AUG</td>\n      <td>31</td>\n      <td>12</td>\n      <td>4</td>\n      <td>37.3</td>\n      <td>35.02</td>\n      <td>25.82</td>\n      <td>13</td>\n      <td>3.0</td>\n      <td>2004-08-31T12:04:37.3Z</td>\n      <td>Tuesday</td>\n    </tr>\n    <tr>\n      <th>2004-08-31 13:38:22.400</th>\n      <td>2004</td>\n      <td>AUG</td>\n      <td>31</td>\n      <td>13</td>\n      <td>38</td>\n      <td>22.4</td>\n      <td>36.37</td>\n      <td>21.70</td>\n      <td>10</td>\n      <td>3.4</td>\n      <td>2004-08-31T13:38:22.4Z</td>\n      <td>Tuesday</td>\n    </tr>\n    <tr>\n      <th>2004-08-31 20:23:09.000</th>\n      <td>2004</td>\n      <td>AUG</td>\n      <td>31</td>\n      <td>20</td>\n      <td>23</td>\n      <td>9.0</td>\n      <td>38.56</td>\n      <td>23.49</td>\n      <td>4</td>\n      <td>2.6</td>\n      <td>2004-08-31T20:23:09.0Z</td>\n      <td>Tuesday</td>\n    </tr>\n    <tr>\n      <th>2004-08-31 21:26:45.900</th>\n      <td>2004</td>\n      <td>AUG</td>\n      <td>31</td>\n      <td>21</td>\n      <td>26</td>\n      <td>45.9</td>\n      <td>36.83</td>\n      <td>22.01</td>\n      <td>5</td>\n      <td>3.1</td>\n      <td>2004-08-31T21:26:45.9Z</td>\n      <td>Tuesday</td>\n    </tr>\n  </tbody>\n</table>\n<p>802 rows × 12 columns</p>\n</div>"
     },
     "metadata": {},
     "execution_count": 89
    }
   ],
   "source": [
    "df['2004-07':'2004-08']"
   ]
  },
  {
   "source": [
    "let's say i want the median of earthquake magnitudes for the above time period"
   ],
   "cell_type": "markdown",
   "metadata": {}
  },
  {
   "cell_type": "code",
   "execution_count": 90,
   "metadata": {},
   "outputs": [
    {
     "output_type": "execute_result",
     "data": {
      "text/plain": [
       "DATETIME\n",
       "2004-07-01 05:35:36.300    3.2\n",
       "2004-07-01 06:33:10.800    3.1\n",
       "2004-07-01 07:13:28.000    2.8\n",
       "2004-07-01 08:41:04.800    2.8\n",
       "2004-07-01 10:49:59.800    3.7\n",
       "                          ... \n",
       "2004-08-31 09:51:48.800    3.3\n",
       "2004-08-31 12:04:37.300    3.0\n",
       "2004-08-31 13:38:22.400    3.4\n",
       "2004-08-31 20:23:09.000    2.6\n",
       "2004-08-31 21:26:45.900    3.1\n",
       "Name: MAGNITUDE, Length: 802, dtype: float64"
      ]
     },
     "metadata": {},
     "execution_count": 90
    }
   ],
   "source": [
    "df['2004-07':'2004-08']['MAGNITUDE']"
   ]
  },
  {
   "cell_type": "code",
   "execution_count": 91,
   "metadata": {},
   "outputs": [
    {
     "output_type": "execute_result",
     "data": {
      "text/plain": [
       "3.2"
      ]
     },
     "metadata": {},
     "execution_count": 91
    }
   ],
   "source": [
    "df['2004-07':'2004-08']['MAGNITUDE'].median()"
   ]
  },
  {
   "cell_type": "code",
   "execution_count": 92,
   "metadata": {},
   "outputs": [
    {
     "output_type": "execute_result",
     "data": {
      "text/plain": [
       "DATETIME\n",
       "2004-07-01 05:35:36.300    3.2\n",
       "2004-07-01 06:33:10.800    3.1\n",
       "2004-07-01 07:13:28.000    2.8\n",
       "2004-07-01 08:41:04.800    2.8\n",
       "2004-07-01 10:49:59.800    3.7\n",
       "                          ... \n",
       "2004-08-31 09:51:48.800    3.3\n",
       "2004-08-31 12:04:37.300    3.0\n",
       "2004-08-31 13:38:22.400    3.4\n",
       "2004-08-31 20:23:09.000    2.6\n",
       "2004-08-31 21:26:45.900    3.1\n",
       "Name: MAGNITUDE, Length: 802, dtype: float64"
      ]
     },
     "metadata": {},
     "execution_count": 92
    }
   ],
   "source": [
    "df.loc['2004-07':'2004-08', 'MAGNITUDE']"
   ]
  },
  {
   "cell_type": "code",
   "execution_count": 93,
   "metadata": {},
   "outputs": [
    {
     "output_type": "execute_result",
     "data": {
      "text/plain": [
       "3.2"
      ]
     },
     "metadata": {},
     "execution_count": 93
    }
   ],
   "source": [
    "df.loc['2004-07':'2004-08', 'MAGNITUDE'].median()"
   ]
  },
  {
   "cell_type": "code",
   "execution_count": 94,
   "metadata": {},
   "outputs": [
    {
     "output_type": "execute_result",
     "data": {
      "text/plain": [
       "DATETIME\n",
       "2004-07-01 05:35:36.300    4.2\n",
       "2004-07-01 06:33:10.800    4.1\n",
       "2004-07-01 07:13:28.000    3.8\n",
       "2004-07-01 08:41:04.800    3.8\n",
       "2004-07-01 10:49:59.800    4.7\n",
       "                          ... \n",
       "2004-08-31 09:51:48.800    4.3\n",
       "2004-08-31 12:04:37.300    4.0\n",
       "2004-08-31 13:38:22.400    4.4\n",
       "2004-08-31 20:23:09.000    3.6\n",
       "2004-08-31 21:26:45.900    4.1\n",
       "Name: MAGNITUDE, Length: 802, dtype: float64"
      ]
     },
     "metadata": {},
     "execution_count": 94
    }
   ],
   "source": [
    "df.loc['2004-07':'2004-08', 'MAGNITUDE'].apply(lambda x: x+1)"
   ]
  },
  {
   "cell_type": "code",
   "execution_count": 115,
   "metadata": {},
   "outputs": [],
   "source": [
    "df['COM'] = 1"
   ]
  },
  {
   "cell_type": "code",
   "execution_count": 116,
   "metadata": {
    "tags": []
   },
   "outputs": [
    {
     "output_type": "execute_result",
     "data": {
      "text/plain": [
       "                         YEAR MONTH  DAY  HOUR  MINUTE  SECOND  LATITUDE  \\\n",
       "DATETIME                                                                   \n",
       "2000-01-01 01:19:28.300  2000   JAN    1     1      19    28.3     41.95   \n",
       "2000-01-01 04:02:28.400  2000   JAN    1     4       2    28.4     35.54   \n",
       "2000-01-01 05:13:59.100  2000   JAN    1     5      13    59.1     38.97   \n",
       "2000-01-01 05:17:12.900  2000   JAN    1     5      17    12.9     38.89   \n",
       "2000-01-01 05:56:07.300  2000   JAN    1     5      56     7.3     39.21   \n",
       "...                       ...   ...  ...   ...     ...     ...       ...   \n",
       "2009-12-31 14:24:01.200  2009   DEC   31    14      24     1.2     37.47   \n",
       "2009-12-31 14:50:29.600  2009   DEC   31    14      50    29.6     34.67   \n",
       "2009-12-31 17:27:45.800  2009   DEC   31    17      27    45.8     35.68   \n",
       "2009-12-31 20:43:12.900  2009   DEC   31    20      43    12.9     36.37   \n",
       "2009-12-31 20:58:40.800  2009   DEC   31    20      58    40.8     39.70   \n",
       "\n",
       "                         LONGITUDE  DEPTH  MAGNITUDE                       T  \\\n",
       "DATETIME                                                                       \n",
       "2000-01-01 01:19:28.300      20.63      5        4.8  2000-01-01T01:19:28.3Z   \n",
       "2000-01-01 04:02:28.400      22.76     22        3.7  2000-01-01T04:02:28.4Z   \n",
       "2000-01-01 05:13:59.100      26.10     35        3.3  2000-01-01T05:13:59.1Z   \n",
       "2000-01-01 05:17:12.900      25.85     22        3.3  2000-01-01T05:17:12.9Z   \n",
       "2000-01-01 05:56:07.300      27.30     10        3.6  2000-01-01T05:56:07.3Z   \n",
       "...                            ...    ...        ...                     ...   \n",
       "2009-12-31 14:24:01.200      21.83     21        2.8  2009-12-31T14:24:01.2Z   \n",
       "2009-12-31 14:50:29.600      24.42     15        3.4  2009-12-31T14:50:29.6Z   \n",
       "2009-12-31 17:27:45.800      23.47      5        2.9  2009-12-31T17:27:45.8Z   \n",
       "2009-12-31 20:43:12.900      21.61     11        3.2  2009-12-31T20:43:12.9Z   \n",
       "2009-12-31 20:58:40.800      20.76     18        2.8  2009-12-31T20:58:40.8Z   \n",
       "\n",
       "                         DAY_NAME  COM  \n",
       "DATETIME                                \n",
       "2000-01-01 01:19:28.300  Saturday    1  \n",
       "2000-01-01 04:02:28.400  Saturday    1  \n",
       "2000-01-01 05:13:59.100  Saturday    1  \n",
       "2000-01-01 05:17:12.900  Saturday    1  \n",
       "2000-01-01 05:56:07.300  Saturday    1  \n",
       "...                           ...  ...  \n",
       "2009-12-31 14:24:01.200  Thursday    1  \n",
       "2009-12-31 14:50:29.600  Thursday    1  \n",
       "2009-12-31 17:27:45.800  Thursday    1  \n",
       "2009-12-31 20:43:12.900  Thursday    1  \n",
       "2009-12-31 20:58:40.800  Thursday    1  \n",
       "\n",
       "[52257 rows x 13 columns]"
      ],
      "text/html": "<div>\n<style scoped>\n    .dataframe tbody tr th:only-of-type {\n        vertical-align: middle;\n    }\n\n    .dataframe tbody tr th {\n        vertical-align: top;\n    }\n\n    .dataframe thead th {\n        text-align: right;\n    }\n</style>\n<table border=\"1\" class=\"dataframe\">\n  <thead>\n    <tr style=\"text-align: right;\">\n      <th></th>\n      <th>YEAR</th>\n      <th>MONTH</th>\n      <th>DAY</th>\n      <th>HOUR</th>\n      <th>MINUTE</th>\n      <th>SECOND</th>\n      <th>LATITUDE</th>\n      <th>LONGITUDE</th>\n      <th>DEPTH</th>\n      <th>MAGNITUDE</th>\n      <th>T</th>\n      <th>DAY_NAME</th>\n      <th>COM</th>\n    </tr>\n    <tr>\n      <th>DATETIME</th>\n      <th></th>\n      <th></th>\n      <th></th>\n      <th></th>\n      <th></th>\n      <th></th>\n      <th></th>\n      <th></th>\n      <th></th>\n      <th></th>\n      <th></th>\n      <th></th>\n      <th></th>\n    </tr>\n  </thead>\n  <tbody>\n    <tr>\n      <th>2000-01-01 01:19:28.300</th>\n      <td>2000</td>\n      <td>JAN</td>\n      <td>1</td>\n      <td>1</td>\n      <td>19</td>\n      <td>28.3</td>\n      <td>41.95</td>\n      <td>20.63</td>\n      <td>5</td>\n      <td>4.8</td>\n      <td>2000-01-01T01:19:28.3Z</td>\n      <td>Saturday</td>\n      <td>1</td>\n    </tr>\n    <tr>\n      <th>2000-01-01 04:02:28.400</th>\n      <td>2000</td>\n      <td>JAN</td>\n      <td>1</td>\n      <td>4</td>\n      <td>2</td>\n      <td>28.4</td>\n      <td>35.54</td>\n      <td>22.76</td>\n      <td>22</td>\n      <td>3.7</td>\n      <td>2000-01-01T04:02:28.4Z</td>\n      <td>Saturday</td>\n      <td>1</td>\n    </tr>\n    <tr>\n      <th>2000-01-01 05:13:59.100</th>\n      <td>2000</td>\n      <td>JAN</td>\n      <td>1</td>\n      <td>5</td>\n      <td>13</td>\n      <td>59.1</td>\n      <td>38.97</td>\n      <td>26.10</td>\n      <td>35</td>\n      <td>3.3</td>\n      <td>2000-01-01T05:13:59.1Z</td>\n      <td>Saturday</td>\n      <td>1</td>\n    </tr>\n    <tr>\n      <th>2000-01-01 05:17:12.900</th>\n      <td>2000</td>\n      <td>JAN</td>\n      <td>1</td>\n      <td>5</td>\n      <td>17</td>\n      <td>12.9</td>\n      <td>38.89</td>\n      <td>25.85</td>\n      <td>22</td>\n      <td>3.3</td>\n      <td>2000-01-01T05:17:12.9Z</td>\n      <td>Saturday</td>\n      <td>1</td>\n    </tr>\n    <tr>\n      <th>2000-01-01 05:56:07.300</th>\n      <td>2000</td>\n      <td>JAN</td>\n      <td>1</td>\n      <td>5</td>\n      <td>56</td>\n      <td>7.3</td>\n      <td>39.21</td>\n      <td>27.30</td>\n      <td>10</td>\n      <td>3.6</td>\n      <td>2000-01-01T05:56:07.3Z</td>\n      <td>Saturday</td>\n      <td>1</td>\n    </tr>\n    <tr>\n      <th>...</th>\n      <td>...</td>\n      <td>...</td>\n      <td>...</td>\n      <td>...</td>\n      <td>...</td>\n      <td>...</td>\n      <td>...</td>\n      <td>...</td>\n      <td>...</td>\n      <td>...</td>\n      <td>...</td>\n      <td>...</td>\n      <td>...</td>\n    </tr>\n    <tr>\n      <th>2009-12-31 14:24:01.200</th>\n      <td>2009</td>\n      <td>DEC</td>\n      <td>31</td>\n      <td>14</td>\n      <td>24</td>\n      <td>1.2</td>\n      <td>37.47</td>\n      <td>21.83</td>\n      <td>21</td>\n      <td>2.8</td>\n      <td>2009-12-31T14:24:01.2Z</td>\n      <td>Thursday</td>\n      <td>1</td>\n    </tr>\n    <tr>\n      <th>2009-12-31 14:50:29.600</th>\n      <td>2009</td>\n      <td>DEC</td>\n      <td>31</td>\n      <td>14</td>\n      <td>50</td>\n      <td>29.6</td>\n      <td>34.67</td>\n      <td>24.42</td>\n      <td>15</td>\n      <td>3.4</td>\n      <td>2009-12-31T14:50:29.6Z</td>\n      <td>Thursday</td>\n      <td>1</td>\n    </tr>\n    <tr>\n      <th>2009-12-31 17:27:45.800</th>\n      <td>2009</td>\n      <td>DEC</td>\n      <td>31</td>\n      <td>17</td>\n      <td>27</td>\n      <td>45.8</td>\n      <td>35.68</td>\n      <td>23.47</td>\n      <td>5</td>\n      <td>2.9</td>\n      <td>2009-12-31T17:27:45.8Z</td>\n      <td>Thursday</td>\n      <td>1</td>\n    </tr>\n    <tr>\n      <th>2009-12-31 20:43:12.900</th>\n      <td>2009</td>\n      <td>DEC</td>\n      <td>31</td>\n      <td>20</td>\n      <td>43</td>\n      <td>12.9</td>\n      <td>36.37</td>\n      <td>21.61</td>\n      <td>11</td>\n      <td>3.2</td>\n      <td>2009-12-31T20:43:12.9Z</td>\n      <td>Thursday</td>\n      <td>1</td>\n    </tr>\n    <tr>\n      <th>2009-12-31 20:58:40.800</th>\n      <td>2009</td>\n      <td>DEC</td>\n      <td>31</td>\n      <td>20</td>\n      <td>58</td>\n      <td>40.8</td>\n      <td>39.70</td>\n      <td>20.76</td>\n      <td>18</td>\n      <td>2.8</td>\n      <td>2009-12-31T20:58:40.8Z</td>\n      <td>Thursday</td>\n      <td>1</td>\n    </tr>\n  </tbody>\n</table>\n<p>52257 rows × 13 columns</p>\n</div>"
     },
     "metadata": {},
     "execution_count": 116
    }
   ],
   "source": [
    "df"
   ]
  },
  {
   "cell_type": "code",
   "execution_count": 117,
   "metadata": {},
   "outputs": [
    {
     "output_type": "execute_result",
     "data": {
      "text/plain": [
       "DATETIME\n",
       "2000-01-01 01:19:28.300        1\n",
       "2000-01-01 04:02:28.400        2\n",
       "2000-01-01 05:13:59.100        3\n",
       "2000-01-01 05:17:12.900        4\n",
       "2000-01-01 05:56:07.300        5\n",
       "                           ...  \n",
       "2009-12-31 14:24:01.200    52253\n",
       "2009-12-31 14:50:29.600    52254\n",
       "2009-12-31 17:27:45.800    52255\n",
       "2009-12-31 20:43:12.900    52256\n",
       "2009-12-31 20:58:40.800    52257\n",
       "Name: COM, Length: 52257, dtype: int64"
      ]
     },
     "metadata": {},
     "execution_count": 117
    }
   ],
   "source": [
    "df['COM'].cumsum()"
   ]
  },
  {
   "cell_type": "code",
   "execution_count": 118,
   "metadata": {},
   "outputs": [],
   "source": [
    "df['COM'] = df['COM'].cumsum()"
   ]
  },
  {
   "cell_type": "code",
   "execution_count": 119,
   "metadata": {},
   "outputs": [
    {
     "output_type": "execute_result",
     "data": {
      "text/plain": [
       "                         YEAR MONTH  DAY  HOUR  MINUTE  SECOND  LATITUDE  \\\n",
       "DATETIME                                                                   \n",
       "2000-01-01 01:19:28.300  2000   JAN    1     1      19    28.3     41.95   \n",
       "2000-01-01 04:02:28.400  2000   JAN    1     4       2    28.4     35.54   \n",
       "2000-01-01 05:13:59.100  2000   JAN    1     5      13    59.1     38.97   \n",
       "2000-01-01 05:17:12.900  2000   JAN    1     5      17    12.9     38.89   \n",
       "2000-01-01 05:56:07.300  2000   JAN    1     5      56     7.3     39.21   \n",
       "...                       ...   ...  ...   ...     ...     ...       ...   \n",
       "2009-12-31 14:24:01.200  2009   DEC   31    14      24     1.2     37.47   \n",
       "2009-12-31 14:50:29.600  2009   DEC   31    14      50    29.6     34.67   \n",
       "2009-12-31 17:27:45.800  2009   DEC   31    17      27    45.8     35.68   \n",
       "2009-12-31 20:43:12.900  2009   DEC   31    20      43    12.9     36.37   \n",
       "2009-12-31 20:58:40.800  2009   DEC   31    20      58    40.8     39.70   \n",
       "\n",
       "                         LONGITUDE  DEPTH  MAGNITUDE                       T  \\\n",
       "DATETIME                                                                       \n",
       "2000-01-01 01:19:28.300      20.63      5        4.8  2000-01-01T01:19:28.3Z   \n",
       "2000-01-01 04:02:28.400      22.76     22        3.7  2000-01-01T04:02:28.4Z   \n",
       "2000-01-01 05:13:59.100      26.10     35        3.3  2000-01-01T05:13:59.1Z   \n",
       "2000-01-01 05:17:12.900      25.85     22        3.3  2000-01-01T05:17:12.9Z   \n",
       "2000-01-01 05:56:07.300      27.30     10        3.6  2000-01-01T05:56:07.3Z   \n",
       "...                            ...    ...        ...                     ...   \n",
       "2009-12-31 14:24:01.200      21.83     21        2.8  2009-12-31T14:24:01.2Z   \n",
       "2009-12-31 14:50:29.600      24.42     15        3.4  2009-12-31T14:50:29.6Z   \n",
       "2009-12-31 17:27:45.800      23.47      5        2.9  2009-12-31T17:27:45.8Z   \n",
       "2009-12-31 20:43:12.900      21.61     11        3.2  2009-12-31T20:43:12.9Z   \n",
       "2009-12-31 20:58:40.800      20.76     18        2.8  2009-12-31T20:58:40.8Z   \n",
       "\n",
       "                         DAY_NAME    COM  \n",
       "DATETIME                                  \n",
       "2000-01-01 01:19:28.300  Saturday      1  \n",
       "2000-01-01 04:02:28.400  Saturday      2  \n",
       "2000-01-01 05:13:59.100  Saturday      3  \n",
       "2000-01-01 05:17:12.900  Saturday      4  \n",
       "2000-01-01 05:56:07.300  Saturday      5  \n",
       "...                           ...    ...  \n",
       "2009-12-31 14:24:01.200  Thursday  52253  \n",
       "2009-12-31 14:50:29.600  Thursday  52254  \n",
       "2009-12-31 17:27:45.800  Thursday  52255  \n",
       "2009-12-31 20:43:12.900  Thursday  52256  \n",
       "2009-12-31 20:58:40.800  Thursday  52257  \n",
       "\n",
       "[52257 rows x 13 columns]"
      ],
      "text/html": "<div>\n<style scoped>\n    .dataframe tbody tr th:only-of-type {\n        vertical-align: middle;\n    }\n\n    .dataframe tbody tr th {\n        vertical-align: top;\n    }\n\n    .dataframe thead th {\n        text-align: right;\n    }\n</style>\n<table border=\"1\" class=\"dataframe\">\n  <thead>\n    <tr style=\"text-align: right;\">\n      <th></th>\n      <th>YEAR</th>\n      <th>MONTH</th>\n      <th>DAY</th>\n      <th>HOUR</th>\n      <th>MINUTE</th>\n      <th>SECOND</th>\n      <th>LATITUDE</th>\n      <th>LONGITUDE</th>\n      <th>DEPTH</th>\n      <th>MAGNITUDE</th>\n      <th>T</th>\n      <th>DAY_NAME</th>\n      <th>COM</th>\n    </tr>\n    <tr>\n      <th>DATETIME</th>\n      <th></th>\n      <th></th>\n      <th></th>\n      <th></th>\n      <th></th>\n      <th></th>\n      <th></th>\n      <th></th>\n      <th></th>\n      <th></th>\n      <th></th>\n      <th></th>\n      <th></th>\n    </tr>\n  </thead>\n  <tbody>\n    <tr>\n      <th>2000-01-01 01:19:28.300</th>\n      <td>2000</td>\n      <td>JAN</td>\n      <td>1</td>\n      <td>1</td>\n      <td>19</td>\n      <td>28.3</td>\n      <td>41.95</td>\n      <td>20.63</td>\n      <td>5</td>\n      <td>4.8</td>\n      <td>2000-01-01T01:19:28.3Z</td>\n      <td>Saturday</td>\n      <td>1</td>\n    </tr>\n    <tr>\n      <th>2000-01-01 04:02:28.400</th>\n      <td>2000</td>\n      <td>JAN</td>\n      <td>1</td>\n      <td>4</td>\n      <td>2</td>\n      <td>28.4</td>\n      <td>35.54</td>\n      <td>22.76</td>\n      <td>22</td>\n      <td>3.7</td>\n      <td>2000-01-01T04:02:28.4Z</td>\n      <td>Saturday</td>\n      <td>2</td>\n    </tr>\n    <tr>\n      <th>2000-01-01 05:13:59.100</th>\n      <td>2000</td>\n      <td>JAN</td>\n      <td>1</td>\n      <td>5</td>\n      <td>13</td>\n      <td>59.1</td>\n      <td>38.97</td>\n      <td>26.10</td>\n      <td>35</td>\n      <td>3.3</td>\n      <td>2000-01-01T05:13:59.1Z</td>\n      <td>Saturday</td>\n      <td>3</td>\n    </tr>\n    <tr>\n      <th>2000-01-01 05:17:12.900</th>\n      <td>2000</td>\n      <td>JAN</td>\n      <td>1</td>\n      <td>5</td>\n      <td>17</td>\n      <td>12.9</td>\n      <td>38.89</td>\n      <td>25.85</td>\n      <td>22</td>\n      <td>3.3</td>\n      <td>2000-01-01T05:17:12.9Z</td>\n      <td>Saturday</td>\n      <td>4</td>\n    </tr>\n    <tr>\n      <th>2000-01-01 05:56:07.300</th>\n      <td>2000</td>\n      <td>JAN</td>\n      <td>1</td>\n      <td>5</td>\n      <td>56</td>\n      <td>7.3</td>\n      <td>39.21</td>\n      <td>27.30</td>\n      <td>10</td>\n      <td>3.6</td>\n      <td>2000-01-01T05:56:07.3Z</td>\n      <td>Saturday</td>\n      <td>5</td>\n    </tr>\n    <tr>\n      <th>...</th>\n      <td>...</td>\n      <td>...</td>\n      <td>...</td>\n      <td>...</td>\n      <td>...</td>\n      <td>...</td>\n      <td>...</td>\n      <td>...</td>\n      <td>...</td>\n      <td>...</td>\n      <td>...</td>\n      <td>...</td>\n      <td>...</td>\n    </tr>\n    <tr>\n      <th>2009-12-31 14:24:01.200</th>\n      <td>2009</td>\n      <td>DEC</td>\n      <td>31</td>\n      <td>14</td>\n      <td>24</td>\n      <td>1.2</td>\n      <td>37.47</td>\n      <td>21.83</td>\n      <td>21</td>\n      <td>2.8</td>\n      <td>2009-12-31T14:24:01.2Z</td>\n      <td>Thursday</td>\n      <td>52253</td>\n    </tr>\n    <tr>\n      <th>2009-12-31 14:50:29.600</th>\n      <td>2009</td>\n      <td>DEC</td>\n      <td>31</td>\n      <td>14</td>\n      <td>50</td>\n      <td>29.6</td>\n      <td>34.67</td>\n      <td>24.42</td>\n      <td>15</td>\n      <td>3.4</td>\n      <td>2009-12-31T14:50:29.6Z</td>\n      <td>Thursday</td>\n      <td>52254</td>\n    </tr>\n    <tr>\n      <th>2009-12-31 17:27:45.800</th>\n      <td>2009</td>\n      <td>DEC</td>\n      <td>31</td>\n      <td>17</td>\n      <td>27</td>\n      <td>45.8</td>\n      <td>35.68</td>\n      <td>23.47</td>\n      <td>5</td>\n      <td>2.9</td>\n      <td>2009-12-31T17:27:45.8Z</td>\n      <td>Thursday</td>\n      <td>52255</td>\n    </tr>\n    <tr>\n      <th>2009-12-31 20:43:12.900</th>\n      <td>2009</td>\n      <td>DEC</td>\n      <td>31</td>\n      <td>20</td>\n      <td>43</td>\n      <td>12.9</td>\n      <td>36.37</td>\n      <td>21.61</td>\n      <td>11</td>\n      <td>3.2</td>\n      <td>2009-12-31T20:43:12.9Z</td>\n      <td>Thursday</td>\n      <td>52256</td>\n    </tr>\n    <tr>\n      <th>2009-12-31 20:58:40.800</th>\n      <td>2009</td>\n      <td>DEC</td>\n      <td>31</td>\n      <td>20</td>\n      <td>58</td>\n      <td>40.8</td>\n      <td>39.70</td>\n      <td>20.76</td>\n      <td>18</td>\n      <td>2.8</td>\n      <td>2009-12-31T20:58:40.8Z</td>\n      <td>Thursday</td>\n      <td>52257</td>\n    </tr>\n  </tbody>\n</table>\n<p>52257 rows × 13 columns</p>\n</div>"
     },
     "metadata": {},
     "execution_count": 119
    }
   ],
   "source": [
    "df"
   ]
  },
  {
   "cell_type": "code",
   "execution_count": null,
   "metadata": {},
   "outputs": [],
   "source": []
  }
 ]
}