{
 "metadata": {
  "language_info": {
   "codemirror_mode": {
    "name": "ipython",
    "version": 3
   },
   "file_extension": ".py",
   "mimetype": "text/x-python",
   "name": "python",
   "nbconvert_exporter": "python",
   "pygments_lexer": "ipython3",
   "version": "3.8.5-final"
  },
  "orig_nbformat": 2,
  "kernelspec": {
   "name": "python385jvsc74a57bd0dca0ade3e726a953b501b15e8e990130d2b7799f14cfd9f4271676035ebe5511",
   "display_name": "Python 3.8.5 64-bit ('base': conda)"
  }
 },
 "nbformat": 4,
 "nbformat_minor": 2,
 "cells": [
  {
   "cell_type": "code",
   "execution_count": 1,
   "metadata": {},
   "outputs": [],
   "source": [
    "import pandas\n",
    "import calendar"
   ]
  },
  {
   "cell_type": "code",
   "execution_count": 2,
   "metadata": {},
   "outputs": [],
   "source": [
    "df = pandas.read_csv('full.txt', header=None, skiprows=2, sep='\\s+', names=['year', 'month', 'day', 'hour', 'minute', 'second', 'latitude', 'lotitude', 'depth', 'magnitude'])"
   ]
  },
  {
   "cell_type": "code",
   "execution_count": 3,
   "metadata": {},
   "outputs": [
    {
     "output_type": "execute_result",
     "data": {
      "text/plain": [
       "        year month  day  hour  minute  second  latitude  lotitude  depth  \\\n",
       "0       1964   FEB   24    23      30    25.0   38.9000   23.9000     10   \n",
       "1       1964   APR   11    16       0     0.0   39.7500   25.2500     10   \n",
       "2       1964   APR   21     8      14    40.0   38.5000   22.2500     10   \n",
       "3       1964   APR   24     3      49    58.0   38.0000   21.8000     10   \n",
       "4       1964   APR   29     4      21     0.0   39.2500   23.7500     10   \n",
       "...      ...   ...  ...   ...     ...     ...       ...       ...    ...   \n",
       "313395  2021   APR    9     5       0     7.4   39.7856   21.9081      5   \n",
       "313396  2021   APR    9     5       0    21.9   39.7920   21.9328      5   \n",
       "313397  2021   APR    9     5       1     6.5   39.7160   22.1947      8   \n",
       "313398  2021   APR    9     5       2     5.6   39.7929   21.9154      6   \n",
       "313399  2021   APR    9     5      15     5.0   39.8007   21.8948      7   \n",
       "\n",
       "        magnitude  \n",
       "0             5.3  \n",
       "1             5.7  \n",
       "2             4.5  \n",
       "3             5.0  \n",
       "4             5.8  \n",
       "...           ...  \n",
       "313395        0.6  \n",
       "313396        1.5  \n",
       "313397        1.0  \n",
       "313398        1.0  \n",
       "313399        1.2  \n",
       "\n",
       "[313400 rows x 10 columns]"
      ],
      "text/html": "<div>\n<style scoped>\n    .dataframe tbody tr th:only-of-type {\n        vertical-align: middle;\n    }\n\n    .dataframe tbody tr th {\n        vertical-align: top;\n    }\n\n    .dataframe thead th {\n        text-align: right;\n    }\n</style>\n<table border=\"1\" class=\"dataframe\">\n  <thead>\n    <tr style=\"text-align: right;\">\n      <th></th>\n      <th>year</th>\n      <th>month</th>\n      <th>day</th>\n      <th>hour</th>\n      <th>minute</th>\n      <th>second</th>\n      <th>latitude</th>\n      <th>lotitude</th>\n      <th>depth</th>\n      <th>magnitude</th>\n    </tr>\n  </thead>\n  <tbody>\n    <tr>\n      <th>0</th>\n      <td>1964</td>\n      <td>FEB</td>\n      <td>24</td>\n      <td>23</td>\n      <td>30</td>\n      <td>25.0</td>\n      <td>38.9000</td>\n      <td>23.9000</td>\n      <td>10</td>\n      <td>5.3</td>\n    </tr>\n    <tr>\n      <th>1</th>\n      <td>1964</td>\n      <td>APR</td>\n      <td>11</td>\n      <td>16</td>\n      <td>0</td>\n      <td>0.0</td>\n      <td>39.7500</td>\n      <td>25.2500</td>\n      <td>10</td>\n      <td>5.7</td>\n    </tr>\n    <tr>\n      <th>2</th>\n      <td>1964</td>\n      <td>APR</td>\n      <td>21</td>\n      <td>8</td>\n      <td>14</td>\n      <td>40.0</td>\n      <td>38.5000</td>\n      <td>22.2500</td>\n      <td>10</td>\n      <td>4.5</td>\n    </tr>\n    <tr>\n      <th>3</th>\n      <td>1964</td>\n      <td>APR</td>\n      <td>24</td>\n      <td>3</td>\n      <td>49</td>\n      <td>58.0</td>\n      <td>38.0000</td>\n      <td>21.8000</td>\n      <td>10</td>\n      <td>5.0</td>\n    </tr>\n    <tr>\n      <th>4</th>\n      <td>1964</td>\n      <td>APR</td>\n      <td>29</td>\n      <td>4</td>\n      <td>21</td>\n      <td>0.0</td>\n      <td>39.2500</td>\n      <td>23.7500</td>\n      <td>10</td>\n      <td>5.8</td>\n    </tr>\n    <tr>\n      <th>...</th>\n      <td>...</td>\n      <td>...</td>\n      <td>...</td>\n      <td>...</td>\n      <td>...</td>\n      <td>...</td>\n      <td>...</td>\n      <td>...</td>\n      <td>...</td>\n      <td>...</td>\n    </tr>\n    <tr>\n      <th>313395</th>\n      <td>2021</td>\n      <td>APR</td>\n      <td>9</td>\n      <td>5</td>\n      <td>0</td>\n      <td>7.4</td>\n      <td>39.7856</td>\n      <td>21.9081</td>\n      <td>5</td>\n      <td>0.6</td>\n    </tr>\n    <tr>\n      <th>313396</th>\n      <td>2021</td>\n      <td>APR</td>\n      <td>9</td>\n      <td>5</td>\n      <td>0</td>\n      <td>21.9</td>\n      <td>39.7920</td>\n      <td>21.9328</td>\n      <td>5</td>\n      <td>1.5</td>\n    </tr>\n    <tr>\n      <th>313397</th>\n      <td>2021</td>\n      <td>APR</td>\n      <td>9</td>\n      <td>5</td>\n      <td>1</td>\n      <td>6.5</td>\n      <td>39.7160</td>\n      <td>22.1947</td>\n      <td>8</td>\n      <td>1.0</td>\n    </tr>\n    <tr>\n      <th>313398</th>\n      <td>2021</td>\n      <td>APR</td>\n      <td>9</td>\n      <td>5</td>\n      <td>2</td>\n      <td>5.6</td>\n      <td>39.7929</td>\n      <td>21.9154</td>\n      <td>6</td>\n      <td>1.0</td>\n    </tr>\n    <tr>\n      <th>313399</th>\n      <td>2021</td>\n      <td>APR</td>\n      <td>9</td>\n      <td>5</td>\n      <td>15</td>\n      <td>5.0</td>\n      <td>39.8007</td>\n      <td>21.8948</td>\n      <td>7</td>\n      <td>1.2</td>\n    </tr>\n  </tbody>\n</table>\n<p>313400 rows × 10 columns</p>\n</div>"
     },
     "metadata": {},
     "execution_count": 3
    }
   ],
   "source": [
    "df"
   ]
  },
  {
   "cell_type": "code",
   "execution_count": 4,
   "metadata": {},
   "outputs": [],
   "source": [
    "df.index.name = 'event'"
   ]
  },
  {
   "cell_type": "code",
   "execution_count": 5,
   "metadata": {},
   "outputs": [
    {
     "output_type": "execute_result",
     "data": {
      "text/plain": [
       "        year month  day  hour  minute  second  latitude  lotitude  depth  \\\n",
       "event                                                                      \n",
       "0       1964   FEB   24    23      30    25.0   38.9000   23.9000     10   \n",
       "1       1964   APR   11    16       0     0.0   39.7500   25.2500     10   \n",
       "2       1964   APR   21     8      14    40.0   38.5000   22.2500     10   \n",
       "3       1964   APR   24     3      49    58.0   38.0000   21.8000     10   \n",
       "4       1964   APR   29     4      21     0.0   39.2500   23.7500     10   \n",
       "...      ...   ...  ...   ...     ...     ...       ...       ...    ...   \n",
       "313395  2021   APR    9     5       0     7.4   39.7856   21.9081      5   \n",
       "313396  2021   APR    9     5       0    21.9   39.7920   21.9328      5   \n",
       "313397  2021   APR    9     5       1     6.5   39.7160   22.1947      8   \n",
       "313398  2021   APR    9     5       2     5.6   39.7929   21.9154      6   \n",
       "313399  2021   APR    9     5      15     5.0   39.8007   21.8948      7   \n",
       "\n",
       "        magnitude  \n",
       "event              \n",
       "0             5.3  \n",
       "1             5.7  \n",
       "2             4.5  \n",
       "3             5.0  \n",
       "4             5.8  \n",
       "...           ...  \n",
       "313395        0.6  \n",
       "313396        1.5  \n",
       "313397        1.0  \n",
       "313398        1.0  \n",
       "313399        1.2  \n",
       "\n",
       "[313400 rows x 10 columns]"
      ],
      "text/html": "<div>\n<style scoped>\n    .dataframe tbody tr th:only-of-type {\n        vertical-align: middle;\n    }\n\n    .dataframe tbody tr th {\n        vertical-align: top;\n    }\n\n    .dataframe thead th {\n        text-align: right;\n    }\n</style>\n<table border=\"1\" class=\"dataframe\">\n  <thead>\n    <tr style=\"text-align: right;\">\n      <th></th>\n      <th>year</th>\n      <th>month</th>\n      <th>day</th>\n      <th>hour</th>\n      <th>minute</th>\n      <th>second</th>\n      <th>latitude</th>\n      <th>lotitude</th>\n      <th>depth</th>\n      <th>magnitude</th>\n    </tr>\n    <tr>\n      <th>event</th>\n      <th></th>\n      <th></th>\n      <th></th>\n      <th></th>\n      <th></th>\n      <th></th>\n      <th></th>\n      <th></th>\n      <th></th>\n      <th></th>\n    </tr>\n  </thead>\n  <tbody>\n    <tr>\n      <th>0</th>\n      <td>1964</td>\n      <td>FEB</td>\n      <td>24</td>\n      <td>23</td>\n      <td>30</td>\n      <td>25.0</td>\n      <td>38.9000</td>\n      <td>23.9000</td>\n      <td>10</td>\n      <td>5.3</td>\n    </tr>\n    <tr>\n      <th>1</th>\n      <td>1964</td>\n      <td>APR</td>\n      <td>11</td>\n      <td>16</td>\n      <td>0</td>\n      <td>0.0</td>\n      <td>39.7500</td>\n      <td>25.2500</td>\n      <td>10</td>\n      <td>5.7</td>\n    </tr>\n    <tr>\n      <th>2</th>\n      <td>1964</td>\n      <td>APR</td>\n      <td>21</td>\n      <td>8</td>\n      <td>14</td>\n      <td>40.0</td>\n      <td>38.5000</td>\n      <td>22.2500</td>\n      <td>10</td>\n      <td>4.5</td>\n    </tr>\n    <tr>\n      <th>3</th>\n      <td>1964</td>\n      <td>APR</td>\n      <td>24</td>\n      <td>3</td>\n      <td>49</td>\n      <td>58.0</td>\n      <td>38.0000</td>\n      <td>21.8000</td>\n      <td>10</td>\n      <td>5.0</td>\n    </tr>\n    <tr>\n      <th>4</th>\n      <td>1964</td>\n      <td>APR</td>\n      <td>29</td>\n      <td>4</td>\n      <td>21</td>\n      <td>0.0</td>\n      <td>39.2500</td>\n      <td>23.7500</td>\n      <td>10</td>\n      <td>5.8</td>\n    </tr>\n    <tr>\n      <th>...</th>\n      <td>...</td>\n      <td>...</td>\n      <td>...</td>\n      <td>...</td>\n      <td>...</td>\n      <td>...</td>\n      <td>...</td>\n      <td>...</td>\n      <td>...</td>\n      <td>...</td>\n    </tr>\n    <tr>\n      <th>313395</th>\n      <td>2021</td>\n      <td>APR</td>\n      <td>9</td>\n      <td>5</td>\n      <td>0</td>\n      <td>7.4</td>\n      <td>39.7856</td>\n      <td>21.9081</td>\n      <td>5</td>\n      <td>0.6</td>\n    </tr>\n    <tr>\n      <th>313396</th>\n      <td>2021</td>\n      <td>APR</td>\n      <td>9</td>\n      <td>5</td>\n      <td>0</td>\n      <td>21.9</td>\n      <td>39.7920</td>\n      <td>21.9328</td>\n      <td>5</td>\n      <td>1.5</td>\n    </tr>\n    <tr>\n      <th>313397</th>\n      <td>2021</td>\n      <td>APR</td>\n      <td>9</td>\n      <td>5</td>\n      <td>1</td>\n      <td>6.5</td>\n      <td>39.7160</td>\n      <td>22.1947</td>\n      <td>8</td>\n      <td>1.0</td>\n    </tr>\n    <tr>\n      <th>313398</th>\n      <td>2021</td>\n      <td>APR</td>\n      <td>9</td>\n      <td>5</td>\n      <td>2</td>\n      <td>5.6</td>\n      <td>39.7929</td>\n      <td>21.9154</td>\n      <td>6</td>\n      <td>1.0</td>\n    </tr>\n    <tr>\n      <th>313399</th>\n      <td>2021</td>\n      <td>APR</td>\n      <td>9</td>\n      <td>5</td>\n      <td>15</td>\n      <td>5.0</td>\n      <td>39.8007</td>\n      <td>21.8948</td>\n      <td>7</td>\n      <td>1.2</td>\n    </tr>\n  </tbody>\n</table>\n<p>313400 rows × 10 columns</p>\n</div>"
     },
     "metadata": {},
     "execution_count": 5
    }
   ],
   "source": [
    "df"
   ]
  },
  {
   "cell_type": "code",
   "execution_count": 6,
   "metadata": {},
   "outputs": [],
   "source": [
    "df['month'] = df['month'].str.title()"
   ]
  },
  {
   "cell_type": "code",
   "execution_count": 7,
   "metadata": {},
   "outputs": [
    {
     "output_type": "execute_result",
     "data": {
      "text/plain": [
       "        year month  day  hour  minute  second  latitude  lotitude  depth  \\\n",
       "event                                                                      \n",
       "0       1964   Feb   24    23      30    25.0   38.9000   23.9000     10   \n",
       "1       1964   Apr   11    16       0     0.0   39.7500   25.2500     10   \n",
       "2       1964   Apr   21     8      14    40.0   38.5000   22.2500     10   \n",
       "3       1964   Apr   24     3      49    58.0   38.0000   21.8000     10   \n",
       "4       1964   Apr   29     4      21     0.0   39.2500   23.7500     10   \n",
       "...      ...   ...  ...   ...     ...     ...       ...       ...    ...   \n",
       "313395  2021   Apr    9     5       0     7.4   39.7856   21.9081      5   \n",
       "313396  2021   Apr    9     5       0    21.9   39.7920   21.9328      5   \n",
       "313397  2021   Apr    9     5       1     6.5   39.7160   22.1947      8   \n",
       "313398  2021   Apr    9     5       2     5.6   39.7929   21.9154      6   \n",
       "313399  2021   Apr    9     5      15     5.0   39.8007   21.8948      7   \n",
       "\n",
       "        magnitude  \n",
       "event              \n",
       "0             5.3  \n",
       "1             5.7  \n",
       "2             4.5  \n",
       "3             5.0  \n",
       "4             5.8  \n",
       "...           ...  \n",
       "313395        0.6  \n",
       "313396        1.5  \n",
       "313397        1.0  \n",
       "313398        1.0  \n",
       "313399        1.2  \n",
       "\n",
       "[313400 rows x 10 columns]"
      ],
      "text/html": "<div>\n<style scoped>\n    .dataframe tbody tr th:only-of-type {\n        vertical-align: middle;\n    }\n\n    .dataframe tbody tr th {\n        vertical-align: top;\n    }\n\n    .dataframe thead th {\n        text-align: right;\n    }\n</style>\n<table border=\"1\" class=\"dataframe\">\n  <thead>\n    <tr style=\"text-align: right;\">\n      <th></th>\n      <th>year</th>\n      <th>month</th>\n      <th>day</th>\n      <th>hour</th>\n      <th>minute</th>\n      <th>second</th>\n      <th>latitude</th>\n      <th>lotitude</th>\n      <th>depth</th>\n      <th>magnitude</th>\n    </tr>\n    <tr>\n      <th>event</th>\n      <th></th>\n      <th></th>\n      <th></th>\n      <th></th>\n      <th></th>\n      <th></th>\n      <th></th>\n      <th></th>\n      <th></th>\n      <th></th>\n    </tr>\n  </thead>\n  <tbody>\n    <tr>\n      <th>0</th>\n      <td>1964</td>\n      <td>Feb</td>\n      <td>24</td>\n      <td>23</td>\n      <td>30</td>\n      <td>25.0</td>\n      <td>38.9000</td>\n      <td>23.9000</td>\n      <td>10</td>\n      <td>5.3</td>\n    </tr>\n    <tr>\n      <th>1</th>\n      <td>1964</td>\n      <td>Apr</td>\n      <td>11</td>\n      <td>16</td>\n      <td>0</td>\n      <td>0.0</td>\n      <td>39.7500</td>\n      <td>25.2500</td>\n      <td>10</td>\n      <td>5.7</td>\n    </tr>\n    <tr>\n      <th>2</th>\n      <td>1964</td>\n      <td>Apr</td>\n      <td>21</td>\n      <td>8</td>\n      <td>14</td>\n      <td>40.0</td>\n      <td>38.5000</td>\n      <td>22.2500</td>\n      <td>10</td>\n      <td>4.5</td>\n    </tr>\n    <tr>\n      <th>3</th>\n      <td>1964</td>\n      <td>Apr</td>\n      <td>24</td>\n      <td>3</td>\n      <td>49</td>\n      <td>58.0</td>\n      <td>38.0000</td>\n      <td>21.8000</td>\n      <td>10</td>\n      <td>5.0</td>\n    </tr>\n    <tr>\n      <th>4</th>\n      <td>1964</td>\n      <td>Apr</td>\n      <td>29</td>\n      <td>4</td>\n      <td>21</td>\n      <td>0.0</td>\n      <td>39.2500</td>\n      <td>23.7500</td>\n      <td>10</td>\n      <td>5.8</td>\n    </tr>\n    <tr>\n      <th>...</th>\n      <td>...</td>\n      <td>...</td>\n      <td>...</td>\n      <td>...</td>\n      <td>...</td>\n      <td>...</td>\n      <td>...</td>\n      <td>...</td>\n      <td>...</td>\n      <td>...</td>\n    </tr>\n    <tr>\n      <th>313395</th>\n      <td>2021</td>\n      <td>Apr</td>\n      <td>9</td>\n      <td>5</td>\n      <td>0</td>\n      <td>7.4</td>\n      <td>39.7856</td>\n      <td>21.9081</td>\n      <td>5</td>\n      <td>0.6</td>\n    </tr>\n    <tr>\n      <th>313396</th>\n      <td>2021</td>\n      <td>Apr</td>\n      <td>9</td>\n      <td>5</td>\n      <td>0</td>\n      <td>21.9</td>\n      <td>39.7920</td>\n      <td>21.9328</td>\n      <td>5</td>\n      <td>1.5</td>\n    </tr>\n    <tr>\n      <th>313397</th>\n      <td>2021</td>\n      <td>Apr</td>\n      <td>9</td>\n      <td>5</td>\n      <td>1</td>\n      <td>6.5</td>\n      <td>39.7160</td>\n      <td>22.1947</td>\n      <td>8</td>\n      <td>1.0</td>\n    </tr>\n    <tr>\n      <th>313398</th>\n      <td>2021</td>\n      <td>Apr</td>\n      <td>9</td>\n      <td>5</td>\n      <td>2</td>\n      <td>5.6</td>\n      <td>39.7929</td>\n      <td>21.9154</td>\n      <td>6</td>\n      <td>1.0</td>\n    </tr>\n    <tr>\n      <th>313399</th>\n      <td>2021</td>\n      <td>Apr</td>\n      <td>9</td>\n      <td>5</td>\n      <td>15</td>\n      <td>5.0</td>\n      <td>39.8007</td>\n      <td>21.8948</td>\n      <td>7</td>\n      <td>1.2</td>\n    </tr>\n  </tbody>\n</table>\n<p>313400 rows × 10 columns</p>\n</div>"
     },
     "metadata": {},
     "execution_count": 7
    }
   ],
   "source": [
    "df"
   ]
  },
  {
   "cell_type": "code",
   "execution_count": 8,
   "metadata": {},
   "outputs": [
    {
     "output_type": "execute_result",
     "data": {
      "text/plain": [
       "{'': 0,\n",
       " 'Jan': 1,\n",
       " 'Feb': 2,\n",
       " 'Mar': 3,\n",
       " 'Apr': 4,\n",
       " 'May': 5,\n",
       " 'Jun': 6,\n",
       " 'Jul': 7,\n",
       " 'Aug': 8,\n",
       " 'Sep': 9,\n",
       " 'Oct': 10,\n",
       " 'Nov': 11,\n",
       " 'Dec': 12}"
      ]
     },
     "metadata": {},
     "execution_count": 8
    }
   ],
   "source": [
    "month_abbr_as_ints = dict((x,y) for (y,x) in enumerate(calendar.month_abbr))\n",
    "month_abbr_as_ints"
   ]
  },
  {
   "cell_type": "code",
   "execution_count": 9,
   "metadata": {},
   "outputs": [],
   "source": [
    "df['month'].replace(month_abbr_as_ints, inplace=True)"
   ]
  },
  {
   "cell_type": "code",
   "execution_count": 10,
   "metadata": {},
   "outputs": [
    {
     "output_type": "execute_result",
     "data": {
      "text/plain": [
       "        year  month  day  hour  minute  second  latitude  lotitude  depth  \\\n",
       "event                                                                       \n",
       "0       1964      2   24    23      30    25.0   38.9000   23.9000     10   \n",
       "1       1964      4   11    16       0     0.0   39.7500   25.2500     10   \n",
       "2       1964      4   21     8      14    40.0   38.5000   22.2500     10   \n",
       "3       1964      4   24     3      49    58.0   38.0000   21.8000     10   \n",
       "4       1964      4   29     4      21     0.0   39.2500   23.7500     10   \n",
       "...      ...    ...  ...   ...     ...     ...       ...       ...    ...   \n",
       "313395  2021      4    9     5       0     7.4   39.7856   21.9081      5   \n",
       "313396  2021      4    9     5       0    21.9   39.7920   21.9328      5   \n",
       "313397  2021      4    9     5       1     6.5   39.7160   22.1947      8   \n",
       "313398  2021      4    9     5       2     5.6   39.7929   21.9154      6   \n",
       "313399  2021      4    9     5      15     5.0   39.8007   21.8948      7   \n",
       "\n",
       "        magnitude  \n",
       "event              \n",
       "0             5.3  \n",
       "1             5.7  \n",
       "2             4.5  \n",
       "3             5.0  \n",
       "4             5.8  \n",
       "...           ...  \n",
       "313395        0.6  \n",
       "313396        1.5  \n",
       "313397        1.0  \n",
       "313398        1.0  \n",
       "313399        1.2  \n",
       "\n",
       "[313400 rows x 10 columns]"
      ],
      "text/html": "<div>\n<style scoped>\n    .dataframe tbody tr th:only-of-type {\n        vertical-align: middle;\n    }\n\n    .dataframe tbody tr th {\n        vertical-align: top;\n    }\n\n    .dataframe thead th {\n        text-align: right;\n    }\n</style>\n<table border=\"1\" class=\"dataframe\">\n  <thead>\n    <tr style=\"text-align: right;\">\n      <th></th>\n      <th>year</th>\n      <th>month</th>\n      <th>day</th>\n      <th>hour</th>\n      <th>minute</th>\n      <th>second</th>\n      <th>latitude</th>\n      <th>lotitude</th>\n      <th>depth</th>\n      <th>magnitude</th>\n    </tr>\n    <tr>\n      <th>event</th>\n      <th></th>\n      <th></th>\n      <th></th>\n      <th></th>\n      <th></th>\n      <th></th>\n      <th></th>\n      <th></th>\n      <th></th>\n      <th></th>\n    </tr>\n  </thead>\n  <tbody>\n    <tr>\n      <th>0</th>\n      <td>1964</td>\n      <td>2</td>\n      <td>24</td>\n      <td>23</td>\n      <td>30</td>\n      <td>25.0</td>\n      <td>38.9000</td>\n      <td>23.9000</td>\n      <td>10</td>\n      <td>5.3</td>\n    </tr>\n    <tr>\n      <th>1</th>\n      <td>1964</td>\n      <td>4</td>\n      <td>11</td>\n      <td>16</td>\n      <td>0</td>\n      <td>0.0</td>\n      <td>39.7500</td>\n      <td>25.2500</td>\n      <td>10</td>\n      <td>5.7</td>\n    </tr>\n    <tr>\n      <th>2</th>\n      <td>1964</td>\n      <td>4</td>\n      <td>21</td>\n      <td>8</td>\n      <td>14</td>\n      <td>40.0</td>\n      <td>38.5000</td>\n      <td>22.2500</td>\n      <td>10</td>\n      <td>4.5</td>\n    </tr>\n    <tr>\n      <th>3</th>\n      <td>1964</td>\n      <td>4</td>\n      <td>24</td>\n      <td>3</td>\n      <td>49</td>\n      <td>58.0</td>\n      <td>38.0000</td>\n      <td>21.8000</td>\n      <td>10</td>\n      <td>5.0</td>\n    </tr>\n    <tr>\n      <th>4</th>\n      <td>1964</td>\n      <td>4</td>\n      <td>29</td>\n      <td>4</td>\n      <td>21</td>\n      <td>0.0</td>\n      <td>39.2500</td>\n      <td>23.7500</td>\n      <td>10</td>\n      <td>5.8</td>\n    </tr>\n    <tr>\n      <th>...</th>\n      <td>...</td>\n      <td>...</td>\n      <td>...</td>\n      <td>...</td>\n      <td>...</td>\n      <td>...</td>\n      <td>...</td>\n      <td>...</td>\n      <td>...</td>\n      <td>...</td>\n    </tr>\n    <tr>\n      <th>313395</th>\n      <td>2021</td>\n      <td>4</td>\n      <td>9</td>\n      <td>5</td>\n      <td>0</td>\n      <td>7.4</td>\n      <td>39.7856</td>\n      <td>21.9081</td>\n      <td>5</td>\n      <td>0.6</td>\n    </tr>\n    <tr>\n      <th>313396</th>\n      <td>2021</td>\n      <td>4</td>\n      <td>9</td>\n      <td>5</td>\n      <td>0</td>\n      <td>21.9</td>\n      <td>39.7920</td>\n      <td>21.9328</td>\n      <td>5</td>\n      <td>1.5</td>\n    </tr>\n    <tr>\n      <th>313397</th>\n      <td>2021</td>\n      <td>4</td>\n      <td>9</td>\n      <td>5</td>\n      <td>1</td>\n      <td>6.5</td>\n      <td>39.7160</td>\n      <td>22.1947</td>\n      <td>8</td>\n      <td>1.0</td>\n    </tr>\n    <tr>\n      <th>313398</th>\n      <td>2021</td>\n      <td>4</td>\n      <td>9</td>\n      <td>5</td>\n      <td>2</td>\n      <td>5.6</td>\n      <td>39.7929</td>\n      <td>21.9154</td>\n      <td>6</td>\n      <td>1.0</td>\n    </tr>\n    <tr>\n      <th>313399</th>\n      <td>2021</td>\n      <td>4</td>\n      <td>9</td>\n      <td>5</td>\n      <td>15</td>\n      <td>5.0</td>\n      <td>39.8007</td>\n      <td>21.8948</td>\n      <td>7</td>\n      <td>1.2</td>\n    </tr>\n  </tbody>\n</table>\n<p>313400 rows × 10 columns</p>\n</div>"
     },
     "metadata": {},
     "execution_count": 10
    }
   ],
   "source": [
    "df"
   ]
  },
  {
   "cell_type": "code",
   "execution_count": 11,
   "metadata": {},
   "outputs": [],
   "source": [
    "df['datetime'] = (\n",
    "    df['year'].astype(str) + '-' + \n",
    "    df['month'].astype(str) + '-' +\n",
    "    df['day'].astype(str) + ' ' +\n",
    "    df['hour'].astype(str) + ':' +\n",
    "    df['minute'].astype(str) + ':' +\n",
    "    df['second'].astype(str)\n",
    ")\n",
    "    "
   ]
  },
  {
   "cell_type": "code",
   "execution_count": 12,
   "metadata": {},
   "outputs": [
    {
     "output_type": "execute_result",
     "data": {
      "text/plain": [
       "        year  month  day  hour  minute  second  latitude  lotitude  depth  \\\n",
       "event                                                                       \n",
       "0       1964      2   24    23      30    25.0   38.9000   23.9000     10   \n",
       "1       1964      4   11    16       0     0.0   39.7500   25.2500     10   \n",
       "2       1964      4   21     8      14    40.0   38.5000   22.2500     10   \n",
       "3       1964      4   24     3      49    58.0   38.0000   21.8000     10   \n",
       "4       1964      4   29     4      21     0.0   39.2500   23.7500     10   \n",
       "...      ...    ...  ...   ...     ...     ...       ...       ...    ...   \n",
       "313395  2021      4    9     5       0     7.4   39.7856   21.9081      5   \n",
       "313396  2021      4    9     5       0    21.9   39.7920   21.9328      5   \n",
       "313397  2021      4    9     5       1     6.5   39.7160   22.1947      8   \n",
       "313398  2021      4    9     5       2     5.6   39.7929   21.9154      6   \n",
       "313399  2021      4    9     5      15     5.0   39.8007   21.8948      7   \n",
       "\n",
       "        magnitude              datetime  \n",
       "event                                    \n",
       "0             5.3  1964-2-24 23:30:25.0  \n",
       "1             5.7    1964-4-11 16:0:0.0  \n",
       "2             4.5   1964-4-21 8:14:40.0  \n",
       "3             5.0   1964-4-24 3:49:58.0  \n",
       "4             5.8    1964-4-29 4:21:0.0  \n",
       "...           ...                   ...  \n",
       "313395        0.6      2021-4-9 5:0:7.4  \n",
       "313396        1.5     2021-4-9 5:0:21.9  \n",
       "313397        1.0      2021-4-9 5:1:6.5  \n",
       "313398        1.0      2021-4-9 5:2:5.6  \n",
       "313399        1.2     2021-4-9 5:15:5.0  \n",
       "\n",
       "[313400 rows x 11 columns]"
      ],
      "text/html": "<div>\n<style scoped>\n    .dataframe tbody tr th:only-of-type {\n        vertical-align: middle;\n    }\n\n    .dataframe tbody tr th {\n        vertical-align: top;\n    }\n\n    .dataframe thead th {\n        text-align: right;\n    }\n</style>\n<table border=\"1\" class=\"dataframe\">\n  <thead>\n    <tr style=\"text-align: right;\">\n      <th></th>\n      <th>year</th>\n      <th>month</th>\n      <th>day</th>\n      <th>hour</th>\n      <th>minute</th>\n      <th>second</th>\n      <th>latitude</th>\n      <th>lotitude</th>\n      <th>depth</th>\n      <th>magnitude</th>\n      <th>datetime</th>\n    </tr>\n    <tr>\n      <th>event</th>\n      <th></th>\n      <th></th>\n      <th></th>\n      <th></th>\n      <th></th>\n      <th></th>\n      <th></th>\n      <th></th>\n      <th></th>\n      <th></th>\n      <th></th>\n    </tr>\n  </thead>\n  <tbody>\n    <tr>\n      <th>0</th>\n      <td>1964</td>\n      <td>2</td>\n      <td>24</td>\n      <td>23</td>\n      <td>30</td>\n      <td>25.0</td>\n      <td>38.9000</td>\n      <td>23.9000</td>\n      <td>10</td>\n      <td>5.3</td>\n      <td>1964-2-24 23:30:25.0</td>\n    </tr>\n    <tr>\n      <th>1</th>\n      <td>1964</td>\n      <td>4</td>\n      <td>11</td>\n      <td>16</td>\n      <td>0</td>\n      <td>0.0</td>\n      <td>39.7500</td>\n      <td>25.2500</td>\n      <td>10</td>\n      <td>5.7</td>\n      <td>1964-4-11 16:0:0.0</td>\n    </tr>\n    <tr>\n      <th>2</th>\n      <td>1964</td>\n      <td>4</td>\n      <td>21</td>\n      <td>8</td>\n      <td>14</td>\n      <td>40.0</td>\n      <td>38.5000</td>\n      <td>22.2500</td>\n      <td>10</td>\n      <td>4.5</td>\n      <td>1964-4-21 8:14:40.0</td>\n    </tr>\n    <tr>\n      <th>3</th>\n      <td>1964</td>\n      <td>4</td>\n      <td>24</td>\n      <td>3</td>\n      <td>49</td>\n      <td>58.0</td>\n      <td>38.0000</td>\n      <td>21.8000</td>\n      <td>10</td>\n      <td>5.0</td>\n      <td>1964-4-24 3:49:58.0</td>\n    </tr>\n    <tr>\n      <th>4</th>\n      <td>1964</td>\n      <td>4</td>\n      <td>29</td>\n      <td>4</td>\n      <td>21</td>\n      <td>0.0</td>\n      <td>39.2500</td>\n      <td>23.7500</td>\n      <td>10</td>\n      <td>5.8</td>\n      <td>1964-4-29 4:21:0.0</td>\n    </tr>\n    <tr>\n      <th>...</th>\n      <td>...</td>\n      <td>...</td>\n      <td>...</td>\n      <td>...</td>\n      <td>...</td>\n      <td>...</td>\n      <td>...</td>\n      <td>...</td>\n      <td>...</td>\n      <td>...</td>\n      <td>...</td>\n    </tr>\n    <tr>\n      <th>313395</th>\n      <td>2021</td>\n      <td>4</td>\n      <td>9</td>\n      <td>5</td>\n      <td>0</td>\n      <td>7.4</td>\n      <td>39.7856</td>\n      <td>21.9081</td>\n      <td>5</td>\n      <td>0.6</td>\n      <td>2021-4-9 5:0:7.4</td>\n    </tr>\n    <tr>\n      <th>313396</th>\n      <td>2021</td>\n      <td>4</td>\n      <td>9</td>\n      <td>5</td>\n      <td>0</td>\n      <td>21.9</td>\n      <td>39.7920</td>\n      <td>21.9328</td>\n      <td>5</td>\n      <td>1.5</td>\n      <td>2021-4-9 5:0:21.9</td>\n    </tr>\n    <tr>\n      <th>313397</th>\n      <td>2021</td>\n      <td>4</td>\n      <td>9</td>\n      <td>5</td>\n      <td>1</td>\n      <td>6.5</td>\n      <td>39.7160</td>\n      <td>22.1947</td>\n      <td>8</td>\n      <td>1.0</td>\n      <td>2021-4-9 5:1:6.5</td>\n    </tr>\n    <tr>\n      <th>313398</th>\n      <td>2021</td>\n      <td>4</td>\n      <td>9</td>\n      <td>5</td>\n      <td>2</td>\n      <td>5.6</td>\n      <td>39.7929</td>\n      <td>21.9154</td>\n      <td>6</td>\n      <td>1.0</td>\n      <td>2021-4-9 5:2:5.6</td>\n    </tr>\n    <tr>\n      <th>313399</th>\n      <td>2021</td>\n      <td>4</td>\n      <td>9</td>\n      <td>5</td>\n      <td>15</td>\n      <td>5.0</td>\n      <td>39.8007</td>\n      <td>21.8948</td>\n      <td>7</td>\n      <td>1.2</td>\n      <td>2021-4-9 5:15:5.0</td>\n    </tr>\n  </tbody>\n</table>\n<p>313400 rows × 11 columns</p>\n</div>"
     },
     "metadata": {},
     "execution_count": 12
    }
   ],
   "source": [
    "df"
   ]
  },
  {
   "cell_type": "code",
   "execution_count": 13,
   "metadata": {},
   "outputs": [],
   "source": [
    "df.drop(columns = ['year', 'month', 'day', 'hour', 'minute', 'second'], inplace = True)"
   ]
  },
  {
   "cell_type": "code",
   "execution_count": 14,
   "metadata": {},
   "outputs": [
    {
     "output_type": "execute_result",
     "data": {
      "text/plain": [
       "        latitude  lotitude  depth  magnitude              datetime\n",
       "event                                                             \n",
       "0        38.9000   23.9000     10        5.3  1964-2-24 23:30:25.0\n",
       "1        39.7500   25.2500     10        5.7    1964-4-11 16:0:0.0\n",
       "2        38.5000   22.2500     10        4.5   1964-4-21 8:14:40.0\n",
       "3        38.0000   21.8000     10        5.0   1964-4-24 3:49:58.0\n",
       "4        39.2500   23.7500     10        5.8    1964-4-29 4:21:0.0\n",
       "...          ...       ...    ...        ...                   ...\n",
       "313395   39.7856   21.9081      5        0.6      2021-4-9 5:0:7.4\n",
       "313396   39.7920   21.9328      5        1.5     2021-4-9 5:0:21.9\n",
       "313397   39.7160   22.1947      8        1.0      2021-4-9 5:1:6.5\n",
       "313398   39.7929   21.9154      6        1.0      2021-4-9 5:2:5.6\n",
       "313399   39.8007   21.8948      7        1.2     2021-4-9 5:15:5.0\n",
       "\n",
       "[313400 rows x 5 columns]"
      ],
      "text/html": "<div>\n<style scoped>\n    .dataframe tbody tr th:only-of-type {\n        vertical-align: middle;\n    }\n\n    .dataframe tbody tr th {\n        vertical-align: top;\n    }\n\n    .dataframe thead th {\n        text-align: right;\n    }\n</style>\n<table border=\"1\" class=\"dataframe\">\n  <thead>\n    <tr style=\"text-align: right;\">\n      <th></th>\n      <th>latitude</th>\n      <th>lotitude</th>\n      <th>depth</th>\n      <th>magnitude</th>\n      <th>datetime</th>\n    </tr>\n    <tr>\n      <th>event</th>\n      <th></th>\n      <th></th>\n      <th></th>\n      <th></th>\n      <th></th>\n    </tr>\n  </thead>\n  <tbody>\n    <tr>\n      <th>0</th>\n      <td>38.9000</td>\n      <td>23.9000</td>\n      <td>10</td>\n      <td>5.3</td>\n      <td>1964-2-24 23:30:25.0</td>\n    </tr>\n    <tr>\n      <th>1</th>\n      <td>39.7500</td>\n      <td>25.2500</td>\n      <td>10</td>\n      <td>5.7</td>\n      <td>1964-4-11 16:0:0.0</td>\n    </tr>\n    <tr>\n      <th>2</th>\n      <td>38.5000</td>\n      <td>22.2500</td>\n      <td>10</td>\n      <td>4.5</td>\n      <td>1964-4-21 8:14:40.0</td>\n    </tr>\n    <tr>\n      <th>3</th>\n      <td>38.0000</td>\n      <td>21.8000</td>\n      <td>10</td>\n      <td>5.0</td>\n      <td>1964-4-24 3:49:58.0</td>\n    </tr>\n    <tr>\n      <th>4</th>\n      <td>39.2500</td>\n      <td>23.7500</td>\n      <td>10</td>\n      <td>5.8</td>\n      <td>1964-4-29 4:21:0.0</td>\n    </tr>\n    <tr>\n      <th>...</th>\n      <td>...</td>\n      <td>...</td>\n      <td>...</td>\n      <td>...</td>\n      <td>...</td>\n    </tr>\n    <tr>\n      <th>313395</th>\n      <td>39.7856</td>\n      <td>21.9081</td>\n      <td>5</td>\n      <td>0.6</td>\n      <td>2021-4-9 5:0:7.4</td>\n    </tr>\n    <tr>\n      <th>313396</th>\n      <td>39.7920</td>\n      <td>21.9328</td>\n      <td>5</td>\n      <td>1.5</td>\n      <td>2021-4-9 5:0:21.9</td>\n    </tr>\n    <tr>\n      <th>313397</th>\n      <td>39.7160</td>\n      <td>22.1947</td>\n      <td>8</td>\n      <td>1.0</td>\n      <td>2021-4-9 5:1:6.5</td>\n    </tr>\n    <tr>\n      <th>313398</th>\n      <td>39.7929</td>\n      <td>21.9154</td>\n      <td>6</td>\n      <td>1.0</td>\n      <td>2021-4-9 5:2:5.6</td>\n    </tr>\n    <tr>\n      <th>313399</th>\n      <td>39.8007</td>\n      <td>21.8948</td>\n      <td>7</td>\n      <td>1.2</td>\n      <td>2021-4-9 5:15:5.0</td>\n    </tr>\n  </tbody>\n</table>\n<p>313400 rows × 5 columns</p>\n</div>"
     },
     "metadata": {},
     "execution_count": 14
    }
   ],
   "source": [
    "df"
   ]
  },
  {
   "cell_type": "code",
   "execution_count": 15,
   "metadata": {},
   "outputs": [
    {
     "output_type": "execute_result",
     "data": {
      "text/plain": [
       "['latitude', 'lotitude', 'depth', 'magnitude', 'datetime']"
      ]
     },
     "metadata": {},
     "execution_count": 15
    }
   ],
   "source": [
    "list(df.columns.values)"
   ]
  },
  {
   "cell_type": "code",
   "execution_count": 16,
   "metadata": {},
   "outputs": [],
   "source": [
    "df = df[['datetime', 'latitude', 'lotitude', 'depth', 'magnitude']]"
   ]
  },
  {
   "cell_type": "code",
   "execution_count": 17,
   "metadata": {},
   "outputs": [
    {
     "output_type": "execute_result",
     "data": {
      "text/plain": [
       "                    datetime  latitude  lotitude  depth  magnitude\n",
       "event                                                             \n",
       "0       1964-2-24 23:30:25.0   38.9000   23.9000     10        5.3\n",
       "1         1964-4-11 16:0:0.0   39.7500   25.2500     10        5.7\n",
       "2        1964-4-21 8:14:40.0   38.5000   22.2500     10        4.5\n",
       "3        1964-4-24 3:49:58.0   38.0000   21.8000     10        5.0\n",
       "4         1964-4-29 4:21:0.0   39.2500   23.7500     10        5.8\n",
       "...                      ...       ...       ...    ...        ...\n",
       "313395      2021-4-9 5:0:7.4   39.7856   21.9081      5        0.6\n",
       "313396     2021-4-9 5:0:21.9   39.7920   21.9328      5        1.5\n",
       "313397      2021-4-9 5:1:6.5   39.7160   22.1947      8        1.0\n",
       "313398      2021-4-9 5:2:5.6   39.7929   21.9154      6        1.0\n",
       "313399     2021-4-9 5:15:5.0   39.8007   21.8948      7        1.2\n",
       "\n",
       "[313400 rows x 5 columns]"
      ],
      "text/html": "<div>\n<style scoped>\n    .dataframe tbody tr th:only-of-type {\n        vertical-align: middle;\n    }\n\n    .dataframe tbody tr th {\n        vertical-align: top;\n    }\n\n    .dataframe thead th {\n        text-align: right;\n    }\n</style>\n<table border=\"1\" class=\"dataframe\">\n  <thead>\n    <tr style=\"text-align: right;\">\n      <th></th>\n      <th>datetime</th>\n      <th>latitude</th>\n      <th>lotitude</th>\n      <th>depth</th>\n      <th>magnitude</th>\n    </tr>\n    <tr>\n      <th>event</th>\n      <th></th>\n      <th></th>\n      <th></th>\n      <th></th>\n      <th></th>\n    </tr>\n  </thead>\n  <tbody>\n    <tr>\n      <th>0</th>\n      <td>1964-2-24 23:30:25.0</td>\n      <td>38.9000</td>\n      <td>23.9000</td>\n      <td>10</td>\n      <td>5.3</td>\n    </tr>\n    <tr>\n      <th>1</th>\n      <td>1964-4-11 16:0:0.0</td>\n      <td>39.7500</td>\n      <td>25.2500</td>\n      <td>10</td>\n      <td>5.7</td>\n    </tr>\n    <tr>\n      <th>2</th>\n      <td>1964-4-21 8:14:40.0</td>\n      <td>38.5000</td>\n      <td>22.2500</td>\n      <td>10</td>\n      <td>4.5</td>\n    </tr>\n    <tr>\n      <th>3</th>\n      <td>1964-4-24 3:49:58.0</td>\n      <td>38.0000</td>\n      <td>21.8000</td>\n      <td>10</td>\n      <td>5.0</td>\n    </tr>\n    <tr>\n      <th>4</th>\n      <td>1964-4-29 4:21:0.0</td>\n      <td>39.2500</td>\n      <td>23.7500</td>\n      <td>10</td>\n      <td>5.8</td>\n    </tr>\n    <tr>\n      <th>...</th>\n      <td>...</td>\n      <td>...</td>\n      <td>...</td>\n      <td>...</td>\n      <td>...</td>\n    </tr>\n    <tr>\n      <th>313395</th>\n      <td>2021-4-9 5:0:7.4</td>\n      <td>39.7856</td>\n      <td>21.9081</td>\n      <td>5</td>\n      <td>0.6</td>\n    </tr>\n    <tr>\n      <th>313396</th>\n      <td>2021-4-9 5:0:21.9</td>\n      <td>39.7920</td>\n      <td>21.9328</td>\n      <td>5</td>\n      <td>1.5</td>\n    </tr>\n    <tr>\n      <th>313397</th>\n      <td>2021-4-9 5:1:6.5</td>\n      <td>39.7160</td>\n      <td>22.1947</td>\n      <td>8</td>\n      <td>1.0</td>\n    </tr>\n    <tr>\n      <th>313398</th>\n      <td>2021-4-9 5:2:5.6</td>\n      <td>39.7929</td>\n      <td>21.9154</td>\n      <td>6</td>\n      <td>1.0</td>\n    </tr>\n    <tr>\n      <th>313399</th>\n      <td>2021-4-9 5:15:5.0</td>\n      <td>39.8007</td>\n      <td>21.8948</td>\n      <td>7</td>\n      <td>1.2</td>\n    </tr>\n  </tbody>\n</table>\n<p>313400 rows × 5 columns</p>\n</div>"
     },
     "metadata": {},
     "execution_count": 17
    }
   ],
   "source": [
    "df"
   ]
  },
  {
   "cell_type": "code",
   "execution_count": 18,
   "metadata": {},
   "outputs": [
    {
     "output_type": "execute_result",
     "data": {
      "text/plain": [
       "datetime      object\n",
       "latitude     float64\n",
       "lotitude     float64\n",
       "depth          int64\n",
       "magnitude    float64\n",
       "dtype: object"
      ]
     },
     "metadata": {},
     "execution_count": 18
    }
   ],
   "source": [
    "df.dtypes"
   ]
  },
  {
   "cell_type": "code",
   "execution_count": 19,
   "metadata": {},
   "outputs": [],
   "source": [
    "df['datetime'] = pandas.to_datetime(df['datetime'])"
   ]
  },
  {
   "cell_type": "code",
   "execution_count": 20,
   "metadata": {},
   "outputs": [
    {
     "output_type": "execute_result",
     "data": {
      "text/plain": [
       "                      datetime  latitude  lotitude  depth  magnitude\n",
       "event                                                               \n",
       "0      1964-02-24 23:30:25.000   38.9000   23.9000     10        5.3\n",
       "1      1964-04-11 16:00:00.000   39.7500   25.2500     10        5.7\n",
       "2      1964-04-21 08:14:40.000   38.5000   22.2500     10        4.5\n",
       "3      1964-04-24 03:49:58.000   38.0000   21.8000     10        5.0\n",
       "4      1964-04-29 04:21:00.000   39.2500   23.7500     10        5.8\n",
       "...                        ...       ...       ...    ...        ...\n",
       "313395 2021-04-09 05:00:07.400   39.7856   21.9081      5        0.6\n",
       "313396 2021-04-09 05:00:21.900   39.7920   21.9328      5        1.5\n",
       "313397 2021-04-09 05:01:06.500   39.7160   22.1947      8        1.0\n",
       "313398 2021-04-09 05:02:05.600   39.7929   21.9154      6        1.0\n",
       "313399 2021-04-09 05:15:05.000   39.8007   21.8948      7        1.2\n",
       "\n",
       "[313400 rows x 5 columns]"
      ],
      "text/html": "<div>\n<style scoped>\n    .dataframe tbody tr th:only-of-type {\n        vertical-align: middle;\n    }\n\n    .dataframe tbody tr th {\n        vertical-align: top;\n    }\n\n    .dataframe thead th {\n        text-align: right;\n    }\n</style>\n<table border=\"1\" class=\"dataframe\">\n  <thead>\n    <tr style=\"text-align: right;\">\n      <th></th>\n      <th>datetime</th>\n      <th>latitude</th>\n      <th>lotitude</th>\n      <th>depth</th>\n      <th>magnitude</th>\n    </tr>\n    <tr>\n      <th>event</th>\n      <th></th>\n      <th></th>\n      <th></th>\n      <th></th>\n      <th></th>\n    </tr>\n  </thead>\n  <tbody>\n    <tr>\n      <th>0</th>\n      <td>1964-02-24 23:30:25.000</td>\n      <td>38.9000</td>\n      <td>23.9000</td>\n      <td>10</td>\n      <td>5.3</td>\n    </tr>\n    <tr>\n      <th>1</th>\n      <td>1964-04-11 16:00:00.000</td>\n      <td>39.7500</td>\n      <td>25.2500</td>\n      <td>10</td>\n      <td>5.7</td>\n    </tr>\n    <tr>\n      <th>2</th>\n      <td>1964-04-21 08:14:40.000</td>\n      <td>38.5000</td>\n      <td>22.2500</td>\n      <td>10</td>\n      <td>4.5</td>\n    </tr>\n    <tr>\n      <th>3</th>\n      <td>1964-04-24 03:49:58.000</td>\n      <td>38.0000</td>\n      <td>21.8000</td>\n      <td>10</td>\n      <td>5.0</td>\n    </tr>\n    <tr>\n      <th>4</th>\n      <td>1964-04-29 04:21:00.000</td>\n      <td>39.2500</td>\n      <td>23.7500</td>\n      <td>10</td>\n      <td>5.8</td>\n    </tr>\n    <tr>\n      <th>...</th>\n      <td>...</td>\n      <td>...</td>\n      <td>...</td>\n      <td>...</td>\n      <td>...</td>\n    </tr>\n    <tr>\n      <th>313395</th>\n      <td>2021-04-09 05:00:07.400</td>\n      <td>39.7856</td>\n      <td>21.9081</td>\n      <td>5</td>\n      <td>0.6</td>\n    </tr>\n    <tr>\n      <th>313396</th>\n      <td>2021-04-09 05:00:21.900</td>\n      <td>39.7920</td>\n      <td>21.9328</td>\n      <td>5</td>\n      <td>1.5</td>\n    </tr>\n    <tr>\n      <th>313397</th>\n      <td>2021-04-09 05:01:06.500</td>\n      <td>39.7160</td>\n      <td>22.1947</td>\n      <td>8</td>\n      <td>1.0</td>\n    </tr>\n    <tr>\n      <th>313398</th>\n      <td>2021-04-09 05:02:05.600</td>\n      <td>39.7929</td>\n      <td>21.9154</td>\n      <td>6</td>\n      <td>1.0</td>\n    </tr>\n    <tr>\n      <th>313399</th>\n      <td>2021-04-09 05:15:05.000</td>\n      <td>39.8007</td>\n      <td>21.8948</td>\n      <td>7</td>\n      <td>1.2</td>\n    </tr>\n  </tbody>\n</table>\n<p>313400 rows × 5 columns</p>\n</div>"
     },
     "metadata": {},
     "execution_count": 20
    }
   ],
   "source": [
    "df"
   ]
  },
  {
   "cell_type": "code",
   "execution_count": 21,
   "metadata": {},
   "outputs": [
    {
     "output_type": "execute_result",
     "data": {
      "text/plain": [
       "datetime     datetime64[ns]\n",
       "latitude            float64\n",
       "lotitude            float64\n",
       "depth                 int64\n",
       "magnitude           float64\n",
       "dtype: object"
      ]
     },
     "metadata": {},
     "execution_count": 21
    }
   ],
   "source": [
    "df.dtypes"
   ]
  },
  {
   "cell_type": "code",
   "execution_count": null,
   "metadata": {},
   "outputs": [],
   "source": []
  }
 ]
}