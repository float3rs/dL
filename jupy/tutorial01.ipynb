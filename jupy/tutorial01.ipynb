{
 "metadata": {
  "language_info": {
   "codemirror_mode": {
    "name": "ipython",
    "version": 3
   },
   "file_extension": ".py",
   "mimetype": "text/x-python",
   "name": "python",
   "nbconvert_exporter": "python",
   "pygments_lexer": "ipython3",
   "version": "3.8.5-final"
  },
  "orig_nbformat": 2,
  "kernelspec": {
   "name": "python385jvsc74a57bd0dca0ade3e726a953b501b15e8e990130d2b7799f14cfd9f4271676035ebe5511",
   "display_name": "Python 3.8.5 64-bit ('base': conda)"
  }
 },
 "nbformat": 4,
 "nbformat_minor": 2,
 "cells": [
  {
   "cell_type": "code",
   "execution_count": 3,
   "metadata": {},
   "outputs": [],
   "source": [
    "import pandas\n",
    "df = pandas.read_csv('full.csv')\n",
    "df_schema = pandas.read_csv('schema.csv')"
   ]
  },
  {
   "cell_type": "code",
   "execution_count": 4,
   "metadata": {},
   "outputs": [
    {
     "output_type": "execute_result",
     "data": {
      "text/plain": [
       "        YEAR MONTH  DAY  HOUR  MINUTE  SECOND  LATITUDE  LONGITUDE  DEPTH  \\\n",
       "0       1964   FEB   24    23      30    25.0   38.9000    23.9000     10   \n",
       "1       1964   APR   11    16       0     0.0   39.7500    25.2500     10   \n",
       "2       1964   APR   21     8      14    40.0   38.5000    22.2500     10   \n",
       "3       1964   APR   24     3      49    58.0   38.0000    21.8000     10   \n",
       "4       1964   APR   29     4      21     0.0   39.2500    23.7500     10   \n",
       "...      ...   ...  ...   ...     ...     ...       ...        ...    ...   \n",
       "313395  2021   APR    9     5       0     7.4   39.7856    21.9081      5   \n",
       "313396  2021   APR    9     5       0    21.9   39.7920    21.9328      5   \n",
       "313397  2021   APR    9     5       1     6.5   39.7160    22.1947      8   \n",
       "313398  2021   APR    9     5       2     5.6   39.7929    21.9154      6   \n",
       "313399  2021   APR    9     5      15     5.0   39.8007    21.8948      7   \n",
       "\n",
       "        MAGNITUDE  \n",
       "0             5.3  \n",
       "1             5.7  \n",
       "2             4.5  \n",
       "3             5.0  \n",
       "4             5.8  \n",
       "...           ...  \n",
       "313395        0.6  \n",
       "313396        1.5  \n",
       "313397        1.0  \n",
       "313398        1.0  \n",
       "313399        1.2  \n",
       "\n",
       "[313400 rows x 10 columns]"
      ],
      "text/html": "<div>\n<style scoped>\n    .dataframe tbody tr th:only-of-type {\n        vertical-align: middle;\n    }\n\n    .dataframe tbody tr th {\n        vertical-align: top;\n    }\n\n    .dataframe thead th {\n        text-align: right;\n    }\n</style>\n<table border=\"1\" class=\"dataframe\">\n  <thead>\n    <tr style=\"text-align: right;\">\n      <th></th>\n      <th>YEAR</th>\n      <th>MONTH</th>\n      <th>DAY</th>\n      <th>HOUR</th>\n      <th>MINUTE</th>\n      <th>SECOND</th>\n      <th>LATITUDE</th>\n      <th>LONGITUDE</th>\n      <th>DEPTH</th>\n      <th>MAGNITUDE</th>\n    </tr>\n  </thead>\n  <tbody>\n    <tr>\n      <th>0</th>\n      <td>1964</td>\n      <td>FEB</td>\n      <td>24</td>\n      <td>23</td>\n      <td>30</td>\n      <td>25.0</td>\n      <td>38.9000</td>\n      <td>23.9000</td>\n      <td>10</td>\n      <td>5.3</td>\n    </tr>\n    <tr>\n      <th>1</th>\n      <td>1964</td>\n      <td>APR</td>\n      <td>11</td>\n      <td>16</td>\n      <td>0</td>\n      <td>0.0</td>\n      <td>39.7500</td>\n      <td>25.2500</td>\n      <td>10</td>\n      <td>5.7</td>\n    </tr>\n    <tr>\n      <th>2</th>\n      <td>1964</td>\n      <td>APR</td>\n      <td>21</td>\n      <td>8</td>\n      <td>14</td>\n      <td>40.0</td>\n      <td>38.5000</td>\n      <td>22.2500</td>\n      <td>10</td>\n      <td>4.5</td>\n    </tr>\n    <tr>\n      <th>3</th>\n      <td>1964</td>\n      <td>APR</td>\n      <td>24</td>\n      <td>3</td>\n      <td>49</td>\n      <td>58.0</td>\n      <td>38.0000</td>\n      <td>21.8000</td>\n      <td>10</td>\n      <td>5.0</td>\n    </tr>\n    <tr>\n      <th>4</th>\n      <td>1964</td>\n      <td>APR</td>\n      <td>29</td>\n      <td>4</td>\n      <td>21</td>\n      <td>0.0</td>\n      <td>39.2500</td>\n      <td>23.7500</td>\n      <td>10</td>\n      <td>5.8</td>\n    </tr>\n    <tr>\n      <th>...</th>\n      <td>...</td>\n      <td>...</td>\n      <td>...</td>\n      <td>...</td>\n      <td>...</td>\n      <td>...</td>\n      <td>...</td>\n      <td>...</td>\n      <td>...</td>\n      <td>...</td>\n    </tr>\n    <tr>\n      <th>313395</th>\n      <td>2021</td>\n      <td>APR</td>\n      <td>9</td>\n      <td>5</td>\n      <td>0</td>\n      <td>7.4</td>\n      <td>39.7856</td>\n      <td>21.9081</td>\n      <td>5</td>\n      <td>0.6</td>\n    </tr>\n    <tr>\n      <th>313396</th>\n      <td>2021</td>\n      <td>APR</td>\n      <td>9</td>\n      <td>5</td>\n      <td>0</td>\n      <td>21.9</td>\n      <td>39.7920</td>\n      <td>21.9328</td>\n      <td>5</td>\n      <td>1.5</td>\n    </tr>\n    <tr>\n      <th>313397</th>\n      <td>2021</td>\n      <td>APR</td>\n      <td>9</td>\n      <td>5</td>\n      <td>1</td>\n      <td>6.5</td>\n      <td>39.7160</td>\n      <td>22.1947</td>\n      <td>8</td>\n      <td>1.0</td>\n    </tr>\n    <tr>\n      <th>313398</th>\n      <td>2021</td>\n      <td>APR</td>\n      <td>9</td>\n      <td>5</td>\n      <td>2</td>\n      <td>5.6</td>\n      <td>39.7929</td>\n      <td>21.9154</td>\n      <td>6</td>\n      <td>1.0</td>\n    </tr>\n    <tr>\n      <th>313399</th>\n      <td>2021</td>\n      <td>APR</td>\n      <td>9</td>\n      <td>5</td>\n      <td>15</td>\n      <td>5.0</td>\n      <td>39.8007</td>\n      <td>21.8948</td>\n      <td>7</td>\n      <td>1.2</td>\n    </tr>\n  </tbody>\n</table>\n<p>313400 rows × 10 columns</p>\n</div>"
     },
     "metadata": {},
     "execution_count": 4
    }
   ],
   "source": [
    "df"
   ]
  },
  {
   "cell_type": "code",
   "execution_count": 5,
   "metadata": {},
   "outputs": [
    {
     "output_type": "execute_result",
     "data": {
      "text/plain": [
       "      COLUMN                   ATTRIBUTE\n",
       "0       YEAR       event Date: Year XXXX\n",
       "1      MONTH      event Date: Month abbr\n",
       "2        DAY             event Date: Day\n",
       "3       HOUR  event Time (GMT): Hour 24h\n",
       "4     MINUTE    event Time (GMT): Minute\n",
       "5     SECOND    event Time (GMT): Second\n",
       "6   LATITUDE          event Latitude (N)\n",
       "7  LONGITUDE         event Longitude (E)\n",
       "8      DEPTH            event Depth (km)\n",
       "9  MAGNITUDE          event Magnitude Mr"
      ],
      "text/html": "<div>\n<style scoped>\n    .dataframe tbody tr th:only-of-type {\n        vertical-align: middle;\n    }\n\n    .dataframe tbody tr th {\n        vertical-align: top;\n    }\n\n    .dataframe thead th {\n        text-align: right;\n    }\n</style>\n<table border=\"1\" class=\"dataframe\">\n  <thead>\n    <tr style=\"text-align: right;\">\n      <th></th>\n      <th>COLUMN</th>\n      <th>ATTRIBUTE</th>\n    </tr>\n  </thead>\n  <tbody>\n    <tr>\n      <th>0</th>\n      <td>YEAR</td>\n      <td>event Date: Year XXXX</td>\n    </tr>\n    <tr>\n      <th>1</th>\n      <td>MONTH</td>\n      <td>event Date: Month abbr</td>\n    </tr>\n    <tr>\n      <th>2</th>\n      <td>DAY</td>\n      <td>event Date: Day</td>\n    </tr>\n    <tr>\n      <th>3</th>\n      <td>HOUR</td>\n      <td>event Time (GMT): Hour 24h</td>\n    </tr>\n    <tr>\n      <th>4</th>\n      <td>MINUTE</td>\n      <td>event Time (GMT): Minute</td>\n    </tr>\n    <tr>\n      <th>5</th>\n      <td>SECOND</td>\n      <td>event Time (GMT): Second</td>\n    </tr>\n    <tr>\n      <th>6</th>\n      <td>LATITUDE</td>\n      <td>event Latitude (N)</td>\n    </tr>\n    <tr>\n      <th>7</th>\n      <td>LONGITUDE</td>\n      <td>event Longitude (E)</td>\n    </tr>\n    <tr>\n      <th>8</th>\n      <td>DEPTH</td>\n      <td>event Depth (km)</td>\n    </tr>\n    <tr>\n      <th>9</th>\n      <td>MAGNITUDE</td>\n      <td>event Magnitude Mr</td>\n    </tr>\n  </tbody>\n</table>\n</div>"
     },
     "metadata": {},
     "execution_count": 5
    }
   ],
   "source": [
    "df_schema"
   ]
  },
  {
   "cell_type": "code",
   "execution_count": 6,
   "metadata": {},
   "outputs": [
    {
     "output_type": "execute_result",
     "data": {
      "text/plain": [
       "0         5.3\n",
       "1         5.7\n",
       "2         4.5\n",
       "3         5.0\n",
       "4         5.8\n",
       "         ... \n",
       "313395    0.6\n",
       "313396    1.5\n",
       "313397    1.0\n",
       "313398    1.0\n",
       "313399    1.2\n",
       "Name: MAGNITUDE, Length: 313400, dtype: float64"
      ]
     },
     "metadata": {},
     "execution_count": 6
    }
   ],
   "source": [
    "df['MAGNITUDE']"
   ]
  },
  {
   "source": [
    "set the magnitude as the indices of these events (that will not work here, try it anyway)"
   ],
   "cell_type": "markdown",
   "metadata": {}
  },
  {
   "cell_type": "code",
   "execution_count": 7,
   "metadata": {},
   "outputs": [
    {
     "output_type": "execute_result",
     "data": {
      "text/plain": [
       "           YEAR MONTH  DAY  HOUR  MINUTE  SECOND  LATITUDE  LONGITUDE  DEPTH\n",
       "MAGNITUDE                                                                   \n",
       "5.3        1964   FEB   24    23      30    25.0   38.9000    23.9000     10\n",
       "5.7        1964   APR   11    16       0     0.0   39.7500    25.2500     10\n",
       "4.5        1964   APR   21     8      14    40.0   38.5000    22.2500     10\n",
       "5.0        1964   APR   24     3      49    58.0   38.0000    21.8000     10\n",
       "5.8        1964   APR   29     4      21     0.0   39.2500    23.7500     10\n",
       "...         ...   ...  ...   ...     ...     ...       ...        ...    ...\n",
       "0.6        2021   APR    9     5       0     7.4   39.7856    21.9081      5\n",
       "1.5        2021   APR    9     5       0    21.9   39.7920    21.9328      5\n",
       "1.0        2021   APR    9     5       1     6.5   39.7160    22.1947      8\n",
       "1.0        2021   APR    9     5       2     5.6   39.7929    21.9154      6\n",
       "1.2        2021   APR    9     5      15     5.0   39.8007    21.8948      7\n",
       "\n",
       "[313400 rows x 9 columns]"
      ],
      "text/html": "<div>\n<style scoped>\n    .dataframe tbody tr th:only-of-type {\n        vertical-align: middle;\n    }\n\n    .dataframe tbody tr th {\n        vertical-align: top;\n    }\n\n    .dataframe thead th {\n        text-align: right;\n    }\n</style>\n<table border=\"1\" class=\"dataframe\">\n  <thead>\n    <tr style=\"text-align: right;\">\n      <th></th>\n      <th>YEAR</th>\n      <th>MONTH</th>\n      <th>DAY</th>\n      <th>HOUR</th>\n      <th>MINUTE</th>\n      <th>SECOND</th>\n      <th>LATITUDE</th>\n      <th>LONGITUDE</th>\n      <th>DEPTH</th>\n    </tr>\n    <tr>\n      <th>MAGNITUDE</th>\n      <th></th>\n      <th></th>\n      <th></th>\n      <th></th>\n      <th></th>\n      <th></th>\n      <th></th>\n      <th></th>\n      <th></th>\n    </tr>\n  </thead>\n  <tbody>\n    <tr>\n      <th>5.3</th>\n      <td>1964</td>\n      <td>FEB</td>\n      <td>24</td>\n      <td>23</td>\n      <td>30</td>\n      <td>25.0</td>\n      <td>38.9000</td>\n      <td>23.9000</td>\n      <td>10</td>\n    </tr>\n    <tr>\n      <th>5.7</th>\n      <td>1964</td>\n      <td>APR</td>\n      <td>11</td>\n      <td>16</td>\n      <td>0</td>\n      <td>0.0</td>\n      <td>39.7500</td>\n      <td>25.2500</td>\n      <td>10</td>\n    </tr>\n    <tr>\n      <th>4.5</th>\n      <td>1964</td>\n      <td>APR</td>\n      <td>21</td>\n      <td>8</td>\n      <td>14</td>\n      <td>40.0</td>\n      <td>38.5000</td>\n      <td>22.2500</td>\n      <td>10</td>\n    </tr>\n    <tr>\n      <th>5.0</th>\n      <td>1964</td>\n      <td>APR</td>\n      <td>24</td>\n      <td>3</td>\n      <td>49</td>\n      <td>58.0</td>\n      <td>38.0000</td>\n      <td>21.8000</td>\n      <td>10</td>\n    </tr>\n    <tr>\n      <th>5.8</th>\n      <td>1964</td>\n      <td>APR</td>\n      <td>29</td>\n      <td>4</td>\n      <td>21</td>\n      <td>0.0</td>\n      <td>39.2500</td>\n      <td>23.7500</td>\n      <td>10</td>\n    </tr>\n    <tr>\n      <th>...</th>\n      <td>...</td>\n      <td>...</td>\n      <td>...</td>\n      <td>...</td>\n      <td>...</td>\n      <td>...</td>\n      <td>...</td>\n      <td>...</td>\n      <td>...</td>\n    </tr>\n    <tr>\n      <th>0.6</th>\n      <td>2021</td>\n      <td>APR</td>\n      <td>9</td>\n      <td>5</td>\n      <td>0</td>\n      <td>7.4</td>\n      <td>39.7856</td>\n      <td>21.9081</td>\n      <td>5</td>\n    </tr>\n    <tr>\n      <th>1.5</th>\n      <td>2021</td>\n      <td>APR</td>\n      <td>9</td>\n      <td>5</td>\n      <td>0</td>\n      <td>21.9</td>\n      <td>39.7920</td>\n      <td>21.9328</td>\n      <td>5</td>\n    </tr>\n    <tr>\n      <th>1.0</th>\n      <td>2021</td>\n      <td>APR</td>\n      <td>9</td>\n      <td>5</td>\n      <td>1</td>\n      <td>6.5</td>\n      <td>39.7160</td>\n      <td>22.1947</td>\n      <td>8</td>\n    </tr>\n    <tr>\n      <th>1.0</th>\n      <td>2021</td>\n      <td>APR</td>\n      <td>9</td>\n      <td>5</td>\n      <td>2</td>\n      <td>5.6</td>\n      <td>39.7929</td>\n      <td>21.9154</td>\n      <td>6</td>\n    </tr>\n    <tr>\n      <th>1.2</th>\n      <td>2021</td>\n      <td>APR</td>\n      <td>9</td>\n      <td>5</td>\n      <td>15</td>\n      <td>5.0</td>\n      <td>39.8007</td>\n      <td>21.8948</td>\n      <td>7</td>\n    </tr>\n  </tbody>\n</table>\n<p>313400 rows × 9 columns</p>\n</div>"
     },
     "metadata": {},
     "execution_count": 7
    }
   ],
   "source": [
    "df.set_index('MAGNITUDE')"
   ]
  },
  {
   "source": [
    "wow, actually it did work"
   ],
   "cell_type": "markdown",
   "metadata": {}
  },
  {
   "cell_type": "code",
   "execution_count": 8,
   "metadata": {},
   "outputs": [
    {
     "output_type": "execute_result",
     "data": {
      "text/plain": [
       "        YEAR MONTH  DAY  HOUR  MINUTE  SECOND  LATITUDE  LONGITUDE  DEPTH  \\\n",
       "0       1964   FEB   24    23      30    25.0   38.9000    23.9000     10   \n",
       "1       1964   APR   11    16       0     0.0   39.7500    25.2500     10   \n",
       "2       1964   APR   21     8      14    40.0   38.5000    22.2500     10   \n",
       "3       1964   APR   24     3      49    58.0   38.0000    21.8000     10   \n",
       "4       1964   APR   29     4      21     0.0   39.2500    23.7500     10   \n",
       "...      ...   ...  ...   ...     ...     ...       ...        ...    ...   \n",
       "313395  2021   APR    9     5       0     7.4   39.7856    21.9081      5   \n",
       "313396  2021   APR    9     5       0    21.9   39.7920    21.9328      5   \n",
       "313397  2021   APR    9     5       1     6.5   39.7160    22.1947      8   \n",
       "313398  2021   APR    9     5       2     5.6   39.7929    21.9154      6   \n",
       "313399  2021   APR    9     5      15     5.0   39.8007    21.8948      7   \n",
       "\n",
       "        MAGNITUDE  \n",
       "0             5.3  \n",
       "1             5.7  \n",
       "2             4.5  \n",
       "3             5.0  \n",
       "4             5.8  \n",
       "...           ...  \n",
       "313395        0.6  \n",
       "313396        1.5  \n",
       "313397        1.0  \n",
       "313398        1.0  \n",
       "313399        1.2  \n",
       "\n",
       "[313400 rows x 10 columns]"
      ],
      "text/html": "<div>\n<style scoped>\n    .dataframe tbody tr th:only-of-type {\n        vertical-align: middle;\n    }\n\n    .dataframe tbody tr th {\n        vertical-align: top;\n    }\n\n    .dataframe thead th {\n        text-align: right;\n    }\n</style>\n<table border=\"1\" class=\"dataframe\">\n  <thead>\n    <tr style=\"text-align: right;\">\n      <th></th>\n      <th>YEAR</th>\n      <th>MONTH</th>\n      <th>DAY</th>\n      <th>HOUR</th>\n      <th>MINUTE</th>\n      <th>SECOND</th>\n      <th>LATITUDE</th>\n      <th>LONGITUDE</th>\n      <th>DEPTH</th>\n      <th>MAGNITUDE</th>\n    </tr>\n  </thead>\n  <tbody>\n    <tr>\n      <th>0</th>\n      <td>1964</td>\n      <td>FEB</td>\n      <td>24</td>\n      <td>23</td>\n      <td>30</td>\n      <td>25.0</td>\n      <td>38.9000</td>\n      <td>23.9000</td>\n      <td>10</td>\n      <td>5.3</td>\n    </tr>\n    <tr>\n      <th>1</th>\n      <td>1964</td>\n      <td>APR</td>\n      <td>11</td>\n      <td>16</td>\n      <td>0</td>\n      <td>0.0</td>\n      <td>39.7500</td>\n      <td>25.2500</td>\n      <td>10</td>\n      <td>5.7</td>\n    </tr>\n    <tr>\n      <th>2</th>\n      <td>1964</td>\n      <td>APR</td>\n      <td>21</td>\n      <td>8</td>\n      <td>14</td>\n      <td>40.0</td>\n      <td>38.5000</td>\n      <td>22.2500</td>\n      <td>10</td>\n      <td>4.5</td>\n    </tr>\n    <tr>\n      <th>3</th>\n      <td>1964</td>\n      <td>APR</td>\n      <td>24</td>\n      <td>3</td>\n      <td>49</td>\n      <td>58.0</td>\n      <td>38.0000</td>\n      <td>21.8000</td>\n      <td>10</td>\n      <td>5.0</td>\n    </tr>\n    <tr>\n      <th>4</th>\n      <td>1964</td>\n      <td>APR</td>\n      <td>29</td>\n      <td>4</td>\n      <td>21</td>\n      <td>0.0</td>\n      <td>39.2500</td>\n      <td>23.7500</td>\n      <td>10</td>\n      <td>5.8</td>\n    </tr>\n    <tr>\n      <th>...</th>\n      <td>...</td>\n      <td>...</td>\n      <td>...</td>\n      <td>...</td>\n      <td>...</td>\n      <td>...</td>\n      <td>...</td>\n      <td>...</td>\n      <td>...</td>\n      <td>...</td>\n    </tr>\n    <tr>\n      <th>313395</th>\n      <td>2021</td>\n      <td>APR</td>\n      <td>9</td>\n      <td>5</td>\n      <td>0</td>\n      <td>7.4</td>\n      <td>39.7856</td>\n      <td>21.9081</td>\n      <td>5</td>\n      <td>0.6</td>\n    </tr>\n    <tr>\n      <th>313396</th>\n      <td>2021</td>\n      <td>APR</td>\n      <td>9</td>\n      <td>5</td>\n      <td>0</td>\n      <td>21.9</td>\n      <td>39.7920</td>\n      <td>21.9328</td>\n      <td>5</td>\n      <td>1.5</td>\n    </tr>\n    <tr>\n      <th>313397</th>\n      <td>2021</td>\n      <td>APR</td>\n      <td>9</td>\n      <td>5</td>\n      <td>1</td>\n      <td>6.5</td>\n      <td>39.7160</td>\n      <td>22.1947</td>\n      <td>8</td>\n      <td>1.0</td>\n    </tr>\n    <tr>\n      <th>313398</th>\n      <td>2021</td>\n      <td>APR</td>\n      <td>9</td>\n      <td>5</td>\n      <td>2</td>\n      <td>5.6</td>\n      <td>39.7929</td>\n      <td>21.9154</td>\n      <td>6</td>\n      <td>1.0</td>\n    </tr>\n    <tr>\n      <th>313399</th>\n      <td>2021</td>\n      <td>APR</td>\n      <td>9</td>\n      <td>5</td>\n      <td>15</td>\n      <td>5.0</td>\n      <td>39.8007</td>\n      <td>21.8948</td>\n      <td>7</td>\n      <td>1.2</td>\n    </tr>\n  </tbody>\n</table>\n<p>313400 rows × 10 columns</p>\n</div>"
     },
     "metadata": {},
     "execution_count": 8
    }
   ],
   "source": [
    "df"
   ]
  },
  {
   "source": [
    "dataframe didn't actually change, pandas do not make changes in place\n",
    "now if we make it permanent:§"
   ],
   "cell_type": "markdown",
   "metadata": {}
  },
  {
   "cell_type": "code",
   "execution_count": 9,
   "metadata": {},
   "outputs": [
    {
     "output_type": "execute_result",
     "data": {
      "text/plain": [
       "           YEAR MONTH  DAY  HOUR  MINUTE  SECOND  LATITUDE  LONGITUDE  DEPTH\n",
       "MAGNITUDE                                                                   \n",
       "5.3        1964   FEB   24    23      30    25.0   38.9000    23.9000     10\n",
       "5.7        1964   APR   11    16       0     0.0   39.7500    25.2500     10\n",
       "4.5        1964   APR   21     8      14    40.0   38.5000    22.2500     10\n",
       "5.0        1964   APR   24     3      49    58.0   38.0000    21.8000     10\n",
       "5.8        1964   APR   29     4      21     0.0   39.2500    23.7500     10\n",
       "...         ...   ...  ...   ...     ...     ...       ...        ...    ...\n",
       "0.6        2021   APR    9     5       0     7.4   39.7856    21.9081      5\n",
       "1.5        2021   APR    9     5       0    21.9   39.7920    21.9328      5\n",
       "1.0        2021   APR    9     5       1     6.5   39.7160    22.1947      8\n",
       "1.0        2021   APR    9     5       2     5.6   39.7929    21.9154      6\n",
       "1.2        2021   APR    9     5      15     5.0   39.8007    21.8948      7\n",
       "\n",
       "[313400 rows x 9 columns]"
      ],
      "text/html": "<div>\n<style scoped>\n    .dataframe tbody tr th:only-of-type {\n        vertical-align: middle;\n    }\n\n    .dataframe tbody tr th {\n        vertical-align: top;\n    }\n\n    .dataframe thead th {\n        text-align: right;\n    }\n</style>\n<table border=\"1\" class=\"dataframe\">\n  <thead>\n    <tr style=\"text-align: right;\">\n      <th></th>\n      <th>YEAR</th>\n      <th>MONTH</th>\n      <th>DAY</th>\n      <th>HOUR</th>\n      <th>MINUTE</th>\n      <th>SECOND</th>\n      <th>LATITUDE</th>\n      <th>LONGITUDE</th>\n      <th>DEPTH</th>\n    </tr>\n    <tr>\n      <th>MAGNITUDE</th>\n      <th></th>\n      <th></th>\n      <th></th>\n      <th></th>\n      <th></th>\n      <th></th>\n      <th></th>\n      <th></th>\n      <th></th>\n    </tr>\n  </thead>\n  <tbody>\n    <tr>\n      <th>5.3</th>\n      <td>1964</td>\n      <td>FEB</td>\n      <td>24</td>\n      <td>23</td>\n      <td>30</td>\n      <td>25.0</td>\n      <td>38.9000</td>\n      <td>23.9000</td>\n      <td>10</td>\n    </tr>\n    <tr>\n      <th>5.7</th>\n      <td>1964</td>\n      <td>APR</td>\n      <td>11</td>\n      <td>16</td>\n      <td>0</td>\n      <td>0.0</td>\n      <td>39.7500</td>\n      <td>25.2500</td>\n      <td>10</td>\n    </tr>\n    <tr>\n      <th>4.5</th>\n      <td>1964</td>\n      <td>APR</td>\n      <td>21</td>\n      <td>8</td>\n      <td>14</td>\n      <td>40.0</td>\n      <td>38.5000</td>\n      <td>22.2500</td>\n      <td>10</td>\n    </tr>\n    <tr>\n      <th>5.0</th>\n      <td>1964</td>\n      <td>APR</td>\n      <td>24</td>\n      <td>3</td>\n      <td>49</td>\n      <td>58.0</td>\n      <td>38.0000</td>\n      <td>21.8000</td>\n      <td>10</td>\n    </tr>\n    <tr>\n      <th>5.8</th>\n      <td>1964</td>\n      <td>APR</td>\n      <td>29</td>\n      <td>4</td>\n      <td>21</td>\n      <td>0.0</td>\n      <td>39.2500</td>\n      <td>23.7500</td>\n      <td>10</td>\n    </tr>\n    <tr>\n      <th>...</th>\n      <td>...</td>\n      <td>...</td>\n      <td>...</td>\n      <td>...</td>\n      <td>...</td>\n      <td>...</td>\n      <td>...</td>\n      <td>...</td>\n      <td>...</td>\n    </tr>\n    <tr>\n      <th>0.6</th>\n      <td>2021</td>\n      <td>APR</td>\n      <td>9</td>\n      <td>5</td>\n      <td>0</td>\n      <td>7.4</td>\n      <td>39.7856</td>\n      <td>21.9081</td>\n      <td>5</td>\n    </tr>\n    <tr>\n      <th>1.5</th>\n      <td>2021</td>\n      <td>APR</td>\n      <td>9</td>\n      <td>5</td>\n      <td>0</td>\n      <td>21.9</td>\n      <td>39.7920</td>\n      <td>21.9328</td>\n      <td>5</td>\n    </tr>\n    <tr>\n      <th>1.0</th>\n      <td>2021</td>\n      <td>APR</td>\n      <td>9</td>\n      <td>5</td>\n      <td>1</td>\n      <td>6.5</td>\n      <td>39.7160</td>\n      <td>22.1947</td>\n      <td>8</td>\n    </tr>\n    <tr>\n      <th>1.0</th>\n      <td>2021</td>\n      <td>APR</td>\n      <td>9</td>\n      <td>5</td>\n      <td>2</td>\n      <td>5.6</td>\n      <td>39.7929</td>\n      <td>21.9154</td>\n      <td>6</td>\n    </tr>\n    <tr>\n      <th>1.2</th>\n      <td>2021</td>\n      <td>APR</td>\n      <td>9</td>\n      <td>5</td>\n      <td>15</td>\n      <td>5.0</td>\n      <td>39.8007</td>\n      <td>21.8948</td>\n      <td>7</td>\n    </tr>\n  </tbody>\n</table>\n<p>313400 rows × 9 columns</p>\n</div>"
     },
     "metadata": {},
     "execution_count": 9
    }
   ],
   "source": [
    "df.set_index('MAGNITUDE', inplace=True)\n",
    "df"
   ]
  },
  {
   "cell_type": "code",
   "execution_count": 10,
   "metadata": {},
   "outputs": [
    {
     "output_type": "execute_result",
     "data": {
      "text/plain": [
       "Float64Index([5.3, 5.7, 4.5, 5.0, 5.8, 5.2, 4.9, 4.2, 4.4, 5.8,\n",
       "              ...\n",
       "              0.2, 3.0, 0.2, 1.1, 3.0, 0.6, 1.5, 1.0, 1.0, 1.2],\n",
       "             dtype='float64', name='MAGNITUDE', length=313400)"
      ]
     },
     "metadata": {},
     "execution_count": 10
    }
   ],
   "source": [
    "df.index"
   ]
  },
  {
   "source": [
    "now we can find a specific row by passing magnitude, check this"
   ],
   "cell_type": "markdown",
   "metadata": {}
  },
  {
   "cell_type": "code",
   "execution_count": 13,
   "metadata": {},
   "outputs": [
    {
     "output_type": "execute_result",
     "data": {
      "text/plain": [
       "           YEAR MONTH  DAY  HOUR  MINUTE  SECOND  LATITUDE  LONGITUDE  DEPTH\n",
       "MAGNITUDE                                                                   \n",
       "6.0        1966   SEP    1    14      22    57.0   37.5000    22.3000     10\n",
       "6.0        1966   OCT   29     2      39    25.8   38.8000    21.0000     10\n",
       "6.0        1969   JAN   14    23      12     9.0   36.2000    28.9000     10\n",
       "6.0        1978   JUN   20    20       3    21.0   40.8000    23.3000     33\n",
       "6.0        1980   JUL    9     2      11    54.0   39.2000    23.9000     10\n",
       "6.0        1981   DEC   27    17      39    12.0   38.9000    24.9000     10\n",
       "6.0        2004   MAR   17     5      20    58.2   34.4600    23.2600     24\n",
       "6.0        2008   FEB   20    18      27     4.9   36.1800    21.7200     25\n",
       "6.0        2015   NOV   17     7      10     7.3   38.6700    20.6000     11\n",
       "6.0        2020   MAY    2    12      51     9.2   34.4366    25.6915      9\n",
       "6.0        2021   MAR    3    10      16     8.3   39.7591    22.2102      8"
      ],
      "text/html": "<div>\n<style scoped>\n    .dataframe tbody tr th:only-of-type {\n        vertical-align: middle;\n    }\n\n    .dataframe tbody tr th {\n        vertical-align: top;\n    }\n\n    .dataframe thead th {\n        text-align: right;\n    }\n</style>\n<table border=\"1\" class=\"dataframe\">\n  <thead>\n    <tr style=\"text-align: right;\">\n      <th></th>\n      <th>YEAR</th>\n      <th>MONTH</th>\n      <th>DAY</th>\n      <th>HOUR</th>\n      <th>MINUTE</th>\n      <th>SECOND</th>\n      <th>LATITUDE</th>\n      <th>LONGITUDE</th>\n      <th>DEPTH</th>\n    </tr>\n    <tr>\n      <th>MAGNITUDE</th>\n      <th></th>\n      <th></th>\n      <th></th>\n      <th></th>\n      <th></th>\n      <th></th>\n      <th></th>\n      <th></th>\n      <th></th>\n    </tr>\n  </thead>\n  <tbody>\n    <tr>\n      <th>6.0</th>\n      <td>1966</td>\n      <td>SEP</td>\n      <td>1</td>\n      <td>14</td>\n      <td>22</td>\n      <td>57.0</td>\n      <td>37.5000</td>\n      <td>22.3000</td>\n      <td>10</td>\n    </tr>\n    <tr>\n      <th>6.0</th>\n      <td>1966</td>\n      <td>OCT</td>\n      <td>29</td>\n      <td>2</td>\n      <td>39</td>\n      <td>25.8</td>\n      <td>38.8000</td>\n      <td>21.0000</td>\n      <td>10</td>\n    </tr>\n    <tr>\n      <th>6.0</th>\n      <td>1969</td>\n      <td>JAN</td>\n      <td>14</td>\n      <td>23</td>\n      <td>12</td>\n      <td>9.0</td>\n      <td>36.2000</td>\n      <td>28.9000</td>\n      <td>10</td>\n    </tr>\n    <tr>\n      <th>6.0</th>\n      <td>1978</td>\n      <td>JUN</td>\n      <td>20</td>\n      <td>20</td>\n      <td>3</td>\n      <td>21.0</td>\n      <td>40.8000</td>\n      <td>23.3000</td>\n      <td>33</td>\n    </tr>\n    <tr>\n      <th>6.0</th>\n      <td>1980</td>\n      <td>JUL</td>\n      <td>9</td>\n      <td>2</td>\n      <td>11</td>\n      <td>54.0</td>\n      <td>39.2000</td>\n      <td>23.9000</td>\n      <td>10</td>\n    </tr>\n    <tr>\n      <th>6.0</th>\n      <td>1981</td>\n      <td>DEC</td>\n      <td>27</td>\n      <td>17</td>\n      <td>39</td>\n      <td>12.0</td>\n      <td>38.9000</td>\n      <td>24.9000</td>\n      <td>10</td>\n    </tr>\n    <tr>\n      <th>6.0</th>\n      <td>2004</td>\n      <td>MAR</td>\n      <td>17</td>\n      <td>5</td>\n      <td>20</td>\n      <td>58.2</td>\n      <td>34.4600</td>\n      <td>23.2600</td>\n      <td>24</td>\n    </tr>\n    <tr>\n      <th>6.0</th>\n      <td>2008</td>\n      <td>FEB</td>\n      <td>20</td>\n      <td>18</td>\n      <td>27</td>\n      <td>4.9</td>\n      <td>36.1800</td>\n      <td>21.7200</td>\n      <td>25</td>\n    </tr>\n    <tr>\n      <th>6.0</th>\n      <td>2015</td>\n      <td>NOV</td>\n      <td>17</td>\n      <td>7</td>\n      <td>10</td>\n      <td>7.3</td>\n      <td>38.6700</td>\n      <td>20.6000</td>\n      <td>11</td>\n    </tr>\n    <tr>\n      <th>6.0</th>\n      <td>2020</td>\n      <td>MAY</td>\n      <td>2</td>\n      <td>12</td>\n      <td>51</td>\n      <td>9.2</td>\n      <td>34.4366</td>\n      <td>25.6915</td>\n      <td>9</td>\n    </tr>\n    <tr>\n      <th>6.0</th>\n      <td>2021</td>\n      <td>MAR</td>\n      <td>3</td>\n      <td>10</td>\n      <td>16</td>\n      <td>8.3</td>\n      <td>39.7591</td>\n      <td>22.2102</td>\n      <td>8</td>\n    </tr>\n  </tbody>\n</table>\n</div>"
     },
     "metadata": {},
     "execution_count": 13
    }
   ],
   "source": [
    "df.loc[6.0] # all the quakes of magnitude 6, as now we changed the index"
   ]
  },
  {
   "source": [
    "how to reset index?"
   ],
   "cell_type": "markdown",
   "metadata": {}
  },
  {
   "cell_type": "code",
   "execution_count": 14,
   "metadata": {},
   "outputs": [],
   "source": [
    "df.reset_index(inplace=True)"
   ]
  },
  {
   "cell_type": "code",
   "execution_count": 15,
   "metadata": {},
   "outputs": [
    {
     "output_type": "execute_result",
     "data": {
      "text/plain": [
       "        MAGNITUDE  YEAR MONTH  DAY  HOUR  MINUTE  SECOND  LATITUDE  LONGITUDE  \\\n",
       "0             5.3  1964   FEB   24    23      30    25.0   38.9000    23.9000   \n",
       "1             5.7  1964   APR   11    16       0     0.0   39.7500    25.2500   \n",
       "2             4.5  1964   APR   21     8      14    40.0   38.5000    22.2500   \n",
       "3             5.0  1964   APR   24     3      49    58.0   38.0000    21.8000   \n",
       "4             5.8  1964   APR   29     4      21     0.0   39.2500    23.7500   \n",
       "...           ...   ...   ...  ...   ...     ...     ...       ...        ...   \n",
       "313395        0.6  2021   APR    9     5       0     7.4   39.7856    21.9081   \n",
       "313396        1.5  2021   APR    9     5       0    21.9   39.7920    21.9328   \n",
       "313397        1.0  2021   APR    9     5       1     6.5   39.7160    22.1947   \n",
       "313398        1.0  2021   APR    9     5       2     5.6   39.7929    21.9154   \n",
       "313399        1.2  2021   APR    9     5      15     5.0   39.8007    21.8948   \n",
       "\n",
       "        DEPTH  \n",
       "0          10  \n",
       "1          10  \n",
       "2          10  \n",
       "3          10  \n",
       "4          10  \n",
       "...       ...  \n",
       "313395      5  \n",
       "313396      5  \n",
       "313397      8  \n",
       "313398      6  \n",
       "313399      7  \n",
       "\n",
       "[313400 rows x 10 columns]"
      ],
      "text/html": "<div>\n<style scoped>\n    .dataframe tbody tr th:only-of-type {\n        vertical-align: middle;\n    }\n\n    .dataframe tbody tr th {\n        vertical-align: top;\n    }\n\n    .dataframe thead th {\n        text-align: right;\n    }\n</style>\n<table border=\"1\" class=\"dataframe\">\n  <thead>\n    <tr style=\"text-align: right;\">\n      <th></th>\n      <th>MAGNITUDE</th>\n      <th>YEAR</th>\n      <th>MONTH</th>\n      <th>DAY</th>\n      <th>HOUR</th>\n      <th>MINUTE</th>\n      <th>SECOND</th>\n      <th>LATITUDE</th>\n      <th>LONGITUDE</th>\n      <th>DEPTH</th>\n    </tr>\n  </thead>\n  <tbody>\n    <tr>\n      <th>0</th>\n      <td>5.3</td>\n      <td>1964</td>\n      <td>FEB</td>\n      <td>24</td>\n      <td>23</td>\n      <td>30</td>\n      <td>25.0</td>\n      <td>38.9000</td>\n      <td>23.9000</td>\n      <td>10</td>\n    </tr>\n    <tr>\n      <th>1</th>\n      <td>5.7</td>\n      <td>1964</td>\n      <td>APR</td>\n      <td>11</td>\n      <td>16</td>\n      <td>0</td>\n      <td>0.0</td>\n      <td>39.7500</td>\n      <td>25.2500</td>\n      <td>10</td>\n    </tr>\n    <tr>\n      <th>2</th>\n      <td>4.5</td>\n      <td>1964</td>\n      <td>APR</td>\n      <td>21</td>\n      <td>8</td>\n      <td>14</td>\n      <td>40.0</td>\n      <td>38.5000</td>\n      <td>22.2500</td>\n      <td>10</td>\n    </tr>\n    <tr>\n      <th>3</th>\n      <td>5.0</td>\n      <td>1964</td>\n      <td>APR</td>\n      <td>24</td>\n      <td>3</td>\n      <td>49</td>\n      <td>58.0</td>\n      <td>38.0000</td>\n      <td>21.8000</td>\n      <td>10</td>\n    </tr>\n    <tr>\n      <th>4</th>\n      <td>5.8</td>\n      <td>1964</td>\n      <td>APR</td>\n      <td>29</td>\n      <td>4</td>\n      <td>21</td>\n      <td>0.0</td>\n      <td>39.2500</td>\n      <td>23.7500</td>\n      <td>10</td>\n    </tr>\n    <tr>\n      <th>...</th>\n      <td>...</td>\n      <td>...</td>\n      <td>...</td>\n      <td>...</td>\n      <td>...</td>\n      <td>...</td>\n      <td>...</td>\n      <td>...</td>\n      <td>...</td>\n      <td>...</td>\n    </tr>\n    <tr>\n      <th>313395</th>\n      <td>0.6</td>\n      <td>2021</td>\n      <td>APR</td>\n      <td>9</td>\n      <td>5</td>\n      <td>0</td>\n      <td>7.4</td>\n      <td>39.7856</td>\n      <td>21.9081</td>\n      <td>5</td>\n    </tr>\n    <tr>\n      <th>313396</th>\n      <td>1.5</td>\n      <td>2021</td>\n      <td>APR</td>\n      <td>9</td>\n      <td>5</td>\n      <td>0</td>\n      <td>21.9</td>\n      <td>39.7920</td>\n      <td>21.9328</td>\n      <td>5</td>\n    </tr>\n    <tr>\n      <th>313397</th>\n      <td>1.0</td>\n      <td>2021</td>\n      <td>APR</td>\n      <td>9</td>\n      <td>5</td>\n      <td>1</td>\n      <td>6.5</td>\n      <td>39.7160</td>\n      <td>22.1947</td>\n      <td>8</td>\n    </tr>\n    <tr>\n      <th>313398</th>\n      <td>1.0</td>\n      <td>2021</td>\n      <td>APR</td>\n      <td>9</td>\n      <td>5</td>\n      <td>2</td>\n      <td>5.6</td>\n      <td>39.7929</td>\n      <td>21.9154</td>\n      <td>6</td>\n    </tr>\n    <tr>\n      <th>313399</th>\n      <td>1.2</td>\n      <td>2021</td>\n      <td>APR</td>\n      <td>9</td>\n      <td>5</td>\n      <td>15</td>\n      <td>5.0</td>\n      <td>39.8007</td>\n      <td>21.8948</td>\n      <td>7</td>\n    </tr>\n  </tbody>\n</table>\n<p>313400 rows × 10 columns</p>\n</div>"
     },
     "metadata": {},
     "execution_count": 15
    }
   ],
   "source": [
    "df"
   ]
  },
  {
   "source": [
    "if you know at first, we can do it as we load from csv, for example:"
   ],
   "cell_type": "markdown",
   "metadata": {}
  },
  {
   "cell_type": "code",
   "execution_count": 16,
   "metadata": {},
   "outputs": [],
   "source": [
    "df_full_by_magnitude = pandas.read_csv('full.csv', index_col='MAGNITUDE')"
   ]
  },
  {
   "cell_type": "code",
   "execution_count": 17,
   "metadata": {},
   "outputs": [
    {
     "output_type": "execute_result",
     "data": {
      "text/plain": [
       "           YEAR MONTH  DAY  HOUR  MINUTE  SECOND  LATITUDE  LONGITUDE  DEPTH\n",
       "MAGNITUDE                                                                   \n",
       "5.3        1964   FEB   24    23      30    25.0   38.9000    23.9000     10\n",
       "5.7        1964   APR   11    16       0     0.0   39.7500    25.2500     10\n",
       "4.5        1964   APR   21     8      14    40.0   38.5000    22.2500     10\n",
       "5.0        1964   APR   24     3      49    58.0   38.0000    21.8000     10\n",
       "5.8        1964   APR   29     4      21     0.0   39.2500    23.7500     10\n",
       "...         ...   ...  ...   ...     ...     ...       ...        ...    ...\n",
       "0.6        2021   APR    9     5       0     7.4   39.7856    21.9081      5\n",
       "1.5        2021   APR    9     5       0    21.9   39.7920    21.9328      5\n",
       "1.0        2021   APR    9     5       1     6.5   39.7160    22.1947      8\n",
       "1.0        2021   APR    9     5       2     5.6   39.7929    21.9154      6\n",
       "1.2        2021   APR    9     5      15     5.0   39.8007    21.8948      7\n",
       "\n",
       "[313400 rows x 9 columns]"
      ],
      "text/html": "<div>\n<style scoped>\n    .dataframe tbody tr th:only-of-type {\n        vertical-align: middle;\n    }\n\n    .dataframe tbody tr th {\n        vertical-align: top;\n    }\n\n    .dataframe thead th {\n        text-align: right;\n    }\n</style>\n<table border=\"1\" class=\"dataframe\">\n  <thead>\n    <tr style=\"text-align: right;\">\n      <th></th>\n      <th>YEAR</th>\n      <th>MONTH</th>\n      <th>DAY</th>\n      <th>HOUR</th>\n      <th>MINUTE</th>\n      <th>SECOND</th>\n      <th>LATITUDE</th>\n      <th>LONGITUDE</th>\n      <th>DEPTH</th>\n    </tr>\n    <tr>\n      <th>MAGNITUDE</th>\n      <th></th>\n      <th></th>\n      <th></th>\n      <th></th>\n      <th></th>\n      <th></th>\n      <th></th>\n      <th></th>\n      <th></th>\n    </tr>\n  </thead>\n  <tbody>\n    <tr>\n      <th>5.3</th>\n      <td>1964</td>\n      <td>FEB</td>\n      <td>24</td>\n      <td>23</td>\n      <td>30</td>\n      <td>25.0</td>\n      <td>38.9000</td>\n      <td>23.9000</td>\n      <td>10</td>\n    </tr>\n    <tr>\n      <th>5.7</th>\n      <td>1964</td>\n      <td>APR</td>\n      <td>11</td>\n      <td>16</td>\n      <td>0</td>\n      <td>0.0</td>\n      <td>39.7500</td>\n      <td>25.2500</td>\n      <td>10</td>\n    </tr>\n    <tr>\n      <th>4.5</th>\n      <td>1964</td>\n      <td>APR</td>\n      <td>21</td>\n      <td>8</td>\n      <td>14</td>\n      <td>40.0</td>\n      <td>38.5000</td>\n      <td>22.2500</td>\n      <td>10</td>\n    </tr>\n    <tr>\n      <th>5.0</th>\n      <td>1964</td>\n      <td>APR</td>\n      <td>24</td>\n      <td>3</td>\n      <td>49</td>\n      <td>58.0</td>\n      <td>38.0000</td>\n      <td>21.8000</td>\n      <td>10</td>\n    </tr>\n    <tr>\n      <th>5.8</th>\n      <td>1964</td>\n      <td>APR</td>\n      <td>29</td>\n      <td>4</td>\n      <td>21</td>\n      <td>0.0</td>\n      <td>39.2500</td>\n      <td>23.7500</td>\n      <td>10</td>\n    </tr>\n    <tr>\n      <th>...</th>\n      <td>...</td>\n      <td>...</td>\n      <td>...</td>\n      <td>...</td>\n      <td>...</td>\n      <td>...</td>\n      <td>...</td>\n      <td>...</td>\n      <td>...</td>\n    </tr>\n    <tr>\n      <th>0.6</th>\n      <td>2021</td>\n      <td>APR</td>\n      <td>9</td>\n      <td>5</td>\n      <td>0</td>\n      <td>7.4</td>\n      <td>39.7856</td>\n      <td>21.9081</td>\n      <td>5</td>\n    </tr>\n    <tr>\n      <th>1.5</th>\n      <td>2021</td>\n      <td>APR</td>\n      <td>9</td>\n      <td>5</td>\n      <td>0</td>\n      <td>21.9</td>\n      <td>39.7920</td>\n      <td>21.9328</td>\n      <td>5</td>\n    </tr>\n    <tr>\n      <th>1.0</th>\n      <td>2021</td>\n      <td>APR</td>\n      <td>9</td>\n      <td>5</td>\n      <td>1</td>\n      <td>6.5</td>\n      <td>39.7160</td>\n      <td>22.1947</td>\n      <td>8</td>\n    </tr>\n    <tr>\n      <th>1.0</th>\n      <td>2021</td>\n      <td>APR</td>\n      <td>9</td>\n      <td>5</td>\n      <td>2</td>\n      <td>5.6</td>\n      <td>39.7929</td>\n      <td>21.9154</td>\n      <td>6</td>\n    </tr>\n    <tr>\n      <th>1.2</th>\n      <td>2021</td>\n      <td>APR</td>\n      <td>9</td>\n      <td>5</td>\n      <td>15</td>\n      <td>5.0</td>\n      <td>39.8007</td>\n      <td>21.8948</td>\n      <td>7</td>\n    </tr>\n  </tbody>\n</table>\n<p>313400 rows × 9 columns</p>\n</div>"
     },
     "metadata": {},
     "execution_count": 17
    }
   ],
   "source": [
    "df_full_by_magnitude"
   ]
  },
  {
   "cell_type": "code",
   "execution_count": 18,
   "metadata": {},
   "outputs": [
    {
     "output_type": "execute_result",
     "data": {
      "text/plain": [
       "        MAGNITUDE  YEAR MONTH  DAY  HOUR  MINUTE  SECOND  LATITUDE  LONGITUDE  \\\n",
       "0             5.3  1964   FEB   24    23      30    25.0   38.9000    23.9000   \n",
       "1             5.7  1964   APR   11    16       0     0.0   39.7500    25.2500   \n",
       "2             4.5  1964   APR   21     8      14    40.0   38.5000    22.2500   \n",
       "3             5.0  1964   APR   24     3      49    58.0   38.0000    21.8000   \n",
       "4             5.8  1964   APR   29     4      21     0.0   39.2500    23.7500   \n",
       "...           ...   ...   ...  ...   ...     ...     ...       ...        ...   \n",
       "313395        0.6  2021   APR    9     5       0     7.4   39.7856    21.9081   \n",
       "313396        1.5  2021   APR    9     5       0    21.9   39.7920    21.9328   \n",
       "313397        1.0  2021   APR    9     5       1     6.5   39.7160    22.1947   \n",
       "313398        1.0  2021   APR    9     5       2     5.6   39.7929    21.9154   \n",
       "313399        1.2  2021   APR    9     5      15     5.0   39.8007    21.8948   \n",
       "\n",
       "        DEPTH  \n",
       "0          10  \n",
       "1          10  \n",
       "2          10  \n",
       "3          10  \n",
       "4          10  \n",
       "...       ...  \n",
       "313395      5  \n",
       "313396      5  \n",
       "313397      8  \n",
       "313398      6  \n",
       "313399      7  \n",
       "\n",
       "[313400 rows x 10 columns]"
      ],
      "text/html": "<div>\n<style scoped>\n    .dataframe tbody tr th:only-of-type {\n        vertical-align: middle;\n    }\n\n    .dataframe tbody tr th {\n        vertical-align: top;\n    }\n\n    .dataframe thead th {\n        text-align: right;\n    }\n</style>\n<table border=\"1\" class=\"dataframe\">\n  <thead>\n    <tr style=\"text-align: right;\">\n      <th></th>\n      <th>MAGNITUDE</th>\n      <th>YEAR</th>\n      <th>MONTH</th>\n      <th>DAY</th>\n      <th>HOUR</th>\n      <th>MINUTE</th>\n      <th>SECOND</th>\n      <th>LATITUDE</th>\n      <th>LONGITUDE</th>\n      <th>DEPTH</th>\n    </tr>\n  </thead>\n  <tbody>\n    <tr>\n      <th>0</th>\n      <td>5.3</td>\n      <td>1964</td>\n      <td>FEB</td>\n      <td>24</td>\n      <td>23</td>\n      <td>30</td>\n      <td>25.0</td>\n      <td>38.9000</td>\n      <td>23.9000</td>\n      <td>10</td>\n    </tr>\n    <tr>\n      <th>1</th>\n      <td>5.7</td>\n      <td>1964</td>\n      <td>APR</td>\n      <td>11</td>\n      <td>16</td>\n      <td>0</td>\n      <td>0.0</td>\n      <td>39.7500</td>\n      <td>25.2500</td>\n      <td>10</td>\n    </tr>\n    <tr>\n      <th>2</th>\n      <td>4.5</td>\n      <td>1964</td>\n      <td>APR</td>\n      <td>21</td>\n      <td>8</td>\n      <td>14</td>\n      <td>40.0</td>\n      <td>38.5000</td>\n      <td>22.2500</td>\n      <td>10</td>\n    </tr>\n    <tr>\n      <th>3</th>\n      <td>5.0</td>\n      <td>1964</td>\n      <td>APR</td>\n      <td>24</td>\n      <td>3</td>\n      <td>49</td>\n      <td>58.0</td>\n      <td>38.0000</td>\n      <td>21.8000</td>\n      <td>10</td>\n    </tr>\n    <tr>\n      <th>4</th>\n      <td>5.8</td>\n      <td>1964</td>\n      <td>APR</td>\n      <td>29</td>\n      <td>4</td>\n      <td>21</td>\n      <td>0.0</td>\n      <td>39.2500</td>\n      <td>23.7500</td>\n      <td>10</td>\n    </tr>\n    <tr>\n      <th>...</th>\n      <td>...</td>\n      <td>...</td>\n      <td>...</td>\n      <td>...</td>\n      <td>...</td>\n      <td>...</td>\n      <td>...</td>\n      <td>...</td>\n      <td>...</td>\n      <td>...</td>\n    </tr>\n    <tr>\n      <th>313395</th>\n      <td>0.6</td>\n      <td>2021</td>\n      <td>APR</td>\n      <td>9</td>\n      <td>5</td>\n      <td>0</td>\n      <td>7.4</td>\n      <td>39.7856</td>\n      <td>21.9081</td>\n      <td>5</td>\n    </tr>\n    <tr>\n      <th>313396</th>\n      <td>1.5</td>\n      <td>2021</td>\n      <td>APR</td>\n      <td>9</td>\n      <td>5</td>\n      <td>0</td>\n      <td>21.9</td>\n      <td>39.7920</td>\n      <td>21.9328</td>\n      <td>5</td>\n    </tr>\n    <tr>\n      <th>313397</th>\n      <td>1.0</td>\n      <td>2021</td>\n      <td>APR</td>\n      <td>9</td>\n      <td>5</td>\n      <td>1</td>\n      <td>6.5</td>\n      <td>39.7160</td>\n      <td>22.1947</td>\n      <td>8</td>\n    </tr>\n    <tr>\n      <th>313398</th>\n      <td>1.0</td>\n      <td>2021</td>\n      <td>APR</td>\n      <td>9</td>\n      <td>5</td>\n      <td>2</td>\n      <td>5.6</td>\n      <td>39.7929</td>\n      <td>21.9154</td>\n      <td>6</td>\n    </tr>\n    <tr>\n      <th>313399</th>\n      <td>1.2</td>\n      <td>2021</td>\n      <td>APR</td>\n      <td>9</td>\n      <td>5</td>\n      <td>15</td>\n      <td>5.0</td>\n      <td>39.8007</td>\n      <td>21.8948</td>\n      <td>7</td>\n    </tr>\n  </tbody>\n</table>\n<p>313400 rows × 10 columns</p>\n</div>"
     },
     "metadata": {},
     "execution_count": 18
    }
   ],
   "source": [
    "df_full_by_magnitude.reset_index()"
   ]
  },
  {
   "cell_type": "code",
   "execution_count": 21,
   "metadata": {},
   "outputs": [],
   "source": [
    "df_schema = pandas.read_csv('schema.csv', index_col=\"COLUMN\")"
   ]
  },
  {
   "cell_type": "code",
   "execution_count": 22,
   "metadata": {},
   "outputs": [
    {
     "output_type": "execute_result",
     "data": {
      "text/plain": [
       "                            ATTRIBUTE\n",
       "COLUMN                               \n",
       "YEAR            event Date: Year XXXX\n",
       "MONTH          event Date: Month abbr\n",
       "DAY                   event Date: Day\n",
       "HOUR       event Time (GMT): Hour 24h\n",
       "MINUTE       event Time (GMT): Minute\n",
       "SECOND       event Time (GMT): Second\n",
       "LATITUDE           event Latitude (N)\n",
       "LONGITUDE         event Longitude (E)\n",
       "DEPTH                event Depth (km)\n",
       "MAGNITUDE          event Magnitude Mr"
      ],
      "text/html": "<div>\n<style scoped>\n    .dataframe tbody tr th:only-of-type {\n        vertical-align: middle;\n    }\n\n    .dataframe tbody tr th {\n        vertical-align: top;\n    }\n\n    .dataframe thead th {\n        text-align: right;\n    }\n</style>\n<table border=\"1\" class=\"dataframe\">\n  <thead>\n    <tr style=\"text-align: right;\">\n      <th></th>\n      <th>ATTRIBUTE</th>\n    </tr>\n    <tr>\n      <th>COLUMN</th>\n      <th></th>\n    </tr>\n  </thead>\n  <tbody>\n    <tr>\n      <th>YEAR</th>\n      <td>event Date: Year XXXX</td>\n    </tr>\n    <tr>\n      <th>MONTH</th>\n      <td>event Date: Month abbr</td>\n    </tr>\n    <tr>\n      <th>DAY</th>\n      <td>event Date: Day</td>\n    </tr>\n    <tr>\n      <th>HOUR</th>\n      <td>event Time (GMT): Hour 24h</td>\n    </tr>\n    <tr>\n      <th>MINUTE</th>\n      <td>event Time (GMT): Minute</td>\n    </tr>\n    <tr>\n      <th>SECOND</th>\n      <td>event Time (GMT): Second</td>\n    </tr>\n    <tr>\n      <th>LATITUDE</th>\n      <td>event Latitude (N)</td>\n    </tr>\n    <tr>\n      <th>LONGITUDE</th>\n      <td>event Longitude (E)</td>\n    </tr>\n    <tr>\n      <th>DEPTH</th>\n      <td>event Depth (km)</td>\n    </tr>\n    <tr>\n      <th>MAGNITUDE</th>\n      <td>event Magnitude Mr</td>\n    </tr>\n  </tbody>\n</table>\n</div>"
     },
     "metadata": {},
     "execution_count": 22
    }
   ],
   "source": [
    "df_schema"
   ]
  },
  {
   "cell_type": "code",
   "execution_count": 31,
   "metadata": {},
   "outputs": [
    {
     "output_type": "execute_result",
     "data": {
      "text/plain": [
       "'event Date: Year XXXX'"
      ]
     },
     "metadata": {},
     "execution_count": 31
    }
   ],
   "source": [
    "df_schema.loc['YEAR', 'ATTRIBUTE']"
   ]
  },
  {
   "source": [
    "how to sort by index"
   ],
   "cell_type": "markdown",
   "metadata": {}
  },
  {
   "cell_type": "code",
   "execution_count": 37,
   "metadata": {},
   "outputs": [
    {
     "output_type": "execute_result",
     "data": {
      "text/plain": [
       "           YEAR MONTH  DAY  HOUR  MINUTE  SECOND  LATITUDE  LONGITUDE  DEPTH\n",
       "MAGNITUDE                                                                   \n",
       "0.0        2010   SEP   29     2       9    47.2   37.8600    23.0900     93\n",
       "0.0        2015   JUL   25     1      26    10.6   38.3800    21.9400     10\n",
       "0.1        2021   JAN   21     6       1    50.6   38.3748    22.0290      6\n",
       "0.1        2013   DEC   16     1      35    32.3   38.3500    22.1400     10\n",
       "0.1        2020   JUL   30     0      33    13.3   38.4023    21.9987      7\n",
       "...         ...   ...  ...   ...     ...     ...       ...        ...    ...\n",
       "6.6        2018   OCT   25    22      54    50.5   37.3516    20.4922     13\n",
       "6.7        2020   OCT   30    11      51    24.4   37.9001    26.8167     12\n",
       "6.7        1968   FEB   19    22      45    39.0   39.5000    24.8000     10\n",
       "6.8        1979   APR   15     6      19    42.0   42.0000    19.0000     10\n",
       "7.0        1964   OCT    6    14      31    22.0   39.7500    28.0000     10\n",
       "\n",
       "[313400 rows x 9 columns]"
      ],
      "text/html": "<div>\n<style scoped>\n    .dataframe tbody tr th:only-of-type {\n        vertical-align: middle;\n    }\n\n    .dataframe tbody tr th {\n        vertical-align: top;\n    }\n\n    .dataframe thead th {\n        text-align: right;\n    }\n</style>\n<table border=\"1\" class=\"dataframe\">\n  <thead>\n    <tr style=\"text-align: right;\">\n      <th></th>\n      <th>YEAR</th>\n      <th>MONTH</th>\n      <th>DAY</th>\n      <th>HOUR</th>\n      <th>MINUTE</th>\n      <th>SECOND</th>\n      <th>LATITUDE</th>\n      <th>LONGITUDE</th>\n      <th>DEPTH</th>\n    </tr>\n    <tr>\n      <th>MAGNITUDE</th>\n      <th></th>\n      <th></th>\n      <th></th>\n      <th></th>\n      <th></th>\n      <th></th>\n      <th></th>\n      <th></th>\n      <th></th>\n    </tr>\n  </thead>\n  <tbody>\n    <tr>\n      <th>0.0</th>\n      <td>2010</td>\n      <td>SEP</td>\n      <td>29</td>\n      <td>2</td>\n      <td>9</td>\n      <td>47.2</td>\n      <td>37.8600</td>\n      <td>23.0900</td>\n      <td>93</td>\n    </tr>\n    <tr>\n      <th>0.0</th>\n      <td>2015</td>\n      <td>JUL</td>\n      <td>25</td>\n      <td>1</td>\n      <td>26</td>\n      <td>10.6</td>\n      <td>38.3800</td>\n      <td>21.9400</td>\n      <td>10</td>\n    </tr>\n    <tr>\n      <th>0.1</th>\n      <td>2021</td>\n      <td>JAN</td>\n      <td>21</td>\n      <td>6</td>\n      <td>1</td>\n      <td>50.6</td>\n      <td>38.3748</td>\n      <td>22.0290</td>\n      <td>6</td>\n    </tr>\n    <tr>\n      <th>0.1</th>\n      <td>2013</td>\n      <td>DEC</td>\n      <td>16</td>\n      <td>1</td>\n      <td>35</td>\n      <td>32.3</td>\n      <td>38.3500</td>\n      <td>22.1400</td>\n      <td>10</td>\n    </tr>\n    <tr>\n      <th>0.1</th>\n      <td>2020</td>\n      <td>JUL</td>\n      <td>30</td>\n      <td>0</td>\n      <td>33</td>\n      <td>13.3</td>\n      <td>38.4023</td>\n      <td>21.9987</td>\n      <td>7</td>\n    </tr>\n    <tr>\n      <th>...</th>\n      <td>...</td>\n      <td>...</td>\n      <td>...</td>\n      <td>...</td>\n      <td>...</td>\n      <td>...</td>\n      <td>...</td>\n      <td>...</td>\n      <td>...</td>\n    </tr>\n    <tr>\n      <th>6.6</th>\n      <td>2018</td>\n      <td>OCT</td>\n      <td>25</td>\n      <td>22</td>\n      <td>54</td>\n      <td>50.5</td>\n      <td>37.3516</td>\n      <td>20.4922</td>\n      <td>13</td>\n    </tr>\n    <tr>\n      <th>6.7</th>\n      <td>2020</td>\n      <td>OCT</td>\n      <td>30</td>\n      <td>11</td>\n      <td>51</td>\n      <td>24.4</td>\n      <td>37.9001</td>\n      <td>26.8167</td>\n      <td>12</td>\n    </tr>\n    <tr>\n      <th>6.7</th>\n      <td>1968</td>\n      <td>FEB</td>\n      <td>19</td>\n      <td>22</td>\n      <td>45</td>\n      <td>39.0</td>\n      <td>39.5000</td>\n      <td>24.8000</td>\n      <td>10</td>\n    </tr>\n    <tr>\n      <th>6.8</th>\n      <td>1979</td>\n      <td>APR</td>\n      <td>15</td>\n      <td>6</td>\n      <td>19</td>\n      <td>42.0</td>\n      <td>42.0000</td>\n      <td>19.0000</td>\n      <td>10</td>\n    </tr>\n    <tr>\n      <th>7.0</th>\n      <td>1964</td>\n      <td>OCT</td>\n      <td>6</td>\n      <td>14</td>\n      <td>31</td>\n      <td>22.0</td>\n      <td>39.7500</td>\n      <td>28.0000</td>\n      <td>10</td>\n    </tr>\n  </tbody>\n</table>\n<p>313400 rows × 9 columns</p>\n</div>"
     },
     "metadata": {},
     "execution_count": 37
    }
   ],
   "source": [
    "df_full_by_magnitude.sort_index()"
   ]
  },
  {
   "source": [
    "keep the sorting"
   ],
   "cell_type": "markdown",
   "metadata": {}
  },
  {
   "cell_type": "code",
   "execution_count": 38,
   "metadata": {},
   "outputs": [],
   "source": [
    "df_full_by_magnitude.sort_index(inplace=True)"
   ]
  },
  {
   "cell_type": "code",
   "execution_count": 39,
   "metadata": {},
   "outputs": [
    {
     "output_type": "execute_result",
     "data": {
      "text/plain": [
       "           YEAR MONTH  DAY  HOUR  MINUTE  SECOND  LATITUDE  LONGITUDE  DEPTH\n",
       "MAGNITUDE                                                                   \n",
       "0.0        2010   SEP   29     2       9    47.2   37.8600    23.0900     93\n",
       "0.0        2015   JUL   25     1      26    10.6   38.3800    21.9400     10\n",
       "0.1        2021   JAN   21     6       1    50.6   38.3748    22.0290      6\n",
       "0.1        2013   DEC   16     1      35    32.3   38.3500    22.1400     10\n",
       "0.1        2020   JUL   30     0      33    13.3   38.4023    21.9987      7\n",
       "...         ...   ...  ...   ...     ...     ...       ...        ...    ...\n",
       "6.6        2018   OCT   25    22      54    50.5   37.3516    20.4922     13\n",
       "6.7        2020   OCT   30    11      51    24.4   37.9001    26.8167     12\n",
       "6.7        1968   FEB   19    22      45    39.0   39.5000    24.8000     10\n",
       "6.8        1979   APR   15     6      19    42.0   42.0000    19.0000     10\n",
       "7.0        1964   OCT    6    14      31    22.0   39.7500    28.0000     10\n",
       "\n",
       "[313400 rows x 9 columns]"
      ],
      "text/html": "<div>\n<style scoped>\n    .dataframe tbody tr th:only-of-type {\n        vertical-align: middle;\n    }\n\n    .dataframe tbody tr th {\n        vertical-align: top;\n    }\n\n    .dataframe thead th {\n        text-align: right;\n    }\n</style>\n<table border=\"1\" class=\"dataframe\">\n  <thead>\n    <tr style=\"text-align: right;\">\n      <th></th>\n      <th>YEAR</th>\n      <th>MONTH</th>\n      <th>DAY</th>\n      <th>HOUR</th>\n      <th>MINUTE</th>\n      <th>SECOND</th>\n      <th>LATITUDE</th>\n      <th>LONGITUDE</th>\n      <th>DEPTH</th>\n    </tr>\n    <tr>\n      <th>MAGNITUDE</th>\n      <th></th>\n      <th></th>\n      <th></th>\n      <th></th>\n      <th></th>\n      <th></th>\n      <th></th>\n      <th></th>\n      <th></th>\n    </tr>\n  </thead>\n  <tbody>\n    <tr>\n      <th>0.0</th>\n      <td>2010</td>\n      <td>SEP</td>\n      <td>29</td>\n      <td>2</td>\n      <td>9</td>\n      <td>47.2</td>\n      <td>37.8600</td>\n      <td>23.0900</td>\n      <td>93</td>\n    </tr>\n    <tr>\n      <th>0.0</th>\n      <td>2015</td>\n      <td>JUL</td>\n      <td>25</td>\n      <td>1</td>\n      <td>26</td>\n      <td>10.6</td>\n      <td>38.3800</td>\n      <td>21.9400</td>\n      <td>10</td>\n    </tr>\n    <tr>\n      <th>0.1</th>\n      <td>2021</td>\n      <td>JAN</td>\n      <td>21</td>\n      <td>6</td>\n      <td>1</td>\n      <td>50.6</td>\n      <td>38.3748</td>\n      <td>22.0290</td>\n      <td>6</td>\n    </tr>\n    <tr>\n      <th>0.1</th>\n      <td>2013</td>\n      <td>DEC</td>\n      <td>16</td>\n      <td>1</td>\n      <td>35</td>\n      <td>32.3</td>\n      <td>38.3500</td>\n      <td>22.1400</td>\n      <td>10</td>\n    </tr>\n    <tr>\n      <th>0.1</th>\n      <td>2020</td>\n      <td>JUL</td>\n      <td>30</td>\n      <td>0</td>\n      <td>33</td>\n      <td>13.3</td>\n      <td>38.4023</td>\n      <td>21.9987</td>\n      <td>7</td>\n    </tr>\n    <tr>\n      <th>...</th>\n      <td>...</td>\n      <td>...</td>\n      <td>...</td>\n      <td>...</td>\n      <td>...</td>\n      <td>...</td>\n      <td>...</td>\n      <td>...</td>\n      <td>...</td>\n    </tr>\n    <tr>\n      <th>6.6</th>\n      <td>2018</td>\n      <td>OCT</td>\n      <td>25</td>\n      <td>22</td>\n      <td>54</td>\n      <td>50.5</td>\n      <td>37.3516</td>\n      <td>20.4922</td>\n      <td>13</td>\n    </tr>\n    <tr>\n      <th>6.7</th>\n      <td>2020</td>\n      <td>OCT</td>\n      <td>30</td>\n      <td>11</td>\n      <td>51</td>\n      <td>24.4</td>\n      <td>37.9001</td>\n      <td>26.8167</td>\n      <td>12</td>\n    </tr>\n    <tr>\n      <th>6.7</th>\n      <td>1968</td>\n      <td>FEB</td>\n      <td>19</td>\n      <td>22</td>\n      <td>45</td>\n      <td>39.0</td>\n      <td>39.5000</td>\n      <td>24.8000</td>\n      <td>10</td>\n    </tr>\n    <tr>\n      <th>6.8</th>\n      <td>1979</td>\n      <td>APR</td>\n      <td>15</td>\n      <td>6</td>\n      <td>19</td>\n      <td>42.0</td>\n      <td>42.0000</td>\n      <td>19.0000</td>\n      <td>10</td>\n    </tr>\n    <tr>\n      <th>7.0</th>\n      <td>1964</td>\n      <td>OCT</td>\n      <td>6</td>\n      <td>14</td>\n      <td>31</td>\n      <td>22.0</td>\n      <td>39.7500</td>\n      <td>28.0000</td>\n      <td>10</td>\n    </tr>\n  </tbody>\n</table>\n<p>313400 rows × 9 columns</p>\n</div>"
     },
     "metadata": {},
     "execution_count": 39
    }
   ],
   "source": [
    "df_full_by_magnitude"
   ]
  },
  {
   "cell_type": "code",
   "execution_count": null,
   "metadata": {},
   "outputs": [],
   "source": []
  }
 ]
}