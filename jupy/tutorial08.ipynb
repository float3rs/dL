{
 "metadata": {
  "language_info": {
   "codemirror_mode": {
    "name": "ipython",
    "version": 3
   },
   "file_extension": ".py",
   "mimetype": "text/x-python",
   "name": "python",
   "nbconvert_exporter": "python",
   "pygments_lexer": "ipython3",
   "version": "3.8.5-final"
  },
  "orig_nbformat": 2,
  "kernelspec": {
   "name": "python385jvsc74a57bd0dca0ade3e726a953b501b15e8e990130d2b7799f14cfd9f4271676035ebe5511",
   "display_name": "Python 3.8.5 64-bit ('base': conda)"
  }
 },
 "nbformat": 4,
 "nbformat_minor": 2,
 "cells": [
  {
   "cell_type": "code",
   "execution_count": 120,
   "metadata": {},
   "outputs": [],
   "source": [
    "import pandas\n",
    "import datetime"
   ]
  },
  {
   "cell_type": "code",
   "execution_count": 121,
   "metadata": {},
   "outputs": [],
   "source": [
    "df = pandas.read_csv('quakesT.csv')"
   ]
  },
  {
   "cell_type": "code",
   "execution_count": 122,
   "metadata": {},
   "outputs": [
    {
     "output_type": "execute_result",
     "data": {
      "text/plain": [
       "        YEAR MONTH  DAY  HOUR  MINUTE  SECOND  LATITUDE  LONGITUDE  DEPTH  \\\n",
       "0       1964   FEB   24    23      30    25.0   38.9000    23.9000     10   \n",
       "1       1964   APR   11    16       0     0.0   39.7500    25.2500     10   \n",
       "2       1964   APR   21     8      14    40.0   38.5000    22.2500     10   \n",
       "3       1964   APR   24     3      49    58.0   38.0000    21.8000     10   \n",
       "4       1964   APR   29     4      21     0.0   39.2500    23.7500     10   \n",
       "...      ...   ...  ...   ...     ...     ...       ...        ...    ...   \n",
       "313395  2021   APR    9     5       0     7.4   39.7856    21.9081      5   \n",
       "313396  2021   APR    9     5       0    21.9   39.7920    21.9328      5   \n",
       "313397  2021   APR    9     5       1     6.5   39.7160    22.1947      8   \n",
       "313398  2021   APR    9     5       2     5.6   39.7929    21.9154      6   \n",
       "313399  2021   APR    9     5      15     5.0   39.8007    21.8948      7   \n",
       "\n",
       "        MAGNITUDE                       T  \n",
       "0             5.3  1964-02-24T23:30:25.0Z  \n",
       "1             5.7  1964-04-11T16:00:00.0Z  \n",
       "2             4.5  1964-04-21T08:14:40.0Z  \n",
       "3             5.0  1964-04-24T03:49:58.0Z  \n",
       "4             5.8  1964-04-29T04:21:00.0Z  \n",
       "...           ...                     ...  \n",
       "313395        0.6  2021-04-09T05:00:07.4Z  \n",
       "313396        1.5  2021-04-09T05:00:21.9Z  \n",
       "313397        1.0  2021-04-09T05:01:06.5Z  \n",
       "313398        1.0  2021-04-09T05:02:05.6Z  \n",
       "313399        1.2  2021-04-09T05:15:05.0Z  \n",
       "\n",
       "[313400 rows x 11 columns]"
      ],
      "text/html": "<div>\n<style scoped>\n    .dataframe tbody tr th:only-of-type {\n        vertical-align: middle;\n    }\n\n    .dataframe tbody tr th {\n        vertical-align: top;\n    }\n\n    .dataframe thead th {\n        text-align: right;\n    }\n</style>\n<table border=\"1\" class=\"dataframe\">\n  <thead>\n    <tr style=\"text-align: right;\">\n      <th></th>\n      <th>YEAR</th>\n      <th>MONTH</th>\n      <th>DAY</th>\n      <th>HOUR</th>\n      <th>MINUTE</th>\n      <th>SECOND</th>\n      <th>LATITUDE</th>\n      <th>LONGITUDE</th>\n      <th>DEPTH</th>\n      <th>MAGNITUDE</th>\n      <th>T</th>\n    </tr>\n  </thead>\n  <tbody>\n    <tr>\n      <th>0</th>\n      <td>1964</td>\n      <td>FEB</td>\n      <td>24</td>\n      <td>23</td>\n      <td>30</td>\n      <td>25.0</td>\n      <td>38.9000</td>\n      <td>23.9000</td>\n      <td>10</td>\n      <td>5.3</td>\n      <td>1964-02-24T23:30:25.0Z</td>\n    </tr>\n    <tr>\n      <th>1</th>\n      <td>1964</td>\n      <td>APR</td>\n      <td>11</td>\n      <td>16</td>\n      <td>0</td>\n      <td>0.0</td>\n      <td>39.7500</td>\n      <td>25.2500</td>\n      <td>10</td>\n      <td>5.7</td>\n      <td>1964-04-11T16:00:00.0Z</td>\n    </tr>\n    <tr>\n      <th>2</th>\n      <td>1964</td>\n      <td>APR</td>\n      <td>21</td>\n      <td>8</td>\n      <td>14</td>\n      <td>40.0</td>\n      <td>38.5000</td>\n      <td>22.2500</td>\n      <td>10</td>\n      <td>4.5</td>\n      <td>1964-04-21T08:14:40.0Z</td>\n    </tr>\n    <tr>\n      <th>3</th>\n      <td>1964</td>\n      <td>APR</td>\n      <td>24</td>\n      <td>3</td>\n      <td>49</td>\n      <td>58.0</td>\n      <td>38.0000</td>\n      <td>21.8000</td>\n      <td>10</td>\n      <td>5.0</td>\n      <td>1964-04-24T03:49:58.0Z</td>\n    </tr>\n    <tr>\n      <th>4</th>\n      <td>1964</td>\n      <td>APR</td>\n      <td>29</td>\n      <td>4</td>\n      <td>21</td>\n      <td>0.0</td>\n      <td>39.2500</td>\n      <td>23.7500</td>\n      <td>10</td>\n      <td>5.8</td>\n      <td>1964-04-29T04:21:00.0Z</td>\n    </tr>\n    <tr>\n      <th>...</th>\n      <td>...</td>\n      <td>...</td>\n      <td>...</td>\n      <td>...</td>\n      <td>...</td>\n      <td>...</td>\n      <td>...</td>\n      <td>...</td>\n      <td>...</td>\n      <td>...</td>\n      <td>...</td>\n    </tr>\n    <tr>\n      <th>313395</th>\n      <td>2021</td>\n      <td>APR</td>\n      <td>9</td>\n      <td>5</td>\n      <td>0</td>\n      <td>7.4</td>\n      <td>39.7856</td>\n      <td>21.9081</td>\n      <td>5</td>\n      <td>0.6</td>\n      <td>2021-04-09T05:00:07.4Z</td>\n    </tr>\n    <tr>\n      <th>313396</th>\n      <td>2021</td>\n      <td>APR</td>\n      <td>9</td>\n      <td>5</td>\n      <td>0</td>\n      <td>21.9</td>\n      <td>39.7920</td>\n      <td>21.9328</td>\n      <td>5</td>\n      <td>1.5</td>\n      <td>2021-04-09T05:00:21.9Z</td>\n    </tr>\n    <tr>\n      <th>313397</th>\n      <td>2021</td>\n      <td>APR</td>\n      <td>9</td>\n      <td>5</td>\n      <td>1</td>\n      <td>6.5</td>\n      <td>39.7160</td>\n      <td>22.1947</td>\n      <td>8</td>\n      <td>1.0</td>\n      <td>2021-04-09T05:01:06.5Z</td>\n    </tr>\n    <tr>\n      <th>313398</th>\n      <td>2021</td>\n      <td>APR</td>\n      <td>9</td>\n      <td>5</td>\n      <td>2</td>\n      <td>5.6</td>\n      <td>39.7929</td>\n      <td>21.9154</td>\n      <td>6</td>\n      <td>1.0</td>\n      <td>2021-04-09T05:02:05.6Z</td>\n    </tr>\n    <tr>\n      <th>313399</th>\n      <td>2021</td>\n      <td>APR</td>\n      <td>9</td>\n      <td>5</td>\n      <td>15</td>\n      <td>5.0</td>\n      <td>39.8007</td>\n      <td>21.8948</td>\n      <td>7</td>\n      <td>1.2</td>\n      <td>2021-04-09T05:15:05.0Z</td>\n    </tr>\n  </tbody>\n</table>\n<p>313400 rows × 11 columns</p>\n</div>"
     },
     "metadata": {},
     "execution_count": 122
    }
   ],
   "source": [
    "df"
   ]
  },
  {
   "cell_type": "code",
   "execution_count": 123,
   "metadata": {},
   "outputs": [
    {
     "output_type": "execute_result",
     "data": {
      "text/plain": [
       "YEAR           int64\n",
       "MONTH         object\n",
       "DAY            int64\n",
       "HOUR           int64\n",
       "MINUTE         int64\n",
       "SECOND       float64\n",
       "LATITUDE     float64\n",
       "LONGITUDE    float64\n",
       "DEPTH          int64\n",
       "MAGNITUDE    float64\n",
       "T             object\n",
       "dtype: object"
      ]
     },
     "metadata": {},
     "execution_count": 123
    }
   ],
   "source": [
    "df.dtypes"
   ]
  },
  {
   "cell_type": "code",
   "execution_count": 124,
   "metadata": {},
   "outputs": [
    {
     "output_type": "execute_result",
     "data": {
      "text/plain": [
       "(313400, 11)"
      ]
     },
     "metadata": {},
     "execution_count": 124
    }
   ],
   "source": [
    "df.shape"
   ]
  },
  {
   "cell_type": "code",
   "execution_count": 125,
   "metadata": {},
   "outputs": [],
   "source": [
    "fltr = (df['YEAR'] < 2000) | (df['YEAR'] > 2009)"
   ]
  },
  {
   "cell_type": "code",
   "execution_count": 126,
   "metadata": {},
   "outputs": [],
   "source": [
    "df.drop(df[fltr].index, inplace=True)"
   ]
  },
  {
   "cell_type": "code",
   "execution_count": 127,
   "metadata": {},
   "outputs": [
    {
     "output_type": "execute_result",
     "data": {
      "text/plain": [
       "       YEAR MONTH  DAY  HOUR  MINUTE  SECOND  LATITUDE  LONGITUDE  DEPTH  \\\n",
       "36096  2000   JAN    1     1      19    28.3     41.95      20.63      5   \n",
       "36097  2000   JAN    1     4       2    28.4     35.54      22.76     22   \n",
       "36098  2000   JAN    1     5      13    59.1     38.97      26.10     35   \n",
       "36099  2000   JAN    1     5      17    12.9     38.89      25.85     22   \n",
       "36100  2000   JAN    1     5      56     7.3     39.21      27.30     10   \n",
       "...     ...   ...  ...   ...     ...     ...       ...        ...    ...   \n",
       "88348  2009   DEC   31    14      24     1.2     37.47      21.83     21   \n",
       "88349  2009   DEC   31    14      50    29.6     34.67      24.42     15   \n",
       "88350  2009   DEC   31    17      27    45.8     35.68      23.47      5   \n",
       "88351  2009   DEC   31    20      43    12.9     36.37      21.61     11   \n",
       "88352  2009   DEC   31    20      58    40.8     39.70      20.76     18   \n",
       "\n",
       "       MAGNITUDE                       T  \n",
       "36096        4.8  2000-01-01T01:19:28.3Z  \n",
       "36097        3.7  2000-01-01T04:02:28.4Z  \n",
       "36098        3.3  2000-01-01T05:13:59.1Z  \n",
       "36099        3.3  2000-01-01T05:17:12.9Z  \n",
       "36100        3.6  2000-01-01T05:56:07.3Z  \n",
       "...          ...                     ...  \n",
       "88348        2.8  2009-12-31T14:24:01.2Z  \n",
       "88349        3.4  2009-12-31T14:50:29.6Z  \n",
       "88350        2.9  2009-12-31T17:27:45.8Z  \n",
       "88351        3.2  2009-12-31T20:43:12.9Z  \n",
       "88352        2.8  2009-12-31T20:58:40.8Z  \n",
       "\n",
       "[52257 rows x 11 columns]"
      ],
      "text/html": "<div>\n<style scoped>\n    .dataframe tbody tr th:only-of-type {\n        vertical-align: middle;\n    }\n\n    .dataframe tbody tr th {\n        vertical-align: top;\n    }\n\n    .dataframe thead th {\n        text-align: right;\n    }\n</style>\n<table border=\"1\" class=\"dataframe\">\n  <thead>\n    <tr style=\"text-align: right;\">\n      <th></th>\n      <th>YEAR</th>\n      <th>MONTH</th>\n      <th>DAY</th>\n      <th>HOUR</th>\n      <th>MINUTE</th>\n      <th>SECOND</th>\n      <th>LATITUDE</th>\n      <th>LONGITUDE</th>\n      <th>DEPTH</th>\n      <th>MAGNITUDE</th>\n      <th>T</th>\n    </tr>\n  </thead>\n  <tbody>\n    <tr>\n      <th>36096</th>\n      <td>2000</td>\n      <td>JAN</td>\n      <td>1</td>\n      <td>1</td>\n      <td>19</td>\n      <td>28.3</td>\n      <td>41.95</td>\n      <td>20.63</td>\n      <td>5</td>\n      <td>4.8</td>\n      <td>2000-01-01T01:19:28.3Z</td>\n    </tr>\n    <tr>\n      <th>36097</th>\n      <td>2000</td>\n      <td>JAN</td>\n      <td>1</td>\n      <td>4</td>\n      <td>2</td>\n      <td>28.4</td>\n      <td>35.54</td>\n      <td>22.76</td>\n      <td>22</td>\n      <td>3.7</td>\n      <td>2000-01-01T04:02:28.4Z</td>\n    </tr>\n    <tr>\n      <th>36098</th>\n      <td>2000</td>\n      <td>JAN</td>\n      <td>1</td>\n      <td>5</td>\n      <td>13</td>\n      <td>59.1</td>\n      <td>38.97</td>\n      <td>26.10</td>\n      <td>35</td>\n      <td>3.3</td>\n      <td>2000-01-01T05:13:59.1Z</td>\n    </tr>\n    <tr>\n      <th>36099</th>\n      <td>2000</td>\n      <td>JAN</td>\n      <td>1</td>\n      <td>5</td>\n      <td>17</td>\n      <td>12.9</td>\n      <td>38.89</td>\n      <td>25.85</td>\n      <td>22</td>\n      <td>3.3</td>\n      <td>2000-01-01T05:17:12.9Z</td>\n    </tr>\n    <tr>\n      <th>36100</th>\n      <td>2000</td>\n      <td>JAN</td>\n      <td>1</td>\n      <td>5</td>\n      <td>56</td>\n      <td>7.3</td>\n      <td>39.21</td>\n      <td>27.30</td>\n      <td>10</td>\n      <td>3.6</td>\n      <td>2000-01-01T05:56:07.3Z</td>\n    </tr>\n    <tr>\n      <th>...</th>\n      <td>...</td>\n      <td>...</td>\n      <td>...</td>\n      <td>...</td>\n      <td>...</td>\n      <td>...</td>\n      <td>...</td>\n      <td>...</td>\n      <td>...</td>\n      <td>...</td>\n      <td>...</td>\n    </tr>\n    <tr>\n      <th>88348</th>\n      <td>2009</td>\n      <td>DEC</td>\n      <td>31</td>\n      <td>14</td>\n      <td>24</td>\n      <td>1.2</td>\n      <td>37.47</td>\n      <td>21.83</td>\n      <td>21</td>\n      <td>2.8</td>\n      <td>2009-12-31T14:24:01.2Z</td>\n    </tr>\n    <tr>\n      <th>88349</th>\n      <td>2009</td>\n      <td>DEC</td>\n      <td>31</td>\n      <td>14</td>\n      <td>50</td>\n      <td>29.6</td>\n      <td>34.67</td>\n      <td>24.42</td>\n      <td>15</td>\n      <td>3.4</td>\n      <td>2009-12-31T14:50:29.6Z</td>\n    </tr>\n    <tr>\n      <th>88350</th>\n      <td>2009</td>\n      <td>DEC</td>\n      <td>31</td>\n      <td>17</td>\n      <td>27</td>\n      <td>45.8</td>\n      <td>35.68</td>\n      <td>23.47</td>\n      <td>5</td>\n      <td>2.9</td>\n      <td>2009-12-31T17:27:45.8Z</td>\n    </tr>\n    <tr>\n      <th>88351</th>\n      <td>2009</td>\n      <td>DEC</td>\n      <td>31</td>\n      <td>20</td>\n      <td>43</td>\n      <td>12.9</td>\n      <td>36.37</td>\n      <td>21.61</td>\n      <td>11</td>\n      <td>3.2</td>\n      <td>2009-12-31T20:43:12.9Z</td>\n    </tr>\n    <tr>\n      <th>88352</th>\n      <td>2009</td>\n      <td>DEC</td>\n      <td>31</td>\n      <td>20</td>\n      <td>58</td>\n      <td>40.8</td>\n      <td>39.70</td>\n      <td>20.76</td>\n      <td>18</td>\n      <td>2.8</td>\n      <td>2009-12-31T20:58:40.8Z</td>\n    </tr>\n  </tbody>\n</table>\n<p>52257 rows × 11 columns</p>\n</div>"
     },
     "metadata": {},
     "execution_count": 127
    }
   ],
   "source": [
    "df"
   ]
  },
  {
   "cell_type": "code",
   "execution_count": 128,
   "metadata": {},
   "outputs": [],
   "source": [
    "df.reset_index(inplace=True)"
   ]
  },
  {
   "cell_type": "code",
   "execution_count": 129,
   "metadata": {},
   "outputs": [],
   "source": [
    "df.drop(columns='index', inplace=True)"
   ]
  },
  {
   "cell_type": "code",
   "execution_count": 130,
   "metadata": {},
   "outputs": [
    {
     "output_type": "execute_result",
     "data": {
      "text/plain": [
       "       YEAR MONTH  DAY  HOUR  MINUTE  SECOND  LATITUDE  LONGITUDE  DEPTH  \\\n",
       "0      2000   JAN    1     1      19    28.3     41.95      20.63      5   \n",
       "1      2000   JAN    1     4       2    28.4     35.54      22.76     22   \n",
       "2      2000   JAN    1     5      13    59.1     38.97      26.10     35   \n",
       "3      2000   JAN    1     5      17    12.9     38.89      25.85     22   \n",
       "4      2000   JAN    1     5      56     7.3     39.21      27.30     10   \n",
       "...     ...   ...  ...   ...     ...     ...       ...        ...    ...   \n",
       "52252  2009   DEC   31    14      24     1.2     37.47      21.83     21   \n",
       "52253  2009   DEC   31    14      50    29.6     34.67      24.42     15   \n",
       "52254  2009   DEC   31    17      27    45.8     35.68      23.47      5   \n",
       "52255  2009   DEC   31    20      43    12.9     36.37      21.61     11   \n",
       "52256  2009   DEC   31    20      58    40.8     39.70      20.76     18   \n",
       "\n",
       "       MAGNITUDE                       T  \n",
       "0            4.8  2000-01-01T01:19:28.3Z  \n",
       "1            3.7  2000-01-01T04:02:28.4Z  \n",
       "2            3.3  2000-01-01T05:13:59.1Z  \n",
       "3            3.3  2000-01-01T05:17:12.9Z  \n",
       "4            3.6  2000-01-01T05:56:07.3Z  \n",
       "...          ...                     ...  \n",
       "52252        2.8  2009-12-31T14:24:01.2Z  \n",
       "52253        3.4  2009-12-31T14:50:29.6Z  \n",
       "52254        2.9  2009-12-31T17:27:45.8Z  \n",
       "52255        3.2  2009-12-31T20:43:12.9Z  \n",
       "52256        2.8  2009-12-31T20:58:40.8Z  \n",
       "\n",
       "[52257 rows x 11 columns]"
      ],
      "text/html": "<div>\n<style scoped>\n    .dataframe tbody tr th:only-of-type {\n        vertical-align: middle;\n    }\n\n    .dataframe tbody tr th {\n        vertical-align: top;\n    }\n\n    .dataframe thead th {\n        text-align: right;\n    }\n</style>\n<table border=\"1\" class=\"dataframe\">\n  <thead>\n    <tr style=\"text-align: right;\">\n      <th></th>\n      <th>YEAR</th>\n      <th>MONTH</th>\n      <th>DAY</th>\n      <th>HOUR</th>\n      <th>MINUTE</th>\n      <th>SECOND</th>\n      <th>LATITUDE</th>\n      <th>LONGITUDE</th>\n      <th>DEPTH</th>\n      <th>MAGNITUDE</th>\n      <th>T</th>\n    </tr>\n  </thead>\n  <tbody>\n    <tr>\n      <th>0</th>\n      <td>2000</td>\n      <td>JAN</td>\n      <td>1</td>\n      <td>1</td>\n      <td>19</td>\n      <td>28.3</td>\n      <td>41.95</td>\n      <td>20.63</td>\n      <td>5</td>\n      <td>4.8</td>\n      <td>2000-01-01T01:19:28.3Z</td>\n    </tr>\n    <tr>\n      <th>1</th>\n      <td>2000</td>\n      <td>JAN</td>\n      <td>1</td>\n      <td>4</td>\n      <td>2</td>\n      <td>28.4</td>\n      <td>35.54</td>\n      <td>22.76</td>\n      <td>22</td>\n      <td>3.7</td>\n      <td>2000-01-01T04:02:28.4Z</td>\n    </tr>\n    <tr>\n      <th>2</th>\n      <td>2000</td>\n      <td>JAN</td>\n      <td>1</td>\n      <td>5</td>\n      <td>13</td>\n      <td>59.1</td>\n      <td>38.97</td>\n      <td>26.10</td>\n      <td>35</td>\n      <td>3.3</td>\n      <td>2000-01-01T05:13:59.1Z</td>\n    </tr>\n    <tr>\n      <th>3</th>\n      <td>2000</td>\n      <td>JAN</td>\n      <td>1</td>\n      <td>5</td>\n      <td>17</td>\n      <td>12.9</td>\n      <td>38.89</td>\n      <td>25.85</td>\n      <td>22</td>\n      <td>3.3</td>\n      <td>2000-01-01T05:17:12.9Z</td>\n    </tr>\n    <tr>\n      <th>4</th>\n      <td>2000</td>\n      <td>JAN</td>\n      <td>1</td>\n      <td>5</td>\n      <td>56</td>\n      <td>7.3</td>\n      <td>39.21</td>\n      <td>27.30</td>\n      <td>10</td>\n      <td>3.6</td>\n      <td>2000-01-01T05:56:07.3Z</td>\n    </tr>\n    <tr>\n      <th>...</th>\n      <td>...</td>\n      <td>...</td>\n      <td>...</td>\n      <td>...</td>\n      <td>...</td>\n      <td>...</td>\n      <td>...</td>\n      <td>...</td>\n      <td>...</td>\n      <td>...</td>\n      <td>...</td>\n    </tr>\n    <tr>\n      <th>52252</th>\n      <td>2009</td>\n      <td>DEC</td>\n      <td>31</td>\n      <td>14</td>\n      <td>24</td>\n      <td>1.2</td>\n      <td>37.47</td>\n      <td>21.83</td>\n      <td>21</td>\n      <td>2.8</td>\n      <td>2009-12-31T14:24:01.2Z</td>\n    </tr>\n    <tr>\n      <th>52253</th>\n      <td>2009</td>\n      <td>DEC</td>\n      <td>31</td>\n      <td>14</td>\n      <td>50</td>\n      <td>29.6</td>\n      <td>34.67</td>\n      <td>24.42</td>\n      <td>15</td>\n      <td>3.4</td>\n      <td>2009-12-31T14:50:29.6Z</td>\n    </tr>\n    <tr>\n      <th>52254</th>\n      <td>2009</td>\n      <td>DEC</td>\n      <td>31</td>\n      <td>17</td>\n      <td>27</td>\n      <td>45.8</td>\n      <td>35.68</td>\n      <td>23.47</td>\n      <td>5</td>\n      <td>2.9</td>\n      <td>2009-12-31T17:27:45.8Z</td>\n    </tr>\n    <tr>\n      <th>52255</th>\n      <td>2009</td>\n      <td>DEC</td>\n      <td>31</td>\n      <td>20</td>\n      <td>43</td>\n      <td>12.9</td>\n      <td>36.37</td>\n      <td>21.61</td>\n      <td>11</td>\n      <td>3.2</td>\n      <td>2009-12-31T20:43:12.9Z</td>\n    </tr>\n    <tr>\n      <th>52256</th>\n      <td>2009</td>\n      <td>DEC</td>\n      <td>31</td>\n      <td>20</td>\n      <td>58</td>\n      <td>40.8</td>\n      <td>39.70</td>\n      <td>20.76</td>\n      <td>18</td>\n      <td>2.8</td>\n      <td>2009-12-31T20:58:40.8Z</td>\n    </tr>\n  </tbody>\n</table>\n<p>52257 rows × 11 columns</p>\n</div>"
     },
     "metadata": {},
     "execution_count": 130
    }
   ],
   "source": [
    "df"
   ]
  },
  {
   "source": [
    "currently we are reading it as a string"
   ],
   "cell_type": "markdown",
   "metadata": {}
  },
  {
   "cell_type": "code",
   "execution_count": 131,
   "metadata": {},
   "outputs": [],
   "source": [
    "df['DATETIME'] = pandas.to_datetime(df['T'])"
   ]
  },
  {
   "cell_type": "code",
   "execution_count": 132,
   "metadata": {},
   "outputs": [
    {
     "output_type": "execute_result",
     "data": {
      "text/plain": [
       "0       2000-01-01 01:19:28.300000+00:00\n",
       "1       2000-01-01 04:02:28.400000+00:00\n",
       "2       2000-01-01 05:13:59.100000+00:00\n",
       "3       2000-01-01 05:17:12.900000+00:00\n",
       "4       2000-01-01 05:56:07.300000+00:00\n",
       "                      ...               \n",
       "52252   2009-12-31 14:24:01.200000+00:00\n",
       "52253   2009-12-31 14:50:29.600000+00:00\n",
       "52254   2009-12-31 17:27:45.800000+00:00\n",
       "52255   2009-12-31 20:43:12.900000+00:00\n",
       "52256   2009-12-31 20:58:40.800000+00:00\n",
       "Name: DATETIME, Length: 52257, dtype: datetime64[ns, UTC]"
      ]
     },
     "metadata": {},
     "execution_count": 132
    }
   ],
   "source": [
    "df['DATETIME']"
   ]
  },
  {
   "cell_type": "code",
   "execution_count": 133,
   "metadata": {},
   "outputs": [
    {
     "output_type": "execute_result",
     "data": {
      "text/plain": [
       "'Saturday'"
      ]
     },
     "metadata": {},
     "execution_count": 133
    }
   ],
   "source": [
    "df.loc[0, 'DATETIME'].day_name()"
   ]
  },
  {
   "cell_type": "code",
   "execution_count": 134,
   "metadata": {},
   "outputs": [],
   "source": [
    "df_full = pandas.read_csv('quakesT.csv', parse_dates=['T'])"
   ]
  },
  {
   "cell_type": "code",
   "execution_count": 135,
   "metadata": {},
   "outputs": [
    {
     "output_type": "execute_result",
     "data": {
      "text/plain": [
       "        YEAR MONTH  DAY  HOUR  MINUTE  SECOND  LATITUDE  LONGITUDE  DEPTH  \\\n",
       "0       1964   FEB   24    23      30    25.0   38.9000    23.9000     10   \n",
       "1       1964   APR   11    16       0     0.0   39.7500    25.2500     10   \n",
       "2       1964   APR   21     8      14    40.0   38.5000    22.2500     10   \n",
       "3       1964   APR   24     3      49    58.0   38.0000    21.8000     10   \n",
       "4       1964   APR   29     4      21     0.0   39.2500    23.7500     10   \n",
       "...      ...   ...  ...   ...     ...     ...       ...        ...    ...   \n",
       "313395  2021   APR    9     5       0     7.4   39.7856    21.9081      5   \n",
       "313396  2021   APR    9     5       0    21.9   39.7920    21.9328      5   \n",
       "313397  2021   APR    9     5       1     6.5   39.7160    22.1947      8   \n",
       "313398  2021   APR    9     5       2     5.6   39.7929    21.9154      6   \n",
       "313399  2021   APR    9     5      15     5.0   39.8007    21.8948      7   \n",
       "\n",
       "        MAGNITUDE                                T  \n",
       "0             5.3        1964-02-24 23:30:25+00:00  \n",
       "1             5.7        1964-04-11 16:00:00+00:00  \n",
       "2             4.5        1964-04-21 08:14:40+00:00  \n",
       "3             5.0        1964-04-24 03:49:58+00:00  \n",
       "4             5.8        1964-04-29 04:21:00+00:00  \n",
       "...           ...                              ...  \n",
       "313395        0.6 2021-04-09 05:00:07.400000+00:00  \n",
       "313396        1.5 2021-04-09 05:00:21.900000+00:00  \n",
       "313397        1.0 2021-04-09 05:01:06.500000+00:00  \n",
       "313398        1.0 2021-04-09 05:02:05.600000+00:00  \n",
       "313399        1.2        2021-04-09 05:15:05+00:00  \n",
       "\n",
       "[313400 rows x 11 columns]"
      ],
      "text/html": "<div>\n<style scoped>\n    .dataframe tbody tr th:only-of-type {\n        vertical-align: middle;\n    }\n\n    .dataframe tbody tr th {\n        vertical-align: top;\n    }\n\n    .dataframe thead th {\n        text-align: right;\n    }\n</style>\n<table border=\"1\" class=\"dataframe\">\n  <thead>\n    <tr style=\"text-align: right;\">\n      <th></th>\n      <th>YEAR</th>\n      <th>MONTH</th>\n      <th>DAY</th>\n      <th>HOUR</th>\n      <th>MINUTE</th>\n      <th>SECOND</th>\n      <th>LATITUDE</th>\n      <th>LONGITUDE</th>\n      <th>DEPTH</th>\n      <th>MAGNITUDE</th>\n      <th>T</th>\n    </tr>\n  </thead>\n  <tbody>\n    <tr>\n      <th>0</th>\n      <td>1964</td>\n      <td>FEB</td>\n      <td>24</td>\n      <td>23</td>\n      <td>30</td>\n      <td>25.0</td>\n      <td>38.9000</td>\n      <td>23.9000</td>\n      <td>10</td>\n      <td>5.3</td>\n      <td>1964-02-24 23:30:25+00:00</td>\n    </tr>\n    <tr>\n      <th>1</th>\n      <td>1964</td>\n      <td>APR</td>\n      <td>11</td>\n      <td>16</td>\n      <td>0</td>\n      <td>0.0</td>\n      <td>39.7500</td>\n      <td>25.2500</td>\n      <td>10</td>\n      <td>5.7</td>\n      <td>1964-04-11 16:00:00+00:00</td>\n    </tr>\n    <tr>\n      <th>2</th>\n      <td>1964</td>\n      <td>APR</td>\n      <td>21</td>\n      <td>8</td>\n      <td>14</td>\n      <td>40.0</td>\n      <td>38.5000</td>\n      <td>22.2500</td>\n      <td>10</td>\n      <td>4.5</td>\n      <td>1964-04-21 08:14:40+00:00</td>\n    </tr>\n    <tr>\n      <th>3</th>\n      <td>1964</td>\n      <td>APR</td>\n      <td>24</td>\n      <td>3</td>\n      <td>49</td>\n      <td>58.0</td>\n      <td>38.0000</td>\n      <td>21.8000</td>\n      <td>10</td>\n      <td>5.0</td>\n      <td>1964-04-24 03:49:58+00:00</td>\n    </tr>\n    <tr>\n      <th>4</th>\n      <td>1964</td>\n      <td>APR</td>\n      <td>29</td>\n      <td>4</td>\n      <td>21</td>\n      <td>0.0</td>\n      <td>39.2500</td>\n      <td>23.7500</td>\n      <td>10</td>\n      <td>5.8</td>\n      <td>1964-04-29 04:21:00+00:00</td>\n    </tr>\n    <tr>\n      <th>...</th>\n      <td>...</td>\n      <td>...</td>\n      <td>...</td>\n      <td>...</td>\n      <td>...</td>\n      <td>...</td>\n      <td>...</td>\n      <td>...</td>\n      <td>...</td>\n      <td>...</td>\n      <td>...</td>\n    </tr>\n    <tr>\n      <th>313395</th>\n      <td>2021</td>\n      <td>APR</td>\n      <td>9</td>\n      <td>5</td>\n      <td>0</td>\n      <td>7.4</td>\n      <td>39.7856</td>\n      <td>21.9081</td>\n      <td>5</td>\n      <td>0.6</td>\n      <td>2021-04-09 05:00:07.400000+00:00</td>\n    </tr>\n    <tr>\n      <th>313396</th>\n      <td>2021</td>\n      <td>APR</td>\n      <td>9</td>\n      <td>5</td>\n      <td>0</td>\n      <td>21.9</td>\n      <td>39.7920</td>\n      <td>21.9328</td>\n      <td>5</td>\n      <td>1.5</td>\n      <td>2021-04-09 05:00:21.900000+00:00</td>\n    </tr>\n    <tr>\n      <th>313397</th>\n      <td>2021</td>\n      <td>APR</td>\n      <td>9</td>\n      <td>5</td>\n      <td>1</td>\n      <td>6.5</td>\n      <td>39.7160</td>\n      <td>22.1947</td>\n      <td>8</td>\n      <td>1.0</td>\n      <td>2021-04-09 05:01:06.500000+00:00</td>\n    </tr>\n    <tr>\n      <th>313398</th>\n      <td>2021</td>\n      <td>APR</td>\n      <td>9</td>\n      <td>5</td>\n      <td>2</td>\n      <td>5.6</td>\n      <td>39.7929</td>\n      <td>21.9154</td>\n      <td>6</td>\n      <td>1.0</td>\n      <td>2021-04-09 05:02:05.600000+00:00</td>\n    </tr>\n    <tr>\n      <th>313399</th>\n      <td>2021</td>\n      <td>APR</td>\n      <td>9</td>\n      <td>5</td>\n      <td>15</td>\n      <td>5.0</td>\n      <td>39.8007</td>\n      <td>21.8948</td>\n      <td>7</td>\n      <td>1.2</td>\n      <td>2021-04-09 05:15:05+00:00</td>\n    </tr>\n  </tbody>\n</table>\n<p>313400 rows × 11 columns</p>\n</div>"
     },
     "metadata": {},
     "execution_count": 135
    }
   ],
   "source": [
    "df_full"
   ]
  },
  {
   "cell_type": "code",
   "execution_count": 136,
   "metadata": {},
   "outputs": [
    {
     "output_type": "execute_result",
     "data": {
      "text/plain": [
       "       YEAR MONTH  DAY  HOUR  MINUTE  SECOND  LATITUDE  LONGITUDE  DEPTH  \\\n",
       "0      2000   JAN    1     1      19    28.3     41.95      20.63      5   \n",
       "1      2000   JAN    1     4       2    28.4     35.54      22.76     22   \n",
       "2      2000   JAN    1     5      13    59.1     38.97      26.10     35   \n",
       "3      2000   JAN    1     5      17    12.9     38.89      25.85     22   \n",
       "4      2000   JAN    1     5      56     7.3     39.21      27.30     10   \n",
       "...     ...   ...  ...   ...     ...     ...       ...        ...    ...   \n",
       "52252  2009   DEC   31    14      24     1.2     37.47      21.83     21   \n",
       "52253  2009   DEC   31    14      50    29.6     34.67      24.42     15   \n",
       "52254  2009   DEC   31    17      27    45.8     35.68      23.47      5   \n",
       "52255  2009   DEC   31    20      43    12.9     36.37      21.61     11   \n",
       "52256  2009   DEC   31    20      58    40.8     39.70      20.76     18   \n",
       "\n",
       "       MAGNITUDE                       T                         DATETIME  \n",
       "0            4.8  2000-01-01T01:19:28.3Z 2000-01-01 01:19:28.300000+00:00  \n",
       "1            3.7  2000-01-01T04:02:28.4Z 2000-01-01 04:02:28.400000+00:00  \n",
       "2            3.3  2000-01-01T05:13:59.1Z 2000-01-01 05:13:59.100000+00:00  \n",
       "3            3.3  2000-01-01T05:17:12.9Z 2000-01-01 05:17:12.900000+00:00  \n",
       "4            3.6  2000-01-01T05:56:07.3Z 2000-01-01 05:56:07.300000+00:00  \n",
       "...          ...                     ...                              ...  \n",
       "52252        2.8  2009-12-31T14:24:01.2Z 2009-12-31 14:24:01.200000+00:00  \n",
       "52253        3.4  2009-12-31T14:50:29.6Z 2009-12-31 14:50:29.600000+00:00  \n",
       "52254        2.9  2009-12-31T17:27:45.8Z 2009-12-31 17:27:45.800000+00:00  \n",
       "52255        3.2  2009-12-31T20:43:12.9Z 2009-12-31 20:43:12.900000+00:00  \n",
       "52256        2.8  2009-12-31T20:58:40.8Z 2009-12-31 20:58:40.800000+00:00  \n",
       "\n",
       "[52257 rows x 12 columns]"
      ],
      "text/html": "<div>\n<style scoped>\n    .dataframe tbody tr th:only-of-type {\n        vertical-align: middle;\n    }\n\n    .dataframe tbody tr th {\n        vertical-align: top;\n    }\n\n    .dataframe thead th {\n        text-align: right;\n    }\n</style>\n<table border=\"1\" class=\"dataframe\">\n  <thead>\n    <tr style=\"text-align: right;\">\n      <th></th>\n      <th>YEAR</th>\n      <th>MONTH</th>\n      <th>DAY</th>\n      <th>HOUR</th>\n      <th>MINUTE</th>\n      <th>SECOND</th>\n      <th>LATITUDE</th>\n      <th>LONGITUDE</th>\n      <th>DEPTH</th>\n      <th>MAGNITUDE</th>\n      <th>T</th>\n      <th>DATETIME</th>\n    </tr>\n  </thead>\n  <tbody>\n    <tr>\n      <th>0</th>\n      <td>2000</td>\n      <td>JAN</td>\n      <td>1</td>\n      <td>1</td>\n      <td>19</td>\n      <td>28.3</td>\n      <td>41.95</td>\n      <td>20.63</td>\n      <td>5</td>\n      <td>4.8</td>\n      <td>2000-01-01T01:19:28.3Z</td>\n      <td>2000-01-01 01:19:28.300000+00:00</td>\n    </tr>\n    <tr>\n      <th>1</th>\n      <td>2000</td>\n      <td>JAN</td>\n      <td>1</td>\n      <td>4</td>\n      <td>2</td>\n      <td>28.4</td>\n      <td>35.54</td>\n      <td>22.76</td>\n      <td>22</td>\n      <td>3.7</td>\n      <td>2000-01-01T04:02:28.4Z</td>\n      <td>2000-01-01 04:02:28.400000+00:00</td>\n    </tr>\n    <tr>\n      <th>2</th>\n      <td>2000</td>\n      <td>JAN</td>\n      <td>1</td>\n      <td>5</td>\n      <td>13</td>\n      <td>59.1</td>\n      <td>38.97</td>\n      <td>26.10</td>\n      <td>35</td>\n      <td>3.3</td>\n      <td>2000-01-01T05:13:59.1Z</td>\n      <td>2000-01-01 05:13:59.100000+00:00</td>\n    </tr>\n    <tr>\n      <th>3</th>\n      <td>2000</td>\n      <td>JAN</td>\n      <td>1</td>\n      <td>5</td>\n      <td>17</td>\n      <td>12.9</td>\n      <td>38.89</td>\n      <td>25.85</td>\n      <td>22</td>\n      <td>3.3</td>\n      <td>2000-01-01T05:17:12.9Z</td>\n      <td>2000-01-01 05:17:12.900000+00:00</td>\n    </tr>\n    <tr>\n      <th>4</th>\n      <td>2000</td>\n      <td>JAN</td>\n      <td>1</td>\n      <td>5</td>\n      <td>56</td>\n      <td>7.3</td>\n      <td>39.21</td>\n      <td>27.30</td>\n      <td>10</td>\n      <td>3.6</td>\n      <td>2000-01-01T05:56:07.3Z</td>\n      <td>2000-01-01 05:56:07.300000+00:00</td>\n    </tr>\n    <tr>\n      <th>...</th>\n      <td>...</td>\n      <td>...</td>\n      <td>...</td>\n      <td>...</td>\n      <td>...</td>\n      <td>...</td>\n      <td>...</td>\n      <td>...</td>\n      <td>...</td>\n      <td>...</td>\n      <td>...</td>\n      <td>...</td>\n    </tr>\n    <tr>\n      <th>52252</th>\n      <td>2009</td>\n      <td>DEC</td>\n      <td>31</td>\n      <td>14</td>\n      <td>24</td>\n      <td>1.2</td>\n      <td>37.47</td>\n      <td>21.83</td>\n      <td>21</td>\n      <td>2.8</td>\n      <td>2009-12-31T14:24:01.2Z</td>\n      <td>2009-12-31 14:24:01.200000+00:00</td>\n    </tr>\n    <tr>\n      <th>52253</th>\n      <td>2009</td>\n      <td>DEC</td>\n      <td>31</td>\n      <td>14</td>\n      <td>50</td>\n      <td>29.6</td>\n      <td>34.67</td>\n      <td>24.42</td>\n      <td>15</td>\n      <td>3.4</td>\n      <td>2009-12-31T14:50:29.6Z</td>\n      <td>2009-12-31 14:50:29.600000+00:00</td>\n    </tr>\n    <tr>\n      <th>52254</th>\n      <td>2009</td>\n      <td>DEC</td>\n      <td>31</td>\n      <td>17</td>\n      <td>27</td>\n      <td>45.8</td>\n      <td>35.68</td>\n      <td>23.47</td>\n      <td>5</td>\n      <td>2.9</td>\n      <td>2009-12-31T17:27:45.8Z</td>\n      <td>2009-12-31 17:27:45.800000+00:00</td>\n    </tr>\n    <tr>\n      <th>52255</th>\n      <td>2009</td>\n      <td>DEC</td>\n      <td>31</td>\n      <td>20</td>\n      <td>43</td>\n      <td>12.9</td>\n      <td>36.37</td>\n      <td>21.61</td>\n      <td>11</td>\n      <td>3.2</td>\n      <td>2009-12-31T20:43:12.9Z</td>\n      <td>2009-12-31 20:43:12.900000+00:00</td>\n    </tr>\n    <tr>\n      <th>52256</th>\n      <td>2009</td>\n      <td>DEC</td>\n      <td>31</td>\n      <td>20</td>\n      <td>58</td>\n      <td>40.8</td>\n      <td>39.70</td>\n      <td>20.76</td>\n      <td>18</td>\n      <td>2.8</td>\n      <td>2009-12-31T20:58:40.8Z</td>\n      <td>2009-12-31 20:58:40.800000+00:00</td>\n    </tr>\n  </tbody>\n</table>\n<p>52257 rows × 12 columns</p>\n</div>"
     },
     "metadata": {},
     "execution_count": 136
    }
   ],
   "source": [
    "df"
   ]
  },
  {
   "cell_type": "code",
   "execution_count": 137,
   "metadata": {},
   "outputs": [
    {
     "output_type": "execute_result",
     "data": {
      "text/plain": [
       "0        Saturday\n",
       "1        Saturday\n",
       "2        Saturday\n",
       "3        Saturday\n",
       "4        Saturday\n",
       "           ...   \n",
       "52252    Thursday\n",
       "52253    Thursday\n",
       "52254    Thursday\n",
       "52255    Thursday\n",
       "52256    Thursday\n",
       "Name: DATETIME, Length: 52257, dtype: object"
      ]
     },
     "metadata": {},
     "execution_count": 137
    }
   ],
   "source": [
    "df['DATETIME'].dt.day_name()"
   ]
  },
  {
   "cell_type": "code",
   "execution_count": 138,
   "metadata": {},
   "outputs": [],
   "source": [
    "df['DAY_NAME'] = df['DATETIME'].dt.day_name() "
   ]
  },
  {
   "cell_type": "code",
   "execution_count": 139,
   "metadata": {},
   "outputs": [
    {
     "output_type": "execute_result",
     "data": {
      "text/plain": [
       "       YEAR MONTH  DAY  HOUR  MINUTE  SECOND  LATITUDE  LONGITUDE  DEPTH  \\\n",
       "0      2000   JAN    1     1      19    28.3     41.95      20.63      5   \n",
       "1      2000   JAN    1     4       2    28.4     35.54      22.76     22   \n",
       "2      2000   JAN    1     5      13    59.1     38.97      26.10     35   \n",
       "3      2000   JAN    1     5      17    12.9     38.89      25.85     22   \n",
       "4      2000   JAN    1     5      56     7.3     39.21      27.30     10   \n",
       "...     ...   ...  ...   ...     ...     ...       ...        ...    ...   \n",
       "52252  2009   DEC   31    14      24     1.2     37.47      21.83     21   \n",
       "52253  2009   DEC   31    14      50    29.6     34.67      24.42     15   \n",
       "52254  2009   DEC   31    17      27    45.8     35.68      23.47      5   \n",
       "52255  2009   DEC   31    20      43    12.9     36.37      21.61     11   \n",
       "52256  2009   DEC   31    20      58    40.8     39.70      20.76     18   \n",
       "\n",
       "       MAGNITUDE                       T                         DATETIME  \\\n",
       "0            4.8  2000-01-01T01:19:28.3Z 2000-01-01 01:19:28.300000+00:00   \n",
       "1            3.7  2000-01-01T04:02:28.4Z 2000-01-01 04:02:28.400000+00:00   \n",
       "2            3.3  2000-01-01T05:13:59.1Z 2000-01-01 05:13:59.100000+00:00   \n",
       "3            3.3  2000-01-01T05:17:12.9Z 2000-01-01 05:17:12.900000+00:00   \n",
       "4            3.6  2000-01-01T05:56:07.3Z 2000-01-01 05:56:07.300000+00:00   \n",
       "...          ...                     ...                              ...   \n",
       "52252        2.8  2009-12-31T14:24:01.2Z 2009-12-31 14:24:01.200000+00:00   \n",
       "52253        3.4  2009-12-31T14:50:29.6Z 2009-12-31 14:50:29.600000+00:00   \n",
       "52254        2.9  2009-12-31T17:27:45.8Z 2009-12-31 17:27:45.800000+00:00   \n",
       "52255        3.2  2009-12-31T20:43:12.9Z 2009-12-31 20:43:12.900000+00:00   \n",
       "52256        2.8  2009-12-31T20:58:40.8Z 2009-12-31 20:58:40.800000+00:00   \n",
       "\n",
       "       DAY_NAME  \n",
       "0      Saturday  \n",
       "1      Saturday  \n",
       "2      Saturday  \n",
       "3      Saturday  \n",
       "4      Saturday  \n",
       "...         ...  \n",
       "52252  Thursday  \n",
       "52253  Thursday  \n",
       "52254  Thursday  \n",
       "52255  Thursday  \n",
       "52256  Thursday  \n",
       "\n",
       "[52257 rows x 13 columns]"
      ],
      "text/html": "<div>\n<style scoped>\n    .dataframe tbody tr th:only-of-type {\n        vertical-align: middle;\n    }\n\n    .dataframe tbody tr th {\n        vertical-align: top;\n    }\n\n    .dataframe thead th {\n        text-align: right;\n    }\n</style>\n<table border=\"1\" class=\"dataframe\">\n  <thead>\n    <tr style=\"text-align: right;\">\n      <th></th>\n      <th>YEAR</th>\n      <th>MONTH</th>\n      <th>DAY</th>\n      <th>HOUR</th>\n      <th>MINUTE</th>\n      <th>SECOND</th>\n      <th>LATITUDE</th>\n      <th>LONGITUDE</th>\n      <th>DEPTH</th>\n      <th>MAGNITUDE</th>\n      <th>T</th>\n      <th>DATETIME</th>\n      <th>DAY_NAME</th>\n    </tr>\n  </thead>\n  <tbody>\n    <tr>\n      <th>0</th>\n      <td>2000</td>\n      <td>JAN</td>\n      <td>1</td>\n      <td>1</td>\n      <td>19</td>\n      <td>28.3</td>\n      <td>41.95</td>\n      <td>20.63</td>\n      <td>5</td>\n      <td>4.8</td>\n      <td>2000-01-01T01:19:28.3Z</td>\n      <td>2000-01-01 01:19:28.300000+00:00</td>\n      <td>Saturday</td>\n    </tr>\n    <tr>\n      <th>1</th>\n      <td>2000</td>\n      <td>JAN</td>\n      <td>1</td>\n      <td>4</td>\n      <td>2</td>\n      <td>28.4</td>\n      <td>35.54</td>\n      <td>22.76</td>\n      <td>22</td>\n      <td>3.7</td>\n      <td>2000-01-01T04:02:28.4Z</td>\n      <td>2000-01-01 04:02:28.400000+00:00</td>\n      <td>Saturday</td>\n    </tr>\n    <tr>\n      <th>2</th>\n      <td>2000</td>\n      <td>JAN</td>\n      <td>1</td>\n      <td>5</td>\n      <td>13</td>\n      <td>59.1</td>\n      <td>38.97</td>\n      <td>26.10</td>\n      <td>35</td>\n      <td>3.3</td>\n      <td>2000-01-01T05:13:59.1Z</td>\n      <td>2000-01-01 05:13:59.100000+00:00</td>\n      <td>Saturday</td>\n    </tr>\n    <tr>\n      <th>3</th>\n      <td>2000</td>\n      <td>JAN</td>\n      <td>1</td>\n      <td>5</td>\n      <td>17</td>\n      <td>12.9</td>\n      <td>38.89</td>\n      <td>25.85</td>\n      <td>22</td>\n      <td>3.3</td>\n      <td>2000-01-01T05:17:12.9Z</td>\n      <td>2000-01-01 05:17:12.900000+00:00</td>\n      <td>Saturday</td>\n    </tr>\n    <tr>\n      <th>4</th>\n      <td>2000</td>\n      <td>JAN</td>\n      <td>1</td>\n      <td>5</td>\n      <td>56</td>\n      <td>7.3</td>\n      <td>39.21</td>\n      <td>27.30</td>\n      <td>10</td>\n      <td>3.6</td>\n      <td>2000-01-01T05:56:07.3Z</td>\n      <td>2000-01-01 05:56:07.300000+00:00</td>\n      <td>Saturday</td>\n    </tr>\n    <tr>\n      <th>...</th>\n      <td>...</td>\n      <td>...</td>\n      <td>...</td>\n      <td>...</td>\n      <td>...</td>\n      <td>...</td>\n      <td>...</td>\n      <td>...</td>\n      <td>...</td>\n      <td>...</td>\n      <td>...</td>\n      <td>...</td>\n      <td>...</td>\n    </tr>\n    <tr>\n      <th>52252</th>\n      <td>2009</td>\n      <td>DEC</td>\n      <td>31</td>\n      <td>14</td>\n      <td>24</td>\n      <td>1.2</td>\n      <td>37.47</td>\n      <td>21.83</td>\n      <td>21</td>\n      <td>2.8</td>\n      <td>2009-12-31T14:24:01.2Z</td>\n      <td>2009-12-31 14:24:01.200000+00:00</td>\n      <td>Thursday</td>\n    </tr>\n    <tr>\n      <th>52253</th>\n      <td>2009</td>\n      <td>DEC</td>\n      <td>31</td>\n      <td>14</td>\n      <td>50</td>\n      <td>29.6</td>\n      <td>34.67</td>\n      <td>24.42</td>\n      <td>15</td>\n      <td>3.4</td>\n      <td>2009-12-31T14:50:29.6Z</td>\n      <td>2009-12-31 14:50:29.600000+00:00</td>\n      <td>Thursday</td>\n    </tr>\n    <tr>\n      <th>52254</th>\n      <td>2009</td>\n      <td>DEC</td>\n      <td>31</td>\n      <td>17</td>\n      <td>27</td>\n      <td>45.8</td>\n      <td>35.68</td>\n      <td>23.47</td>\n      <td>5</td>\n      <td>2.9</td>\n      <td>2009-12-31T17:27:45.8Z</td>\n      <td>2009-12-31 17:27:45.800000+00:00</td>\n      <td>Thursday</td>\n    </tr>\n    <tr>\n      <th>52255</th>\n      <td>2009</td>\n      <td>DEC</td>\n      <td>31</td>\n      <td>20</td>\n      <td>43</td>\n      <td>12.9</td>\n      <td>36.37</td>\n      <td>21.61</td>\n      <td>11</td>\n      <td>3.2</td>\n      <td>2009-12-31T20:43:12.9Z</td>\n      <td>2009-12-31 20:43:12.900000+00:00</td>\n      <td>Thursday</td>\n    </tr>\n    <tr>\n      <th>52256</th>\n      <td>2009</td>\n      <td>DEC</td>\n      <td>31</td>\n      <td>20</td>\n      <td>58</td>\n      <td>40.8</td>\n      <td>39.70</td>\n      <td>20.76</td>\n      <td>18</td>\n      <td>2.8</td>\n      <td>2009-12-31T20:58:40.8Z</td>\n      <td>2009-12-31 20:58:40.800000+00:00</td>\n      <td>Thursday</td>\n    </tr>\n  </tbody>\n</table>\n<p>52257 rows × 13 columns</p>\n</div>"
     },
     "metadata": {},
     "execution_count": 139
    }
   ],
   "source": [
    "df"
   ]
  },
  {
   "cell_type": "code",
   "execution_count": 140,
   "metadata": {},
   "outputs": [
    {
     "output_type": "execute_result",
     "data": {
      "text/plain": [
       "YEAR                       int64\n",
       "MONTH                     object\n",
       "DAY                        int64\n",
       "HOUR                       int64\n",
       "MINUTE                     int64\n",
       "SECOND                   float64\n",
       "LATITUDE                 float64\n",
       "LONGITUDE                float64\n",
       "DEPTH                      int64\n",
       "MAGNITUDE                float64\n",
       "T                         object\n",
       "DATETIME     datetime64[ns, UTC]\n",
       "DAY_NAME                  object\n",
       "dtype: object"
      ]
     },
     "metadata": {},
     "execution_count": 140
    }
   ],
   "source": [
    "df.dtypes"
   ]
  },
  {
   "cell_type": "code",
   "execution_count": 141,
   "metadata": {},
   "outputs": [
    {
     "output_type": "execute_result",
     "data": {
      "text/plain": [
       "       YEAR MONTH  DAY  HOUR  MINUTE  SECOND  LATITUDE  LONGITUDE  DEPTH  \\\n",
       "0      2000   JAN    1     1      19    28.3     41.95      20.63      5   \n",
       "1      2000   JAN    1     4       2    28.4     35.54      22.76     22   \n",
       "2      2000   JAN    1     5      13    59.1     38.97      26.10     35   \n",
       "3      2000   JAN    1     5      17    12.9     38.89      25.85     22   \n",
       "4      2000   JAN    1     5      56     7.3     39.21      27.30     10   \n",
       "...     ...   ...  ...   ...     ...     ...       ...        ...    ...   \n",
       "52252  2009   DEC   31    14      24     1.2     37.47      21.83     21   \n",
       "52253  2009   DEC   31    14      50    29.6     34.67      24.42     15   \n",
       "52254  2009   DEC   31    17      27    45.8     35.68      23.47      5   \n",
       "52255  2009   DEC   31    20      43    12.9     36.37      21.61     11   \n",
       "52256  2009   DEC   31    20      58    40.8     39.70      20.76     18   \n",
       "\n",
       "       MAGNITUDE                       T                         DATETIME  \\\n",
       "0            4.8  2000-01-01T01:19:28.3Z 2000-01-01 01:19:28.300000+00:00   \n",
       "1            3.7  2000-01-01T04:02:28.4Z 2000-01-01 04:02:28.400000+00:00   \n",
       "2            3.3  2000-01-01T05:13:59.1Z 2000-01-01 05:13:59.100000+00:00   \n",
       "3            3.3  2000-01-01T05:17:12.9Z 2000-01-01 05:17:12.900000+00:00   \n",
       "4            3.6  2000-01-01T05:56:07.3Z 2000-01-01 05:56:07.300000+00:00   \n",
       "...          ...                     ...                              ...   \n",
       "52252        2.8  2009-12-31T14:24:01.2Z 2009-12-31 14:24:01.200000+00:00   \n",
       "52253        3.4  2009-12-31T14:50:29.6Z 2009-12-31 14:50:29.600000+00:00   \n",
       "52254        2.9  2009-12-31T17:27:45.8Z 2009-12-31 17:27:45.800000+00:00   \n",
       "52255        3.2  2009-12-31T20:43:12.9Z 2009-12-31 20:43:12.900000+00:00   \n",
       "52256        2.8  2009-12-31T20:58:40.8Z 2009-12-31 20:58:40.800000+00:00   \n",
       "\n",
       "       DAY_NAME  \n",
       "0      Saturday  \n",
       "1      Saturday  \n",
       "2      Saturday  \n",
       "3      Saturday  \n",
       "4      Saturday  \n",
       "...         ...  \n",
       "52252  Thursday  \n",
       "52253  Thursday  \n",
       "52254  Thursday  \n",
       "52255  Thursday  \n",
       "52256  Thursday  \n",
       "\n",
       "[52257 rows x 13 columns]"
      ],
      "text/html": "<div>\n<style scoped>\n    .dataframe tbody tr th:only-of-type {\n        vertical-align: middle;\n    }\n\n    .dataframe tbody tr th {\n        vertical-align: top;\n    }\n\n    .dataframe thead th {\n        text-align: right;\n    }\n</style>\n<table border=\"1\" class=\"dataframe\">\n  <thead>\n    <tr style=\"text-align: right;\">\n      <th></th>\n      <th>YEAR</th>\n      <th>MONTH</th>\n      <th>DAY</th>\n      <th>HOUR</th>\n      <th>MINUTE</th>\n      <th>SECOND</th>\n      <th>LATITUDE</th>\n      <th>LONGITUDE</th>\n      <th>DEPTH</th>\n      <th>MAGNITUDE</th>\n      <th>T</th>\n      <th>DATETIME</th>\n      <th>DAY_NAME</th>\n    </tr>\n  </thead>\n  <tbody>\n    <tr>\n      <th>0</th>\n      <td>2000</td>\n      <td>JAN</td>\n      <td>1</td>\n      <td>1</td>\n      <td>19</td>\n      <td>28.3</td>\n      <td>41.95</td>\n      <td>20.63</td>\n      <td>5</td>\n      <td>4.8</td>\n      <td>2000-01-01T01:19:28.3Z</td>\n      <td>2000-01-01 01:19:28.300000+00:00</td>\n      <td>Saturday</td>\n    </tr>\n    <tr>\n      <th>1</th>\n      <td>2000</td>\n      <td>JAN</td>\n      <td>1</td>\n      <td>4</td>\n      <td>2</td>\n      <td>28.4</td>\n      <td>35.54</td>\n      <td>22.76</td>\n      <td>22</td>\n      <td>3.7</td>\n      <td>2000-01-01T04:02:28.4Z</td>\n      <td>2000-01-01 04:02:28.400000+00:00</td>\n      <td>Saturday</td>\n    </tr>\n    <tr>\n      <th>2</th>\n      <td>2000</td>\n      <td>JAN</td>\n      <td>1</td>\n      <td>5</td>\n      <td>13</td>\n      <td>59.1</td>\n      <td>38.97</td>\n      <td>26.10</td>\n      <td>35</td>\n      <td>3.3</td>\n      <td>2000-01-01T05:13:59.1Z</td>\n      <td>2000-01-01 05:13:59.100000+00:00</td>\n      <td>Saturday</td>\n    </tr>\n    <tr>\n      <th>3</th>\n      <td>2000</td>\n      <td>JAN</td>\n      <td>1</td>\n      <td>5</td>\n      <td>17</td>\n      <td>12.9</td>\n      <td>38.89</td>\n      <td>25.85</td>\n      <td>22</td>\n      <td>3.3</td>\n      <td>2000-01-01T05:17:12.9Z</td>\n      <td>2000-01-01 05:17:12.900000+00:00</td>\n      <td>Saturday</td>\n    </tr>\n    <tr>\n      <th>4</th>\n      <td>2000</td>\n      <td>JAN</td>\n      <td>1</td>\n      <td>5</td>\n      <td>56</td>\n      <td>7.3</td>\n      <td>39.21</td>\n      <td>27.30</td>\n      <td>10</td>\n      <td>3.6</td>\n      <td>2000-01-01T05:56:07.3Z</td>\n      <td>2000-01-01 05:56:07.300000+00:00</td>\n      <td>Saturday</td>\n    </tr>\n    <tr>\n      <th>...</th>\n      <td>...</td>\n      <td>...</td>\n      <td>...</td>\n      <td>...</td>\n      <td>...</td>\n      <td>...</td>\n      <td>...</td>\n      <td>...</td>\n      <td>...</td>\n      <td>...</td>\n      <td>...</td>\n      <td>...</td>\n      <td>...</td>\n    </tr>\n    <tr>\n      <th>52252</th>\n      <td>2009</td>\n      <td>DEC</td>\n      <td>31</td>\n      <td>14</td>\n      <td>24</td>\n      <td>1.2</td>\n      <td>37.47</td>\n      <td>21.83</td>\n      <td>21</td>\n      <td>2.8</td>\n      <td>2009-12-31T14:24:01.2Z</td>\n      <td>2009-12-31 14:24:01.200000+00:00</td>\n      <td>Thursday</td>\n    </tr>\n    <tr>\n      <th>52253</th>\n      <td>2009</td>\n      <td>DEC</td>\n      <td>31</td>\n      <td>14</td>\n      <td>50</td>\n      <td>29.6</td>\n      <td>34.67</td>\n      <td>24.42</td>\n      <td>15</td>\n      <td>3.4</td>\n      <td>2009-12-31T14:50:29.6Z</td>\n      <td>2009-12-31 14:50:29.600000+00:00</td>\n      <td>Thursday</td>\n    </tr>\n    <tr>\n      <th>52254</th>\n      <td>2009</td>\n      <td>DEC</td>\n      <td>31</td>\n      <td>17</td>\n      <td>27</td>\n      <td>45.8</td>\n      <td>35.68</td>\n      <td>23.47</td>\n      <td>5</td>\n      <td>2.9</td>\n      <td>2009-12-31T17:27:45.8Z</td>\n      <td>2009-12-31 17:27:45.800000+00:00</td>\n      <td>Thursday</td>\n    </tr>\n    <tr>\n      <th>52255</th>\n      <td>2009</td>\n      <td>DEC</td>\n      <td>31</td>\n      <td>20</td>\n      <td>43</td>\n      <td>12.9</td>\n      <td>36.37</td>\n      <td>21.61</td>\n      <td>11</td>\n      <td>3.2</td>\n      <td>2009-12-31T20:43:12.9Z</td>\n      <td>2009-12-31 20:43:12.900000+00:00</td>\n      <td>Thursday</td>\n    </tr>\n    <tr>\n      <th>52256</th>\n      <td>2009</td>\n      <td>DEC</td>\n      <td>31</td>\n      <td>20</td>\n      <td>58</td>\n      <td>40.8</td>\n      <td>39.70</td>\n      <td>20.76</td>\n      <td>18</td>\n      <td>2.8</td>\n      <td>2009-12-31T20:58:40.8Z</td>\n      <td>2009-12-31 20:58:40.800000+00:00</td>\n      <td>Thursday</td>\n    </tr>\n  </tbody>\n</table>\n<p>52257 rows × 13 columns</p>\n</div>"
     },
     "metadata": {},
     "execution_count": 141
    }
   ],
   "source": [
    "df"
   ]
  },
  {
   "cell_type": "code",
   "execution_count": 142,
   "metadata": {},
   "outputs": [
    {
     "output_type": "execute_result",
     "data": {
      "text/plain": [
       "YEAR                       int64\n",
       "MONTH                     object\n",
       "DAY                        int64\n",
       "HOUR                       int64\n",
       "MINUTE                     int64\n",
       "SECOND                   float64\n",
       "LATITUDE                 float64\n",
       "LONGITUDE                float64\n",
       "DEPTH                      int64\n",
       "MAGNITUDE                float64\n",
       "T                         object\n",
       "DATETIME     datetime64[ns, UTC]\n",
       "DAY_NAME                  object\n",
       "dtype: object"
      ]
     },
     "metadata": {},
     "execution_count": 142
    }
   ],
   "source": [
    "df.dtypes"
   ]
  },
  {
   "source": [
    "how to see the earliest and latest dates"
   ],
   "cell_type": "markdown",
   "metadata": {}
  },
  {
   "cell_type": "code",
   "execution_count": 143,
   "metadata": {},
   "outputs": [
    {
     "output_type": "execute_result",
     "data": {
      "text/plain": [
       "Timestamp('2000-01-01 01:19:28.300000+0000', tz='UTC')"
      ]
     },
     "metadata": {},
     "execution_count": 143
    }
   ],
   "source": [
    "df['DATETIME'].min()"
   ]
  },
  {
   "cell_type": "code",
   "execution_count": 144,
   "metadata": {},
   "outputs": [
    {
     "output_type": "execute_result",
     "data": {
      "text/plain": [
       "Timestamp('2009-12-31 20:58:40.800000+0000', tz='UTC')"
      ]
     },
     "metadata": {},
     "execution_count": 144
    }
   ],
   "source": [
    "df['DATETIME'].max()"
   ]
  },
  {
   "cell_type": "code",
   "execution_count": 145,
   "metadata": {},
   "outputs": [
    {
     "output_type": "execute_result",
     "data": {
      "text/plain": [
       "Timedelta('3652 days 19:39:12.500000')"
      ]
     },
     "metadata": {},
     "execution_count": 145
    }
   ],
   "source": [
    "df['DATETIME'].max() - df['DATETIME'].min()"
   ]
  },
  {
   "source": [
    "now we can create groups"
   ],
   "cell_type": "markdown",
   "metadata": {}
  },
  {
   "cell_type": "code",
   "execution_count": 146,
   "metadata": {},
   "outputs": [
    {
     "output_type": "execute_result",
     "data": {
      "text/plain": [
       "       YEAR MONTH  DAY  HOUR  MINUTE  SECOND  LATITUDE  LONGITUDE  DEPTH  \\\n",
       "10316  2004   JAN    1     0      32     1.3     37.76      21.07      5   \n",
       "10317  2004   JAN    1     1      43    44.0     38.38      21.54     42   \n",
       "10318  2004   JAN    1     3      14    36.4     38.54      20.64      5   \n",
       "10319  2004   JAN    1     7       7     4.8     34.35      25.47     24   \n",
       "10320  2004   JAN    1     9       7    47.8     38.39      21.89      5   \n",
       "...     ...   ...  ...   ...     ...     ...       ...        ...    ...   \n",
       "13750  2004   DEC   31    13      59    59.9     37.11      28.24     18   \n",
       "13751  2004   DEC   31    14      29    28.3     40.49      22.38     32   \n",
       "13752  2004   DEC   31    16       3    25.1     38.44      19.75     12   \n",
       "13753  2004   DEC   31    20      43    25.8     37.32      20.19      8   \n",
       "13754  2004   DEC   31    20      50    54.1     38.92      21.08     10   \n",
       "\n",
       "       MAGNITUDE                       T                         DATETIME  \\\n",
       "10316        3.4  2004-01-01T00:32:01.3Z 2004-01-01 00:32:01.300000+00:00   \n",
       "10317        3.1  2004-01-01T01:43:44.0Z        2004-01-01 01:43:44+00:00   \n",
       "10318        3.3  2004-01-01T03:14:36.4Z 2004-01-01 03:14:36.400000+00:00   \n",
       "10319        3.9  2004-01-01T07:07:04.8Z 2004-01-01 07:07:04.800000+00:00   \n",
       "10320        3.0  2004-01-01T09:07:47.8Z 2004-01-01 09:07:47.800000+00:00   \n",
       "...          ...                     ...                              ...   \n",
       "13750        3.6  2004-12-31T13:59:59.9Z 2004-12-31 13:59:59.900000+00:00   \n",
       "13751        3.3  2004-12-31T14:29:28.3Z 2004-12-31 14:29:28.300000+00:00   \n",
       "13752        3.4  2004-12-31T16:03:25.1Z 2004-12-31 16:03:25.100000+00:00   \n",
       "13753        3.6  2004-12-31T20:43:25.8Z 2004-12-31 20:43:25.800000+00:00   \n",
       "13754        2.7  2004-12-31T20:50:54.1Z 2004-12-31 20:50:54.100000+00:00   \n",
       "\n",
       "       DAY_NAME  \n",
       "10316  Thursday  \n",
       "10317  Thursday  \n",
       "10318  Thursday  \n",
       "10319  Thursday  \n",
       "10320  Thursday  \n",
       "...         ...  \n",
       "13750    Friday  \n",
       "13751    Friday  \n",
       "13752    Friday  \n",
       "13753    Friday  \n",
       "13754    Friday  \n",
       "\n",
       "[3439 rows x 13 columns]"
      ],
      "text/html": "<div>\n<style scoped>\n    .dataframe tbody tr th:only-of-type {\n        vertical-align: middle;\n    }\n\n    .dataframe tbody tr th {\n        vertical-align: top;\n    }\n\n    .dataframe thead th {\n        text-align: right;\n    }\n</style>\n<table border=\"1\" class=\"dataframe\">\n  <thead>\n    <tr style=\"text-align: right;\">\n      <th></th>\n      <th>YEAR</th>\n      <th>MONTH</th>\n      <th>DAY</th>\n      <th>HOUR</th>\n      <th>MINUTE</th>\n      <th>SECOND</th>\n      <th>LATITUDE</th>\n      <th>LONGITUDE</th>\n      <th>DEPTH</th>\n      <th>MAGNITUDE</th>\n      <th>T</th>\n      <th>DATETIME</th>\n      <th>DAY_NAME</th>\n    </tr>\n  </thead>\n  <tbody>\n    <tr>\n      <th>10316</th>\n      <td>2004</td>\n      <td>JAN</td>\n      <td>1</td>\n      <td>0</td>\n      <td>32</td>\n      <td>1.3</td>\n      <td>37.76</td>\n      <td>21.07</td>\n      <td>5</td>\n      <td>3.4</td>\n      <td>2004-01-01T00:32:01.3Z</td>\n      <td>2004-01-01 00:32:01.300000+00:00</td>\n      <td>Thursday</td>\n    </tr>\n    <tr>\n      <th>10317</th>\n      <td>2004</td>\n      <td>JAN</td>\n      <td>1</td>\n      <td>1</td>\n      <td>43</td>\n      <td>44.0</td>\n      <td>38.38</td>\n      <td>21.54</td>\n      <td>42</td>\n      <td>3.1</td>\n      <td>2004-01-01T01:43:44.0Z</td>\n      <td>2004-01-01 01:43:44+00:00</td>\n      <td>Thursday</td>\n    </tr>\n    <tr>\n      <th>10318</th>\n      <td>2004</td>\n      <td>JAN</td>\n      <td>1</td>\n      <td>3</td>\n      <td>14</td>\n      <td>36.4</td>\n      <td>38.54</td>\n      <td>20.64</td>\n      <td>5</td>\n      <td>3.3</td>\n      <td>2004-01-01T03:14:36.4Z</td>\n      <td>2004-01-01 03:14:36.400000+00:00</td>\n      <td>Thursday</td>\n    </tr>\n    <tr>\n      <th>10319</th>\n      <td>2004</td>\n      <td>JAN</td>\n      <td>1</td>\n      <td>7</td>\n      <td>7</td>\n      <td>4.8</td>\n      <td>34.35</td>\n      <td>25.47</td>\n      <td>24</td>\n      <td>3.9</td>\n      <td>2004-01-01T07:07:04.8Z</td>\n      <td>2004-01-01 07:07:04.800000+00:00</td>\n      <td>Thursday</td>\n    </tr>\n    <tr>\n      <th>10320</th>\n      <td>2004</td>\n      <td>JAN</td>\n      <td>1</td>\n      <td>9</td>\n      <td>7</td>\n      <td>47.8</td>\n      <td>38.39</td>\n      <td>21.89</td>\n      <td>5</td>\n      <td>3.0</td>\n      <td>2004-01-01T09:07:47.8Z</td>\n      <td>2004-01-01 09:07:47.800000+00:00</td>\n      <td>Thursday</td>\n    </tr>\n    <tr>\n      <th>...</th>\n      <td>...</td>\n      <td>...</td>\n      <td>...</td>\n      <td>...</td>\n      <td>...</td>\n      <td>...</td>\n      <td>...</td>\n      <td>...</td>\n      <td>...</td>\n      <td>...</td>\n      <td>...</td>\n      <td>...</td>\n      <td>...</td>\n    </tr>\n    <tr>\n      <th>13750</th>\n      <td>2004</td>\n      <td>DEC</td>\n      <td>31</td>\n      <td>13</td>\n      <td>59</td>\n      <td>59.9</td>\n      <td>37.11</td>\n      <td>28.24</td>\n      <td>18</td>\n      <td>3.6</td>\n      <td>2004-12-31T13:59:59.9Z</td>\n      <td>2004-12-31 13:59:59.900000+00:00</td>\n      <td>Friday</td>\n    </tr>\n    <tr>\n      <th>13751</th>\n      <td>2004</td>\n      <td>DEC</td>\n      <td>31</td>\n      <td>14</td>\n      <td>29</td>\n      <td>28.3</td>\n      <td>40.49</td>\n      <td>22.38</td>\n      <td>32</td>\n      <td>3.3</td>\n      <td>2004-12-31T14:29:28.3Z</td>\n      <td>2004-12-31 14:29:28.300000+00:00</td>\n      <td>Friday</td>\n    </tr>\n    <tr>\n      <th>13752</th>\n      <td>2004</td>\n      <td>DEC</td>\n      <td>31</td>\n      <td>16</td>\n      <td>3</td>\n      <td>25.1</td>\n      <td>38.44</td>\n      <td>19.75</td>\n      <td>12</td>\n      <td>3.4</td>\n      <td>2004-12-31T16:03:25.1Z</td>\n      <td>2004-12-31 16:03:25.100000+00:00</td>\n      <td>Friday</td>\n    </tr>\n    <tr>\n      <th>13753</th>\n      <td>2004</td>\n      <td>DEC</td>\n      <td>31</td>\n      <td>20</td>\n      <td>43</td>\n      <td>25.8</td>\n      <td>37.32</td>\n      <td>20.19</td>\n      <td>8</td>\n      <td>3.6</td>\n      <td>2004-12-31T20:43:25.8Z</td>\n      <td>2004-12-31 20:43:25.800000+00:00</td>\n      <td>Friday</td>\n    </tr>\n    <tr>\n      <th>13754</th>\n      <td>2004</td>\n      <td>DEC</td>\n      <td>31</td>\n      <td>20</td>\n      <td>50</td>\n      <td>54.1</td>\n      <td>38.92</td>\n      <td>21.08</td>\n      <td>10</td>\n      <td>2.7</td>\n      <td>2004-12-31T20:50:54.1Z</td>\n      <td>2004-12-31 20:50:54.100000+00:00</td>\n      <td>Friday</td>\n    </tr>\n  </tbody>\n</table>\n<p>3439 rows × 13 columns</p>\n</div>"
     },
     "metadata": {},
     "execution_count": 146
    }
   ],
   "source": [
    "filt = (df['DATETIME'] >= '2004') & (df['DATETIME'] < '2005')\n",
    "df.loc[filt]"
   ]
  },
  {
   "cell_type": "code",
   "execution_count": 147,
   "metadata": {},
   "outputs": [
    {
     "output_type": "execute_result",
     "data": {
      "text/plain": [
       "       YEAR MONTH  DAY  HOUR  MINUTE  SECOND  LATITUDE  LONGITUDE  DEPTH  \\\n",
       "10316  2004   JAN    1     0      32     1.3     37.76      21.07      5   \n",
       "10317  2004   JAN    1     1      43    44.0     38.38      21.54     42   \n",
       "10318  2004   JAN    1     3      14    36.4     38.54      20.64      5   \n",
       "10319  2004   JAN    1     7       7     4.8     34.35      25.47     24   \n",
       "10320  2004   JAN    1     9       7    47.8     38.39      21.89      5   \n",
       "...     ...   ...  ...   ...     ...     ...       ...        ...    ...   \n",
       "13750  2004   DEC   31    13      59    59.9     37.11      28.24     18   \n",
       "13751  2004   DEC   31    14      29    28.3     40.49      22.38     32   \n",
       "13752  2004   DEC   31    16       3    25.1     38.44      19.75     12   \n",
       "13753  2004   DEC   31    20      43    25.8     37.32      20.19      8   \n",
       "13754  2004   DEC   31    20      50    54.1     38.92      21.08     10   \n",
       "\n",
       "       MAGNITUDE                       T                         DATETIME  \\\n",
       "10316        3.4  2004-01-01T00:32:01.3Z 2004-01-01 00:32:01.300000+00:00   \n",
       "10317        3.1  2004-01-01T01:43:44.0Z        2004-01-01 01:43:44+00:00   \n",
       "10318        3.3  2004-01-01T03:14:36.4Z 2004-01-01 03:14:36.400000+00:00   \n",
       "10319        3.9  2004-01-01T07:07:04.8Z 2004-01-01 07:07:04.800000+00:00   \n",
       "10320        3.0  2004-01-01T09:07:47.8Z 2004-01-01 09:07:47.800000+00:00   \n",
       "...          ...                     ...                              ...   \n",
       "13750        3.6  2004-12-31T13:59:59.9Z 2004-12-31 13:59:59.900000+00:00   \n",
       "13751        3.3  2004-12-31T14:29:28.3Z 2004-12-31 14:29:28.300000+00:00   \n",
       "13752        3.4  2004-12-31T16:03:25.1Z 2004-12-31 16:03:25.100000+00:00   \n",
       "13753        3.6  2004-12-31T20:43:25.8Z 2004-12-31 20:43:25.800000+00:00   \n",
       "13754        2.7  2004-12-31T20:50:54.1Z 2004-12-31 20:50:54.100000+00:00   \n",
       "\n",
       "       DAY_NAME  \n",
       "10316  Thursday  \n",
       "10317  Thursday  \n",
       "10318  Thursday  \n",
       "10319  Thursday  \n",
       "10320  Thursday  \n",
       "...         ...  \n",
       "13750    Friday  \n",
       "13751    Friday  \n",
       "13752    Friday  \n",
       "13753    Friday  \n",
       "13754    Friday  \n",
       "\n",
       "[3439 rows x 13 columns]"
      ],
      "text/html": "<div>\n<style scoped>\n    .dataframe tbody tr th:only-of-type {\n        vertical-align: middle;\n    }\n\n    .dataframe tbody tr th {\n        vertical-align: top;\n    }\n\n    .dataframe thead th {\n        text-align: right;\n    }\n</style>\n<table border=\"1\" class=\"dataframe\">\n  <thead>\n    <tr style=\"text-align: right;\">\n      <th></th>\n      <th>YEAR</th>\n      <th>MONTH</th>\n      <th>DAY</th>\n      <th>HOUR</th>\n      <th>MINUTE</th>\n      <th>SECOND</th>\n      <th>LATITUDE</th>\n      <th>LONGITUDE</th>\n      <th>DEPTH</th>\n      <th>MAGNITUDE</th>\n      <th>T</th>\n      <th>DATETIME</th>\n      <th>DAY_NAME</th>\n    </tr>\n  </thead>\n  <tbody>\n    <tr>\n      <th>10316</th>\n      <td>2004</td>\n      <td>JAN</td>\n      <td>1</td>\n      <td>0</td>\n      <td>32</td>\n      <td>1.3</td>\n      <td>37.76</td>\n      <td>21.07</td>\n      <td>5</td>\n      <td>3.4</td>\n      <td>2004-01-01T00:32:01.3Z</td>\n      <td>2004-01-01 00:32:01.300000+00:00</td>\n      <td>Thursday</td>\n    </tr>\n    <tr>\n      <th>10317</th>\n      <td>2004</td>\n      <td>JAN</td>\n      <td>1</td>\n      <td>1</td>\n      <td>43</td>\n      <td>44.0</td>\n      <td>38.38</td>\n      <td>21.54</td>\n      <td>42</td>\n      <td>3.1</td>\n      <td>2004-01-01T01:43:44.0Z</td>\n      <td>2004-01-01 01:43:44+00:00</td>\n      <td>Thursday</td>\n    </tr>\n    <tr>\n      <th>10318</th>\n      <td>2004</td>\n      <td>JAN</td>\n      <td>1</td>\n      <td>3</td>\n      <td>14</td>\n      <td>36.4</td>\n      <td>38.54</td>\n      <td>20.64</td>\n      <td>5</td>\n      <td>3.3</td>\n      <td>2004-01-01T03:14:36.4Z</td>\n      <td>2004-01-01 03:14:36.400000+00:00</td>\n      <td>Thursday</td>\n    </tr>\n    <tr>\n      <th>10319</th>\n      <td>2004</td>\n      <td>JAN</td>\n      <td>1</td>\n      <td>7</td>\n      <td>7</td>\n      <td>4.8</td>\n      <td>34.35</td>\n      <td>25.47</td>\n      <td>24</td>\n      <td>3.9</td>\n      <td>2004-01-01T07:07:04.8Z</td>\n      <td>2004-01-01 07:07:04.800000+00:00</td>\n      <td>Thursday</td>\n    </tr>\n    <tr>\n      <th>10320</th>\n      <td>2004</td>\n      <td>JAN</td>\n      <td>1</td>\n      <td>9</td>\n      <td>7</td>\n      <td>47.8</td>\n      <td>38.39</td>\n      <td>21.89</td>\n      <td>5</td>\n      <td>3.0</td>\n      <td>2004-01-01T09:07:47.8Z</td>\n      <td>2004-01-01 09:07:47.800000+00:00</td>\n      <td>Thursday</td>\n    </tr>\n    <tr>\n      <th>...</th>\n      <td>...</td>\n      <td>...</td>\n      <td>...</td>\n      <td>...</td>\n      <td>...</td>\n      <td>...</td>\n      <td>...</td>\n      <td>...</td>\n      <td>...</td>\n      <td>...</td>\n      <td>...</td>\n      <td>...</td>\n      <td>...</td>\n    </tr>\n    <tr>\n      <th>13750</th>\n      <td>2004</td>\n      <td>DEC</td>\n      <td>31</td>\n      <td>13</td>\n      <td>59</td>\n      <td>59.9</td>\n      <td>37.11</td>\n      <td>28.24</td>\n      <td>18</td>\n      <td>3.6</td>\n      <td>2004-12-31T13:59:59.9Z</td>\n      <td>2004-12-31 13:59:59.900000+00:00</td>\n      <td>Friday</td>\n    </tr>\n    <tr>\n      <th>13751</th>\n      <td>2004</td>\n      <td>DEC</td>\n      <td>31</td>\n      <td>14</td>\n      <td>29</td>\n      <td>28.3</td>\n      <td>40.49</td>\n      <td>22.38</td>\n      <td>32</td>\n      <td>3.3</td>\n      <td>2004-12-31T14:29:28.3Z</td>\n      <td>2004-12-31 14:29:28.300000+00:00</td>\n      <td>Friday</td>\n    </tr>\n    <tr>\n      <th>13752</th>\n      <td>2004</td>\n      <td>DEC</td>\n      <td>31</td>\n      <td>16</td>\n      <td>3</td>\n      <td>25.1</td>\n      <td>38.44</td>\n      <td>19.75</td>\n      <td>12</td>\n      <td>3.4</td>\n      <td>2004-12-31T16:03:25.1Z</td>\n      <td>2004-12-31 16:03:25.100000+00:00</td>\n      <td>Friday</td>\n    </tr>\n    <tr>\n      <th>13753</th>\n      <td>2004</td>\n      <td>DEC</td>\n      <td>31</td>\n      <td>20</td>\n      <td>43</td>\n      <td>25.8</td>\n      <td>37.32</td>\n      <td>20.19</td>\n      <td>8</td>\n      <td>3.6</td>\n      <td>2004-12-31T20:43:25.8Z</td>\n      <td>2004-12-31 20:43:25.800000+00:00</td>\n      <td>Friday</td>\n    </tr>\n    <tr>\n      <th>13754</th>\n      <td>2004</td>\n      <td>DEC</td>\n      <td>31</td>\n      <td>20</td>\n      <td>50</td>\n      <td>54.1</td>\n      <td>38.92</td>\n      <td>21.08</td>\n      <td>10</td>\n      <td>2.7</td>\n      <td>2004-12-31T20:50:54.1Z</td>\n      <td>2004-12-31 20:50:54.100000+00:00</td>\n      <td>Friday</td>\n    </tr>\n  </tbody>\n</table>\n<p>3439 rows × 13 columns</p>\n</div>"
     },
     "metadata": {},
     "execution_count": 147
    }
   ],
   "source": [
    "filt = (df['DATETIME'] >= pandas.to_datetime('2004-01-01T00:00:00Z')) & (df['DATETIME'] < pandas.to_datetime('2005-01-01T00:00:00Z'))\n",
    "df[filt]"
   ]
  },
  {
   "source": [
    "## REMOVE TIMEZONE"
   ],
   "cell_type": "markdown",
   "metadata": {}
  },
  {
   "cell_type": "code",
   "execution_count": 148,
   "metadata": {},
   "outputs": [],
   "source": [
    "df['DATETIME'] = df['DATETIME'].dt.tz_convert(None)"
   ]
  },
  {
   "cell_type": "code",
   "execution_count": 149,
   "metadata": {},
   "outputs": [
    {
     "output_type": "execute_result",
     "data": {
      "text/plain": [
       "       YEAR MONTH  DAY  HOUR  MINUTE  SECOND  LATITUDE  LONGITUDE  DEPTH  \\\n",
       "0      2000   JAN    1     1      19    28.3     41.95      20.63      5   \n",
       "1      2000   JAN    1     4       2    28.4     35.54      22.76     22   \n",
       "2      2000   JAN    1     5      13    59.1     38.97      26.10     35   \n",
       "3      2000   JAN    1     5      17    12.9     38.89      25.85     22   \n",
       "4      2000   JAN    1     5      56     7.3     39.21      27.30     10   \n",
       "...     ...   ...  ...   ...     ...     ...       ...        ...    ...   \n",
       "52252  2009   DEC   31    14      24     1.2     37.47      21.83     21   \n",
       "52253  2009   DEC   31    14      50    29.6     34.67      24.42     15   \n",
       "52254  2009   DEC   31    17      27    45.8     35.68      23.47      5   \n",
       "52255  2009   DEC   31    20      43    12.9     36.37      21.61     11   \n",
       "52256  2009   DEC   31    20      58    40.8     39.70      20.76     18   \n",
       "\n",
       "       MAGNITUDE                       T                DATETIME  DAY_NAME  \n",
       "0            4.8  2000-01-01T01:19:28.3Z 2000-01-01 01:19:28.300  Saturday  \n",
       "1            3.7  2000-01-01T04:02:28.4Z 2000-01-01 04:02:28.400  Saturday  \n",
       "2            3.3  2000-01-01T05:13:59.1Z 2000-01-01 05:13:59.100  Saturday  \n",
       "3            3.3  2000-01-01T05:17:12.9Z 2000-01-01 05:17:12.900  Saturday  \n",
       "4            3.6  2000-01-01T05:56:07.3Z 2000-01-01 05:56:07.300  Saturday  \n",
       "...          ...                     ...                     ...       ...  \n",
       "52252        2.8  2009-12-31T14:24:01.2Z 2009-12-31 14:24:01.200  Thursday  \n",
       "52253        3.4  2009-12-31T14:50:29.6Z 2009-12-31 14:50:29.600  Thursday  \n",
       "52254        2.9  2009-12-31T17:27:45.8Z 2009-12-31 17:27:45.800  Thursday  \n",
       "52255        3.2  2009-12-31T20:43:12.9Z 2009-12-31 20:43:12.900  Thursday  \n",
       "52256        2.8  2009-12-31T20:58:40.8Z 2009-12-31 20:58:40.800  Thursday  \n",
       "\n",
       "[52257 rows x 13 columns]"
      ],
      "text/html": "<div>\n<style scoped>\n    .dataframe tbody tr th:only-of-type {\n        vertical-align: middle;\n    }\n\n    .dataframe tbody tr th {\n        vertical-align: top;\n    }\n\n    .dataframe thead th {\n        text-align: right;\n    }\n</style>\n<table border=\"1\" class=\"dataframe\">\n  <thead>\n    <tr style=\"text-align: right;\">\n      <th></th>\n      <th>YEAR</th>\n      <th>MONTH</th>\n      <th>DAY</th>\n      <th>HOUR</th>\n      <th>MINUTE</th>\n      <th>SECOND</th>\n      <th>LATITUDE</th>\n      <th>LONGITUDE</th>\n      <th>DEPTH</th>\n      <th>MAGNITUDE</th>\n      <th>T</th>\n      <th>DATETIME</th>\n      <th>DAY_NAME</th>\n    </tr>\n  </thead>\n  <tbody>\n    <tr>\n      <th>0</th>\n      <td>2000</td>\n      <td>JAN</td>\n      <td>1</td>\n      <td>1</td>\n      <td>19</td>\n      <td>28.3</td>\n      <td>41.95</td>\n      <td>20.63</td>\n      <td>5</td>\n      <td>4.8</td>\n      <td>2000-01-01T01:19:28.3Z</td>\n      <td>2000-01-01 01:19:28.300</td>\n      <td>Saturday</td>\n    </tr>\n    <tr>\n      <th>1</th>\n      <td>2000</td>\n      <td>JAN</td>\n      <td>1</td>\n      <td>4</td>\n      <td>2</td>\n      <td>28.4</td>\n      <td>35.54</td>\n      <td>22.76</td>\n      <td>22</td>\n      <td>3.7</td>\n      <td>2000-01-01T04:02:28.4Z</td>\n      <td>2000-01-01 04:02:28.400</td>\n      <td>Saturday</td>\n    </tr>\n    <tr>\n      <th>2</th>\n      <td>2000</td>\n      <td>JAN</td>\n      <td>1</td>\n      <td>5</td>\n      <td>13</td>\n      <td>59.1</td>\n      <td>38.97</td>\n      <td>26.10</td>\n      <td>35</td>\n      <td>3.3</td>\n      <td>2000-01-01T05:13:59.1Z</td>\n      <td>2000-01-01 05:13:59.100</td>\n      <td>Saturday</td>\n    </tr>\n    <tr>\n      <th>3</th>\n      <td>2000</td>\n      <td>JAN</td>\n      <td>1</td>\n      <td>5</td>\n      <td>17</td>\n      <td>12.9</td>\n      <td>38.89</td>\n      <td>25.85</td>\n      <td>22</td>\n      <td>3.3</td>\n      <td>2000-01-01T05:17:12.9Z</td>\n      <td>2000-01-01 05:17:12.900</td>\n      <td>Saturday</td>\n    </tr>\n    <tr>\n      <th>4</th>\n      <td>2000</td>\n      <td>JAN</td>\n      <td>1</td>\n      <td>5</td>\n      <td>56</td>\n      <td>7.3</td>\n      <td>39.21</td>\n      <td>27.30</td>\n      <td>10</td>\n      <td>3.6</td>\n      <td>2000-01-01T05:56:07.3Z</td>\n      <td>2000-01-01 05:56:07.300</td>\n      <td>Saturday</td>\n    </tr>\n    <tr>\n      <th>...</th>\n      <td>...</td>\n      <td>...</td>\n      <td>...</td>\n      <td>...</td>\n      <td>...</td>\n      <td>...</td>\n      <td>...</td>\n      <td>...</td>\n      <td>...</td>\n      <td>...</td>\n      <td>...</td>\n      <td>...</td>\n      <td>...</td>\n    </tr>\n    <tr>\n      <th>52252</th>\n      <td>2009</td>\n      <td>DEC</td>\n      <td>31</td>\n      <td>14</td>\n      <td>24</td>\n      <td>1.2</td>\n      <td>37.47</td>\n      <td>21.83</td>\n      <td>21</td>\n      <td>2.8</td>\n      <td>2009-12-31T14:24:01.2Z</td>\n      <td>2009-12-31 14:24:01.200</td>\n      <td>Thursday</td>\n    </tr>\n    <tr>\n      <th>52253</th>\n      <td>2009</td>\n      <td>DEC</td>\n      <td>31</td>\n      <td>14</td>\n      <td>50</td>\n      <td>29.6</td>\n      <td>34.67</td>\n      <td>24.42</td>\n      <td>15</td>\n      <td>3.4</td>\n      <td>2009-12-31T14:50:29.6Z</td>\n      <td>2009-12-31 14:50:29.600</td>\n      <td>Thursday</td>\n    </tr>\n    <tr>\n      <th>52254</th>\n      <td>2009</td>\n      <td>DEC</td>\n      <td>31</td>\n      <td>17</td>\n      <td>27</td>\n      <td>45.8</td>\n      <td>35.68</td>\n      <td>23.47</td>\n      <td>5</td>\n      <td>2.9</td>\n      <td>2009-12-31T17:27:45.8Z</td>\n      <td>2009-12-31 17:27:45.800</td>\n      <td>Thursday</td>\n    </tr>\n    <tr>\n      <th>52255</th>\n      <td>2009</td>\n      <td>DEC</td>\n      <td>31</td>\n      <td>20</td>\n      <td>43</td>\n      <td>12.9</td>\n      <td>36.37</td>\n      <td>21.61</td>\n      <td>11</td>\n      <td>3.2</td>\n      <td>2009-12-31T20:43:12.9Z</td>\n      <td>2009-12-31 20:43:12.900</td>\n      <td>Thursday</td>\n    </tr>\n    <tr>\n      <th>52256</th>\n      <td>2009</td>\n      <td>DEC</td>\n      <td>31</td>\n      <td>20</td>\n      <td>58</td>\n      <td>40.8</td>\n      <td>39.70</td>\n      <td>20.76</td>\n      <td>18</td>\n      <td>2.8</td>\n      <td>2009-12-31T20:58:40.8Z</td>\n      <td>2009-12-31 20:58:40.800</td>\n      <td>Thursday</td>\n    </tr>\n  </tbody>\n</table>\n<p>52257 rows × 13 columns</p>\n</div>"
     },
     "metadata": {},
     "execution_count": 149
    }
   ],
   "source": [
    "df"
   ]
  },
  {
   "source": [
    "set index to datetime"
   ],
   "cell_type": "markdown",
   "metadata": {}
  },
  {
   "cell_type": "code",
   "execution_count": 150,
   "metadata": {},
   "outputs": [],
   "source": [
    "df.set_index('DATETIME', inplace=True)"
   ]
  },
  {
   "cell_type": "code",
   "execution_count": 151,
   "metadata": {},
   "outputs": [
    {
     "output_type": "execute_result",
     "data": {
      "text/plain": [
       "                         YEAR MONTH  DAY  HOUR  MINUTE  SECOND  LATITUDE  \\\n",
       "DATETIME                                                                   \n",
       "2000-01-01 01:19:28.300  2000   JAN    1     1      19    28.3     41.95   \n",
       "2000-01-01 04:02:28.400  2000   JAN    1     4       2    28.4     35.54   \n",
       "2000-01-01 05:13:59.100  2000   JAN    1     5      13    59.1     38.97   \n",
       "2000-01-01 05:17:12.900  2000   JAN    1     5      17    12.9     38.89   \n",
       "2000-01-01 05:56:07.300  2000   JAN    1     5      56     7.3     39.21   \n",
       "...                       ...   ...  ...   ...     ...     ...       ...   \n",
       "2009-12-31 14:24:01.200  2009   DEC   31    14      24     1.2     37.47   \n",
       "2009-12-31 14:50:29.600  2009   DEC   31    14      50    29.6     34.67   \n",
       "2009-12-31 17:27:45.800  2009   DEC   31    17      27    45.8     35.68   \n",
       "2009-12-31 20:43:12.900  2009   DEC   31    20      43    12.9     36.37   \n",
       "2009-12-31 20:58:40.800  2009   DEC   31    20      58    40.8     39.70   \n",
       "\n",
       "                         LONGITUDE  DEPTH  MAGNITUDE                       T  \\\n",
       "DATETIME                                                                       \n",
       "2000-01-01 01:19:28.300      20.63      5        4.8  2000-01-01T01:19:28.3Z   \n",
       "2000-01-01 04:02:28.400      22.76     22        3.7  2000-01-01T04:02:28.4Z   \n",
       "2000-01-01 05:13:59.100      26.10     35        3.3  2000-01-01T05:13:59.1Z   \n",
       "2000-01-01 05:17:12.900      25.85     22        3.3  2000-01-01T05:17:12.9Z   \n",
       "2000-01-01 05:56:07.300      27.30     10        3.6  2000-01-01T05:56:07.3Z   \n",
       "...                            ...    ...        ...                     ...   \n",
       "2009-12-31 14:24:01.200      21.83     21        2.8  2009-12-31T14:24:01.2Z   \n",
       "2009-12-31 14:50:29.600      24.42     15        3.4  2009-12-31T14:50:29.6Z   \n",
       "2009-12-31 17:27:45.800      23.47      5        2.9  2009-12-31T17:27:45.8Z   \n",
       "2009-12-31 20:43:12.900      21.61     11        3.2  2009-12-31T20:43:12.9Z   \n",
       "2009-12-31 20:58:40.800      20.76     18        2.8  2009-12-31T20:58:40.8Z   \n",
       "\n",
       "                         DAY_NAME  \n",
       "DATETIME                           \n",
       "2000-01-01 01:19:28.300  Saturday  \n",
       "2000-01-01 04:02:28.400  Saturday  \n",
       "2000-01-01 05:13:59.100  Saturday  \n",
       "2000-01-01 05:17:12.900  Saturday  \n",
       "2000-01-01 05:56:07.300  Saturday  \n",
       "...                           ...  \n",
       "2009-12-31 14:24:01.200  Thursday  \n",
       "2009-12-31 14:50:29.600  Thursday  \n",
       "2009-12-31 17:27:45.800  Thursday  \n",
       "2009-12-31 20:43:12.900  Thursday  \n",
       "2009-12-31 20:58:40.800  Thursday  \n",
       "\n",
       "[52257 rows x 12 columns]"
      ],
      "text/html": "<div>\n<style scoped>\n    .dataframe tbody tr th:only-of-type {\n        vertical-align: middle;\n    }\n\n    .dataframe tbody tr th {\n        vertical-align: top;\n    }\n\n    .dataframe thead th {\n        text-align: right;\n    }\n</style>\n<table border=\"1\" class=\"dataframe\">\n  <thead>\n    <tr style=\"text-align: right;\">\n      <th></th>\n      <th>YEAR</th>\n      <th>MONTH</th>\n      <th>DAY</th>\n      <th>HOUR</th>\n      <th>MINUTE</th>\n      <th>SECOND</th>\n      <th>LATITUDE</th>\n      <th>LONGITUDE</th>\n      <th>DEPTH</th>\n      <th>MAGNITUDE</th>\n      <th>T</th>\n      <th>DAY_NAME</th>\n    </tr>\n    <tr>\n      <th>DATETIME</th>\n      <th></th>\n      <th></th>\n      <th></th>\n      <th></th>\n      <th></th>\n      <th></th>\n      <th></th>\n      <th></th>\n      <th></th>\n      <th></th>\n      <th></th>\n      <th></th>\n    </tr>\n  </thead>\n  <tbody>\n    <tr>\n      <th>2000-01-01 01:19:28.300</th>\n      <td>2000</td>\n      <td>JAN</td>\n      <td>1</td>\n      <td>1</td>\n      <td>19</td>\n      <td>28.3</td>\n      <td>41.95</td>\n      <td>20.63</td>\n      <td>5</td>\n      <td>4.8</td>\n      <td>2000-01-01T01:19:28.3Z</td>\n      <td>Saturday</td>\n    </tr>\n    <tr>\n      <th>2000-01-01 04:02:28.400</th>\n      <td>2000</td>\n      <td>JAN</td>\n      <td>1</td>\n      <td>4</td>\n      <td>2</td>\n      <td>28.4</td>\n      <td>35.54</td>\n      <td>22.76</td>\n      <td>22</td>\n      <td>3.7</td>\n      <td>2000-01-01T04:02:28.4Z</td>\n      <td>Saturday</td>\n    </tr>\n    <tr>\n      <th>2000-01-01 05:13:59.100</th>\n      <td>2000</td>\n      <td>JAN</td>\n      <td>1</td>\n      <td>5</td>\n      <td>13</td>\n      <td>59.1</td>\n      <td>38.97</td>\n      <td>26.10</td>\n      <td>35</td>\n      <td>3.3</td>\n      <td>2000-01-01T05:13:59.1Z</td>\n      <td>Saturday</td>\n    </tr>\n    <tr>\n      <th>2000-01-01 05:17:12.900</th>\n      <td>2000</td>\n      <td>JAN</td>\n      <td>1</td>\n      <td>5</td>\n      <td>17</td>\n      <td>12.9</td>\n      <td>38.89</td>\n      <td>25.85</td>\n      <td>22</td>\n      <td>3.3</td>\n      <td>2000-01-01T05:17:12.9Z</td>\n      <td>Saturday</td>\n    </tr>\n    <tr>\n      <th>2000-01-01 05:56:07.300</th>\n      <td>2000</td>\n      <td>JAN</td>\n      <td>1</td>\n      <td>5</td>\n      <td>56</td>\n      <td>7.3</td>\n      <td>39.21</td>\n      <td>27.30</td>\n      <td>10</td>\n      <td>3.6</td>\n      <td>2000-01-01T05:56:07.3Z</td>\n      <td>Saturday</td>\n    </tr>\n    <tr>\n      <th>...</th>\n      <td>...</td>\n      <td>...</td>\n      <td>...</td>\n      <td>...</td>\n      <td>...</td>\n      <td>...</td>\n      <td>...</td>\n      <td>...</td>\n      <td>...</td>\n      <td>...</td>\n      <td>...</td>\n      <td>...</td>\n    </tr>\n    <tr>\n      <th>2009-12-31 14:24:01.200</th>\n      <td>2009</td>\n      <td>DEC</td>\n      <td>31</td>\n      <td>14</td>\n      <td>24</td>\n      <td>1.2</td>\n      <td>37.47</td>\n      <td>21.83</td>\n      <td>21</td>\n      <td>2.8</td>\n      <td>2009-12-31T14:24:01.2Z</td>\n      <td>Thursday</td>\n    </tr>\n    <tr>\n      <th>2009-12-31 14:50:29.600</th>\n      <td>2009</td>\n      <td>DEC</td>\n      <td>31</td>\n      <td>14</td>\n      <td>50</td>\n      <td>29.6</td>\n      <td>34.67</td>\n      <td>24.42</td>\n      <td>15</td>\n      <td>3.4</td>\n      <td>2009-12-31T14:50:29.6Z</td>\n      <td>Thursday</td>\n    </tr>\n    <tr>\n      <th>2009-12-31 17:27:45.800</th>\n      <td>2009</td>\n      <td>DEC</td>\n      <td>31</td>\n      <td>17</td>\n      <td>27</td>\n      <td>45.8</td>\n      <td>35.68</td>\n      <td>23.47</td>\n      <td>5</td>\n      <td>2.9</td>\n      <td>2009-12-31T17:27:45.8Z</td>\n      <td>Thursday</td>\n    </tr>\n    <tr>\n      <th>2009-12-31 20:43:12.900</th>\n      <td>2009</td>\n      <td>DEC</td>\n      <td>31</td>\n      <td>20</td>\n      <td>43</td>\n      <td>12.9</td>\n      <td>36.37</td>\n      <td>21.61</td>\n      <td>11</td>\n      <td>3.2</td>\n      <td>2009-12-31T20:43:12.9Z</td>\n      <td>Thursday</td>\n    </tr>\n    <tr>\n      <th>2009-12-31 20:58:40.800</th>\n      <td>2009</td>\n      <td>DEC</td>\n      <td>31</td>\n      <td>20</td>\n      <td>58</td>\n      <td>40.8</td>\n      <td>39.70</td>\n      <td>20.76</td>\n      <td>18</td>\n      <td>2.8</td>\n      <td>2009-12-31T20:58:40.8Z</td>\n      <td>Thursday</td>\n    </tr>\n  </tbody>\n</table>\n<p>52257 rows × 12 columns</p>\n</div>"
     },
     "metadata": {},
     "execution_count": 151
    }
   ],
   "source": [
    "df"
   ]
  },
  {
   "cell_type": "code",
   "execution_count": 152,
   "metadata": {},
   "outputs": [
    {
     "output_type": "execute_result",
     "data": {
      "text/plain": [
       "                         YEAR MONTH  DAY  HOUR  MINUTE  SECOND  LATITUDE  \\\n",
       "DATETIME                                                                   \n",
       "2004-01-01 00:32:01.300  2004   JAN    1     0      32     1.3     37.76   \n",
       "2004-01-01 01:43:44.000  2004   JAN    1     1      43    44.0     38.38   \n",
       "2004-01-01 03:14:36.400  2004   JAN    1     3      14    36.4     38.54   \n",
       "2004-01-01 07:07:04.800  2004   JAN    1     7       7     4.8     34.35   \n",
       "2004-01-01 09:07:47.800  2004   JAN    1     9       7    47.8     38.39   \n",
       "...                       ...   ...  ...   ...     ...     ...       ...   \n",
       "2004-12-31 13:59:59.900  2004   DEC   31    13      59    59.9     37.11   \n",
       "2004-12-31 14:29:28.300  2004   DEC   31    14      29    28.3     40.49   \n",
       "2004-12-31 16:03:25.100  2004   DEC   31    16       3    25.1     38.44   \n",
       "2004-12-31 20:43:25.800  2004   DEC   31    20      43    25.8     37.32   \n",
       "2004-12-31 20:50:54.100  2004   DEC   31    20      50    54.1     38.92   \n",
       "\n",
       "                         LONGITUDE  DEPTH  MAGNITUDE                       T  \\\n",
       "DATETIME                                                                       \n",
       "2004-01-01 00:32:01.300      21.07      5        3.4  2004-01-01T00:32:01.3Z   \n",
       "2004-01-01 01:43:44.000      21.54     42        3.1  2004-01-01T01:43:44.0Z   \n",
       "2004-01-01 03:14:36.400      20.64      5        3.3  2004-01-01T03:14:36.4Z   \n",
       "2004-01-01 07:07:04.800      25.47     24        3.9  2004-01-01T07:07:04.8Z   \n",
       "2004-01-01 09:07:47.800      21.89      5        3.0  2004-01-01T09:07:47.8Z   \n",
       "...                            ...    ...        ...                     ...   \n",
       "2004-12-31 13:59:59.900      28.24     18        3.6  2004-12-31T13:59:59.9Z   \n",
       "2004-12-31 14:29:28.300      22.38     32        3.3  2004-12-31T14:29:28.3Z   \n",
       "2004-12-31 16:03:25.100      19.75     12        3.4  2004-12-31T16:03:25.1Z   \n",
       "2004-12-31 20:43:25.800      20.19      8        3.6  2004-12-31T20:43:25.8Z   \n",
       "2004-12-31 20:50:54.100      21.08     10        2.7  2004-12-31T20:50:54.1Z   \n",
       "\n",
       "                         DAY_NAME  \n",
       "DATETIME                           \n",
       "2004-01-01 00:32:01.300  Thursday  \n",
       "2004-01-01 01:43:44.000  Thursday  \n",
       "2004-01-01 03:14:36.400  Thursday  \n",
       "2004-01-01 07:07:04.800  Thursday  \n",
       "2004-01-01 09:07:47.800  Thursday  \n",
       "...                           ...  \n",
       "2004-12-31 13:59:59.900    Friday  \n",
       "2004-12-31 14:29:28.300    Friday  \n",
       "2004-12-31 16:03:25.100    Friday  \n",
       "2004-12-31 20:43:25.800    Friday  \n",
       "2004-12-31 20:50:54.100    Friday  \n",
       "\n",
       "[3439 rows x 12 columns]"
      ],
      "text/html": "<div>\n<style scoped>\n    .dataframe tbody tr th:only-of-type {\n        vertical-align: middle;\n    }\n\n    .dataframe tbody tr th {\n        vertical-align: top;\n    }\n\n    .dataframe thead th {\n        text-align: right;\n    }\n</style>\n<table border=\"1\" class=\"dataframe\">\n  <thead>\n    <tr style=\"text-align: right;\">\n      <th></th>\n      <th>YEAR</th>\n      <th>MONTH</th>\n      <th>DAY</th>\n      <th>HOUR</th>\n      <th>MINUTE</th>\n      <th>SECOND</th>\n      <th>LATITUDE</th>\n      <th>LONGITUDE</th>\n      <th>DEPTH</th>\n      <th>MAGNITUDE</th>\n      <th>T</th>\n      <th>DAY_NAME</th>\n    </tr>\n    <tr>\n      <th>DATETIME</th>\n      <th></th>\n      <th></th>\n      <th></th>\n      <th></th>\n      <th></th>\n      <th></th>\n      <th></th>\n      <th></th>\n      <th></th>\n      <th></th>\n      <th></th>\n      <th></th>\n    </tr>\n  </thead>\n  <tbody>\n    <tr>\n      <th>2004-01-01 00:32:01.300</th>\n      <td>2004</td>\n      <td>JAN</td>\n      <td>1</td>\n      <td>0</td>\n      <td>32</td>\n      <td>1.3</td>\n      <td>37.76</td>\n      <td>21.07</td>\n      <td>5</td>\n      <td>3.4</td>\n      <td>2004-01-01T00:32:01.3Z</td>\n      <td>Thursday</td>\n    </tr>\n    <tr>\n      <th>2004-01-01 01:43:44.000</th>\n      <td>2004</td>\n      <td>JAN</td>\n      <td>1</td>\n      <td>1</td>\n      <td>43</td>\n      <td>44.0</td>\n      <td>38.38</td>\n      <td>21.54</td>\n      <td>42</td>\n      <td>3.1</td>\n      <td>2004-01-01T01:43:44.0Z</td>\n      <td>Thursday</td>\n    </tr>\n    <tr>\n      <th>2004-01-01 03:14:36.400</th>\n      <td>2004</td>\n      <td>JAN</td>\n      <td>1</td>\n      <td>3</td>\n      <td>14</td>\n      <td>36.4</td>\n      <td>38.54</td>\n      <td>20.64</td>\n      <td>5</td>\n      <td>3.3</td>\n      <td>2004-01-01T03:14:36.4Z</td>\n      <td>Thursday</td>\n    </tr>\n    <tr>\n      <th>2004-01-01 07:07:04.800</th>\n      <td>2004</td>\n      <td>JAN</td>\n      <td>1</td>\n      <td>7</td>\n      <td>7</td>\n      <td>4.8</td>\n      <td>34.35</td>\n      <td>25.47</td>\n      <td>24</td>\n      <td>3.9</td>\n      <td>2004-01-01T07:07:04.8Z</td>\n      <td>Thursday</td>\n    </tr>\n    <tr>\n      <th>2004-01-01 09:07:47.800</th>\n      <td>2004</td>\n      <td>JAN</td>\n      <td>1</td>\n      <td>9</td>\n      <td>7</td>\n      <td>47.8</td>\n      <td>38.39</td>\n      <td>21.89</td>\n      <td>5</td>\n      <td>3.0</td>\n      <td>2004-01-01T09:07:47.8Z</td>\n      <td>Thursday</td>\n    </tr>\n    <tr>\n      <th>...</th>\n      <td>...</td>\n      <td>...</td>\n      <td>...</td>\n      <td>...</td>\n      <td>...</td>\n      <td>...</td>\n      <td>...</td>\n      <td>...</td>\n      <td>...</td>\n      <td>...</td>\n      <td>...</td>\n      <td>...</td>\n    </tr>\n    <tr>\n      <th>2004-12-31 13:59:59.900</th>\n      <td>2004</td>\n      <td>DEC</td>\n      <td>31</td>\n      <td>13</td>\n      <td>59</td>\n      <td>59.9</td>\n      <td>37.11</td>\n      <td>28.24</td>\n      <td>18</td>\n      <td>3.6</td>\n      <td>2004-12-31T13:59:59.9Z</td>\n      <td>Friday</td>\n    </tr>\n    <tr>\n      <th>2004-12-31 14:29:28.300</th>\n      <td>2004</td>\n      <td>DEC</td>\n      <td>31</td>\n      <td>14</td>\n      <td>29</td>\n      <td>28.3</td>\n      <td>40.49</td>\n      <td>22.38</td>\n      <td>32</td>\n      <td>3.3</td>\n      <td>2004-12-31T14:29:28.3Z</td>\n      <td>Friday</td>\n    </tr>\n    <tr>\n      <th>2004-12-31 16:03:25.100</th>\n      <td>2004</td>\n      <td>DEC</td>\n      <td>31</td>\n      <td>16</td>\n      <td>3</td>\n      <td>25.1</td>\n      <td>38.44</td>\n      <td>19.75</td>\n      <td>12</td>\n      <td>3.4</td>\n      <td>2004-12-31T16:03:25.1Z</td>\n      <td>Friday</td>\n    </tr>\n    <tr>\n      <th>2004-12-31 20:43:25.800</th>\n      <td>2004</td>\n      <td>DEC</td>\n      <td>31</td>\n      <td>20</td>\n      <td>43</td>\n      <td>25.8</td>\n      <td>37.32</td>\n      <td>20.19</td>\n      <td>8</td>\n      <td>3.6</td>\n      <td>2004-12-31T20:43:25.8Z</td>\n      <td>Friday</td>\n    </tr>\n    <tr>\n      <th>2004-12-31 20:50:54.100</th>\n      <td>2004</td>\n      <td>DEC</td>\n      <td>31</td>\n      <td>20</td>\n      <td>50</td>\n      <td>54.1</td>\n      <td>38.92</td>\n      <td>21.08</td>\n      <td>10</td>\n      <td>2.7</td>\n      <td>2004-12-31T20:50:54.1Z</td>\n      <td>Friday</td>\n    </tr>\n  </tbody>\n</table>\n<p>3439 rows × 12 columns</p>\n</div>"
     },
     "metadata": {},
     "execution_count": 152
    }
   ],
   "source": [
    "df.loc['2004']"
   ]
  },
  {
   "cell_type": "code",
   "execution_count": 153,
   "metadata": {},
   "outputs": [
    {
     "output_type": "execute_result",
     "data": {
      "text/plain": [
       "                         YEAR MONTH  DAY  HOUR  MINUTE  SECOND  LATITUDE  \\\n",
       "DATETIME                                                                   \n",
       "2004-01-01 00:32:01.300  2004   JAN    1     0      32     1.3     37.76   \n",
       "2004-01-01 01:43:44.000  2004   JAN    1     1      43    44.0     38.38   \n",
       "2004-01-01 03:14:36.400  2004   JAN    1     3      14    36.4     38.54   \n",
       "2004-01-01 07:07:04.800  2004   JAN    1     7       7     4.8     34.35   \n",
       "2004-01-01 09:07:47.800  2004   JAN    1     9       7    47.8     38.39   \n",
       "...                       ...   ...  ...   ...     ...     ...       ...   \n",
       "2004-12-31 13:59:59.900  2004   DEC   31    13      59    59.9     37.11   \n",
       "2004-12-31 14:29:28.300  2004   DEC   31    14      29    28.3     40.49   \n",
       "2004-12-31 16:03:25.100  2004   DEC   31    16       3    25.1     38.44   \n",
       "2004-12-31 20:43:25.800  2004   DEC   31    20      43    25.8     37.32   \n",
       "2004-12-31 20:50:54.100  2004   DEC   31    20      50    54.1     38.92   \n",
       "\n",
       "                         LONGITUDE  DEPTH  MAGNITUDE                       T  \\\n",
       "DATETIME                                                                       \n",
       "2004-01-01 00:32:01.300      21.07      5        3.4  2004-01-01T00:32:01.3Z   \n",
       "2004-01-01 01:43:44.000      21.54     42        3.1  2004-01-01T01:43:44.0Z   \n",
       "2004-01-01 03:14:36.400      20.64      5        3.3  2004-01-01T03:14:36.4Z   \n",
       "2004-01-01 07:07:04.800      25.47     24        3.9  2004-01-01T07:07:04.8Z   \n",
       "2004-01-01 09:07:47.800      21.89      5        3.0  2004-01-01T09:07:47.8Z   \n",
       "...                            ...    ...        ...                     ...   \n",
       "2004-12-31 13:59:59.900      28.24     18        3.6  2004-12-31T13:59:59.9Z   \n",
       "2004-12-31 14:29:28.300      22.38     32        3.3  2004-12-31T14:29:28.3Z   \n",
       "2004-12-31 16:03:25.100      19.75     12        3.4  2004-12-31T16:03:25.1Z   \n",
       "2004-12-31 20:43:25.800      20.19      8        3.6  2004-12-31T20:43:25.8Z   \n",
       "2004-12-31 20:50:54.100      21.08     10        2.7  2004-12-31T20:50:54.1Z   \n",
       "\n",
       "                         DAY_NAME  \n",
       "DATETIME                           \n",
       "2004-01-01 00:32:01.300  Thursday  \n",
       "2004-01-01 01:43:44.000  Thursday  \n",
       "2004-01-01 03:14:36.400  Thursday  \n",
       "2004-01-01 07:07:04.800  Thursday  \n",
       "2004-01-01 09:07:47.800  Thursday  \n",
       "...                           ...  \n",
       "2004-12-31 13:59:59.900    Friday  \n",
       "2004-12-31 14:29:28.300    Friday  \n",
       "2004-12-31 16:03:25.100    Friday  \n",
       "2004-12-31 20:43:25.800    Friday  \n",
       "2004-12-31 20:50:54.100    Friday  \n",
       "\n",
       "[3439 rows x 12 columns]"
      ],
      "text/html": "<div>\n<style scoped>\n    .dataframe tbody tr th:only-of-type {\n        vertical-align: middle;\n    }\n\n    .dataframe tbody tr th {\n        vertical-align: top;\n    }\n\n    .dataframe thead th {\n        text-align: right;\n    }\n</style>\n<table border=\"1\" class=\"dataframe\">\n  <thead>\n    <tr style=\"text-align: right;\">\n      <th></th>\n      <th>YEAR</th>\n      <th>MONTH</th>\n      <th>DAY</th>\n      <th>HOUR</th>\n      <th>MINUTE</th>\n      <th>SECOND</th>\n      <th>LATITUDE</th>\n      <th>LONGITUDE</th>\n      <th>DEPTH</th>\n      <th>MAGNITUDE</th>\n      <th>T</th>\n      <th>DAY_NAME</th>\n    </tr>\n    <tr>\n      <th>DATETIME</th>\n      <th></th>\n      <th></th>\n      <th></th>\n      <th></th>\n      <th></th>\n      <th></th>\n      <th></th>\n      <th></th>\n      <th></th>\n      <th></th>\n      <th></th>\n      <th></th>\n    </tr>\n  </thead>\n  <tbody>\n    <tr>\n      <th>2004-01-01 00:32:01.300</th>\n      <td>2004</td>\n      <td>JAN</td>\n      <td>1</td>\n      <td>0</td>\n      <td>32</td>\n      <td>1.3</td>\n      <td>37.76</td>\n      <td>21.07</td>\n      <td>5</td>\n      <td>3.4</td>\n      <td>2004-01-01T00:32:01.3Z</td>\n      <td>Thursday</td>\n    </tr>\n    <tr>\n      <th>2004-01-01 01:43:44.000</th>\n      <td>2004</td>\n      <td>JAN</td>\n      <td>1</td>\n      <td>1</td>\n      <td>43</td>\n      <td>44.0</td>\n      <td>38.38</td>\n      <td>21.54</td>\n      <td>42</td>\n      <td>3.1</td>\n      <td>2004-01-01T01:43:44.0Z</td>\n      <td>Thursday</td>\n    </tr>\n    <tr>\n      <th>2004-01-01 03:14:36.400</th>\n      <td>2004</td>\n      <td>JAN</td>\n      <td>1</td>\n      <td>3</td>\n      <td>14</td>\n      <td>36.4</td>\n      <td>38.54</td>\n      <td>20.64</td>\n      <td>5</td>\n      <td>3.3</td>\n      <td>2004-01-01T03:14:36.4Z</td>\n      <td>Thursday</td>\n    </tr>\n    <tr>\n      <th>2004-01-01 07:07:04.800</th>\n      <td>2004</td>\n      <td>JAN</td>\n      <td>1</td>\n      <td>7</td>\n      <td>7</td>\n      <td>4.8</td>\n      <td>34.35</td>\n      <td>25.47</td>\n      <td>24</td>\n      <td>3.9</td>\n      <td>2004-01-01T07:07:04.8Z</td>\n      <td>Thursday</td>\n    </tr>\n    <tr>\n      <th>2004-01-01 09:07:47.800</th>\n      <td>2004</td>\n      <td>JAN</td>\n      <td>1</td>\n      <td>9</td>\n      <td>7</td>\n      <td>47.8</td>\n      <td>38.39</td>\n      <td>21.89</td>\n      <td>5</td>\n      <td>3.0</td>\n      <td>2004-01-01T09:07:47.8Z</td>\n      <td>Thursday</td>\n    </tr>\n    <tr>\n      <th>...</th>\n      <td>...</td>\n      <td>...</td>\n      <td>...</td>\n      <td>...</td>\n      <td>...</td>\n      <td>...</td>\n      <td>...</td>\n      <td>...</td>\n      <td>...</td>\n      <td>...</td>\n      <td>...</td>\n      <td>...</td>\n    </tr>\n    <tr>\n      <th>2004-12-31 13:59:59.900</th>\n      <td>2004</td>\n      <td>DEC</td>\n      <td>31</td>\n      <td>13</td>\n      <td>59</td>\n      <td>59.9</td>\n      <td>37.11</td>\n      <td>28.24</td>\n      <td>18</td>\n      <td>3.6</td>\n      <td>2004-12-31T13:59:59.9Z</td>\n      <td>Friday</td>\n    </tr>\n    <tr>\n      <th>2004-12-31 14:29:28.300</th>\n      <td>2004</td>\n      <td>DEC</td>\n      <td>31</td>\n      <td>14</td>\n      <td>29</td>\n      <td>28.3</td>\n      <td>40.49</td>\n      <td>22.38</td>\n      <td>32</td>\n      <td>3.3</td>\n      <td>2004-12-31T14:29:28.3Z</td>\n      <td>Friday</td>\n    </tr>\n    <tr>\n      <th>2004-12-31 16:03:25.100</th>\n      <td>2004</td>\n      <td>DEC</td>\n      <td>31</td>\n      <td>16</td>\n      <td>3</td>\n      <td>25.1</td>\n      <td>38.44</td>\n      <td>19.75</td>\n      <td>12</td>\n      <td>3.4</td>\n      <td>2004-12-31T16:03:25.1Z</td>\n      <td>Friday</td>\n    </tr>\n    <tr>\n      <th>2004-12-31 20:43:25.800</th>\n      <td>2004</td>\n      <td>DEC</td>\n      <td>31</td>\n      <td>20</td>\n      <td>43</td>\n      <td>25.8</td>\n      <td>37.32</td>\n      <td>20.19</td>\n      <td>8</td>\n      <td>3.6</td>\n      <td>2004-12-31T20:43:25.8Z</td>\n      <td>Friday</td>\n    </tr>\n    <tr>\n      <th>2004-12-31 20:50:54.100</th>\n      <td>2004</td>\n      <td>DEC</td>\n      <td>31</td>\n      <td>20</td>\n      <td>50</td>\n      <td>54.1</td>\n      <td>38.92</td>\n      <td>21.08</td>\n      <td>10</td>\n      <td>2.7</td>\n      <td>2004-12-31T20:50:54.1Z</td>\n      <td>Friday</td>\n    </tr>\n  </tbody>\n</table>\n<p>3439 rows × 12 columns</p>\n</div>"
     },
     "metadata": {},
     "execution_count": 153
    }
   ],
   "source": [
    "df['2004']"
   ]
  },
  {
   "cell_type": "code",
   "execution_count": 156,
   "metadata": {},
   "outputs": [
    {
     "output_type": "execute_result",
     "data": {
      "text/plain": [
       "3.2"
      ]
     },
     "metadata": {},
     "execution_count": 156
    }
   ],
   "source": [
    "df.loc['2004-03-01':'2004-04-01']['MAGNITUDE'].median()"
   ]
  },
  {
   "cell_type": "code",
   "execution_count": 157,
   "metadata": {},
   "outputs": [
    {
     "output_type": "execute_result",
     "data": {
      "text/plain": [
       "                         YEAR MONTH  DAY  HOUR  MINUTE  SECOND  LATITUDE  \\\n",
       "DATETIME                                                                   \n",
       "2004-03-01 00:35:57.500  2004   MAR    1     0      35    57.5     37.19   \n",
       "2004-03-01 03:44:41.500  2004   MAR    1     3      44    41.5     36.97   \n",
       "2004-03-01 06:10:32.700  2004   MAR    1     6      10    32.7     38.88   \n",
       "2004-03-01 07:05:59.100  2004   MAR    1     7       5    59.1     38.58   \n",
       "2004-03-01 10:08:21.000  2004   MAR    1    10       8    21.0     34.76   \n",
       "2004-03-01 10:52:08.500  2004   MAR    1    10      52     8.5     37.84   \n",
       "2004-03-01 13:03:25.500  2004   MAR    1    13       3    25.5     36.64   \n",
       "2004-03-01 13:39:16.800  2004   MAR    1    13      39    16.8     37.73   \n",
       "2004-03-01 15:46:00.200  2004   MAR    1    15      46     0.2     40.49   \n",
       "2004-03-01 16:27:52.100  2004   MAR    1    16      27    52.1     37.23   \n",
       "2004-03-01 18:14:28.600  2004   MAR    1    18      14    28.6     39.19   \n",
       "2004-03-02 01:25:51.600  2004   MAR    2     1      25    51.6     38.28   \n",
       "2004-03-02 01:58:35.000  2004   MAR    2     1      58    35.0     37.68   \n",
       "2004-03-02 02:53:17.200  2004   MAR    2     2      53    17.2     35.17   \n",
       "2004-03-02 04:18:36.800  2004   MAR    2     4      18    36.8     36.51   \n",
       "2004-03-02 06:20:18.900  2004   MAR    2     6      20    18.9     37.16   \n",
       "2004-03-02 22:43:57.000  2004   MAR    2    22      43    57.0     34.75   \n",
       "2004-03-02 23:02:21.800  2004   MAR    2    23       2    21.8     36.21   \n",
       "2004-03-03 06:06:26.300  2004   MAR    3     6       6    26.3     37.08   \n",
       "2004-03-03 10:56:40.900  2004   MAR    3    10      56    40.9     35.79   \n",
       "\n",
       "                         LONGITUDE  DEPTH  MAGNITUDE                       T  \\\n",
       "DATETIME                                                                       \n",
       "2004-03-01 00:35:57.500      22.14     14        5.0  2004-03-01T00:35:57.5Z   \n",
       "2004-03-01 03:44:41.500      22.00      5        3.0  2004-03-01T03:44:41.5Z   \n",
       "2004-03-01 06:10:32.700      20.63     10        3.2  2004-03-01T06:10:32.7Z   \n",
       "2004-03-01 07:05:59.100      21.49     19        3.3  2004-03-01T07:05:59.1Z   \n",
       "2004-03-01 10:08:21.000      23.70     31        3.4  2004-03-01T10:08:21.0Z   \n",
       "2004-03-01 10:52:08.500      21.28     10        3.1  2004-03-01T10:52:08.5Z   \n",
       "2004-03-01 13:03:25.500      23.11     10        3.3  2004-03-01T13:03:25.5Z   \n",
       "2004-03-01 13:39:16.800      21.76      5        3.1  2004-03-01T13:39:16.8Z   \n",
       "2004-03-01 15:46:00.200      25.85     10        2.7  2004-03-01T15:46:00.2Z   \n",
       "2004-03-01 16:27:52.100      22.13      5        2.9  2004-03-01T16:27:52.1Z   \n",
       "2004-03-01 18:14:28.600      26.67     46        3.1  2004-03-01T18:14:28.6Z   \n",
       "2004-03-02 01:25:51.600      22.13     18        3.3  2004-03-02T01:25:51.6Z   \n",
       "2004-03-02 01:58:35.000      27.06     18        3.3  2004-03-02T01:58:35.0Z   \n",
       "2004-03-02 02:53:17.200      25.68     15        3.2  2004-03-02T02:53:17.2Z   \n",
       "2004-03-02 04:18:36.800      27.67     10        3.0  2004-03-02T04:18:36.8Z   \n",
       "2004-03-02 06:20:18.900      22.16      5        3.3  2004-03-02T06:20:18.9Z   \n",
       "2004-03-02 22:43:57.000      24.72     10        2.9  2004-03-02T22:43:57.0Z   \n",
       "2004-03-02 23:02:21.800      21.57      9        3.5  2004-03-02T23:02:21.8Z   \n",
       "2004-03-03 06:06:26.300      22.11      5        3.3  2004-03-03T06:06:26.3Z   \n",
       "2004-03-03 10:56:40.900      22.04     10        3.0  2004-03-03T10:56:40.9Z   \n",
       "\n",
       "                          DAY_NAME  \n",
       "DATETIME                            \n",
       "2004-03-01 00:35:57.500     Monday  \n",
       "2004-03-01 03:44:41.500     Monday  \n",
       "2004-03-01 06:10:32.700     Monday  \n",
       "2004-03-01 07:05:59.100     Monday  \n",
       "2004-03-01 10:08:21.000     Monday  \n",
       "2004-03-01 10:52:08.500     Monday  \n",
       "2004-03-01 13:03:25.500     Monday  \n",
       "2004-03-01 13:39:16.800     Monday  \n",
       "2004-03-01 15:46:00.200     Monday  \n",
       "2004-03-01 16:27:52.100     Monday  \n",
       "2004-03-01 18:14:28.600     Monday  \n",
       "2004-03-02 01:25:51.600    Tuesday  \n",
       "2004-03-02 01:58:35.000    Tuesday  \n",
       "2004-03-02 02:53:17.200    Tuesday  \n",
       "2004-03-02 04:18:36.800    Tuesday  \n",
       "2004-03-02 06:20:18.900    Tuesday  \n",
       "2004-03-02 22:43:57.000    Tuesday  \n",
       "2004-03-02 23:02:21.800    Tuesday  \n",
       "2004-03-03 06:06:26.300  Wednesday  \n",
       "2004-03-03 10:56:40.900  Wednesday  "
      ],
      "text/html": "<div>\n<style scoped>\n    .dataframe tbody tr th:only-of-type {\n        vertical-align: middle;\n    }\n\n    .dataframe tbody tr th {\n        vertical-align: top;\n    }\n\n    .dataframe thead th {\n        text-align: right;\n    }\n</style>\n<table border=\"1\" class=\"dataframe\">\n  <thead>\n    <tr style=\"text-align: right;\">\n      <th></th>\n      <th>YEAR</th>\n      <th>MONTH</th>\n      <th>DAY</th>\n      <th>HOUR</th>\n      <th>MINUTE</th>\n      <th>SECOND</th>\n      <th>LATITUDE</th>\n      <th>LONGITUDE</th>\n      <th>DEPTH</th>\n      <th>MAGNITUDE</th>\n      <th>T</th>\n      <th>DAY_NAME</th>\n    </tr>\n    <tr>\n      <th>DATETIME</th>\n      <th></th>\n      <th></th>\n      <th></th>\n      <th></th>\n      <th></th>\n      <th></th>\n      <th></th>\n      <th></th>\n      <th></th>\n      <th></th>\n      <th></th>\n      <th></th>\n    </tr>\n  </thead>\n  <tbody>\n    <tr>\n      <th>2004-03-01 00:35:57.500</th>\n      <td>2004</td>\n      <td>MAR</td>\n      <td>1</td>\n      <td>0</td>\n      <td>35</td>\n      <td>57.5</td>\n      <td>37.19</td>\n      <td>22.14</td>\n      <td>14</td>\n      <td>5.0</td>\n      <td>2004-03-01T00:35:57.5Z</td>\n      <td>Monday</td>\n    </tr>\n    <tr>\n      <th>2004-03-01 03:44:41.500</th>\n      <td>2004</td>\n      <td>MAR</td>\n      <td>1</td>\n      <td>3</td>\n      <td>44</td>\n      <td>41.5</td>\n      <td>36.97</td>\n      <td>22.00</td>\n      <td>5</td>\n      <td>3.0</td>\n      <td>2004-03-01T03:44:41.5Z</td>\n      <td>Monday</td>\n    </tr>\n    <tr>\n      <th>2004-03-01 06:10:32.700</th>\n      <td>2004</td>\n      <td>MAR</td>\n      <td>1</td>\n      <td>6</td>\n      <td>10</td>\n      <td>32.7</td>\n      <td>38.88</td>\n      <td>20.63</td>\n      <td>10</td>\n      <td>3.2</td>\n      <td>2004-03-01T06:10:32.7Z</td>\n      <td>Monday</td>\n    </tr>\n    <tr>\n      <th>2004-03-01 07:05:59.100</th>\n      <td>2004</td>\n      <td>MAR</td>\n      <td>1</td>\n      <td>7</td>\n      <td>5</td>\n      <td>59.1</td>\n      <td>38.58</td>\n      <td>21.49</td>\n      <td>19</td>\n      <td>3.3</td>\n      <td>2004-03-01T07:05:59.1Z</td>\n      <td>Monday</td>\n    </tr>\n    <tr>\n      <th>2004-03-01 10:08:21.000</th>\n      <td>2004</td>\n      <td>MAR</td>\n      <td>1</td>\n      <td>10</td>\n      <td>8</td>\n      <td>21.0</td>\n      <td>34.76</td>\n      <td>23.70</td>\n      <td>31</td>\n      <td>3.4</td>\n      <td>2004-03-01T10:08:21.0Z</td>\n      <td>Monday</td>\n    </tr>\n    <tr>\n      <th>2004-03-01 10:52:08.500</th>\n      <td>2004</td>\n      <td>MAR</td>\n      <td>1</td>\n      <td>10</td>\n      <td>52</td>\n      <td>8.5</td>\n      <td>37.84</td>\n      <td>21.28</td>\n      <td>10</td>\n      <td>3.1</td>\n      <td>2004-03-01T10:52:08.5Z</td>\n      <td>Monday</td>\n    </tr>\n    <tr>\n      <th>2004-03-01 13:03:25.500</th>\n      <td>2004</td>\n      <td>MAR</td>\n      <td>1</td>\n      <td>13</td>\n      <td>3</td>\n      <td>25.5</td>\n      <td>36.64</td>\n      <td>23.11</td>\n      <td>10</td>\n      <td>3.3</td>\n      <td>2004-03-01T13:03:25.5Z</td>\n      <td>Monday</td>\n    </tr>\n    <tr>\n      <th>2004-03-01 13:39:16.800</th>\n      <td>2004</td>\n      <td>MAR</td>\n      <td>1</td>\n      <td>13</td>\n      <td>39</td>\n      <td>16.8</td>\n      <td>37.73</td>\n      <td>21.76</td>\n      <td>5</td>\n      <td>3.1</td>\n      <td>2004-03-01T13:39:16.8Z</td>\n      <td>Monday</td>\n    </tr>\n    <tr>\n      <th>2004-03-01 15:46:00.200</th>\n      <td>2004</td>\n      <td>MAR</td>\n      <td>1</td>\n      <td>15</td>\n      <td>46</td>\n      <td>0.2</td>\n      <td>40.49</td>\n      <td>25.85</td>\n      <td>10</td>\n      <td>2.7</td>\n      <td>2004-03-01T15:46:00.2Z</td>\n      <td>Monday</td>\n    </tr>\n    <tr>\n      <th>2004-03-01 16:27:52.100</th>\n      <td>2004</td>\n      <td>MAR</td>\n      <td>1</td>\n      <td>16</td>\n      <td>27</td>\n      <td>52.1</td>\n      <td>37.23</td>\n      <td>22.13</td>\n      <td>5</td>\n      <td>2.9</td>\n      <td>2004-03-01T16:27:52.1Z</td>\n      <td>Monday</td>\n    </tr>\n    <tr>\n      <th>2004-03-01 18:14:28.600</th>\n      <td>2004</td>\n      <td>MAR</td>\n      <td>1</td>\n      <td>18</td>\n      <td>14</td>\n      <td>28.6</td>\n      <td>39.19</td>\n      <td>26.67</td>\n      <td>46</td>\n      <td>3.1</td>\n      <td>2004-03-01T18:14:28.6Z</td>\n      <td>Monday</td>\n    </tr>\n    <tr>\n      <th>2004-03-02 01:25:51.600</th>\n      <td>2004</td>\n      <td>MAR</td>\n      <td>2</td>\n      <td>1</td>\n      <td>25</td>\n      <td>51.6</td>\n      <td>38.28</td>\n      <td>22.13</td>\n      <td>18</td>\n      <td>3.3</td>\n      <td>2004-03-02T01:25:51.6Z</td>\n      <td>Tuesday</td>\n    </tr>\n    <tr>\n      <th>2004-03-02 01:58:35.000</th>\n      <td>2004</td>\n      <td>MAR</td>\n      <td>2</td>\n      <td>1</td>\n      <td>58</td>\n      <td>35.0</td>\n      <td>37.68</td>\n      <td>27.06</td>\n      <td>18</td>\n      <td>3.3</td>\n      <td>2004-03-02T01:58:35.0Z</td>\n      <td>Tuesday</td>\n    </tr>\n    <tr>\n      <th>2004-03-02 02:53:17.200</th>\n      <td>2004</td>\n      <td>MAR</td>\n      <td>2</td>\n      <td>2</td>\n      <td>53</td>\n      <td>17.2</td>\n      <td>35.17</td>\n      <td>25.68</td>\n      <td>15</td>\n      <td>3.2</td>\n      <td>2004-03-02T02:53:17.2Z</td>\n      <td>Tuesday</td>\n    </tr>\n    <tr>\n      <th>2004-03-02 04:18:36.800</th>\n      <td>2004</td>\n      <td>MAR</td>\n      <td>2</td>\n      <td>4</td>\n      <td>18</td>\n      <td>36.8</td>\n      <td>36.51</td>\n      <td>27.67</td>\n      <td>10</td>\n      <td>3.0</td>\n      <td>2004-03-02T04:18:36.8Z</td>\n      <td>Tuesday</td>\n    </tr>\n    <tr>\n      <th>2004-03-02 06:20:18.900</th>\n      <td>2004</td>\n      <td>MAR</td>\n      <td>2</td>\n      <td>6</td>\n      <td>20</td>\n      <td>18.9</td>\n      <td>37.16</td>\n      <td>22.16</td>\n      <td>5</td>\n      <td>3.3</td>\n      <td>2004-03-02T06:20:18.9Z</td>\n      <td>Tuesday</td>\n    </tr>\n    <tr>\n      <th>2004-03-02 22:43:57.000</th>\n      <td>2004</td>\n      <td>MAR</td>\n      <td>2</td>\n      <td>22</td>\n      <td>43</td>\n      <td>57.0</td>\n      <td>34.75</td>\n      <td>24.72</td>\n      <td>10</td>\n      <td>2.9</td>\n      <td>2004-03-02T22:43:57.0Z</td>\n      <td>Tuesday</td>\n    </tr>\n    <tr>\n      <th>2004-03-02 23:02:21.800</th>\n      <td>2004</td>\n      <td>MAR</td>\n      <td>2</td>\n      <td>23</td>\n      <td>2</td>\n      <td>21.8</td>\n      <td>36.21</td>\n      <td>21.57</td>\n      <td>9</td>\n      <td>3.5</td>\n      <td>2004-03-02T23:02:21.8Z</td>\n      <td>Tuesday</td>\n    </tr>\n    <tr>\n      <th>2004-03-03 06:06:26.300</th>\n      <td>2004</td>\n      <td>MAR</td>\n      <td>3</td>\n      <td>6</td>\n      <td>6</td>\n      <td>26.3</td>\n      <td>37.08</td>\n      <td>22.11</td>\n      <td>5</td>\n      <td>3.3</td>\n      <td>2004-03-03T06:06:26.3Z</td>\n      <td>Wednesday</td>\n    </tr>\n    <tr>\n      <th>2004-03-03 10:56:40.900</th>\n      <td>2004</td>\n      <td>MAR</td>\n      <td>3</td>\n      <td>10</td>\n      <td>56</td>\n      <td>40.9</td>\n      <td>35.79</td>\n      <td>22.04</td>\n      <td>10</td>\n      <td>3.0</td>\n      <td>2004-03-03T10:56:40.9Z</td>\n      <td>Wednesday</td>\n    </tr>\n  </tbody>\n</table>\n</div>"
     },
     "metadata": {},
     "execution_count": 157
    }
   ],
   "source": [
    "df.loc['2004-03-01':'2004-04-01'].head(20)"
   ]
  },
  {
   "cell_type": "code",
   "execution_count": 163,
   "metadata": {},
   "outputs": [
    {
     "output_type": "execute_result",
     "data": {
      "text/plain": [
       "5.0"
      ]
     },
     "metadata": {},
     "execution_count": 163
    }
   ],
   "source": [
    "df.loc['2004-03-01':'2004-03-02']['MAGNITUDE'].max()"
   ]
  },
  {
   "cell_type": "code",
   "execution_count": 162,
   "metadata": {},
   "outputs": [
    {
     "output_type": "execute_result",
     "data": {
      "text/plain": [
       "DATETIME\n",
       "2004-03-01 00:35:57.500    5.0\n",
       "2004-03-01 03:44:41.500    3.0\n",
       "2004-03-01 06:10:32.700    3.2\n",
       "2004-03-01 07:05:59.100    3.3\n",
       "2004-03-01 10:08:21.000    3.4\n",
       "2004-03-01 10:52:08.500    3.1\n",
       "2004-03-01 13:03:25.500    3.3\n",
       "2004-03-01 13:39:16.800    3.1\n",
       "2004-03-01 15:46:00.200    2.7\n",
       "2004-03-01 16:27:52.100    2.9\n",
       "2004-03-01 18:14:28.600    3.1\n",
       "2004-03-02 01:25:51.600    3.3\n",
       "2004-03-02 01:58:35.000    3.3\n",
       "2004-03-02 02:53:17.200    3.2\n",
       "2004-03-02 04:18:36.800    3.0\n",
       "2004-03-02 06:20:18.900    3.3\n",
       "2004-03-02 22:43:57.000    2.9\n",
       "2004-03-02 23:02:21.800    3.5\n",
       "Name: MAGNITUDE, dtype: float64"
      ]
     },
     "metadata": {},
     "execution_count": 162
    }
   ],
   "source": [
    "df.loc['2004-03-01':'2004-03-02']['MAGNITUDE']"
   ]
  },
  {
   "source": [
    "resample by DAY and show us the maximum magnitude FOR EACH DAY"
   ],
   "cell_type": "markdown",
   "metadata": {}
  },
  {
   "cell_type": "code",
   "execution_count": 165,
   "metadata": {},
   "outputs": [
    {
     "output_type": "execute_result",
     "data": {
      "text/plain": [
       "DATETIME\n",
       "2000-01-01    4.8\n",
       "2000-01-02    4.0\n",
       "2000-01-03    3.6\n",
       "2000-01-04    3.5\n",
       "2000-01-05    3.3\n",
       "             ... \n",
       "2009-12-27    3.8\n",
       "2009-12-28    3.7\n",
       "2009-12-29    3.6\n",
       "2009-12-30    3.9\n",
       "2009-12-31    3.6\n",
       "Freq: D, Name: MAGNITUDE, Length: 3653, dtype: float64"
      ]
     },
     "metadata": {},
     "execution_count": 165
    }
   ],
   "source": [
    "df['MAGNITUDE'].resample('D').max()"
   ]
  },
  {
   "source": [
    "plot commulative num of events broken down by year"
   ],
   "cell_type": "markdown",
   "metadata": {}
  },
  {
   "cell_type": "code",
   "execution_count": 168,
   "metadata": {},
   "outputs": [
    {
     "output_type": "execute_result",
     "data": {
      "text/plain": [
       "                         YEAR MONTH  DAY  HOUR  MINUTE  SECOND  LATITUDE  \\\n",
       "DATETIME                                                                   \n",
       "2000-01-01 01:19:28.300  2000   JAN    1     1      19    28.3     41.95   \n",
       "2000-01-01 04:02:28.400  2000   JAN    1     4       2    28.4     35.54   \n",
       "2000-01-01 05:13:59.100  2000   JAN    1     5      13    59.1     38.97   \n",
       "2000-01-01 05:17:12.900  2000   JAN    1     5      17    12.9     38.89   \n",
       "2000-01-01 05:56:07.300  2000   JAN    1     5      56     7.3     39.21   \n",
       "...                       ...   ...  ...   ...     ...     ...       ...   \n",
       "2009-12-31 14:24:01.200  2009   DEC   31    14      24     1.2     37.47   \n",
       "2009-12-31 14:50:29.600  2009   DEC   31    14      50    29.6     34.67   \n",
       "2009-12-31 17:27:45.800  2009   DEC   31    17      27    45.8     35.68   \n",
       "2009-12-31 20:43:12.900  2009   DEC   31    20      43    12.9     36.37   \n",
       "2009-12-31 20:58:40.800  2009   DEC   31    20      58    40.8     39.70   \n",
       "\n",
       "                         LONGITUDE  DEPTH  MAGNITUDE                       T  \\\n",
       "DATETIME                                                                       \n",
       "2000-01-01 01:19:28.300      20.63      5        4.8  2000-01-01T01:19:28.3Z   \n",
       "2000-01-01 04:02:28.400      22.76     22        3.7  2000-01-01T04:02:28.4Z   \n",
       "2000-01-01 05:13:59.100      26.10     35        3.3  2000-01-01T05:13:59.1Z   \n",
       "2000-01-01 05:17:12.900      25.85     22        3.3  2000-01-01T05:17:12.9Z   \n",
       "2000-01-01 05:56:07.300      27.30     10        3.6  2000-01-01T05:56:07.3Z   \n",
       "...                            ...    ...        ...                     ...   \n",
       "2009-12-31 14:24:01.200      21.83     21        2.8  2009-12-31T14:24:01.2Z   \n",
       "2009-12-31 14:50:29.600      24.42     15        3.4  2009-12-31T14:50:29.6Z   \n",
       "2009-12-31 17:27:45.800      23.47      5        2.9  2009-12-31T17:27:45.8Z   \n",
       "2009-12-31 20:43:12.900      21.61     11        3.2  2009-12-31T20:43:12.9Z   \n",
       "2009-12-31 20:58:40.800      20.76     18        2.8  2009-12-31T20:58:40.8Z   \n",
       "\n",
       "                         DAY_NAME  \n",
       "DATETIME                           \n",
       "2000-01-01 01:19:28.300  Saturday  \n",
       "2000-01-01 04:02:28.400  Saturday  \n",
       "2000-01-01 05:13:59.100  Saturday  \n",
       "2000-01-01 05:17:12.900  Saturday  \n",
       "2000-01-01 05:56:07.300  Saturday  \n",
       "...                           ...  \n",
       "2009-12-31 14:24:01.200  Thursday  \n",
       "2009-12-31 14:50:29.600  Thursday  \n",
       "2009-12-31 17:27:45.800  Thursday  \n",
       "2009-12-31 20:43:12.900  Thursday  \n",
       "2009-12-31 20:58:40.800  Thursday  \n",
       "\n",
       "[52257 rows x 12 columns]"
      ],
      "text/html": "<div>\n<style scoped>\n    .dataframe tbody tr th:only-of-type {\n        vertical-align: middle;\n    }\n\n    .dataframe tbody tr th {\n        vertical-align: top;\n    }\n\n    .dataframe thead th {\n        text-align: right;\n    }\n</style>\n<table border=\"1\" class=\"dataframe\">\n  <thead>\n    <tr style=\"text-align: right;\">\n      <th></th>\n      <th>YEAR</th>\n      <th>MONTH</th>\n      <th>DAY</th>\n      <th>HOUR</th>\n      <th>MINUTE</th>\n      <th>SECOND</th>\n      <th>LATITUDE</th>\n      <th>LONGITUDE</th>\n      <th>DEPTH</th>\n      <th>MAGNITUDE</th>\n      <th>T</th>\n      <th>DAY_NAME</th>\n    </tr>\n    <tr>\n      <th>DATETIME</th>\n      <th></th>\n      <th></th>\n      <th></th>\n      <th></th>\n      <th></th>\n      <th></th>\n      <th></th>\n      <th></th>\n      <th></th>\n      <th></th>\n      <th></th>\n      <th></th>\n    </tr>\n  </thead>\n  <tbody>\n    <tr>\n      <th>2000-01-01 01:19:28.300</th>\n      <td>2000</td>\n      <td>JAN</td>\n      <td>1</td>\n      <td>1</td>\n      <td>19</td>\n      <td>28.3</td>\n      <td>41.95</td>\n      <td>20.63</td>\n      <td>5</td>\n      <td>4.8</td>\n      <td>2000-01-01T01:19:28.3Z</td>\n      <td>Saturday</td>\n    </tr>\n    <tr>\n      <th>2000-01-01 04:02:28.400</th>\n      <td>2000</td>\n      <td>JAN</td>\n      <td>1</td>\n      <td>4</td>\n      <td>2</td>\n      <td>28.4</td>\n      <td>35.54</td>\n      <td>22.76</td>\n      <td>22</td>\n      <td>3.7</td>\n      <td>2000-01-01T04:02:28.4Z</td>\n      <td>Saturday</td>\n    </tr>\n    <tr>\n      <th>2000-01-01 05:13:59.100</th>\n      <td>2000</td>\n      <td>JAN</td>\n      <td>1</td>\n      <td>5</td>\n      <td>13</td>\n      <td>59.1</td>\n      <td>38.97</td>\n      <td>26.10</td>\n      <td>35</td>\n      <td>3.3</td>\n      <td>2000-01-01T05:13:59.1Z</td>\n      <td>Saturday</td>\n    </tr>\n    <tr>\n      <th>2000-01-01 05:17:12.900</th>\n      <td>2000</td>\n      <td>JAN</td>\n      <td>1</td>\n      <td>5</td>\n      <td>17</td>\n      <td>12.9</td>\n      <td>38.89</td>\n      <td>25.85</td>\n      <td>22</td>\n      <td>3.3</td>\n      <td>2000-01-01T05:17:12.9Z</td>\n      <td>Saturday</td>\n    </tr>\n    <tr>\n      <th>2000-01-01 05:56:07.300</th>\n      <td>2000</td>\n      <td>JAN</td>\n      <td>1</td>\n      <td>5</td>\n      <td>56</td>\n      <td>7.3</td>\n      <td>39.21</td>\n      <td>27.30</td>\n      <td>10</td>\n      <td>3.6</td>\n      <td>2000-01-01T05:56:07.3Z</td>\n      <td>Saturday</td>\n    </tr>\n    <tr>\n      <th>...</th>\n      <td>...</td>\n      <td>...</td>\n      <td>...</td>\n      <td>...</td>\n      <td>...</td>\n      <td>...</td>\n      <td>...</td>\n      <td>...</td>\n      <td>...</td>\n      <td>...</td>\n      <td>...</td>\n      <td>...</td>\n    </tr>\n    <tr>\n      <th>2009-12-31 14:24:01.200</th>\n      <td>2009</td>\n      <td>DEC</td>\n      <td>31</td>\n      <td>14</td>\n      <td>24</td>\n      <td>1.2</td>\n      <td>37.47</td>\n      <td>21.83</td>\n      <td>21</td>\n      <td>2.8</td>\n      <td>2009-12-31T14:24:01.2Z</td>\n      <td>Thursday</td>\n    </tr>\n    <tr>\n      <th>2009-12-31 14:50:29.600</th>\n      <td>2009</td>\n      <td>DEC</td>\n      <td>31</td>\n      <td>14</td>\n      <td>50</td>\n      <td>29.6</td>\n      <td>34.67</td>\n      <td>24.42</td>\n      <td>15</td>\n      <td>3.4</td>\n      <td>2009-12-31T14:50:29.6Z</td>\n      <td>Thursday</td>\n    </tr>\n    <tr>\n      <th>2009-12-31 17:27:45.800</th>\n      <td>2009</td>\n      <td>DEC</td>\n      <td>31</td>\n      <td>17</td>\n      <td>27</td>\n      <td>45.8</td>\n      <td>35.68</td>\n      <td>23.47</td>\n      <td>5</td>\n      <td>2.9</td>\n      <td>2009-12-31T17:27:45.8Z</td>\n      <td>Thursday</td>\n    </tr>\n    <tr>\n      <th>2009-12-31 20:43:12.900</th>\n      <td>2009</td>\n      <td>DEC</td>\n      <td>31</td>\n      <td>20</td>\n      <td>43</td>\n      <td>12.9</td>\n      <td>36.37</td>\n      <td>21.61</td>\n      <td>11</td>\n      <td>3.2</td>\n      <td>2009-12-31T20:43:12.9Z</td>\n      <td>Thursday</td>\n    </tr>\n    <tr>\n      <th>2009-12-31 20:58:40.800</th>\n      <td>2009</td>\n      <td>DEC</td>\n      <td>31</td>\n      <td>20</td>\n      <td>58</td>\n      <td>40.8</td>\n      <td>39.70</td>\n      <td>20.76</td>\n      <td>18</td>\n      <td>2.8</td>\n      <td>2009-12-31T20:58:40.8Z</td>\n      <td>Thursday</td>\n    </tr>\n  </tbody>\n</table>\n<p>52257 rows × 12 columns</p>\n</div>"
     },
     "metadata": {},
     "execution_count": 168
    }
   ],
   "source": [
    "df"
   ]
  },
  {
   "cell_type": "code",
   "execution_count": 169,
   "metadata": {},
   "outputs": [],
   "source": [
    "df['COMMULATIVE'] = 1"
   ]
  },
  {
   "cell_type": "code",
   "execution_count": 170,
   "metadata": {},
   "outputs": [],
   "source": [
    "df['COMMULATIVE'] = df['COMMULATIVE'].cumsum()"
   ]
  },
  {
   "cell_type": "code",
   "execution_count": 171,
   "metadata": {},
   "outputs": [
    {
     "output_type": "execute_result",
     "data": {
      "text/plain": [
       "                         YEAR MONTH  DAY  HOUR  MINUTE  SECOND  LATITUDE  \\\n",
       "DATETIME                                                                   \n",
       "2000-01-01 01:19:28.300  2000   JAN    1     1      19    28.3     41.95   \n",
       "2000-01-01 04:02:28.400  2000   JAN    1     4       2    28.4     35.54   \n",
       "2000-01-01 05:13:59.100  2000   JAN    1     5      13    59.1     38.97   \n",
       "2000-01-01 05:17:12.900  2000   JAN    1     5      17    12.9     38.89   \n",
       "2000-01-01 05:56:07.300  2000   JAN    1     5      56     7.3     39.21   \n",
       "...                       ...   ...  ...   ...     ...     ...       ...   \n",
       "2009-12-31 14:24:01.200  2009   DEC   31    14      24     1.2     37.47   \n",
       "2009-12-31 14:50:29.600  2009   DEC   31    14      50    29.6     34.67   \n",
       "2009-12-31 17:27:45.800  2009   DEC   31    17      27    45.8     35.68   \n",
       "2009-12-31 20:43:12.900  2009   DEC   31    20      43    12.9     36.37   \n",
       "2009-12-31 20:58:40.800  2009   DEC   31    20      58    40.8     39.70   \n",
       "\n",
       "                         LONGITUDE  DEPTH  MAGNITUDE                       T  \\\n",
       "DATETIME                                                                       \n",
       "2000-01-01 01:19:28.300      20.63      5        4.8  2000-01-01T01:19:28.3Z   \n",
       "2000-01-01 04:02:28.400      22.76     22        3.7  2000-01-01T04:02:28.4Z   \n",
       "2000-01-01 05:13:59.100      26.10     35        3.3  2000-01-01T05:13:59.1Z   \n",
       "2000-01-01 05:17:12.900      25.85     22        3.3  2000-01-01T05:17:12.9Z   \n",
       "2000-01-01 05:56:07.300      27.30     10        3.6  2000-01-01T05:56:07.3Z   \n",
       "...                            ...    ...        ...                     ...   \n",
       "2009-12-31 14:24:01.200      21.83     21        2.8  2009-12-31T14:24:01.2Z   \n",
       "2009-12-31 14:50:29.600      24.42     15        3.4  2009-12-31T14:50:29.6Z   \n",
       "2009-12-31 17:27:45.800      23.47      5        2.9  2009-12-31T17:27:45.8Z   \n",
       "2009-12-31 20:43:12.900      21.61     11        3.2  2009-12-31T20:43:12.9Z   \n",
       "2009-12-31 20:58:40.800      20.76     18        2.8  2009-12-31T20:58:40.8Z   \n",
       "\n",
       "                         DAY_NAME  COMMULATIVE  \n",
       "DATETIME                                        \n",
       "2000-01-01 01:19:28.300  Saturday            1  \n",
       "2000-01-01 04:02:28.400  Saturday            2  \n",
       "2000-01-01 05:13:59.100  Saturday            3  \n",
       "2000-01-01 05:17:12.900  Saturday            4  \n",
       "2000-01-01 05:56:07.300  Saturday            5  \n",
       "...                           ...          ...  \n",
       "2009-12-31 14:24:01.200  Thursday        52253  \n",
       "2009-12-31 14:50:29.600  Thursday        52254  \n",
       "2009-12-31 17:27:45.800  Thursday        52255  \n",
       "2009-12-31 20:43:12.900  Thursday        52256  \n",
       "2009-12-31 20:58:40.800  Thursday        52257  \n",
       "\n",
       "[52257 rows x 13 columns]"
      ],
      "text/html": "<div>\n<style scoped>\n    .dataframe tbody tr th:only-of-type {\n        vertical-align: middle;\n    }\n\n    .dataframe tbody tr th {\n        vertical-align: top;\n    }\n\n    .dataframe thead th {\n        text-align: right;\n    }\n</style>\n<table border=\"1\" class=\"dataframe\">\n  <thead>\n    <tr style=\"text-align: right;\">\n      <th></th>\n      <th>YEAR</th>\n      <th>MONTH</th>\n      <th>DAY</th>\n      <th>HOUR</th>\n      <th>MINUTE</th>\n      <th>SECOND</th>\n      <th>LATITUDE</th>\n      <th>LONGITUDE</th>\n      <th>DEPTH</th>\n      <th>MAGNITUDE</th>\n      <th>T</th>\n      <th>DAY_NAME</th>\n      <th>COMMULATIVE</th>\n    </tr>\n    <tr>\n      <th>DATETIME</th>\n      <th></th>\n      <th></th>\n      <th></th>\n      <th></th>\n      <th></th>\n      <th></th>\n      <th></th>\n      <th></th>\n      <th></th>\n      <th></th>\n      <th></th>\n      <th></th>\n      <th></th>\n    </tr>\n  </thead>\n  <tbody>\n    <tr>\n      <th>2000-01-01 01:19:28.300</th>\n      <td>2000</td>\n      <td>JAN</td>\n      <td>1</td>\n      <td>1</td>\n      <td>19</td>\n      <td>28.3</td>\n      <td>41.95</td>\n      <td>20.63</td>\n      <td>5</td>\n      <td>4.8</td>\n      <td>2000-01-01T01:19:28.3Z</td>\n      <td>Saturday</td>\n      <td>1</td>\n    </tr>\n    <tr>\n      <th>2000-01-01 04:02:28.400</th>\n      <td>2000</td>\n      <td>JAN</td>\n      <td>1</td>\n      <td>4</td>\n      <td>2</td>\n      <td>28.4</td>\n      <td>35.54</td>\n      <td>22.76</td>\n      <td>22</td>\n      <td>3.7</td>\n      <td>2000-01-01T04:02:28.4Z</td>\n      <td>Saturday</td>\n      <td>2</td>\n    </tr>\n    <tr>\n      <th>2000-01-01 05:13:59.100</th>\n      <td>2000</td>\n      <td>JAN</td>\n      <td>1</td>\n      <td>5</td>\n      <td>13</td>\n      <td>59.1</td>\n      <td>38.97</td>\n      <td>26.10</td>\n      <td>35</td>\n      <td>3.3</td>\n      <td>2000-01-01T05:13:59.1Z</td>\n      <td>Saturday</td>\n      <td>3</td>\n    </tr>\n    <tr>\n      <th>2000-01-01 05:17:12.900</th>\n      <td>2000</td>\n      <td>JAN</td>\n      <td>1</td>\n      <td>5</td>\n      <td>17</td>\n      <td>12.9</td>\n      <td>38.89</td>\n      <td>25.85</td>\n      <td>22</td>\n      <td>3.3</td>\n      <td>2000-01-01T05:17:12.9Z</td>\n      <td>Saturday</td>\n      <td>4</td>\n    </tr>\n    <tr>\n      <th>2000-01-01 05:56:07.300</th>\n      <td>2000</td>\n      <td>JAN</td>\n      <td>1</td>\n      <td>5</td>\n      <td>56</td>\n      <td>7.3</td>\n      <td>39.21</td>\n      <td>27.30</td>\n      <td>10</td>\n      <td>3.6</td>\n      <td>2000-01-01T05:56:07.3Z</td>\n      <td>Saturday</td>\n      <td>5</td>\n    </tr>\n    <tr>\n      <th>...</th>\n      <td>...</td>\n      <td>...</td>\n      <td>...</td>\n      <td>...</td>\n      <td>...</td>\n      <td>...</td>\n      <td>...</td>\n      <td>...</td>\n      <td>...</td>\n      <td>...</td>\n      <td>...</td>\n      <td>...</td>\n      <td>...</td>\n    </tr>\n    <tr>\n      <th>2009-12-31 14:24:01.200</th>\n      <td>2009</td>\n      <td>DEC</td>\n      <td>31</td>\n      <td>14</td>\n      <td>24</td>\n      <td>1.2</td>\n      <td>37.47</td>\n      <td>21.83</td>\n      <td>21</td>\n      <td>2.8</td>\n      <td>2009-12-31T14:24:01.2Z</td>\n      <td>Thursday</td>\n      <td>52253</td>\n    </tr>\n    <tr>\n      <th>2009-12-31 14:50:29.600</th>\n      <td>2009</td>\n      <td>DEC</td>\n      <td>31</td>\n      <td>14</td>\n      <td>50</td>\n      <td>29.6</td>\n      <td>34.67</td>\n      <td>24.42</td>\n      <td>15</td>\n      <td>3.4</td>\n      <td>2009-12-31T14:50:29.6Z</td>\n      <td>Thursday</td>\n      <td>52254</td>\n    </tr>\n    <tr>\n      <th>2009-12-31 17:27:45.800</th>\n      <td>2009</td>\n      <td>DEC</td>\n      <td>31</td>\n      <td>17</td>\n      <td>27</td>\n      <td>45.8</td>\n      <td>35.68</td>\n      <td>23.47</td>\n      <td>5</td>\n      <td>2.9</td>\n      <td>2009-12-31T17:27:45.8Z</td>\n      <td>Thursday</td>\n      <td>52255</td>\n    </tr>\n    <tr>\n      <th>2009-12-31 20:43:12.900</th>\n      <td>2009</td>\n      <td>DEC</td>\n      <td>31</td>\n      <td>20</td>\n      <td>43</td>\n      <td>12.9</td>\n      <td>36.37</td>\n      <td>21.61</td>\n      <td>11</td>\n      <td>3.2</td>\n      <td>2009-12-31T20:43:12.9Z</td>\n      <td>Thursday</td>\n      <td>52256</td>\n    </tr>\n    <tr>\n      <th>2009-12-31 20:58:40.800</th>\n      <td>2009</td>\n      <td>DEC</td>\n      <td>31</td>\n      <td>20</td>\n      <td>58</td>\n      <td>40.8</td>\n      <td>39.70</td>\n      <td>20.76</td>\n      <td>18</td>\n      <td>2.8</td>\n      <td>2009-12-31T20:58:40.8Z</td>\n      <td>Thursday</td>\n      <td>52257</td>\n    </tr>\n  </tbody>\n</table>\n<p>52257 rows × 13 columns</p>\n</div>"
     },
     "metadata": {},
     "execution_count": 171
    }
   ],
   "source": [
    "df"
   ]
  },
  {
   "cell_type": "code",
   "execution_count": 176,
   "metadata": {},
   "outputs": [
    {
     "output_type": "execute_result",
     "data": {
      "text/plain": [
       "<pandas.core.resample.DatetimeIndexResampler object at 0x7febc3d97790>"
      ]
     },
     "metadata": {},
     "execution_count": 176
    }
   ],
   "source": [
    "df['COMMULATIVE'].resample('Y')"
   ]
  },
  {
   "source": [
    "## display plots within browser"
   ],
   "cell_type": "markdown",
   "metadata": {}
  },
  {
   "cell_type": "code",
   "execution_count": 174,
   "metadata": {},
   "outputs": [],
   "source": [
    "%matplotlib inline"
   ]
  },
  {
   "cell_type": "code",
   "execution_count": 177,
   "metadata": {},
   "outputs": [
    {
     "output_type": "execute_result",
     "data": {
      "text/plain": [
       "DATETIME\n",
       "2000-12-31    AxesSubplot(0.125,0.2;0.775x0.68)\n",
       "2001-12-31    AxesSubplot(0.125,0.2;0.775x0.68)\n",
       "2002-12-31    AxesSubplot(0.125,0.2;0.775x0.68)\n",
       "2003-12-31    AxesSubplot(0.125,0.2;0.775x0.68)\n",
       "2004-12-31    AxesSubplot(0.125,0.2;0.775x0.68)\n",
       "2005-12-31    AxesSubplot(0.125,0.2;0.775x0.68)\n",
       "2006-12-31    AxesSubplot(0.125,0.2;0.775x0.68)\n",
       "2007-12-31    AxesSubplot(0.125,0.2;0.775x0.68)\n",
       "2008-12-31    AxesSubplot(0.125,0.2;0.775x0.68)\n",
       "2009-12-31    AxesSubplot(0.125,0.2;0.775x0.68)\n",
       "Freq: A-DEC, Name: COMMULATIVE, dtype: object"
      ]
     },
     "metadata": {},
     "execution_count": 177
    },
    {
     "output_type": "display_data",
     "data": {
      "text/plain": "<Figure size 432x288 with 1 Axes>",
      "image/svg+xml": "<?xml version=\"1.0\" encoding=\"utf-8\" standalone=\"no\"?>\n<!DOCTYPE svg PUBLIC \"-//W3C//DTD SVG 1.1//EN\"\n  \"http://www.w3.org/Graphics/SVG/1.1/DTD/svg11.dtd\">\n<!-- Created with matplotlib (https://matplotlib.org/) -->\n<svg height=\"238.346502pt\" version=\"1.1\" viewBox=\"0 0 388.0125 238.346502\" width=\"388.0125pt\" xmlns=\"http://www.w3.org/2000/svg\" xmlns:xlink=\"http://www.w3.org/1999/xlink\">\n <metadata>\n  <rdf:RDF xmlns:cc=\"http://creativecommons.org/ns#\" xmlns:dc=\"http://purl.org/dc/elements/1.1/\" xmlns:rdf=\"http://www.w3.org/1999/02/22-rdf-syntax-ns#\">\n   <cc:Work>\n    <dc:type rdf:resource=\"http://purl.org/dc/dcmitype/StillImage\"/>\n    <dc:date>2021-04-11T13:13:04.261367</dc:date>\n    <dc:format>image/svg+xml</dc:format>\n    <dc:creator>\n     <cc:Agent>\n      <dc:title>Matplotlib v3.3.2, https://matplotlib.org/</dc:title>\n     </cc:Agent>\n    </dc:creator>\n   </cc:Work>\n  </rdf:RDF>\n </metadata>\n <defs>\n  <style type=\"text/css\">*{stroke-linecap:butt;stroke-linejoin:round;}</style>\n </defs>\n <g id=\"figure_1\">\n  <g id=\"patch_1\">\n   <path d=\"M 0 238.346502 \nL 388.0125 238.346502 \nL 388.0125 0 \nL 0 0 \nz\n\" style=\"fill:none;\"/>\n  </g>\n  <g id=\"axes_1\">\n   <g id=\"patch_2\">\n    <path d=\"M 46.0125 203.04 \nL 380.8125 203.04 \nL 380.8125 7.2 \nL 46.0125 7.2 \nz\n\" style=\"fill:#ffffff;\"/>\n   </g>\n   <g id=\"matplotlib.axis_1\">\n    <g id=\"xtick_1\">\n     <g id=\"line2d_1\">\n      <defs>\n       <path d=\"M 0 0 \nL 0 3.5 \n\" id=\"m6191938093\" style=\"stroke:#000000;stroke-width:0.8;\"/>\n      </defs>\n      <g>\n       <use style=\"stroke:#000000;stroke-width:0.8;\" x=\"61.226084\" xlink:href=\"#m6191938093\" y=\"203.04\"/>\n      </g>\n     </g>\n     <g id=\"text_1\">\n      <!-- 2000 -->\n      <g transform=\"translate(38.145894 229.34544)rotate(-30)scale(0.1 -0.1)\">\n       <defs>\n        <path d=\"M 19.1875 8.296875 \nL 53.609375 8.296875 \nL 53.609375 0 \nL 7.328125 0 \nL 7.328125 8.296875 \nQ 12.9375 14.109375 22.625 23.890625 \nQ 32.328125 33.6875 34.8125 36.53125 \nQ 39.546875 41.84375 41.421875 45.53125 \nQ 43.3125 49.21875 43.3125 52.78125 \nQ 43.3125 58.59375 39.234375 62.25 \nQ 35.15625 65.921875 28.609375 65.921875 \nQ 23.96875 65.921875 18.8125 64.3125 \nQ 13.671875 62.703125 7.8125 59.421875 \nL 7.8125 69.390625 \nQ 13.765625 71.78125 18.9375 73 \nQ 24.125 74.21875 28.421875 74.21875 \nQ 39.75 74.21875 46.484375 68.546875 \nQ 53.21875 62.890625 53.21875 53.421875 \nQ 53.21875 48.921875 51.53125 44.890625 \nQ 49.859375 40.875 45.40625 35.40625 \nQ 44.1875 33.984375 37.640625 27.21875 \nQ 31.109375 20.453125 19.1875 8.296875 \nz\n\" id=\"DejaVuSans-50\"/>\n        <path d=\"M 31.78125 66.40625 \nQ 24.171875 66.40625 20.328125 58.90625 \nQ 16.5 51.421875 16.5 36.375 \nQ 16.5 21.390625 20.328125 13.890625 \nQ 24.171875 6.390625 31.78125 6.390625 \nQ 39.453125 6.390625 43.28125 13.890625 \nQ 47.125 21.390625 47.125 36.375 \nQ 47.125 51.421875 43.28125 58.90625 \nQ 39.453125 66.40625 31.78125 66.40625 \nz\nM 31.78125 74.21875 \nQ 44.046875 74.21875 50.515625 64.515625 \nQ 56.984375 54.828125 56.984375 36.375 \nQ 56.984375 17.96875 50.515625 8.265625 \nQ 44.046875 -1.421875 31.78125 -1.421875 \nQ 19.53125 -1.421875 13.0625 8.265625 \nQ 6.59375 17.96875 6.59375 36.375 \nQ 6.59375 54.828125 13.0625 64.515625 \nQ 19.53125 74.21875 31.78125 74.21875 \nz\n\" id=\"DejaVuSans-48\"/>\n       </defs>\n       <use xlink:href=\"#DejaVuSans-50\"/>\n       <use x=\"63.623047\" xlink:href=\"#DejaVuSans-48\"/>\n       <use x=\"127.246094\" xlink:href=\"#DejaVuSans-48\"/>\n       <use x=\"190.869141\" xlink:href=\"#DejaVuSans-48\"/>\n      </g>\n     </g>\n    </g>\n    <g id=\"xtick_2\">\n     <g id=\"line2d_2\">\n      <g>\n       <use style=\"stroke:#000000;stroke-width:0.8;\" x=\"122.135158\" xlink:href=\"#m6191938093\" y=\"203.04\"/>\n      </g>\n     </g>\n     <g id=\"text_2\">\n      <!-- 2002 -->\n      <g transform=\"translate(99.054968 229.34544)rotate(-30)scale(0.1 -0.1)\">\n       <use xlink:href=\"#DejaVuSans-50\"/>\n       <use x=\"63.623047\" xlink:href=\"#DejaVuSans-48\"/>\n       <use x=\"127.246094\" xlink:href=\"#DejaVuSans-48\"/>\n       <use x=\"190.869141\" xlink:href=\"#DejaVuSans-50\"/>\n      </g>\n     </g>\n    </g>\n    <g id=\"xtick_3\">\n     <g id=\"line2d_3\">\n      <g>\n       <use style=\"stroke:#000000;stroke-width:0.8;\" x=\"182.96091\" xlink:href=\"#m6191938093\" y=\"203.04\"/>\n      </g>\n     </g>\n     <g id=\"text_3\">\n      <!-- 2004 -->\n      <g transform=\"translate(159.88072 229.34544)rotate(-30)scale(0.1 -0.1)\">\n       <defs>\n        <path d=\"M 37.796875 64.3125 \nL 12.890625 25.390625 \nL 37.796875 25.390625 \nz\nM 35.203125 72.90625 \nL 47.609375 72.90625 \nL 47.609375 25.390625 \nL 58.015625 25.390625 \nL 58.015625 17.1875 \nL 47.609375 17.1875 \nL 47.609375 0 \nL 37.796875 0 \nL 37.796875 17.1875 \nL 4.890625 17.1875 \nL 4.890625 26.703125 \nz\n\" id=\"DejaVuSans-52\"/>\n       </defs>\n       <use xlink:href=\"#DejaVuSans-50\"/>\n       <use x=\"63.623047\" xlink:href=\"#DejaVuSans-48\"/>\n       <use x=\"127.246094\" xlink:href=\"#DejaVuSans-48\"/>\n       <use x=\"190.869141\" xlink:href=\"#DejaVuSans-52\"/>\n      </g>\n     </g>\n    </g>\n    <g id=\"xtick_4\">\n     <g id=\"line2d_4\">\n      <g>\n       <use style=\"stroke:#000000;stroke-width:0.8;\" x=\"243.869985\" xlink:href=\"#m6191938093\" y=\"203.04\"/>\n      </g>\n     </g>\n     <g id=\"text_4\">\n      <!-- 2006 -->\n      <g transform=\"translate(220.789794 229.34544)rotate(-30)scale(0.1 -0.1)\">\n       <defs>\n        <path d=\"M 33.015625 40.375 \nQ 26.375 40.375 22.484375 35.828125 \nQ 18.609375 31.296875 18.609375 23.390625 \nQ 18.609375 15.53125 22.484375 10.953125 \nQ 26.375 6.390625 33.015625 6.390625 \nQ 39.65625 6.390625 43.53125 10.953125 \nQ 47.40625 15.53125 47.40625 23.390625 \nQ 47.40625 31.296875 43.53125 35.828125 \nQ 39.65625 40.375 33.015625 40.375 \nz\nM 52.59375 71.296875 \nL 52.59375 62.3125 \nQ 48.875 64.0625 45.09375 64.984375 \nQ 41.3125 65.921875 37.59375 65.921875 \nQ 27.828125 65.921875 22.671875 59.328125 \nQ 17.53125 52.734375 16.796875 39.40625 \nQ 19.671875 43.65625 24.015625 45.921875 \nQ 28.375 48.1875 33.59375 48.1875 \nQ 44.578125 48.1875 50.953125 41.515625 \nQ 57.328125 34.859375 57.328125 23.390625 \nQ 57.328125 12.15625 50.6875 5.359375 \nQ 44.046875 -1.421875 33.015625 -1.421875 \nQ 20.359375 -1.421875 13.671875 8.265625 \nQ 6.984375 17.96875 6.984375 36.375 \nQ 6.984375 53.65625 15.1875 63.9375 \nQ 23.390625 74.21875 37.203125 74.21875 \nQ 40.921875 74.21875 44.703125 73.484375 \nQ 48.484375 72.75 52.59375 71.296875 \nz\n\" id=\"DejaVuSans-54\"/>\n       </defs>\n       <use xlink:href=\"#DejaVuSans-50\"/>\n       <use x=\"63.623047\" xlink:href=\"#DejaVuSans-48\"/>\n       <use x=\"127.246094\" xlink:href=\"#DejaVuSans-48\"/>\n       <use x=\"190.869141\" xlink:href=\"#DejaVuSans-54\"/>\n      </g>\n     </g>\n    </g>\n    <g id=\"xtick_5\">\n     <g id=\"line2d_5\">\n      <g>\n       <use style=\"stroke:#000000;stroke-width:0.8;\" x=\"304.695736\" xlink:href=\"#m6191938093\" y=\"203.04\"/>\n      </g>\n     </g>\n     <g id=\"text_5\">\n      <!-- 2008 -->\n      <g transform=\"translate(281.615546 229.34544)rotate(-30)scale(0.1 -0.1)\">\n       <defs>\n        <path d=\"M 31.78125 34.625 \nQ 24.75 34.625 20.71875 30.859375 \nQ 16.703125 27.09375 16.703125 20.515625 \nQ 16.703125 13.921875 20.71875 10.15625 \nQ 24.75 6.390625 31.78125 6.390625 \nQ 38.8125 6.390625 42.859375 10.171875 \nQ 46.921875 13.96875 46.921875 20.515625 \nQ 46.921875 27.09375 42.890625 30.859375 \nQ 38.875 34.625 31.78125 34.625 \nz\nM 21.921875 38.8125 \nQ 15.578125 40.375 12.03125 44.71875 \nQ 8.5 49.078125 8.5 55.328125 \nQ 8.5 64.0625 14.71875 69.140625 \nQ 20.953125 74.21875 31.78125 74.21875 \nQ 42.671875 74.21875 48.875 69.140625 \nQ 55.078125 64.0625 55.078125 55.328125 \nQ 55.078125 49.078125 51.53125 44.71875 \nQ 48 40.375 41.703125 38.8125 \nQ 48.828125 37.15625 52.796875 32.3125 \nQ 56.78125 27.484375 56.78125 20.515625 \nQ 56.78125 9.90625 50.3125 4.234375 \nQ 43.84375 -1.421875 31.78125 -1.421875 \nQ 19.734375 -1.421875 13.25 4.234375 \nQ 6.78125 9.90625 6.78125 20.515625 \nQ 6.78125 27.484375 10.78125 32.3125 \nQ 14.796875 37.15625 21.921875 38.8125 \nz\nM 18.3125 54.390625 \nQ 18.3125 48.734375 21.84375 45.5625 \nQ 25.390625 42.390625 31.78125 42.390625 \nQ 38.140625 42.390625 41.71875 45.5625 \nQ 45.3125 48.734375 45.3125 54.390625 \nQ 45.3125 60.0625 41.71875 63.234375 \nQ 38.140625 66.40625 31.78125 66.40625 \nQ 25.390625 66.40625 21.84375 63.234375 \nQ 18.3125 60.0625 18.3125 54.390625 \nz\n\" id=\"DejaVuSans-56\"/>\n       </defs>\n       <use xlink:href=\"#DejaVuSans-50\"/>\n       <use x=\"63.623047\" xlink:href=\"#DejaVuSans-48\"/>\n       <use x=\"127.246094\" xlink:href=\"#DejaVuSans-48\"/>\n       <use x=\"190.869141\" xlink:href=\"#DejaVuSans-56\"/>\n      </g>\n     </g>\n    </g>\n    <g id=\"xtick_6\">\n     <g id=\"line2d_6\">\n      <g>\n       <use style=\"stroke:#000000;stroke-width:0.8;\" x=\"365.604811\" xlink:href=\"#m6191938093\" y=\"203.04\"/>\n      </g>\n     </g>\n     <g id=\"text_6\">\n      <!-- 2010 -->\n      <g transform=\"translate(342.52462 229.34544)rotate(-30)scale(0.1 -0.1)\">\n       <defs>\n        <path d=\"M 12.40625 8.296875 \nL 28.515625 8.296875 \nL 28.515625 63.921875 \nL 10.984375 60.40625 \nL 10.984375 69.390625 \nL 28.421875 72.90625 \nL 38.28125 72.90625 \nL 38.28125 8.296875 \nL 54.390625 8.296875 \nL 54.390625 0 \nL 12.40625 0 \nz\n\" id=\"DejaVuSans-49\"/>\n       </defs>\n       <use xlink:href=\"#DejaVuSans-50\"/>\n       <use x=\"63.623047\" xlink:href=\"#DejaVuSans-48\"/>\n       <use x=\"127.246094\" xlink:href=\"#DejaVuSans-49\"/>\n       <use x=\"190.869141\" xlink:href=\"#DejaVuSans-48\"/>\n      </g>\n     </g>\n    </g>\n   </g>\n   <g id=\"matplotlib.axis_2\">\n    <g id=\"ytick_1\">\n     <g id=\"line2d_7\">\n      <defs>\n       <path d=\"M 0 0 \nL -3.5 0 \n\" id=\"m3c25209f4a\" style=\"stroke:#000000;stroke-width:0.8;\"/>\n      </defs>\n      <g>\n       <use style=\"stroke:#000000;stroke-width:0.8;\" x=\"46.0125\" xlink:href=\"#m3c25209f4a\" y=\"194.141589\"/>\n      </g>\n     </g>\n     <g id=\"text_7\">\n      <!-- 0 -->\n      <g transform=\"translate(32.65 197.940808)scale(0.1 -0.1)\">\n       <use xlink:href=\"#DejaVuSans-48\"/>\n      </g>\n     </g>\n    </g>\n    <g id=\"ytick_2\">\n     <g id=\"line2d_8\">\n      <g>\n       <use style=\"stroke:#000000;stroke-width:0.8;\" x=\"46.0125\" xlink:href=\"#m3c25209f4a\" y=\"160.071556\"/>\n      </g>\n     </g>\n     <g id=\"text_8\">\n      <!-- 10000 -->\n      <g transform=\"translate(7.2 163.870775)scale(0.1 -0.1)\">\n       <use xlink:href=\"#DejaVuSans-49\"/>\n       <use x=\"63.623047\" xlink:href=\"#DejaVuSans-48\"/>\n       <use x=\"127.246094\" xlink:href=\"#DejaVuSans-48\"/>\n       <use x=\"190.869141\" xlink:href=\"#DejaVuSans-48\"/>\n       <use x=\"254.492188\" xlink:href=\"#DejaVuSans-48\"/>\n      </g>\n     </g>\n    </g>\n    <g id=\"ytick_3\">\n     <g id=\"line2d_9\">\n      <g>\n       <use style=\"stroke:#000000;stroke-width:0.8;\" x=\"46.0125\" xlink:href=\"#m3c25209f4a\" y=\"126.001523\"/>\n      </g>\n     </g>\n     <g id=\"text_9\">\n      <!-- 20000 -->\n      <g transform=\"translate(7.2 129.800742)scale(0.1 -0.1)\">\n       <use xlink:href=\"#DejaVuSans-50\"/>\n       <use x=\"63.623047\" xlink:href=\"#DejaVuSans-48\"/>\n       <use x=\"127.246094\" xlink:href=\"#DejaVuSans-48\"/>\n       <use x=\"190.869141\" xlink:href=\"#DejaVuSans-48\"/>\n       <use x=\"254.492188\" xlink:href=\"#DejaVuSans-48\"/>\n      </g>\n     </g>\n    </g>\n    <g id=\"ytick_4\">\n     <g id=\"line2d_10\">\n      <g>\n       <use style=\"stroke:#000000;stroke-width:0.8;\" x=\"46.0125\" xlink:href=\"#m3c25209f4a\" y=\"91.93149\"/>\n      </g>\n     </g>\n     <g id=\"text_10\">\n      <!-- 30000 -->\n      <g transform=\"translate(7.2 95.730709)scale(0.1 -0.1)\">\n       <defs>\n        <path d=\"M 40.578125 39.3125 \nQ 47.65625 37.796875 51.625 33 \nQ 55.609375 28.21875 55.609375 21.1875 \nQ 55.609375 10.40625 48.1875 4.484375 \nQ 40.765625 -1.421875 27.09375 -1.421875 \nQ 22.515625 -1.421875 17.65625 -0.515625 \nQ 12.796875 0.390625 7.625 2.203125 \nL 7.625 11.71875 \nQ 11.71875 9.328125 16.59375 8.109375 \nQ 21.484375 6.890625 26.8125 6.890625 \nQ 36.078125 6.890625 40.9375 10.546875 \nQ 45.796875 14.203125 45.796875 21.1875 \nQ 45.796875 27.640625 41.28125 31.265625 \nQ 36.765625 34.90625 28.71875 34.90625 \nL 20.21875 34.90625 \nL 20.21875 43.015625 \nL 29.109375 43.015625 \nQ 36.375 43.015625 40.234375 45.921875 \nQ 44.09375 48.828125 44.09375 54.296875 \nQ 44.09375 59.90625 40.109375 62.90625 \nQ 36.140625 65.921875 28.71875 65.921875 \nQ 24.65625 65.921875 20.015625 65.03125 \nQ 15.375 64.15625 9.8125 62.3125 \nL 9.8125 71.09375 \nQ 15.4375 72.65625 20.34375 73.4375 \nQ 25.25 74.21875 29.59375 74.21875 \nQ 40.828125 74.21875 47.359375 69.109375 \nQ 53.90625 64.015625 53.90625 55.328125 \nQ 53.90625 49.265625 50.4375 45.09375 \nQ 46.96875 40.921875 40.578125 39.3125 \nz\n\" id=\"DejaVuSans-51\"/>\n       </defs>\n       <use xlink:href=\"#DejaVuSans-51\"/>\n       <use x=\"63.623047\" xlink:href=\"#DejaVuSans-48\"/>\n       <use x=\"127.246094\" xlink:href=\"#DejaVuSans-48\"/>\n       <use x=\"190.869141\" xlink:href=\"#DejaVuSans-48\"/>\n       <use x=\"254.492188\" xlink:href=\"#DejaVuSans-48\"/>\n      </g>\n     </g>\n    </g>\n    <g id=\"ytick_5\">\n     <g id=\"line2d_11\">\n      <g>\n       <use style=\"stroke:#000000;stroke-width:0.8;\" x=\"46.0125\" xlink:href=\"#m3c25209f4a\" y=\"57.861457\"/>\n      </g>\n     </g>\n     <g id=\"text_11\">\n      <!-- 40000 -->\n      <g transform=\"translate(7.2 61.660676)scale(0.1 -0.1)\">\n       <use xlink:href=\"#DejaVuSans-52\"/>\n       <use x=\"63.623047\" xlink:href=\"#DejaVuSans-48\"/>\n       <use x=\"127.246094\" xlink:href=\"#DejaVuSans-48\"/>\n       <use x=\"190.869141\" xlink:href=\"#DejaVuSans-48\"/>\n       <use x=\"254.492188\" xlink:href=\"#DejaVuSans-48\"/>\n      </g>\n     </g>\n    </g>\n    <g id=\"ytick_6\">\n     <g id=\"line2d_12\">\n      <g>\n       <use style=\"stroke:#000000;stroke-width:0.8;\" x=\"46.0125\" xlink:href=\"#m3c25209f4a\" y=\"23.791425\"/>\n      </g>\n     </g>\n     <g id=\"text_12\">\n      <!-- 50000 -->\n      <g transform=\"translate(7.2 27.590643)scale(0.1 -0.1)\">\n       <defs>\n        <path d=\"M 10.796875 72.90625 \nL 49.515625 72.90625 \nL 49.515625 64.59375 \nL 19.828125 64.59375 \nL 19.828125 46.734375 \nQ 21.96875 47.46875 24.109375 47.828125 \nQ 26.265625 48.1875 28.421875 48.1875 \nQ 40.625 48.1875 47.75 41.5 \nQ 54.890625 34.8125 54.890625 23.390625 \nQ 54.890625 11.625 47.5625 5.09375 \nQ 40.234375 -1.421875 26.90625 -1.421875 \nQ 22.3125 -1.421875 17.546875 -0.640625 \nQ 12.796875 0.140625 7.71875 1.703125 \nL 7.71875 11.625 \nQ 12.109375 9.234375 16.796875 8.0625 \nQ 21.484375 6.890625 26.703125 6.890625 \nQ 35.15625 6.890625 40.078125 11.328125 \nQ 45.015625 15.765625 45.015625 23.390625 \nQ 45.015625 31 40.078125 35.4375 \nQ 35.15625 39.890625 26.703125 39.890625 \nQ 22.75 39.890625 18.8125 39.015625 \nQ 14.890625 38.140625 10.796875 36.28125 \nz\n\" id=\"DejaVuSans-53\"/>\n       </defs>\n       <use xlink:href=\"#DejaVuSans-53\"/>\n       <use x=\"63.623047\" xlink:href=\"#DejaVuSans-48\"/>\n       <use x=\"127.246094\" xlink:href=\"#DejaVuSans-48\"/>\n       <use x=\"190.869141\" xlink:href=\"#DejaVuSans-48\"/>\n       <use x=\"254.492188\" xlink:href=\"#DejaVuSans-48\"/>\n      </g>\n     </g>\n    </g>\n   </g>\n   <g id=\"line2d_13\">\n    <path clip-path=\"url(#p2609a88e8a)\" d=\"M 61.230682 194.138182 \nL 61.849165 194.01553 \nL 63.045813 193.841773 \nL 63.156053 193.824738 \nL 64.192049 193.603282 \nL 64.291634 193.586247 \nL 68.488182 192.843521 \nL 68.627457 192.816265 \nL 70.892747 192.284772 \nL 71.096713 192.16212 \nL 71.639624 191.896374 \nL 73.244873 191.555673 \nL 73.406336 191.293334 \nL 74.182076 190.80954 \nL 74.324818 190.703923 \nL 74.9062 190.530165 \nL 75.321254 190.329152 \nL 75.564538 190.203093 \nL 75.677989 190.145174 \nL 76.228321 189.985045 \nL 77.287359 189.651158 \nL 82.353313 188.496184 \nL 82.787194 188.376939 \nL 88.807714 186.986882 \nL 89.296023 186.86423 \nL 89.401943 186.847195 \nL 91.704983 186.370214 \nL 91.704983 186.370214 \n\" style=\"fill:none;stroke:#1f77b4;stroke-linecap:square;stroke-width:1.5;\"/>\n   </g>\n   <g id=\"line2d_14\">\n    <path clip-path=\"url(#p2609a88e8a)\" d=\"M 91.754085 186.366807 \nL 92.631004 186.169201 \nL 93.365841 185.998851 \nL 93.931318 185.876199 \nL 95.411431 185.559348 \nL 95.726549 185.480986 \nL 96.514369 185.31745 \nL 97.388817 185.136879 \nL 99.300189 184.77233 \nL 100.30927 184.530433 \nL 100.515405 184.462292 \nL 101.929462 184.216988 \nL 102.06218 184.189732 \nL 104.54351 183.630984 \nL 105.145034 183.307318 \nL 105.687471 182.908699 \nL 106.190768 182.704279 \nL 106.350507 182.642953 \nL 107.730858 182.251147 \nL 108.225394 182.114867 \nL 108.336139 182.060355 \nL 108.579121 182.019471 \nL 108.899498 181.893412 \nL 108.984047 181.678771 \nL 109.239291 181.562933 \nL 109.725283 181.120022 \nL 109.930829 180.987149 \nL 110.268925 180.75888 \nL 111.21662 180.394331 \nL 111.643956 180.264864 \nL 111.760388 180.213759 \nL 111.987831 180.15584 \nL 112.810988 179.91735 \nL 112.978408 179.866245 \nL 113.442593 179.699302 \nL 113.847285 179.545987 \nL 117.916103 178.179778 \nL 118.793569 178.012835 \nL 118.97437 177.978765 \nL 120.039957 177.798194 \nL 120.453231 177.641472 \nL 121.082496 177.505192 \nL 121.208211 177.471122 \nL 121.884391 177.324621 \nL 122.13253 177.28033 \nL 122.13253 177.28033 \n\" style=\"fill:none;stroke:#ff7f0e;stroke-linecap:square;stroke-width:1.5;\"/>\n   </g>\n   <g id=\"line2d_15\">\n    <path clip-path=\"url(#p2609a88e8a)\" d=\"M 122.140955 177.276923 \nL 123.03346 177.103165 \nL 123.191483 177.048653 \nL 123.619847 176.91578 \nL 124.373734 176.578487 \nL 124.476775 176.534196 \nL 125.50335 176.305927 \nL 125.611439 176.282078 \nL 126.023886 176.098099 \nL 126.673598 175.944784 \nL 126.779593 175.927749 \nL 127.262457 175.788062 \nL 127.416796 175.736957 \nL 130.104393 175.202058 \nL 130.233713 175.181616 \nL 131.133575 174.990823 \nL 132.228243 174.762554 \nL 133.671219 174.438889 \nL 133.780956 174.404819 \nL 135.151477 174.186771 \nL 135.622624 174.128852 \nL 137.218978 173.859698 \nL 137.34034 173.835849 \nL 137.614771 173.692755 \nL 139.800897 173.273694 \nL 139.939914 173.243031 \nL 142.679808 172.626363 \nL 143.583581 172.268628 \nL 143.711408 172.18686 \nL 143.987266 172.053987 \nL 144.088531 171.999474 \nL 144.551453 171.846159 \nL 144.691222 171.781426 \nL 146.001327 171.369179 \nL 146.399416 171.198829 \nL 147.020783 170.963745 \nL 147.461059 170.841093 \nL 148.600682 170.527649 \nL 149.12861 170.364113 \nL 149.323301 170.292566 \nL 149.917988 170.149472 \nL 150.013853 170.135844 \nL 150.18089 170.016599 \nL 150.550618 169.849655 \nL 151.123629 169.69634 \nL 151.790157 169.468071 \nL 152.535799 169.181883 \nL 152.545886 169.137592 \nL 152.545886 169.137592 \n\" style=\"fill:none;stroke:#2ca02c;stroke-linecap:square;stroke-width:1.5;\"/>\n   </g>\n   <g id=\"line2d_16\">\n    <path clip-path=\"url(#p2609a88e8a)\" d=\"M 152.54925 169.134185 \nL 152.849704 168.967242 \nL 153.838812 168.667425 \nL 153.941926 168.643576 \nL 154.630039 168.510703 \nL 157.076205 167.785011 \nL 157.186774 167.747534 \nL 157.805016 167.583998 \nL 158.024683 167.532893 \nL 159.362742 167.236484 \nL 159.450123 167.216042 \nL 159.921792 167.09339 \nL 160.819933 166.698177 \nL 160.941352 166.616409 \nL 162.056159 166.25186 \nL 162.620668 166.129208 \nL 163.197947 165.935009 \nL 163.318178 165.890718 \nL 163.651015 165.819171 \nL 164.009037 165.676076 \nL 166.632512 164.749371 \nL 166.746044 164.647161 \nL 167.042424 164.510881 \nL 167.204831 164.459776 \nL 167.65111 164.258763 \nL 167.746359 164.2281 \nL 168.070031 164.088413 \nL 170.25677 163.311616 \nL 171.126418 163.090161 \nL 171.243398 163.056091 \nL 171.380905 162.821008 \nL 171.50383 162.470086 \nL 172.299104 161.918152 \nL 176.051537 160.909679 \nL 176.73661 160.735922 \nL 177.012194 160.643933 \nL 177.707482 160.470175 \nL 178.021421 160.398628 \nL 179.023698 160.269162 \nL 179.316058 160.143103 \nL 179.650972 160.017044 \nL 182.952521 158.994943 \nL 182.952521 158.994943 \n\" style=\"fill:none;stroke:#d62728;stroke-linecap:square;stroke-width:1.5;\"/>\n   </g>\n   <g id=\"line2d_17\">\n    <path clip-path=\"url(#p2609a88e8a)\" d=\"M 182.962762 158.991536 \nL 183.250324 158.89614 \nL 184.062231 158.701941 \nL 184.175728 158.671278 \nL 184.602045 158.53159 \nL 184.838451 158.473671 \nL 185.743002 158.252216 \nL 185.887145 158.22496 \nL 187.085378 157.9524 \nL 187.196842 157.911516 \nL 187.503574 157.81612 \nL 188.058573 157.67984 \nL 188.513795 157.570816 \nL 189.209092 157.431128 \nL 189.337003 157.393651 \nL 190.822305 156.848531 \nL 190.952982 156.794019 \nL 191.468667 156.535087 \nL 191.569962 156.483982 \nL 192.118468 156.33748 \nL 192.322267 156.26934 \nL 192.964775 156.136467 \nL 193.379054 155.99678 \nL 194.032045 155.850279 \nL 194.917489 155.530021 \nL 195.073302 155.465288 \nL 195.607639 155.298344 \nL 197.003893 154.582874 \nL 197.117257 154.528362 \nL 198.427626 153.918508 \nL 198.762821 153.778821 \nL 198.873988 153.717495 \nL 199.220953 153.536924 \nL 199.511044 153.417679 \nL 199.938807 153.271177 \nL 200.243025 153.094013 \nL 200.358956 153.049722 \nL 200.682587 152.903221 \nL 200.938779 152.705615 \nL 201.053381 152.494381 \nL 201.173816 152.324031 \nL 201.331575 152.249076 \nL 201.563522 152.088947 \nL 201.686578 152.020807 \nL 203.898338 151.03959 \nL 204.445786 150.824949 \nL 204.61533 150.705704 \nL 205.049383 150.450179 \nL 205.156796 150.422923 \nL 206.360008 149.976605 \nL 207.017149 149.663161 \nL 207.323298 149.560951 \nL 207.780755 149.376973 \nL 207.895519 149.261135 \nL 208.817186 148.920434 \nL 208.901324 148.87955 \nL 209.380935 148.729642 \nL 209.568071 148.664909 \nL 210.334779 148.43664 \nL 210.426452 148.399163 \nL 210.881827 148.249255 \nL 211.326984 148.082311 \nL 212.64448 147.62918 \nL 212.90261 147.475865 \nL 213.446166 147.278259 \nL 213.446166 147.278259 \n\" style=\"fill:none;stroke:#9467bd;stroke-linecap:square;stroke-width:1.5;\"/>\n   </g>\n   <g id=\"line2d_18\">\n    <path clip-path=\"url(#p2609a88e8a)\" d=\"M 213.457787 147.274852 \nL 214.265102 146.998884 \nL 214.399045 146.746766 \nL 214.67701 146.535532 \nL 215.126741 146.389031 \nL 215.359026 146.300449 \nL 215.741952 146.10625 \nL 216.944436 145.63949 \nL 217.75856 145.377151 \nL 217.872911 145.360116 \nL 218.522496 145.101184 \nL 220.421278 144.010942 \nL 220.609078 143.88829 \nL 220.930089 143.738382 \nL 221.756773 143.394275 \nL 224.463964 141.959927 \nL 225.037714 141.714622 \nL 225.395861 141.5579 \nL 227.620836 140.37567 \nL 227.745645 140.276867 \nL 227.95468 140.147401 \nL 228.06115 140.079261 \nL 228.377485 139.915725 \nL 228.504017 139.816921 \nL 229.03447 139.445558 \nL 229.230872 139.316092 \nL 229.505593 139.162777 \nL 230.700261 138.569958 \nL 230.853116 138.481376 \nL 231.310469 138.304212 \nL 231.517399 138.110013 \nL 232.375408 137.602369 \nL 232.475649 137.517194 \nL 232.860322 137.3741 \nL 232.951986 137.350251 \nL 233.251537 137.220785 \nL 233.399633 137.149238 \nL 233.914844 136.992516 \nL 237.57698 135.241316 \nL 237.704417 134.600799 \nL 237.877957 134.093156 \nL 238.246464 132.51912 \nL 238.374498 132.345363 \nL 238.530229 132.113687 \nL 238.722863 131.943337 \nL 238.857646 131.783208 \nL 238.961368 131.561752 \nL 239.119799 131.364146 \nL 239.334183 131.180168 \nL 239.463308 131.023446 \nL 239.627644 130.85991 \nL 240.019716 130.675932 \nL 240.268818 130.491953 \nL 242.015101 129.418747 \nL 242.150281 129.333572 \nL 242.479657 129.180257 \nL 242.848397 129.026942 \nL 242.96195 128.948581 \nL 243.308907 128.716905 \nL 243.708647 128.400053 \nL 243.820138 128.342134 \nL 243.868661 128.314878 \nL 243.868661 128.314878 \n\" style=\"fill:none;stroke:#8c564b;stroke-linecap:square;stroke-width:1.5;\"/>\n   </g>\n   <g id=\"line2d_19\">\n    <path clip-path=\"url(#p2609a88e8a)\" d=\"M 243.870504 128.311471 \nL 245.759418 127.435872 \nL 246.383199 127.211009 \nL 246.685212 127.037252 \nL 246.814686 126.952077 \nL 247.306581 126.788541 \nL 247.400159 126.74425 \nL 247.826872 126.597749 \nL 248.961495 125.861836 \nL 249.46397 125.701707 \nL 249.566595 125.640381 \nL 249.895346 125.504101 \nL 250.119373 125.347379 \nL 250.452627 125.112295 \nL 250.618996 125.010085 \nL 251.032479 124.819293 \nL 251.758552 124.41386 \nL 252.062958 124.270765 \nL 252.202984 124.137892 \nL 252.36974 123.555295 \nL 252.528075 123.272513 \nL 252.643487 123.098756 \nL 252.744024 122.93522 \nL 252.88908 122.618369 \nL 253.025467 122.410542 \nL 253.115451 122.209528 \nL 253.22977 121.964224 \nL 253.365845 121.71892 \nL 253.511157 121.541756 \nL 253.86657 121.218091 \nL 256.648811 119.405565 \nL 257.093462 119.211366 \nL 257.20181 119.088713 \nL 257.367285 118.938805 \nL 257.565026 118.802525 \nL 257.795691 118.64921 \nL 257.927501 118.434569 \nL 258.926763 117.759982 \nL 259.427435 117.480608 \nL 259.636338 117.340921 \nL 259.99645 117.191013 \nL 261.827967 116.264308 \nL 261.932989 116.141656 \nL 262.162053 115.950863 \nL 262.52333 115.736222 \nL 263.368783 115.300126 \nL 263.488159 115.245614 \nL 263.622035 115.10252 \nL 263.948372 114.877657 \nL 264.066745 114.843587 \nL 264.193301 114.799296 \nL 264.700928 114.56762 \nL 265.048986 114.434747 \nL 265.478511 114.298467 \nL 265.618101 114.189443 \nL 266.023371 113.995244 \nL 266.7533 113.719276 \nL 266.899952 113.606845 \nL 267.224582 113.443309 \nL 267.33908 113.38539 \nL 268.273216 113.020841 \nL 268.394197 112.870932 \nL 268.584857 112.731245 \nL 268.800862 112.560895 \nL 269.169958 112.393952 \nL 269.377536 112.274707 \nL 269.848345 112.117985 \nL 269.960298 112.03281 \nL 270.111079 111.961263 \nL 270.528143 111.80454 \nL 270.9669 111.56605 \nL 271.23291 111.433177 \nL 271.385587 111.341188 \nL 271.970246 111.078849 \nL 272.08165 111.000488 \nL 272.195431 110.956197 \nL 273.186816 110.438332 \nL 273.704108 110.131702 \nL 273.972269 109.992015 \nL 274.07771 109.930689 \nL 274.276939 109.882991 \nL 274.276939 109.882991 \n\" style=\"fill:none;stroke:#e377c2;stroke-linecap:square;stroke-width:1.5;\"/>\n   </g>\n   <g id=\"line2d_20\">\n    <path clip-path=\"url(#p2609a88e8a)\" d=\"M 274.296579 109.879584 \nL 274.38895 109.859142 \nL 274.730162 109.719454 \nL 274.909295 109.572953 \nL 275.124161 109.378754 \nL 275.290267 109.249288 \nL 275.511341 109.089159 \nL 275.710347 108.949472 \nL 275.928523 108.82682 \nL 276.436241 108.591736 \nL 276.682935 108.458863 \nL 277.011938 108.308955 \nL 277.164365 108.25785 \nL 281.186065 106.70085 \nL 281.269062 106.585011 \nL 281.420957 106.288602 \nL 281.57093 106.108031 \nL 281.798804 105.811622 \nL 281.942326 105.6549 \nL 282.210394 105.32442 \nL 282.424357 105.174512 \nL 282.539664 105.028011 \nL 282.557433 104.861068 \nL 282.685355 104.455634 \nL 282.958856 104.155818 \nL 283.089924 104.029759 \nL 283.35279 103.866223 \nL 284.151382 103.317695 \nL 284.388732 103.154159 \nL 284.783497 102.78961 \nL 285.213398 102.465944 \nL 285.932366 102.145686 \nL 286.475986 101.726625 \nL 287.10857 101.426808 \nL 287.59461 101.109957 \nL 287.817821 100.953235 \nL 288.136237 100.69771 \nL 288.291859 100.500104 \nL 288.529458 100.36723 \nL 288.65067 100.251392 \nL 289.284348 99.818703 \nL 289.407424 99.597248 \nL 289.558659 99.440526 \nL 289.810942 99.093011 \nL 289.985724 98.915847 \nL 290.229586 98.568333 \nL 290.373383 98.415018 \nL 290.718301 97.975514 \nL 290.874829 97.665477 \nL 291.79488 96.980669 \nL 292.114697 96.725144 \nL 292.224138 96.646783 \nL 292.594959 96.432142 \nL 293.543877 95.382785 \nL 293.949472 95.062526 \nL 294.05366 94.990979 \nL 294.397781 94.772931 \nL 294.813702 94.544662 \nL 295.121614 94.401568 \nL 295.232873 94.35387 \nL 296.589172 93.658841 \nL 296.737434 93.573666 \nL 297.077275 93.423758 \nL 297.186824 93.372653 \nL 297.853089 93.076243 \nL 297.997272 93.001289 \nL 298.505664 92.749171 \nL 298.621179 92.660589 \nL 299.119121 92.462983 \nL 299.34112 92.142724 \nL 299.66043 91.911048 \nL 300.021021 91.696407 \nL 300.68736 91.297788 \nL 301.499601 91.011599 \nL 304.671341 89.757822 \nL 304.671341 89.757822 \n\" style=\"fill:none;stroke:#7f7f7f;stroke-linecap:square;stroke-width:1.5;\"/>\n   </g>\n   <g id=\"line2d_21\">\n    <path clip-path=\"url(#p2609a88e8a)\" d=\"M 304.714428 89.754415 \nL 305.63039 89.393273 \nL 306.151446 89.052573 \nL 306.533533 88.902664 \nL 307.30257 88.527894 \nL 308.500117 87.727248 \nL 308.617311 87.567119 \nL 308.927593 87.233233 \nL 309.310416 85.962421 \nL 309.403412 85.764814 \nL 309.525926 85.461591 \nL 309.646601 85.274206 \nL 309.793042 84.957355 \nL 310.235855 84.156709 \nL 310.408372 83.92844 \nL 311.156647 82.977886 \nL 311.257215 82.851827 \nL 312.299991 81.495839 \nL 313.261758 80.742891 \nL 313.394044 80.575948 \nL 313.847851 80.310202 \nL 314.022084 80.180736 \nL 314.326532 79.932025 \nL 314.445183 79.809373 \nL 314.585818 79.645836 \nL 314.817214 79.492521 \nL 315.193036 79.315357 \nL 315.542027 79.032576 \nL 315.920609 78.790679 \nL 316.097311 78.654398 \nL 316.415351 78.429536 \nL 316.563385 78.320512 \nL 316.853143 78.160383 \nL 316.97887 78.092243 \nL 317.229644 77.911672 \nL 317.568967 77.656147 \nL 317.771026 77.513052 \nL 318.019798 77.237085 \nL 318.216945 76.678337 \nL 318.367635 76.354671 \nL 318.494957 76.129809 \nL 318.618638 75.976494 \nL 318.749494 75.829993 \nL 319.053353 75.601724 \nL 320.751781 73.830082 \nL 321.002212 73.574557 \nL 321.110955 73.407613 \nL 321.259026 73.24067 \nL 321.423284 72.985145 \nL 321.533381 72.828423 \nL 321.727757 72.613782 \nL 321.945946 72.392326 \nL 322.079825 72.215162 \nL 322.271282 72.031184 \nL 323.883941 70.53551 \nL 324.112091 70.303833 \nL 324.240356 70.17096 \nL 324.483344 69.908621 \nL 324.639676 69.741678 \nL 324.854603 69.5577 \nL 325.142554 69.29536 \nL 326.092061 68.464052 \nL 326.269366 68.331179 \nL 326.604563 68.143793 \nL 327.039554 67.728139 \nL 327.200213 67.588452 \nL 327.756621 67.03311 \nL 327.981272 66.883202 \nL 328.363887 66.498211 \nL 328.621426 66.242686 \nL 328.731513 66.024637 \nL 328.858319 65.895171 \nL 329.672381 65.019571 \nL 329.892641 64.494893 \nL 330.251729 63.983842 \nL 330.401196 63.837341 \nL 330.597799 63.609072 \nL 330.728128 63.442129 \nL 330.856125 63.305849 \nL 330.983891 63.203639 \nL 331.423705 62.672146 \nL 331.541876 62.535866 \nL 331.700434 62.368923 \nL 331.830223 62.219015 \nL 332.069701 62.069106 \nL 332.768723 61.452439 \nL 332.976246 61.316159 \nL 333.121577 61.108332 \nL 333.411248 60.818736 \nL 333.721019 60.529141 \nL 333.884151 60.127115 \nL 334.099712 59.878403 \nL 334.277841 59.667169 \nL 334.956621 58.934663 \nL 335.18924 58.590556 \nL 335.18924 58.590556 \n\" style=\"fill:none;stroke:#bcbd22;stroke-linecap:square;stroke-width:1.5;\"/>\n   </g>\n   <g id=\"line2d_22\">\n    <path clip-path=\"url(#p2609a88e8a)\" d=\"M 335.192122 58.587149 \nL 335.346181 58.409985 \nL 335.620762 58.195344 \nL 336.449713 57.384477 \nL 336.559715 57.207313 \nL 336.783873 57.030149 \nL 336.922678 56.876833 \nL 338.544807 55.060901 \nL 338.784918 54.88033 \nL 339.07889 54.560071 \nL 339.133403 54.434012 \nL 339.538492 53.752611 \nL 339.658758 53.589075 \nL 340.82579 52.464764 \nL 341.453627 51.595978 \nL 341.598079 51.299569 \nL 341.745859 51.118998 \nL 342.020595 50.853252 \nL 342.244451 50.706751 \nL 342.380154 50.567063 \nL 342.576905 50.406934 \nL 345.868024 46.008493 \nL 345.995509 45.790445 \nL 347.166528 43.879116 \nL 347.366939 43.235192 \nL 347.46891 43.092098 \nL 347.692005 42.717328 \nL 347.844908 42.468617 \nL 347.95126 42.257382 \nL 348.129449 42.141544 \nL 349.403741 40.196145 \nL 349.512792 39.998539 \nL 349.767295 39.640804 \nL 350.04178 39.184265 \nL 350.13132 39.061613 \nL 350.282032 38.761797 \nL 350.664064 37.559125 \nL 350.768813 37.395589 \nL 352.11685 35.361608 \nL 352.287169 35.194665 \nL 352.716644 34.71087 \nL 352.9264 34.445124 \nL 353.036343 34.288402 \nL 353.145971 34.101017 \nL 354.91784 31.3686 \nL 355.068426 31.160773 \nL 355.456716 30.680385 \nL 355.555312 30.533884 \nL 355.794024 29.924031 \nL 355.865756 29.767308 \nL 356.014146 29.528818 \nL 357.779824 26.91224 \nL 357.901207 26.769145 \nL 357.982606 26.646493 \nL 358.31076 25.982128 \nL 359.834991 23.982217 \nL 361.157778 22.305971 \nL 361.342712 22.111772 \nL 361.617918 21.726781 \nL 361.783207 21.508732 \nL 361.908019 21.222544 \nL 361.976133 21.07945 \nL 362.145049 20.680831 \nL 362.372125 20.462782 \nL 362.483582 20.258362 \nL 362.632813 20.026686 \nL 362.844624 19.665544 \nL 362.960023 19.4986 \nL 363.067464 19.369134 \nL 363.161277 19.236261 \nL 363.405509 18.91941 \nL 363.520353 18.752467 \nL 363.708245 18.347033 \nL 364.063824 17.968856 \nL 364.439017 17.474841 \nL 364.602028 17.345374 \nL 364.779641 17.185245 \nL 364.937464 16.882022 \nL 365.527096 16.183586 \nL 365.594318 16.101818 \nL 365.594318 16.101818 \n\" style=\"fill:none;stroke:#17becf;stroke-linecap:square;stroke-width:1.5;\"/>\n   </g>\n   <g id=\"patch_3\">\n    <path d=\"M 46.0125 203.04 \nL 46.0125 7.2 \n\" style=\"fill:none;stroke:#000000;stroke-linecap:square;stroke-linejoin:miter;stroke-width:0.8;\"/>\n   </g>\n   <g id=\"patch_4\">\n    <path d=\"M 380.8125 203.04 \nL 380.8125 7.2 \n\" style=\"fill:none;stroke:#000000;stroke-linecap:square;stroke-linejoin:miter;stroke-width:0.8;\"/>\n   </g>\n   <g id=\"patch_5\">\n    <path d=\"M 46.0125 203.04 \nL 380.8125 203.04 \n\" style=\"fill:none;stroke:#000000;stroke-linecap:square;stroke-linejoin:miter;stroke-width:0.8;\"/>\n   </g>\n   <g id=\"patch_6\">\n    <path d=\"M 46.0125 7.2 \nL 380.8125 7.2 \n\" style=\"fill:none;stroke:#000000;stroke-linecap:square;stroke-linejoin:miter;stroke-width:0.8;\"/>\n   </g>\n  </g>\n </g>\n <defs>\n  <clipPath id=\"p2609a88e8a\">\n   <rect height=\"195.84\" width=\"334.8\" x=\"46.0125\" y=\"7.2\"/>\n  </clipPath>\n </defs>\n</svg>\n",
      "image/png": "[encoded data removed]"
     },
     "metadata": {
      "needs_background": "light"
     }
    }
   ],
   "source": [
    " df['COMMULATIVE'].resample('Y').plot()"
   ]
  },
  {
   "cell_type": "code",
   "execution_count": 178,
   "metadata": {},
   "outputs": [
    {
     "output_type": "execute_result",
     "data": {
      "text/plain": [
       "<AxesSubplot:xlabel='DATETIME'>"
      ]
     },
     "metadata": {},
     "execution_count": 178
    },
    {
     "output_type": "display_data",
     "data": {
      "text/plain": "<Figure size 432x288 with 1 Axes>",
      "image/svg+xml": "<?xml version=\"1.0\" encoding=\"utf-8\" standalone=\"no\"?>\n<!DOCTYPE svg PUBLIC \"-//W3C//DTD SVG 1.1//EN\"\n  \"http://www.w3.org/Graphics/SVG/1.1/DTD/svg11.dtd\">\n<!-- Created with matplotlib (https://matplotlib.org/) -->\n<svg height=\"252.024627pt\" version=\"1.1\" viewBox=\"0 0 388.0125 252.024627\" width=\"388.0125pt\" xmlns=\"http://www.w3.org/2000/svg\" xmlns:xlink=\"http://www.w3.org/1999/xlink\">\n <metadata>\n  <rdf:RDF xmlns:cc=\"http://creativecommons.org/ns#\" xmlns:dc=\"http://purl.org/dc/elements/1.1/\" xmlns:rdf=\"http://www.w3.org/1999/02/22-rdf-syntax-ns#\">\n   <cc:Work>\n    <dc:type rdf:resource=\"http://purl.org/dc/dcmitype/StillImage\"/>\n    <dc:date>2021-04-11T13:13:53.925500</dc:date>\n    <dc:format>image/svg+xml</dc:format>\n    <dc:creator>\n     <cc:Agent>\n      <dc:title>Matplotlib v3.3.2, https://matplotlib.org/</dc:title>\n     </cc:Agent>\n    </dc:creator>\n   </cc:Work>\n  </rdf:RDF>\n </metadata>\n <defs>\n  <style type=\"text/css\">*{stroke-linecap:butt;stroke-linejoin:round;}</style>\n </defs>\n <g id=\"figure_1\">\n  <g id=\"patch_1\">\n   <path d=\"M 0 252.024627 \nL 388.0125 252.024627 \nL 388.0125 0 \nL 0 0 \nz\n\" style=\"fill:none;\"/>\n  </g>\n  <g id=\"axes_1\">\n   <g id=\"patch_2\">\n    <path d=\"M 46.0125 203.04 \nL 380.8125 203.04 \nL 380.8125 7.2 \nL 46.0125 7.2 \nz\n\" style=\"fill:#ffffff;\"/>\n   </g>\n   <g id=\"matplotlib.axis_1\">\n    <g id=\"xtick_1\">\n     <g id=\"line2d_1\">\n      <defs>\n       <path d=\"M 0 0 \nL 0 3.5 \n\" id=\"m2036f546ab\" style=\"stroke:#000000;stroke-width:0.8;\"/>\n      </defs>\n      <g>\n       <use style=\"stroke:#000000;stroke-width:0.8;\" x=\"61.226084\" xlink:href=\"#m2036f546ab\" y=\"203.04\"/>\n      </g>\n     </g>\n     <g id=\"text_1\">\n      <!-- 2000 -->\n      <g transform=\"translate(38.145894 229.34544)rotate(-30)scale(0.1 -0.1)\">\n       <defs>\n        <path d=\"M 19.1875 8.296875 \nL 53.609375 8.296875 \nL 53.609375 0 \nL 7.328125 0 \nL 7.328125 8.296875 \nQ 12.9375 14.109375 22.625 23.890625 \nQ 32.328125 33.6875 34.8125 36.53125 \nQ 39.546875 41.84375 41.421875 45.53125 \nQ 43.3125 49.21875 43.3125 52.78125 \nQ 43.3125 58.59375 39.234375 62.25 \nQ 35.15625 65.921875 28.609375 65.921875 \nQ 23.96875 65.921875 18.8125 64.3125 \nQ 13.671875 62.703125 7.8125 59.421875 \nL 7.8125 69.390625 \nQ 13.765625 71.78125 18.9375 73 \nQ 24.125 74.21875 28.421875 74.21875 \nQ 39.75 74.21875 46.484375 68.546875 \nQ 53.21875 62.890625 53.21875 53.421875 \nQ 53.21875 48.921875 51.53125 44.890625 \nQ 49.859375 40.875 45.40625 35.40625 \nQ 44.1875 33.984375 37.640625 27.21875 \nQ 31.109375 20.453125 19.1875 8.296875 \nz\n\" id=\"DejaVuSans-50\"/>\n        <path d=\"M 31.78125 66.40625 \nQ 24.171875 66.40625 20.328125 58.90625 \nQ 16.5 51.421875 16.5 36.375 \nQ 16.5 21.390625 20.328125 13.890625 \nQ 24.171875 6.390625 31.78125 6.390625 \nQ 39.453125 6.390625 43.28125 13.890625 \nQ 47.125 21.390625 47.125 36.375 \nQ 47.125 51.421875 43.28125 58.90625 \nQ 39.453125 66.40625 31.78125 66.40625 \nz\nM 31.78125 74.21875 \nQ 44.046875 74.21875 50.515625 64.515625 \nQ 56.984375 54.828125 56.984375 36.375 \nQ 56.984375 17.96875 50.515625 8.265625 \nQ 44.046875 -1.421875 31.78125 -1.421875 \nQ 19.53125 -1.421875 13.0625 8.265625 \nQ 6.59375 17.96875 6.59375 36.375 \nQ 6.59375 54.828125 13.0625 64.515625 \nQ 19.53125 74.21875 31.78125 74.21875 \nz\n\" id=\"DejaVuSans-48\"/>\n       </defs>\n       <use xlink:href=\"#DejaVuSans-50\"/>\n       <use x=\"63.623047\" xlink:href=\"#DejaVuSans-48\"/>\n       <use x=\"127.246094\" xlink:href=\"#DejaVuSans-48\"/>\n       <use x=\"190.869141\" xlink:href=\"#DejaVuSans-48\"/>\n      </g>\n     </g>\n    </g>\n    <g id=\"xtick_2\">\n     <g id=\"line2d_2\">\n      <g>\n       <use style=\"stroke:#000000;stroke-width:0.8;\" x=\"122.135158\" xlink:href=\"#m2036f546ab\" y=\"203.04\"/>\n      </g>\n     </g>\n     <g id=\"text_2\">\n      <!-- 2002 -->\n      <g transform=\"translate(99.054968 229.34544)rotate(-30)scale(0.1 -0.1)\">\n       <use xlink:href=\"#DejaVuSans-50\"/>\n       <use x=\"63.623047\" xlink:href=\"#DejaVuSans-48\"/>\n       <use x=\"127.246094\" xlink:href=\"#DejaVuSans-48\"/>\n       <use x=\"190.869141\" xlink:href=\"#DejaVuSans-50\"/>\n      </g>\n     </g>\n    </g>\n    <g id=\"xtick_3\">\n     <g id=\"line2d_3\">\n      <g>\n       <use style=\"stroke:#000000;stroke-width:0.8;\" x=\"182.96091\" xlink:href=\"#m2036f546ab\" y=\"203.04\"/>\n      </g>\n     </g>\n     <g id=\"text_3\">\n      <!-- 2004 -->\n      <g transform=\"translate(159.88072 229.34544)rotate(-30)scale(0.1 -0.1)\">\n       <defs>\n        <path d=\"M 37.796875 64.3125 \nL 12.890625 25.390625 \nL 37.796875 25.390625 \nz\nM 35.203125 72.90625 \nL 47.609375 72.90625 \nL 47.609375 25.390625 \nL 58.015625 25.390625 \nL 58.015625 17.1875 \nL 47.609375 17.1875 \nL 47.609375 0 \nL 37.796875 0 \nL 37.796875 17.1875 \nL 4.890625 17.1875 \nL 4.890625 26.703125 \nz\n\" id=\"DejaVuSans-52\"/>\n       </defs>\n       <use xlink:href=\"#DejaVuSans-50\"/>\n       <use x=\"63.623047\" xlink:href=\"#DejaVuSans-48\"/>\n       <use x=\"127.246094\" xlink:href=\"#DejaVuSans-48\"/>\n       <use x=\"190.869141\" xlink:href=\"#DejaVuSans-52\"/>\n      </g>\n     </g>\n    </g>\n    <g id=\"xtick_4\">\n     <g id=\"line2d_4\">\n      <g>\n       <use style=\"stroke:#000000;stroke-width:0.8;\" x=\"243.869985\" xlink:href=\"#m2036f546ab\" y=\"203.04\"/>\n      </g>\n     </g>\n     <g id=\"text_4\">\n      <!-- 2006 -->\n      <g transform=\"translate(220.789794 229.34544)rotate(-30)scale(0.1 -0.1)\">\n       <defs>\n        <path d=\"M 33.015625 40.375 \nQ 26.375 40.375 22.484375 35.828125 \nQ 18.609375 31.296875 18.609375 23.390625 \nQ 18.609375 15.53125 22.484375 10.953125 \nQ 26.375 6.390625 33.015625 6.390625 \nQ 39.65625 6.390625 43.53125 10.953125 \nQ 47.40625 15.53125 47.40625 23.390625 \nQ 47.40625 31.296875 43.53125 35.828125 \nQ 39.65625 40.375 33.015625 40.375 \nz\nM 52.59375 71.296875 \nL 52.59375 62.3125 \nQ 48.875 64.0625 45.09375 64.984375 \nQ 41.3125 65.921875 37.59375 65.921875 \nQ 27.828125 65.921875 22.671875 59.328125 \nQ 17.53125 52.734375 16.796875 39.40625 \nQ 19.671875 43.65625 24.015625 45.921875 \nQ 28.375 48.1875 33.59375 48.1875 \nQ 44.578125 48.1875 50.953125 41.515625 \nQ 57.328125 34.859375 57.328125 23.390625 \nQ 57.328125 12.15625 50.6875 5.359375 \nQ 44.046875 -1.421875 33.015625 -1.421875 \nQ 20.359375 -1.421875 13.671875 8.265625 \nQ 6.984375 17.96875 6.984375 36.375 \nQ 6.984375 53.65625 15.1875 63.9375 \nQ 23.390625 74.21875 37.203125 74.21875 \nQ 40.921875 74.21875 44.703125 73.484375 \nQ 48.484375 72.75 52.59375 71.296875 \nz\n\" id=\"DejaVuSans-54\"/>\n       </defs>\n       <use xlink:href=\"#DejaVuSans-50\"/>\n       <use x=\"63.623047\" xlink:href=\"#DejaVuSans-48\"/>\n       <use x=\"127.246094\" xlink:href=\"#DejaVuSans-48\"/>\n       <use x=\"190.869141\" xlink:href=\"#DejaVuSans-54\"/>\n      </g>\n     </g>\n    </g>\n    <g id=\"xtick_5\">\n     <g id=\"line2d_5\">\n      <g>\n       <use style=\"stroke:#000000;stroke-width:0.8;\" x=\"304.695736\" xlink:href=\"#m2036f546ab\" y=\"203.04\"/>\n      </g>\n     </g>\n     <g id=\"text_5\">\n      <!-- 2008 -->\n      <g transform=\"translate(281.615546 229.34544)rotate(-30)scale(0.1 -0.1)\">\n       <defs>\n        <path d=\"M 31.78125 34.625 \nQ 24.75 34.625 20.71875 30.859375 \nQ 16.703125 27.09375 16.703125 20.515625 \nQ 16.703125 13.921875 20.71875 10.15625 \nQ 24.75 6.390625 31.78125 6.390625 \nQ 38.8125 6.390625 42.859375 10.171875 \nQ 46.921875 13.96875 46.921875 20.515625 \nQ 46.921875 27.09375 42.890625 30.859375 \nQ 38.875 34.625 31.78125 34.625 \nz\nM 21.921875 38.8125 \nQ 15.578125 40.375 12.03125 44.71875 \nQ 8.5 49.078125 8.5 55.328125 \nQ 8.5 64.0625 14.71875 69.140625 \nQ 20.953125 74.21875 31.78125 74.21875 \nQ 42.671875 74.21875 48.875 69.140625 \nQ 55.078125 64.0625 55.078125 55.328125 \nQ 55.078125 49.078125 51.53125 44.71875 \nQ 48 40.375 41.703125 38.8125 \nQ 48.828125 37.15625 52.796875 32.3125 \nQ 56.78125 27.484375 56.78125 20.515625 \nQ 56.78125 9.90625 50.3125 4.234375 \nQ 43.84375 -1.421875 31.78125 -1.421875 \nQ 19.734375 -1.421875 13.25 4.234375 \nQ 6.78125 9.90625 6.78125 20.515625 \nQ 6.78125 27.484375 10.78125 32.3125 \nQ 14.796875 37.15625 21.921875 38.8125 \nz\nM 18.3125 54.390625 \nQ 18.3125 48.734375 21.84375 45.5625 \nQ 25.390625 42.390625 31.78125 42.390625 \nQ 38.140625 42.390625 41.71875 45.5625 \nQ 45.3125 48.734375 45.3125 54.390625 \nQ 45.3125 60.0625 41.71875 63.234375 \nQ 38.140625 66.40625 31.78125 66.40625 \nQ 25.390625 66.40625 21.84375 63.234375 \nQ 18.3125 60.0625 18.3125 54.390625 \nz\n\" id=\"DejaVuSans-56\"/>\n       </defs>\n       <use xlink:href=\"#DejaVuSans-50\"/>\n       <use x=\"63.623047\" xlink:href=\"#DejaVuSans-48\"/>\n       <use x=\"127.246094\" xlink:href=\"#DejaVuSans-48\"/>\n       <use x=\"190.869141\" xlink:href=\"#DejaVuSans-56\"/>\n      </g>\n     </g>\n    </g>\n    <g id=\"xtick_6\">\n     <g id=\"line2d_6\">\n      <g>\n       <use style=\"stroke:#000000;stroke-width:0.8;\" x=\"365.604811\" xlink:href=\"#m2036f546ab\" y=\"203.04\"/>\n      </g>\n     </g>\n     <g id=\"text_6\">\n      <!-- 2010 -->\n      <g transform=\"translate(342.52462 229.34544)rotate(-30)scale(0.1 -0.1)\">\n       <defs>\n        <path d=\"M 12.40625 8.296875 \nL 28.515625 8.296875 \nL 28.515625 63.921875 \nL 10.984375 60.40625 \nL 10.984375 69.390625 \nL 28.421875 72.90625 \nL 38.28125 72.90625 \nL 38.28125 8.296875 \nL 54.390625 8.296875 \nL 54.390625 0 \nL 12.40625 0 \nz\n\" id=\"DejaVuSans-49\"/>\n       </defs>\n       <use xlink:href=\"#DejaVuSans-50\"/>\n       <use x=\"63.623047\" xlink:href=\"#DejaVuSans-48\"/>\n       <use x=\"127.246094\" xlink:href=\"#DejaVuSans-49\"/>\n       <use x=\"190.869141\" xlink:href=\"#DejaVuSans-48\"/>\n      </g>\n     </g>\n    </g>\n    <g id=\"text_7\">\n     <!-- DATETIME -->\n     <g transform=\"translate(188.401563 242.74494)scale(0.1 -0.1)\">\n      <defs>\n       <path d=\"M 19.671875 64.796875 \nL 19.671875 8.109375 \nL 31.59375 8.109375 \nQ 46.6875 8.109375 53.6875 14.9375 \nQ 60.6875 21.78125 60.6875 36.53125 \nQ 60.6875 51.171875 53.6875 57.984375 \nQ 46.6875 64.796875 31.59375 64.796875 \nz\nM 9.8125 72.90625 \nL 30.078125 72.90625 \nQ 51.265625 72.90625 61.171875 64.09375 \nQ 71.09375 55.28125 71.09375 36.53125 \nQ 71.09375 17.671875 61.125 8.828125 \nQ 51.171875 0 30.078125 0 \nL 9.8125 0 \nz\n\" id=\"DejaVuSans-68\"/>\n       <path d=\"M 34.1875 63.1875 \nL 20.796875 26.90625 \nL 47.609375 26.90625 \nz\nM 28.609375 72.90625 \nL 39.796875 72.90625 \nL 67.578125 0 \nL 57.328125 0 \nL 50.6875 18.703125 \nL 17.828125 18.703125 \nL 11.1875 0 \nL 0.78125 0 \nz\n\" id=\"DejaVuSans-65\"/>\n       <path d=\"M -0.296875 72.90625 \nL 61.375 72.90625 \nL 61.375 64.59375 \nL 35.5 64.59375 \nL 35.5 0 \nL 25.59375 0 \nL 25.59375 64.59375 \nL -0.296875 64.59375 \nz\n\" id=\"DejaVuSans-84\"/>\n       <path d=\"M 9.8125 72.90625 \nL 55.90625 72.90625 \nL 55.90625 64.59375 \nL 19.671875 64.59375 \nL 19.671875 43.015625 \nL 54.390625 43.015625 \nL 54.390625 34.71875 \nL 19.671875 34.71875 \nL 19.671875 8.296875 \nL 56.78125 8.296875 \nL 56.78125 0 \nL 9.8125 0 \nz\n\" id=\"DejaVuSans-69\"/>\n       <path d=\"M 9.8125 72.90625 \nL 19.671875 72.90625 \nL 19.671875 0 \nL 9.8125 0 \nz\n\" id=\"DejaVuSans-73\"/>\n       <path d=\"M 9.8125 72.90625 \nL 24.515625 72.90625 \nL 43.109375 23.296875 \nL 61.8125 72.90625 \nL 76.515625 72.90625 \nL 76.515625 0 \nL 66.890625 0 \nL 66.890625 64.015625 \nL 48.09375 14.015625 \nL 38.1875 14.015625 \nL 19.390625 64.015625 \nL 19.390625 0 \nL 9.8125 0 \nz\n\" id=\"DejaVuSans-77\"/>\n      </defs>\n      <use xlink:href=\"#DejaVuSans-68\"/>\n      <use x=\"75.251953\" xlink:href=\"#DejaVuSans-65\"/>\n      <use x=\"135.910156\" xlink:href=\"#DejaVuSans-84\"/>\n      <use x=\"196.994141\" xlink:href=\"#DejaVuSans-69\"/>\n      <use x=\"260.177734\" xlink:href=\"#DejaVuSans-84\"/>\n      <use x=\"321.261719\" xlink:href=\"#DejaVuSans-73\"/>\n      <use x=\"350.753906\" xlink:href=\"#DejaVuSans-77\"/>\n      <use x=\"437.033203\" xlink:href=\"#DejaVuSans-69\"/>\n     </g>\n    </g>\n   </g>\n   <g id=\"matplotlib.axis_2\">\n    <g id=\"ytick_1\">\n     <g id=\"line2d_7\">\n      <defs>\n       <path d=\"M 0 0 \nL -3.5 0 \n\" id=\"m3910b97d56\" style=\"stroke:#000000;stroke-width:0.8;\"/>\n      </defs>\n      <g>\n       <use style=\"stroke:#000000;stroke-width:0.8;\" x=\"46.0125\" xlink:href=\"#m3910b97d56\" y=\"194.141589\"/>\n      </g>\n     </g>\n     <g id=\"text_8\">\n      <!-- 0 -->\n      <g transform=\"translate(32.65 197.940808)scale(0.1 -0.1)\">\n       <use xlink:href=\"#DejaVuSans-48\"/>\n      </g>\n     </g>\n    </g>\n    <g id=\"ytick_2\">\n     <g id=\"line2d_8\">\n      <g>\n       <use style=\"stroke:#000000;stroke-width:0.8;\" x=\"46.0125\" xlink:href=\"#m3910b97d56\" y=\"160.071556\"/>\n      </g>\n     </g>\n     <g id=\"text_9\">\n      <!-- 10000 -->\n      <g transform=\"translate(7.2 163.870775)scale(0.1 -0.1)\">\n       <use xlink:href=\"#DejaVuSans-49\"/>\n       <use x=\"63.623047\" xlink:href=\"#DejaVuSans-48\"/>\n       <use x=\"127.246094\" xlink:href=\"#DejaVuSans-48\"/>\n       <use x=\"190.869141\" xlink:href=\"#DejaVuSans-48\"/>\n       <use x=\"254.492188\" xlink:href=\"#DejaVuSans-48\"/>\n      </g>\n     </g>\n    </g>\n    <g id=\"ytick_3\">\n     <g id=\"line2d_9\">\n      <g>\n       <use style=\"stroke:#000000;stroke-width:0.8;\" x=\"46.0125\" xlink:href=\"#m3910b97d56\" y=\"126.001523\"/>\n      </g>\n     </g>\n     <g id=\"text_10\">\n      <!-- 20000 -->\n      <g transform=\"translate(7.2 129.800742)scale(0.1 -0.1)\">\n       <use xlink:href=\"#DejaVuSans-50\"/>\n       <use x=\"63.623047\" xlink:href=\"#DejaVuSans-48\"/>\n       <use x=\"127.246094\" xlink:href=\"#DejaVuSans-48\"/>\n       <use x=\"190.869141\" xlink:href=\"#DejaVuSans-48\"/>\n       <use x=\"254.492188\" xlink:href=\"#DejaVuSans-48\"/>\n      </g>\n     </g>\n    </g>\n    <g id=\"ytick_4\">\n     <g id=\"line2d_10\">\n      <g>\n       <use style=\"stroke:#000000;stroke-width:0.8;\" x=\"46.0125\" xlink:href=\"#m3910b97d56\" y=\"91.93149\"/>\n      </g>\n     </g>\n     <g id=\"text_11\">\n      <!-- 30000 -->\n      <g transform=\"translate(7.2 95.730709)scale(0.1 -0.1)\">\n       <defs>\n        <path d=\"M 40.578125 39.3125 \nQ 47.65625 37.796875 51.625 33 \nQ 55.609375 28.21875 55.609375 21.1875 \nQ 55.609375 10.40625 48.1875 4.484375 \nQ 40.765625 -1.421875 27.09375 -1.421875 \nQ 22.515625 -1.421875 17.65625 -0.515625 \nQ 12.796875 0.390625 7.625 2.203125 \nL 7.625 11.71875 \nQ 11.71875 9.328125 16.59375 8.109375 \nQ 21.484375 6.890625 26.8125 6.890625 \nQ 36.078125 6.890625 40.9375 10.546875 \nQ 45.796875 14.203125 45.796875 21.1875 \nQ 45.796875 27.640625 41.28125 31.265625 \nQ 36.765625 34.90625 28.71875 34.90625 \nL 20.21875 34.90625 \nL 20.21875 43.015625 \nL 29.109375 43.015625 \nQ 36.375 43.015625 40.234375 45.921875 \nQ 44.09375 48.828125 44.09375 54.296875 \nQ 44.09375 59.90625 40.109375 62.90625 \nQ 36.140625 65.921875 28.71875 65.921875 \nQ 24.65625 65.921875 20.015625 65.03125 \nQ 15.375 64.15625 9.8125 62.3125 \nL 9.8125 71.09375 \nQ 15.4375 72.65625 20.34375 73.4375 \nQ 25.25 74.21875 29.59375 74.21875 \nQ 40.828125 74.21875 47.359375 69.109375 \nQ 53.90625 64.015625 53.90625 55.328125 \nQ 53.90625 49.265625 50.4375 45.09375 \nQ 46.96875 40.921875 40.578125 39.3125 \nz\n\" id=\"DejaVuSans-51\"/>\n       </defs>\n       <use xlink:href=\"#DejaVuSans-51\"/>\n       <use x=\"63.623047\" xlink:href=\"#DejaVuSans-48\"/>\n       <use x=\"127.246094\" xlink:href=\"#DejaVuSans-48\"/>\n       <use x=\"190.869141\" xlink:href=\"#DejaVuSans-48\"/>\n       <use x=\"254.492188\" xlink:href=\"#DejaVuSans-48\"/>\n      </g>\n     </g>\n    </g>\n    <g id=\"ytick_5\">\n     <g id=\"line2d_11\">\n      <g>\n       <use style=\"stroke:#000000;stroke-width:0.8;\" x=\"46.0125\" xlink:href=\"#m3910b97d56\" y=\"57.861457\"/>\n      </g>\n     </g>\n     <g id=\"text_12\">\n      <!-- 40000 -->\n      <g transform=\"translate(7.2 61.660676)scale(0.1 -0.1)\">\n       <use xlink:href=\"#DejaVuSans-52\"/>\n       <use x=\"63.623047\" xlink:href=\"#DejaVuSans-48\"/>\n       <use x=\"127.246094\" xlink:href=\"#DejaVuSans-48\"/>\n       <use x=\"190.869141\" xlink:href=\"#DejaVuSans-48\"/>\n       <use x=\"254.492188\" xlink:href=\"#DejaVuSans-48\"/>\n      </g>\n     </g>\n    </g>\n    <g id=\"ytick_6\">\n     <g id=\"line2d_12\">\n      <g>\n       <use style=\"stroke:#000000;stroke-width:0.8;\" x=\"46.0125\" xlink:href=\"#m3910b97d56\" y=\"23.791425\"/>\n      </g>\n     </g>\n     <g id=\"text_13\">\n      <!-- 50000 -->\n      <g transform=\"translate(7.2 27.590643)scale(0.1 -0.1)\">\n       <defs>\n        <path d=\"M 10.796875 72.90625 \nL 49.515625 72.90625 \nL 49.515625 64.59375 \nL 19.828125 64.59375 \nL 19.828125 46.734375 \nQ 21.96875 47.46875 24.109375 47.828125 \nQ 26.265625 48.1875 28.421875 48.1875 \nQ 40.625 48.1875 47.75 41.5 \nQ 54.890625 34.8125 54.890625 23.390625 \nQ 54.890625 11.625 47.5625 5.09375 \nQ 40.234375 -1.421875 26.90625 -1.421875 \nQ 22.3125 -1.421875 17.546875 -0.640625 \nQ 12.796875 0.140625 7.71875 1.703125 \nL 7.71875 11.625 \nQ 12.109375 9.234375 16.796875 8.0625 \nQ 21.484375 6.890625 26.703125 6.890625 \nQ 35.15625 6.890625 40.078125 11.328125 \nQ 45.015625 15.765625 45.015625 23.390625 \nQ 45.015625 31 40.078125 35.4375 \nQ 35.15625 39.890625 26.703125 39.890625 \nQ 22.75 39.890625 18.8125 39.015625 \nQ 14.890625 38.140625 10.796875 36.28125 \nz\n\" id=\"DejaVuSans-53\"/>\n       </defs>\n       <use xlink:href=\"#DejaVuSans-53\"/>\n       <use x=\"63.623047\" xlink:href=\"#DejaVuSans-48\"/>\n       <use x=\"127.246094\" xlink:href=\"#DejaVuSans-48\"/>\n       <use x=\"190.869141\" xlink:href=\"#DejaVuSans-48\"/>\n       <use x=\"254.492188\" xlink:href=\"#DejaVuSans-48\"/>\n      </g>\n     </g>\n    </g>\n   </g>\n   <g id=\"line2d_13\">\n    <path clip-path=\"url(#p87e9ac5dd8)\" d=\"M 61.230682 194.138182 \nL 61.849165 194.01553 \nL 63.045813 193.841773 \nL 63.156053 193.824738 \nL 64.192049 193.603282 \nL 64.291634 193.586247 \nL 68.488182 192.843521 \nL 68.627457 192.816265 \nL 70.892747 192.284772 \nL 71.096713 192.16212 \nL 71.639624 191.896374 \nL 73.244873 191.555673 \nL 73.406336 191.293334 \nL 74.182076 190.80954 \nL 74.324818 190.703923 \nL 74.9062 190.530165 \nL 75.321254 190.329152 \nL 75.564538 190.203093 \nL 75.677989 190.145174 \nL 76.228321 189.985045 \nL 77.287359 189.651158 \nL 82.353313 188.496184 \nL 82.787194 188.376939 \nL 88.807714 186.986882 \nL 89.296023 186.86423 \nL 89.401943 186.847195 \nL 105.002206 183.504925 \nL 105.705762 182.905292 \nL 106.176871 182.724721 \nL 106.432058 182.598662 \nL 107.509373 182.295438 \nL 108.19675 182.138716 \nL 108.579121 182.019471 \nL 108.899498 181.893412 \nL 108.984047 181.678771 \nL 109.239291 181.562933 \nL 109.725283 181.120022 \nL 109.930829 180.987149 \nL 110.268925 180.75888 \nL 111.21662 180.394331 \nL 111.643956 180.264864 \nL 111.760388 180.213759 \nL 111.987831 180.15584 \nL 112.810988 179.91735 \nL 112.978408 179.866245 \nL 113.442593 179.699302 \nL 113.847285 179.545987 \nL 117.916103 178.179778 \nL 118.793569 178.012835 \nL 118.97437 177.978765 \nL 120.039957 177.798194 \nL 120.453231 177.641472 \nL 121.082496 177.505192 \nL 121.208211 177.471122 \nL 121.884391 177.324621 \nL 122.835067 177.171305 \nL 123.042038 177.096351 \nL 124.256877 176.680697 \nL 124.39968 176.564859 \nL 124.853724 176.466056 \nL 126.779593 175.927749 \nL 127.262457 175.788062 \nL 127.416796 175.736957 \nL 130.104393 175.202058 \nL 130.233713 175.181616 \nL 131.133575 174.990823 \nL 132.228243 174.762554 \nL 133.671219 174.438889 \nL 133.780956 174.404819 \nL 135.151477 174.186771 \nL 135.622624 174.128852 \nL 137.218978 173.859698 \nL 137.34034 173.835849 \nL 137.614771 173.692755 \nL 139.800897 173.273694 \nL 139.939914 173.243031 \nL 142.679808 172.626363 \nL 143.583581 172.268628 \nL 143.711408 172.18686 \nL 143.987266 172.053987 \nL 144.088531 171.999474 \nL 144.551453 171.846159 \nL 144.691222 171.781426 \nL 146.001327 171.369179 \nL 146.399416 171.198829 \nL 147.020783 170.963745 \nL 147.461059 170.841093 \nL 148.600682 170.527649 \nL 149.12861 170.364113 \nL 149.323301 170.292566 \nL 149.917988 170.149472 \nL 150.013853 170.135844 \nL 150.18089 170.016599 \nL 150.550618 169.849655 \nL 151.123629 169.69634 \nL 151.790157 169.468071 \nL 152.535799 169.181883 \nL 152.642494 169.055824 \nL 153.367936 168.803705 \nL 154.383802 168.554994 \nL 154.98819 168.391458 \nL 155.14301 168.336946 \nL 155.770888 168.146154 \nL 156.162858 168.050758 \nL 156.874931 167.863372 \nL 156.966917 167.825895 \nL 157.351263 167.693022 \nL 158.852885 167.362543 \nL 159.638395 167.192193 \nL 162.056159 166.25186 \nL 162.620668 166.129208 \nL 163.197947 165.935009 \nL 163.318178 165.890718 \nL 163.651015 165.819171 \nL 164.009037 165.676076 \nL 166.632512 164.749371 \nL 166.746044 164.647161 \nL 167.042424 164.510881 \nL 167.204831 164.459776 \nL 167.65111 164.258763 \nL 167.746359 164.2281 \nL 168.070031 164.088413 \nL 170.25677 163.311616 \nL 171.126418 163.090161 \nL 171.243398 163.056091 \nL 171.380905 162.821008 \nL 171.50383 162.470086 \nL 172.299104 161.918152 \nL 176.051537 160.909679 \nL 176.73661 160.735922 \nL 177.012194 160.643933 \nL 177.707482 160.470175 \nL 178.021421 160.398628 \nL 179.023698 160.269162 \nL 179.316058 160.143103 \nL 179.650972 160.017044 \nL 186.509675 158.071645 \nL 187.332686 157.857004 \nL 187.503574 157.81612 \nL 188.058573 157.67984 \nL 188.513795 157.570816 \nL 189.209092 157.431128 \nL 189.337003 157.393651 \nL 190.822305 156.848531 \nL 190.952982 156.794019 \nL 191.468667 156.535087 \nL 191.569962 156.483982 \nL 192.118468 156.33748 \nL 192.322267 156.26934 \nL 192.964775 156.136467 \nL 193.379054 155.99678 \nL 194.032045 155.850279 \nL 194.917489 155.530021 \nL 195.073302 155.465288 \nL 195.607639 155.298344 \nL 197.003893 154.582874 \nL 197.117257 154.528362 \nL 198.427626 153.918508 \nL 198.762821 153.778821 \nL 198.873988 153.717495 \nL 199.220953 153.536924 \nL 199.511044 153.417679 \nL 199.938807 153.271177 \nL 200.243025 153.094013 \nL 200.358956 153.049722 \nL 200.682587 152.903221 \nL 200.938779 152.705615 \nL 201.053381 152.494381 \nL 201.173816 152.324031 \nL 201.331575 152.249076 \nL 201.563522 152.088947 \nL 201.686578 152.020807 \nL 203.898338 151.03959 \nL 204.445786 150.824949 \nL 204.61533 150.705704 \nL 205.049383 150.450179 \nL 205.156796 150.422923 \nL 206.360008 149.976605 \nL 207.017149 149.663161 \nL 207.323298 149.560951 \nL 207.780755 149.376973 \nL 207.895519 149.261135 \nL 208.817186 148.920434 \nL 208.901324 148.87955 \nL 209.380935 148.729642 \nL 209.568071 148.664909 \nL 210.334779 148.43664 \nL 210.426452 148.399163 \nL 210.881827 148.249255 \nL 211.326984 148.082311 \nL 212.64448 147.62918 \nL 212.90261 147.475865 \nL 213.493838 147.268038 \nL 213.919035 147.101094 \nL 214.310218 146.903488 \nL 214.426575 146.716103 \nL 214.67701 146.535532 \nL 215.126741 146.389031 \nL 215.359026 146.300449 \nL 215.741952 146.10625 \nL 216.944436 145.63949 \nL 217.75856 145.377151 \nL 217.872911 145.360116 \nL 218.522496 145.101184 \nL 220.421278 144.010942 \nL 220.609078 143.88829 \nL 220.930089 143.738382 \nL 221.756773 143.394275 \nL 224.463964 141.959927 \nL 225.037714 141.714622 \nL 225.395861 141.5579 \nL 227.620836 140.37567 \nL 227.745645 140.276867 \nL 227.95468 140.147401 \nL 228.06115 140.079261 \nL 228.377485 139.915725 \nL 228.504017 139.816921 \nL 229.03447 139.445558 \nL 229.230872 139.316092 \nL 229.505593 139.162777 \nL 230.700261 138.569958 \nL 230.853116 138.481376 \nL 231.310469 138.304212 \nL 231.517399 138.110013 \nL 232.375408 137.602369 \nL 232.475649 137.517194 \nL 232.860322 137.3741 \nL 232.951986 137.350251 \nL 233.251537 137.220785 \nL 233.399633 137.149238 \nL 233.914844 136.992516 \nL 237.57698 135.241316 \nL 237.704417 134.600799 \nL 237.877957 134.093156 \nL 238.246464 132.51912 \nL 238.374498 132.345363 \nL 238.530229 132.113687 \nL 238.722863 131.943337 \nL 238.857646 131.783208 \nL 238.961368 131.561752 \nL 239.119799 131.364146 \nL 239.334183 131.180168 \nL 239.463308 131.023446 \nL 239.627644 130.85991 \nL 240.019716 130.675932 \nL 240.268818 130.491953 \nL 242.015101 129.418747 \nL 242.150281 129.333572 \nL 242.479657 129.180257 \nL 242.848397 129.026942 \nL 242.96195 128.948581 \nL 243.308907 128.716905 \nL 243.708647 128.400053 \nL 243.820138 128.342134 \nL 244.53322 127.919666 \nL 244.648293 127.868561 \nL 245.11067 127.715246 \nL 246.238873 127.279149 \nL 246.866468 126.941856 \nL 247.441444 126.740843 \nL 247.811027 126.60797 \nL 248.093995 126.406957 \nL 248.389686 126.161652 \nL 248.623332 126.001523 \nL 248.893376 125.878871 \nL 249.901464 125.490473 \nL 250.040868 125.39167 \nL 250.527221 125.071411 \nL 250.986514 124.846549 \nL 251.378113 124.642129 \nL 251.487999 124.614873 \nL 251.953463 124.31165 \nL 252.183718 124.182183 \nL 253.431117 121.603082 \nL 254.149344 121.034112 \nL 254.699896 120.683191 \nL 254.951331 120.495806 \nL 255.324221 120.216432 \nL 255.445977 120.117628 \nL 255.618766 120.018825 \nL 255.860332 119.855289 \nL 256.584562 119.436228 \nL 257.022719 119.272692 \nL 257.139406 119.139819 \nL 257.396486 118.904735 \nL 257.531202 118.833188 \nL 258.182146 118.236963 \nL 258.294403 118.13816 \nL 258.416043 118.076833 \nL 260.641924 116.89801 \nL 260.975642 116.741288 \nL 261.189536 116.632264 \nL 261.447217 116.468728 \nL 261.979745 116.090551 \nL 262.093673 116.005375 \nL 262.279541 115.841839 \nL 262.402019 115.797548 \nL 262.601744 115.671489 \nL 262.815248 115.586314 \nL 263.574686 115.184288 \nL 263.69897 115.048008 \nL 263.998997 114.860622 \nL 264.130771 114.819738 \nL 264.462066 114.666423 \nL 264.773745 114.530143 \nL 265.229338 114.383642 \nL 266.954272 113.582996 \nL 267.077388 113.514856 \nL 267.3935 113.354727 \nL 268.348775 112.922038 \nL 268.455359 112.840269 \nL 268.644786 112.673326 \nL 269.067822 112.428022 \nL 269.498639 112.250858 \nL 269.64401 112.199753 \nL 270.915805 111.596713 \nL 271.306979 111.385479 \nL 271.624269 111.238978 \nL 271.736816 111.204908 \nL 272.076424 111.007302 \nL 272.203885 110.95279 \nL 273.465643 110.264575 \nL 273.577543 110.210063 \nL 275.039414 109.450301 \nL 275.152551 109.354905 \nL 275.684812 108.956286 \nL 275.795596 108.901774 \nL 276.230443 108.690539 \nL 276.469228 108.567887 \nL 276.883078 108.390723 \nL 277.342781 108.176082 \nL 277.706331 108.012546 \nL 278.791039 107.576449 \nL 278.884978 107.542379 \nL 279.159068 107.395878 \nL 280.031426 107.058585 \nL 280.677867 106.884828 \nL 280.919366 106.772397 \nL 281.256093 106.632709 \nL 281.474743 106.23409 \nL 281.822417 105.797994 \nL 282.002369 105.535654 \nL 282.353055 105.229024 \nL 282.527067 105.082523 \nL 282.556466 104.878103 \nL 282.711097 104.431785 \nL 284.022889 103.406277 \nL 284.396009 103.143938 \nL 284.880505 102.731691 \nL 285.030915 102.595411 \nL 288.142932 100.656826 \nL 288.269469 100.513732 \nL 288.623148 100.275241 \nL 288.812962 100.121926 \nL 289.244661 99.941355 \nL 289.285662 99.811889 \nL 289.397418 99.604062 \nL 289.576295 99.403048 \nL 289.962577 98.943103 \nL 290.12851 98.731869 \nL 290.244962 98.551298 \nL 290.359093 98.428646 \nL 290.513231 98.254888 \nL 290.62792 98.132236 \nL 291.440641 97.174868 \nL 292.104041 96.772842 \nL 292.214137 96.65019 \nL 292.613029 96.398072 \nL 292.933678 96.026708 \nL 293.126852 95.754148 \nL 293.350894 95.519065 \nL 293.726677 95.222655 \nL 294.813702 94.544662 \nL 295.121614 94.401568 \nL 295.232873 94.35387 \nL 296.589172 93.658841 \nL 296.737434 93.573666 \nL 297.077275 93.423758 \nL 297.186824 93.372653 \nL 297.853089 93.076243 \nL 297.997272 93.001289 \nL 298.505664 92.749171 \nL 298.621179 92.660589 \nL 299.119121 92.462983 \nL 299.34112 92.142724 \nL 299.66043 91.911048 \nL 300.021021 91.696407 \nL 300.68736 91.297788 \nL 301.499601 91.011599 \nL 306.093127 89.083236 \nL 306.199303 89.021909 \nL 306.858213 88.722093 \nL 306.964028 88.667581 \nL 307.358886 88.497231 \nL 307.722394 88.272369 \nL 308.402717 87.938482 \nL 308.573479 87.614817 \nL 308.830974 87.383141 \nL 308.926752 87.260489 \nL 309.065344 86.425773 \nL 309.185441 86.204318 \nL 309.283902 86.030561 \nL 309.448672 85.570615 \nL 310.043419 84.43949 \nL 310.155713 84.282768 \nL 310.514458 83.741054 \nL 311.030842 83.117573 \nL 311.195396 82.954037 \nL 311.54272 82.473649 \nL 311.650455 82.31352 \nL 311.868812 82.047774 \nL 312.067498 81.758178 \nL 312.215624 81.604863 \nL 312.356423 81.427699 \nL 312.694004 81.141511 \nL 313.172111 80.814439 \nL 313.293859 80.688379 \nL 314.060863 80.160294 \nL 314.259528 80.013793 \nL 314.379987 79.891141 \nL 314.483061 79.74464 \nL 314.673388 79.570882 \nL 315.566601 79.012134 \nL 315.704402 78.906517 \nL 315.928011 78.770237 \nL 316.063367 78.678248 \nL 316.371361 78.453385 \nL 318.01929 77.240492 \nL 318.213528 76.688558 \nL 318.962114 75.66305 \nL 319.137716 75.472257 \nL 319.286326 75.223546 \nL 319.454995 75.063417 \nL 319.789711 74.668205 \nL 319.991257 74.501261 \nL 320.160659 74.310469 \nL 321.381675 73.056692 \nL 321.495612 72.903377 \nL 321.802505 72.538828 \nL 321.934478 72.412768 \nL 323.937099 70.511661 \nL 324.087218 70.337903 \nL 324.806455 69.598584 \nL 325.943391 68.600332 \nL 326.079086 68.487901 \nL 328.675105 66.120033 \nL 328.856069 65.898578 \nL 329.122523 65.694158 \nL 329.508488 65.258062 \nL 329.64651 65.108153 \nL 329.742429 64.859442 \nL 329.861752 64.542591 \nL 330.151205 64.150786 \nL 330.305934 63.936144 \nL 330.447541 63.79305 \nL 331.424 62.668739 \nL 331.541876 62.535866 \nL 331.700434 62.368923 \nL 331.830223 62.219015 \nL 332.069701 62.069106 \nL 332.768723 61.452439 \nL 332.976246 61.316159 \nL 333.121577 61.108332 \nL 333.411248 60.818736 \nL 333.721019 60.529141 \nL 333.884151 60.127115 \nL 334.099712 59.878403 \nL 334.277841 59.667169 \nL 334.956621 58.934663 \nL 335.219476 58.5633 \nL 335.389542 58.386136 \nL 335.527687 58.273705 \nL 336.413671 57.432175 \nL 336.542097 57.234569 \nL 336.654463 57.173243 \nL 336.775496 57.04037 \nL 337.435827 56.287422 \nL 337.559628 56.1307 \nL 337.776192 55.851326 \nL 338.106068 55.514032 \nL 338.195809 55.370938 \nL 338.390448 55.197181 \nL 338.574389 55.05068 \nL 338.720603 54.921214 \nL 339.113735 54.505559 \nL 339.262299 54.134196 \nL 341.459876 51.58235 \nL 341.760755 51.091742 \nL 341.911979 50.931613 \nL 342.020595 50.853252 \nL 342.244451 50.706751 \nL 342.380154 50.567063 \nL 342.576905 50.406934 \nL 345.868024 46.008493 \nL 345.995509 45.790445 \nL 347.166528 43.879116 \nL 347.366939 43.235192 \nL 347.46891 43.092098 \nL 347.692005 42.717328 \nL 347.844908 42.468617 \nL 347.95126 42.257382 \nL 348.129449 42.141544 \nL 349.403741 40.196145 \nL 349.512792 39.998539 \nL 349.767295 39.640804 \nL 350.04178 39.184265 \nL 350.13132 39.061613 \nL 350.282032 38.761797 \nL 350.664064 37.559125 \nL 350.768813 37.395589 \nL 352.11685 35.361608 \nL 352.287169 35.194665 \nL 352.716644 34.71087 \nL 352.9264 34.445124 \nL 353.036343 34.288402 \nL 353.145971 34.101017 \nL 354.91784 31.3686 \nL 355.068426 31.160773 \nL 355.456716 30.680385 \nL 355.555312 30.533884 \nL 355.794024 29.924031 \nL 355.865756 29.767308 \nL 356.014146 29.528818 \nL 357.779824 26.91224 \nL 357.901207 26.769145 \nL 357.982606 26.646493 \nL 358.31076 25.982128 \nL 359.834991 23.982217 \nL 361.157778 22.305971 \nL 361.342712 22.111772 \nL 361.617918 21.726781 \nL 361.783207 21.508732 \nL 361.908019 21.222544 \nL 361.976133 21.07945 \nL 362.145049 20.680831 \nL 362.372125 20.462782 \nL 362.483582 20.258362 \nL 362.632813 20.026686 \nL 362.844624 19.665544 \nL 362.960023 19.4986 \nL 363.067464 19.369134 \nL 363.161277 19.236261 \nL 363.405509 18.91941 \nL 363.520353 18.752467 \nL 363.708245 18.347033 \nL 364.063824 17.968856 \nL 364.439017 17.474841 \nL 364.602028 17.345374 \nL 364.779641 17.185245 \nL 364.937464 16.882022 \nL 365.527096 16.183586 \nL 365.594318 16.101818 \nL 365.594318 16.101818 \n\" style=\"fill:none;stroke:#1f77b4;stroke-linecap:square;stroke-width:1.5;\"/>\n   </g>\n   <g id=\"patch_3\">\n    <path d=\"M 46.0125 203.04 \nL 46.0125 7.2 \n\" style=\"fill:none;stroke:#000000;stroke-linecap:square;stroke-linejoin:miter;stroke-width:0.8;\"/>\n   </g>\n   <g id=\"patch_4\">\n    <path d=\"M 380.8125 203.04 \nL 380.8125 7.2 \n\" style=\"fill:none;stroke:#000000;stroke-linecap:square;stroke-linejoin:miter;stroke-width:0.8;\"/>\n   </g>\n   <g id=\"patch_5\">\n    <path d=\"M 46.0125 203.04 \nL 380.8125 203.04 \n\" style=\"fill:none;stroke:#000000;stroke-linecap:square;stroke-linejoin:miter;stroke-width:0.8;\"/>\n   </g>\n   <g id=\"patch_6\">\n    <path d=\"M 46.0125 7.2 \nL 380.8125 7.2 \n\" style=\"fill:none;stroke:#000000;stroke-linecap:square;stroke-linejoin:miter;stroke-width:0.8;\"/>\n   </g>\n  </g>\n </g>\n <defs>\n  <clipPath id=\"p87e9ac5dd8\">\n   <rect height=\"195.84\" width=\"334.8\" x=\"46.0125\" y=\"7.2\"/>\n  </clipPath>\n </defs>\n</svg>\n",
      "image/png": "[encoded data removed]"
     },
     "metadata": {
      "needs_background": "light"
     }
    }
   ],
   "source": [
    "df['COMMULATIVE'].plot()"
   ]
  },
  {
   "cell_type": "code",
   "execution_count": 179,
   "metadata": {},
   "outputs": [
    {
     "output_type": "execute_result",
     "data": {
      "text/plain": [
       "YEAR           52257\n",
       "MONTH          52257\n",
       "DAY            52257\n",
       "HOUR           52257\n",
       "MINUTE         52257\n",
       "SECOND         52257\n",
       "LATITUDE       52257\n",
       "LONGITUDE      52257\n",
       "DEPTH          52257\n",
       "MAGNITUDE      52257\n",
       "T              52257\n",
       "DAY_NAME       52257\n",
       "COMMULATIVE    52257\n",
       "dtype: int64"
      ]
     },
     "metadata": {},
     "execution_count": 179
    }
   ],
   "source": [
    "df.count()"
   ]
  },
  {
   "cell_type": "code",
   "execution_count": 180,
   "metadata": {},
   "outputs": [
    {
     "output_type": "execute_result",
     "data": {
      "text/plain": [
       "52257"
      ]
     },
     "metadata": {},
     "execution_count": 180
    }
   ],
   "source": [
    "df['MAGNITUDE'].count()"
   ]
  },
  {
   "source": [
    "resample entire df"
   ],
   "cell_type": "markdown",
   "metadata": {}
  },
  {
   "cell_type": "code",
   "execution_count": 183,
   "metadata": {},
   "outputs": [
    {
     "output_type": "execute_result",
     "data": {
      "text/plain": [
       "DATETIME\n",
       "2000-12-31    3.295134\n",
       "2001-12-31    3.328486\n",
       "2002-12-31    3.283180\n",
       "2003-12-31    3.306046\n",
       "2004-12-31    3.117621\n",
       "2005-12-31    3.157007\n",
       "2006-12-31    3.200351\n",
       "2007-12-31    3.228610\n",
       "2008-12-31    3.096251\n",
       "2009-12-31    2.928923\n",
       "Freq: A-DEC, Name: MAGNITUDE, dtype: float64"
      ]
     },
     "metadata": {},
     "execution_count": 183
    }
   ],
   "source": [
    "df['MAGNITUDE'].resample('Y').mean()"
   ]
  },
  {
   "cell_type": "code",
   "execution_count": 185,
   "metadata": {},
   "outputs": [],
   "source": [
    "df_temp = df.resample('Y').agg({'MAGNITUDE': 'mean', 'DEPTH': 'median'})"
   ]
  },
  {
   "cell_type": "code",
   "execution_count": 186,
   "metadata": {},
   "outputs": [
    {
     "output_type": "execute_result",
     "data": {
      "text/plain": [
       "            MAGNITUDE  DEPTH\n",
       "DATETIME                    \n",
       "2000-12-31   3.295134      5\n",
       "2001-12-31   3.328486     10\n",
       "2002-12-31   3.283180     10\n",
       "2003-12-31   3.306046     11\n",
       "2004-12-31   3.117621     14\n",
       "2005-12-31   3.157007     21\n",
       "2006-12-31   3.200351     18\n",
       "2007-12-31   3.228610     19\n",
       "2008-12-31   3.096251     19\n",
       "2009-12-31   2.928923     17"
      ],
      "text/html": "<div>\n<style scoped>\n    .dataframe tbody tr th:only-of-type {\n        vertical-align: middle;\n    }\n\n    .dataframe tbody tr th {\n        vertical-align: top;\n    }\n\n    .dataframe thead th {\n        text-align: right;\n    }\n</style>\n<table border=\"1\" class=\"dataframe\">\n  <thead>\n    <tr style=\"text-align: right;\">\n      <th></th>\n      <th>MAGNITUDE</th>\n      <th>DEPTH</th>\n    </tr>\n    <tr>\n      <th>DATETIME</th>\n      <th></th>\n      <th></th>\n    </tr>\n  </thead>\n  <tbody>\n    <tr>\n      <th>2000-12-31</th>\n      <td>3.295134</td>\n      <td>5</td>\n    </tr>\n    <tr>\n      <th>2001-12-31</th>\n      <td>3.328486</td>\n      <td>10</td>\n    </tr>\n    <tr>\n      <th>2002-12-31</th>\n      <td>3.283180</td>\n      <td>10</td>\n    </tr>\n    <tr>\n      <th>2003-12-31</th>\n      <td>3.306046</td>\n      <td>11</td>\n    </tr>\n    <tr>\n      <th>2004-12-31</th>\n      <td>3.117621</td>\n      <td>14</td>\n    </tr>\n    <tr>\n      <th>2005-12-31</th>\n      <td>3.157007</td>\n      <td>21</td>\n    </tr>\n    <tr>\n      <th>2006-12-31</th>\n      <td>3.200351</td>\n      <td>18</td>\n    </tr>\n    <tr>\n      <th>2007-12-31</th>\n      <td>3.228610</td>\n      <td>19</td>\n    </tr>\n    <tr>\n      <th>2008-12-31</th>\n      <td>3.096251</td>\n      <td>19</td>\n    </tr>\n    <tr>\n      <th>2009-12-31</th>\n      <td>2.928923</td>\n      <td>17</td>\n    </tr>\n  </tbody>\n</table>\n</div>"
     },
     "metadata": {},
     "execution_count": 186
    }
   ],
   "source": [
    "df_temp"
   ]
  },
  {
   "cell_type": "code",
   "execution_count": null,
   "metadata": {},
   "outputs": [],
   "source": []
  }
 ]
}