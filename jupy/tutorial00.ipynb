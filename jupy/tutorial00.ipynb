{
 "metadata": {
  "language_info": {
   "codemirror_mode": {
    "name": "ipython",
    "version": 3
   },
   "file_extension": ".py",
   "mimetype": "text/x-python",
   "name": "python",
   "nbconvert_exporter": "python",
   "pygments_lexer": "ipython3",
   "version": "3.8.5-final"
  },
  "orig_nbformat": 2,
  "kernelspec": {
   "name": "python385jvsc74a57bd0dca0ade3e726a953b501b15e8e990130d2b7799f14cfd9f4271676035ebe5511",
   "display_name": "Python 3.8.5 64-bit ('base': conda)"
  }
 },
 "nbformat": 4,
 "nbformat_minor": 2,
 "cells": [
  {
   "cell_type": "code",
   "execution_count": 2,
   "metadata": {},
   "outputs": [],
   "source": [
    "import pandas"
   ]
  },
  {
   "cell_type": "code",
   "execution_count": 5,
   "metadata": {},
   "outputs": [],
   "source": [
    "df = pandas.read_csv(\"full.csv\")"
   ]
  },
  {
   "cell_type": "code",
   "execution_count": 6,
   "metadata": {},
   "outputs": [
    {
     "output_type": "execute_result",
     "data": {
      "text/plain": [
       "        YEAR MONTH  DAY  HOUR  MINUTE  SECOND  LATITUDE  LONGITUDE  DEPTH  \\\n",
       "0       1964   FEB   24    23      30    25.0   38.9000    23.9000     10   \n",
       "1       1964   APR   11    16       0     0.0   39.7500    25.2500     10   \n",
       "2       1964   APR   21     8      14    40.0   38.5000    22.2500     10   \n",
       "3       1964   APR   24     3      49    58.0   38.0000    21.8000     10   \n",
       "4       1964   APR   29     4      21     0.0   39.2500    23.7500     10   \n",
       "...      ...   ...  ...   ...     ...     ...       ...        ...    ...   \n",
       "313395  2021   APR    9     5       0     7.4   39.7856    21.9081      5   \n",
       "313396  2021   APR    9     5       0    21.9   39.7920    21.9328      5   \n",
       "313397  2021   APR    9     5       1     6.5   39.7160    22.1947      8   \n",
       "313398  2021   APR    9     5       2     5.6   39.7929    21.9154      6   \n",
       "313399  2021   APR    9     5      15     5.0   39.8007    21.8948      7   \n",
       "\n",
       "        MAGNITUDE  \n",
       "0             5.3  \n",
       "1             5.7  \n",
       "2             4.5  \n",
       "3             5.0  \n",
       "4             5.8  \n",
       "...           ...  \n",
       "313395        0.6  \n",
       "313396        1.5  \n",
       "313397        1.0  \n",
       "313398        1.0  \n",
       "313399        1.2  \n",
       "\n",
       "[313400 rows x 10 columns]"
      ],
      "text/html": "<div>\n<style scoped>\n    .dataframe tbody tr th:only-of-type {\n        vertical-align: middle;\n    }\n\n    .dataframe tbody tr th {\n        vertical-align: top;\n    }\n\n    .dataframe thead th {\n        text-align: right;\n    }\n</style>\n<table border=\"1\" class=\"dataframe\">\n  <thead>\n    <tr style=\"text-align: right;\">\n      <th></th>\n      <th>YEAR</th>\n      <th>MONTH</th>\n      <th>DAY</th>\n      <th>HOUR</th>\n      <th>MINUTE</th>\n      <th>SECOND</th>\n      <th>LATITUDE</th>\n      <th>LONGITUDE</th>\n      <th>DEPTH</th>\n      <th>MAGNITUDE</th>\n    </tr>\n  </thead>\n  <tbody>\n    <tr>\n      <th>0</th>\n      <td>1964</td>\n      <td>FEB</td>\n      <td>24</td>\n      <td>23</td>\n      <td>30</td>\n      <td>25.0</td>\n      <td>38.9000</td>\n      <td>23.9000</td>\n      <td>10</td>\n      <td>5.3</td>\n    </tr>\n    <tr>\n      <th>1</th>\n      <td>1964</td>\n      <td>APR</td>\n      <td>11</td>\n      <td>16</td>\n      <td>0</td>\n      <td>0.0</td>\n      <td>39.7500</td>\n      <td>25.2500</td>\n      <td>10</td>\n      <td>5.7</td>\n    </tr>\n    <tr>\n      <th>2</th>\n      <td>1964</td>\n      <td>APR</td>\n      <td>21</td>\n      <td>8</td>\n      <td>14</td>\n      <td>40.0</td>\n      <td>38.5000</td>\n      <td>22.2500</td>\n      <td>10</td>\n      <td>4.5</td>\n    </tr>\n    <tr>\n      <th>3</th>\n      <td>1964</td>\n      <td>APR</td>\n      <td>24</td>\n      <td>3</td>\n      <td>49</td>\n      <td>58.0</td>\n      <td>38.0000</td>\n      <td>21.8000</td>\n      <td>10</td>\n      <td>5.0</td>\n    </tr>\n    <tr>\n      <th>4</th>\n      <td>1964</td>\n      <td>APR</td>\n      <td>29</td>\n      <td>4</td>\n      <td>21</td>\n      <td>0.0</td>\n      <td>39.2500</td>\n      <td>23.7500</td>\n      <td>10</td>\n      <td>5.8</td>\n    </tr>\n    <tr>\n      <th>...</th>\n      <td>...</td>\n      <td>...</td>\n      <td>...</td>\n      <td>...</td>\n      <td>...</td>\n      <td>...</td>\n      <td>...</td>\n      <td>...</td>\n      <td>...</td>\n      <td>...</td>\n    </tr>\n    <tr>\n      <th>313395</th>\n      <td>2021</td>\n      <td>APR</td>\n      <td>9</td>\n      <td>5</td>\n      <td>0</td>\n      <td>7.4</td>\n      <td>39.7856</td>\n      <td>21.9081</td>\n      <td>5</td>\n      <td>0.6</td>\n    </tr>\n    <tr>\n      <th>313396</th>\n      <td>2021</td>\n      <td>APR</td>\n      <td>9</td>\n      <td>5</td>\n      <td>0</td>\n      <td>21.9</td>\n      <td>39.7920</td>\n      <td>21.9328</td>\n      <td>5</td>\n      <td>1.5</td>\n    </tr>\n    <tr>\n      <th>313397</th>\n      <td>2021</td>\n      <td>APR</td>\n      <td>9</td>\n      <td>5</td>\n      <td>1</td>\n      <td>6.5</td>\n      <td>39.7160</td>\n      <td>22.1947</td>\n      <td>8</td>\n      <td>1.0</td>\n    </tr>\n    <tr>\n      <th>313398</th>\n      <td>2021</td>\n      <td>APR</td>\n      <td>9</td>\n      <td>5</td>\n      <td>2</td>\n      <td>5.6</td>\n      <td>39.7929</td>\n      <td>21.9154</td>\n      <td>6</td>\n      <td>1.0</td>\n    </tr>\n    <tr>\n      <th>313399</th>\n      <td>2021</td>\n      <td>APR</td>\n      <td>9</td>\n      <td>5</td>\n      <td>15</td>\n      <td>5.0</td>\n      <td>39.8007</td>\n      <td>21.8948</td>\n      <td>7</td>\n      <td>1.2</td>\n    </tr>\n  </tbody>\n</table>\n<p>313400 rows × 10 columns</p>\n</div>"
     },
     "metadata": {},
     "execution_count": 6
    }
   ],
   "source": [
    "df"
   ]
  },
  {
   "source": [
    "what are data look like?"
   ],
   "cell_type": "markdown",
   "metadata": {}
  },
  {
   "source": [
    "df.shape"
   ],
   "cell_type": "code",
   "metadata": {},
   "execution_count": 7,
   "outputs": [
    {
     "output_type": "execute_result",
     "data": {
      "text/plain": [
       "(313400, 10)"
      ]
     },
     "metadata": {},
     "execution_count": 7
    }
   ]
  },
  {
   "source": [
    "more imformation?"
   ],
   "cell_type": "markdown",
   "metadata": {}
  },
  {
   "cell_type": "code",
   "execution_count": 8,
   "metadata": {},
   "outputs": [
    {
     "output_type": "stream",
     "name": "stdout",
     "text": [
      "<class 'pandas.core.frame.DataFrame'>\nRangeIndex: 313400 entries, 0 to 313399\nData columns (total 10 columns):\n #   Column     Non-Null Count   Dtype  \n---  ------     --------------   -----  \n 0   YEAR       313400 non-null  int64  \n 1   MONTH      313400 non-null  object \n 2   DAY        313400 non-null  int64  \n 3   HOUR       313400 non-null  int64  \n 4   MINUTE     313400 non-null  int64  \n 5   SECOND     313400 non-null  float64\n 6   LATITUDE   313400 non-null  float64\n 7   LONGITUDE  313400 non-null  float64\n 8   DEPTH      313400 non-null  int64  \n 9   MAGNITUDE  313400 non-null  float64\ndtypes: float64(4), int64(5), object(1)\nmemory usage: 23.9+ MB\n"
     ]
    }
   ],
   "source": [
    "df.info()"
   ]
  },
  {
   "source": [
    "let's change a setting in jupyter, modify pandas to display 12 columns\n",
    "also display 64 rows"
   ],
   "cell_type": "markdown",
   "metadata": {}
  },
  {
   "cell_type": "code",
   "execution_count": 32,
   "metadata": {},
   "outputs": [
    {
     "output_type": "execute_result",
     "data": {
      "text/plain": [
       "        YEAR MONTH  DAY  HOUR  MINUTE  SECOND  LATITUDE  LONGITUDE  DEPTH  \\\n",
       "0       1964   FEB   24    23      30    25.0   38.9000    23.9000     10   \n",
       "1       1964   APR   11    16       0     0.0   39.7500    25.2500     10   \n",
       "2       1964   APR   21     8      14    40.0   38.5000    22.2500     10   \n",
       "3       1964   APR   24     3      49    58.0   38.0000    21.8000     10   \n",
       "4       1964   APR   29     4      21     0.0   39.2500    23.7500     10   \n",
       "...      ...   ...  ...   ...     ...     ...       ...        ...    ...   \n",
       "313395  2021   APR    9     5       0     7.4   39.7856    21.9081      5   \n",
       "313396  2021   APR    9     5       0    21.9   39.7920    21.9328      5   \n",
       "313397  2021   APR    9     5       1     6.5   39.7160    22.1947      8   \n",
       "313398  2021   APR    9     5       2     5.6   39.7929    21.9154      6   \n",
       "313399  2021   APR    9     5      15     5.0   39.8007    21.8948      7   \n",
       "\n",
       "        MAGNITUDE  \n",
       "0             5.3  \n",
       "1             5.7  \n",
       "2             4.5  \n",
       "3             5.0  \n",
       "4             5.8  \n",
       "...           ...  \n",
       "313395        0.6  \n",
       "313396        1.5  \n",
       "313397        1.0  \n",
       "313398        1.0  \n",
       "313399        1.2  \n",
       "\n",
       "[313400 rows x 10 columns]"
      ],
      "text/html": "<div>\n<style scoped>\n    .dataframe tbody tr th:only-of-type {\n        vertical-align: middle;\n    }\n\n    .dataframe tbody tr th {\n        vertical-align: top;\n    }\n\n    .dataframe thead th {\n        text-align: right;\n    }\n</style>\n<table border=\"1\" class=\"dataframe\">\n  <thead>\n    <tr style=\"text-align: right;\">\n      <th></th>\n      <th>YEAR</th>\n      <th>MONTH</th>\n      <th>DAY</th>\n      <th>HOUR</th>\n      <th>MINUTE</th>\n      <th>SECOND</th>\n      <th>LATITUDE</th>\n      <th>LONGITUDE</th>\n      <th>DEPTH</th>\n      <th>MAGNITUDE</th>\n    </tr>\n  </thead>\n  <tbody>\n    <tr>\n      <th>0</th>\n      <td>1964</td>\n      <td>FEB</td>\n      <td>24</td>\n      <td>23</td>\n      <td>30</td>\n      <td>25.0</td>\n      <td>38.9000</td>\n      <td>23.9000</td>\n      <td>10</td>\n      <td>5.3</td>\n    </tr>\n    <tr>\n      <th>1</th>\n      <td>1964</td>\n      <td>APR</td>\n      <td>11</td>\n      <td>16</td>\n      <td>0</td>\n      <td>0.0</td>\n      <td>39.7500</td>\n      <td>25.2500</td>\n      <td>10</td>\n      <td>5.7</td>\n    </tr>\n    <tr>\n      <th>2</th>\n      <td>1964</td>\n      <td>APR</td>\n      <td>21</td>\n      <td>8</td>\n      <td>14</td>\n      <td>40.0</td>\n      <td>38.5000</td>\n      <td>22.2500</td>\n      <td>10</td>\n      <td>4.5</td>\n    </tr>\n    <tr>\n      <th>3</th>\n      <td>1964</td>\n      <td>APR</td>\n      <td>24</td>\n      <td>3</td>\n      <td>49</td>\n      <td>58.0</td>\n      <td>38.0000</td>\n      <td>21.8000</td>\n      <td>10</td>\n      <td>5.0</td>\n    </tr>\n    <tr>\n      <th>4</th>\n      <td>1964</td>\n      <td>APR</td>\n      <td>29</td>\n      <td>4</td>\n      <td>21</td>\n      <td>0.0</td>\n      <td>39.2500</td>\n      <td>23.7500</td>\n      <td>10</td>\n      <td>5.8</td>\n    </tr>\n    <tr>\n      <th>...</th>\n      <td>...</td>\n      <td>...</td>\n      <td>...</td>\n      <td>...</td>\n      <td>...</td>\n      <td>...</td>\n      <td>...</td>\n      <td>...</td>\n      <td>...</td>\n      <td>...</td>\n    </tr>\n    <tr>\n      <th>313395</th>\n      <td>2021</td>\n      <td>APR</td>\n      <td>9</td>\n      <td>5</td>\n      <td>0</td>\n      <td>7.4</td>\n      <td>39.7856</td>\n      <td>21.9081</td>\n      <td>5</td>\n      <td>0.6</td>\n    </tr>\n    <tr>\n      <th>313396</th>\n      <td>2021</td>\n      <td>APR</td>\n      <td>9</td>\n      <td>5</td>\n      <td>0</td>\n      <td>21.9</td>\n      <td>39.7920</td>\n      <td>21.9328</td>\n      <td>5</td>\n      <td>1.5</td>\n    </tr>\n    <tr>\n      <th>313397</th>\n      <td>2021</td>\n      <td>APR</td>\n      <td>9</td>\n      <td>5</td>\n      <td>1</td>\n      <td>6.5</td>\n      <td>39.7160</td>\n      <td>22.1947</td>\n      <td>8</td>\n      <td>1.0</td>\n    </tr>\n    <tr>\n      <th>313398</th>\n      <td>2021</td>\n      <td>APR</td>\n      <td>9</td>\n      <td>5</td>\n      <td>2</td>\n      <td>5.6</td>\n      <td>39.7929</td>\n      <td>21.9154</td>\n      <td>6</td>\n      <td>1.0</td>\n    </tr>\n    <tr>\n      <th>313399</th>\n      <td>2021</td>\n      <td>APR</td>\n      <td>9</td>\n      <td>5</td>\n      <td>15</td>\n      <td>5.0</td>\n      <td>39.8007</td>\n      <td>21.8948</td>\n      <td>7</td>\n      <td>1.2</td>\n    </tr>\n  </tbody>\n</table>\n<p>313400 rows × 10 columns</p>\n</div>"
     },
     "metadata": {},
     "execution_count": 32
    }
   ],
   "source": [
    "pandas.set_option('display.max_columns', 12)\n",
    "pandas.set_option('display.max_rows', 64)\n",
    "df"
   ]
  },
  {
   "cell_type": "code",
   "execution_count": 33,
   "metadata": {},
   "outputs": [
    {
     "output_type": "execute_result",
     "data": {
      "text/plain": [
       "        YEAR MONTH  DAY  HOUR  MINUTE  SECOND  LATITUDE  LONGITUDE  DEPTH  \\\n",
       "0       1964   FEB   24    23      30    25.0   38.9000    23.9000     10   \n",
       "1       1964   APR   11    16       0     0.0   39.7500    25.2500     10   \n",
       "2       1964   APR   21     8      14    40.0   38.5000    22.2500     10   \n",
       "3       1964   APR   24     3      49    58.0   38.0000    21.8000     10   \n",
       "4       1964   APR   29     4      21     0.0   39.2500    23.7500     10   \n",
       "...      ...   ...  ...   ...     ...     ...       ...        ...    ...   \n",
       "313395  2021   APR    9     5       0     7.4   39.7856    21.9081      5   \n",
       "313396  2021   APR    9     5       0    21.9   39.7920    21.9328      5   \n",
       "313397  2021   APR    9     5       1     6.5   39.7160    22.1947      8   \n",
       "313398  2021   APR    9     5       2     5.6   39.7929    21.9154      6   \n",
       "313399  2021   APR    9     5      15     5.0   39.8007    21.8948      7   \n",
       "\n",
       "        MAGNITUDE  \n",
       "0             5.3  \n",
       "1             5.7  \n",
       "2             4.5  \n",
       "3             5.0  \n",
       "4             5.8  \n",
       "...           ...  \n",
       "313395        0.6  \n",
       "313396        1.5  \n",
       "313397        1.0  \n",
       "313398        1.0  \n",
       "313399        1.2  \n",
       "\n",
       "[313400 rows x 10 columns]"
      ],
      "text/html": "<div>\n<style scoped>\n    .dataframe tbody tr th:only-of-type {\n        vertical-align: middle;\n    }\n\n    .dataframe tbody tr th {\n        vertical-align: top;\n    }\n\n    .dataframe thead th {\n        text-align: right;\n    }\n</style>\n<table border=\"1\" class=\"dataframe\">\n  <thead>\n    <tr style=\"text-align: right;\">\n      <th></th>\n      <th>YEAR</th>\n      <th>MONTH</th>\n      <th>DAY</th>\n      <th>HOUR</th>\n      <th>MINUTE</th>\n      <th>SECOND</th>\n      <th>LATITUDE</th>\n      <th>LONGITUDE</th>\n      <th>DEPTH</th>\n      <th>MAGNITUDE</th>\n    </tr>\n  </thead>\n  <tbody>\n    <tr>\n      <th>0</th>\n      <td>1964</td>\n      <td>FEB</td>\n      <td>24</td>\n      <td>23</td>\n      <td>30</td>\n      <td>25.0</td>\n      <td>38.9000</td>\n      <td>23.9000</td>\n      <td>10</td>\n      <td>5.3</td>\n    </tr>\n    <tr>\n      <th>1</th>\n      <td>1964</td>\n      <td>APR</td>\n      <td>11</td>\n      <td>16</td>\n      <td>0</td>\n      <td>0.0</td>\n      <td>39.7500</td>\n      <td>25.2500</td>\n      <td>10</td>\n      <td>5.7</td>\n    </tr>\n    <tr>\n      <th>2</th>\n      <td>1964</td>\n      <td>APR</td>\n      <td>21</td>\n      <td>8</td>\n      <td>14</td>\n      <td>40.0</td>\n      <td>38.5000</td>\n      <td>22.2500</td>\n      <td>10</td>\n      <td>4.5</td>\n    </tr>\n    <tr>\n      <th>3</th>\n      <td>1964</td>\n      <td>APR</td>\n      <td>24</td>\n      <td>3</td>\n      <td>49</td>\n      <td>58.0</td>\n      <td>38.0000</td>\n      <td>21.8000</td>\n      <td>10</td>\n      <td>5.0</td>\n    </tr>\n    <tr>\n      <th>4</th>\n      <td>1964</td>\n      <td>APR</td>\n      <td>29</td>\n      <td>4</td>\n      <td>21</td>\n      <td>0.0</td>\n      <td>39.2500</td>\n      <td>23.7500</td>\n      <td>10</td>\n      <td>5.8</td>\n    </tr>\n    <tr>\n      <th>...</th>\n      <td>...</td>\n      <td>...</td>\n      <td>...</td>\n      <td>...</td>\n      <td>...</td>\n      <td>...</td>\n      <td>...</td>\n      <td>...</td>\n      <td>...</td>\n      <td>...</td>\n    </tr>\n    <tr>\n      <th>313395</th>\n      <td>2021</td>\n      <td>APR</td>\n      <td>9</td>\n      <td>5</td>\n      <td>0</td>\n      <td>7.4</td>\n      <td>39.7856</td>\n      <td>21.9081</td>\n      <td>5</td>\n      <td>0.6</td>\n    </tr>\n    <tr>\n      <th>313396</th>\n      <td>2021</td>\n      <td>APR</td>\n      <td>9</td>\n      <td>5</td>\n      <td>0</td>\n      <td>21.9</td>\n      <td>39.7920</td>\n      <td>21.9328</td>\n      <td>5</td>\n      <td>1.5</td>\n    </tr>\n    <tr>\n      <th>313397</th>\n      <td>2021</td>\n      <td>APR</td>\n      <td>9</td>\n      <td>5</td>\n      <td>1</td>\n      <td>6.5</td>\n      <td>39.7160</td>\n      <td>22.1947</td>\n      <td>8</td>\n      <td>1.0</td>\n    </tr>\n    <tr>\n      <th>313398</th>\n      <td>2021</td>\n      <td>APR</td>\n      <td>9</td>\n      <td>5</td>\n      <td>2</td>\n      <td>5.6</td>\n      <td>39.7929</td>\n      <td>21.9154</td>\n      <td>6</td>\n      <td>1.0</td>\n    </tr>\n    <tr>\n      <th>313399</th>\n      <td>2021</td>\n      <td>APR</td>\n      <td>9</td>\n      <td>5</td>\n      <td>15</td>\n      <td>5.0</td>\n      <td>39.8007</td>\n      <td>21.8948</td>\n      <td>7</td>\n      <td>1.2</td>\n    </tr>\n  </tbody>\n</table>\n<p>313400 rows × 10 columns</p>\n</div>"
     },
     "metadata": {},
     "execution_count": 33
    }
   ],
   "source": [
    "pandas.reset_option('display.max_columns')\n",
    "pandas.reset_option('display.max_rows')\n",
    "df"
   ]
  },
  {
   "cell_type": "code",
   "execution_count": 28,
   "metadata": {},
   "outputs": [
    {
     "output_type": "execute_result",
     "data": {
      "text/plain": [
       "      COLUMN                   ATTRIBUTE\n",
       "0       YEAR       event Date: Year XXXX\n",
       "1      MONTH      event Date: Month abbr\n",
       "2        DAY             event Date: Day\n",
       "3       HOUR  event Time (GMT): Hour 24h\n",
       "4     MINUTE    event Time (GMT): Minute\n",
       "5     SECOND    event Time (GMT): Second\n",
       "6   LATITUDE          event Latitude (N)\n",
       "7  LONGITUDE         event Longitude (E)\n",
       "8      DEPTH            event Depth (km)\n",
       "9  MAGNITUDE          event Magnitude Mr"
      ],
      "text/html": "<div>\n<style scoped>\n    .dataframe tbody tr th:only-of-type {\n        vertical-align: middle;\n    }\n\n    .dataframe tbody tr th {\n        vertical-align: top;\n    }\n\n    .dataframe thead th {\n        text-align: right;\n    }\n</style>\n<table border=\"1\" class=\"dataframe\">\n  <thead>\n    <tr style=\"text-align: right;\">\n      <th></th>\n      <th>COLUMN</th>\n      <th>ATTRIBUTE</th>\n    </tr>\n  </thead>\n  <tbody>\n    <tr>\n      <th>0</th>\n      <td>YEAR</td>\n      <td>event Date: Year XXXX</td>\n    </tr>\n    <tr>\n      <th>1</th>\n      <td>MONTH</td>\n      <td>event Date: Month abbr</td>\n    </tr>\n    <tr>\n      <th>2</th>\n      <td>DAY</td>\n      <td>event Date: Day</td>\n    </tr>\n    <tr>\n      <th>3</th>\n      <td>HOUR</td>\n      <td>event Time (GMT): Hour 24h</td>\n    </tr>\n    <tr>\n      <th>4</th>\n      <td>MINUTE</td>\n      <td>event Time (GMT): Minute</td>\n    </tr>\n    <tr>\n      <th>5</th>\n      <td>SECOND</td>\n      <td>event Time (GMT): Second</td>\n    </tr>\n    <tr>\n      <th>6</th>\n      <td>LATITUDE</td>\n      <td>event Latitude (N)</td>\n    </tr>\n    <tr>\n      <th>7</th>\n      <td>LONGITUDE</td>\n      <td>event Longitude (E)</td>\n    </tr>\n    <tr>\n      <th>8</th>\n      <td>DEPTH</td>\n      <td>event Depth (km)</td>\n    </tr>\n    <tr>\n      <th>9</th>\n      <td>MAGNITUDE</td>\n      <td>event Magnitude Mr</td>\n    </tr>\n  </tbody>\n</table>\n</div>"
     },
     "metadata": {},
     "execution_count": 28
    }
   ],
   "source": [
    "pd_schema = pandas.read_csv(\"schema.csv\")\n",
    "pd_schema"
   ]
  },
  {
   "cell_type": "code",
   "execution_count": 25,
   "metadata": {},
   "outputs": [
    {
     "output_type": "execute_result",
     "data": {
      "text/plain": [
       "(10, 2)"
      ]
     },
     "metadata": {},
     "execution_count": 25
    }
   ],
   "source": [
    "pd_schema.shape"
   ]
  },
  {
   "cell_type": "code",
   "execution_count": 26,
   "metadata": {},
   "outputs": [
    {
     "output_type": "stream",
     "name": "stdout",
     "text": [
      "<class 'pandas.core.frame.DataFrame'>\nRangeIndex: 10 entries, 0 to 9\nData columns (total 2 columns):\n #   Column     Non-Null Count  Dtype \n---  ------     --------------  ----- \n 0   COLUMN     10 non-null     object\n 1   ATTRIBUTE  10 non-null     object\ndtypes: object(2)\nmemory usage: 288.0+ bytes\n"
     ]
    }
   ],
   "source": [
    "pd_schema.info()"
   ]
  },
  {
   "source": [
    "methods to only see a certain number of rows"
   ],
   "cell_type": "markdown",
   "metadata": {}
  },
  {
   "cell_type": "code",
   "execution_count": 34,
   "metadata": {},
   "outputs": [
    {
     "output_type": "execute_result",
     "data": {
      "text/plain": [
       "   YEAR MONTH  DAY  HOUR  MINUTE  SECOND  LATITUDE  LONGITUDE  DEPTH  \\\n",
       "0  1964   FEB   24    23      30    25.0     38.90      23.90     10   \n",
       "1  1964   APR   11    16       0     0.0     39.75      25.25     10   \n",
       "2  1964   APR   21     8      14    40.0     38.50      22.25     10   \n",
       "3  1964   APR   24     3      49    58.0     38.00      21.80     10   \n",
       "4  1964   APR   29     4      21     0.0     39.25      23.75     10   \n",
       "\n",
       "   MAGNITUDE  \n",
       "0        5.3  \n",
       "1        5.7  \n",
       "2        4.5  \n",
       "3        5.0  \n",
       "4        5.8  "
      ],
      "text/html": "<div>\n<style scoped>\n    .dataframe tbody tr th:only-of-type {\n        vertical-align: middle;\n    }\n\n    .dataframe tbody tr th {\n        vertical-align: top;\n    }\n\n    .dataframe thead th {\n        text-align: right;\n    }\n</style>\n<table border=\"1\" class=\"dataframe\">\n  <thead>\n    <tr style=\"text-align: right;\">\n      <th></th>\n      <th>YEAR</th>\n      <th>MONTH</th>\n      <th>DAY</th>\n      <th>HOUR</th>\n      <th>MINUTE</th>\n      <th>SECOND</th>\n      <th>LATITUDE</th>\n      <th>LONGITUDE</th>\n      <th>DEPTH</th>\n      <th>MAGNITUDE</th>\n    </tr>\n  </thead>\n  <tbody>\n    <tr>\n      <th>0</th>\n      <td>1964</td>\n      <td>FEB</td>\n      <td>24</td>\n      <td>23</td>\n      <td>30</td>\n      <td>25.0</td>\n      <td>38.90</td>\n      <td>23.90</td>\n      <td>10</td>\n      <td>5.3</td>\n    </tr>\n    <tr>\n      <th>1</th>\n      <td>1964</td>\n      <td>APR</td>\n      <td>11</td>\n      <td>16</td>\n      <td>0</td>\n      <td>0.0</td>\n      <td>39.75</td>\n      <td>25.25</td>\n      <td>10</td>\n      <td>5.7</td>\n    </tr>\n    <tr>\n      <th>2</th>\n      <td>1964</td>\n      <td>APR</td>\n      <td>21</td>\n      <td>8</td>\n      <td>14</td>\n      <td>40.0</td>\n      <td>38.50</td>\n      <td>22.25</td>\n      <td>10</td>\n      <td>4.5</td>\n    </tr>\n    <tr>\n      <th>3</th>\n      <td>1964</td>\n      <td>APR</td>\n      <td>24</td>\n      <td>3</td>\n      <td>49</td>\n      <td>58.0</td>\n      <td>38.00</td>\n      <td>21.80</td>\n      <td>10</td>\n      <td>5.0</td>\n    </tr>\n    <tr>\n      <th>4</th>\n      <td>1964</td>\n      <td>APR</td>\n      <td>29</td>\n      <td>4</td>\n      <td>21</td>\n      <td>0.0</td>\n      <td>39.25</td>\n      <td>23.75</td>\n      <td>10</td>\n      <td>5.8</td>\n    </tr>\n  </tbody>\n</table>\n</div>"
     },
     "metadata": {},
     "execution_count": 34
    }
   ],
   "source": [
    "df.head()"
   ]
  },
  {
   "cell_type": "code",
   "execution_count": 35,
   "metadata": {},
   "outputs": [
    {
     "output_type": "execute_result",
     "data": {
      "text/plain": [
       "        YEAR MONTH  DAY  HOUR  MINUTE  SECOND  LATITUDE  LONGITUDE  DEPTH  \\\n",
       "313395  2021   APR    9     5       0     7.4   39.7856    21.9081      5   \n",
       "313396  2021   APR    9     5       0    21.9   39.7920    21.9328      5   \n",
       "313397  2021   APR    9     5       1     6.5   39.7160    22.1947      8   \n",
       "313398  2021   APR    9     5       2     5.6   39.7929    21.9154      6   \n",
       "313399  2021   APR    9     5      15     5.0   39.8007    21.8948      7   \n",
       "\n",
       "        MAGNITUDE  \n",
       "313395        0.6  \n",
       "313396        1.5  \n",
       "313397        1.0  \n",
       "313398        1.0  \n",
       "313399        1.2  "
      ],
      "text/html": "<div>\n<style scoped>\n    .dataframe tbody tr th:only-of-type {\n        vertical-align: middle;\n    }\n\n    .dataframe tbody tr th {\n        vertical-align: top;\n    }\n\n    .dataframe thead th {\n        text-align: right;\n    }\n</style>\n<table border=\"1\" class=\"dataframe\">\n  <thead>\n    <tr style=\"text-align: right;\">\n      <th></th>\n      <th>YEAR</th>\n      <th>MONTH</th>\n      <th>DAY</th>\n      <th>HOUR</th>\n      <th>MINUTE</th>\n      <th>SECOND</th>\n      <th>LATITUDE</th>\n      <th>LONGITUDE</th>\n      <th>DEPTH</th>\n      <th>MAGNITUDE</th>\n    </tr>\n  </thead>\n  <tbody>\n    <tr>\n      <th>313395</th>\n      <td>2021</td>\n      <td>APR</td>\n      <td>9</td>\n      <td>5</td>\n      <td>0</td>\n      <td>7.4</td>\n      <td>39.7856</td>\n      <td>21.9081</td>\n      <td>5</td>\n      <td>0.6</td>\n    </tr>\n    <tr>\n      <th>313396</th>\n      <td>2021</td>\n      <td>APR</td>\n      <td>9</td>\n      <td>5</td>\n      <td>0</td>\n      <td>21.9</td>\n      <td>39.7920</td>\n      <td>21.9328</td>\n      <td>5</td>\n      <td>1.5</td>\n    </tr>\n    <tr>\n      <th>313397</th>\n      <td>2021</td>\n      <td>APR</td>\n      <td>9</td>\n      <td>5</td>\n      <td>1</td>\n      <td>6.5</td>\n      <td>39.7160</td>\n      <td>22.1947</td>\n      <td>8</td>\n      <td>1.0</td>\n    </tr>\n    <tr>\n      <th>313398</th>\n      <td>2021</td>\n      <td>APR</td>\n      <td>9</td>\n      <td>5</td>\n      <td>2</td>\n      <td>5.6</td>\n      <td>39.7929</td>\n      <td>21.9154</td>\n      <td>6</td>\n      <td>1.0</td>\n    </tr>\n    <tr>\n      <th>313399</th>\n      <td>2021</td>\n      <td>APR</td>\n      <td>9</td>\n      <td>5</td>\n      <td>15</td>\n      <td>5.0</td>\n      <td>39.8007</td>\n      <td>21.8948</td>\n      <td>7</td>\n      <td>1.2</td>\n    </tr>\n  </tbody>\n</table>\n</div>"
     },
     "metadata": {},
     "execution_count": 35
    }
   ],
   "source": [
    "df.tail()"
   ]
  },
  {
   "source": [
    "just the last 10 rows"
   ],
   "cell_type": "markdown",
   "metadata": {}
  },
  {
   "cell_type": "code",
   "execution_count": 36,
   "metadata": {},
   "outputs": [
    {
     "output_type": "execute_result",
     "data": {
      "text/plain": [
       "   YEAR MONTH  DAY  HOUR  MINUTE  SECOND  LATITUDE  LONGITUDE  DEPTH  \\\n",
       "0  1964   FEB   24    23      30    25.0     38.90      23.90     10   \n",
       "1  1964   APR   11    16       0     0.0     39.75      25.25     10   \n",
       "2  1964   APR   21     8      14    40.0     38.50      22.25     10   \n",
       "3  1964   APR   24     3      49    58.0     38.00      21.80     10   \n",
       "4  1964   APR   29     4      21     0.0     39.25      23.75     10   \n",
       "5  1964   APR   29    17       0     3.0     39.25      23.75     10   \n",
       "6  1964   APR   30    18      11     0.0     39.25      23.75     10   \n",
       "7  1964   MAY    2    23      24     0.0     39.25      23.75     10   \n",
       "8  1964   JUL   12    23      32    50.5     38.50      23.25     10   \n",
       "9  1964   JUL   17     2      34    28.0     38.00      23.50    150   \n",
       "\n",
       "   MAGNITUDE  \n",
       "0        5.3  \n",
       "1        5.7  \n",
       "2        4.5  \n",
       "3        5.0  \n",
       "4        5.8  \n",
       "5        5.2  \n",
       "6        4.9  \n",
       "7        4.2  \n",
       "8        4.4  \n",
       "9        5.8  "
      ],
      "text/html": "<div>\n<style scoped>\n    .dataframe tbody tr th:only-of-type {\n        vertical-align: middle;\n    }\n\n    .dataframe tbody tr th {\n        vertical-align: top;\n    }\n\n    .dataframe thead th {\n        text-align: right;\n    }\n</style>\n<table border=\"1\" class=\"dataframe\">\n  <thead>\n    <tr style=\"text-align: right;\">\n      <th></th>\n      <th>YEAR</th>\n      <th>MONTH</th>\n      <th>DAY</th>\n      <th>HOUR</th>\n      <th>MINUTE</th>\n      <th>SECOND</th>\n      <th>LATITUDE</th>\n      <th>LONGITUDE</th>\n      <th>DEPTH</th>\n      <th>MAGNITUDE</th>\n    </tr>\n  </thead>\n  <tbody>\n    <tr>\n      <th>0</th>\n      <td>1964</td>\n      <td>FEB</td>\n      <td>24</td>\n      <td>23</td>\n      <td>30</td>\n      <td>25.0</td>\n      <td>38.90</td>\n      <td>23.90</td>\n      <td>10</td>\n      <td>5.3</td>\n    </tr>\n    <tr>\n      <th>1</th>\n      <td>1964</td>\n      <td>APR</td>\n      <td>11</td>\n      <td>16</td>\n      <td>0</td>\n      <td>0.0</td>\n      <td>39.75</td>\n      <td>25.25</td>\n      <td>10</td>\n      <td>5.7</td>\n    </tr>\n    <tr>\n      <th>2</th>\n      <td>1964</td>\n      <td>APR</td>\n      <td>21</td>\n      <td>8</td>\n      <td>14</td>\n      <td>40.0</td>\n      <td>38.50</td>\n      <td>22.25</td>\n      <td>10</td>\n      <td>4.5</td>\n    </tr>\n    <tr>\n      <th>3</th>\n      <td>1964</td>\n      <td>APR</td>\n      <td>24</td>\n      <td>3</td>\n      <td>49</td>\n      <td>58.0</td>\n      <td>38.00</td>\n      <td>21.80</td>\n      <td>10</td>\n      <td>5.0</td>\n    </tr>\n    <tr>\n      <th>4</th>\n      <td>1964</td>\n      <td>APR</td>\n      <td>29</td>\n      <td>4</td>\n      <td>21</td>\n      <td>0.0</td>\n      <td>39.25</td>\n      <td>23.75</td>\n      <td>10</td>\n      <td>5.8</td>\n    </tr>\n    <tr>\n      <th>5</th>\n      <td>1964</td>\n      <td>APR</td>\n      <td>29</td>\n      <td>17</td>\n      <td>0</td>\n      <td>3.0</td>\n      <td>39.25</td>\n      <td>23.75</td>\n      <td>10</td>\n      <td>5.2</td>\n    </tr>\n    <tr>\n      <th>6</th>\n      <td>1964</td>\n      <td>APR</td>\n      <td>30</td>\n      <td>18</td>\n      <td>11</td>\n      <td>0.0</td>\n      <td>39.25</td>\n      <td>23.75</td>\n      <td>10</td>\n      <td>4.9</td>\n    </tr>\n    <tr>\n      <th>7</th>\n      <td>1964</td>\n      <td>MAY</td>\n      <td>2</td>\n      <td>23</td>\n      <td>24</td>\n      <td>0.0</td>\n      <td>39.25</td>\n      <td>23.75</td>\n      <td>10</td>\n      <td>4.2</td>\n    </tr>\n    <tr>\n      <th>8</th>\n      <td>1964</td>\n      <td>JUL</td>\n      <td>12</td>\n      <td>23</td>\n      <td>32</td>\n      <td>50.5</td>\n      <td>38.50</td>\n      <td>23.25</td>\n      <td>10</td>\n      <td>4.4</td>\n    </tr>\n    <tr>\n      <th>9</th>\n      <td>1964</td>\n      <td>JUL</td>\n      <td>17</td>\n      <td>2</td>\n      <td>34</td>\n      <td>28.0</td>\n      <td>38.00</td>\n      <td>23.50</td>\n      <td>150</td>\n      <td>5.8</td>\n    </tr>\n  </tbody>\n</table>\n</div>"
     },
     "metadata": {},
     "execution_count": 36
    }
   ],
   "source": [
    "df.head(10)"
   ]
  },
  {
   "source": [
    "# 2\n",
    "what is a dataframe, what does it looks like?"
   ],
   "cell_type": "markdown",
   "metadata": {}
  },
  {
   "source": [
    "df.head() #first 5 rows"
   ],
   "cell_type": "code",
   "metadata": {},
   "execution_count": 38,
   "outputs": [
    {
     "output_type": "execute_result",
     "data": {
      "text/plain": [
       "   YEAR MONTH  DAY  HOUR  MINUTE  SECOND  LATITUDE  LONGITUDE  DEPTH  \\\n",
       "0  1964   FEB   24    23      30    25.0     38.90      23.90     10   \n",
       "1  1964   APR   11    16       0     0.0     39.75      25.25     10   \n",
       "2  1964   APR   21     8      14    40.0     38.50      22.25     10   \n",
       "3  1964   APR   24     3      49    58.0     38.00      21.80     10   \n",
       "4  1964   APR   29     4      21     0.0     39.25      23.75     10   \n",
       "\n",
       "   MAGNITUDE  \n",
       "0        5.3  \n",
       "1        5.7  \n",
       "2        4.5  \n",
       "3        5.0  \n",
       "4        5.8  "
      ],
      "text/html": "<div>\n<style scoped>\n    .dataframe tbody tr th:only-of-type {\n        vertical-align: middle;\n    }\n\n    .dataframe tbody tr th {\n        vertical-align: top;\n    }\n\n    .dataframe thead th {\n        text-align: right;\n    }\n</style>\n<table border=\"1\" class=\"dataframe\">\n  <thead>\n    <tr style=\"text-align: right;\">\n      <th></th>\n      <th>YEAR</th>\n      <th>MONTH</th>\n      <th>DAY</th>\n      <th>HOUR</th>\n      <th>MINUTE</th>\n      <th>SECOND</th>\n      <th>LATITUDE</th>\n      <th>LONGITUDE</th>\n      <th>DEPTH</th>\n      <th>MAGNITUDE</th>\n    </tr>\n  </thead>\n  <tbody>\n    <tr>\n      <th>0</th>\n      <td>1964</td>\n      <td>FEB</td>\n      <td>24</td>\n      <td>23</td>\n      <td>30</td>\n      <td>25.0</td>\n      <td>38.90</td>\n      <td>23.90</td>\n      <td>10</td>\n      <td>5.3</td>\n    </tr>\n    <tr>\n      <th>1</th>\n      <td>1964</td>\n      <td>APR</td>\n      <td>11</td>\n      <td>16</td>\n      <td>0</td>\n      <td>0.0</td>\n      <td>39.75</td>\n      <td>25.25</td>\n      <td>10</td>\n      <td>5.7</td>\n    </tr>\n    <tr>\n      <th>2</th>\n      <td>1964</td>\n      <td>APR</td>\n      <td>21</td>\n      <td>8</td>\n      <td>14</td>\n      <td>40.0</td>\n      <td>38.50</td>\n      <td>22.25</td>\n      <td>10</td>\n      <td>4.5</td>\n    </tr>\n    <tr>\n      <th>3</th>\n      <td>1964</td>\n      <td>APR</td>\n      <td>24</td>\n      <td>3</td>\n      <td>49</td>\n      <td>58.0</td>\n      <td>38.00</td>\n      <td>21.80</td>\n      <td>10</td>\n      <td>5.0</td>\n    </tr>\n    <tr>\n      <th>4</th>\n      <td>1964</td>\n      <td>APR</td>\n      <td>29</td>\n      <td>4</td>\n      <td>21</td>\n      <td>0.0</td>\n      <td>39.25</td>\n      <td>23.75</td>\n      <td>10</td>\n      <td>5.8</td>\n    </tr>\n  </tbody>\n</table>\n</div>"
     },
     "metadata": {},
     "execution_count": 38
    }
   ]
  },
  {
   "source": [
    "let's find out how pandas work\n",
    "by creating a dictionary, every value of which is a list"
   ],
   "cell_type": "markdown",
   "metadata": {}
  },
  {
   "cell_type": "code",
   "execution_count": 43,
   "metadata": {},
   "outputs": [],
   "source": [
    "quakes = {\"YEAR\": [2022, 2023], \n",
    "    \"MONTH\": [\"JAN\", \"FEB\"],\n",
    "    \"DAY\": [17, 18],\n",
    "    \"HOUR\": [8, 16],\n",
    "    \"MINUTE\": [15, 45],\n",
    "    \"SECOND\": [20.0, 50.0],\n",
    "    \"LATITUDE\": [38, 39],\n",
    "    \"LONGITUDE\": [24, 25],\n",
    "    \"DEPTH\": [10, 20],\n",
    "    \"MAGNITUDE\": [6.5, 7.5]}"
   ]
  },
  {
   "cell_type": "code",
   "execution_count": 44,
   "metadata": {},
   "outputs": [
    {
     "output_type": "execute_result",
     "data": {
      "text/plain": [
       "{'YEAR': [2022, 2023],\n",
       " 'MONTH': ['JAN', 'FEB'],\n",
       " 'DAY': [17, 18],\n",
       " 'HOUR': [8, 16],\n",
       " 'MINUTE': [15, 45],\n",
       " 'SECOND': [20.0, 50.0],\n",
       " 'LATITUDE': [38, 39],\n",
       " 'LONGITUDE': [24, 25],\n",
       " 'DEPTH': [10, 20],\n",
       " 'MAGNITUDE': [6.5, 7.5]}"
      ]
     },
     "metadata": {},
     "execution_count": 44
    }
   ],
   "source": [
    "quakes"
   ]
  },
  {
   "cell_type": "code",
   "execution_count": 46,
   "metadata": {},
   "outputs": [
    {
     "output_type": "execute_result",
     "data": {
      "text/plain": [
       "[10, 20]"
      ]
     },
     "metadata": {},
     "execution_count": 46
    }
   ],
   "source": [
    "quakes['DEPTH']"
   ]
  },
  {
   "source": [
    "so a DataFrame is created by this kind of dicts"
   ],
   "cell_type": "markdown",
   "metadata": {}
  },
  {
   "cell_type": "code",
   "execution_count": 45,
   "metadata": {},
   "outputs": [
    {
     "output_type": "execute_result",
     "data": {
      "text/plain": [
       "   YEAR MONTH  DAY  HOUR  MINUTE  SECOND  LATITUDE  LONGITUDE  DEPTH  \\\n",
       "0  2022   JAN   17     8      15    20.0        38         24     10   \n",
       "1  2023   FEB   18    16      45    50.0        39         25     20   \n",
       "\n",
       "   MAGNITUDE  \n",
       "0        6.5  \n",
       "1        7.5  "
      ],
      "text/html": "<div>\n<style scoped>\n    .dataframe tbody tr th:only-of-type {\n        vertical-align: middle;\n    }\n\n    .dataframe tbody tr th {\n        vertical-align: top;\n    }\n\n    .dataframe thead th {\n        text-align: right;\n    }\n</style>\n<table border=\"1\" class=\"dataframe\">\n  <thead>\n    <tr style=\"text-align: right;\">\n      <th></th>\n      <th>YEAR</th>\n      <th>MONTH</th>\n      <th>DAY</th>\n      <th>HOUR</th>\n      <th>MINUTE</th>\n      <th>SECOND</th>\n      <th>LATITUDE</th>\n      <th>LONGITUDE</th>\n      <th>DEPTH</th>\n      <th>MAGNITUDE</th>\n    </tr>\n  </thead>\n  <tbody>\n    <tr>\n      <th>0</th>\n      <td>2022</td>\n      <td>JAN</td>\n      <td>17</td>\n      <td>8</td>\n      <td>15</td>\n      <td>20.0</td>\n      <td>38</td>\n      <td>24</td>\n      <td>10</td>\n      <td>6.5</td>\n    </tr>\n    <tr>\n      <th>1</th>\n      <td>2023</td>\n      <td>FEB</td>\n      <td>18</td>\n      <td>16</td>\n      <td>45</td>\n      <td>50.0</td>\n      <td>39</td>\n      <td>25</td>\n      <td>20</td>\n      <td>7.5</td>\n    </tr>\n  </tbody>\n</table>\n</div>"
     },
     "metadata": {},
     "execution_count": 45
    }
   ],
   "source": [
    "df_quakes = pandas.DataFrame(quakes)\n",
    "df_quakes"
   ]
  },
  {
   "source": [
    "how to access values of a single column (just like a key of a dict)"
   ],
   "cell_type": "markdown",
   "metadata": {}
  },
  {
   "cell_type": "code",
   "execution_count": 48,
   "metadata": {},
   "outputs": [
    {
     "output_type": "execute_result",
     "data": {
      "text/plain": [
       "0    6.5\n",
       "1    7.5\n",
       "Name: MAGNITUDE, dtype: float64"
      ]
     },
     "metadata": {},
     "execution_count": 48
    }
   ],
   "source": [
    "df_quakes[\"MAGNITUDE\"]"
   ]
  },
  {
   "source": [
    "but it's so much more"
   ],
   "cell_type": "markdown",
   "metadata": {}
  },
  {
   "cell_type": "code",
   "execution_count": 50,
   "metadata": {},
   "outputs": [
    {
     "output_type": "execute_result",
     "data": {
      "text/plain": [
       "pandas.core.series.Series"
      ]
     },
     "metadata": {},
     "execution_count": 50
    }
   ],
   "source": [
    "type(df_quakes['MAGNITUDE'])"
   ]
  },
  {
   "source": [
    "you can see the definition of series online\n",
    "series: 1d array\n",
    "\n",
    "dataframe: rows and columns\n",
    "series: rows of a single "
   ],
   "cell_type": "markdown",
   "metadata": {}
  },
  {
   "source": [
    "df.MAGNITUDE # we can also access it like that"
   ],
   "cell_type": "code",
   "metadata": {},
   "execution_count": 52,
   "outputs": [
    {
     "output_type": "execute_result",
     "data": {
      "text/plain": [
       "0         5.3\n",
       "1         5.7\n",
       "2         4.5\n",
       "3         5.0\n",
       "4         5.8\n",
       "         ... \n",
       "313395    0.6\n",
       "313396    1.5\n",
       "313397    1.0\n",
       "313398    1.0\n",
       "313399    1.2\n",
       "Name: MAGNITUDE, Length: 313400, dtype: float64"
      ]
     },
     "metadata": {},
     "execution_count": 52
    }
   ]
  },
  {
   "source": [
    "but it's better to use bracket notation, because there could be a method with the same method as our column"
   ],
   "cell_type": "markdown",
   "metadata": {}
  },
  {
   "cell_type": "code",
   "execution_count": 51,
   "metadata": {},
   "outputs": [
    {
     "output_type": "execute_result",
     "data": {
      "text/plain": [
       "pandas.core.frame.DataFrame"
      ]
     },
     "metadata": {},
     "execution_count": 51
    }
   ],
   "source": [
    "type(df_quakes)"
   ]
  },
  {
   "source": [
    "a lot more functionality: access multiple columns"
   ],
   "cell_type": "markdown",
   "metadata": {}
  },
  {
   "cell_type": "code",
   "execution_count": 54,
   "metadata": {},
   "outputs": [
    {
     "output_type": "execute_result",
     "data": {
      "text/plain": [
       "        LATITUDE  LONGITUDE\n",
       "0        38.9000    23.9000\n",
       "1        39.7500    25.2500\n",
       "2        38.5000    22.2500\n",
       "3        38.0000    21.8000\n",
       "4        39.2500    23.7500\n",
       "...          ...        ...\n",
       "313395   39.7856    21.9081\n",
       "313396   39.7920    21.9328\n",
       "313397   39.7160    22.1947\n",
       "313398   39.7929    21.9154\n",
       "313399   39.8007    21.8948\n",
       "\n",
       "[313400 rows x 2 columns]"
      ],
      "text/html": "<div>\n<style scoped>\n    .dataframe tbody tr th:only-of-type {\n        vertical-align: middle;\n    }\n\n    .dataframe tbody tr th {\n        vertical-align: top;\n    }\n\n    .dataframe thead th {\n        text-align: right;\n    }\n</style>\n<table border=\"1\" class=\"dataframe\">\n  <thead>\n    <tr style=\"text-align: right;\">\n      <th></th>\n      <th>LATITUDE</th>\n      <th>LONGITUDE</th>\n    </tr>\n  </thead>\n  <tbody>\n    <tr>\n      <th>0</th>\n      <td>38.9000</td>\n      <td>23.9000</td>\n    </tr>\n    <tr>\n      <th>1</th>\n      <td>39.7500</td>\n      <td>25.2500</td>\n    </tr>\n    <tr>\n      <th>2</th>\n      <td>38.5000</td>\n      <td>22.2500</td>\n    </tr>\n    <tr>\n      <th>3</th>\n      <td>38.0000</td>\n      <td>21.8000</td>\n    </tr>\n    <tr>\n      <th>4</th>\n      <td>39.2500</td>\n      <td>23.7500</td>\n    </tr>\n    <tr>\n      <th>...</th>\n      <td>...</td>\n      <td>...</td>\n    </tr>\n    <tr>\n      <th>313395</th>\n      <td>39.7856</td>\n      <td>21.9081</td>\n    </tr>\n    <tr>\n      <th>313396</th>\n      <td>39.7920</td>\n      <td>21.9328</td>\n    </tr>\n    <tr>\n      <th>313397</th>\n      <td>39.7160</td>\n      <td>22.1947</td>\n    </tr>\n    <tr>\n      <th>313398</th>\n      <td>39.7929</td>\n      <td>21.9154</td>\n    </tr>\n    <tr>\n      <th>313399</th>\n      <td>39.8007</td>\n      <td>21.8948</td>\n    </tr>\n  </tbody>\n</table>\n<p>313400 rows × 2 columns</p>\n</div>"
     },
     "metadata": {},
     "execution_count": 54
    }
   ],
   "source": [
    "df[['LATITUDE', 'LONGITUDE']]"
   ]
  },
  {
   "cell_type": "code",
   "execution_count": 56,
   "metadata": {},
   "outputs": [
    {
     "output_type": "execute_result",
     "data": {
      "text/plain": [
       "Index(['YEAR', 'MONTH', 'DAY', 'HOUR', 'MINUTE', 'SECOND', 'LATITUDE',\n",
       "       'LONGITUDE', 'DEPTH', 'MAGNITUDE'],\n",
       "      dtype='object')"
      ]
     },
     "metadata": {},
     "execution_count": 56
    }
   ],
   "source": [
    "df.columns"
   ]
  },
  {
   "cell_type": "code",
   "execution_count": 57,
   "metadata": {},
   "outputs": [
    {
     "output_type": "execute_result",
     "data": {
      "text/plain": [
       "YEAR         1964\n",
       "MONTH         FEB\n",
       "DAY            24\n",
       "HOUR           23\n",
       "MINUTE         30\n",
       "SECOND         25\n",
       "LATITUDE     38.9\n",
       "LONGITUDE    23.9\n",
       "DEPTH          10\n",
       "MAGNITUDE     5.3\n",
       "Name: 0, dtype: object"
      ]
     },
     "metadata": {},
     "execution_count": 57
    }
   ],
   "source": [
    "df.iloc[0] # integer location"
   ]
  },
  {
   "cell_type": "code",
   "execution_count": 58,
   "metadata": {},
   "outputs": [
    {
     "output_type": "execute_result",
     "data": {
      "text/plain": [
       "   YEAR MONTH  DAY  HOUR  MINUTE  SECOND  LATITUDE  LONGITUDE  DEPTH  \\\n",
       "0  1964   FEB   24    23      30    25.0     38.90      23.90     10   \n",
       "1  1964   APR   11    16       0     0.0     39.75      25.25     10   \n",
       "\n",
       "   MAGNITUDE  \n",
       "0        5.3  \n",
       "1        5.7  "
      ],
      "text/html": "<div>\n<style scoped>\n    .dataframe tbody tr th:only-of-type {\n        vertical-align: middle;\n    }\n\n    .dataframe tbody tr th {\n        vertical-align: top;\n    }\n\n    .dataframe thead th {\n        text-align: right;\n    }\n</style>\n<table border=\"1\" class=\"dataframe\">\n  <thead>\n    <tr style=\"text-align: right;\">\n      <th></th>\n      <th>YEAR</th>\n      <th>MONTH</th>\n      <th>DAY</th>\n      <th>HOUR</th>\n      <th>MINUTE</th>\n      <th>SECOND</th>\n      <th>LATITUDE</th>\n      <th>LONGITUDE</th>\n      <th>DEPTH</th>\n      <th>MAGNITUDE</th>\n    </tr>\n  </thead>\n  <tbody>\n    <tr>\n      <th>0</th>\n      <td>1964</td>\n      <td>FEB</td>\n      <td>24</td>\n      <td>23</td>\n      <td>30</td>\n      <td>25.0</td>\n      <td>38.90</td>\n      <td>23.90</td>\n      <td>10</td>\n      <td>5.3</td>\n    </tr>\n    <tr>\n      <th>1</th>\n      <td>1964</td>\n      <td>APR</td>\n      <td>11</td>\n      <td>16</td>\n      <td>0</td>\n      <td>0.0</td>\n      <td>39.75</td>\n      <td>25.25</td>\n      <td>10</td>\n      <td>5.7</td>\n    </tr>\n  </tbody>\n</table>\n</div>"
     },
     "metadata": {},
     "execution_count": 58
    }
   ],
   "source": [
    "df.iloc[[0, 1]] # be sure to pass an inner list"
   ]
  },
  {
   "cell_type": "code",
   "execution_count": 60,
   "metadata": {},
   "outputs": [
    {
     "output_type": "execute_result",
     "data": {
      "text/plain": [
       "   YEAR  MAGNITUDE\n",
       "0  1964        5.3\n",
       "1  1964        5.7"
      ],
      "text/html": "<div>\n<style scoped>\n    .dataframe tbody tr th:only-of-type {\n        vertical-align: middle;\n    }\n\n    .dataframe tbody tr th {\n        vertical-align: top;\n    }\n\n    .dataframe thead th {\n        text-align: right;\n    }\n</style>\n<table border=\"1\" class=\"dataframe\">\n  <thead>\n    <tr style=\"text-align: right;\">\n      <th></th>\n      <th>YEAR</th>\n      <th>MAGNITUDE</th>\n    </tr>\n  </thead>\n  <tbody>\n    <tr>\n      <th>0</th>\n      <td>1964</td>\n      <td>5.3</td>\n    </tr>\n    <tr>\n      <th>1</th>\n      <td>1964</td>\n      <td>5.7</td>\n    </tr>\n  </tbody>\n</table>\n</div>"
     },
     "metadata": {},
     "execution_count": 60
    }
   ],
   "source": [
    "df.iloc[[0, 1], [0, 8, 9]] # we cant pass names, iloc is integer locations"
   ]
  },
  {
   "cell_type": "code",
   "execution_count": 65,
   "metadata": {},
   "outputs": [
    {
     "output_type": "execute_result",
     "data": {
      "text/plain": [
       "0    5.3\n",
       "1    5.7\n",
       "Name: MAGNITUDE, dtype: float64"
      ]
     },
     "metadata": {},
     "execution_count": 65
    }
   ],
   "source": [
    "df.loc[[0, 1], 'MAGNITUDE'] # search by labels"
   ]
  },
  {
   "cell_type": "code",
   "execution_count": 66,
   "metadata": {},
   "outputs": [
    {
     "output_type": "execute_result",
     "data": {
      "text/plain": [
       "   LATITUDE  LONGITUDE\n",
       "0     38.90      23.90\n",
       "1     39.75      25.25\n",
       "3     38.00      21.80"
      ],
      "text/html": "<div>\n<style scoped>\n    .dataframe tbody tr th:only-of-type {\n        vertical-align: middle;\n    }\n\n    .dataframe tbody tr th {\n        vertical-align: top;\n    }\n\n    .dataframe thead th {\n        text-align: right;\n    }\n</style>\n<table border=\"1\" class=\"dataframe\">\n  <thead>\n    <tr style=\"text-align: right;\">\n      <th></th>\n      <th>LATITUDE</th>\n      <th>LONGITUDE</th>\n    </tr>\n  </thead>\n  <tbody>\n    <tr>\n      <th>0</th>\n      <td>38.90</td>\n      <td>23.90</td>\n    </tr>\n    <tr>\n      <th>1</th>\n      <td>39.75</td>\n      <td>25.25</td>\n    </tr>\n    <tr>\n      <th>3</th>\n      <td>38.00</td>\n      <td>21.80</td>\n    </tr>\n  </tbody>\n</table>\n</div>"
     },
     "metadata": {},
     "execution_count": 66
    }
   ],
   "source": [
    "df.loc[[0, 1, 3], ['LATITUDE', 'LONGITUDE']]"
   ]
  },
  {
   "source": [
    "## RETURN"
   ],
   "cell_type": "markdown",
   "metadata": {}
  },
  {
   "source": [
    "let's see how many rows and columns"
   ],
   "cell_type": "markdown",
   "metadata": {}
  },
  {
   "cell_type": "code",
   "execution_count": 68,
   "metadata": {},
   "outputs": [
    {
     "output_type": "execute_result",
     "data": {
      "text/plain": [
       "(313400, 10)"
      ]
     },
     "metadata": {},
     "execution_count": 68
    }
   ],
   "source": [
    "df.shape"
   ]
  },
  {
   "source": [
    "what columns are available?"
   ],
   "cell_type": "markdown",
   "metadata": {}
  },
  {
   "cell_type": "code",
   "execution_count": 69,
   "metadata": {},
   "outputs": [
    {
     "output_type": "execute_result",
     "data": {
      "text/plain": [
       "Index(['YEAR', 'MONTH', 'DAY', 'HOUR', 'MINUTE', 'SECOND', 'LATITUDE',\n",
       "       'LONGITUDE', 'DEPTH', 'MAGNITUDE'],\n",
       "      dtype='object')"
      ]
     },
     "metadata": {},
     "execution_count": 69
    }
   ],
   "source": [
    "df.columns"
   ]
  },
  {
   "source": [
    "grab the magnitude column"
   ],
   "cell_type": "markdown",
   "metadata": {}
  },
  {
   "source": [
    "df['MAGNITUDE'] # get the head and the tail, to see how it looks like"
   ],
   "cell_type": "code",
   "metadata": {},
   "execution_count": 70,
   "outputs": [
    {
     "output_type": "execute_result",
     "data": {
      "text/plain": [
       "0         5.3\n",
       "1         5.7\n",
       "2         4.5\n",
       "3         5.0\n",
       "4         5.8\n",
       "         ... \n",
       "313395    0.6\n",
       "313396    1.5\n",
       "313397    1.0\n",
       "313398    1.0\n",
       "313399    1.2\n",
       "Name: MAGNITUDE, Length: 313400, dtype: float64"
      ]
     },
     "metadata": {},
     "execution_count": 70
    }
   ]
  },
  {
   "source": [
    "count of events with magnitude more than 6"
   ],
   "cell_type": "markdown",
   "metadata": {}
  },
  {
   "cell_type": "code",
   "execution_count": 72,
   "metadata": {},
   "outputs": [
    {
     "output_type": "execute_result",
     "data": {
      "text/plain": [
       "313400"
      ]
     },
     "metadata": {},
     "execution_count": 72
    }
   ],
   "source": [
    "df['MAGNITUDE'].count()"
   ]
  },
  {
   "source": [
    "grab rows and columns, we are gonna use col for using labels"
   ],
   "cell_type": "markdown",
   "metadata": {}
  },
  {
   "cell_type": "code",
   "execution_count": 77,
   "metadata": {},
   "outputs": [
    {
     "output_type": "execute_result",
     "data": {
      "text/plain": [
       "0    5.3\n",
       "1    5.7\n",
       "2    4.5\n",
       "3    5.0\n",
       "Name: MAGNITUDE, dtype: float64"
      ]
     },
     "metadata": {},
     "execution_count": 77
    }
   ],
   "source": [
    "df.loc[0:3, 'MAGNITUDE'] # just as slicing, but LAST VALUE IS INCLUSIVE, AND NO BRACKETS!!! we are just passing slice"
   ]
  },
  {
   "cell_type": "code",
   "execution_count": 79,
   "metadata": {},
   "outputs": [
    {
     "output_type": "execute_result",
     "data": {
      "text/plain": [
       "0    5.3\n",
       "1    5.7\n",
       "2    4.5\n",
       "3    5.0\n",
       "Name: MAGNITUDE, dtype: float64"
      ]
     },
     "metadata": {},
     "execution_count": 79
    }
   ],
   "source": [
    "df.loc[[0, 1, 2, 3], 'MAGNITUDE']"
   ]
  },
  {
   "cell_type": "code",
   "execution_count": 80,
   "metadata": {},
   "outputs": [
    {
     "output_type": "execute_result",
     "data": {
      "text/plain": [
       "   LATITUDE  LONGITUDE  DEPTH\n",
       "0     38.90      23.90     10\n",
       "1     39.75      25.25     10\n",
       "2     38.50      22.25     10"
      ],
      "text/html": "<div>\n<style scoped>\n    .dataframe tbody tr th:only-of-type {\n        vertical-align: middle;\n    }\n\n    .dataframe tbody tr th {\n        vertical-align: top;\n    }\n\n    .dataframe thead th {\n        text-align: right;\n    }\n</style>\n<table border=\"1\" class=\"dataframe\">\n  <thead>\n    <tr style=\"text-align: right;\">\n      <th></th>\n      <th>LATITUDE</th>\n      <th>LONGITUDE</th>\n      <th>DEPTH</th>\n    </tr>\n  </thead>\n  <tbody>\n    <tr>\n      <th>0</th>\n      <td>38.90</td>\n      <td>23.90</td>\n      <td>10</td>\n    </tr>\n    <tr>\n      <th>1</th>\n      <td>39.75</td>\n      <td>25.25</td>\n      <td>10</td>\n    </tr>\n    <tr>\n      <th>2</th>\n      <td>38.50</td>\n      <td>22.25</td>\n      <td>10</td>\n    </tr>\n  </tbody>\n</table>\n</div>"
     },
     "metadata": {},
     "execution_count": 80
    }
   ],
   "source": [
    "df.iloc[0:3, 6:9]"
   ]
  },
  {
   "cell_type": "code",
   "execution_count": 81,
   "metadata": {},
   "outputs": [
    {
     "output_type": "execute_result",
     "data": {
      "text/plain": [
       "   LATITUDE  LONGITUDE  DEPTH  MAGNITUDE\n",
       "0     38.90      23.90     10        5.3\n",
       "1     39.75      25.25     10        5.7\n",
       "2     38.50      22.25     10        4.5\n",
       "3     38.00      21.80     10        5.0"
      ],
      "text/html": "<div>\n<style scoped>\n    .dataframe tbody tr th:only-of-type {\n        vertical-align: middle;\n    }\n\n    .dataframe tbody tr th {\n        vertical-align: top;\n    }\n\n    .dataframe thead th {\n        text-align: right;\n    }\n</style>\n<table border=\"1\" class=\"dataframe\">\n  <thead>\n    <tr style=\"text-align: right;\">\n      <th></th>\n      <th>LATITUDE</th>\n      <th>LONGITUDE</th>\n      <th>DEPTH</th>\n      <th>MAGNITUDE</th>\n    </tr>\n  </thead>\n  <tbody>\n    <tr>\n      <th>0</th>\n      <td>38.90</td>\n      <td>23.90</td>\n      <td>10</td>\n      <td>5.3</td>\n    </tr>\n    <tr>\n      <th>1</th>\n      <td>39.75</td>\n      <td>25.25</td>\n      <td>10</td>\n      <td>5.7</td>\n    </tr>\n    <tr>\n      <th>2</th>\n      <td>38.50</td>\n      <td>22.25</td>\n      <td>10</td>\n      <td>4.5</td>\n    </tr>\n    <tr>\n      <th>3</th>\n      <td>38.00</td>\n      <td>21.80</td>\n      <td>10</td>\n      <td>5.0</td>\n    </tr>\n  </tbody>\n</table>\n</div>"
     },
     "metadata": {},
     "execution_count": 81
    }
   ],
   "source": [
    "df.loc[0:3, 'LATITUDE':'MAGNITUDE']"
   ]
  },
  {
   "source": [
    "# 3"
   ],
   "cell_type": "markdown",
   "metadata": {}
  },
  {
   "cell_type": "code",
   "execution_count": null,
   "metadata": {},
   "outputs": [],
   "source": []
  }
 ]
}