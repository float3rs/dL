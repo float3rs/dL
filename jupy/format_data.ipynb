{
 "metadata": {
  "language_info": {
   "codemirror_mode": {
    "name": "ipython",
    "version": 3
   },
   "file_extension": ".py",
   "mimetype": "text/x-python",
   "name": "python",
   "nbconvert_exporter": "python",
   "pygments_lexer": "ipython3",
   "version": "3.8.5-final"
  },
  "orig_nbformat": 2,
  "kernelspec": {
   "name": "python385jvsc74a57bd0dca0ade3e726a953b501b15e8e990130d2b7799f14cfd9f4271676035ebe5511",
   "display_name": "Python 3.8.5 64-bit ('base': conda)"
  }
 },
 "nbformat": 4,
 "nbformat_minor": 2,
 "cells": [
  {
   "cell_type": "code",
   "execution_count": 2,
   "metadata": {},
   "outputs": [],
   "source": [
    "import pandas\n",
    "import calendar"
   ]
  },
  {
   "cell_type": "code",
   "execution_count": 2,
   "metadata": {},
   "outputs": [],
   "source": [
    "df = pandas.read_csv('full.csv')"
   ]
  },
  {
   "cell_type": "code",
   "execution_count": 3,
   "metadata": {},
   "outputs": [
    {
     "output_type": "execute_result",
     "data": {
      "text/plain": [
       "        YEAR MONTH  DAY  HOUR  MINUTE  SECOND  LATITUDE  LONGITUDE  DEPTH  \\\n",
       "0       1964   FEB   24    23      30    25.0   38.9000    23.9000     10   \n",
       "1       1964   APR   11    16       0     0.0   39.7500    25.2500     10   \n",
       "2       1964   APR   21     8      14    40.0   38.5000    22.2500     10   \n",
       "3       1964   APR   24     3      49    58.0   38.0000    21.8000     10   \n",
       "4       1964   APR   29     4      21     0.0   39.2500    23.7500     10   \n",
       "...      ...   ...  ...   ...     ...     ...       ...        ...    ...   \n",
       "313395  2021   APR    9     5       0     7.4   39.7856    21.9081      5   \n",
       "313396  2021   APR    9     5       0    21.9   39.7920    21.9328      5   \n",
       "313397  2021   APR    9     5       1     6.5   39.7160    22.1947      8   \n",
       "313398  2021   APR    9     5       2     5.6   39.7929    21.9154      6   \n",
       "313399  2021   APR    9     5      15     5.0   39.8007    21.8948      7   \n",
       "\n",
       "        MAGNITUDE  \n",
       "0             5.3  \n",
       "1             5.7  \n",
       "2             4.5  \n",
       "3             5.0  \n",
       "4             5.8  \n",
       "...           ...  \n",
       "313395        0.6  \n",
       "313396        1.5  \n",
       "313397        1.0  \n",
       "313398        1.0  \n",
       "313399        1.2  \n",
       "\n",
       "[313400 rows x 10 columns]"
      ],
      "text/html": "<div>\n<style scoped>\n    .dataframe tbody tr th:only-of-type {\n        vertical-align: middle;\n    }\n\n    .dataframe tbody tr th {\n        vertical-align: top;\n    }\n\n    .dataframe thead th {\n        text-align: right;\n    }\n</style>\n<table border=\"1\" class=\"dataframe\">\n  <thead>\n    <tr style=\"text-align: right;\">\n      <th></th>\n      <th>YEAR</th>\n      <th>MONTH</th>\n      <th>DAY</th>\n      <th>HOUR</th>\n      <th>MINUTE</th>\n      <th>SECOND</th>\n      <th>LATITUDE</th>\n      <th>LONGITUDE</th>\n      <th>DEPTH</th>\n      <th>MAGNITUDE</th>\n    </tr>\n  </thead>\n  <tbody>\n    <tr>\n      <th>0</th>\n      <td>1964</td>\n      <td>FEB</td>\n      <td>24</td>\n      <td>23</td>\n      <td>30</td>\n      <td>25.0</td>\n      <td>38.9000</td>\n      <td>23.9000</td>\n      <td>10</td>\n      <td>5.3</td>\n    </tr>\n    <tr>\n      <th>1</th>\n      <td>1964</td>\n      <td>APR</td>\n      <td>11</td>\n      <td>16</td>\n      <td>0</td>\n      <td>0.0</td>\n      <td>39.7500</td>\n      <td>25.2500</td>\n      <td>10</td>\n      <td>5.7</td>\n    </tr>\n    <tr>\n      <th>2</th>\n      <td>1964</td>\n      <td>APR</td>\n      <td>21</td>\n      <td>8</td>\n      <td>14</td>\n      <td>40.0</td>\n      <td>38.5000</td>\n      <td>22.2500</td>\n      <td>10</td>\n      <td>4.5</td>\n    </tr>\n    <tr>\n      <th>3</th>\n      <td>1964</td>\n      <td>APR</td>\n      <td>24</td>\n      <td>3</td>\n      <td>49</td>\n      <td>58.0</td>\n      <td>38.0000</td>\n      <td>21.8000</td>\n      <td>10</td>\n      <td>5.0</td>\n    </tr>\n    <tr>\n      <th>4</th>\n      <td>1964</td>\n      <td>APR</td>\n      <td>29</td>\n      <td>4</td>\n      <td>21</td>\n      <td>0.0</td>\n      <td>39.2500</td>\n      <td>23.7500</td>\n      <td>10</td>\n      <td>5.8</td>\n    </tr>\n    <tr>\n      <th>...</th>\n      <td>...</td>\n      <td>...</td>\n      <td>...</td>\n      <td>...</td>\n      <td>...</td>\n      <td>...</td>\n      <td>...</td>\n      <td>...</td>\n      <td>...</td>\n      <td>...</td>\n    </tr>\n    <tr>\n      <th>313395</th>\n      <td>2021</td>\n      <td>APR</td>\n      <td>9</td>\n      <td>5</td>\n      <td>0</td>\n      <td>7.4</td>\n      <td>39.7856</td>\n      <td>21.9081</td>\n      <td>5</td>\n      <td>0.6</td>\n    </tr>\n    <tr>\n      <th>313396</th>\n      <td>2021</td>\n      <td>APR</td>\n      <td>9</td>\n      <td>5</td>\n      <td>0</td>\n      <td>21.9</td>\n      <td>39.7920</td>\n      <td>21.9328</td>\n      <td>5</td>\n      <td>1.5</td>\n    </tr>\n    <tr>\n      <th>313397</th>\n      <td>2021</td>\n      <td>APR</td>\n      <td>9</td>\n      <td>5</td>\n      <td>1</td>\n      <td>6.5</td>\n      <td>39.7160</td>\n      <td>22.1947</td>\n      <td>8</td>\n      <td>1.0</td>\n    </tr>\n    <tr>\n      <th>313398</th>\n      <td>2021</td>\n      <td>APR</td>\n      <td>9</td>\n      <td>5</td>\n      <td>2</td>\n      <td>5.6</td>\n      <td>39.7929</td>\n      <td>21.9154</td>\n      <td>6</td>\n      <td>1.0</td>\n    </tr>\n    <tr>\n      <th>313399</th>\n      <td>2021</td>\n      <td>APR</td>\n      <td>9</td>\n      <td>5</td>\n      <td>15</td>\n      <td>5.0</td>\n      <td>39.8007</td>\n      <td>21.8948</td>\n      <td>7</td>\n      <td>1.2</td>\n    </tr>\n  </tbody>\n</table>\n<p>313400 rows × 10 columns</p>\n</div>"
     },
     "metadata": {},
     "execution_count": 3
    }
   ],
   "source": [
    "df"
   ]
  },
  {
   "cell_type": "code",
   "execution_count": 9,
   "metadata": {},
   "outputs": [],
   "source": [
    "fltr = (df['YEAR'] <1990) | (df['YEAR'] > 2009)\n",
    "df.drop(df.loc[fltr].index, inplace=True)"
   ]
  },
  {
   "cell_type": "code",
   "execution_count": 10,
   "metadata": {},
   "outputs": [
    {
     "output_type": "execute_result",
     "data": {
      "text/plain": [
       "       YEAR MONTH  DAY  HOUR  MINUTE  SECOND  LATITUDE  LONGITUDE  DEPTH  \\\n",
       "16953  1990   JAN    1     3      52    48.5     36.09      22.29      1   \n",
       "16954  1990   JAN    2     8       2     0.4     38.55      24.48      6   \n",
       "16955  1990   JAN    2    20      35    43.1     38.58      24.26     14   \n",
       "16956  1990   JAN    2    20      41    26.0     38.53      24.42     20   \n",
       "16957  1990   JAN    2    20      42     6.9     38.55      24.15      6   \n",
       "...     ...   ...  ...   ...     ...     ...       ...        ...    ...   \n",
       "88348  2009   DEC   31    14      24     1.2     37.47      21.83     21   \n",
       "88349  2009   DEC   31    14      50    29.6     34.67      24.42     15   \n",
       "88350  2009   DEC   31    17      27    45.8     35.68      23.47      5   \n",
       "88351  2009   DEC   31    20      43    12.9     36.37      21.61     11   \n",
       "88352  2009   DEC   31    20      58    40.8     39.70      20.76     18   \n",
       "\n",
       "       MAGNITUDE  \n",
       "16953        3.3  \n",
       "16954        2.7  \n",
       "16955        4.5  \n",
       "16956        2.8  \n",
       "16957        2.6  \n",
       "...          ...  \n",
       "88348        2.8  \n",
       "88349        3.4  \n",
       "88350        2.9  \n",
       "88351        3.2  \n",
       "88352        2.8  \n",
       "\n",
       "[71400 rows x 10 columns]"
      ],
      "text/html": "<div>\n<style scoped>\n    .dataframe tbody tr th:only-of-type {\n        vertical-align: middle;\n    }\n\n    .dataframe tbody tr th {\n        vertical-align: top;\n    }\n\n    .dataframe thead th {\n        text-align: right;\n    }\n</style>\n<table border=\"1\" class=\"dataframe\">\n  <thead>\n    <tr style=\"text-align: right;\">\n      <th></th>\n      <th>YEAR</th>\n      <th>MONTH</th>\n      <th>DAY</th>\n      <th>HOUR</th>\n      <th>MINUTE</th>\n      <th>SECOND</th>\n      <th>LATITUDE</th>\n      <th>LONGITUDE</th>\n      <th>DEPTH</th>\n      <th>MAGNITUDE</th>\n    </tr>\n  </thead>\n  <tbody>\n    <tr>\n      <th>16953</th>\n      <td>1990</td>\n      <td>JAN</td>\n      <td>1</td>\n      <td>3</td>\n      <td>52</td>\n      <td>48.5</td>\n      <td>36.09</td>\n      <td>22.29</td>\n      <td>1</td>\n      <td>3.3</td>\n    </tr>\n    <tr>\n      <th>16954</th>\n      <td>1990</td>\n      <td>JAN</td>\n      <td>2</td>\n      <td>8</td>\n      <td>2</td>\n      <td>0.4</td>\n      <td>38.55</td>\n      <td>24.48</td>\n      <td>6</td>\n      <td>2.7</td>\n    </tr>\n    <tr>\n      <th>16955</th>\n      <td>1990</td>\n      <td>JAN</td>\n      <td>2</td>\n      <td>20</td>\n      <td>35</td>\n      <td>43.1</td>\n      <td>38.58</td>\n      <td>24.26</td>\n      <td>14</td>\n      <td>4.5</td>\n    </tr>\n    <tr>\n      <th>16956</th>\n      <td>1990</td>\n      <td>JAN</td>\n      <td>2</td>\n      <td>20</td>\n      <td>41</td>\n      <td>26.0</td>\n      <td>38.53</td>\n      <td>24.42</td>\n      <td>20</td>\n      <td>2.8</td>\n    </tr>\n    <tr>\n      <th>16957</th>\n      <td>1990</td>\n      <td>JAN</td>\n      <td>2</td>\n      <td>20</td>\n      <td>42</td>\n      <td>6.9</td>\n      <td>38.55</td>\n      <td>24.15</td>\n      <td>6</td>\n      <td>2.6</td>\n    </tr>\n    <tr>\n      <th>...</th>\n      <td>...</td>\n      <td>...</td>\n      <td>...</td>\n      <td>...</td>\n      <td>...</td>\n      <td>...</td>\n      <td>...</td>\n      <td>...</td>\n      <td>...</td>\n      <td>...</td>\n    </tr>\n    <tr>\n      <th>88348</th>\n      <td>2009</td>\n      <td>DEC</td>\n      <td>31</td>\n      <td>14</td>\n      <td>24</td>\n      <td>1.2</td>\n      <td>37.47</td>\n      <td>21.83</td>\n      <td>21</td>\n      <td>2.8</td>\n    </tr>\n    <tr>\n      <th>88349</th>\n      <td>2009</td>\n      <td>DEC</td>\n      <td>31</td>\n      <td>14</td>\n      <td>50</td>\n      <td>29.6</td>\n      <td>34.67</td>\n      <td>24.42</td>\n      <td>15</td>\n      <td>3.4</td>\n    </tr>\n    <tr>\n      <th>88350</th>\n      <td>2009</td>\n      <td>DEC</td>\n      <td>31</td>\n      <td>17</td>\n      <td>27</td>\n      <td>45.8</td>\n      <td>35.68</td>\n      <td>23.47</td>\n      <td>5</td>\n      <td>2.9</td>\n    </tr>\n    <tr>\n      <th>88351</th>\n      <td>2009</td>\n      <td>DEC</td>\n      <td>31</td>\n      <td>20</td>\n      <td>43</td>\n      <td>12.9</td>\n      <td>36.37</td>\n      <td>21.61</td>\n      <td>11</td>\n      <td>3.2</td>\n    </tr>\n    <tr>\n      <th>88352</th>\n      <td>2009</td>\n      <td>DEC</td>\n      <td>31</td>\n      <td>20</td>\n      <td>58</td>\n      <td>40.8</td>\n      <td>39.70</td>\n      <td>20.76</td>\n      <td>18</td>\n      <td>2.8</td>\n    </tr>\n  </tbody>\n</table>\n<p>71400 rows × 10 columns</p>\n</div>"
     },
     "metadata": {},
     "execution_count": 10
    }
   ],
   "source": [
    "df"
   ]
  },
  {
   "cell_type": "code",
   "execution_count": 16,
   "metadata": {},
   "outputs": [],
   "source": [
    "df.reset_index(inplace=True)"
   ]
  },
  {
   "cell_type": "code",
   "execution_count": 17,
   "metadata": {},
   "outputs": [
    {
     "output_type": "execute_result",
     "data": {
      "text/plain": [
       "       index  YEAR MONTH  DAY  HOUR  MINUTE  SECOND  LATITUDE  LONGITUDE  \\\n",
       "0      16953  1990   JAN    1     3      52    48.5     36.09      22.29   \n",
       "1      16954  1990   JAN    2     8       2     0.4     38.55      24.48   \n",
       "2      16955  1990   JAN    2    20      35    43.1     38.58      24.26   \n",
       "3      16956  1990   JAN    2    20      41    26.0     38.53      24.42   \n",
       "4      16957  1990   JAN    2    20      42     6.9     38.55      24.15   \n",
       "...      ...   ...   ...  ...   ...     ...     ...       ...        ...   \n",
       "71395  88348  2009   DEC   31    14      24     1.2     37.47      21.83   \n",
       "71396  88349  2009   DEC   31    14      50    29.6     34.67      24.42   \n",
       "71397  88350  2009   DEC   31    17      27    45.8     35.68      23.47   \n",
       "71398  88351  2009   DEC   31    20      43    12.9     36.37      21.61   \n",
       "71399  88352  2009   DEC   31    20      58    40.8     39.70      20.76   \n",
       "\n",
       "       DEPTH  MAGNITUDE  \n",
       "0          1        3.3  \n",
       "1          6        2.7  \n",
       "2         14        4.5  \n",
       "3         20        2.8  \n",
       "4          6        2.6  \n",
       "...      ...        ...  \n",
       "71395     21        2.8  \n",
       "71396     15        3.4  \n",
       "71397      5        2.9  \n",
       "71398     11        3.2  \n",
       "71399     18        2.8  \n",
       "\n",
       "[71400 rows x 11 columns]"
      ],
      "text/html": "<div>\n<style scoped>\n    .dataframe tbody tr th:only-of-type {\n        vertical-align: middle;\n    }\n\n    .dataframe tbody tr th {\n        vertical-align: top;\n    }\n\n    .dataframe thead th {\n        text-align: right;\n    }\n</style>\n<table border=\"1\" class=\"dataframe\">\n  <thead>\n    <tr style=\"text-align: right;\">\n      <th></th>\n      <th>index</th>\n      <th>YEAR</th>\n      <th>MONTH</th>\n      <th>DAY</th>\n      <th>HOUR</th>\n      <th>MINUTE</th>\n      <th>SECOND</th>\n      <th>LATITUDE</th>\n      <th>LONGITUDE</th>\n      <th>DEPTH</th>\n      <th>MAGNITUDE</th>\n    </tr>\n  </thead>\n  <tbody>\n    <tr>\n      <th>0</th>\n      <td>16953</td>\n      <td>1990</td>\n      <td>JAN</td>\n      <td>1</td>\n      <td>3</td>\n      <td>52</td>\n      <td>48.5</td>\n      <td>36.09</td>\n      <td>22.29</td>\n      <td>1</td>\n      <td>3.3</td>\n    </tr>\n    <tr>\n      <th>1</th>\n      <td>16954</td>\n      <td>1990</td>\n      <td>JAN</td>\n      <td>2</td>\n      <td>8</td>\n      <td>2</td>\n      <td>0.4</td>\n      <td>38.55</td>\n      <td>24.48</td>\n      <td>6</td>\n      <td>2.7</td>\n    </tr>\n    <tr>\n      <th>2</th>\n      <td>16955</td>\n      <td>1990</td>\n      <td>JAN</td>\n      <td>2</td>\n      <td>20</td>\n      <td>35</td>\n      <td>43.1</td>\n      <td>38.58</td>\n      <td>24.26</td>\n      <td>14</td>\n      <td>4.5</td>\n    </tr>\n    <tr>\n      <th>3</th>\n      <td>16956</td>\n      <td>1990</td>\n      <td>JAN</td>\n      <td>2</td>\n      <td>20</td>\n      <td>41</td>\n      <td>26.0</td>\n      <td>38.53</td>\n      <td>24.42</td>\n      <td>20</td>\n      <td>2.8</td>\n    </tr>\n    <tr>\n      <th>4</th>\n      <td>16957</td>\n      <td>1990</td>\n      <td>JAN</td>\n      <td>2</td>\n      <td>20</td>\n      <td>42</td>\n      <td>6.9</td>\n      <td>38.55</td>\n      <td>24.15</td>\n      <td>6</td>\n      <td>2.6</td>\n    </tr>\n    <tr>\n      <th>...</th>\n      <td>...</td>\n      <td>...</td>\n      <td>...</td>\n      <td>...</td>\n      <td>...</td>\n      <td>...</td>\n      <td>...</td>\n      <td>...</td>\n      <td>...</td>\n      <td>...</td>\n      <td>...</td>\n    </tr>\n    <tr>\n      <th>71395</th>\n      <td>88348</td>\n      <td>2009</td>\n      <td>DEC</td>\n      <td>31</td>\n      <td>14</td>\n      <td>24</td>\n      <td>1.2</td>\n      <td>37.47</td>\n      <td>21.83</td>\n      <td>21</td>\n      <td>2.8</td>\n    </tr>\n    <tr>\n      <th>71396</th>\n      <td>88349</td>\n      <td>2009</td>\n      <td>DEC</td>\n      <td>31</td>\n      <td>14</td>\n      <td>50</td>\n      <td>29.6</td>\n      <td>34.67</td>\n      <td>24.42</td>\n      <td>15</td>\n      <td>3.4</td>\n    </tr>\n    <tr>\n      <th>71397</th>\n      <td>88350</td>\n      <td>2009</td>\n      <td>DEC</td>\n      <td>31</td>\n      <td>17</td>\n      <td>27</td>\n      <td>45.8</td>\n      <td>35.68</td>\n      <td>23.47</td>\n      <td>5</td>\n      <td>2.9</td>\n    </tr>\n    <tr>\n      <th>71398</th>\n      <td>88351</td>\n      <td>2009</td>\n      <td>DEC</td>\n      <td>31</td>\n      <td>20</td>\n      <td>43</td>\n      <td>12.9</td>\n      <td>36.37</td>\n      <td>21.61</td>\n      <td>11</td>\n      <td>3.2</td>\n    </tr>\n    <tr>\n      <th>71399</th>\n      <td>88352</td>\n      <td>2009</td>\n      <td>DEC</td>\n      <td>31</td>\n      <td>20</td>\n      <td>58</td>\n      <td>40.8</td>\n      <td>39.70</td>\n      <td>20.76</td>\n      <td>18</td>\n      <td>2.8</td>\n    </tr>\n  </tbody>\n</table>\n<p>71400 rows × 11 columns</p>\n</div>"
     },
     "metadata": {},
     "execution_count": 17
    }
   ],
   "source": [
    "df"
   ]
  },
  {
   "cell_type": "code",
   "execution_count": 22,
   "metadata": {},
   "outputs": [],
   "source": [
    "df.drop(columns=['index'], inplace=True)"
   ]
  },
  {
   "cell_type": "code",
   "execution_count": 19,
   "metadata": {},
   "outputs": [
    {
     "output_type": "execute_result",
     "data": {
      "text/plain": [
       "0        Jan\n",
       "1        Jan\n",
       "2        Jan\n",
       "3        Jan\n",
       "4        Jan\n",
       "        ... \n",
       "71395    Dec\n",
       "71396    Dec\n",
       "71397    Dec\n",
       "71398    Dec\n",
       "71399    Dec\n",
       "Name: MONTH, Length: 71400, dtype: object"
      ]
     },
     "metadata": {},
     "execution_count": 19
    }
   ],
   "source": [
    "df['MONTH'].str.title()"
   ]
  },
  {
   "cell_type": "code",
   "execution_count": 23,
   "metadata": {},
   "outputs": [],
   "source": [
    "df['MONTH'] = df['MONTH'].str.title()"
   ]
  },
  {
   "cell_type": "code",
   "execution_count": 24,
   "metadata": {},
   "outputs": [
    {
     "output_type": "execute_result",
     "data": {
      "text/plain": [
       "       YEAR MONTH  DAY  HOUR  MINUTE  SECOND  LATITUDE  LONGITUDE  DEPTH  \\\n",
       "0      1990   Jan    1     3      52    48.5     36.09      22.29      1   \n",
       "1      1990   Jan    2     8       2     0.4     38.55      24.48      6   \n",
       "2      1990   Jan    2    20      35    43.1     38.58      24.26     14   \n",
       "3      1990   Jan    2    20      41    26.0     38.53      24.42     20   \n",
       "4      1990   Jan    2    20      42     6.9     38.55      24.15      6   \n",
       "...     ...   ...  ...   ...     ...     ...       ...        ...    ...   \n",
       "71395  2009   Dec   31    14      24     1.2     37.47      21.83     21   \n",
       "71396  2009   Dec   31    14      50    29.6     34.67      24.42     15   \n",
       "71397  2009   Dec   31    17      27    45.8     35.68      23.47      5   \n",
       "71398  2009   Dec   31    20      43    12.9     36.37      21.61     11   \n",
       "71399  2009   Dec   31    20      58    40.8     39.70      20.76     18   \n",
       "\n",
       "       MAGNITUDE  \n",
       "0            3.3  \n",
       "1            2.7  \n",
       "2            4.5  \n",
       "3            2.8  \n",
       "4            2.6  \n",
       "...          ...  \n",
       "71395        2.8  \n",
       "71396        3.4  \n",
       "71397        2.9  \n",
       "71398        3.2  \n",
       "71399        2.8  \n",
       "\n",
       "[71400 rows x 10 columns]"
      ],
      "text/html": "<div>\n<style scoped>\n    .dataframe tbody tr th:only-of-type {\n        vertical-align: middle;\n    }\n\n    .dataframe tbody tr th {\n        vertical-align: top;\n    }\n\n    .dataframe thead th {\n        text-align: right;\n    }\n</style>\n<table border=\"1\" class=\"dataframe\">\n  <thead>\n    <tr style=\"text-align: right;\">\n      <th></th>\n      <th>YEAR</th>\n      <th>MONTH</th>\n      <th>DAY</th>\n      <th>HOUR</th>\n      <th>MINUTE</th>\n      <th>SECOND</th>\n      <th>LATITUDE</th>\n      <th>LONGITUDE</th>\n      <th>DEPTH</th>\n      <th>MAGNITUDE</th>\n    </tr>\n  </thead>\n  <tbody>\n    <tr>\n      <th>0</th>\n      <td>1990</td>\n      <td>Jan</td>\n      <td>1</td>\n      <td>3</td>\n      <td>52</td>\n      <td>48.5</td>\n      <td>36.09</td>\n      <td>22.29</td>\n      <td>1</td>\n      <td>3.3</td>\n    </tr>\n    <tr>\n      <th>1</th>\n      <td>1990</td>\n      <td>Jan</td>\n      <td>2</td>\n      <td>8</td>\n      <td>2</td>\n      <td>0.4</td>\n      <td>38.55</td>\n      <td>24.48</td>\n      <td>6</td>\n      <td>2.7</td>\n    </tr>\n    <tr>\n      <th>2</th>\n      <td>1990</td>\n      <td>Jan</td>\n      <td>2</td>\n      <td>20</td>\n      <td>35</td>\n      <td>43.1</td>\n      <td>38.58</td>\n      <td>24.26</td>\n      <td>14</td>\n      <td>4.5</td>\n    </tr>\n    <tr>\n      <th>3</th>\n      <td>1990</td>\n      <td>Jan</td>\n      <td>2</td>\n      <td>20</td>\n      <td>41</td>\n      <td>26.0</td>\n      <td>38.53</td>\n      <td>24.42</td>\n      <td>20</td>\n      <td>2.8</td>\n    </tr>\n    <tr>\n      <th>4</th>\n      <td>1990</td>\n      <td>Jan</td>\n      <td>2</td>\n      <td>20</td>\n      <td>42</td>\n      <td>6.9</td>\n      <td>38.55</td>\n      <td>24.15</td>\n      <td>6</td>\n      <td>2.6</td>\n    </tr>\n    <tr>\n      <th>...</th>\n      <td>...</td>\n      <td>...</td>\n      <td>...</td>\n      <td>...</td>\n      <td>...</td>\n      <td>...</td>\n      <td>...</td>\n      <td>...</td>\n      <td>...</td>\n      <td>...</td>\n    </tr>\n    <tr>\n      <th>71395</th>\n      <td>2009</td>\n      <td>Dec</td>\n      <td>31</td>\n      <td>14</td>\n      <td>24</td>\n      <td>1.2</td>\n      <td>37.47</td>\n      <td>21.83</td>\n      <td>21</td>\n      <td>2.8</td>\n    </tr>\n    <tr>\n      <th>71396</th>\n      <td>2009</td>\n      <td>Dec</td>\n      <td>31</td>\n      <td>14</td>\n      <td>50</td>\n      <td>29.6</td>\n      <td>34.67</td>\n      <td>24.42</td>\n      <td>15</td>\n      <td>3.4</td>\n    </tr>\n    <tr>\n      <th>71397</th>\n      <td>2009</td>\n      <td>Dec</td>\n      <td>31</td>\n      <td>17</td>\n      <td>27</td>\n      <td>45.8</td>\n      <td>35.68</td>\n      <td>23.47</td>\n      <td>5</td>\n      <td>2.9</td>\n    </tr>\n    <tr>\n      <th>71398</th>\n      <td>2009</td>\n      <td>Dec</td>\n      <td>31</td>\n      <td>20</td>\n      <td>43</td>\n      <td>12.9</td>\n      <td>36.37</td>\n      <td>21.61</td>\n      <td>11</td>\n      <td>3.2</td>\n    </tr>\n    <tr>\n      <th>71399</th>\n      <td>2009</td>\n      <td>Dec</td>\n      <td>31</td>\n      <td>20</td>\n      <td>58</td>\n      <td>40.8</td>\n      <td>39.70</td>\n      <td>20.76</td>\n      <td>18</td>\n      <td>2.8</td>\n    </tr>\n  </tbody>\n</table>\n<p>71400 rows × 10 columns</p>\n</div>"
     },
     "metadata": {},
     "execution_count": 24
    }
   ],
   "source": [
    "df"
   ]
  },
  {
   "cell_type": "code",
   "execution_count": 32,
   "metadata": {},
   "outputs": [
    {
     "output_type": "execute_result",
     "data": {
      "text/plain": [
       "{'': 0,\n",
       " 'Jan': 1,\n",
       " 'Feb': 2,\n",
       " 'Mar': 3,\n",
       " 'Apr': 4,\n",
       " 'May': 5,\n",
       " 'Jun': 6,\n",
       " 'Jul': 7,\n",
       " 'Aug': 8,\n",
       " 'Sep': 9,\n",
       " 'Oct': 10,\n",
       " 'Nov': 11,\n",
       " 'Dec': 12}"
      ]
     },
     "metadata": {},
     "execution_count": 32
    }
   ],
   "source": [
    "month_abbr_as_ints = dict((x,y) for (y,x) in enumerate(calendar.month_abbr))\n",
    "month_abbr_as_ints"
   ]
  },
  {
   "cell_type": "code",
   "execution_count": 33,
   "metadata": {},
   "outputs": [],
   "source": [
    "df['MONTH'].replace(month_abbr_as_ints, inplace=True)"
   ]
  },
  {
   "cell_type": "code",
   "execution_count": 34,
   "metadata": {},
   "outputs": [
    {
     "output_type": "execute_result",
     "data": {
      "text/plain": [
       "       YEAR  MONTH  DAY  HOUR  MINUTE  SECOND  LATITUDE  LONGITUDE  DEPTH  \\\n",
       "0      1990      1    1     3      52    48.5     36.09      22.29      1   \n",
       "1      1990      1    2     8       2     0.4     38.55      24.48      6   \n",
       "2      1990      1    2    20      35    43.1     38.58      24.26     14   \n",
       "3      1990      1    2    20      41    26.0     38.53      24.42     20   \n",
       "4      1990      1    2    20      42     6.9     38.55      24.15      6   \n",
       "...     ...    ...  ...   ...     ...     ...       ...        ...    ...   \n",
       "71395  2009     12   31    14      24     1.2     37.47      21.83     21   \n",
       "71396  2009     12   31    14      50    29.6     34.67      24.42     15   \n",
       "71397  2009     12   31    17      27    45.8     35.68      23.47      5   \n",
       "71398  2009     12   31    20      43    12.9     36.37      21.61     11   \n",
       "71399  2009     12   31    20      58    40.8     39.70      20.76     18   \n",
       "\n",
       "       MAGNITUDE  \n",
       "0            3.3  \n",
       "1            2.7  \n",
       "2            4.5  \n",
       "3            2.8  \n",
       "4            2.6  \n",
       "...          ...  \n",
       "71395        2.8  \n",
       "71396        3.4  \n",
       "71397        2.9  \n",
       "71398        3.2  \n",
       "71399        2.8  \n",
       "\n",
       "[71400 rows x 10 columns]"
      ],
      "text/html": "<div>\n<style scoped>\n    .dataframe tbody tr th:only-of-type {\n        vertical-align: middle;\n    }\n\n    .dataframe tbody tr th {\n        vertical-align: top;\n    }\n\n    .dataframe thead th {\n        text-align: right;\n    }\n</style>\n<table border=\"1\" class=\"dataframe\">\n  <thead>\n    <tr style=\"text-align: right;\">\n      <th></th>\n      <th>YEAR</th>\n      <th>MONTH</th>\n      <th>DAY</th>\n      <th>HOUR</th>\n      <th>MINUTE</th>\n      <th>SECOND</th>\n      <th>LATITUDE</th>\n      <th>LONGITUDE</th>\n      <th>DEPTH</th>\n      <th>MAGNITUDE</th>\n    </tr>\n  </thead>\n  <tbody>\n    <tr>\n      <th>0</th>\n      <td>1990</td>\n      <td>1</td>\n      <td>1</td>\n      <td>3</td>\n      <td>52</td>\n      <td>48.5</td>\n      <td>36.09</td>\n      <td>22.29</td>\n      <td>1</td>\n      <td>3.3</td>\n    </tr>\n    <tr>\n      <th>1</th>\n      <td>1990</td>\n      <td>1</td>\n      <td>2</td>\n      <td>8</td>\n      <td>2</td>\n      <td>0.4</td>\n      <td>38.55</td>\n      <td>24.48</td>\n      <td>6</td>\n      <td>2.7</td>\n    </tr>\n    <tr>\n      <th>2</th>\n      <td>1990</td>\n      <td>1</td>\n      <td>2</td>\n      <td>20</td>\n      <td>35</td>\n      <td>43.1</td>\n      <td>38.58</td>\n      <td>24.26</td>\n      <td>14</td>\n      <td>4.5</td>\n    </tr>\n    <tr>\n      <th>3</th>\n      <td>1990</td>\n      <td>1</td>\n      <td>2</td>\n      <td>20</td>\n      <td>41</td>\n      <td>26.0</td>\n      <td>38.53</td>\n      <td>24.42</td>\n      <td>20</td>\n      <td>2.8</td>\n    </tr>\n    <tr>\n      <th>4</th>\n      <td>1990</td>\n      <td>1</td>\n      <td>2</td>\n      <td>20</td>\n      <td>42</td>\n      <td>6.9</td>\n      <td>38.55</td>\n      <td>24.15</td>\n      <td>6</td>\n      <td>2.6</td>\n    </tr>\n    <tr>\n      <th>...</th>\n      <td>...</td>\n      <td>...</td>\n      <td>...</td>\n      <td>...</td>\n      <td>...</td>\n      <td>...</td>\n      <td>...</td>\n      <td>...</td>\n      <td>...</td>\n      <td>...</td>\n    </tr>\n    <tr>\n      <th>71395</th>\n      <td>2009</td>\n      <td>12</td>\n      <td>31</td>\n      <td>14</td>\n      <td>24</td>\n      <td>1.2</td>\n      <td>37.47</td>\n      <td>21.83</td>\n      <td>21</td>\n      <td>2.8</td>\n    </tr>\n    <tr>\n      <th>71396</th>\n      <td>2009</td>\n      <td>12</td>\n      <td>31</td>\n      <td>14</td>\n      <td>50</td>\n      <td>29.6</td>\n      <td>34.67</td>\n      <td>24.42</td>\n      <td>15</td>\n      <td>3.4</td>\n    </tr>\n    <tr>\n      <th>71397</th>\n      <td>2009</td>\n      <td>12</td>\n      <td>31</td>\n      <td>17</td>\n      <td>27</td>\n      <td>45.8</td>\n      <td>35.68</td>\n      <td>23.47</td>\n      <td>5</td>\n      <td>2.9</td>\n    </tr>\n    <tr>\n      <th>71398</th>\n      <td>2009</td>\n      <td>12</td>\n      <td>31</td>\n      <td>20</td>\n      <td>43</td>\n      <td>12.9</td>\n      <td>36.37</td>\n      <td>21.61</td>\n      <td>11</td>\n      <td>3.2</td>\n    </tr>\n    <tr>\n      <th>71399</th>\n      <td>2009</td>\n      <td>12</td>\n      <td>31</td>\n      <td>20</td>\n      <td>58</td>\n      <td>40.8</td>\n      <td>39.70</td>\n      <td>20.76</td>\n      <td>18</td>\n      <td>2.8</td>\n    </tr>\n  </tbody>\n</table>\n<p>71400 rows × 10 columns</p>\n</div>"
     },
     "metadata": {},
     "execution_count": 34
    }
   ],
   "source": [
    "df"
   ]
  },
  {
   "cell_type": "code",
   "execution_count": 36,
   "metadata": {},
   "outputs": [],
   "source": [
    "df['T'] = (\n",
    "    df['YEAR'].astype(str) + '-' + \n",
    "    df['MONTH'].astype(str) + '-' +\n",
    "    df['DAY'].astype(str) + ' ' +\n",
    "    df['HOUR'].astype(str) + ':' +\n",
    "    df['MINUTE'].astype(str) + ':' +\n",
    "    df['SECOND'].astype(str)\n",
    ")\n",
    "    "
   ]
  },
  {
   "cell_type": "code",
   "execution_count": 37,
   "metadata": {},
   "outputs": [
    {
     "output_type": "execute_result",
     "data": {
      "text/plain": [
       "       YEAR  MONTH  DAY  HOUR  MINUTE  SECOND  LATITUDE  LONGITUDE  DEPTH  \\\n",
       "0      1990      1    1     3      52    48.5     36.09      22.29      1   \n",
       "1      1990      1    2     8       2     0.4     38.55      24.48      6   \n",
       "2      1990      1    2    20      35    43.1     38.58      24.26     14   \n",
       "3      1990      1    2    20      41    26.0     38.53      24.42     20   \n",
       "4      1990      1    2    20      42     6.9     38.55      24.15      6   \n",
       "...     ...    ...  ...   ...     ...     ...       ...        ...    ...   \n",
       "71395  2009     12   31    14      24     1.2     37.47      21.83     21   \n",
       "71396  2009     12   31    14      50    29.6     34.67      24.42     15   \n",
       "71397  2009     12   31    17      27    45.8     35.68      23.47      5   \n",
       "71398  2009     12   31    20      43    12.9     36.37      21.61     11   \n",
       "71399  2009     12   31    20      58    40.8     39.70      20.76     18   \n",
       "\n",
       "       MAGNITUDE                      T  \n",
       "0            3.3     1990-1-1 3:52:48.5  \n",
       "1            2.7       1990-1-2 8:2:0.4  \n",
       "2            4.5    1990-1-2 20:35:43.1  \n",
       "3            2.8    1990-1-2 20:41:26.0  \n",
       "4            2.6     1990-1-2 20:42:6.9  \n",
       "...          ...                    ...  \n",
       "71395        2.8   2009-12-31 14:24:1.2  \n",
       "71396        3.4  2009-12-31 14:50:29.6  \n",
       "71397        2.9  2009-12-31 17:27:45.8  \n",
       "71398        3.2  2009-12-31 20:43:12.9  \n",
       "71399        2.8  2009-12-31 20:58:40.8  \n",
       "\n",
       "[71400 rows x 11 columns]"
      ],
      "text/html": "<div>\n<style scoped>\n    .dataframe tbody tr th:only-of-type {\n        vertical-align: middle;\n    }\n\n    .dataframe tbody tr th {\n        vertical-align: top;\n    }\n\n    .dataframe thead th {\n        text-align: right;\n    }\n</style>\n<table border=\"1\" class=\"dataframe\">\n  <thead>\n    <tr style=\"text-align: right;\">\n      <th></th>\n      <th>YEAR</th>\n      <th>MONTH</th>\n      <th>DAY</th>\n      <th>HOUR</th>\n      <th>MINUTE</th>\n      <th>SECOND</th>\n      <th>LATITUDE</th>\n      <th>LONGITUDE</th>\n      <th>DEPTH</th>\n      <th>MAGNITUDE</th>\n      <th>T</th>\n    </tr>\n  </thead>\n  <tbody>\n    <tr>\n      <th>0</th>\n      <td>1990</td>\n      <td>1</td>\n      <td>1</td>\n      <td>3</td>\n      <td>52</td>\n      <td>48.5</td>\n      <td>36.09</td>\n      <td>22.29</td>\n      <td>1</td>\n      <td>3.3</td>\n      <td>1990-1-1 3:52:48.5</td>\n    </tr>\n    <tr>\n      <th>1</th>\n      <td>1990</td>\n      <td>1</td>\n      <td>2</td>\n      <td>8</td>\n      <td>2</td>\n      <td>0.4</td>\n      <td>38.55</td>\n      <td>24.48</td>\n      <td>6</td>\n      <td>2.7</td>\n      <td>1990-1-2 8:2:0.4</td>\n    </tr>\n    <tr>\n      <th>2</th>\n      <td>1990</td>\n      <td>1</td>\n      <td>2</td>\n      <td>20</td>\n      <td>35</td>\n      <td>43.1</td>\n      <td>38.58</td>\n      <td>24.26</td>\n      <td>14</td>\n      <td>4.5</td>\n      <td>1990-1-2 20:35:43.1</td>\n    </tr>\n    <tr>\n      <th>3</th>\n      <td>1990</td>\n      <td>1</td>\n      <td>2</td>\n      <td>20</td>\n      <td>41</td>\n      <td>26.0</td>\n      <td>38.53</td>\n      <td>24.42</td>\n      <td>20</td>\n      <td>2.8</td>\n      <td>1990-1-2 20:41:26.0</td>\n    </tr>\n    <tr>\n      <th>4</th>\n      <td>1990</td>\n      <td>1</td>\n      <td>2</td>\n      <td>20</td>\n      <td>42</td>\n      <td>6.9</td>\n      <td>38.55</td>\n      <td>24.15</td>\n      <td>6</td>\n      <td>2.6</td>\n      <td>1990-1-2 20:42:6.9</td>\n    </tr>\n    <tr>\n      <th>...</th>\n      <td>...</td>\n      <td>...</td>\n      <td>...</td>\n      <td>...</td>\n      <td>...</td>\n      <td>...</td>\n      <td>...</td>\n      <td>...</td>\n      <td>...</td>\n      <td>...</td>\n      <td>...</td>\n    </tr>\n    <tr>\n      <th>71395</th>\n      <td>2009</td>\n      <td>12</td>\n      <td>31</td>\n      <td>14</td>\n      <td>24</td>\n      <td>1.2</td>\n      <td>37.47</td>\n      <td>21.83</td>\n      <td>21</td>\n      <td>2.8</td>\n      <td>2009-12-31 14:24:1.2</td>\n    </tr>\n    <tr>\n      <th>71396</th>\n      <td>2009</td>\n      <td>12</td>\n      <td>31</td>\n      <td>14</td>\n      <td>50</td>\n      <td>29.6</td>\n      <td>34.67</td>\n      <td>24.42</td>\n      <td>15</td>\n      <td>3.4</td>\n      <td>2009-12-31 14:50:29.6</td>\n    </tr>\n    <tr>\n      <th>71397</th>\n      <td>2009</td>\n      <td>12</td>\n      <td>31</td>\n      <td>17</td>\n      <td>27</td>\n      <td>45.8</td>\n      <td>35.68</td>\n      <td>23.47</td>\n      <td>5</td>\n      <td>2.9</td>\n      <td>2009-12-31 17:27:45.8</td>\n    </tr>\n    <tr>\n      <th>71398</th>\n      <td>2009</td>\n      <td>12</td>\n      <td>31</td>\n      <td>20</td>\n      <td>43</td>\n      <td>12.9</td>\n      <td>36.37</td>\n      <td>21.61</td>\n      <td>11</td>\n      <td>3.2</td>\n      <td>2009-12-31 20:43:12.9</td>\n    </tr>\n    <tr>\n      <th>71399</th>\n      <td>2009</td>\n      <td>12</td>\n      <td>31</td>\n      <td>20</td>\n      <td>58</td>\n      <td>40.8</td>\n      <td>39.70</td>\n      <td>20.76</td>\n      <td>18</td>\n      <td>2.8</td>\n      <td>2009-12-31 20:58:40.8</td>\n    </tr>\n  </tbody>\n</table>\n<p>71400 rows × 11 columns</p>\n</div>"
     },
     "metadata": {},
     "execution_count": 37
    }
   ],
   "source": [
    "df"
   ]
  },
  {
   "cell_type": "code",
   "execution_count": 38,
   "metadata": {},
   "outputs": [],
   "source": [
    "df['T'] = pandas.to_datetime(df['T'])"
   ]
  },
  {
   "cell_type": "code",
   "execution_count": 39,
   "metadata": {},
   "outputs": [
    {
     "output_type": "execute_result",
     "data": {
      "text/plain": [
       "       YEAR  MONTH  DAY  HOUR  MINUTE  SECOND  LATITUDE  LONGITUDE  DEPTH  \\\n",
       "0      1990      1    1     3      52    48.5     36.09      22.29      1   \n",
       "1      1990      1    2     8       2     0.4     38.55      24.48      6   \n",
       "2      1990      1    2    20      35    43.1     38.58      24.26     14   \n",
       "3      1990      1    2    20      41    26.0     38.53      24.42     20   \n",
       "4      1990      1    2    20      42     6.9     38.55      24.15      6   \n",
       "...     ...    ...  ...   ...     ...     ...       ...        ...    ...   \n",
       "71395  2009     12   31    14      24     1.2     37.47      21.83     21   \n",
       "71396  2009     12   31    14      50    29.6     34.67      24.42     15   \n",
       "71397  2009     12   31    17      27    45.8     35.68      23.47      5   \n",
       "71398  2009     12   31    20      43    12.9     36.37      21.61     11   \n",
       "71399  2009     12   31    20      58    40.8     39.70      20.76     18   \n",
       "\n",
       "       MAGNITUDE                       T  \n",
       "0            3.3 1990-01-01 03:52:48.500  \n",
       "1            2.7 1990-01-02 08:02:00.400  \n",
       "2            4.5 1990-01-02 20:35:43.100  \n",
       "3            2.8 1990-01-02 20:41:26.000  \n",
       "4            2.6 1990-01-02 20:42:06.900  \n",
       "...          ...                     ...  \n",
       "71395        2.8 2009-12-31 14:24:01.200  \n",
       "71396        3.4 2009-12-31 14:50:29.600  \n",
       "71397        2.9 2009-12-31 17:27:45.800  \n",
       "71398        3.2 2009-12-31 20:43:12.900  \n",
       "71399        2.8 2009-12-31 20:58:40.800  \n",
       "\n",
       "[71400 rows x 11 columns]"
      ],
      "text/html": "<div>\n<style scoped>\n    .dataframe tbody tr th:only-of-type {\n        vertical-align: middle;\n    }\n\n    .dataframe tbody tr th {\n        vertical-align: top;\n    }\n\n    .dataframe thead th {\n        text-align: right;\n    }\n</style>\n<table border=\"1\" class=\"dataframe\">\n  <thead>\n    <tr style=\"text-align: right;\">\n      <th></th>\n      <th>YEAR</th>\n      <th>MONTH</th>\n      <th>DAY</th>\n      <th>HOUR</th>\n      <th>MINUTE</th>\n      <th>SECOND</th>\n      <th>LATITUDE</th>\n      <th>LONGITUDE</th>\n      <th>DEPTH</th>\n      <th>MAGNITUDE</th>\n      <th>T</th>\n    </tr>\n  </thead>\n  <tbody>\n    <tr>\n      <th>0</th>\n      <td>1990</td>\n      <td>1</td>\n      <td>1</td>\n      <td>3</td>\n      <td>52</td>\n      <td>48.5</td>\n      <td>36.09</td>\n      <td>22.29</td>\n      <td>1</td>\n      <td>3.3</td>\n      <td>1990-01-01 03:52:48.500</td>\n    </tr>\n    <tr>\n      <th>1</th>\n      <td>1990</td>\n      <td>1</td>\n      <td>2</td>\n      <td>8</td>\n      <td>2</td>\n      <td>0.4</td>\n      <td>38.55</td>\n      <td>24.48</td>\n      <td>6</td>\n      <td>2.7</td>\n      <td>1990-01-02 08:02:00.400</td>\n    </tr>\n    <tr>\n      <th>2</th>\n      <td>1990</td>\n      <td>1</td>\n      <td>2</td>\n      <td>20</td>\n      <td>35</td>\n      <td>43.1</td>\n      <td>38.58</td>\n      <td>24.26</td>\n      <td>14</td>\n      <td>4.5</td>\n      <td>1990-01-02 20:35:43.100</td>\n    </tr>\n    <tr>\n      <th>3</th>\n      <td>1990</td>\n      <td>1</td>\n      <td>2</td>\n      <td>20</td>\n      <td>41</td>\n      <td>26.0</td>\n      <td>38.53</td>\n      <td>24.42</td>\n      <td>20</td>\n      <td>2.8</td>\n      <td>1990-01-02 20:41:26.000</td>\n    </tr>\n    <tr>\n      <th>4</th>\n      <td>1990</td>\n      <td>1</td>\n      <td>2</td>\n      <td>20</td>\n      <td>42</td>\n      <td>6.9</td>\n      <td>38.55</td>\n      <td>24.15</td>\n      <td>6</td>\n      <td>2.6</td>\n      <td>1990-01-02 20:42:06.900</td>\n    </tr>\n    <tr>\n      <th>...</th>\n      <td>...</td>\n      <td>...</td>\n      <td>...</td>\n      <td>...</td>\n      <td>...</td>\n      <td>...</td>\n      <td>...</td>\n      <td>...</td>\n      <td>...</td>\n      <td>...</td>\n      <td>...</td>\n    </tr>\n    <tr>\n      <th>71395</th>\n      <td>2009</td>\n      <td>12</td>\n      <td>31</td>\n      <td>14</td>\n      <td>24</td>\n      <td>1.2</td>\n      <td>37.47</td>\n      <td>21.83</td>\n      <td>21</td>\n      <td>2.8</td>\n      <td>2009-12-31 14:24:01.200</td>\n    </tr>\n    <tr>\n      <th>71396</th>\n      <td>2009</td>\n      <td>12</td>\n      <td>31</td>\n      <td>14</td>\n      <td>50</td>\n      <td>29.6</td>\n      <td>34.67</td>\n      <td>24.42</td>\n      <td>15</td>\n      <td>3.4</td>\n      <td>2009-12-31 14:50:29.600</td>\n    </tr>\n    <tr>\n      <th>71397</th>\n      <td>2009</td>\n      <td>12</td>\n      <td>31</td>\n      <td>17</td>\n      <td>27</td>\n      <td>45.8</td>\n      <td>35.68</td>\n      <td>23.47</td>\n      <td>5</td>\n      <td>2.9</td>\n      <td>2009-12-31 17:27:45.800</td>\n    </tr>\n    <tr>\n      <th>71398</th>\n      <td>2009</td>\n      <td>12</td>\n      <td>31</td>\n      <td>20</td>\n      <td>43</td>\n      <td>12.9</td>\n      <td>36.37</td>\n      <td>21.61</td>\n      <td>11</td>\n      <td>3.2</td>\n      <td>2009-12-31 20:43:12.900</td>\n    </tr>\n    <tr>\n      <th>71399</th>\n      <td>2009</td>\n      <td>12</td>\n      <td>31</td>\n      <td>20</td>\n      <td>58</td>\n      <td>40.8</td>\n      <td>39.70</td>\n      <td>20.76</td>\n      <td>18</td>\n      <td>2.8</td>\n      <td>2009-12-31 20:58:40.800</td>\n    </tr>\n  </tbody>\n</table>\n<p>71400 rows × 11 columns</p>\n</div>"
     },
     "metadata": {},
     "execution_count": 39
    }
   ],
   "source": [
    "df"
   ]
  },
  {
   "cell_type": "code",
   "execution_count": 42,
   "metadata": {},
   "outputs": [],
   "source": [
    "df.drop(columns = ['YEAR', 'MONTH', 'DAY', 'HOUR', 'MINUTE', 'SECOND'], inplace = True)"
   ]
  },
  {
   "cell_type": "code",
   "execution_count": 43,
   "metadata": {},
   "outputs": [
    {
     "output_type": "execute_result",
     "data": {
      "text/plain": [
       "       LATITUDE  LONGITUDE  DEPTH  MAGNITUDE                       T\n",
       "0         36.09      22.29      1        3.3 1990-01-01 03:52:48.500\n",
       "1         38.55      24.48      6        2.7 1990-01-02 08:02:00.400\n",
       "2         38.58      24.26     14        4.5 1990-01-02 20:35:43.100\n",
       "3         38.53      24.42     20        2.8 1990-01-02 20:41:26.000\n",
       "4         38.55      24.15      6        2.6 1990-01-02 20:42:06.900\n",
       "...         ...        ...    ...        ...                     ...\n",
       "71395     37.47      21.83     21        2.8 2009-12-31 14:24:01.200\n",
       "71396     34.67      24.42     15        3.4 2009-12-31 14:50:29.600\n",
       "71397     35.68      23.47      5        2.9 2009-12-31 17:27:45.800\n",
       "71398     36.37      21.61     11        3.2 2009-12-31 20:43:12.900\n",
       "71399     39.70      20.76     18        2.8 2009-12-31 20:58:40.800\n",
       "\n",
       "[71400 rows x 5 columns]"
      ],
      "text/html": "<div>\n<style scoped>\n    .dataframe tbody tr th:only-of-type {\n        vertical-align: middle;\n    }\n\n    .dataframe tbody tr th {\n        vertical-align: top;\n    }\n\n    .dataframe thead th {\n        text-align: right;\n    }\n</style>\n<table border=\"1\" class=\"dataframe\">\n  <thead>\n    <tr style=\"text-align: right;\">\n      <th></th>\n      <th>LATITUDE</th>\n      <th>LONGITUDE</th>\n      <th>DEPTH</th>\n      <th>MAGNITUDE</th>\n      <th>T</th>\n    </tr>\n  </thead>\n  <tbody>\n    <tr>\n      <th>0</th>\n      <td>36.09</td>\n      <td>22.29</td>\n      <td>1</td>\n      <td>3.3</td>\n      <td>1990-01-01 03:52:48.500</td>\n    </tr>\n    <tr>\n      <th>1</th>\n      <td>38.55</td>\n      <td>24.48</td>\n      <td>6</td>\n      <td>2.7</td>\n      <td>1990-01-02 08:02:00.400</td>\n    </tr>\n    <tr>\n      <th>2</th>\n      <td>38.58</td>\n      <td>24.26</td>\n      <td>14</td>\n      <td>4.5</td>\n      <td>1990-01-02 20:35:43.100</td>\n    </tr>\n    <tr>\n      <th>3</th>\n      <td>38.53</td>\n      <td>24.42</td>\n      <td>20</td>\n      <td>2.8</td>\n      <td>1990-01-02 20:41:26.000</td>\n    </tr>\n    <tr>\n      <th>4</th>\n      <td>38.55</td>\n      <td>24.15</td>\n      <td>6</td>\n      <td>2.6</td>\n      <td>1990-01-02 20:42:06.900</td>\n    </tr>\n    <tr>\n      <th>...</th>\n      <td>...</td>\n      <td>...</td>\n      <td>...</td>\n      <td>...</td>\n      <td>...</td>\n    </tr>\n    <tr>\n      <th>71395</th>\n      <td>37.47</td>\n      <td>21.83</td>\n      <td>21</td>\n      <td>2.8</td>\n      <td>2009-12-31 14:24:01.200</td>\n    </tr>\n    <tr>\n      <th>71396</th>\n      <td>34.67</td>\n      <td>24.42</td>\n      <td>15</td>\n      <td>3.4</td>\n      <td>2009-12-31 14:50:29.600</td>\n    </tr>\n    <tr>\n      <th>71397</th>\n      <td>35.68</td>\n      <td>23.47</td>\n      <td>5</td>\n      <td>2.9</td>\n      <td>2009-12-31 17:27:45.800</td>\n    </tr>\n    <tr>\n      <th>71398</th>\n      <td>36.37</td>\n      <td>21.61</td>\n      <td>11</td>\n      <td>3.2</td>\n      <td>2009-12-31 20:43:12.900</td>\n    </tr>\n    <tr>\n      <th>71399</th>\n      <td>39.70</td>\n      <td>20.76</td>\n      <td>18</td>\n      <td>2.8</td>\n      <td>2009-12-31 20:58:40.800</td>\n    </tr>\n  </tbody>\n</table>\n<p>71400 rows × 5 columns</p>\n</div>"
     },
     "metadata": {},
     "execution_count": 43
    }
   ],
   "source": [
    "df"
   ]
  },
  {
   "cell_type": "code",
   "execution_count": 47,
   "metadata": {},
   "outputs": [],
   "source": [
    "df.index.name = 'Event'"
   ]
  },
  {
   "cell_type": "code",
   "execution_count": 48,
   "metadata": {},
   "outputs": [
    {
     "output_type": "execute_result",
     "data": {
      "text/plain": [
       "       LATITUDE  LONGITUDE  DEPTH  MAGNITUDE                       T\n",
       "Event                                                               \n",
       "0         36.09      22.29      1        3.3 1990-01-01 03:52:48.500\n",
       "1         38.55      24.48      6        2.7 1990-01-02 08:02:00.400\n",
       "2         38.58      24.26     14        4.5 1990-01-02 20:35:43.100\n",
       "3         38.53      24.42     20        2.8 1990-01-02 20:41:26.000\n",
       "4         38.55      24.15      6        2.6 1990-01-02 20:42:06.900\n",
       "...         ...        ...    ...        ...                     ...\n",
       "71395     37.47      21.83     21        2.8 2009-12-31 14:24:01.200\n",
       "71396     34.67      24.42     15        3.4 2009-12-31 14:50:29.600\n",
       "71397     35.68      23.47      5        2.9 2009-12-31 17:27:45.800\n",
       "71398     36.37      21.61     11        3.2 2009-12-31 20:43:12.900\n",
       "71399     39.70      20.76     18        2.8 2009-12-31 20:58:40.800\n",
       "\n",
       "[71400 rows x 5 columns]"
      ],
      "text/html": "<div>\n<style scoped>\n    .dataframe tbody tr th:only-of-type {\n        vertical-align: middle;\n    }\n\n    .dataframe tbody tr th {\n        vertical-align: top;\n    }\n\n    .dataframe thead th {\n        text-align: right;\n    }\n</style>\n<table border=\"1\" class=\"dataframe\">\n  <thead>\n    <tr style=\"text-align: right;\">\n      <th></th>\n      <th>LATITUDE</th>\n      <th>LONGITUDE</th>\n      <th>DEPTH</th>\n      <th>MAGNITUDE</th>\n      <th>T</th>\n    </tr>\n    <tr>\n      <th>Event</th>\n      <th></th>\n      <th></th>\n      <th></th>\n      <th></th>\n      <th></th>\n    </tr>\n  </thead>\n  <tbody>\n    <tr>\n      <th>0</th>\n      <td>36.09</td>\n      <td>22.29</td>\n      <td>1</td>\n      <td>3.3</td>\n      <td>1990-01-01 03:52:48.500</td>\n    </tr>\n    <tr>\n      <th>1</th>\n      <td>38.55</td>\n      <td>24.48</td>\n      <td>6</td>\n      <td>2.7</td>\n      <td>1990-01-02 08:02:00.400</td>\n    </tr>\n    <tr>\n      <th>2</th>\n      <td>38.58</td>\n      <td>24.26</td>\n      <td>14</td>\n      <td>4.5</td>\n      <td>1990-01-02 20:35:43.100</td>\n    </tr>\n    <tr>\n      <th>3</th>\n      <td>38.53</td>\n      <td>24.42</td>\n      <td>20</td>\n      <td>2.8</td>\n      <td>1990-01-02 20:41:26.000</td>\n    </tr>\n    <tr>\n      <th>4</th>\n      <td>38.55</td>\n      <td>24.15</td>\n      <td>6</td>\n      <td>2.6</td>\n      <td>1990-01-02 20:42:06.900</td>\n    </tr>\n    <tr>\n      <th>...</th>\n      <td>...</td>\n      <td>...</td>\n      <td>...</td>\n      <td>...</td>\n      <td>...</td>\n    </tr>\n    <tr>\n      <th>71395</th>\n      <td>37.47</td>\n      <td>21.83</td>\n      <td>21</td>\n      <td>2.8</td>\n      <td>2009-12-31 14:24:01.200</td>\n    </tr>\n    <tr>\n      <th>71396</th>\n      <td>34.67</td>\n      <td>24.42</td>\n      <td>15</td>\n      <td>3.4</td>\n      <td>2009-12-31 14:50:29.600</td>\n    </tr>\n    <tr>\n      <th>71397</th>\n      <td>35.68</td>\n      <td>23.47</td>\n      <td>5</td>\n      <td>2.9</td>\n      <td>2009-12-31 17:27:45.800</td>\n    </tr>\n    <tr>\n      <th>71398</th>\n      <td>36.37</td>\n      <td>21.61</td>\n      <td>11</td>\n      <td>3.2</td>\n      <td>2009-12-31 20:43:12.900</td>\n    </tr>\n    <tr>\n      <th>71399</th>\n      <td>39.70</td>\n      <td>20.76</td>\n      <td>18</td>\n      <td>2.8</td>\n      <td>2009-12-31 20:58:40.800</td>\n    </tr>\n  </tbody>\n</table>\n<p>71400 rows × 5 columns</p>\n</div>"
     },
     "metadata": {},
     "execution_count": 48
    }
   ],
   "source": [
    "df"
   ]
  },
  {
   "cell_type": "code",
   "execution_count": 53,
   "metadata": {},
   "outputs": [],
   "source": [
    "df.rename(columns = {'LATITUDE': 'Latitude', 'LONGITUDE': 'Longitude', 'DEPTH': 'Depth', 'MAGNITUDE': 'Magnitude', 'T': 'Time'}, inplace=True)"
   ]
  },
  {
   "cell_type": "code",
   "execution_count": 54,
   "metadata": {},
   "outputs": [
    {
     "output_type": "execute_result",
     "data": {
      "text/plain": [
       "       Latitude  Longitude  Depth  Magnitude                    Time\n",
       "Event                                                               \n",
       "0         36.09      22.29      1        3.3 1990-01-01 03:52:48.500\n",
       "1         38.55      24.48      6        2.7 1990-01-02 08:02:00.400\n",
       "2         38.58      24.26     14        4.5 1990-01-02 20:35:43.100\n",
       "3         38.53      24.42     20        2.8 1990-01-02 20:41:26.000\n",
       "4         38.55      24.15      6        2.6 1990-01-02 20:42:06.900\n",
       "...         ...        ...    ...        ...                     ...\n",
       "71395     37.47      21.83     21        2.8 2009-12-31 14:24:01.200\n",
       "71396     34.67      24.42     15        3.4 2009-12-31 14:50:29.600\n",
       "71397     35.68      23.47      5        2.9 2009-12-31 17:27:45.800\n",
       "71398     36.37      21.61     11        3.2 2009-12-31 20:43:12.900\n",
       "71399     39.70      20.76     18        2.8 2009-12-31 20:58:40.800\n",
       "\n",
       "[71400 rows x 5 columns]"
      ],
      "text/html": "<div>\n<style scoped>\n    .dataframe tbody tr th:only-of-type {\n        vertical-align: middle;\n    }\n\n    .dataframe tbody tr th {\n        vertical-align: top;\n    }\n\n    .dataframe thead th {\n        text-align: right;\n    }\n</style>\n<table border=\"1\" class=\"dataframe\">\n  <thead>\n    <tr style=\"text-align: right;\">\n      <th></th>\n      <th>Latitude</th>\n      <th>Longitude</th>\n      <th>Depth</th>\n      <th>Magnitude</th>\n      <th>Time</th>\n    </tr>\n    <tr>\n      <th>Event</th>\n      <th></th>\n      <th></th>\n      <th></th>\n      <th></th>\n      <th></th>\n    </tr>\n  </thead>\n  <tbody>\n    <tr>\n      <th>0</th>\n      <td>36.09</td>\n      <td>22.29</td>\n      <td>1</td>\n      <td>3.3</td>\n      <td>1990-01-01 03:52:48.500</td>\n    </tr>\n    <tr>\n      <th>1</th>\n      <td>38.55</td>\n      <td>24.48</td>\n      <td>6</td>\n      <td>2.7</td>\n      <td>1990-01-02 08:02:00.400</td>\n    </tr>\n    <tr>\n      <th>2</th>\n      <td>38.58</td>\n      <td>24.26</td>\n      <td>14</td>\n      <td>4.5</td>\n      <td>1990-01-02 20:35:43.100</td>\n    </tr>\n    <tr>\n      <th>3</th>\n      <td>38.53</td>\n      <td>24.42</td>\n      <td>20</td>\n      <td>2.8</td>\n      <td>1990-01-02 20:41:26.000</td>\n    </tr>\n    <tr>\n      <th>4</th>\n      <td>38.55</td>\n      <td>24.15</td>\n      <td>6</td>\n      <td>2.6</td>\n      <td>1990-01-02 20:42:06.900</td>\n    </tr>\n    <tr>\n      <th>...</th>\n      <td>...</td>\n      <td>...</td>\n      <td>...</td>\n      <td>...</td>\n      <td>...</td>\n    </tr>\n    <tr>\n      <th>71395</th>\n      <td>37.47</td>\n      <td>21.83</td>\n      <td>21</td>\n      <td>2.8</td>\n      <td>2009-12-31 14:24:01.200</td>\n    </tr>\n    <tr>\n      <th>71396</th>\n      <td>34.67</td>\n      <td>24.42</td>\n      <td>15</td>\n      <td>3.4</td>\n      <td>2009-12-31 14:50:29.600</td>\n    </tr>\n    <tr>\n      <th>71397</th>\n      <td>35.68</td>\n      <td>23.47</td>\n      <td>5</td>\n      <td>2.9</td>\n      <td>2009-12-31 17:27:45.800</td>\n    </tr>\n    <tr>\n      <th>71398</th>\n      <td>36.37</td>\n      <td>21.61</td>\n      <td>11</td>\n      <td>3.2</td>\n      <td>2009-12-31 20:43:12.900</td>\n    </tr>\n    <tr>\n      <th>71399</th>\n      <td>39.70</td>\n      <td>20.76</td>\n      <td>18</td>\n      <td>2.8</td>\n      <td>2009-12-31 20:58:40.800</td>\n    </tr>\n  </tbody>\n</table>\n<p>71400 rows × 5 columns</p>\n</div>"
     },
     "metadata": {},
     "execution_count": 54
    }
   ],
   "source": [
    "df"
   ]
  },
  {
   "cell_type": "code",
   "execution_count": 3,
   "metadata": {},
   "outputs": [],
   "source": [
    "df_direct = pandas.read_csv('full.txt', header=None, skiprows=2, sep='\\s+', names=['year', 'month', 'day', 'hour', 'minute', 'second', 'latitude', 'lotitude', 'depth', 'magnitude'])"
   ]
  },
  {
   "cell_type": "code",
   "execution_count": 4,
   "metadata": {},
   "outputs": [
    {
     "output_type": "execute_result",
     "data": {
      "text/plain": [
       "        year month  day  hour  minute  second  latitude  lotitude  depth  \\\n",
       "0       1964   FEB   24    23      30    25.0   38.9000   23.9000     10   \n",
       "1       1964   APR   11    16       0     0.0   39.7500   25.2500     10   \n",
       "2       1964   APR   21     8      14    40.0   38.5000   22.2500     10   \n",
       "3       1964   APR   24     3      49    58.0   38.0000   21.8000     10   \n",
       "4       1964   APR   29     4      21     0.0   39.2500   23.7500     10   \n",
       "...      ...   ...  ...   ...     ...     ...       ...       ...    ...   \n",
       "313395  2021   APR    9     5       0     7.4   39.7856   21.9081      5   \n",
       "313396  2021   APR    9     5       0    21.9   39.7920   21.9328      5   \n",
       "313397  2021   APR    9     5       1     6.5   39.7160   22.1947      8   \n",
       "313398  2021   APR    9     5       2     5.6   39.7929   21.9154      6   \n",
       "313399  2021   APR    9     5      15     5.0   39.8007   21.8948      7   \n",
       "\n",
       "        magnitude  \n",
       "0             5.3  \n",
       "1             5.7  \n",
       "2             4.5  \n",
       "3             5.0  \n",
       "4             5.8  \n",
       "...           ...  \n",
       "313395        0.6  \n",
       "313396        1.5  \n",
       "313397        1.0  \n",
       "313398        1.0  \n",
       "313399        1.2  \n",
       "\n",
       "[313400 rows x 10 columns]"
      ],
      "text/html": "<div>\n<style scoped>\n    .dataframe tbody tr th:only-of-type {\n        vertical-align: middle;\n    }\n\n    .dataframe tbody tr th {\n        vertical-align: top;\n    }\n\n    .dataframe thead th {\n        text-align: right;\n    }\n</style>\n<table border=\"1\" class=\"dataframe\">\n  <thead>\n    <tr style=\"text-align: right;\">\n      <th></th>\n      <th>year</th>\n      <th>month</th>\n      <th>day</th>\n      <th>hour</th>\n      <th>minute</th>\n      <th>second</th>\n      <th>latitude</th>\n      <th>lotitude</th>\n      <th>depth</th>\n      <th>magnitude</th>\n    </tr>\n  </thead>\n  <tbody>\n    <tr>\n      <th>0</th>\n      <td>1964</td>\n      <td>FEB</td>\n      <td>24</td>\n      <td>23</td>\n      <td>30</td>\n      <td>25.0</td>\n      <td>38.9000</td>\n      <td>23.9000</td>\n      <td>10</td>\n      <td>5.3</td>\n    </tr>\n    <tr>\n      <th>1</th>\n      <td>1964</td>\n      <td>APR</td>\n      <td>11</td>\n      <td>16</td>\n      <td>0</td>\n      <td>0.0</td>\n      <td>39.7500</td>\n      <td>25.2500</td>\n      <td>10</td>\n      <td>5.7</td>\n    </tr>\n    <tr>\n      <th>2</th>\n      <td>1964</td>\n      <td>APR</td>\n      <td>21</td>\n      <td>8</td>\n      <td>14</td>\n      <td>40.0</td>\n      <td>38.5000</td>\n      <td>22.2500</td>\n      <td>10</td>\n      <td>4.5</td>\n    </tr>\n    <tr>\n      <th>3</th>\n      <td>1964</td>\n      <td>APR</td>\n      <td>24</td>\n      <td>3</td>\n      <td>49</td>\n      <td>58.0</td>\n      <td>38.0000</td>\n      <td>21.8000</td>\n      <td>10</td>\n      <td>5.0</td>\n    </tr>\n    <tr>\n      <th>4</th>\n      <td>1964</td>\n      <td>APR</td>\n      <td>29</td>\n      <td>4</td>\n      <td>21</td>\n      <td>0.0</td>\n      <td>39.2500</td>\n      <td>23.7500</td>\n      <td>10</td>\n      <td>5.8</td>\n    </tr>\n    <tr>\n      <th>...</th>\n      <td>...</td>\n      <td>...</td>\n      <td>...</td>\n      <td>...</td>\n      <td>...</td>\n      <td>...</td>\n      <td>...</td>\n      <td>...</td>\n      <td>...</td>\n      <td>...</td>\n    </tr>\n    <tr>\n      <th>313395</th>\n      <td>2021</td>\n      <td>APR</td>\n      <td>9</td>\n      <td>5</td>\n      <td>0</td>\n      <td>7.4</td>\n      <td>39.7856</td>\n      <td>21.9081</td>\n      <td>5</td>\n      <td>0.6</td>\n    </tr>\n    <tr>\n      <th>313396</th>\n      <td>2021</td>\n      <td>APR</td>\n      <td>9</td>\n      <td>5</td>\n      <td>0</td>\n      <td>21.9</td>\n      <td>39.7920</td>\n      <td>21.9328</td>\n      <td>5</td>\n      <td>1.5</td>\n    </tr>\n    <tr>\n      <th>313397</th>\n      <td>2021</td>\n      <td>APR</td>\n      <td>9</td>\n      <td>5</td>\n      <td>1</td>\n      <td>6.5</td>\n      <td>39.7160</td>\n      <td>22.1947</td>\n      <td>8</td>\n      <td>1.0</td>\n    </tr>\n    <tr>\n      <th>313398</th>\n      <td>2021</td>\n      <td>APR</td>\n      <td>9</td>\n      <td>5</td>\n      <td>2</td>\n      <td>5.6</td>\n      <td>39.7929</td>\n      <td>21.9154</td>\n      <td>6</td>\n      <td>1.0</td>\n    </tr>\n    <tr>\n      <th>313399</th>\n      <td>2021</td>\n      <td>APR</td>\n      <td>9</td>\n      <td>5</td>\n      <td>15</td>\n      <td>5.0</td>\n      <td>39.8007</td>\n      <td>21.8948</td>\n      <td>7</td>\n      <td>1.2</td>\n    </tr>\n  </tbody>\n</table>\n<p>313400 rows × 10 columns</p>\n</div>"
     },
     "metadata": {},
     "execution_count": 4
    }
   ],
   "source": [
    "df_direct"
   ]
  },
  {
   "cell_type": "code",
   "execution_count": 5,
   "metadata": {},
   "outputs": [],
   "source": [
    "df_direct.index.name = 'event'"
   ]
  },
  {
   "cell_type": "code",
   "execution_count": 6,
   "metadata": {},
   "outputs": [
    {
     "output_type": "execute_result",
     "data": {
      "text/plain": [
       "        year month  day  hour  minute  second  latitude  lotitude  depth  \\\n",
       "event                                                                      \n",
       "0       1964   FEB   24    23      30    25.0   38.9000   23.9000     10   \n",
       "1       1964   APR   11    16       0     0.0   39.7500   25.2500     10   \n",
       "2       1964   APR   21     8      14    40.0   38.5000   22.2500     10   \n",
       "3       1964   APR   24     3      49    58.0   38.0000   21.8000     10   \n",
       "4       1964   APR   29     4      21     0.0   39.2500   23.7500     10   \n",
       "...      ...   ...  ...   ...     ...     ...       ...       ...    ...   \n",
       "313395  2021   APR    9     5       0     7.4   39.7856   21.9081      5   \n",
       "313396  2021   APR    9     5       0    21.9   39.7920   21.9328      5   \n",
       "313397  2021   APR    9     5       1     6.5   39.7160   22.1947      8   \n",
       "313398  2021   APR    9     5       2     5.6   39.7929   21.9154      6   \n",
       "313399  2021   APR    9     5      15     5.0   39.8007   21.8948      7   \n",
       "\n",
       "        magnitude  \n",
       "event              \n",
       "0             5.3  \n",
       "1             5.7  \n",
       "2             4.5  \n",
       "3             5.0  \n",
       "4             5.8  \n",
       "...           ...  \n",
       "313395        0.6  \n",
       "313396        1.5  \n",
       "313397        1.0  \n",
       "313398        1.0  \n",
       "313399        1.2  \n",
       "\n",
       "[313400 rows x 10 columns]"
      ],
      "text/html": "<div>\n<style scoped>\n    .dataframe tbody tr th:only-of-type {\n        vertical-align: middle;\n    }\n\n    .dataframe tbody tr th {\n        vertical-align: top;\n    }\n\n    .dataframe thead th {\n        text-align: right;\n    }\n</style>\n<table border=\"1\" class=\"dataframe\">\n  <thead>\n    <tr style=\"text-align: right;\">\n      <th></th>\n      <th>year</th>\n      <th>month</th>\n      <th>day</th>\n      <th>hour</th>\n      <th>minute</th>\n      <th>second</th>\n      <th>latitude</th>\n      <th>lotitude</th>\n      <th>depth</th>\n      <th>magnitude</th>\n    </tr>\n    <tr>\n      <th>event</th>\n      <th></th>\n      <th></th>\n      <th></th>\n      <th></th>\n      <th></th>\n      <th></th>\n      <th></th>\n      <th></th>\n      <th></th>\n      <th></th>\n    </tr>\n  </thead>\n  <tbody>\n    <tr>\n      <th>0</th>\n      <td>1964</td>\n      <td>FEB</td>\n      <td>24</td>\n      <td>23</td>\n      <td>30</td>\n      <td>25.0</td>\n      <td>38.9000</td>\n      <td>23.9000</td>\n      <td>10</td>\n      <td>5.3</td>\n    </tr>\n    <tr>\n      <th>1</th>\n      <td>1964</td>\n      <td>APR</td>\n      <td>11</td>\n      <td>16</td>\n      <td>0</td>\n      <td>0.0</td>\n      <td>39.7500</td>\n      <td>25.2500</td>\n      <td>10</td>\n      <td>5.7</td>\n    </tr>\n    <tr>\n      <th>2</th>\n      <td>1964</td>\n      <td>APR</td>\n      <td>21</td>\n      <td>8</td>\n      <td>14</td>\n      <td>40.0</td>\n      <td>38.5000</td>\n      <td>22.2500</td>\n      <td>10</td>\n      <td>4.5</td>\n    </tr>\n    <tr>\n      <th>3</th>\n      <td>1964</td>\n      <td>APR</td>\n      <td>24</td>\n      <td>3</td>\n      <td>49</td>\n      <td>58.0</td>\n      <td>38.0000</td>\n      <td>21.8000</td>\n      <td>10</td>\n      <td>5.0</td>\n    </tr>\n    <tr>\n      <th>4</th>\n      <td>1964</td>\n      <td>APR</td>\n      <td>29</td>\n      <td>4</td>\n      <td>21</td>\n      <td>0.0</td>\n      <td>39.2500</td>\n      <td>23.7500</td>\n      <td>10</td>\n      <td>5.8</td>\n    </tr>\n    <tr>\n      <th>...</th>\n      <td>...</td>\n      <td>...</td>\n      <td>...</td>\n      <td>...</td>\n      <td>...</td>\n      <td>...</td>\n      <td>...</td>\n      <td>...</td>\n      <td>...</td>\n      <td>...</td>\n    </tr>\n    <tr>\n      <th>313395</th>\n      <td>2021</td>\n      <td>APR</td>\n      <td>9</td>\n      <td>5</td>\n      <td>0</td>\n      <td>7.4</td>\n      <td>39.7856</td>\n      <td>21.9081</td>\n      <td>5</td>\n      <td>0.6</td>\n    </tr>\n    <tr>\n      <th>313396</th>\n      <td>2021</td>\n      <td>APR</td>\n      <td>9</td>\n      <td>5</td>\n      <td>0</td>\n      <td>21.9</td>\n      <td>39.7920</td>\n      <td>21.9328</td>\n      <td>5</td>\n      <td>1.5</td>\n    </tr>\n    <tr>\n      <th>313397</th>\n      <td>2021</td>\n      <td>APR</td>\n      <td>9</td>\n      <td>5</td>\n      <td>1</td>\n      <td>6.5</td>\n      <td>39.7160</td>\n      <td>22.1947</td>\n      <td>8</td>\n      <td>1.0</td>\n    </tr>\n    <tr>\n      <th>313398</th>\n      <td>2021</td>\n      <td>APR</td>\n      <td>9</td>\n      <td>5</td>\n      <td>2</td>\n      <td>5.6</td>\n      <td>39.7929</td>\n      <td>21.9154</td>\n      <td>6</td>\n      <td>1.0</td>\n    </tr>\n    <tr>\n      <th>313399</th>\n      <td>2021</td>\n      <td>APR</td>\n      <td>9</td>\n      <td>5</td>\n      <td>15</td>\n      <td>5.0</td>\n      <td>39.8007</td>\n      <td>21.8948</td>\n      <td>7</td>\n      <td>1.2</td>\n    </tr>\n  </tbody>\n</table>\n<p>313400 rows × 10 columns</p>\n</div>"
     },
     "metadata": {},
     "execution_count": 6
    }
   ],
   "source": [
    "df_direct"
   ]
  },
  {
   "cell_type": "code",
   "execution_count": null,
   "metadata": {},
   "outputs": [],
   "source": []
  }
 ]
}