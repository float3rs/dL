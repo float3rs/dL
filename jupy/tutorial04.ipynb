{
 "metadata": {
  "language_info": {
   "codemirror_mode": {
    "name": "ipython",
    "version": 3
   },
   "file_extension": ".py",
   "mimetype": "text/x-python",
   "name": "python",
   "nbconvert_exporter": "python",
   "pygments_lexer": "ipython3",
   "version": "3.8.5-final"
  },
  "orig_nbformat": 2,
  "kernelspec": {
   "name": "python385jvsc74a57bd0dca0ade3e726a953b501b15e8e990130d2b7799f14cfd9f4271676035ebe5511",
   "display_name": "Python 3.8.5 64-bit ('base': conda)"
  }
 },
 "nbformat": 4,
 "nbformat_minor": 2,
 "cells": [
  {
   "cell_type": "code",
   "execution_count": 2,
   "metadata": {},
   "outputs": [],
   "source": [
    "import pandas\n",
    "import datetime\n",
    "import calendar"
   ]
  },
  {
   "cell_type": "code",
   "execution_count": 3,
   "metadata": {},
   "outputs": [],
   "source": [
    "df = pandas.read_csv('quakes.csv')\n",
    "df_schema = pandas.read_csv('schema.csv')"
   ]
  },
  {
   "cell_type": "code",
   "execution_count": 4,
   "metadata": {},
   "outputs": [
    {
     "output_type": "execute_result",
     "data": {
      "text/plain": [
       "        YEAR MONTH  DAY  HOUR  MINUTE  SECOND  LATITUDE  LONGITUDE  DEPTH  \\\n",
       "0       1964   FEB   24    23      30    25.0   38.9000    23.9000     10   \n",
       "1       1964   APR   11    16       0     0.0   39.7500    25.2500     10   \n",
       "2       1964   APR   21     8      14    40.0   38.5000    22.2500     10   \n",
       "3       1964   APR   24     3      49    58.0   38.0000    21.8000     10   \n",
       "4       1964   APR   29     4      21     0.0   39.2500    23.7500     10   \n",
       "...      ...   ...  ...   ...     ...     ...       ...        ...    ...   \n",
       "313395  2021   APR    9     5       0     7.4   39.7856    21.9081      5   \n",
       "313396  2021   APR    9     5       0    21.9   39.7920    21.9328      5   \n",
       "313397  2021   APR    9     5       1     6.5   39.7160    22.1947      8   \n",
       "313398  2021   APR    9     5       2     5.6   39.7929    21.9154      6   \n",
       "313399  2021   APR    9     5      15     5.0   39.8007    21.8948      7   \n",
       "\n",
       "        MAGNITUDE  \n",
       "0             5.3  \n",
       "1             5.7  \n",
       "2             4.5  \n",
       "3             5.0  \n",
       "4             5.8  \n",
       "...           ...  \n",
       "313395        0.6  \n",
       "313396        1.5  \n",
       "313397        1.0  \n",
       "313398        1.0  \n",
       "313399        1.2  \n",
       "\n",
       "[313400 rows x 10 columns]"
      ],
      "text/html": "<div>\n<style scoped>\n    .dataframe tbody tr th:only-of-type {\n        vertical-align: middle;\n    }\n\n    .dataframe tbody tr th {\n        vertical-align: top;\n    }\n\n    .dataframe thead th {\n        text-align: right;\n    }\n</style>\n<table border=\"1\" class=\"dataframe\">\n  <thead>\n    <tr style=\"text-align: right;\">\n      <th></th>\n      <th>YEAR</th>\n      <th>MONTH</th>\n      <th>DAY</th>\n      <th>HOUR</th>\n      <th>MINUTE</th>\n      <th>SECOND</th>\n      <th>LATITUDE</th>\n      <th>LONGITUDE</th>\n      <th>DEPTH</th>\n      <th>MAGNITUDE</th>\n    </tr>\n  </thead>\n  <tbody>\n    <tr>\n      <th>0</th>\n      <td>1964</td>\n      <td>FEB</td>\n      <td>24</td>\n      <td>23</td>\n      <td>30</td>\n      <td>25.0</td>\n      <td>38.9000</td>\n      <td>23.9000</td>\n      <td>10</td>\n      <td>5.3</td>\n    </tr>\n    <tr>\n      <th>1</th>\n      <td>1964</td>\n      <td>APR</td>\n      <td>11</td>\n      <td>16</td>\n      <td>0</td>\n      <td>0.0</td>\n      <td>39.7500</td>\n      <td>25.2500</td>\n      <td>10</td>\n      <td>5.7</td>\n    </tr>\n    <tr>\n      <th>2</th>\n      <td>1964</td>\n      <td>APR</td>\n      <td>21</td>\n      <td>8</td>\n      <td>14</td>\n      <td>40.0</td>\n      <td>38.5000</td>\n      <td>22.2500</td>\n      <td>10</td>\n      <td>4.5</td>\n    </tr>\n    <tr>\n      <th>3</th>\n      <td>1964</td>\n      <td>APR</td>\n      <td>24</td>\n      <td>3</td>\n      <td>49</td>\n      <td>58.0</td>\n      <td>38.0000</td>\n      <td>21.8000</td>\n      <td>10</td>\n      <td>5.0</td>\n    </tr>\n    <tr>\n      <th>4</th>\n      <td>1964</td>\n      <td>APR</td>\n      <td>29</td>\n      <td>4</td>\n      <td>21</td>\n      <td>0.0</td>\n      <td>39.2500</td>\n      <td>23.7500</td>\n      <td>10</td>\n      <td>5.8</td>\n    </tr>\n    <tr>\n      <th>...</th>\n      <td>...</td>\n      <td>...</td>\n      <td>...</td>\n      <td>...</td>\n      <td>...</td>\n      <td>...</td>\n      <td>...</td>\n      <td>...</td>\n      <td>...</td>\n      <td>...</td>\n    </tr>\n    <tr>\n      <th>313395</th>\n      <td>2021</td>\n      <td>APR</td>\n      <td>9</td>\n      <td>5</td>\n      <td>0</td>\n      <td>7.4</td>\n      <td>39.7856</td>\n      <td>21.9081</td>\n      <td>5</td>\n      <td>0.6</td>\n    </tr>\n    <tr>\n      <th>313396</th>\n      <td>2021</td>\n      <td>APR</td>\n      <td>9</td>\n      <td>5</td>\n      <td>0</td>\n      <td>21.9</td>\n      <td>39.7920</td>\n      <td>21.9328</td>\n      <td>5</td>\n      <td>1.5</td>\n    </tr>\n    <tr>\n      <th>313397</th>\n      <td>2021</td>\n      <td>APR</td>\n      <td>9</td>\n      <td>5</td>\n      <td>1</td>\n      <td>6.5</td>\n      <td>39.7160</td>\n      <td>22.1947</td>\n      <td>8</td>\n      <td>1.0</td>\n    </tr>\n    <tr>\n      <th>313398</th>\n      <td>2021</td>\n      <td>APR</td>\n      <td>9</td>\n      <td>5</td>\n      <td>2</td>\n      <td>5.6</td>\n      <td>39.7929</td>\n      <td>21.9154</td>\n      <td>6</td>\n      <td>1.0</td>\n    </tr>\n    <tr>\n      <th>313399</th>\n      <td>2021</td>\n      <td>APR</td>\n      <td>9</td>\n      <td>5</td>\n      <td>15</td>\n      <td>5.0</td>\n      <td>39.8007</td>\n      <td>21.8948</td>\n      <td>7</td>\n      <td>1.2</td>\n    </tr>\n  </tbody>\n</table>\n<p>313400 rows × 10 columns</p>\n</div>"
     },
     "metadata": {},
     "execution_count": 4
    }
   ],
   "source": [
    "df"
   ]
  },
  {
   "cell_type": "code",
   "execution_count": 5,
   "metadata": {},
   "outputs": [
    {
     "output_type": "execute_result",
     "data": {
      "text/plain": [
       "      COLUMN                   ATTRIBUTE\n",
       "0       YEAR       event Date: Year XXXX\n",
       "1      MONTH      event Date: Month abbr\n",
       "2        DAY             event Date: Day\n",
       "3       HOUR  event Time (GMT): Hour 24h\n",
       "4     MINUTE    event Time (GMT): Minute\n",
       "5     SECOND    event Time (GMT): Second\n",
       "6   LATITUDE          event Latitude (N)\n",
       "7  LONGITUDE         event Longitude (E)\n",
       "8      DEPTH            event Depth (km)\n",
       "9  MAGNITUDE          event Magnitude Mr"
      ],
      "text/html": "<div>\n<style scoped>\n    .dataframe tbody tr th:only-of-type {\n        vertical-align: middle;\n    }\n\n    .dataframe tbody tr th {\n        vertical-align: top;\n    }\n\n    .dataframe thead th {\n        text-align: right;\n    }\n</style>\n<table border=\"1\" class=\"dataframe\">\n  <thead>\n    <tr style=\"text-align: right;\">\n      <th></th>\n      <th>COLUMN</th>\n      <th>ATTRIBUTE</th>\n    </tr>\n  </thead>\n  <tbody>\n    <tr>\n      <th>0</th>\n      <td>YEAR</td>\n      <td>event Date: Year XXXX</td>\n    </tr>\n    <tr>\n      <th>1</th>\n      <td>MONTH</td>\n      <td>event Date: Month abbr</td>\n    </tr>\n    <tr>\n      <th>2</th>\n      <td>DAY</td>\n      <td>event Date: Day</td>\n    </tr>\n    <tr>\n      <th>3</th>\n      <td>HOUR</td>\n      <td>event Time (GMT): Hour 24h</td>\n    </tr>\n    <tr>\n      <th>4</th>\n      <td>MINUTE</td>\n      <td>event Time (GMT): Minute</td>\n    </tr>\n    <tr>\n      <th>5</th>\n      <td>SECOND</td>\n      <td>event Time (GMT): Second</td>\n    </tr>\n    <tr>\n      <th>6</th>\n      <td>LATITUDE</td>\n      <td>event Latitude (N)</td>\n    </tr>\n    <tr>\n      <th>7</th>\n      <td>LONGITUDE</td>\n      <td>event Longitude (E)</td>\n    </tr>\n    <tr>\n      <th>8</th>\n      <td>DEPTH</td>\n      <td>event Depth (km)</td>\n    </tr>\n    <tr>\n      <th>9</th>\n      <td>MAGNITUDE</td>\n      <td>event Magnitude Mr</td>\n    </tr>\n  </tbody>\n</table>\n</div>"
     },
     "metadata": {},
     "execution_count": 5
    }
   ],
   "source": [
    "df_schema"
   ]
  },
  {
   "source": [
    "combine YEAR, MONTH, DAY to create DATE"
   ],
   "cell_type": "markdown",
   "metadata": {}
  },
  {
   "cell_type": "code",
   "execution_count": 6,
   "metadata": {},
   "outputs": [
    {
     "output_type": "execute_result",
     "data": {
      "text/plain": [
       "0         1964-FEB-24\n",
       "1         1964-APR-11\n",
       "2         1964-APR-21\n",
       "3         1964-APR-24\n",
       "4         1964-APR-29\n",
       "             ...     \n",
       "313395     2021-APR-9\n",
       "313396     2021-APR-9\n",
       "313397     2021-APR-9\n",
       "313398     2021-APR-9\n",
       "313399     2021-APR-9\n",
       "Length: 313400, dtype: object"
      ]
     },
     "metadata": {},
     "execution_count": 6
    }
   ],
   "source": [
    "df['YEAR'].astype(str) + '-' + df['MONTH'].astype(str) + '-' + df['DAY'].astype(str)"
   ]
  },
  {
   "source": [
    "this is not good enough\n",
    "\n",
    "let's begin by trying to format the days (must have two digits)"
   ],
   "cell_type": "markdown",
   "metadata": {}
  },
  {
   "cell_type": "code",
   "execution_count": 7,
   "metadata": {},
   "outputs": [
    {
     "output_type": "execute_result",
     "data": {
      "text/plain": [
       "0         24\n",
       "1         11\n",
       "2         21\n",
       "3         24\n",
       "4         29\n",
       "          ..\n",
       "313395     9\n",
       "313396     9\n",
       "313397     9\n",
       "313398     9\n",
       "313399     9\n",
       "Name: DAY, Length: 313400, dtype: int64"
      ]
     },
     "metadata": {},
     "execution_count": 7
    }
   ],
   "source": [
    "df['DAY']"
   ]
  },
  {
   "cell_type": "code",
   "execution_count": 8,
   "metadata": {},
   "outputs": [
    {
     "output_type": "execute_result",
     "data": {
      "text/plain": [
       "'any int in an string can be formated, for example 6 can be 06'"
      ]
     },
     "metadata": {},
     "execution_count": 8
    }
   ],
   "source": [
    "'any int in an string can be formated, for example {0} can be {1:02}'.format(6 ,6)"
   ]
  },
  {
   "cell_type": "code",
   "execution_count": 9,
   "metadata": {},
   "outputs": [
    {
     "output_type": "execute_result",
     "data": {
      "text/plain": [
       "0         24\n",
       "1         11\n",
       "2         21\n",
       "3         24\n",
       "4         29\n",
       "          ..\n",
       "313395    09\n",
       "313396    09\n",
       "313397    09\n",
       "313398    09\n",
       "313399    09\n",
       "Name: DAY, Length: 313400, dtype: object"
      ]
     },
     "metadata": {},
     "execution_count": 9
    }
   ],
   "source": [
    "df['DAY'].map('{0:02}'.format)"
   ]
  },
  {
   "source": [
    "now let's continue with the months\n",
    "\n",
    "we have to change them to numbers"
   ],
   "cell_type": "markdown",
   "metadata": {}
  },
  {
   "cell_type": "code",
   "execution_count": 10,
   "metadata": {},
   "outputs": [
    {
     "output_type": "execute_result",
     "data": {
      "text/plain": [
       "0         FEB\n",
       "1         APR\n",
       "2         APR\n",
       "3         APR\n",
       "4         APR\n",
       "         ... \n",
       "313395    APR\n",
       "313396    APR\n",
       "313397    APR\n",
       "313398    APR\n",
       "313399    APR\n",
       "Name: MONTH, Length: 313400, dtype: object"
      ]
     },
     "metadata": {},
     "execution_count": 10
    }
   ],
   "source": [
    "df['MONTH']"
   ]
  },
  {
   "cell_type": "code",
   "execution_count": 11,
   "metadata": {},
   "outputs": [
    {
     "output_type": "execute_result",
     "data": {
      "text/plain": [
       "['',\n",
       " 'Jan',\n",
       " 'Feb',\n",
       " 'Mar',\n",
       " 'Apr',\n",
       " 'May',\n",
       " 'Jun',\n",
       " 'Jul',\n",
       " 'Aug',\n",
       " 'Sep',\n",
       " 'Oct',\n",
       " 'Nov',\n",
       " 'Dec']"
      ]
     },
     "metadata": {},
     "execution_count": 11
    }
   ],
   "source": [
    "list(calendar.month_abbr)"
   ]
  },
  {
   "source": [
    "we can now create a very useful dictionary (which maps month abbreviations to numbers):"
   ],
   "cell_type": "markdown",
   "metadata": {}
  },
  {
   "cell_type": "code",
   "execution_count": 12,
   "metadata": {},
   "outputs": [
    {
     "output_type": "execute_result",
     "data": {
      "text/plain": [
       "{'': 0,\n",
       " 'Jan': 1,\n",
       " 'Feb': 2,\n",
       " 'Mar': 3,\n",
       " 'Apr': 4,\n",
       " 'May': 5,\n",
       " 'Jun': 6,\n",
       " 'Jul': 7,\n",
       " 'Aug': 8,\n",
       " 'Sep': 9,\n",
       " 'Oct': 10,\n",
       " 'Nov': 11,\n",
       " 'Dec': 12}"
      ]
     },
     "metadata": {},
     "execution_count": 12
    }
   ],
   "source": [
    "{x:y for (y,x) in enumerate(list(calendar.month_abbr))}"
   ]
  },
  {
   "cell_type": "code",
   "execution_count": 13,
   "metadata": {},
   "outputs": [
    {
     "output_type": "execute_result",
     "data": {
      "text/plain": [
       "0         Feb\n",
       "1         Apr\n",
       "2         Apr\n",
       "3         Apr\n",
       "4         Apr\n",
       "         ... \n",
       "313395    Apr\n",
       "313396    Apr\n",
       "313397    Apr\n",
       "313398    Apr\n",
       "313399    Apr\n",
       "Name: MONTH, Length: 313400, dtype: object"
      ]
     },
     "metadata": {},
     "execution_count": 13
    }
   ],
   "source": [
    "df['MONTH'].map(str.title)"
   ]
  },
  {
   "cell_type": "code",
   "execution_count": 14,
   "metadata": {},
   "outputs": [
    {
     "output_type": "execute_result",
     "data": {
      "text/plain": [
       "0         2\n",
       "1         4\n",
       "2         4\n",
       "3         4\n",
       "4         4\n",
       "         ..\n",
       "313395    4\n",
       "313396    4\n",
       "313397    4\n",
       "313398    4\n",
       "313399    4\n",
       "Name: MONTH, Length: 313400, dtype: int64"
      ]
     },
     "metadata": {},
     "execution_count": 14
    }
   ],
   "source": [
    "(df['MONTH'].map(str.title)).replace({x:y for (y,x) in enumerate(list(calendar.month_abbr))})"
   ]
  },
  {
   "cell_type": "code",
   "execution_count": 15,
   "metadata": {},
   "outputs": [
    {
     "output_type": "execute_result",
     "data": {
      "text/plain": [
       "0         02\n",
       "1         04\n",
       "2         04\n",
       "3         04\n",
       "4         04\n",
       "          ..\n",
       "313395    04\n",
       "313396    04\n",
       "313397    04\n",
       "313398    04\n",
       "313399    04\n",
       "Name: MONTH, Length: 313400, dtype: object"
      ]
     },
     "metadata": {},
     "execution_count": 15
    }
   ],
   "source": [
    "((df['MONTH'].map(str.title)).replace({x:y for (y,x) in enumerate(list(calendar.month_abbr))})).map('{0:02}'.format)"
   ]
  },
  {
   "source": [
    "now everything is in place, so let's create our new DATE column"
   ],
   "cell_type": "markdown",
   "metadata": {}
  },
  {
   "cell_type": "code",
   "execution_count": 16,
   "metadata": {},
   "outputs": [
    {
     "output_type": "execute_result",
     "data": {
      "text/plain": [
       "0         1964-02-24\n",
       "1         1964-04-11\n",
       "2         1964-04-21\n",
       "3         1964-04-24\n",
       "4         1964-04-29\n",
       "             ...    \n",
       "313395    2021-04-09\n",
       "313396    2021-04-09\n",
       "313397    2021-04-09\n",
       "313398    2021-04-09\n",
       "313399    2021-04-09\n",
       "Length: 313400, dtype: object"
      ]
     },
     "metadata": {},
     "execution_count": 16
    }
   ],
   "source": [
    "df['YEAR'].astype(str) + \\\n",
    "    '-' + (((df['MONTH'].map(str.title)).replace({x:y for (y,x) in enumerate(list(calendar.month_abbr))})).map('{0:02}'.format)).astype(str) + \\\n",
    "        '-' + (df['DAY'].map('{0:02}'.format)).astype(str)\n",
    "\n"
   ]
  },
  {
   "source": [
    "now let's do the same with creating a TIME column"
   ],
   "cell_type": "markdown",
   "metadata": {}
  },
  {
   "cell_type": "code",
   "execution_count": 17,
   "metadata": {},
   "outputs": [
    {
     "output_type": "execute_result",
     "data": {
      "text/plain": [
       "0         23\n",
       "1         16\n",
       "2          8\n",
       "3          3\n",
       "4          4\n",
       "          ..\n",
       "313395     5\n",
       "313396     5\n",
       "313397     5\n",
       "313398     5\n",
       "313399     5\n",
       "Name: HOUR, Length: 313400, dtype: int64"
      ]
     },
     "metadata": {},
     "execution_count": 17
    }
   ],
   "source": [
    "df['HOUR']"
   ]
  },
  {
   "cell_type": "code",
   "execution_count": 18,
   "metadata": {},
   "outputs": [
    {
     "output_type": "execute_result",
     "data": {
      "text/plain": [
       "0         23\n",
       "1         16\n",
       "2         08\n",
       "3         03\n",
       "4         04\n",
       "          ..\n",
       "313395    05\n",
       "313396    05\n",
       "313397    05\n",
       "313398    05\n",
       "313399    05\n",
       "Name: HOUR, Length: 313400, dtype: object"
      ]
     },
     "metadata": {},
     "execution_count": 18
    }
   ],
   "source": [
    "df['HOUR'].map('{0:02}'.format)"
   ]
  },
  {
   "cell_type": "code",
   "execution_count": 19,
   "metadata": {},
   "outputs": [
    {
     "output_type": "execute_result",
     "data": {
      "text/plain": [
       "0         30\n",
       "1          0\n",
       "2         14\n",
       "3         49\n",
       "4         21\n",
       "          ..\n",
       "313395     0\n",
       "313396     0\n",
       "313397     1\n",
       "313398     2\n",
       "313399    15\n",
       "Name: MINUTE, Length: 313400, dtype: int64"
      ]
     },
     "metadata": {},
     "execution_count": 19
    }
   ],
   "source": [
    "df['MINUTE']"
   ]
  },
  {
   "cell_type": "code",
   "execution_count": 20,
   "metadata": {},
   "outputs": [
    {
     "output_type": "execute_result",
     "data": {
      "text/plain": [
       "0         30\n",
       "1         00\n",
       "2         14\n",
       "3         49\n",
       "4         21\n",
       "          ..\n",
       "313395    00\n",
       "313396    00\n",
       "313397    01\n",
       "313398    02\n",
       "313399    15\n",
       "Name: MINUTE, Length: 313400, dtype: object"
      ]
     },
     "metadata": {},
     "execution_count": 20
    }
   ],
   "source": [
    "df['MINUTE'].map('{0:02}'.format)"
   ]
  },
  {
   "cell_type": "code",
   "execution_count": 21,
   "metadata": {},
   "outputs": [
    {
     "output_type": "execute_result",
     "data": {
      "text/plain": [
       "0         25.0\n",
       "1          0.0\n",
       "2         40.0\n",
       "3         58.0\n",
       "4          0.0\n",
       "          ... \n",
       "313395     7.4\n",
       "313396    21.9\n",
       "313397     6.5\n",
       "313398     5.6\n",
       "313399     5.0\n",
       "Name: SECOND, Length: 313400, dtype: float64"
      ]
     },
     "metadata": {},
     "execution_count": 21
    }
   ],
   "source": [
    "df['SECOND']"
   ]
  },
  {
   "cell_type": "code",
   "execution_count": 22,
   "metadata": {},
   "outputs": [
    {
     "output_type": "execute_result",
     "data": {
      "text/plain": [
       "0         25.0\n",
       "1         00.0\n",
       "2         40.0\n",
       "3         58.0\n",
       "4         00.0\n",
       "          ... \n",
       "313395    07.4\n",
       "313396    21.9\n",
       "313397    06.5\n",
       "313398    05.6\n",
       "313399    05.0\n",
       "Name: SECOND, Length: 313400, dtype: object"
      ]
     },
     "metadata": {},
     "execution_count": 22
    }
   ],
   "source": [
    "df['SECOND'].map('{0:04.1f}'.format)"
   ]
  },
  {
   "cell_type": "code",
   "execution_count": 23,
   "metadata": {},
   "outputs": [
    {
     "output_type": "execute_result",
     "data": {
      "text/plain": [
       "0         23:30:25.0Z\n",
       "1         16:00:00.0Z\n",
       "2         08:14:40.0Z\n",
       "3         03:49:58.0Z\n",
       "4         04:21:00.0Z\n",
       "             ...     \n",
       "313395    05:00:07.4Z\n",
       "313396    05:00:21.9Z\n",
       "313397    05:01:06.5Z\n",
       "313398    05:02:05.6Z\n",
       "313399    05:15:05.0Z\n",
       "Length: 313400, dtype: object"
      ]
     },
     "metadata": {},
     "execution_count": 23
    }
   ],
   "source": [
    "df['HOUR'].map('{0:02}'.format).astype(str) + \\\n",
    "    ':' + df['MINUTE'].map('{0:02}'.format) + \\\n",
    "        ':' + df['SECOND'].map('{0:04.1f}'.format) + 'Z'"
   ]
  },
  {
   "source": [
    "# TUTORIAL"
   ],
   "cell_type": "markdown",
   "metadata": {}
  },
  {
   "cell_type": "code",
   "execution_count": 28,
   "metadata": {},
   "outputs": [],
   "source": [
    "df['TIME'] = df['HOUR'].map('{0:02}'.format).astype(str) + \\\n",
    "    ':' + df['MINUTE'].map('{0:02}'.format) + \\\n",
    "        ':' + df['SECOND'].map('{0:04.1f}'.format)"
   ]
  },
  {
   "cell_type": "code",
   "execution_count": 29,
   "metadata": {},
   "outputs": [
    {
     "output_type": "execute_result",
     "data": {
      "text/plain": [
       "        YEAR MONTH  DAY  HOUR  MINUTE  SECOND  LATITUDE  LONGITUDE  DEPTH  \\\n",
       "0       1964   FEB   24    23      30    25.0   38.9000    23.9000     10   \n",
       "1       1964   APR   11    16       0     0.0   39.7500    25.2500     10   \n",
       "2       1964   APR   21     8      14    40.0   38.5000    22.2500     10   \n",
       "3       1964   APR   24     3      49    58.0   38.0000    21.8000     10   \n",
       "4       1964   APR   29     4      21     0.0   39.2500    23.7500     10   \n",
       "...      ...   ...  ...   ...     ...     ...       ...        ...    ...   \n",
       "313395  2021   APR    9     5       0     7.4   39.7856    21.9081      5   \n",
       "313396  2021   APR    9     5       0    21.9   39.7920    21.9328      5   \n",
       "313397  2021   APR    9     5       1     6.5   39.7160    22.1947      8   \n",
       "313398  2021   APR    9     5       2     5.6   39.7929    21.9154      6   \n",
       "313399  2021   APR    9     5      15     5.0   39.8007    21.8948      7   \n",
       "\n",
       "        MAGNITUDE        TIME  \n",
       "0             5.3  23:30:25.0  \n",
       "1             5.7  16:00:00.0  \n",
       "2             4.5  08:14:40.0  \n",
       "3             5.0  03:49:58.0  \n",
       "4             5.8  04:21:00.0  \n",
       "...           ...         ...  \n",
       "313395        0.6  05:00:07.4  \n",
       "313396        1.5  05:00:21.9  \n",
       "313397        1.0  05:01:06.5  \n",
       "313398        1.0  05:02:05.6  \n",
       "313399        1.2  05:15:05.0  \n",
       "\n",
       "[313400 rows x 11 columns]"
      ],
      "text/html": "<div>\n<style scoped>\n    .dataframe tbody tr th:only-of-type {\n        vertical-align: middle;\n    }\n\n    .dataframe tbody tr th {\n        vertical-align: top;\n    }\n\n    .dataframe thead th {\n        text-align: right;\n    }\n</style>\n<table border=\"1\" class=\"dataframe\">\n  <thead>\n    <tr style=\"text-align: right;\">\n      <th></th>\n      <th>YEAR</th>\n      <th>MONTH</th>\n      <th>DAY</th>\n      <th>HOUR</th>\n      <th>MINUTE</th>\n      <th>SECOND</th>\n      <th>LATITUDE</th>\n      <th>LONGITUDE</th>\n      <th>DEPTH</th>\n      <th>MAGNITUDE</th>\n      <th>TIME</th>\n    </tr>\n  </thead>\n  <tbody>\n    <tr>\n      <th>0</th>\n      <td>1964</td>\n      <td>FEB</td>\n      <td>24</td>\n      <td>23</td>\n      <td>30</td>\n      <td>25.0</td>\n      <td>38.9000</td>\n      <td>23.9000</td>\n      <td>10</td>\n      <td>5.3</td>\n      <td>23:30:25.0</td>\n    </tr>\n    <tr>\n      <th>1</th>\n      <td>1964</td>\n      <td>APR</td>\n      <td>11</td>\n      <td>16</td>\n      <td>0</td>\n      <td>0.0</td>\n      <td>39.7500</td>\n      <td>25.2500</td>\n      <td>10</td>\n      <td>5.7</td>\n      <td>16:00:00.0</td>\n    </tr>\n    <tr>\n      <th>2</th>\n      <td>1964</td>\n      <td>APR</td>\n      <td>21</td>\n      <td>8</td>\n      <td>14</td>\n      <td>40.0</td>\n      <td>38.5000</td>\n      <td>22.2500</td>\n      <td>10</td>\n      <td>4.5</td>\n      <td>08:14:40.0</td>\n    </tr>\n    <tr>\n      <th>3</th>\n      <td>1964</td>\n      <td>APR</td>\n      <td>24</td>\n      <td>3</td>\n      <td>49</td>\n      <td>58.0</td>\n      <td>38.0000</td>\n      <td>21.8000</td>\n      <td>10</td>\n      <td>5.0</td>\n      <td>03:49:58.0</td>\n    </tr>\n    <tr>\n      <th>4</th>\n      <td>1964</td>\n      <td>APR</td>\n      <td>29</td>\n      <td>4</td>\n      <td>21</td>\n      <td>0.0</td>\n      <td>39.2500</td>\n      <td>23.7500</td>\n      <td>10</td>\n      <td>5.8</td>\n      <td>04:21:00.0</td>\n    </tr>\n    <tr>\n      <th>...</th>\n      <td>...</td>\n      <td>...</td>\n      <td>...</td>\n      <td>...</td>\n      <td>...</td>\n      <td>...</td>\n      <td>...</td>\n      <td>...</td>\n      <td>...</td>\n      <td>...</td>\n      <td>...</td>\n    </tr>\n    <tr>\n      <th>313395</th>\n      <td>2021</td>\n      <td>APR</td>\n      <td>9</td>\n      <td>5</td>\n      <td>0</td>\n      <td>7.4</td>\n      <td>39.7856</td>\n      <td>21.9081</td>\n      <td>5</td>\n      <td>0.6</td>\n      <td>05:00:07.4</td>\n    </tr>\n    <tr>\n      <th>313396</th>\n      <td>2021</td>\n      <td>APR</td>\n      <td>9</td>\n      <td>5</td>\n      <td>0</td>\n      <td>21.9</td>\n      <td>39.7920</td>\n      <td>21.9328</td>\n      <td>5</td>\n      <td>1.5</td>\n      <td>05:00:21.9</td>\n    </tr>\n    <tr>\n      <th>313397</th>\n      <td>2021</td>\n      <td>APR</td>\n      <td>9</td>\n      <td>5</td>\n      <td>1</td>\n      <td>6.5</td>\n      <td>39.7160</td>\n      <td>22.1947</td>\n      <td>8</td>\n      <td>1.0</td>\n      <td>05:01:06.5</td>\n    </tr>\n    <tr>\n      <th>313398</th>\n      <td>2021</td>\n      <td>APR</td>\n      <td>9</td>\n      <td>5</td>\n      <td>2</td>\n      <td>5.6</td>\n      <td>39.7929</td>\n      <td>21.9154</td>\n      <td>6</td>\n      <td>1.0</td>\n      <td>05:02:05.6</td>\n    </tr>\n    <tr>\n      <th>313399</th>\n      <td>2021</td>\n      <td>APR</td>\n      <td>9</td>\n      <td>5</td>\n      <td>15</td>\n      <td>5.0</td>\n      <td>39.8007</td>\n      <td>21.8948</td>\n      <td>7</td>\n      <td>1.2</td>\n      <td>05:15:05.0</td>\n    </tr>\n  </tbody>\n</table>\n<p>313400 rows × 11 columns</p>\n</div>"
     },
     "metadata": {},
     "execution_count": 29
    }
   ],
   "source": [
    "df"
   ]
  },
  {
   "cell_type": "code",
   "execution_count": 30,
   "metadata": {},
   "outputs": [
    {
     "output_type": "execute_result",
     "data": {
      "text/plain": [
       "        YEAR MONTH  DAY  HOUR  MINUTE  SECOND  LATITUDE  LONGITUDE  DEPTH  \\\n",
       "0       1964   FEB   24    23      30    25.0   38.9000    23.9000     10   \n",
       "1       1964   APR   11    16       0     0.0   39.7500    25.2500     10   \n",
       "2       1964   APR   21     8      14    40.0   38.5000    22.2500     10   \n",
       "3       1964   APR   24     3      49    58.0   38.0000    21.8000     10   \n",
       "4       1964   APR   29     4      21     0.0   39.2500    23.7500     10   \n",
       "...      ...   ...  ...   ...     ...     ...       ...        ...    ...   \n",
       "313395  2021   APR    9     5       0     7.4   39.7856    21.9081      5   \n",
       "313396  2021   APR    9     5       0    21.9   39.7920    21.9328      5   \n",
       "313397  2021   APR    9     5       1     6.5   39.7160    22.1947      8   \n",
       "313398  2021   APR    9     5       2     5.6   39.7929    21.9154      6   \n",
       "313399  2021   APR    9     5      15     5.0   39.8007    21.8948      7   \n",
       "\n",
       "        MAGNITUDE  \n",
       "0             5.3  \n",
       "1             5.7  \n",
       "2             4.5  \n",
       "3             5.0  \n",
       "4             5.8  \n",
       "...           ...  \n",
       "313395        0.6  \n",
       "313396        1.5  \n",
       "313397        1.0  \n",
       "313398        1.0  \n",
       "313399        1.2  \n",
       "\n",
       "[313400 rows x 10 columns]"
      ],
      "text/html": "<div>\n<style scoped>\n    .dataframe tbody tr th:only-of-type {\n        vertical-align: middle;\n    }\n\n    .dataframe tbody tr th {\n        vertical-align: top;\n    }\n\n    .dataframe thead th {\n        text-align: right;\n    }\n</style>\n<table border=\"1\" class=\"dataframe\">\n  <thead>\n    <tr style=\"text-align: right;\">\n      <th></th>\n      <th>YEAR</th>\n      <th>MONTH</th>\n      <th>DAY</th>\n      <th>HOUR</th>\n      <th>MINUTE</th>\n      <th>SECOND</th>\n      <th>LATITUDE</th>\n      <th>LONGITUDE</th>\n      <th>DEPTH</th>\n      <th>MAGNITUDE</th>\n    </tr>\n  </thead>\n  <tbody>\n    <tr>\n      <th>0</th>\n      <td>1964</td>\n      <td>FEB</td>\n      <td>24</td>\n      <td>23</td>\n      <td>30</td>\n      <td>25.0</td>\n      <td>38.9000</td>\n      <td>23.9000</td>\n      <td>10</td>\n      <td>5.3</td>\n    </tr>\n    <tr>\n      <th>1</th>\n      <td>1964</td>\n      <td>APR</td>\n      <td>11</td>\n      <td>16</td>\n      <td>0</td>\n      <td>0.0</td>\n      <td>39.7500</td>\n      <td>25.2500</td>\n      <td>10</td>\n      <td>5.7</td>\n    </tr>\n    <tr>\n      <th>2</th>\n      <td>1964</td>\n      <td>APR</td>\n      <td>21</td>\n      <td>8</td>\n      <td>14</td>\n      <td>40.0</td>\n      <td>38.5000</td>\n      <td>22.2500</td>\n      <td>10</td>\n      <td>4.5</td>\n    </tr>\n    <tr>\n      <th>3</th>\n      <td>1964</td>\n      <td>APR</td>\n      <td>24</td>\n      <td>3</td>\n      <td>49</td>\n      <td>58.0</td>\n      <td>38.0000</td>\n      <td>21.8000</td>\n      <td>10</td>\n      <td>5.0</td>\n    </tr>\n    <tr>\n      <th>4</th>\n      <td>1964</td>\n      <td>APR</td>\n      <td>29</td>\n      <td>4</td>\n      <td>21</td>\n      <td>0.0</td>\n      <td>39.2500</td>\n      <td>23.7500</td>\n      <td>10</td>\n      <td>5.8</td>\n    </tr>\n    <tr>\n      <th>...</th>\n      <td>...</td>\n      <td>...</td>\n      <td>...</td>\n      <td>...</td>\n      <td>...</td>\n      <td>...</td>\n      <td>...</td>\n      <td>...</td>\n      <td>...</td>\n      <td>...</td>\n    </tr>\n    <tr>\n      <th>313395</th>\n      <td>2021</td>\n      <td>APR</td>\n      <td>9</td>\n      <td>5</td>\n      <td>0</td>\n      <td>7.4</td>\n      <td>39.7856</td>\n      <td>21.9081</td>\n      <td>5</td>\n      <td>0.6</td>\n    </tr>\n    <tr>\n      <th>313396</th>\n      <td>2021</td>\n      <td>APR</td>\n      <td>9</td>\n      <td>5</td>\n      <td>0</td>\n      <td>21.9</td>\n      <td>39.7920</td>\n      <td>21.9328</td>\n      <td>5</td>\n      <td>1.5</td>\n    </tr>\n    <tr>\n      <th>313397</th>\n      <td>2021</td>\n      <td>APR</td>\n      <td>9</td>\n      <td>5</td>\n      <td>1</td>\n      <td>6.5</td>\n      <td>39.7160</td>\n      <td>22.1947</td>\n      <td>8</td>\n      <td>1.0</td>\n    </tr>\n    <tr>\n      <th>313398</th>\n      <td>2021</td>\n      <td>APR</td>\n      <td>9</td>\n      <td>5</td>\n      <td>2</td>\n      <td>5.6</td>\n      <td>39.7929</td>\n      <td>21.9154</td>\n      <td>6</td>\n      <td>1.0</td>\n    </tr>\n    <tr>\n      <th>313399</th>\n      <td>2021</td>\n      <td>APR</td>\n      <td>9</td>\n      <td>5</td>\n      <td>15</td>\n      <td>5.0</td>\n      <td>39.8007</td>\n      <td>21.8948</td>\n      <td>7</td>\n      <td>1.2</td>\n    </tr>\n  </tbody>\n</table>\n<p>313400 rows × 10 columns</p>\n</div>"
     },
     "metadata": {},
     "execution_count": 30
    }
   ],
   "source": [
    "df.drop(columns=['TIME'])"
   ]
  },
  {
   "cell_type": "code",
   "execution_count": 32,
   "metadata": {},
   "outputs": [
    {
     "output_type": "execute_result",
     "data": {
      "text/plain": [
       "         0   1     2\n",
       "0       23  30  25.0\n",
       "1       16  00  00.0\n",
       "2       08  14  40.0\n",
       "3       03  49  58.0\n",
       "4       04  21  00.0\n",
       "...     ..  ..   ...\n",
       "313395  05  00  07.4\n",
       "313396  05  00  21.9\n",
       "313397  05  01  06.5\n",
       "313398  05  02  05.6\n",
       "313399  05  15  05.0\n",
       "\n",
       "[313400 rows x 3 columns]"
      ],
      "text/html": "<div>\n<style scoped>\n    .dataframe tbody tr th:only-of-type {\n        vertical-align: middle;\n    }\n\n    .dataframe tbody tr th {\n        vertical-align: top;\n    }\n\n    .dataframe thead th {\n        text-align: right;\n    }\n</style>\n<table border=\"1\" class=\"dataframe\">\n  <thead>\n    <tr style=\"text-align: right;\">\n      <th></th>\n      <th>0</th>\n      <th>1</th>\n      <th>2</th>\n    </tr>\n  </thead>\n  <tbody>\n    <tr>\n      <th>0</th>\n      <td>23</td>\n      <td>30</td>\n      <td>25.0</td>\n    </tr>\n    <tr>\n      <th>1</th>\n      <td>16</td>\n      <td>00</td>\n      <td>00.0</td>\n    </tr>\n    <tr>\n      <th>2</th>\n      <td>08</td>\n      <td>14</td>\n      <td>40.0</td>\n    </tr>\n    <tr>\n      <th>3</th>\n      <td>03</td>\n      <td>49</td>\n      <td>58.0</td>\n    </tr>\n    <tr>\n      <th>4</th>\n      <td>04</td>\n      <td>21</td>\n      <td>00.0</td>\n    </tr>\n    <tr>\n      <th>...</th>\n      <td>...</td>\n      <td>...</td>\n      <td>...</td>\n    </tr>\n    <tr>\n      <th>313395</th>\n      <td>05</td>\n      <td>00</td>\n      <td>07.4</td>\n    </tr>\n    <tr>\n      <th>313396</th>\n      <td>05</td>\n      <td>00</td>\n      <td>21.9</td>\n    </tr>\n    <tr>\n      <th>313397</th>\n      <td>05</td>\n      <td>01</td>\n      <td>06.5</td>\n    </tr>\n    <tr>\n      <th>313398</th>\n      <td>05</td>\n      <td>02</td>\n      <td>05.6</td>\n    </tr>\n    <tr>\n      <th>313399</th>\n      <td>05</td>\n      <td>15</td>\n      <td>05.0</td>\n    </tr>\n  </tbody>\n</table>\n<p>313400 rows × 3 columns</p>\n</div>"
     },
     "metadata": {},
     "execution_count": 32
    }
   ],
   "source": [
    "df['TIME'].str.split(':', expand=True)"
   ]
  },
  {
   "cell_type": "code",
   "execution_count": 33,
   "metadata": {},
   "outputs": [],
   "source": [
    "df[['TIME_HOUR', 'TIME_MINUTE', 'TIME_SECOND']] = df['TIME'].str.split(':', expand=True)"
   ]
  },
  {
   "cell_type": "code",
   "execution_count": 34,
   "metadata": {},
   "outputs": [
    {
     "output_type": "execute_result",
     "data": {
      "text/plain": [
       "        YEAR MONTH  DAY  HOUR  MINUTE  SECOND  LATITUDE  LONGITUDE  DEPTH  \\\n",
       "0       1964   FEB   24    23      30    25.0   38.9000    23.9000     10   \n",
       "1       1964   APR   11    16       0     0.0   39.7500    25.2500     10   \n",
       "2       1964   APR   21     8      14    40.0   38.5000    22.2500     10   \n",
       "3       1964   APR   24     3      49    58.0   38.0000    21.8000     10   \n",
       "4       1964   APR   29     4      21     0.0   39.2500    23.7500     10   \n",
       "...      ...   ...  ...   ...     ...     ...       ...        ...    ...   \n",
       "313395  2021   APR    9     5       0     7.4   39.7856    21.9081      5   \n",
       "313396  2021   APR    9     5       0    21.9   39.7920    21.9328      5   \n",
       "313397  2021   APR    9     5       1     6.5   39.7160    22.1947      8   \n",
       "313398  2021   APR    9     5       2     5.6   39.7929    21.9154      6   \n",
       "313399  2021   APR    9     5      15     5.0   39.8007    21.8948      7   \n",
       "\n",
       "        MAGNITUDE        TIME TIME_HOUR TIME_MINUTE TIME_SECOND  \n",
       "0             5.3  23:30:25.0        23          30        25.0  \n",
       "1             5.7  16:00:00.0        16          00        00.0  \n",
       "2             4.5  08:14:40.0        08          14        40.0  \n",
       "3             5.0  03:49:58.0        03          49        58.0  \n",
       "4             5.8  04:21:00.0        04          21        00.0  \n",
       "...           ...         ...       ...         ...         ...  \n",
       "313395        0.6  05:00:07.4        05          00        07.4  \n",
       "313396        1.5  05:00:21.9        05          00        21.9  \n",
       "313397        1.0  05:01:06.5        05          01        06.5  \n",
       "313398        1.0  05:02:05.6        05          02        05.6  \n",
       "313399        1.2  05:15:05.0        05          15        05.0  \n",
       "\n",
       "[313400 rows x 14 columns]"
      ],
      "text/html": "<div>\n<style scoped>\n    .dataframe tbody tr th:only-of-type {\n        vertical-align: middle;\n    }\n\n    .dataframe tbody tr th {\n        vertical-align: top;\n    }\n\n    .dataframe thead th {\n        text-align: right;\n    }\n</style>\n<table border=\"1\" class=\"dataframe\">\n  <thead>\n    <tr style=\"text-align: right;\">\n      <th></th>\n      <th>YEAR</th>\n      <th>MONTH</th>\n      <th>DAY</th>\n      <th>HOUR</th>\n      <th>MINUTE</th>\n      <th>SECOND</th>\n      <th>LATITUDE</th>\n      <th>LONGITUDE</th>\n      <th>DEPTH</th>\n      <th>MAGNITUDE</th>\n      <th>TIME</th>\n      <th>TIME_HOUR</th>\n      <th>TIME_MINUTE</th>\n      <th>TIME_SECOND</th>\n    </tr>\n  </thead>\n  <tbody>\n    <tr>\n      <th>0</th>\n      <td>1964</td>\n      <td>FEB</td>\n      <td>24</td>\n      <td>23</td>\n      <td>30</td>\n      <td>25.0</td>\n      <td>38.9000</td>\n      <td>23.9000</td>\n      <td>10</td>\n      <td>5.3</td>\n      <td>23:30:25.0</td>\n      <td>23</td>\n      <td>30</td>\n      <td>25.0</td>\n    </tr>\n    <tr>\n      <th>1</th>\n      <td>1964</td>\n      <td>APR</td>\n      <td>11</td>\n      <td>16</td>\n      <td>0</td>\n      <td>0.0</td>\n      <td>39.7500</td>\n      <td>25.2500</td>\n      <td>10</td>\n      <td>5.7</td>\n      <td>16:00:00.0</td>\n      <td>16</td>\n      <td>00</td>\n      <td>00.0</td>\n    </tr>\n    <tr>\n      <th>2</th>\n      <td>1964</td>\n      <td>APR</td>\n      <td>21</td>\n      <td>8</td>\n      <td>14</td>\n      <td>40.0</td>\n      <td>38.5000</td>\n      <td>22.2500</td>\n      <td>10</td>\n      <td>4.5</td>\n      <td>08:14:40.0</td>\n      <td>08</td>\n      <td>14</td>\n      <td>40.0</td>\n    </tr>\n    <tr>\n      <th>3</th>\n      <td>1964</td>\n      <td>APR</td>\n      <td>24</td>\n      <td>3</td>\n      <td>49</td>\n      <td>58.0</td>\n      <td>38.0000</td>\n      <td>21.8000</td>\n      <td>10</td>\n      <td>5.0</td>\n      <td>03:49:58.0</td>\n      <td>03</td>\n      <td>49</td>\n      <td>58.0</td>\n    </tr>\n    <tr>\n      <th>4</th>\n      <td>1964</td>\n      <td>APR</td>\n      <td>29</td>\n      <td>4</td>\n      <td>21</td>\n      <td>0.0</td>\n      <td>39.2500</td>\n      <td>23.7500</td>\n      <td>10</td>\n      <td>5.8</td>\n      <td>04:21:00.0</td>\n      <td>04</td>\n      <td>21</td>\n      <td>00.0</td>\n    </tr>\n    <tr>\n      <th>...</th>\n      <td>...</td>\n      <td>...</td>\n      <td>...</td>\n      <td>...</td>\n      <td>...</td>\n      <td>...</td>\n      <td>...</td>\n      <td>...</td>\n      <td>...</td>\n      <td>...</td>\n      <td>...</td>\n      <td>...</td>\n      <td>...</td>\n      <td>...</td>\n    </tr>\n    <tr>\n      <th>313395</th>\n      <td>2021</td>\n      <td>APR</td>\n      <td>9</td>\n      <td>5</td>\n      <td>0</td>\n      <td>7.4</td>\n      <td>39.7856</td>\n      <td>21.9081</td>\n      <td>5</td>\n      <td>0.6</td>\n      <td>05:00:07.4</td>\n      <td>05</td>\n      <td>00</td>\n      <td>07.4</td>\n    </tr>\n    <tr>\n      <th>313396</th>\n      <td>2021</td>\n      <td>APR</td>\n      <td>9</td>\n      <td>5</td>\n      <td>0</td>\n      <td>21.9</td>\n      <td>39.7920</td>\n      <td>21.9328</td>\n      <td>5</td>\n      <td>1.5</td>\n      <td>05:00:21.9</td>\n      <td>05</td>\n      <td>00</td>\n      <td>21.9</td>\n    </tr>\n    <tr>\n      <th>313397</th>\n      <td>2021</td>\n      <td>APR</td>\n      <td>9</td>\n      <td>5</td>\n      <td>1</td>\n      <td>6.5</td>\n      <td>39.7160</td>\n      <td>22.1947</td>\n      <td>8</td>\n      <td>1.0</td>\n      <td>05:01:06.5</td>\n      <td>05</td>\n      <td>01</td>\n      <td>06.5</td>\n    </tr>\n    <tr>\n      <th>313398</th>\n      <td>2021</td>\n      <td>APR</td>\n      <td>9</td>\n      <td>5</td>\n      <td>2</td>\n      <td>5.6</td>\n      <td>39.7929</td>\n      <td>21.9154</td>\n      <td>6</td>\n      <td>1.0</td>\n      <td>05:02:05.6</td>\n      <td>05</td>\n      <td>02</td>\n      <td>05.6</td>\n    </tr>\n    <tr>\n      <th>313399</th>\n      <td>2021</td>\n      <td>APR</td>\n      <td>9</td>\n      <td>5</td>\n      <td>15</td>\n      <td>5.0</td>\n      <td>39.8007</td>\n      <td>21.8948</td>\n      <td>7</td>\n      <td>1.2</td>\n      <td>05:15:05.0</td>\n      <td>05</td>\n      <td>15</td>\n      <td>05.0</td>\n    </tr>\n  </tbody>\n</table>\n<p>313400 rows × 14 columns</p>\n</div>"
     },
     "metadata": {},
     "execution_count": 34
    }
   ],
   "source": [
    "df"
   ]
  },
  {
   "cell_type": "code",
   "execution_count": 40,
   "metadata": {},
   "outputs": [],
   "source": [
    "df.drop(columns=['TIME_HOUR', 'TIME_MINUTE', 'TIME_SECOND'], inplace=True)"
   ]
  },
  {
   "cell_type": "code",
   "execution_count": 41,
   "metadata": {},
   "outputs": [
    {
     "output_type": "execute_result",
     "data": {
      "text/plain": [
       "        YEAR MONTH  DAY  HOUR  MINUTE  SECOND  LATITUDE  LONGITUDE  DEPTH  \\\n",
       "0       1964   FEB   24    23      30    25.0   38.9000    23.9000     10   \n",
       "1       1964   APR   11    16       0     0.0   39.7500    25.2500     10   \n",
       "2       1964   APR   21     8      14    40.0   38.5000    22.2500     10   \n",
       "3       1964   APR   24     3      49    58.0   38.0000    21.8000     10   \n",
       "4       1964   APR   29     4      21     0.0   39.2500    23.7500     10   \n",
       "...      ...   ...  ...   ...     ...     ...       ...        ...    ...   \n",
       "313395  2021   APR    9     5       0     7.4   39.7856    21.9081      5   \n",
       "313396  2021   APR    9     5       0    21.9   39.7920    21.9328      5   \n",
       "313397  2021   APR    9     5       1     6.5   39.7160    22.1947      8   \n",
       "313398  2021   APR    9     5       2     5.6   39.7929    21.9154      6   \n",
       "313399  2021   APR    9     5      15     5.0   39.8007    21.8948      7   \n",
       "\n",
       "        MAGNITUDE        TIME  \n",
       "0             5.3  23:30:25.0  \n",
       "1             5.7  16:00:00.0  \n",
       "2             4.5  08:14:40.0  \n",
       "3             5.0  03:49:58.0  \n",
       "4             5.8  04:21:00.0  \n",
       "...           ...         ...  \n",
       "313395        0.6  05:00:07.4  \n",
       "313396        1.5  05:00:21.9  \n",
       "313397        1.0  05:01:06.5  \n",
       "313398        1.0  05:02:05.6  \n",
       "313399        1.2  05:15:05.0  \n",
       "\n",
       "[313400 rows x 11 columns]"
      ],
      "text/html": "<div>\n<style scoped>\n    .dataframe tbody tr th:only-of-type {\n        vertical-align: middle;\n    }\n\n    .dataframe tbody tr th {\n        vertical-align: top;\n    }\n\n    .dataframe thead th {\n        text-align: right;\n    }\n</style>\n<table border=\"1\" class=\"dataframe\">\n  <thead>\n    <tr style=\"text-align: right;\">\n      <th></th>\n      <th>YEAR</th>\n      <th>MONTH</th>\n      <th>DAY</th>\n      <th>HOUR</th>\n      <th>MINUTE</th>\n      <th>SECOND</th>\n      <th>LATITUDE</th>\n      <th>LONGITUDE</th>\n      <th>DEPTH</th>\n      <th>MAGNITUDE</th>\n      <th>TIME</th>\n    </tr>\n  </thead>\n  <tbody>\n    <tr>\n      <th>0</th>\n      <td>1964</td>\n      <td>FEB</td>\n      <td>24</td>\n      <td>23</td>\n      <td>30</td>\n      <td>25.0</td>\n      <td>38.9000</td>\n      <td>23.9000</td>\n      <td>10</td>\n      <td>5.3</td>\n      <td>23:30:25.0</td>\n    </tr>\n    <tr>\n      <th>1</th>\n      <td>1964</td>\n      <td>APR</td>\n      <td>11</td>\n      <td>16</td>\n      <td>0</td>\n      <td>0.0</td>\n      <td>39.7500</td>\n      <td>25.2500</td>\n      <td>10</td>\n      <td>5.7</td>\n      <td>16:00:00.0</td>\n    </tr>\n    <tr>\n      <th>2</th>\n      <td>1964</td>\n      <td>APR</td>\n      <td>21</td>\n      <td>8</td>\n      <td>14</td>\n      <td>40.0</td>\n      <td>38.5000</td>\n      <td>22.2500</td>\n      <td>10</td>\n      <td>4.5</td>\n      <td>08:14:40.0</td>\n    </tr>\n    <tr>\n      <th>3</th>\n      <td>1964</td>\n      <td>APR</td>\n      <td>24</td>\n      <td>3</td>\n      <td>49</td>\n      <td>58.0</td>\n      <td>38.0000</td>\n      <td>21.8000</td>\n      <td>10</td>\n      <td>5.0</td>\n      <td>03:49:58.0</td>\n    </tr>\n    <tr>\n      <th>4</th>\n      <td>1964</td>\n      <td>APR</td>\n      <td>29</td>\n      <td>4</td>\n      <td>21</td>\n      <td>0.0</td>\n      <td>39.2500</td>\n      <td>23.7500</td>\n      <td>10</td>\n      <td>5.8</td>\n      <td>04:21:00.0</td>\n    </tr>\n    <tr>\n      <th>...</th>\n      <td>...</td>\n      <td>...</td>\n      <td>...</td>\n      <td>...</td>\n      <td>...</td>\n      <td>...</td>\n      <td>...</td>\n      <td>...</td>\n      <td>...</td>\n      <td>...</td>\n      <td>...</td>\n    </tr>\n    <tr>\n      <th>313395</th>\n      <td>2021</td>\n      <td>APR</td>\n      <td>9</td>\n      <td>5</td>\n      <td>0</td>\n      <td>7.4</td>\n      <td>39.7856</td>\n      <td>21.9081</td>\n      <td>5</td>\n      <td>0.6</td>\n      <td>05:00:07.4</td>\n    </tr>\n    <tr>\n      <th>313396</th>\n      <td>2021</td>\n      <td>APR</td>\n      <td>9</td>\n      <td>5</td>\n      <td>0</td>\n      <td>21.9</td>\n      <td>39.7920</td>\n      <td>21.9328</td>\n      <td>5</td>\n      <td>1.5</td>\n      <td>05:00:21.9</td>\n    </tr>\n    <tr>\n      <th>313397</th>\n      <td>2021</td>\n      <td>APR</td>\n      <td>9</td>\n      <td>5</td>\n      <td>1</td>\n      <td>6.5</td>\n      <td>39.7160</td>\n      <td>22.1947</td>\n      <td>8</td>\n      <td>1.0</td>\n      <td>05:01:06.5</td>\n    </tr>\n    <tr>\n      <th>313398</th>\n      <td>2021</td>\n      <td>APR</td>\n      <td>9</td>\n      <td>5</td>\n      <td>2</td>\n      <td>5.6</td>\n      <td>39.7929</td>\n      <td>21.9154</td>\n      <td>6</td>\n      <td>1.0</td>\n      <td>05:02:05.6</td>\n    </tr>\n    <tr>\n      <th>313399</th>\n      <td>2021</td>\n      <td>APR</td>\n      <td>9</td>\n      <td>5</td>\n      <td>15</td>\n      <td>5.0</td>\n      <td>39.8007</td>\n      <td>21.8948</td>\n      <td>7</td>\n      <td>1.2</td>\n      <td>05:15:05.0</td>\n    </tr>\n  </tbody>\n</table>\n<p>313400 rows × 11 columns</p>\n</div>"
     },
     "metadata": {},
     "execution_count": 41
    }
   ],
   "source": [
    "df"
   ]
  },
  {
   "cell_type": "code",
   "execution_count": 42,
   "metadata": {},
   "outputs": [],
   "source": [
    "df['DATE'] = df['YEAR'].astype(str) + \\\n",
    "    '-' + (((df['MONTH'].map(str.title)).replace({x:y for (y,x) in enumerate(list(calendar.month_abbr))})).map('{0:02}'.format)).astype(str) + \\\n",
    "        '-' + (df['DAY'].map('{0:02}'.format)).astype(str)"
   ]
  },
  {
   "cell_type": "code",
   "execution_count": 43,
   "metadata": {},
   "outputs": [
    {
     "output_type": "execute_result",
     "data": {
      "text/plain": [
       "        YEAR MONTH  DAY  HOUR  MINUTE  SECOND  LATITUDE  LONGITUDE  DEPTH  \\\n",
       "0       1964   FEB   24    23      30    25.0   38.9000    23.9000     10   \n",
       "1       1964   APR   11    16       0     0.0   39.7500    25.2500     10   \n",
       "2       1964   APR   21     8      14    40.0   38.5000    22.2500     10   \n",
       "3       1964   APR   24     3      49    58.0   38.0000    21.8000     10   \n",
       "4       1964   APR   29     4      21     0.0   39.2500    23.7500     10   \n",
       "...      ...   ...  ...   ...     ...     ...       ...        ...    ...   \n",
       "313395  2021   APR    9     5       0     7.4   39.7856    21.9081      5   \n",
       "313396  2021   APR    9     5       0    21.9   39.7920    21.9328      5   \n",
       "313397  2021   APR    9     5       1     6.5   39.7160    22.1947      8   \n",
       "313398  2021   APR    9     5       2     5.6   39.7929    21.9154      6   \n",
       "313399  2021   APR    9     5      15     5.0   39.8007    21.8948      7   \n",
       "\n",
       "        MAGNITUDE        TIME        DATE  \n",
       "0             5.3  23:30:25.0  1964-02-24  \n",
       "1             5.7  16:00:00.0  1964-04-11  \n",
       "2             4.5  08:14:40.0  1964-04-21  \n",
       "3             5.0  03:49:58.0  1964-04-24  \n",
       "4             5.8  04:21:00.0  1964-04-29  \n",
       "...           ...         ...         ...  \n",
       "313395        0.6  05:00:07.4  2021-04-09  \n",
       "313396        1.5  05:00:21.9  2021-04-09  \n",
       "313397        1.0  05:01:06.5  2021-04-09  \n",
       "313398        1.0  05:02:05.6  2021-04-09  \n",
       "313399        1.2  05:15:05.0  2021-04-09  \n",
       "\n",
       "[313400 rows x 12 columns]"
      ],
      "text/html": "<div>\n<style scoped>\n    .dataframe tbody tr th:only-of-type {\n        vertical-align: middle;\n    }\n\n    .dataframe tbody tr th {\n        vertical-align: top;\n    }\n\n    .dataframe thead th {\n        text-align: right;\n    }\n</style>\n<table border=\"1\" class=\"dataframe\">\n  <thead>\n    <tr style=\"text-align: right;\">\n      <th></th>\n      <th>YEAR</th>\n      <th>MONTH</th>\n      <th>DAY</th>\n      <th>HOUR</th>\n      <th>MINUTE</th>\n      <th>SECOND</th>\n      <th>LATITUDE</th>\n      <th>LONGITUDE</th>\n      <th>DEPTH</th>\n      <th>MAGNITUDE</th>\n      <th>TIME</th>\n      <th>DATE</th>\n    </tr>\n  </thead>\n  <tbody>\n    <tr>\n      <th>0</th>\n      <td>1964</td>\n      <td>FEB</td>\n      <td>24</td>\n      <td>23</td>\n      <td>30</td>\n      <td>25.0</td>\n      <td>38.9000</td>\n      <td>23.9000</td>\n      <td>10</td>\n      <td>5.3</td>\n      <td>23:30:25.0</td>\n      <td>1964-02-24</td>\n    </tr>\n    <tr>\n      <th>1</th>\n      <td>1964</td>\n      <td>APR</td>\n      <td>11</td>\n      <td>16</td>\n      <td>0</td>\n      <td>0.0</td>\n      <td>39.7500</td>\n      <td>25.2500</td>\n      <td>10</td>\n      <td>5.7</td>\n      <td>16:00:00.0</td>\n      <td>1964-04-11</td>\n    </tr>\n    <tr>\n      <th>2</th>\n      <td>1964</td>\n      <td>APR</td>\n      <td>21</td>\n      <td>8</td>\n      <td>14</td>\n      <td>40.0</td>\n      <td>38.5000</td>\n      <td>22.2500</td>\n      <td>10</td>\n      <td>4.5</td>\n      <td>08:14:40.0</td>\n      <td>1964-04-21</td>\n    </tr>\n    <tr>\n      <th>3</th>\n      <td>1964</td>\n      <td>APR</td>\n      <td>24</td>\n      <td>3</td>\n      <td>49</td>\n      <td>58.0</td>\n      <td>38.0000</td>\n      <td>21.8000</td>\n      <td>10</td>\n      <td>5.0</td>\n      <td>03:49:58.0</td>\n      <td>1964-04-24</td>\n    </tr>\n    <tr>\n      <th>4</th>\n      <td>1964</td>\n      <td>APR</td>\n      <td>29</td>\n      <td>4</td>\n      <td>21</td>\n      <td>0.0</td>\n      <td>39.2500</td>\n      <td>23.7500</td>\n      <td>10</td>\n      <td>5.8</td>\n      <td>04:21:00.0</td>\n      <td>1964-04-29</td>\n    </tr>\n    <tr>\n      <th>...</th>\n      <td>...</td>\n      <td>...</td>\n      <td>...</td>\n      <td>...</td>\n      <td>...</td>\n      <td>...</td>\n      <td>...</td>\n      <td>...</td>\n      <td>...</td>\n      <td>...</td>\n      <td>...</td>\n      <td>...</td>\n    </tr>\n    <tr>\n      <th>313395</th>\n      <td>2021</td>\n      <td>APR</td>\n      <td>9</td>\n      <td>5</td>\n      <td>0</td>\n      <td>7.4</td>\n      <td>39.7856</td>\n      <td>21.9081</td>\n      <td>5</td>\n      <td>0.6</td>\n      <td>05:00:07.4</td>\n      <td>2021-04-09</td>\n    </tr>\n    <tr>\n      <th>313396</th>\n      <td>2021</td>\n      <td>APR</td>\n      <td>9</td>\n      <td>5</td>\n      <td>0</td>\n      <td>21.9</td>\n      <td>39.7920</td>\n      <td>21.9328</td>\n      <td>5</td>\n      <td>1.5</td>\n      <td>05:00:21.9</td>\n      <td>2021-04-09</td>\n    </tr>\n    <tr>\n      <th>313397</th>\n      <td>2021</td>\n      <td>APR</td>\n      <td>9</td>\n      <td>5</td>\n      <td>1</td>\n      <td>6.5</td>\n      <td>39.7160</td>\n      <td>22.1947</td>\n      <td>8</td>\n      <td>1.0</td>\n      <td>05:01:06.5</td>\n      <td>2021-04-09</td>\n    </tr>\n    <tr>\n      <th>313398</th>\n      <td>2021</td>\n      <td>APR</td>\n      <td>9</td>\n      <td>5</td>\n      <td>2</td>\n      <td>5.6</td>\n      <td>39.7929</td>\n      <td>21.9154</td>\n      <td>6</td>\n      <td>1.0</td>\n      <td>05:02:05.6</td>\n      <td>2021-04-09</td>\n    </tr>\n    <tr>\n      <th>313399</th>\n      <td>2021</td>\n      <td>APR</td>\n      <td>9</td>\n      <td>5</td>\n      <td>15</td>\n      <td>5.0</td>\n      <td>39.8007</td>\n      <td>21.8948</td>\n      <td>7</td>\n      <td>1.2</td>\n      <td>05:15:05.0</td>\n      <td>2021-04-09</td>\n    </tr>\n  </tbody>\n</table>\n<p>313400 rows × 12 columns</p>\n</div>"
     },
     "metadata": {},
     "execution_count": 43
    }
   ],
   "source": [
    "df"
   ]
  },
  {
   "source": [
    "how to add a row:"
   ],
   "cell_type": "markdown",
   "metadata": {}
  },
  {
   "cell_type": "code",
   "execution_count": 49,
   "metadata": {},
   "outputs": [
    {
     "output_type": "execute_result",
     "data": {
      "text/plain": [
       "        YEAR MONTH  DAY  HOUR  MINUTE  SECOND  LATITUDE  LONGITUDE  DEPTH  \\\n",
       "0       1964   FEB   24  23.0    30.0    25.0   38.9000    23.9000   10.0   \n",
       "1       1964   APR   11  16.0     0.0     0.0   39.7500    25.2500   10.0   \n",
       "2       1964   APR   21   8.0    14.0    40.0   38.5000    22.2500   10.0   \n",
       "3       1964   APR   24   3.0    49.0    58.0   38.0000    21.8000   10.0   \n",
       "4       1964   APR   29   4.0    21.0     0.0   39.2500    23.7500   10.0   \n",
       "...      ...   ...  ...   ...     ...     ...       ...        ...    ...   \n",
       "313396  2021   APR    9   5.0     0.0    21.9   39.7920    21.9328    5.0   \n",
       "313397  2021   APR    9   5.0     1.0     6.5   39.7160    22.1947    8.0   \n",
       "313398  2021   APR    9   5.0     2.0     5.6   39.7929    21.9154    6.0   \n",
       "313399  2021   APR    9   5.0    15.0     5.0   39.8007    21.8948    7.0   \n",
       "313400  1983   JAN   17   NaN     NaN     NaN       NaN        NaN    NaN   \n",
       "\n",
       "        MAGNITUDE        TIME        DATE  \n",
       "0             5.3  23:30:25.0  1964-02-24  \n",
       "1             5.7  16:00:00.0  1964-04-11  \n",
       "2             4.5  08:14:40.0  1964-04-21  \n",
       "3             5.0  03:49:58.0  1964-04-24  \n",
       "4             5.8  04:21:00.0  1964-04-29  \n",
       "...           ...         ...         ...  \n",
       "313396        1.5  05:00:21.9  2021-04-09  \n",
       "313397        1.0  05:01:06.5  2021-04-09  \n",
       "313398        1.0  05:02:05.6  2021-04-09  \n",
       "313399        1.2  05:15:05.0  2021-04-09  \n",
       "313400        NaN         NaN         NaN  \n",
       "\n",
       "[313401 rows x 12 columns]"
      ],
      "text/html": "<div>\n<style scoped>\n    .dataframe tbody tr th:only-of-type {\n        vertical-align: middle;\n    }\n\n    .dataframe tbody tr th {\n        vertical-align: top;\n    }\n\n    .dataframe thead th {\n        text-align: right;\n    }\n</style>\n<table border=\"1\" class=\"dataframe\">\n  <thead>\n    <tr style=\"text-align: right;\">\n      <th></th>\n      <th>YEAR</th>\n      <th>MONTH</th>\n      <th>DAY</th>\n      <th>HOUR</th>\n      <th>MINUTE</th>\n      <th>SECOND</th>\n      <th>LATITUDE</th>\n      <th>LONGITUDE</th>\n      <th>DEPTH</th>\n      <th>MAGNITUDE</th>\n      <th>TIME</th>\n      <th>DATE</th>\n    </tr>\n  </thead>\n  <tbody>\n    <tr>\n      <th>0</th>\n      <td>1964</td>\n      <td>FEB</td>\n      <td>24</td>\n      <td>23.0</td>\n      <td>30.0</td>\n      <td>25.0</td>\n      <td>38.9000</td>\n      <td>23.9000</td>\n      <td>10.0</td>\n      <td>5.3</td>\n      <td>23:30:25.0</td>\n      <td>1964-02-24</td>\n    </tr>\n    <tr>\n      <th>1</th>\n      <td>1964</td>\n      <td>APR</td>\n      <td>11</td>\n      <td>16.0</td>\n      <td>0.0</td>\n      <td>0.0</td>\n      <td>39.7500</td>\n      <td>25.2500</td>\n      <td>10.0</td>\n      <td>5.7</td>\n      <td>16:00:00.0</td>\n      <td>1964-04-11</td>\n    </tr>\n    <tr>\n      <th>2</th>\n      <td>1964</td>\n      <td>APR</td>\n      <td>21</td>\n      <td>8.0</td>\n      <td>14.0</td>\n      <td>40.0</td>\n      <td>38.5000</td>\n      <td>22.2500</td>\n      <td>10.0</td>\n      <td>4.5</td>\n      <td>08:14:40.0</td>\n      <td>1964-04-21</td>\n    </tr>\n    <tr>\n      <th>3</th>\n      <td>1964</td>\n      <td>APR</td>\n      <td>24</td>\n      <td>3.0</td>\n      <td>49.0</td>\n      <td>58.0</td>\n      <td>38.0000</td>\n      <td>21.8000</td>\n      <td>10.0</td>\n      <td>5.0</td>\n      <td>03:49:58.0</td>\n      <td>1964-04-24</td>\n    </tr>\n    <tr>\n      <th>4</th>\n      <td>1964</td>\n      <td>APR</td>\n      <td>29</td>\n      <td>4.0</td>\n      <td>21.0</td>\n      <td>0.0</td>\n      <td>39.2500</td>\n      <td>23.7500</td>\n      <td>10.0</td>\n      <td>5.8</td>\n      <td>04:21:00.0</td>\n      <td>1964-04-29</td>\n    </tr>\n    <tr>\n      <th>...</th>\n      <td>...</td>\n      <td>...</td>\n      <td>...</td>\n      <td>...</td>\n      <td>...</td>\n      <td>...</td>\n      <td>...</td>\n      <td>...</td>\n      <td>...</td>\n      <td>...</td>\n      <td>...</td>\n      <td>...</td>\n    </tr>\n    <tr>\n      <th>313396</th>\n      <td>2021</td>\n      <td>APR</td>\n      <td>9</td>\n      <td>5.0</td>\n      <td>0.0</td>\n      <td>21.9</td>\n      <td>39.7920</td>\n      <td>21.9328</td>\n      <td>5.0</td>\n      <td>1.5</td>\n      <td>05:00:21.9</td>\n      <td>2021-04-09</td>\n    </tr>\n    <tr>\n      <th>313397</th>\n      <td>2021</td>\n      <td>APR</td>\n      <td>9</td>\n      <td>5.0</td>\n      <td>1.0</td>\n      <td>6.5</td>\n      <td>39.7160</td>\n      <td>22.1947</td>\n      <td>8.0</td>\n      <td>1.0</td>\n      <td>05:01:06.5</td>\n      <td>2021-04-09</td>\n    </tr>\n    <tr>\n      <th>313398</th>\n      <td>2021</td>\n      <td>APR</td>\n      <td>9</td>\n      <td>5.0</td>\n      <td>2.0</td>\n      <td>5.6</td>\n      <td>39.7929</td>\n      <td>21.9154</td>\n      <td>6.0</td>\n      <td>1.0</td>\n      <td>05:02:05.6</td>\n      <td>2021-04-09</td>\n    </tr>\n    <tr>\n      <th>313399</th>\n      <td>2021</td>\n      <td>APR</td>\n      <td>9</td>\n      <td>5.0</td>\n      <td>15.0</td>\n      <td>5.0</td>\n      <td>39.8007</td>\n      <td>21.8948</td>\n      <td>7.0</td>\n      <td>1.2</td>\n      <td>05:15:05.0</td>\n      <td>2021-04-09</td>\n    </tr>\n    <tr>\n      <th>313400</th>\n      <td>1983</td>\n      <td>JAN</td>\n      <td>17</td>\n      <td>NaN</td>\n      <td>NaN</td>\n      <td>NaN</td>\n      <td>NaN</td>\n      <td>NaN</td>\n      <td>NaN</td>\n      <td>NaN</td>\n      <td>NaN</td>\n      <td>NaN</td>\n    </tr>\n  </tbody>\n</table>\n<p>313401 rows × 12 columns</p>\n</div>"
     },
     "metadata": {},
     "execution_count": 49
    }
   ],
   "source": [
    "df.append({'YEAR': 1983, 'MONTH': 'JAN', 'DAY': 17}, ignore_index=True)"
   ]
  },
  {
   "cell_type": "code",
   "execution_count": 105,
   "metadata": {},
   "outputs": [],
   "source": [
    "df = df.append({'YEAR': 1983, 'MONTH': 'JAN', 'DAY': 17}, ignore_index=True)"
   ]
  },
  {
   "cell_type": "code",
   "execution_count": 106,
   "metadata": {},
   "outputs": [
    {
     "output_type": "execute_result",
     "data": {
      "text/plain": [
       "        YEAR MONTH  DAY  HOUR  MINUTE  SECOND  LATITUDE  LONGITUDE  DEPTH  \\\n",
       "0       1964   FEB   24  23.0    30.0    25.0   38.9000    23.9000   10.0   \n",
       "1       1964   APR   11  16.0     0.0     0.0   39.7500    25.2500   10.0   \n",
       "2       1964   APR   21   8.0    14.0    40.0   38.5000    22.2500   10.0   \n",
       "3       1964   APR   24   3.0    49.0    58.0   38.0000    21.8000   10.0   \n",
       "4       1964   APR   29   4.0    21.0     0.0   39.2500    23.7500   10.0   \n",
       "...      ...   ...  ...   ...     ...     ...       ...        ...    ...   \n",
       "313396  2021   APR    9   5.0     0.0    21.9   39.7920    21.9328    5.0   \n",
       "313397  2021   APR    9   5.0     1.0     6.5   39.7160    22.1947    8.0   \n",
       "313398  2021   APR    9   5.0     2.0     5.6   39.7929    21.9154    6.0   \n",
       "313399  2021   APR    9   5.0    15.0     5.0   39.8007    21.8948    7.0   \n",
       "313400  1983   JAN   17   NaN     NaN     NaN       NaN        NaN    NaN   \n",
       "\n",
       "        MAGNITUDE        TIME        DATE  \n",
       "0             5.3  23:30:25.0  1964-02-24  \n",
       "1             5.7  16:00:00.0  1964-04-11  \n",
       "2             4.5  08:14:40.0  1964-04-21  \n",
       "3             5.0  03:49:58.0  1964-04-24  \n",
       "4             5.8  04:21:00.0  1964-04-29  \n",
       "...           ...         ...         ...  \n",
       "313396        1.5  05:00:21.9  2021-04-09  \n",
       "313397        1.0  05:01:06.5  2021-04-09  \n",
       "313398        1.0  05:02:05.6  2021-04-09  \n",
       "313399        1.2  05:15:05.0  2021-04-09  \n",
       "313400        NaN         NaN         NaN  \n",
       "\n",
       "[313401 rows x 12 columns]"
      ],
      "text/html": "<div>\n<style scoped>\n    .dataframe tbody tr th:only-of-type {\n        vertical-align: middle;\n    }\n\n    .dataframe tbody tr th {\n        vertical-align: top;\n    }\n\n    .dataframe thead th {\n        text-align: right;\n    }\n</style>\n<table border=\"1\" class=\"dataframe\">\n  <thead>\n    <tr style=\"text-align: right;\">\n      <th></th>\n      <th>YEAR</th>\n      <th>MONTH</th>\n      <th>DAY</th>\n      <th>HOUR</th>\n      <th>MINUTE</th>\n      <th>SECOND</th>\n      <th>LATITUDE</th>\n      <th>LONGITUDE</th>\n      <th>DEPTH</th>\n      <th>MAGNITUDE</th>\n      <th>TIME</th>\n      <th>DATE</th>\n    </tr>\n  </thead>\n  <tbody>\n    <tr>\n      <th>0</th>\n      <td>1964</td>\n      <td>FEB</td>\n      <td>24</td>\n      <td>23.0</td>\n      <td>30.0</td>\n      <td>25.0</td>\n      <td>38.9000</td>\n      <td>23.9000</td>\n      <td>10.0</td>\n      <td>5.3</td>\n      <td>23:30:25.0</td>\n      <td>1964-02-24</td>\n    </tr>\n    <tr>\n      <th>1</th>\n      <td>1964</td>\n      <td>APR</td>\n      <td>11</td>\n      <td>16.0</td>\n      <td>0.0</td>\n      <td>0.0</td>\n      <td>39.7500</td>\n      <td>25.2500</td>\n      <td>10.0</td>\n      <td>5.7</td>\n      <td>16:00:00.0</td>\n      <td>1964-04-11</td>\n    </tr>\n    <tr>\n      <th>2</th>\n      <td>1964</td>\n      <td>APR</td>\n      <td>21</td>\n      <td>8.0</td>\n      <td>14.0</td>\n      <td>40.0</td>\n      <td>38.5000</td>\n      <td>22.2500</td>\n      <td>10.0</td>\n      <td>4.5</td>\n      <td>08:14:40.0</td>\n      <td>1964-04-21</td>\n    </tr>\n    <tr>\n      <th>3</th>\n      <td>1964</td>\n      <td>APR</td>\n      <td>24</td>\n      <td>3.0</td>\n      <td>49.0</td>\n      <td>58.0</td>\n      <td>38.0000</td>\n      <td>21.8000</td>\n      <td>10.0</td>\n      <td>5.0</td>\n      <td>03:49:58.0</td>\n      <td>1964-04-24</td>\n    </tr>\n    <tr>\n      <th>4</th>\n      <td>1964</td>\n      <td>APR</td>\n      <td>29</td>\n      <td>4.0</td>\n      <td>21.0</td>\n      <td>0.0</td>\n      <td>39.2500</td>\n      <td>23.7500</td>\n      <td>10.0</td>\n      <td>5.8</td>\n      <td>04:21:00.0</td>\n      <td>1964-04-29</td>\n    </tr>\n    <tr>\n      <th>...</th>\n      <td>...</td>\n      <td>...</td>\n      <td>...</td>\n      <td>...</td>\n      <td>...</td>\n      <td>...</td>\n      <td>...</td>\n      <td>...</td>\n      <td>...</td>\n      <td>...</td>\n      <td>...</td>\n      <td>...</td>\n    </tr>\n    <tr>\n      <th>313396</th>\n      <td>2021</td>\n      <td>APR</td>\n      <td>9</td>\n      <td>5.0</td>\n      <td>0.0</td>\n      <td>21.9</td>\n      <td>39.7920</td>\n      <td>21.9328</td>\n      <td>5.0</td>\n      <td>1.5</td>\n      <td>05:00:21.9</td>\n      <td>2021-04-09</td>\n    </tr>\n    <tr>\n      <th>313397</th>\n      <td>2021</td>\n      <td>APR</td>\n      <td>9</td>\n      <td>5.0</td>\n      <td>1.0</td>\n      <td>6.5</td>\n      <td>39.7160</td>\n      <td>22.1947</td>\n      <td>8.0</td>\n      <td>1.0</td>\n      <td>05:01:06.5</td>\n      <td>2021-04-09</td>\n    </tr>\n    <tr>\n      <th>313398</th>\n      <td>2021</td>\n      <td>APR</td>\n      <td>9</td>\n      <td>5.0</td>\n      <td>2.0</td>\n      <td>5.6</td>\n      <td>39.7929</td>\n      <td>21.9154</td>\n      <td>6.0</td>\n      <td>1.0</td>\n      <td>05:02:05.6</td>\n      <td>2021-04-09</td>\n    </tr>\n    <tr>\n      <th>313399</th>\n      <td>2021</td>\n      <td>APR</td>\n      <td>9</td>\n      <td>5.0</td>\n      <td>15.0</td>\n      <td>5.0</td>\n      <td>39.8007</td>\n      <td>21.8948</td>\n      <td>7.0</td>\n      <td>1.2</td>\n      <td>05:15:05.0</td>\n      <td>2021-04-09</td>\n    </tr>\n    <tr>\n      <th>313400</th>\n      <td>1983</td>\n      <td>JAN</td>\n      <td>17</td>\n      <td>NaN</td>\n      <td>NaN</td>\n      <td>NaN</td>\n      <td>NaN</td>\n      <td>NaN</td>\n      <td>NaN</td>\n      <td>NaN</td>\n      <td>NaN</td>\n      <td>NaN</td>\n    </tr>\n  </tbody>\n</table>\n<p>313401 rows × 12 columns</p>\n</div>"
     },
     "metadata": {},
     "execution_count": 106
    }
   ],
   "source": [
    "df"
   ]
  },
  {
   "cell_type": "code",
   "execution_count": 107,
   "metadata": {},
   "outputs": [],
   "source": [
    "filt = (df['YEAR'] == 1983) & (df['MONTH'] == 'JAN') & (df['DAY'] == 17) & (df['HOUR'].isnull())"
   ]
  },
  {
   "cell_type": "code",
   "execution_count": 108,
   "metadata": {},
   "outputs": [
    {
     "output_type": "execute_result",
     "data": {
      "text/plain": [
       "        YEAR MONTH  DAY  HOUR  MINUTE  SECOND  LATITUDE  LONGITUDE  DEPTH  \\\n",
       "313400  1983   JAN   17   NaN     NaN     NaN       NaN        NaN    NaN   \n",
       "\n",
       "        MAGNITUDE TIME DATE  \n",
       "313400        NaN  NaN  NaN  "
      ],
      "text/html": "<div>\n<style scoped>\n    .dataframe tbody tr th:only-of-type {\n        vertical-align: middle;\n    }\n\n    .dataframe tbody tr th {\n        vertical-align: top;\n    }\n\n    .dataframe thead th {\n        text-align: right;\n    }\n</style>\n<table border=\"1\" class=\"dataframe\">\n  <thead>\n    <tr style=\"text-align: right;\">\n      <th></th>\n      <th>YEAR</th>\n      <th>MONTH</th>\n      <th>DAY</th>\n      <th>HOUR</th>\n      <th>MINUTE</th>\n      <th>SECOND</th>\n      <th>LATITUDE</th>\n      <th>LONGITUDE</th>\n      <th>DEPTH</th>\n      <th>MAGNITUDE</th>\n      <th>TIME</th>\n      <th>DATE</th>\n    </tr>\n  </thead>\n  <tbody>\n    <tr>\n      <th>313400</th>\n      <td>1983</td>\n      <td>JAN</td>\n      <td>17</td>\n      <td>NaN</td>\n      <td>NaN</td>\n      <td>NaN</td>\n      <td>NaN</td>\n      <td>NaN</td>\n      <td>NaN</td>\n      <td>NaN</td>\n      <td>NaN</td>\n      <td>NaN</td>\n    </tr>\n  </tbody>\n</table>\n</div>"
     },
     "metadata": {},
     "execution_count": 108
    }
   ],
   "source": [
    "df[filt]"
   ]
  },
  {
   "cell_type": "code",
   "execution_count": 109,
   "metadata": {},
   "outputs": [
    {
     "output_type": "execute_result",
     "data": {
      "text/plain": [
       "        YEAR MONTH  DAY  HOUR  MINUTE  SECOND  LATITUDE  LONGITUDE  DEPTH  \\\n",
       "313400  1983   JAN   17   NaN     NaN     NaN       NaN        NaN    NaN   \n",
       "\n",
       "        MAGNITUDE TIME DATE  \n",
       "313400        NaN  NaN  NaN  "
      ],
      "text/html": "<div>\n<style scoped>\n    .dataframe tbody tr th:only-of-type {\n        vertical-align: middle;\n    }\n\n    .dataframe tbody tr th {\n        vertical-align: top;\n    }\n\n    .dataframe thead th {\n        text-align: right;\n    }\n</style>\n<table border=\"1\" class=\"dataframe\">\n  <thead>\n    <tr style=\"text-align: right;\">\n      <th></th>\n      <th>YEAR</th>\n      <th>MONTH</th>\n      <th>DAY</th>\n      <th>HOUR</th>\n      <th>MINUTE</th>\n      <th>SECOND</th>\n      <th>LATITUDE</th>\n      <th>LONGITUDE</th>\n      <th>DEPTH</th>\n      <th>MAGNITUDE</th>\n      <th>TIME</th>\n      <th>DATE</th>\n    </tr>\n  </thead>\n  <tbody>\n    <tr>\n      <th>313400</th>\n      <td>1983</td>\n      <td>JAN</td>\n      <td>17</td>\n      <td>NaN</td>\n      <td>NaN</td>\n      <td>NaN</td>\n      <td>NaN</td>\n      <td>NaN</td>\n      <td>NaN</td>\n      <td>NaN</td>\n      <td>NaN</td>\n      <td>NaN</td>\n    </tr>\n  </tbody>\n</table>\n</div>"
     },
     "metadata": {},
     "execution_count": 109
    }
   ],
   "source": [
    "df[filt]"
   ]
  },
  {
   "cell_type": "code",
   "execution_count": 110,
   "metadata": {},
   "outputs": [],
   "source": [
    "df.drop(index=df.loc[filt].index, inplace=True)"
   ]
  },
  {
   "cell_type": "code",
   "execution_count": 111,
   "metadata": {},
   "outputs": [
    {
     "output_type": "execute_result",
     "data": {
      "text/plain": [
       "        YEAR MONTH  DAY  HOUR  MINUTE  SECOND  LATITUDE  LONGITUDE  DEPTH  \\\n",
       "0       1964   FEB   24  23.0    30.0    25.0   38.9000    23.9000   10.0   \n",
       "1       1964   APR   11  16.0     0.0     0.0   39.7500    25.2500   10.0   \n",
       "2       1964   APR   21   8.0    14.0    40.0   38.5000    22.2500   10.0   \n",
       "3       1964   APR   24   3.0    49.0    58.0   38.0000    21.8000   10.0   \n",
       "4       1964   APR   29   4.0    21.0     0.0   39.2500    23.7500   10.0   \n",
       "...      ...   ...  ...   ...     ...     ...       ...        ...    ...   \n",
       "313395  2021   APR    9   5.0     0.0     7.4   39.7856    21.9081    5.0   \n",
       "313396  2021   APR    9   5.0     0.0    21.9   39.7920    21.9328    5.0   \n",
       "313397  2021   APR    9   5.0     1.0     6.5   39.7160    22.1947    8.0   \n",
       "313398  2021   APR    9   5.0     2.0     5.6   39.7929    21.9154    6.0   \n",
       "313399  2021   APR    9   5.0    15.0     5.0   39.8007    21.8948    7.0   \n",
       "\n",
       "        MAGNITUDE        TIME        DATE  \n",
       "0             5.3  23:30:25.0  1964-02-24  \n",
       "1             5.7  16:00:00.0  1964-04-11  \n",
       "2             4.5  08:14:40.0  1964-04-21  \n",
       "3             5.0  03:49:58.0  1964-04-24  \n",
       "4             5.8  04:21:00.0  1964-04-29  \n",
       "...           ...         ...         ...  \n",
       "313395        0.6  05:00:07.4  2021-04-09  \n",
       "313396        1.5  05:00:21.9  2021-04-09  \n",
       "313397        1.0  05:01:06.5  2021-04-09  \n",
       "313398        1.0  05:02:05.6  2021-04-09  \n",
       "313399        1.2  05:15:05.0  2021-04-09  \n",
       "\n",
       "[313400 rows x 12 columns]"
      ],
      "text/html": "<div>\n<style scoped>\n    .dataframe tbody tr th:only-of-type {\n        vertical-align: middle;\n    }\n\n    .dataframe tbody tr th {\n        vertical-align: top;\n    }\n\n    .dataframe thead th {\n        text-align: right;\n    }\n</style>\n<table border=\"1\" class=\"dataframe\">\n  <thead>\n    <tr style=\"text-align: right;\">\n      <th></th>\n      <th>YEAR</th>\n      <th>MONTH</th>\n      <th>DAY</th>\n      <th>HOUR</th>\n      <th>MINUTE</th>\n      <th>SECOND</th>\n      <th>LATITUDE</th>\n      <th>LONGITUDE</th>\n      <th>DEPTH</th>\n      <th>MAGNITUDE</th>\n      <th>TIME</th>\n      <th>DATE</th>\n    </tr>\n  </thead>\n  <tbody>\n    <tr>\n      <th>0</th>\n      <td>1964</td>\n      <td>FEB</td>\n      <td>24</td>\n      <td>23.0</td>\n      <td>30.0</td>\n      <td>25.0</td>\n      <td>38.9000</td>\n      <td>23.9000</td>\n      <td>10.0</td>\n      <td>5.3</td>\n      <td>23:30:25.0</td>\n      <td>1964-02-24</td>\n    </tr>\n    <tr>\n      <th>1</th>\n      <td>1964</td>\n      <td>APR</td>\n      <td>11</td>\n      <td>16.0</td>\n      <td>0.0</td>\n      <td>0.0</td>\n      <td>39.7500</td>\n      <td>25.2500</td>\n      <td>10.0</td>\n      <td>5.7</td>\n      <td>16:00:00.0</td>\n      <td>1964-04-11</td>\n    </tr>\n    <tr>\n      <th>2</th>\n      <td>1964</td>\n      <td>APR</td>\n      <td>21</td>\n      <td>8.0</td>\n      <td>14.0</td>\n      <td>40.0</td>\n      <td>38.5000</td>\n      <td>22.2500</td>\n      <td>10.0</td>\n      <td>4.5</td>\n      <td>08:14:40.0</td>\n      <td>1964-04-21</td>\n    </tr>\n    <tr>\n      <th>3</th>\n      <td>1964</td>\n      <td>APR</td>\n      <td>24</td>\n      <td>3.0</td>\n      <td>49.0</td>\n      <td>58.0</td>\n      <td>38.0000</td>\n      <td>21.8000</td>\n      <td>10.0</td>\n      <td>5.0</td>\n      <td>03:49:58.0</td>\n      <td>1964-04-24</td>\n    </tr>\n    <tr>\n      <th>4</th>\n      <td>1964</td>\n      <td>APR</td>\n      <td>29</td>\n      <td>4.0</td>\n      <td>21.0</td>\n      <td>0.0</td>\n      <td>39.2500</td>\n      <td>23.7500</td>\n      <td>10.0</td>\n      <td>5.8</td>\n      <td>04:21:00.0</td>\n      <td>1964-04-29</td>\n    </tr>\n    <tr>\n      <th>...</th>\n      <td>...</td>\n      <td>...</td>\n      <td>...</td>\n      <td>...</td>\n      <td>...</td>\n      <td>...</td>\n      <td>...</td>\n      <td>...</td>\n      <td>...</td>\n      <td>...</td>\n      <td>...</td>\n      <td>...</td>\n    </tr>\n    <tr>\n      <th>313395</th>\n      <td>2021</td>\n      <td>APR</td>\n      <td>9</td>\n      <td>5.0</td>\n      <td>0.0</td>\n      <td>7.4</td>\n      <td>39.7856</td>\n      <td>21.9081</td>\n      <td>5.0</td>\n      <td>0.6</td>\n      <td>05:00:07.4</td>\n      <td>2021-04-09</td>\n    </tr>\n    <tr>\n      <th>313396</th>\n      <td>2021</td>\n      <td>APR</td>\n      <td>9</td>\n      <td>5.0</td>\n      <td>0.0</td>\n      <td>21.9</td>\n      <td>39.7920</td>\n      <td>21.9328</td>\n      <td>5.0</td>\n      <td>1.5</td>\n      <td>05:00:21.9</td>\n      <td>2021-04-09</td>\n    </tr>\n    <tr>\n      <th>313397</th>\n      <td>2021</td>\n      <td>APR</td>\n      <td>9</td>\n      <td>5.0</td>\n      <td>1.0</td>\n      <td>6.5</td>\n      <td>39.7160</td>\n      <td>22.1947</td>\n      <td>8.0</td>\n      <td>1.0</td>\n      <td>05:01:06.5</td>\n      <td>2021-04-09</td>\n    </tr>\n    <tr>\n      <th>313398</th>\n      <td>2021</td>\n      <td>APR</td>\n      <td>9</td>\n      <td>5.0</td>\n      <td>2.0</td>\n      <td>5.6</td>\n      <td>39.7929</td>\n      <td>21.9154</td>\n      <td>6.0</td>\n      <td>1.0</td>\n      <td>05:02:05.6</td>\n      <td>2021-04-09</td>\n    </tr>\n    <tr>\n      <th>313399</th>\n      <td>2021</td>\n      <td>APR</td>\n      <td>9</td>\n      <td>5.0</td>\n      <td>15.0</td>\n      <td>5.0</td>\n      <td>39.8007</td>\n      <td>21.8948</td>\n      <td>7.0</td>\n      <td>1.2</td>\n      <td>05:15:05.0</td>\n      <td>2021-04-09</td>\n    </tr>\n  </tbody>\n</table>\n<p>313400 rows × 12 columns</p>\n</div>"
     },
     "metadata": {},
     "execution_count": 111
    }
   ],
   "source": [
    "df"
   ]
  },
  {
   "cell_type": "code",
   "execution_count": null,
   "metadata": {},
   "outputs": [],
   "source": []
  }
 ]
}